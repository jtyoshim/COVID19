{
 "cells": [
  {
   "cell_type": "code",
   "execution_count": 31,
   "metadata": {},
   "outputs": [
    {
     "name": "stdout",
     "output_type": "stream",
     "text": [
      "INFO: Pandarallel will run on 6 workers.\n",
      "INFO: Pandarallel will use Memory file system to transfer data between the main process and workers.\n"
     ]
    }
   ],
   "source": [
    "import pandas as pd\n",
    "import numpy as np\n",
    "try: \n",
    "    import geocoder\n",
    "    import geopandas as gpd\n",
    "    from pandarallel import pandarallel\n",
    "    pandarallel.initialize()\n",
    "except: \n",
    "    !pip install geocoder\n",
    "    !pip install geopandas\n",
    "    !pip install pandarallel\n",
    "import os\n",
    "data_dir = os.environ['HOME'] + '/dev/Projects/COVID/Data/'"
   ]
  },
  {
   "cell_type": "code",
   "execution_count": 43,
   "metadata": {},
   "outputs": [
    {
     "data": {
      "text/html": [
       "<div>\n",
       "<style scoped>\n",
       "    .dataframe tbody tr th:only-of-type {\n",
       "        vertical-align: middle;\n",
       "    }\n",
       "\n",
       "    .dataframe tbody tr th {\n",
       "        vertical-align: top;\n",
       "    }\n",
       "\n",
       "    .dataframe thead th {\n",
       "        text-align: right;\n",
       "    }\n",
       "</style>\n",
       "<table border=\"1\" class=\"dataframe\">\n",
       "  <thead>\n",
       "    <tr style=\"text-align: right;\">\n",
       "      <th></th>\n",
       "      <th>NAME</th>\n",
       "      <th>STATE_NAME</th>\n",
       "      <th>STATE_FIPS</th>\n",
       "      <th>CNTY_FIPS</th>\n",
       "      <th>FIPS</th>\n",
       "      <th>geometry</th>\n",
       "      <th>centroid</th>\n",
       "    </tr>\n",
       "  </thead>\n",
       "  <tbody>\n",
       "    <tr>\n",
       "      <th>0</th>\n",
       "      <td>Lake of the Woods</td>\n",
       "      <td>Minnesota</td>\n",
       "      <td>27</td>\n",
       "      <td>077</td>\n",
       "      <td>27077</td>\n",
       "      <td>POLYGON ((-95.34283 48.54668, -95.34105 48.715...</td>\n",
       "      <td>POINT (-94.90359 48.77171)</td>\n",
       "    </tr>\n",
       "    <tr>\n",
       "      <th>1</th>\n",
       "      <td>Ferry</td>\n",
       "      <td>Washington</td>\n",
       "      <td>53</td>\n",
       "      <td>019</td>\n",
       "      <td>53019</td>\n",
       "      <td>POLYGON ((-118.85163 47.94956, -118.84846 48.4...</td>\n",
       "      <td>POINT (-118.51830 48.46948)</td>\n",
       "    </tr>\n",
       "    <tr>\n",
       "      <th>2</th>\n",
       "      <td>Stevens</td>\n",
       "      <td>Washington</td>\n",
       "      <td>53</td>\n",
       "      <td>065</td>\n",
       "      <td>53065</td>\n",
       "      <td>POLYGON ((-117.43883 48.04412, -117.54219 48.0...</td>\n",
       "      <td>POINT (-117.85641 48.39581)</td>\n",
       "    </tr>\n",
       "    <tr>\n",
       "      <th>3</th>\n",
       "      <td>Okanogan</td>\n",
       "      <td>Washington</td>\n",
       "      <td>53</td>\n",
       "      <td>047</td>\n",
       "      <td>53047</td>\n",
       "      <td>POLYGON ((-118.97209 47.93915, -118.97406 47.9...</td>\n",
       "      <td>POINT (-119.74061 48.54831)</td>\n",
       "    </tr>\n",
       "    <tr>\n",
       "      <th>4</th>\n",
       "      <td>Pend Oreille</td>\n",
       "      <td>Washington</td>\n",
       "      <td>53</td>\n",
       "      <td>051</td>\n",
       "      <td>53051</td>\n",
       "      <td>POLYGON ((-117.43858 48.99992, -117.03205 48.9...</td>\n",
       "      <td>POINT (-117.27507 48.53271)</td>\n",
       "    </tr>\n",
       "    <tr>\n",
       "      <th>...</th>\n",
       "      <td>...</td>\n",
       "      <td>...</td>\n",
       "      <td>...</td>\n",
       "      <td>...</td>\n",
       "      <td>...</td>\n",
       "      <td>...</td>\n",
       "      <td>...</td>\n",
       "    </tr>\n",
       "    <tr>\n",
       "      <th>3136</th>\n",
       "      <td>Skagway-Hoonah-Angoon</td>\n",
       "      <td>Alaska</td>\n",
       "      <td>02</td>\n",
       "      <td>232</td>\n",
       "      <td>02232</td>\n",
       "      <td>MULTIPOLYGON (((-137.80952 58.71648, -137.4674...</td>\n",
       "      <td>POINT (-135.25244 58.26764)</td>\n",
       "    </tr>\n",
       "    <tr>\n",
       "      <th>3137</th>\n",
       "      <td>Yukon-Koyukuk</td>\n",
       "      <td>Alaska</td>\n",
       "      <td>02</td>\n",
       "      <td>290</td>\n",
       "      <td>02290</td>\n",
       "      <td>POLYGON ((-161.04770 62.20469, -160.99428 62.8...</td>\n",
       "      <td>POINT (-151.41146 65.50313)</td>\n",
       "    </tr>\n",
       "    <tr>\n",
       "      <th>3138</th>\n",
       "      <td>Southeast Fairbanks</td>\n",
       "      <td>Alaska</td>\n",
       "      <td>02</td>\n",
       "      <td>240</td>\n",
       "      <td>02240</td>\n",
       "      <td>POLYGON ((-146.96382 63.46070, -146.95735 64.2...</td>\n",
       "      <td>POINT (-143.22161 63.86773)</td>\n",
       "    </tr>\n",
       "    <tr>\n",
       "      <th>3139</th>\n",
       "      <td>Denali</td>\n",
       "      <td>Alaska</td>\n",
       "      <td>02</td>\n",
       "      <td>068</td>\n",
       "      <td>02068</td>\n",
       "      <td>POLYGON ((-152.98947 62.74900, -152.48773 63.1...</td>\n",
       "      <td>POINT (-149.96080 63.67882)</td>\n",
       "    </tr>\n",
       "    <tr>\n",
       "      <th>3140</th>\n",
       "      <td>Broomfield</td>\n",
       "      <td>Colorado</td>\n",
       "      <td>08</td>\n",
       "      <td>014</td>\n",
       "      <td>08014</td>\n",
       "      <td>POLYGON ((-105.05201 39.99761, -104.99139 40.0...</td>\n",
       "      <td>POINT (-105.06015 39.95156)</td>\n",
       "    </tr>\n",
       "  </tbody>\n",
       "</table>\n",
       "<p>3141 rows × 7 columns</p>\n",
       "</div>"
      ],
      "text/plain": [
       "                       NAME  STATE_NAME STATE_FIPS CNTY_FIPS   FIPS  \\\n",
       "0         Lake of the Woods   Minnesota         27       077  27077   \n",
       "1                     Ferry  Washington         53       019  53019   \n",
       "2                   Stevens  Washington         53       065  53065   \n",
       "3                  Okanogan  Washington         53       047  53047   \n",
       "4              Pend Oreille  Washington         53       051  53051   \n",
       "...                     ...         ...        ...       ...    ...   \n",
       "3136  Skagway-Hoonah-Angoon      Alaska         02       232  02232   \n",
       "3137          Yukon-Koyukuk      Alaska         02       290  02290   \n",
       "3138    Southeast Fairbanks      Alaska         02       240  02240   \n",
       "3139                 Denali      Alaska         02       068  02068   \n",
       "3140             Broomfield    Colorado         08       014  08014   \n",
       "\n",
       "                                               geometry  \\\n",
       "0     POLYGON ((-95.34283 48.54668, -95.34105 48.715...   \n",
       "1     POLYGON ((-118.85163 47.94956, -118.84846 48.4...   \n",
       "2     POLYGON ((-117.43883 48.04412, -117.54219 48.0...   \n",
       "3     POLYGON ((-118.97209 47.93915, -118.97406 47.9...   \n",
       "4     POLYGON ((-117.43858 48.99992, -117.03205 48.9...   \n",
       "...                                                 ...   \n",
       "3136  MULTIPOLYGON (((-137.80952 58.71648, -137.4674...   \n",
       "3137  POLYGON ((-161.04770 62.20469, -160.99428 62.8...   \n",
       "3138  POLYGON ((-146.96382 63.46070, -146.95735 64.2...   \n",
       "3139  POLYGON ((-152.98947 62.74900, -152.48773 63.1...   \n",
       "3140  POLYGON ((-105.05201 39.99761, -104.99139 40.0...   \n",
       "\n",
       "                         centroid  \n",
       "0      POINT (-94.90359 48.77171)  \n",
       "1     POINT (-118.51830 48.46948)  \n",
       "2     POINT (-117.85641 48.39581)  \n",
       "3     POINT (-119.74061 48.54831)  \n",
       "4     POINT (-117.27507 48.53271)  \n",
       "...                           ...  \n",
       "3136  POINT (-135.25244 58.26764)  \n",
       "3137  POINT (-151.41146 65.50313)  \n",
       "3138  POINT (-143.22161 63.86773)  \n",
       "3139  POINT (-149.96080 63.67882)  \n",
       "3140  POINT (-105.06015 39.95156)  \n",
       "\n",
       "[3141 rows x 7 columns]"
      ]
     },
     "execution_count": 43,
     "metadata": {},
     "output_type": "execute_result"
    }
   ],
   "source": [
    "df_counties_points = gpd.read_file(data_dir+'UScounties.shp')\n",
    "df_counties_points['centroid'] = df_counties_points['geometry'].centroid\n",
    "df_counties_points\n"
   ]
  },
  {
   "cell_type": "code",
   "execution_count": 29,
   "metadata": {},
   "outputs": [],
   "source": [
    "def geocode(x):\n",
    "    try:\n",
    "        res = geocoder.osm(x)\n",
    "        print(res.json['lat'], res.json['lng'])\n",
    "        return [res.json['lat'], res.json['lng']]\n",
    "    except:\n",
    "        return [np.nan,np.nan]\n",
    "\n",
    "def geocode_bbox(x):\n",
    "    res = geocoder.osm(x)\n",
    "    print(res.json['bbox'])\n",
    "    return res.json['bbox']"
   ]
  },
  {
   "cell_type": "code",
   "execution_count": 30,
   "metadata": {},
   "outputs": [
    {
     "name": "stdout",
     "output_type": "stream",
     "text": [
      "37.8652866 -84.576902\n",
      "40.4367866 -84.6109122\n",
      "34.8971655 -83.7182775\n",
      "32.5165255 -86.6319403\n",
      "31.6429346 -97.9715967\n",
      "36.6478735 -90.8887906\n",
      "37.8397984 -82.8159642\n",
      "36.2563401 -101.3621472\n",
      "40.0580258 -84.2236524\n",
      "32.396098 -82.5666186\n",
      "30.5677527 -87.7324392\n",
      "38.7877791 -90.6747372\n",
      "38.9252546 -84.5331967\n",
      "39.7157533 -81.1078783\n",
      "31.8589311 -85.4032078\n",
      "34.2510707 -99.7322571\n",
      "33.0237625 -85.0254022\n",
      "37.3521946 -82.9314574\n",
      "39.6837328 -84.2854817\n",
      "36.8934427 -83.8545725\n",
      "32.971079 -87.1227088\n",
      "37.5257936 -85.7027413\n",
      "37.1000973 -84.1148273\n",
      "33.9510169 -86.5702002\n",
      "30.3049642 -94.403904\n",
      "29.8119769 -95.3741247\n",
      "32.09929 -85.7091657\n",
      "32.5233959 -94.3982158\n",
      "31.7340713 -86.6754793\n",
      "33.7514505 -85.8315666\n",
      "35.8418438 -102.6145811\n",
      "32.8901658 -85.3866953\n",
      "34.1142554 -85.6004514\n"
     ]
    },
    {
     "name": "stderr",
     "output_type": "stream",
     "text": [
      "Status code Unknown from https://nominatim.openstreetmap.org/search: ERROR - HTTPSConnectionPool(host='nominatim.openstreetmap.org', port=443): Max retries exceeded with url: /search?q=St.+Clair+County%2C+Missouri%2C+USA&format=jsonv2&addressdetails=1&limit=1 (Caused by ConnectTimeoutError(<urllib3.connection.VerifiedHTTPSConnection object at 0x7f7084967668>, 'Connection to nominatim.openstreetmap.org timed out. (connect timeout=5.0)'))\n"
     ]
    },
    {
     "name": "stdout",
     "output_type": "stream",
     "text": [
      "32.8522565 -86.7032845\n",
      "37.88958 -90.1856637\n"
     ]
    },
    {
     "name": "stderr",
     "output_type": "stream",
     "text": [
      "Status code Unknown from https://nominatim.openstreetmap.org/search: ERROR - HTTPSConnectionPool(host='nominatim.openstreetmap.org', port=443): Max retries exceeded with url: /search?q=Turner+County%2C+Georgia%2C+USA&format=jsonv2&addressdetails=1&limit=1 (Caused by ConnectTimeoutError(<urllib3.connection.VerifiedHTTPSConnection object at 0x7f708495f550>, 'Connection to nominatim.openstreetmap.org timed out. (connect timeout=5.0)'))\n"
     ]
    },
    {
     "name": "stdout",
     "output_type": "stream",
     "text": [
      "31.9908095 -88.2821326\n",
      "37.7763775 -90.5089041\n"
     ]
    },
    {
     "name": "stderr",
     "output_type": "stream",
     "text": [
      "Status code Unknown from https://nominatim.openstreetmap.org/search: ERROR - HTTPSConnectionPool(host='nominatim.openstreetmap.org', port=443): Max retries exceeded with url: /search?q=Morgan+County%2C+Ohio%2C+USA&format=jsonv2&addressdetails=1&limit=1 (Caused by ConnectTimeoutError(<urllib3.connection.VerifiedHTTPSConnection object at 0x7f7085c78f98>, 'Connection to nominatim.openstreetmap.org timed out. (connect timeout=5.0)'))\n"
     ]
    },
    {
     "name": "stdout",
     "output_type": "stream",
     "text": [
      "38.6398744 -90.51881277501238\n",
      "32.6467914 -83.4351636\n",
      "39.1256186 -93.2300648\n"
     ]
    },
    {
     "name": "stderr",
     "output_type": "stream",
     "text": [
      "Status code Unknown from https://nominatim.openstreetmap.org/search: ERROR - HTTPSConnectionPool(host='nominatim.openstreetmap.org', port=443): Max retries exceeded with url: /search?q=Lawrence+County%2C+Kentucky%2C+USA&format=jsonv2&addressdetails=1&limit=1 (Caused by ConnectTimeoutError(<urllib3.connection.VerifiedHTTPSConnection object at 0x7f70847b59e8>, 'Connection to nominatim.openstreetmap.org timed out. (connect timeout=5.0)'))\n"
     ]
    },
    {
     "name": "stdout",
     "output_type": "stream",
     "text": [
      "40.4644896 -92.5152037\n",
      "34.8180274 -83.9903969\n",
      "40.4479304 -92.1527305\n",
      "32.8641062 -84.2904968\n",
      "34.7418605 -85.3209686\n",
      "37.0516647 -89.5523071\n",
      "37.1498052 -91.4328245\n",
      "33.762884 -83.740416\n",
      "39.8004535 -92.071021\n"
     ]
    },
    {
     "name": "stderr",
     "output_type": "stream",
     "text": [
      "Status code Unknown from https://nominatim.openstreetmap.org/search: ERROR - HTTPSConnectionPool(host='nominatim.openstreetmap.org', port=443): Max retries exceeded with url: /search?q=Haskell+County%2C+Texas%2C+USA&format=jsonv2&addressdetails=1&limit=1 (Caused by ConnectTimeoutError(<urllib3.connection.VerifiedHTTPSConnection object at 0x7f70847c7ac8>, 'Connection to nominatim.openstreetmap.org timed out. (connect timeout=5.0)'))\n"
     ]
    },
    {
     "name": "stdout",
     "output_type": "stream",
     "text": [
      "31.1727229 -82.4829338\n",
      "33.4120461 -82.694643\n",
      "36.8556646 -89.9451636\n",
      "32.9619979 -82.7748026\n",
      "31.5675304 -81.9131554\n",
      "32.050618 -84.5473105\n"
     ]
    },
    {
     "name": "stderr",
     "output_type": "stream",
     "text": [
      "Status code Unknown from https://nominatim.openstreetmap.org/search: ERROR - HTTPSConnectionPool(host='nominatim.openstreetmap.org', port=443): Max retries exceeded with url: /search?q=Clarke+County%2C+Alabama%2C+USA&format=jsonv2&addressdetails=1&limit=1 (Caused by ConnectTimeoutError(<urllib3.connection.VerifiedHTTPSConnection object at 0x7f7084960f28>, 'Connection to nominatim.openstreetmap.org timed out. (connect timeout=5.0)'))\n"
     ]
    },
    {
     "name": "stdout",
     "output_type": "stream",
     "text": [
      "32.112996 -82.7567324\n"
     ]
    },
    {
     "name": "stderr",
     "output_type": "stream",
     "text": [
      "Status code Unknown from https://nominatim.openstreetmap.org/search: ERROR - HTTPSConnectionPool(host='nominatim.openstreetmap.org', port=443): Max retries exceeded with url: /search?q=Morrow+County%2C+Ohio%2C+USA&format=jsonv2&addressdetails=1&limit=1 (Caused by ConnectTimeoutError(<urllib3.connection.VerifiedHTTPSConnection object at 0x7f708477c240>, 'Connection to nominatim.openstreetmap.org timed out. (connect timeout=5.0)'))\n"
     ]
    },
    {
     "name": "stdout",
     "output_type": "stream",
     "text": [
      "34.6322605 -83.7596041\n",
      "33.2423393 -85.819651\n",
      "34.7969288 -84.9745026\n",
      "33.6506958 -85.5017359\n"
     ]
    },
    {
     "name": "stderr",
     "output_type": "stream",
     "text": [
      "Status code Unknown from https://nominatim.openstreetmap.org/search: ERROR - HTTPSConnectionPool(host='nominatim.openstreetmap.org', port=443): Max retries exceeded with url: /search?q=Lee+County%2C+Kentucky%2C+USA&format=jsonv2&addressdetails=1&limit=1 (Caused by ConnectTimeoutError(<urllib3.connection.VerifiedHTTPSConnection object at 0x7f708479c358>, 'Connection to nominatim.openstreetmap.org timed out. (connect timeout=5.0)'))\n"
     ]
    },
    {
     "name": "stdout",
     "output_type": "stream",
     "text": [
      "31.3629619 -85.9870669\n",
      "37.082981 -83.3750732\n",
      "34.6473396 -87.7921769\n",
      "31.3966783 -86.9437104\n",
      "37.1208843 -82.8451698\n",
      "31.960784 -83.4379708\n"
     ]
    },
    {
     "name": "stderr",
     "output_type": "stream",
     "text": [
      "Status code Unknown from https://nominatim.openstreetmap.org/search: ERROR - HTTPSConnectionPool(host='nominatim.openstreetmap.org', port=443): Max retries exceeded with url: /search?q=Hays+County%2C+Texas%2C+USA&format=jsonv2&addressdetails=1&limit=1 (Caused by ConnectTimeoutError(<urllib3.connection.VerifiedHTTPSConnection object at 0x7f708477e4a8>, 'Connection to nominatim.openstreetmap.org timed out. (connect timeout=5.0)'))\n"
     ]
    },
    {
     "name": "stdout",
     "output_type": "stream",
     "text": [
      "38.5192128 -83.3400338\n",
      "33.7898432 -82.7385978\n",
      "35.8293476 -100.2564532\n",
      "32.7924994 -83.1623561\n"
     ]
    },
    {
     "name": "stderr",
     "output_type": "stream",
     "text": [
      "Status code Unknown from https://nominatim.openstreetmap.org/search: ERROR - HTTPSConnectionPool(host='nominatim.openstreetmap.org', port=443): Max retries exceeded with url: /search?q=Stone+County%2C+Missouri%2C+USA&format=jsonv2&addressdetails=1&limit=1 (Caused by ConnectTimeoutError(<urllib3.connection.VerifiedHTTPSConnection object at 0x7f70847b7cc0>, 'Connection to nominatim.openstreetmap.org timed out. (connect timeout=5.0)'))\n"
     ]
    },
    {
     "name": "stdout",
     "output_type": "stream",
     "text": [
      "37.4657952 -84.6573677\n",
      "40.1993002 -93.1140993\n",
      "36.6563729 -93.0665776\n",
      "37.1898627 -88.3343825\n"
     ]
    },
    {
     "name": "stderr",
     "output_type": "stream",
     "text": [
      "Status code Unknown from https://nominatim.openstreetmap.org/search: ERROR - HTTPSConnectionPool(host='nominatim.openstreetmap.org', port=443): Max retries exceeded with url: /search?q=Muskingum+County%2C+Ohio%2C+USA&format=jsonv2&addressdetails=1&limit=1 (Caused by ConnectTimeoutError(<urllib3.connection.VerifiedHTTPSConnection object at 0x7f708477c7b8>, 'Connection to nominatim.openstreetmap.org timed out. (connect timeout=5.0)'))\n"
     ]
    },
    {
     "name": "stdout",
     "output_type": "stream",
     "text": [
      "36.823707 -86.8833607\n",
      "32.182598 -95.7893178\n",
      "39.7517148 -81.4957347\n",
      "41.5421375 -83.213342\n",
      "36.9981232 -88.0658149\n",
      "37.3354601 -91.9808332\n",
      "41.1628401 -84.5902954\n",
      "37.8639924 -94.3800151\n",
      "39.6370289 -82.2044367\n"
     ]
    },
    {
     "name": "stderr",
     "output_type": "stream",
     "text": [
      "Status code Unknown from https://nominatim.openstreetmap.org/search: ERROR - HTTPSConnectionPool(host='nominatim.openstreetmap.org', port=443): Max retries exceeded with url: /search?q=Coosa+County%2C+Alabama%2C+USA&format=jsonv2&addressdetails=1&limit=1 (Caused by ConnectTimeoutError(<urllib3.connection.VerifiedHTTPSConnection object at 0x7f70847968d0>, 'Connection to nominatim.openstreetmap.org timed out. (connect timeout=5.0)'))\n"
     ]
    },
    {
     "name": "stdout",
     "output_type": "stream",
     "text": [
      "39.6725327 -83.0373284\n",
      "31.196549 -86.4597236\n",
      "39.1056387 -83.0611404\n",
      "41.1496775 -81.2082\n",
      "31.6809362 -86.3244009\n",
      "38.7535106 -91.1453948\n"
     ]
    },
    {
     "name": "stderr",
     "output_type": "stream",
     "text": [
      "Status code Unknown from https://nominatim.openstreetmap.org/search: ERROR - HTTPSConnectionPool(host='nominatim.openstreetmap.org', port=443): Max retries exceeded with url: /search?q=Worth+County%2C+Georgia%2C+USA&format=jsonv2&addressdetails=1&limit=1 (Caused by ConnectTimeoutError(<urllib3.connection.VerifiedHTTPSConnection object at 0x7f708479ea90>, 'Connection to nominatim.openstreetmap.org timed out. (connect timeout=5.0)'))\n"
     ]
    },
    {
     "name": "stdout",
     "output_type": "stream",
     "text": [
      "39.8125011 -84.6411162\n",
      "37.9559513 -90.879099\n",
      "41.0677672 -84.1686932\n",
      "19.6273325 -155.5645619\n",
      "37.1129133 -90.4809149\n",
      "21.468151 -157.960511\n",
      "21.1965413 -156.9666208\n"
     ]
    },
    {
     "name": "stderr",
     "output_type": "stream",
     "text": [
      "Status code Unknown from https://nominatim.openstreetmap.org/search: ERROR - HTTPSConnectionPool(host='nominatim.openstreetmap.org', port=443): Max retries exceeded with url: /search?q=Hidalgo+County%2C+Texas%2C+USA&format=jsonv2&addressdetails=1&limit=1 (Caused by ConnectTimeoutError(<urllib3.connection.VerifiedHTTPSConnection object at 0x7f70847a4cf8>, 'Connection to nominatim.openstreetmap.org timed out. (connect timeout=5.0)'))\n"
     ]
    },
    {
     "name": "stdout",
     "output_type": "stream",
     "text": [
      "22.0557204 -159.4945109\n",
      "31.9595085 -97.0881654\n",
      "20.7580586 -156.3105232\n"
     ]
    },
    {
     "name": "stderr",
     "output_type": "stream",
     "text": [
      "Status code Unknown from https://nominatim.openstreetmap.org/search: ERROR - HTTPSConnectionPool(host='nominatim.openstreetmap.org', port=443): Max retries exceeded with url: /search?q=McCracken+County%2C+Kentucky%2C+USA&format=jsonv2&addressdetails=1&limit=1 (Caused by ConnectTimeoutError(<urllib3.connection.VerifiedHTTPSConnection object at 0x7f708479c400>, 'Connection to nominatim.openstreetmap.org timed out. (connect timeout=5.0)'))\n"
     ]
    },
    {
     "name": "stdout",
     "output_type": "stream",
     "text": [
      "43.4136539 -116.2367421\n",
      "36.735774 -84.4960095\n",
      "44.8677448 -116.4572399\n",
      "42.6936188 -112.2506044\n",
      "37.5216272 -87.2594272\n",
      "33.5714311 -102.3110415\n",
      "32.4107555 -97.828282\n",
      "33.1368252 -95.5656578\n"
     ]
    },
    {
     "name": "stderr",
     "output_type": "stream",
     "text": [
      "Status code Unknown from https://nominatim.openstreetmap.org/search: ERROR - HTTPSConnectionPool(host='nominatim.openstreetmap.org', port=443): Max retries exceeded with url: /search?q=Cullman+County%2C+Alabama%2C+USA&format=jsonv2&addressdetails=1&limit=1 (Caused by ConnectTimeoutError(<urllib3.connection.VerifiedHTTPSConnection object at 0x7f7085c78f98>, 'Connection to nominatim.openstreetmap.org timed out. (connect timeout=5.0)'))\n"
     ]
    },
    {
     "name": "stdout",
     "output_type": "stream",
     "text": [
      "31.3378465 -95.390805\n",
      "37.7298081 -84.2974735\n"
     ]
    },
    {
     "name": "stderr",
     "output_type": "stream",
     "text": [
      "Status code Unknown from https://nominatim.openstreetmap.org/search: ERROR - HTTPSConnectionPool(host='nominatim.openstreetmap.org', port=443): Max retries exceeded with url: /search?q=Richland+County%2C+Ohio%2C+USA&format=jsonv2&addressdetails=1&limit=1 (Caused by ConnectTimeoutError(<urllib3.connection.VerifiedHTTPSConnection object at 0x7f708477cd30>, 'Connection to nominatim.openstreetmap.org timed out. (connect timeout=5.0)'))\n"
     ]
    },
    {
     "name": "stdout",
     "output_type": "stream",
     "text": [
      "32.3047833 -101.4271085\n",
      "37.6859873 -83.039044\n",
      "31.5388627 -105.4752945\n"
     ]
    },
    {
     "name": "stderr",
     "output_type": "stream",
     "text": [
      "Status code Unknown from https://nominatim.openstreetmap.org/search: ERROR - HTTPSConnectionPool(host='nominatim.openstreetmap.org', port=443): Max retries exceeded with url: /search?q=Webster+County%2C+Missouri%2C+USA&format=jsonv2&addressdetails=1&limit=1 (Caused by ConnectTimeoutError(<urllib3.connection.VerifiedHTTPSConnection object at 0x7f708479e470>, 'Connection to nominatim.openstreetmap.org timed out. (connect timeout=5.0)'))\n"
     ]
    },
    {
     "name": "stdout",
     "output_type": "stream",
     "text": [
      "33.1161567 -96.0808922\n",
      "40.4684837 -94.4176406\n",
      "35.8148236 -101.34844\n",
      "31.2931196 -100.980073\n",
      "37.2731008 -92.4765999\n",
      "37.5413747 -85.2650391\n",
      "33.2127019 -98.1639199\n",
      "36.8624306 -88.3264641\n",
      "28.9224028 -96.55561\n"
     ]
    },
    {
     "name": "stderr",
     "output_type": "stream",
     "text": [
      "Status code Unknown from https://nominatim.openstreetmap.org/search: ERROR - HTTPSConnectionPool(host='nominatim.openstreetmap.org', port=443): Max retries exceeded with url: /search?q=Bear+Lake+County%2C+Idaho%2C+USA&format=jsonv2&addressdetails=1&limit=1 (Caused by ConnectTimeoutError(<urllib3.connection.VerifiedHTTPSConnection object at 0x7f7085c78f98>, 'Connection to nominatim.openstreetmap.org timed out. (connect timeout=5.0)'))\n"
     ]
    },
    {
     "name": "stdout",
     "output_type": "stream",
     "text": [
      "30.7485258 -94.000884\n",
      "47.2162961 -116.6654616\n",
      "30.7018281 -104.1501698\n",
      "29.834772 -94.1704496\n",
      "43.1881598 -112.3598354\n"
     ]
    },
    {
     "name": "stderr",
     "output_type": "stream",
     "text": [
      "Status code Unknown from https://nominatim.openstreetmap.org/search: ERROR - HTTPSConnectionPool(host='nominatim.openstreetmap.org', port=443): Max retries exceeded with url: /search?q=Dale+County%2C+Alabama%2C+USA&format=jsonv2&addressdetails=1&limit=1 (Caused by ConnectTimeoutError(<urllib3.connection.VerifiedHTTPSConnection object at 0x7f70847b6dd8>, 'Connection to nominatim.openstreetmap.org timed out. (connect timeout=5.0)'))\n"
     ]
    },
    {
     "name": "stdout",
     "output_type": "stream",
     "text": [
      "37.8022242 -82.5077178\n",
      "32.3117968 -87.1046643\n",
      "34.4524349 -85.7662118\n"
     ]
    },
    {
     "name": "stderr",
     "output_type": "stream",
     "text": [
      "Status code Unknown from https://nominatim.openstreetmap.org/search: ERROR - HTTPSConnectionPool(host='nominatim.openstreetmap.org', port=443): Max retries exceeded with url: /search?q=Ross+County%2C+Ohio%2C+USA&format=jsonv2&addressdetails=1&limit=1 (Caused by ConnectTimeoutError(<urllib3.connection.VerifiedHTTPSConnection object at 0x7f70847bb7f0>, 'Connection to nominatim.openstreetmap.org timed out. (connect timeout=5.0)'))\n"
     ]
    },
    {
     "name": "stdout",
     "output_type": "stream",
     "text": [
      "32.5801231 -86.125195\n",
      "41.2951563 -83.1555438\n",
      "31.1168422 -87.1070947\n",
      "38.823448 -83.017141\n",
      "41.1343702 -83.1194199\n",
      "34.0371404 -86.022147\n",
      "40.3491604 -84.1593008\n",
      "33.7303493 -87.7419088\n"
     ]
    },
    {
     "name": "stderr",
     "output_type": "stream",
     "text": [
      "Status code Unknown from https://nominatim.openstreetmap.org/search: ERROR - HTTPSConnectionPool(host='nominatim.openstreetmap.org', port=443): Max retries exceeded with url: /search?q=St.+Louis+city%2C+Missouri%2C+USA&format=jsonv2&addressdetails=1&limit=1 (Caused by ConnectTimeoutError(<urllib3.connection.VerifiedHTTPSConnection object at 0x7f70847b70b8>, 'Connection to nominatim.openstreetmap.org timed out. (connect timeout=5.0)'))\n"
     ]
    },
    {
     "name": "stdout",
     "output_type": "stream",
     "text": [
      "34.440962 -87.8339064\n",
      "40.7214654 -81.4399734\n",
      "41.1457902 -81.5333603\n",
      "41.3068487 -80.7661017\n",
      "40.3759469 -81.464888\n",
      "45.1708403 -112.9537553\n",
      "40.3255937 -83.3676859\n"
     ]
    },
    {
     "name": "stderr",
     "output_type": "stream",
     "text": [
      "Status code Unknown from https://nominatim.openstreetmap.org/search: ERROR - HTTPSConnectionPool(host='nominatim.openstreetmap.org', port=443): Max retries exceeded with url: /search?q=Jim+Hogg+County%2C+Texas%2C+USA&format=jsonv2&addressdetails=1&limit=1 (Caused by ConnectTimeoutError(<urllib3.connection.VerifiedHTTPSConnection object at 0x7f70847c7080>, 'Connection to nominatim.openstreetmap.org timed out. (connect timeout=5.0)'))\n"
     ]
    },
    {
     "name": "stdout",
     "output_type": "stream",
     "text": [
      "45.4608548 -107.5152896\n"
     ]
    },
    {
     "name": "stderr",
     "output_type": "stream",
     "text": [
      "Status code Unknown from https://nominatim.openstreetmap.org/search: ERROR - HTTPSConnectionPool(host='nominatim.openstreetmap.org', port=443): Max retries exceeded with url: /search?q=Blaine+County%2C+Idaho%2C+USA&format=jsonv2&addressdetails=1&limit=1 (Caused by ConnectTimeoutError(<urllib3.connection.VerifiedHTTPSConnection object at 0x7f708495fe48>, 'Connection to nominatim.openstreetmap.org timed out. (connect timeout=5.0)'))\n"
     ]
    },
    {
     "name": "stdout",
     "output_type": "stream",
     "text": [
      "27.8067733 -98.1084601\n"
     ]
    },
    {
     "name": "stderr",
     "output_type": "stream",
     "text": [
      "Status code Unknown from https://nominatim.openstreetmap.org/search: ERROR - HTTPSConnectionPool(host='nominatim.openstreetmap.org', port=443): Max retries exceeded with url: /search?q=Mason+County%2C+Kentucky%2C+USA&format=jsonv2&addressdetails=1&limit=1 (Caused by ConnectTimeoutError(<urllib3.connection.VerifiedHTTPSConnection object at 0x7f70847b5208>, 'Connection to nominatim.openstreetmap.org timed out. (connect timeout=5.0)'))\n"
     ]
    },
    {
     "name": "stdout",
     "output_type": "stream",
     "text": [
      "32.3766071 -97.3568623\n",
      "37.9313371 -86.1902231\n",
      "37.9357602 -83.6014187\n",
      "32.7135946 -99.8606106\n",
      "40.8014651 -84.600988\n",
      "28.8791858 -97.9062893\n",
      "32.6199161 -96.2967512\n",
      "39.2744355 -82.4740302\n",
      "29.943885 -98.7258845\n"
     ]
    },
    {
     "name": "stderr",
     "output_type": "stream",
     "text": [
      "Status code Unknown from https://nominatim.openstreetmap.org/search: ERROR - HTTPSConnectionPool(host='nominatim.openstreetmap.org', port=443): Max retries exceeded with url: /search?q=Geneva+County%2C+Alabama%2C+USA&format=jsonv2&addressdetails=1&limit=1 (Caused by ConnectTimeoutError(<urllib3.connection.VerifiedHTTPSConnection object at 0x7f70847a49b0>, 'Connection to nominatim.openstreetmap.org timed out. (connect timeout=5.0)'))\n"
     ]
    },
    {
     "name": "stdout",
     "output_type": "stream",
     "text": [
      "39.4203978 -84.180897\n",
      "32.8620514 -87.9915392\n",
      "32.7412417 -87.6561668\n",
      "39.4782641 -81.5488945\n",
      "26.9205171 -97.7461361\n",
      "40.8615819 -81.9034617\n",
      "41.5018224 -84.5923785\n"
     ]
    },
    {
     "name": "stderr",
     "output_type": "stream",
     "text": [
      "Status code Unknown from https://nominatim.openstreetmap.org/search: ERROR - HTTPSConnectionPool(host='nominatim.openstreetmap.org', port=443): Max retries exceeded with url: /search?q=Blaine+County%2C+Montana%2C+USA&format=jsonv2&addressdetails=1&limit=1 (Caused by ConnectTimeoutError(<urllib3.connection.VerifiedHTTPSConnection object at 0x7f70847a7940>, 'Connection to nominatim.openstreetmap.org timed out. (connect timeout=5.0)'))\n",
      "Status code Unknown from https://nominatim.openstreetmap.org/search: ERROR - HTTPSConnectionPool(host='nominatim.openstreetmap.org', port=443): Max retries exceeded with url: /search?q=Boise+County%2C+Idaho%2C+USA&format=jsonv2&addressdetails=1&limit=1 (Caused by ConnectTimeoutError(<urllib3.connection.VerifiedHTTPSConnection object at 0x7f70847b5a90>, 'Connection to nominatim.openstreetmap.org timed out. (connect timeout=5.0)'))\n"
     ]
    },
    {
     "name": "stdout",
     "output_type": "stream",
     "text": [
      "41.2776661 -83.6643025\n",
      "46.3252827 -111.4969303\n",
      "48.2663565 -116.5952716\n",
      "45.2050058 -109.1434792\n",
      "40.865471 -83.2810539\n"
     ]
    },
    {
     "name": "stderr",
     "output_type": "stream",
     "text": [
      "Status code Unknown from https://nominatim.openstreetmap.org/search: ERROR - HTTPSConnectionPool(host='nominatim.openstreetmap.org', port=443): Max retries exceeded with url: /search?q=Mercer+County%2C+Kentucky%2C+USA&format=jsonv2&addressdetails=1&limit=1 (Caused by ConnectTimeoutError(<urllib3.connection.VerifiedHTTPSConnection object at 0x7f70847a6f28>, 'Connection to nominatim.openstreetmap.org timed out. (connect timeout=5.0)'))\n"
     ]
    },
    {
     "name": "stdout",
     "output_type": "stream",
     "text": [
      "43.3993844 -111.4752257\n",
      "36.9767017 -85.6254484\n",
      "36.699465 -85.7284653\n",
      "38.0372304 -83.9152368\n",
      "37.9198759 -83.2097119\n",
      "45.4812219 -104.5596687\n",
      "37.1984359 -87.1417319\n",
      "47.3271465 -111.3281242\n",
      "47.8835499 -110.367651\n",
      "46.2426088 -105.5692958\n"
     ]
    },
    {
     "name": "stderr",
     "output_type": "stream",
     "text": [
      "Status code Unknown from https://nominatim.openstreetmap.org/search: ERROR - HTTPSConnectionPool(host='nominatim.openstreetmap.org', port=443): Max retries exceeded with url: /search?q=Henry+County%2C+Alabama%2C+USA&format=jsonv2&addressdetails=1&limit=1 (Caused by ConnectTimeoutError(<urllib3.connection.VerifiedHTTPSConnection object at 0x7f70847b6860>, 'Connection to nominatim.openstreetmap.org timed out. (connect timeout=5.0)'))\n"
     ]
    },
    {
     "name": "stdout",
     "output_type": "stream",
     "text": [
      "48.7710629 -105.5123296\n"
     ]
    },
    {
     "name": "stderr",
     "output_type": "stream",
     "text": [
      "Status code Unknown from https://nominatim.openstreetmap.org/search: ERROR - HTTPSConnectionPool(host='nominatim.openstreetmap.org', port=443): Max retries exceeded with url: /search?q=Kent+County%2C+Texas%2C+USA&format=jsonv2&addressdetails=1&limit=1 (Caused by ConnectTimeoutError(<urllib3.connection.VerifiedHTTPSConnection object at 0x7f708477e550>, 'Connection to nominatim.openstreetmap.org timed out. (connect timeout=5.0)'))\n"
     ]
    },
    {
     "name": "stdout",
     "output_type": "stream",
     "text": [
      "47.2416708 -104.9259088\n",
      "31.1355603 -85.2654592\n",
      "46.0753795 -113.089332\n",
      "34.7692447 -85.9867941\n",
      "33.5228184 -86.9164513\n",
      "46.3291957 -104.4366483\n",
      "33.7490016 -88.1003689\n"
     ]
    },
    {
     "name": "stderr",
     "output_type": "stream",
     "text": [
      "Status code Unknown from https://nominatim.openstreetmap.org/search: ERROR - HTTPSConnectionPool(host='nominatim.openstreetmap.org', port=443): Max retries exceeded with url: /search?q=Adair+County%2C+Oklahoma%2C+USA&format=jsonv2&addressdetails=1&limit=1 (Caused by ConnectTimeoutError(<urllib3.connection.VerifiedHTTPSConnection object at 0x7f7085c7ceb8>, 'Connection to nominatim.openstreetmap.org timed out. (connect timeout=5.0)'))\n"
     ]
    },
    {
     "name": "stdout",
     "output_type": "stream",
     "text": [
      "34.9049555 -87.6747398\n"
     ]
    },
    {
     "name": "stderr",
     "output_type": "stream",
     "text": [
      "Status code Unknown from https://nominatim.openstreetmap.org/search: ERROR - HTTPSConnectionPool(host='nominatim.openstreetmap.org', port=443): Max retries exceeded with url: /search?q=Boundary+County%2C+Idaho%2C+USA&format=jsonv2&addressdetails=1&limit=1 (Caused by ConnectTimeoutError(<urllib3.connection.VerifiedHTTPSConnection object at 0x7f708479ec88>, 'Connection to nominatim.openstreetmap.org timed out. (connect timeout=5.0)'))\n"
     ]
    },
    {
     "name": "stdout",
     "output_type": "stream",
     "text": [
      "36.7201825 -98.3087911\n",
      "34.3284948 -96.017838\n",
      "36.7621116 -100.4904955\n"
     ]
    },
    {
     "name": "stderr",
     "output_type": "stream",
     "text": [
      "Status code Unknown from https://nominatim.openstreetmap.org/search: ERROR - HTTPSConnectionPool(host='nominatim.openstreetmap.org', port=443): Max retries exceeded with url: /search?q=Nelson+County%2C+Kentucky%2C+USA&format=jsonv2&addressdetails=1&limit=1 (Caused by ConnectTimeoutError(<urllib3.connection.VerifiedHTTPSConnection object at 0x7f70847b57f0>, 'Connection to nominatim.openstreetmap.org timed out. (connect timeout=5.0)'))\n"
     ]
    },
    {
     "name": "stdout",
     "output_type": "stream",
     "text": [
      "34.4776367 -87.3017331\n",
      "38.3287954 -84.0153581\n",
      "37.4757698 -86.8560639\n",
      "32.5814796 -85.3077038\n",
      "34.8342463 -86.9901321\n"
     ]
    },
    {
     "name": "stderr",
     "output_type": "stream",
     "text": [
      "Status code Unknown from https://nominatim.openstreetmap.org/search: ERROR - HTTPSConnectionPool(host='nominatim.openstreetmap.org', port=443): Max retries exceeded with url: /search?q=Kerr+County%2C+Texas%2C+USA&format=jsonv2&addressdetails=1&limit=1 (Caused by ConnectTimeoutError(<urllib3.connection.VerifiedHTTPSConnection object at 0x7f70847a4860>, 'Connection to nominatim.openstreetmap.org timed out. (connect timeout=5.0)'))\n"
     ]
    },
    {
     "name": "stdout",
     "output_type": "stream",
     "text": [
      "32.1088066 -86.6402541\n",
      "30.4744131 -99.8199792\n",
      "33.588178 -100.2178972\n"
     ]
    },
    {
     "name": "stderr",
     "output_type": "stream",
     "text": [
      "Status code Unknown from https://nominatim.openstreetmap.org/search: ERROR - HTTPSConnectionPool(host='nominatim.openstreetmap.org', port=443): Max retries exceeded with url: /search?q=Fergus+County%2C+Montana%2C+USA&format=jsonv2&addressdetails=1&limit=1 (Caused by ConnectTimeoutError(<urllib3.connection.VerifiedHTTPSConnection object at 0x7f70847b7208>, 'Connection to nominatim.openstreetmap.org timed out. (connect timeout=5.0)'))\n"
     ]
    },
    {
     "name": "stdout",
     "output_type": "stream",
     "text": [
      "29.326416 -100.4165707\n",
      "48.3840879 -113.972144\n",
      "27.3983129 -97.7485096\n",
      "45.4868491 -111.1967693\n"
     ]
    },
    {
     "name": "stderr",
     "output_type": "stream",
     "text": [
      "Status code Unknown from https://nominatim.openstreetmap.org/search: ERROR - HTTPSConnectionPool(host='nominatim.openstreetmap.org', port=443): Max retries exceeded with url: /search?q=Butte+County%2C+Idaho%2C+USA&format=jsonv2&addressdetails=1&limit=1 (Caused by ConnectTimeoutError(<urllib3.connection.VerifiedHTTPSConnection object at 0x7f708495f5c0>, 'Connection to nominatim.openstreetmap.org timed out. (connect timeout=5.0)'))\n"
     ]
    },
    {
     "name": "stdout",
     "output_type": "stream",
     "text": [
      "33.5871385 -99.7073621\n",
      "43.4064019 -114.8070143\n",
      "33.6383552 -95.582343\n",
      "34.0321667 -102.3429233\n",
      "43.6435692 -116.7017144\n"
     ]
    },
    {
     "name": "stderr",
     "output_type": "stream",
     "text": [
      "Status code Unknown from https://nominatim.openstreetmap.org/search: ERROR - HTTPSConnectionPool(host='nominatim.openstreetmap.org', port=443): Max retries exceeded with url: /search?q=Beckham+County%2C+Oklahoma%2C+USA&format=jsonv2&addressdetails=1&limit=1 (Caused by ConnectTimeoutError(<urllib3.connection.VerifiedHTTPSConnection object at 0x7f708477c2e8>, 'Connection to nominatim.openstreetmap.org timed out. (connect timeout=5.0)'))\n"
     ]
    },
    {
     "name": "stdout",
     "output_type": "stream",
     "text": [
      "42.780196 -111.6052607\n",
      "35.8970899 -98.4225961\n",
      "42.2219306 -113.5777087\n"
     ]
    },
    {
     "name": "stderr",
     "output_type": "stream",
     "text": [
      "Status code Unknown from https://nominatim.openstreetmap.org/search: ERROR - HTTPSConnectionPool(host='nominatim.openstreetmap.org', port=443): Max retries exceeded with url: /search?q=Oldham+County%2C+Kentucky%2C+USA&format=jsonv2&addressdetails=1&limit=1 (Caused by ConnectTimeoutError(<urllib3.connection.VerifiedHTTPSConnection object at 0x7f708479cc88>, 'Connection to nominatim.openstreetmap.org timed out. (connect timeout=5.0)'))\n"
     ]
    },
    {
     "name": "stdout",
     "output_type": "stream",
     "text": [
      "44.2761996 -112.361997\n",
      "33.95386 -96.3154827\n",
      "38.5303187 -84.819254\n",
      "37.4082295 -83.681994\n",
      "46.7108188 -115.658248\n"
     ]
    },
    {
     "name": "stderr",
     "output_type": "stream",
     "text": [
      "Status code Unknown from https://nominatim.openstreetmap.org/search: ERROR - HTTPSConnectionPool(host='nominatim.openstreetmap.org', port=443): Max retries exceeded with url: /search?q=Macon+County%2C+Alabama%2C+USA&format=jsonv2&addressdetails=1&limit=1 (Caused by ConnectTimeoutError(<urllib3.connection.VerifiedHTTPSConnection object at 0x7f7085283cf8>, 'Connection to nominatim.openstreetmap.org timed out. (connect timeout=5.0)'))\n"
     ]
    },
    {
     "name": "stdout",
     "output_type": "stream",
     "text": [
      "44.2339362 -114.2286662\n",
      "34.7736807 -86.5675095\n",
      "35.131317 -98.3797949\n",
      "35.5438102 -98.0031532\n",
      "38.6914606 -84.3689142\n"
     ]
    },
    {
     "name": "stderr",
     "output_type": "stream",
     "text": [
      "Status code Unknown from https://nominatim.openstreetmap.org/search: ERROR - HTTPSConnectionPool(host='nominatim.openstreetmap.org', port=443): Max retries exceeded with url: /search?q=Garfield+County%2C+Montana%2C+USA&format=jsonv2&addressdetails=1&limit=1 (Caused by ConnectTimeoutError(<urllib3.connection.VerifiedHTTPSConnection object at 0x7f7084967710>, 'Connection to nominatim.openstreetmap.org timed out. (connect timeout=5.0)'))\n"
     ]
    },
    {
     "name": "stdout",
     "output_type": "stream",
     "text": [
      "34.2330314 -97.2789479\n",
      "37.2203608 -83.1640699\n",
      "35.9158661 -94.9950063\n",
      "34.0246234 -95.52055\n"
     ]
    },
    {
     "name": "stderr",
     "output_type": "stream",
     "text": [
      "Status code Unknown from https://nominatim.openstreetmap.org/search: ERROR - HTTPSConnectionPool(host='nominatim.openstreetmap.org', port=443): Max retries exceeded with url: /search?q=Lampasas+County%2C+Texas%2C+USA&format=jsonv2&addressdetails=1&limit=1 (Caused by ConnectTimeoutError(<urllib3.connection.VerifiedHTTPSConnection object at 0x7f7084967828>, 'Connection to nominatim.openstreetmap.org timed out. (connect timeout=5.0)'))\n"
     ]
    },
    {
     "name": "stdout",
     "output_type": "stream",
     "text": [
      "28.3391148 -99.0982257\n",
      "36.7475509 -102.5402407\n",
      "29.3703333 -96.9334531\n",
      "35.2301869 -97.3109151\n",
      "34.5661009 -96.2944665\n",
      "30.3031353 -96.9588587\n",
      "34.6557505 -98.4485103\n",
      "31.2715127 -95.9953382\n",
      "30.0856736 -94.7856262\n",
      "34.2907874 -98.3750699\n"
     ]
    },
    {
     "name": "stderr",
     "output_type": "stream",
     "text": [
      "Status code Unknown from https://nominatim.openstreetmap.org/search: ERROR - HTTPSConnectionPool(host='nominatim.openstreetmap.org', port=443): Max retries exceeded with url: /search?q=Elmore+County%2C+Idaho%2C+USA&format=jsonv2&addressdetails=1&limit=1 (Caused by ConnectTimeoutError(<urllib3.connection.VerifiedHTTPSConnection object at 0x7f708479e278>, 'Connection to nominatim.openstreetmap.org timed out. (connect timeout=5.0)'))\n"
     ]
    },
    {
     "name": "stdout",
     "output_type": "stream",
     "text": [
      "36.7594037 -95.2053495\n"
     ]
    },
    {
     "name": "stderr",
     "output_type": "stream",
     "text": [
      "Status code Unknown from https://nominatim.openstreetmap.org/search: ERROR - HTTPSConnectionPool(host='nominatim.openstreetmap.org', port=443): Max retries exceeded with url: /search?q=Marengo+County%2C+Alabama%2C+USA&format=jsonv2&addressdetails=1&limit=1 (Caused by ConnectTimeoutError(<urllib3.connection.VerifiedHTTPSConnection object at 0x7f70847b6b70>, 'Connection to nominatim.openstreetmap.org timed out. (connect timeout=5.0)'))\n"
     ]
    },
    {
     "name": "stdout",
     "output_type": "stream",
     "text": [
      "35.8830723 -96.3835476\n",
      "34.1128132 -87.8544031\n",
      "34.3396046 -86.3301801\n"
     ]
    },
    {
     "name": "stderr",
     "output_type": "stream",
     "text": [
      "Status code Unknown from https://nominatim.openstreetmap.org/search: ERROR - HTTPSConnectionPool(host='nominatim.openstreetmap.org', port=443): Max retries exceeded with url: /search?q=Glacier+County%2C+Montana%2C+USA&format=jsonv2&addressdetails=1&limit=1 (Caused by ConnectTimeoutError(<urllib3.connection.VerifiedHTTPSConnection object at 0x7f708479e400>, 'Connection to nominatim.openstreetmap.org timed out. (connect timeout=5.0)'))\n"
     ]
    },
    {
     "name": "stdout",
     "output_type": "stream",
     "text": [
      "35.6286063 -99.0092034\n"
     ]
    },
    {
     "name": "stderr",
     "output_type": "stream",
     "text": [
      "Status code Unknown from https://nominatim.openstreetmap.org/search: ERROR - HTTPSConnectionPool(host='nominatim.openstreetmap.org', port=443): Max retries exceeded with url: /search?q=Pike+County%2C+Kentucky%2C+USA&format=jsonv2&addressdetails=1&limit=1 (Caused by ConnectTimeoutError(<urllib3.connection.VerifiedHTTPSConnection object at 0x7f7084964710>, 'Connection to nominatim.openstreetmap.org timed out. (connect timeout=5.0)'))\n"
     ]
    },
    {
     "name": "stdout",
     "output_type": "stream",
     "text": [
      "46.3040364 -109.1714312\n",
      "36.4118421 -94.8069453\n",
      "46.3944149 -113.4687025\n",
      "37.8192526 -83.8239902\n",
      "35.9795036 -98.9816579\n",
      "37.1124781 -84.593893\n",
      "38.513372 -84.0465647\n",
      "36.2468449 -99.7883601\n",
      "36.3735486 -97.7845975\n",
      "34.7258964 -97.3522579\n",
      "35.0507761 -97.8849251\n"
     ]
    },
    {
     "name": "stderr",
     "output_type": "stream",
     "text": [
      "Status code Unknown from https://nominatim.openstreetmap.org/search: ERROR - HTTPSConnectionPool(host='nominatim.openstreetmap.org', port=443): Max retries exceeded with url: /search?q=Limestone+County%2C+Texas%2C+USA&format=jsonv2&addressdetails=1&limit=1 (Caused by ConnectTimeoutError(<urllib3.connection.VerifiedHTTPSConnection object at 0x7f708477eeb8>, 'Connection to nominatim.openstreetmap.org timed out. (connect timeout=5.0)'))\n"
     ]
    },
    {
     "name": "stdout",
     "output_type": "stream",
     "text": [
      "36.7888817 -97.7824914\n"
     ]
    },
    {
     "name": "stderr",
     "output_type": "stream",
     "text": [
      "Status code Unknown from https://nominatim.openstreetmap.org/search: ERROR - HTTPSConnectionPool(host='nominatim.openstreetmap.org', port=443): Max retries exceeded with url: /search?q=Franklin+County%2C+Idaho%2C+USA&format=jsonv2&addressdetails=1&limit=1 (Caused by ConnectTimeoutError(<urllib3.connection.VerifiedHTTPSConnection object at 0x7f70847b5f60>, 'Connection to nominatim.openstreetmap.org timed out. (connect timeout=5.0)'))\n"
     ]
    },
    {
     "name": "stdout",
     "output_type": "stream",
     "text": [
      "37.3885959 -84.3254309\n",
      "36.2695629 -100.2711772\n",
      "44.2309391 -111.4218314\n",
      "44.0123019 -116.3846609\n",
      "38.1822638 -83.4039128\n",
      "37.0042935 -85.02549351714558\n"
     ]
    },
    {
     "name": "stderr",
     "output_type": "stream",
     "text": [
      "Status code Unknown from https://nominatim.openstreetmap.org/search: ERROR - HTTPSConnectionPool(host='nominatim.openstreetmap.org', port=443): Max retries exceeded with url: /search?q=Mobile+County%2C+Alabama%2C+USA&format=jsonv2&addressdetails=1&limit=1 (Caused by ConnectTimeoutError(<urllib3.connection.VerifiedHTTPSConnection object at 0x7f70849609e8>, 'Connection to nominatim.openstreetmap.org timed out. (connect timeout=5.0)'))\n"
     ]
    },
    {
     "name": "stdout",
     "output_type": "stream",
     "text": [
      "43.0031041 -114.8286924\n",
      "38.2776401 -84.5816131\n",
      "45.7680684 -115.5160723\n",
      "31.5593935 -87.3781004\n"
     ]
    },
    {
     "name": "stderr",
     "output_type": "stream",
     "text": [
      "Status code Unknown from https://nominatim.openstreetmap.org/search: ERROR - HTTPSConnectionPool(host='nominatim.openstreetmap.org', port=443): Max retries exceeded with url: /search?q=Hill+County%2C+Montana%2C+USA&format=jsonv2&addressdetails=1&limit=1 (Caused by ConnectTimeoutError(<urllib3.connection.VerifiedHTTPSConnection object at 0x7f70847b7198>, 'Connection to nominatim.openstreetmap.org timed out. (connect timeout=5.0)'))\n"
     ]
    },
    {
     "name": "stdout",
     "output_type": "stream",
     "text": [
      "38.2215625 -85.2111267\n",
      "43.8010248 -112.3498022\n",
      "32.1672192 -86.1999118\n",
      "42.702266 -114.2867043\n",
      "47.654857 -116.7162916\n",
      "36.73518 -86.5780102\n",
      "38.0237475 -85.3203899\n",
      "34.4296848 -86.8529584\n"
     ]
    },
    {
     "name": "stderr",
     "output_type": "stream",
     "text": [
      "Status code Unknown from https://nominatim.openstreetmap.org/search: ERROR - HTTPSConnectionPool(host='nominatim.openstreetmap.org', port=443): Max retries exceeded with url: /search?q=Greer+County%2C+Oklahoma%2C+USA&format=jsonv2&addressdetails=1&limit=1 (Caused by ConnectTimeoutError(<urllib3.connection.VerifiedHTTPSConnection object at 0x7f70847bb198>, 'Connection to nominatim.openstreetmap.org timed out. (connect timeout=5.0)'))\n"
     ]
    },
    {
     "name": "stdout",
     "output_type": "stream",
     "text": [
      "37.3396409 -85.3096607\n",
      "32.6421387 -87.2876639\n"
     ]
    },
    {
     "name": "stderr",
     "output_type": "stream",
     "text": [
      "Status code Unknown from https://nominatim.openstreetmap.org/search: ERROR - HTTPSConnectionPool(host='nominatim.openstreetmap.org', port=443): Max retries exceeded with url: /search?q=Live+Oak+County%2C+Texas%2C+USA&format=jsonv2&addressdetails=1&limit=1 (Caused by ConnectTimeoutError(<urllib3.connection.VerifiedHTTPSConnection object at 0x7f70847c7470>, 'Connection to nominatim.openstreetmap.org timed out. (connect timeout=5.0)'))\n"
     ]
    },
    {
     "name": "stdout",
     "output_type": "stream",
     "text": [
      "33.2948421 -88.1244034\n",
      "34.7486602 -99.8358205\n",
      "30.6663312 -98.6970374\n",
      "36.7804883 -99.6710032\n",
      "35.2084387 -95.1115771\n",
      "31.8364044 -103.5663536\n",
      "35.0458435 -96.2749675\n",
      "33.5831241 -101.818598\n"
     ]
    },
    {
     "name": "stderr",
     "output_type": "stream",
     "text": [
      "Status code Unknown from https://nominatim.openstreetmap.org/search: ERROR - HTTPSConnectionPool(host='nominatim.openstreetmap.org', port=443): Max retries exceeded with url: /search?q=Jefferson+County%2C+Montana%2C+USA&format=jsonv2&addressdetails=1&limit=1 (Caused by ConnectTimeoutError(<urllib3.connection.VerifiedHTTPSConnection object at 0x7f7084967d68>, 'Connection to nominatim.openstreetmap.org timed out. (connect timeout=5.0)'))\n"
     ]
    },
    {
     "name": "stdout",
     "output_type": "stream",
     "text": [
      "33.1474257 -101.812592\n",
      "47.0159821 -110.2261158\n",
      "31.1699604 -99.3885277\n",
      "31.5487691 -97.2189254\n",
      "47.7142864 -114.1204325\n"
     ]
    },
    {
     "name": "stderr",
     "output_type": "stream",
     "text": [
      "Status code Unknown from https://nominatim.openstreetmap.org/search: ERROR - HTTPSConnectionPool(host='nominatim.openstreetmap.org', port=443): Max retries exceeded with url: /search?q=Latah+County%2C+Idaho%2C+USA&format=jsonv2&addressdetails=1&limit=1 (Caused by ConnectTimeoutError(<urllib3.connection.VerifiedHTTPSConnection object at 0x7f70847a5828>, 'Connection to nominatim.openstreetmap.org timed out. (connect timeout=5.0)'))\n"
     ]
    },
    {
     "name": "stdout",
     "output_type": "stream",
     "text": [
      "34.5976018 -99.4370196\n",
      "47.2117026 -112.4768049\n",
      "34.1234448 -97.8379641\n",
      "48.5608235 -111.0465825\n",
      "34.31888 -96.6752298\n"
     ]
    },
    {
     "name": "stderr",
     "output_type": "stream",
     "text": [
      "Status code Unknown from https://nominatim.openstreetmap.org/search: ERROR - HTTPSConnectionPool(host='nominatim.openstreetmap.org', port=443): Max retries exceeded with url: /search?q=Todd+County%2C+Kentucky%2C+USA&format=jsonv2&addressdetails=1&limit=1 (Caused by ConnectTimeoutError(<urllib3.connection.VerifiedHTTPSConnection object at 0x7f70847aaf28>, 'Connection to nominatim.openstreetmap.org timed out. (connect timeout=5.0)'))\n"
     ]
    },
    {
     "name": "stdout",
     "output_type": "stream",
     "text": [
      "36.8384462 -97.1571626\n",
      "36.7949221 -87.8782433\n"
     ]
    },
    {
     "name": "stderr",
     "output_type": "stream",
     "text": [
      "Status code Unknown from https://nominatim.openstreetmap.org/search: ERROR - HTTPSConnectionPool(host='nominatim.openstreetmap.org', port=443): Max retries exceeded with url: /search?q=Pike+County%2C+Alabama%2C+USA&format=jsonv2&addressdetails=1&limit=1 (Caused by ConnectTimeoutError(<urllib3.connection.VerifiedHTTPSConnection object at 0x7f7084960518>, 'Connection to nominatim.openstreetmap.org timed out. (connect timeout=5.0)'))\n"
     ]
    },
    {
     "name": "stdout",
     "output_type": "stream",
     "text": [
      "38.5984202 -85.3221506\n",
      "33.2651763 -85.4693961\n",
      "32.2698458 -85.1959487\n",
      "48.5891095 -115.4911526\n",
      "47.5823259 -105.8467942\n",
      "33.7086407 -86.3364\n",
      "45.2963203 -111.8930287\n",
      "33.2503347 -86.6639746\n",
      "32.5234698 -88.1837986\n",
      "46.6305891 -110.8988278\n",
      "33.3967079 -86.1597137\n"
     ]
    },
    {
     "name": "stderr",
     "output_type": "stream",
     "text": [
      "Status code Unknown from https://nominatim.openstreetmap.org/search: ERROR - HTTPSConnectionPool(host='nominatim.openstreetmap.org', port=443): Max retries exceeded with url: /search?q=McMullen+County%2C+Texas%2C+USA&format=jsonv2&addressdetails=1&limit=1 (Caused by ConnectTimeoutError(<urllib3.connection.VerifiedHTTPSConnection object at 0x7f708477e550>, 'Connection to nominatim.openstreetmap.org timed out. (connect timeout=5.0)'))\n"
     ]
    },
    {
     "name": "stdout",
     "output_type": "stream",
     "text": [
      "47.1330265 -114.9202341\n"
     ]
    },
    {
     "name": "stderr",
     "output_type": "stream",
     "text": [
      "Status code Unknown from https://nominatim.openstreetmap.org/search: ERROR - HTTPSConnectionPool(host='nominatim.openstreetmap.org', port=443): Max retries exceeded with url: /search?q=Lemhi+County%2C+Idaho%2C+USA&format=jsonv2&addressdetails=1&limit=1 (Caused by ConnectTimeoutError(<urllib3.connection.VerifiedHTTPSConnection object at 0x7f708495fa90>, 'Connection to nominatim.openstreetmap.org timed out. (connect timeout=5.0)'))\n"
     ]
    },
    {
     "name": "stdout",
     "output_type": "stream",
     "text": [
      "30.9551586 -95.9507234\n",
      "46.2651949 -116.4050453\n",
      "43.0138672 -114.1650584\n",
      "32.7931661 -94.344488\n",
      "32.2675039 -101.9190317\n",
      "32.8595687 -85.8023774\n",
      "30.705029 -99.2233284\n"
     ]
    },
    {
     "name": "stderr",
     "output_type": "stream",
     "text": [
      "Status code Unknown from https://nominatim.openstreetmap.org/search: ERROR - HTTPSConnectionPool(host='nominatim.openstreetmap.org', port=443): Max retries exceeded with url: /search?q=Kingfisher+County%2C+Oklahoma%2C+USA&format=jsonv2&addressdetails=1&limit=1 (Caused by ConnectTimeoutError(<urllib3.connection.VerifiedHTTPSConnection object at 0x7f708477ceb8>, 'Connection to nominatim.openstreetmap.org timed out. (connect timeout=5.0)'))\n"
     ]
    },
    {
     "name": "stdout",
     "output_type": "stream",
     "text": [
      "28.8879823 -96.0035095\n",
      "34.9425062 -99.019906\n"
     ]
    },
    {
     "name": "stderr",
     "output_type": "stream",
     "text": [
      "Status code Unknown from https://nominatim.openstreetmap.org/search: ERROR - HTTPSConnectionPool(host='nominatim.openstreetmap.org', port=443): Max retries exceeded with url: /search?q=Union+County%2C+Kentucky%2C+USA&format=jsonv2&addressdetails=1&limit=1 (Caused by ConnectTimeoutError(<urllib3.connection.VerifiedHTTPSConnection object at 0x7f70847aa630>, 'Connection to nominatim.openstreetmap.org timed out. (connect timeout=5.0)'))\n"
     ]
    },
    {
     "name": "stdout",
     "output_type": "stream",
     "text": [
      "28.792861 -100.3110817\n",
      "36.9812407 -86.4233533\n",
      "37.7310874 -85.1750475\n",
      "29.2836281 -99.1126826\n",
      "30.8573562 -99.8320637\n",
      "31.83688 -102.0103767\n",
      "30.7626867 -96.9981706\n",
      "31.4861082 -98.5527272\n"
     ]
    },
    {
     "name": "stderr",
     "output_type": "stream",
     "text": [
      "Status code Unknown from https://nominatim.openstreetmap.org/search: ERROR - HTTPSConnectionPool(host='nominatim.openstreetmap.org', port=443): Max retries exceeded with url: /search?q=Missoula+County%2C+Montana%2C+USA&format=jsonv2&addressdetails=1&limit=1 (Caused by ConnectTimeoutError(<urllib3.connection.VerifiedHTTPSConnection object at 0x7f7085c7cda0>, 'Connection to nominatim.openstreetmap.org timed out. (connect timeout=5.0)'))\n"
     ]
    },
    {
     "name": "stdout",
     "output_type": "stream",
     "text": [
      "32.2898049 -100.9213003\n",
      "46.4728903 -108.4473635\n",
      "33.6205753 -97.7215754\n",
      "45.5027347 -110.52981\n"
     ]
    },
    {
     "name": "stderr",
     "output_type": "stream",
     "text": [
      "Status code Unknown from https://nominatim.openstreetmap.org/search: ERROR - HTTPSConnectionPool(host='nominatim.openstreetmap.org', port=443): Max retries exceeded with url: /search?q=Madison+County%2C+Idaho%2C+USA&format=jsonv2&addressdetails=1&limit=1 (Caused by ConnectTimeoutError(<urllib3.connection.VerifiedHTTPSConnection object at 0x7f70847b5080>, 'Connection to nominatim.openstreetmap.org timed out. (connect timeout=5.0)'))\n"
     ]
    },
    {
     "name": "stdout",
     "output_type": "stream",
     "text": [
      "42.844092 -113.6059588\n",
      "46.3959861 -116.8072307\n"
     ]
    },
    {
     "name": "stderr",
     "output_type": "stream",
     "text": [
      "Status code Unknown from https://nominatim.openstreetmap.org/search: ERROR - HTTPSConnectionPool(host='nominatim.openstreetmap.org', port=443): Max retries exceeded with url: /search?q=Tuscaloosa+County%2C+Alabama%2C+USA&format=jsonv2&addressdetails=1&limit=1 (Caused by ConnectTimeoutError(<urllib3.connection.VerifiedHTTPSConnection object at 0x7f70847a4240>, 'Connection to nominatim.openstreetmap.org timed out. (connect timeout=5.0)'))\n"
     ]
    },
    {
     "name": "stdout",
     "output_type": "stream",
     "text": [
      "33.7804491 -87.2767248\n"
     ]
    },
    {
     "name": "stderr",
     "output_type": "stream",
     "text": [
      "Status code Unknown from https://nominatim.openstreetmap.org/search: ERROR - HTTPSConnectionPool(host='nominatim.openstreetmap.org', port=443): Max retries exceeded with url: /search?q=Latimer+County%2C+Oklahoma%2C+USA&format=jsonv2&addressdetails=1&limit=1 (Caused by ConnectTimeoutError(<urllib3.connection.VerifiedHTTPSConnection object at 0x7f708477c588>, 'Connection to nominatim.openstreetmap.org timed out. (connect timeout=5.0)'))\n"
     ]
    },
    {
     "name": "stdout",
     "output_type": "stream",
     "text": [
      "31.3991238 -88.2019828\n"
     ]
    },
    {
     "name": "stderr",
     "output_type": "stream",
     "text": [
      "Status code Unknown from https://nominatim.openstreetmap.org/search: ERROR - HTTPSConnectionPool(host='nominatim.openstreetmap.org', port=443): Max retries exceeded with url: /search?q=Wayne+County%2C+Kentucky%2C+USA&format=jsonv2&addressdetails=1&limit=1 (Caused by ConnectTimeoutError(<urllib3.connection.VerifiedHTTPSConnection object at 0x7f7085c7cc88>, 'Connection to nominatim.openstreetmap.org timed out. (connect timeout=5.0)'))\n"
     ]
    },
    {
     "name": "stdout",
     "output_type": "stream",
     "text": [
      "31.9523021 -87.3005169\n",
      "34.8782244 -94.6852153\n",
      "42.1628627 -112.5703083\n",
      "37.5139929 -87.6650997\n",
      "34.1328863 -87.361354\n",
      "42.4677336 -116.1590085\n",
      "44.0374651 -116.7651123\n",
      "36.7324324 -84.1512134\n",
      "42.6769078 -112.8869775\n",
      "47.305486 -115.9583164\n",
      "35.6961464 -96.8898429\n",
      "55.0512443 -162.8916892\n",
      "35.8879493 -97.4621935\n"
     ]
    },
    {
     "name": "stderr",
     "output_type": "stream",
     "text": [
      "Status code Unknown from https://nominatim.openstreetmap.org/search: ERROR - HTTPSConnectionPool(host='nominatim.openstreetmap.org', port=443): Max retries exceeded with url: /search?q=Montgomery+County%2C+Texas%2C+USA&format=jsonv2&addressdetails=1&limit=1 (Caused by ConnectTimeoutError(<urllib3.connection.VerifiedHTTPSConnection object at 0x7f70847a4f98>, 'Connection to nominatim.openstreetmap.org timed out. (connect timeout=5.0)'))\n"
     ]
    },
    {
     "name": "stdout",
     "output_type": "stream",
     "text": [
      "51.5672222 178.8776\n"
     ]
    },
    {
     "name": "stderr",
     "output_type": "stream",
     "text": [
      "Status code Unknown from https://nominatim.openstreetmap.org/search: ERROR - HTTPSConnectionPool(host='nominatim.openstreetmap.org', port=443): Max retries exceeded with url: /search?q=Petroleum+County%2C+Montana%2C+USA&format=jsonv2&addressdetails=1&limit=1 (Caused by ConnectTimeoutError(<urllib3.connection.VerifiedHTTPSConnection object at 0x7f70847a7630>, 'Connection to nominatim.openstreetmap.org timed out. (connect timeout=5.0)'))\n"
     ]
    },
    {
     "name": "stdout",
     "output_type": "stream",
     "text": [
      "61.2163129 -149.8948523\n",
      "33.9852998 -97.2526992\n",
      "48.3541037 -107.9275256\n",
      "60.392415 -162.31349066487257\n",
      "48.2443094 -112.1206742\n",
      "58.7370341 -156.8753867\n",
      "63.878678 -149.650166\n",
      "45.3655661 -105.5982213\n",
      "59.9011107 -158.2016852\n",
      "46.9109569 -113.0294193\n",
      "46.8103971 -105.3390398\n",
      "64.8649039 -146.7751619\n",
      "59.0831232 -135.3430573\n"
     ]
    },
    {
     "name": "stderr",
     "output_type": "stream",
     "text": [
      "Status code Unknown from https://nominatim.openstreetmap.org/search: ERROR - HTTPSConnectionPool(host='nominatim.openstreetmap.org', port=443): Max retries exceeded with url: /search?q=Wolfe+County%2C+Kentucky%2C+USA&format=jsonv2&addressdetails=1&limit=1 (Caused by ConnectTimeoutError(<urllib3.connection.VerifiedHTTPSConnection object at 0x7f7085c78f98>, 'Connection to nominatim.openstreetmap.org timed out. (connect timeout=5.0)'))\n"
     ]
    },
    {
     "name": "stdout",
     "output_type": "stream",
     "text": [
      "58.064782 -135.6992375472804\n"
     ]
    },
    {
     "name": "stderr",
     "output_type": "stream",
     "text": [
      "Status code Unknown from https://nominatim.openstreetmap.org/search: ERROR - HTTPSConnectionPool(host='nominatim.openstreetmap.org', port=443): Max retries exceeded with url: /search?q=Teton+County%2C+Idaho%2C+USA&format=jsonv2&addressdetails=1&limit=1 (Caused by ConnectTimeoutError(<urllib3.connection.VerifiedHTTPSConnection object at 0x7f708479e710>, 'Connection to nominatim.openstreetmap.org timed out. (connect timeout=5.0)'))\n"
     ]
    },
    {
     "name": "stdout",
     "output_type": "stream",
     "text": [
      "58.3019496 -134.419734\n",
      "60.0968272 -151.788033\n"
     ]
    },
    {
     "name": "stderr",
     "output_type": "stream",
     "text": [
      "Status code Unknown from https://nominatim.openstreetmap.org/search: ERROR - HTTPSConnectionPool(host='nominatim.openstreetmap.org', port=443): Max retries exceeded with url: /search?q=Moore+County%2C+Texas%2C+USA&format=jsonv2&addressdetails=1&limit=1 (Caused by ConnectTimeoutError(<urllib3.connection.VerifiedHTTPSConnection object at 0x7f708477e748>, 'Connection to nominatim.openstreetmap.org timed out. (connect timeout=5.0)'))\n"
     ]
    },
    {
     "name": "stdout",
     "output_type": "stream",
     "text": [
      "55.489748 -131.011963\n",
      "42.2728777 -114.6971949\n",
      "44.7475094 -115.5978843\n"
     ]
    },
    {
     "name": "stderr",
     "output_type": "stream",
     "text": [
      "Status code Unknown from https://nominatim.openstreetmap.org/search: ERROR - HTTPSConnectionPool(host='nominatim.openstreetmap.org', port=443): Max retries exceeded with url: /search?q=McClain+County%2C+Oklahoma%2C+USA&format=jsonv2&addressdetails=1&limit=1 (Caused by ConnectTimeoutError(<urllib3.connection.VerifiedHTTPSConnection object at 0x7f70847bb7b8>, 'Connection to nominatim.openstreetmap.org timed out. (connect timeout=5.0)'))\n"
     ]
    },
    {
     "name": "stdout",
     "output_type": "stream",
     "text": [
      "33.0738633 -94.7392197\n",
      "34.1450295 -94.7802324\n",
      "34.0395459 -100.7744062\n",
      "35.3630353 -95.6680554\n",
      "36.2860458 -98.4995602\n",
      "31.5970503 -94.5927451\n",
      "34.0497884 -96.7808049\n",
      "32.0279525 -96.4985456\n",
      "30.8118989 -93.740504\n"
     ]
    },
    {
     "name": "stderr",
     "output_type": "stream",
     "text": [
      "Status code Unknown from https://nominatim.openstreetmap.org/search: ERROR - HTTPSConnectionPool(host='nominatim.openstreetmap.org', port=443): Max retries exceeded with url: /search?q=Ravalli+County%2C+Montana%2C+USA&format=jsonv2&addressdetails=1&limit=1 (Caused by ConnectTimeoutError(<urllib3.connection.VerifiedHTTPSConnection object at 0x7f7085c7cda0>, 'Connection to nominatim.openstreetmap.org timed out. (connect timeout=5.0)'))\n"
     ]
    },
    {
     "name": "stdout",
     "output_type": "stream",
     "text": [
      "36.3047676 -95.2355722\n",
      "47.8314138 -104.559421\n",
      "34.4935341 -97.0475803\n",
      "48.3069516 -104.9709901\n"
     ]
    },
    {
     "name": "stderr",
     "output_type": "stream",
     "text": [
      "Status code Unknown from https://nominatim.openstreetmap.org/search: ERROR - HTTPSConnectionPool(host='nominatim.openstreetmap.org', port=443): Max retries exceeded with url: /search?q=Woodford+County%2C+Kentucky%2C+USA&format=jsonv2&addressdetails=1&limit=1 (Caused by ConnectTimeoutError(<urllib3.connection.VerifiedHTTPSConnection object at 0x7f70847b59e8>, 'Connection to nominatim.openstreetmap.org timed out. (connect timeout=5.0)'))\n"
     ]
    },
    {
     "name": "stdout",
     "output_type": "stream",
     "text": [
      "46.3894251 -106.6296053\n",
      "30.2740735 -92.3957036\n",
      "47.6801812 -115.1769538\n",
      "48.7625919 -104.5154683\n",
      "30.6558242 -92.8598049\n"
     ]
    },
    {
     "name": "stderr",
     "output_type": "stream",
     "text": [
      "Status code Unknown from https://nominatim.openstreetmap.org/search: ERROR - HTTPSConnectionPool(host='nominatim.openstreetmap.org', port=443): Max retries exceeded with url: /search?q=Kodiak+Island+Borough%2C+Alaska%2C+USA&format=jsonv2&addressdetails=1&limit=1 (Caused by ConnectTimeoutError(<urllib3.connection.VerifiedHTTPSConnection object at 0x7f7084960e10>, 'Connection to nominatim.openstreetmap.org timed out. (connect timeout=5.0)'))\n"
     ]
    },
    {
     "name": "stdout",
     "output_type": "stream",
     "text": [
      "35.6630196 -95.3927706\n"
     ]
    },
    {
     "name": "stderr",
     "output_type": "stream",
     "text": [
      "Status code Unknown from https://nominatim.openstreetmap.org/search: ERROR - HTTPSConnectionPool(host='nominatim.openstreetmap.org', port=443): Max retries exceeded with url: /search?q=Washington+County%2C+Idaho%2C+USA&format=jsonv2&addressdetails=1&limit=1 (Caused by ConnectTimeoutError(<urllib3.connection.VerifiedHTTPSConnection object at 0x7f70847b5e80>, 'Connection to nominatim.openstreetmap.org timed out. (connect timeout=5.0)'))\n"
     ]
    },
    {
     "name": "stdout",
     "output_type": "stream",
     "text": [
      "36.4129621 -97.2681939\n",
      "30.2116442 -90.9186104\n",
      "36.7798848 -95.6226184\n",
      "29.9185432 -91.0533996\n",
      "31.0471604 -92.0019698\n",
      "35.4655548 -96.3102089\n",
      "30.6144496 -93.3416829\n",
      "32.3231432 -93.0761115\n",
      "39.9787786 -91.2110065\n",
      "37.1801529 -89.3502834\n"
     ]
    },
    {
     "name": "stderr",
     "output_type": "stream",
     "text": [
      "Status code Unknown from https://nominatim.openstreetmap.org/search: ERROR - HTTPSConnectionPool(host='nominatim.openstreetmap.org', port=443): Max retries exceeded with url: /search?q=Nolan+County%2C+Texas%2C+USA&format=jsonv2&addressdetails=1&limit=1 (Caused by ConnectTimeoutError(<urllib3.connection.VerifiedHTTPSConnection object at 0x7f7084967940>, 'Connection to nominatim.openstreetmap.org timed out. (connect timeout=5.0)'))\n"
     ]
    },
    {
     "name": "stdout",
     "output_type": "stream",
     "text": [
      "32.6676663 -93.5959786\n",
      "32.529173 -93.8931785\n",
      "30.2232015 -93.3434067\n",
      "32.0820785 -92.1130105\n",
      "29.888055 -93.1843025\n",
      "38.8630331 -89.4391416\n"
     ]
    },
    {
     "name": "stderr",
     "output_type": "stream",
     "text": [
      "Status code Unknown from https://nominatim.openstreetmap.org/search: ERROR - HTTPSConnectionPool(host='nominatim.openstreetmap.org', port=443): Max retries exceeded with url: /search?q=Silver+Bow+County%2C+Montana%2C+USA&format=jsonv2&addressdetails=1&limit=1 (Caused by ConnectTimeoutError(<urllib3.connection.VerifiedHTTPSConnection object at 0x7f708479eb00>, 'Connection to nominatim.openstreetmap.org timed out. (connect timeout=5.0)'))\n"
     ]
    },
    {
     "name": "stdout",
     "output_type": "stream",
     "text": [
      "31.7294681 -91.8487107\n",
      "42.321246 -88.8235511\n"
     ]
    },
    {
     "name": "stderr",
     "output_type": "stream",
     "text": [
      "Status code Unknown from https://nominatim.openstreetmap.org/search: ERROR - HTTPSConnectionPool(host='nominatim.openstreetmap.org', port=443): Max retries exceeded with url: /search?q=Kusilvak+Census+Area%2C+Alaska%2C+USA&format=jsonv2&addressdetails=1&limit=1 (Caused by ConnectTimeoutError(<urllib3.connection.VerifiedHTTPSConnection object at 0x7f70847a4748>, 'Connection to nominatim.openstreetmap.org timed out. (connect timeout=5.0)'))\n"
     ]
    },
    {
     "name": "stdout",
     "output_type": "stream",
     "text": [
      "45.6540259 -109.3579352\n",
      "58.3277109 -156.154765\n",
      "32.8218607 -93.0097229\n",
      "45.8729386 -109.9503947\n",
      "62.3402481 -149.4793288\n",
      "31.3941887 -91.6714379\n",
      "39.9498214 -90.7485656\n"
     ]
    },
    {
     "name": "stderr",
     "output_type": "stream",
     "text": [
      "Status code Unknown from https://nominatim.openstreetmap.org/search: ERROR - HTTPSConnectionPool(host='nominatim.openstreetmap.org', port=443): Max retries exceeded with url: /search?q=Oklahoma+County%2C+Oklahoma%2C+USA&format=jsonv2&addressdetails=1&limit=1 (Caused by ConnectTimeoutError(<urllib3.connection.VerifiedHTTPSConnection object at 0x7f708477c4a8>, 'Connection to nominatim.openstreetmap.org timed out. (connect timeout=5.0)'))\n"
     ]
    },
    {
     "name": "stdout",
     "output_type": "stream",
     "text": [
      "32.0195388 -93.7488946\n",
      "41.4016294 -89.5341179\n",
      "39.1397507 -90.6506113\n",
      "35.6677078 -95.9690122\n"
     ]
    },
    {
     "name": "stderr",
     "output_type": "stream",
     "text": [
      "Status code Unknown from https://nominatim.openstreetmap.org/search: ERROR - HTTPSConnectionPool(host='nominatim.openstreetmap.org', port=443): Max retries exceeded with url: /search?q=Nueces+County%2C+Texas%2C+USA&format=jsonv2&addressdetails=1&limit=1 (Caused by ConnectTimeoutError(<urllib3.connection.VerifiedHTTPSConnection object at 0x7f708477e7f0>, 'Connection to nominatim.openstreetmap.org timed out. (connect timeout=5.0)'))\n"
     ]
    },
    {
     "name": "stdout",
     "output_type": "stream",
     "text": [
      "36.6189659 -96.401338\n",
      "36.2559217 -100.8138152\n",
      "35.3907651 -102.6193428\n",
      "30.5254797 -91.0899217\n",
      "32.6949938 -91.2605142\n",
      "42.0647352 -89.9556785\n",
      "30.8462165 -91.0405799\n",
      "39.9682127 -90.250722\n",
      "40.1346857 -88.1975558\n",
      "30.6976776 -92.4217813\n",
      "39.5212598 -89.2829783\n",
      "32.1254252 -91.6778053\n",
      "31.5748918 -92.5730029\n"
     ]
    },
    {
     "name": "stderr",
     "output_type": "stream",
     "text": [
      "Status code Unknown from https://nominatim.openstreetmap.org/search: ERROR - HTTPSConnectionPool(host='nominatim.openstreetmap.org', port=443): Max retries exceeded with url: /search?q=Teton+County%2C+Montana%2C+USA&format=jsonv2&addressdetails=1&limit=1 (Caused by ConnectTimeoutError(<urllib3.connection.VerifiedHTTPSConnection object at 0x7f70849675c0>, 'Connection to nominatim.openstreetmap.org timed out. (connect timeout=5.0)'))\n"
     ]
    },
    {
     "name": "stdout",
     "output_type": "stream",
     "text": [
      "39.3260541 -87.7838526\n"
     ]
    },
    {
     "name": "stderr",
     "output_type": "stream",
     "text": [
      "Status code Unknown from https://nominatim.openstreetmap.org/search: ERROR - HTTPSConnectionPool(host='nominatim.openstreetmap.org', port=443): Max retries exceeded with url: /search?q=Nome+Census+Area%2C+Alaska%2C+USA&format=jsonv2&addressdetails=1&limit=1 (Caused by ConnectTimeoutError(<urllib3.connection.VerifiedHTTPSConnection object at 0x7f70847b6588>, 'Connection to nominatim.openstreetmap.org timed out. (connect timeout=5.0)'))\n"
     ]
    },
    {
     "name": "stdout",
     "output_type": "stream",
     "text": [
      "38.7340694 -88.4910693\n",
      "69.5335129 -153.8220681\n",
      "38.5896187 -89.420064\n",
      "39.5266741 -88.2184999\n",
      "67.2385127 -159.9816347\n",
      "41.8197385 -87.756525\n",
      "39.0131644 -87.7291001\n"
     ]
    },
    {
     "name": "stderr",
     "output_type": "stream",
     "text": [
      "Status code Unknown from https://nominatim.openstreetmap.org/search: ERROR - HTTPSConnectionPool(host='nominatim.openstreetmap.org', port=443): Max retries exceeded with url: /search?q=Ottawa+County%2C+Oklahoma%2C+USA&format=jsonv2&addressdetails=1&limit=1 (Caused by ConnectTimeoutError(<urllib3.connection.VerifiedHTTPSConnection object at 0x7f70847aa198>, 'Connection to nominatim.openstreetmap.org timed out. (connect timeout=5.0)'))\n"
     ]
    },
    {
     "name": "stdout",
     "output_type": "stream",
     "text": [
      "39.2744299 -88.2423795\n",
      "36.3151645 -96.7200995\n"
     ]
    },
    {
     "name": "stderr",
     "output_type": "stream",
     "text": [
      "Status code Unknown from https://nominatim.openstreetmap.org/search: ERROR - HTTPSConnectionPool(host='nominatim.openstreetmap.org', port=443): Max retries exceeded with url: /search?q=Orange+County%2C+Texas%2C+USA&format=jsonv2&addressdetails=1&limit=1 (Caused by ConnectTimeoutError(<urllib3.connection.VerifiedHTTPSConnection object at 0x7f70847a46a0>, 'Connection to nominatim.openstreetmap.org timed out. (connect timeout=5.0)'))\n"
     ]
    },
    {
     "name": "stdout",
     "output_type": "stream",
     "text": [
      "41.8903447 -88.7713953\n",
      "32.7215726 -98.2814881\n",
      "36.0721527 -96.9456522\n",
      "40.1811468 -88.7861844\n",
      "32.1367712 -94.3130073\n",
      "34.927554 -95.7639966\n",
      "39.7628415 -88.2170516\n",
      "34.707331 -96.6814853\n",
      "41.8603735 -88.0906873\n"
     ]
    },
    {
     "name": "stderr",
     "output_type": "stream",
     "text": [
      "Status code Unknown from https://nominatim.openstreetmap.org/search: ERROR - HTTPSConnectionPool(host='nominatim.openstreetmap.org', port=443): Max retries exceeded with url: /search?q=Iberia+Parish%2C+Louisiana%2C+USA&format=jsonv2&addressdetails=1&limit=1 (Caused by ConnectTimeoutError(<urllib3.connection.VerifiedHTTPSConnection object at 0x7f70847b5710>, 'Connection to nominatim.openstreetmap.org timed out. (connect timeout=5.0)'))\n",
      "Status code Unknown from https://nominatim.openstreetmap.org/search: ERROR - HTTPSConnectionPool(host='nominatim.openstreetmap.org', port=443): Max retries exceeded with url: /search?q=Toole+County%2C+Montana%2C+USA&format=jsonv2&addressdetails=1&limit=1 (Caused by ConnectTimeoutError(<urllib3.connection.VerifiedHTTPSConnection object at 0x7f708479e6d8>, 'Connection to nominatim.openstreetmap.org timed out. (connect timeout=5.0)'))\n"
     ]
    },
    {
     "name": "stdout",
     "output_type": "stream",
     "text": [
      "39.6714952 -87.7340364\n",
      "35.1783637 -96.969909\n",
      "46.1833795 -107.2625484\n",
      "34.4098497 -95.4033122\n",
      "38.410254 -88.0584362\n",
      "39.0520902 -88.6029006\n",
      "35.6596782 -99.6898104\n"
     ]
    },
    {
     "name": "stderr",
     "output_type": "stream",
     "text": [
      "Status code Unknown from https://nominatim.openstreetmap.org/search: ERROR - HTTPSConnectionPool(host='nominatim.openstreetmap.org', port=443): Max retries exceeded with url: /search?q=Petersburg+Borough%2C+Alaska%2C+USA&format=jsonv2&addressdetails=1&limit=1 (Caused by ConnectTimeoutError(<urllib3.connection.VerifiedHTTPSConnection object at 0x7f7084796e10>, 'Connection to nominatim.openstreetmap.org timed out. (connect timeout=5.0)'))\n"
     ]
    },
    {
     "name": "stdout",
     "output_type": "stream",
     "text": [
      "36.3781607 -95.6190889\n",
      "39.0001282 -89.0430211\n",
      "35.1705939 -96.6263487\n",
      "40.4980955 -88.2552987\n",
      "37.9765409 -88.9335327\n",
      "35.5035863 -94.7360577\n",
      "40.4714305 -90.1845556\n"
     ]
    },
    {
     "name": "stderr",
     "output_type": "stream",
     "text": [
      "Status code 429 from https://nominatim.openstreetmap.org/search: ERROR - 429 Client Error: Too Many Requests for url: https://nominatim.openstreetmap.org/search?q=Stephens+County%2C+Oklahoma%2C+USA&format=jsonv2&addressdetails=1&limit=1\n",
      "Status code 429 from https://nominatim.openstreetmap.org/search: ERROR - 429 Client Error: Too Many Requests for url: https://nominatim.openstreetmap.org/search?q=Texas+County%2C+Oklahoma%2C+USA&format=jsonv2&addressdetails=1&limit=1\n",
      "Status code Unknown from https://nominatim.openstreetmap.org/search: ERROR - HTTPSConnectionPool(host='nominatim.openstreetmap.org', port=443): Max retries exceeded with url: /search?q=Parker+County%2C+Texas%2C+USA&format=jsonv2&addressdetails=1&limit=1 (Caused by ConnectTimeoutError(<urllib3.connection.VerifiedHTTPSConnection object at 0x7f70847a4908>, 'Connection to nominatim.openstreetmap.org timed out. (connect timeout=5.0)'))\n",
      "Status code 429 from https://nominatim.openstreetmap.org/search: ERROR - 429 Client Error: Too Many Requests for url: https://nominatim.openstreetmap.org/search?q=Gallatin+County%2C+Illinois%2C+USA&format=jsonv2&addressdetails=1&limit=1\n",
      "Status code 429 from https://nominatim.openstreetmap.org/search: ERROR - 429 Client Error: Too Many Requests for url: https://nominatim.openstreetmap.org/search?q=Tillman+County%2C+Oklahoma%2C+USA&format=jsonv2&addressdetails=1&limit=1\n",
      "Status code 429 from https://nominatim.openstreetmap.org/search: ERROR - 429 Client Error: Too Many Requests for url: https://nominatim.openstreetmap.org/search?q=Greene+County%2C+Illinois%2C+USA&format=jsonv2&addressdetails=1&limit=1\n",
      "Status code 429 from https://nominatim.openstreetmap.org/search: ERROR - 429 Client Error: Too Many Requests for url: https://nominatim.openstreetmap.org/search?q=Tulsa+County%2C+Oklahoma%2C+USA&format=jsonv2&addressdetails=1&limit=1\n",
      "Status code Unknown from https://nominatim.openstreetmap.org/search: ERROR - HTTPSConnectionPool(host='nominatim.openstreetmap.org', port=443): Max retries exceeded with url: /search?q=Iberville+Parish%2C+Louisiana%2C+USA&format=jsonv2&addressdetails=1&limit=1 (Caused by ConnectTimeoutError(<urllib3.connection.VerifiedHTTPSConnection object at 0x7f708479dcc0>, 'Connection to nominatim.openstreetmap.org timed out. (connect timeout=5.0)'))\n",
      "Status code 429 from https://nominatim.openstreetmap.org/search: ERROR - 429 Client Error: Too Many Requests for url: https://nominatim.openstreetmap.org/search?q=Grundy+County%2C+Illinois%2C+USA&format=jsonv2&addressdetails=1&limit=1\n",
      "Status code Unknown from https://nominatim.openstreetmap.org/search: ERROR - HTTPSConnectionPool(host='nominatim.openstreetmap.org', port=443): Max retries exceeded with url: /search?q=Valley+County%2C+Montana%2C+USA&format=jsonv2&addressdetails=1&limit=1 (Caused by ConnectTimeoutError(<urllib3.connection.VerifiedHTTPSConnection object at 0x7f70847b7d68>, 'Connection to nominatim.openstreetmap.org timed out. (connect timeout=5.0)'))\n",
      "Status code 429 from https://nominatim.openstreetmap.org/search: ERROR - 429 Client Error: Too Many Requests for url: https://nominatim.openstreetmap.org/search?q=Wagoner+County%2C+Oklahoma%2C+USA&format=jsonv2&addressdetails=1&limit=1\n",
      "Status code 429 from https://nominatim.openstreetmap.org/search: ERROR - 429 Client Error: Too Many Requests for url: https://nominatim.openstreetmap.org/search?q=Jackson+Parish%2C+Louisiana%2C+USA&format=jsonv2&addressdetails=1&limit=1\n",
      "Status code 429 from https://nominatim.openstreetmap.org/search: ERROR - 429 Client Error: Too Many Requests for url: https://nominatim.openstreetmap.org/search?q=Jefferson+Parish%2C+Louisiana%2C+USA&format=jsonv2&addressdetails=1&limit=1\n",
      "Status code Unknown from https://nominatim.openstreetmap.org/search: ERROR - HTTPSConnectionPool(host='nominatim.openstreetmap.org', port=443): Max retries exceeded with url: /search?q=Prince+of+Wales-Hyder+Census+Area%2C+Alaska%2C+USA&format=jsonv2&addressdetails=1&limit=1 (Caused by ConnectTimeoutError(<urllib3.connection.VerifiedHTTPSConnection object at 0x7f7084960eb8>, 'Connection to nominatim.openstreetmap.org timed out. (connect timeout=5.0)'))\n",
      "Status code 429 from https://nominatim.openstreetmap.org/search: ERROR - 429 Client Error: Too Many Requests for url: https://nominatim.openstreetmap.org/search?q=Jefferson+Davis+Parish%2C+Louisiana%2C+USA&format=jsonv2&addressdetails=1&limit=1\n",
      "Status code 429 from https://nominatim.openstreetmap.org/search: ERROR - 429 Client Error: Too Many Requests for url: https://nominatim.openstreetmap.org/search?q=Sitka+City+and+Borough%2C+Alaska%2C+USA&format=jsonv2&addressdetails=1&limit=1\n",
      "Status code 429 from https://nominatim.openstreetmap.org/search: ERROR - 429 Client Error: Too Many Requests for url: https://nominatim.openstreetmap.org/search?q=Lafayette+Parish%2C+Louisiana%2C+USA&format=jsonv2&addressdetails=1&limit=1\n",
      "Status code 429 from https://nominatim.openstreetmap.org/search: ERROR - 429 Client Error: Too Many Requests for url: https://nominatim.openstreetmap.org/search?q=Skagway+Municipality%2C+Alaska%2C+USA&format=jsonv2&addressdetails=1&limit=1\n",
      "Status code 429 from https://nominatim.openstreetmap.org/search: ERROR - 429 Client Error: Too Many Requests for url: https://nominatim.openstreetmap.org/search?q=Southeast+Fairbanks+Census+Area%2C+Alaska%2C+USA&format=jsonv2&addressdetails=1&limit=1\n",
      "Status code 429 from https://nominatim.openstreetmap.org/search: ERROR - 429 Client Error: Too Many Requests for url: https://nominatim.openstreetmap.org/search?q=Lafourche+Parish%2C+Louisiana%2C+USA&format=jsonv2&addressdetails=1&limit=1\n",
      "Status code 429 from https://nominatim.openstreetmap.org/search: ERROR - 429 Client Error: Too Many Requests for url: https://nominatim.openstreetmap.org/search?q=Valdez-Cordova+Census+Area%2C+Alaska%2C+USA&format=jsonv2&addressdetails=1&limit=1\n",
      "Status code 429 from https://nominatim.openstreetmap.org/search: ERROR - 429 Client Error: Too Many Requests for url: https://nominatim.openstreetmap.org/search?q=Wrangell+City+and+Borough%2C+Alaska%2C+USA&format=jsonv2&addressdetails=1&limit=1\n",
      "Status code 429 from https://nominatim.openstreetmap.org/search: ERROR - 429 Client Error: Too Many Requests for url: https://nominatim.openstreetmap.org/search?q=LaSalle+Parish%2C+Louisiana%2C+USA&format=jsonv2&addressdetails=1&limit=1\n",
      "Status code Unknown from https://nominatim.openstreetmap.org/search: ERROR - HTTPSConnectionPool(host='nominatim.openstreetmap.org', port=443): Max retries exceeded with url: /search?q=Parmer+County%2C+Texas%2C+USA&format=jsonv2&addressdetails=1&limit=1 (Caused by ConnectTimeoutError(<urllib3.connection.VerifiedHTTPSConnection object at 0x7f70847c7cf8>, 'Connection to nominatim.openstreetmap.org timed out. (connect timeout=5.0)'))\n",
      "Status code 429 from https://nominatim.openstreetmap.org/search: ERROR - 429 Client Error: Too Many Requests for url: https://nominatim.openstreetmap.org/search?q=Lincoln+Parish%2C+Louisiana%2C+USA&format=jsonv2&addressdetails=1&limit=1\n",
      "Status code 429 from https://nominatim.openstreetmap.org/search: ERROR - 429 Client Error: Too Many Requests for url: https://nominatim.openstreetmap.org/search?q=Pecos+County%2C+Texas%2C+USA&format=jsonv2&addressdetails=1&limit=1\n",
      "Status code 429 from https://nominatim.openstreetmap.org/search: ERROR - 429 Client Error: Too Many Requests for url: https://nominatim.openstreetmap.org/search?q=Polk+County%2C+Texas%2C+USA&format=jsonv2&addressdetails=1&limit=1\n",
      "Status code 429 from https://nominatim.openstreetmap.org/search: ERROR - 429 Client Error: Too Many Requests for url: https://nominatim.openstreetmap.org/search?q=Livingston+Parish%2C+Louisiana%2C+USA&format=jsonv2&addressdetails=1&limit=1\n",
      "Status code 429 from https://nominatim.openstreetmap.org/search: ERROR - 429 Client Error: Too Many Requests for url: https://nominatim.openstreetmap.org/search?q=Yakutat+City+and+Borough%2C+Alaska%2C+USA&format=jsonv2&addressdetails=1&limit=1\n",
      "Status code Unknown from https://nominatim.openstreetmap.org/search: ERROR - HTTPSConnectionPool(host='nominatim.openstreetmap.org', port=443): Max retries exceeded with url: /search?q=Hamilton+County%2C+Illinois%2C+USA&format=jsonv2&addressdetails=1&limit=1 (Caused by ConnectTimeoutError(<urllib3.connection.VerifiedHTTPSConnection object at 0x7f70847a58d0>, 'Connection to nominatim.openstreetmap.org timed out. (connect timeout=5.0)'))\n"
     ]
    },
    {
     "name": "stderr",
     "output_type": "stream",
     "text": [
      "Status code 429 from https://nominatim.openstreetmap.org/search: ERROR - 429 Client Error: Too Many Requests for url: https://nominatim.openstreetmap.org/search?q=Potter+County%2C+Texas%2C+USA&format=jsonv2&addressdetails=1&limit=1\n",
      "Status code 429 from https://nominatim.openstreetmap.org/search: ERROR - 429 Client Error: Too Many Requests for url: https://nominatim.openstreetmap.org/search?q=Yukon-Koyukuk+Census+Area%2C+Alaska%2C+USA&format=jsonv2&addressdetails=1&limit=1\n",
      "Status code Unknown from https://nominatim.openstreetmap.org/search: ERROR - HTTPSConnectionPool(host='nominatim.openstreetmap.org', port=443): Max retries exceeded with url: /search?q=Wheatland+County%2C+Montana%2C+USA&format=jsonv2&addressdetails=1&limit=1 (Caused by ConnectTimeoutError(<urllib3.connection.VerifiedHTTPSConnection object at 0x7f70847a7400>, 'Connection to nominatim.openstreetmap.org timed out. (connect timeout=5.0)'))\n",
      "Status code 429 from https://nominatim.openstreetmap.org/search: ERROR - 429 Client Error: Too Many Requests for url: https://nominatim.openstreetmap.org/search?q=Presidio+County%2C+Texas%2C+USA&format=jsonv2&addressdetails=1&limit=1\n",
      "Status code Unknown from https://nominatim.openstreetmap.org/search: ERROR - HTTPSConnectionPool(host='nominatim.openstreetmap.org', port=443): Max retries exceeded with url: /search?q=Washington+County%2C+Oklahoma%2C+USA&format=jsonv2&addressdetails=1&limit=1 (Caused by ConnectTimeoutError(<urllib3.connection.VerifiedHTTPSConnection object at 0x7f70847bbf28>, 'Connection to nominatim.openstreetmap.org timed out. (connect timeout=5.0)'))\n",
      "Status code 429 from https://nominatim.openstreetmap.org/search: ERROR - 429 Client Error: Too Many Requests for url: https://nominatim.openstreetmap.org/search?q=Rains+County%2C+Texas%2C+USA&format=jsonv2&addressdetails=1&limit=1\n",
      "Status code 429 from https://nominatim.openstreetmap.org/search: ERROR - 429 Client Error: Too Many Requests for url: https://nominatim.openstreetmap.org/search?q=Washita+County%2C+Oklahoma%2C+USA&format=jsonv2&addressdetails=1&limit=1\n",
      "Status code 429 from https://nominatim.openstreetmap.org/search: ERROR - 429 Client Error: Too Many Requests for url: https://nominatim.openstreetmap.org/search?q=Woods+County%2C+Oklahoma%2C+USA&format=jsonv2&addressdetails=1&limit=1\n",
      "Status code 429 from https://nominatim.openstreetmap.org/search: ERROR - 429 Client Error: Too Many Requests for url: https://nominatim.openstreetmap.org/search?q=Woodward+County%2C+Oklahoma%2C+USA&format=jsonv2&addressdetails=1&limit=1\n",
      "Status code 429 from https://nominatim.openstreetmap.org/search: ERROR - 429 Client Error: Too Many Requests for url: https://nominatim.openstreetmap.org/search?q=Hancock+County%2C+Illinois%2C+USA&format=jsonv2&addressdetails=1&limit=1\n",
      "Status code 429 from https://nominatim.openstreetmap.org/search: ERROR - 429 Client Error: Too Many Requests for url: https://nominatim.openstreetmap.org/search?q=Baker+County%2C+Oregon%2C+USA&format=jsonv2&addressdetails=1&limit=1\n",
      "Status code 429 from https://nominatim.openstreetmap.org/search: ERROR - 429 Client Error: Too Many Requests for url: https://nominatim.openstreetmap.org/search?q=Hardin+County%2C+Illinois%2C+USA&format=jsonv2&addressdetails=1&limit=1\n",
      "Status code 429 from https://nominatim.openstreetmap.org/search: ERROR - 429 Client Error: Too Many Requests for url: https://nominatim.openstreetmap.org/search?q=Henderson+County%2C+Illinois%2C+USA&format=jsonv2&addressdetails=1&limit=1\n",
      "Status code 429 from https://nominatim.openstreetmap.org/search: ERROR - 429 Client Error: Too Many Requests for url: https://nominatim.openstreetmap.org/search?q=Benton+County%2C+Oregon%2C+USA&format=jsonv2&addressdetails=1&limit=1\n",
      "Status code 429 from https://nominatim.openstreetmap.org/search: ERROR - 429 Client Error: Too Many Requests for url: https://nominatim.openstreetmap.org/search?q=Henry+County%2C+Illinois%2C+USA&format=jsonv2&addressdetails=1&limit=1\n",
      "Status code 429 from https://nominatim.openstreetmap.org/search: ERROR - 429 Client Error: Too Many Requests for url: https://nominatim.openstreetmap.org/search?q=Clackamas+County%2C+Oregon%2C+USA&format=jsonv2&addressdetails=1&limit=1\n",
      "Status code 429 from https://nominatim.openstreetmap.org/search: ERROR - 429 Client Error: Too Many Requests for url: https://nominatim.openstreetmap.org/search?q=Iroquois+County%2C+Illinois%2C+USA&format=jsonv2&addressdetails=1&limit=1\n",
      "Status code 429 from https://nominatim.openstreetmap.org/search: ERROR - 429 Client Error: Too Many Requests for url: https://nominatim.openstreetmap.org/search?q=Clatsop+County%2C+Oregon%2C+USA&format=jsonv2&addressdetails=1&limit=1\n",
      "Status code 429 from https://nominatim.openstreetmap.org/search: ERROR - 429 Client Error: Too Many Requests for url: https://nominatim.openstreetmap.org/search?q=Columbia+County%2C+Oregon%2C+USA&format=jsonv2&addressdetails=1&limit=1\n",
      "Status code 429 from https://nominatim.openstreetmap.org/search: ERROR - 429 Client Error: Too Many Requests for url: https://nominatim.openstreetmap.org/search?q=Jackson+County%2C+Illinois%2C+USA&format=jsonv2&addressdetails=1&limit=1\n",
      "Status code Unknown from https://nominatim.openstreetmap.org/search: ERROR - HTTPSConnectionPool(host='nominatim.openstreetmap.org', port=443): Max retries exceeded with url: /search?q=Madison+Parish%2C+Louisiana%2C+USA&format=jsonv2&addressdetails=1&limit=1 (Caused by ConnectTimeoutError(<urllib3.connection.VerifiedHTTPSConnection object at 0x7f708479d438>, 'Connection to nominatim.openstreetmap.org timed out. (connect timeout=5.0)'))\n",
      "Status code 429 from https://nominatim.openstreetmap.org/search: ERROR - 429 Client Error: Too Many Requests for url: https://nominatim.openstreetmap.org/search?q=Coos+County%2C+Oregon%2C+USA&format=jsonv2&addressdetails=1&limit=1\n",
      "Status code 429 from https://nominatim.openstreetmap.org/search: ERROR - 429 Client Error: Too Many Requests for url: https://nominatim.openstreetmap.org/search?q=Jasper+County%2C+Illinois%2C+USA&format=jsonv2&addressdetails=1&limit=1\n",
      "Status code Unknown from https://nominatim.openstreetmap.org/search: ERROR - HTTPSConnectionPool(host='nominatim.openstreetmap.org', port=443): Max retries exceeded with url: /search?q=Apache+County%2C+Arizona%2C+USA&format=jsonv2&addressdetails=1&limit=1 (Caused by ConnectTimeoutError(<urllib3.connection.VerifiedHTTPSConnection object at 0x7f70849059e8>, 'Connection to nominatim.openstreetmap.org timed out. (connect timeout=5.0)'))\n",
      "Status code Unknown from https://nominatim.openstreetmap.org/search: ERROR - HTTPSConnectionPool(host='nominatim.openstreetmap.org', port=443): Max retries exceeded with url: /search?q=Wibaux+County%2C+Montana%2C+USA&format=jsonv2&addressdetails=1&limit=1 (Caused by ConnectTimeoutError(<urllib3.connection.VerifiedHTTPSConnection object at 0x7f70847a7828>, 'Connection to nominatim.openstreetmap.org timed out. (connect timeout=5.0)'))\n",
      "Status code 429 from https://nominatim.openstreetmap.org/search: ERROR - 429 Client Error: Too Many Requests for url: https://nominatim.openstreetmap.org/search?q=Jefferson+County%2C+Illinois%2C+USA&format=jsonv2&addressdetails=1&limit=1\n",
      "Status code 429 from https://nominatim.openstreetmap.org/search: ERROR - 429 Client Error: Too Many Requests for url: https://nominatim.openstreetmap.org/search?q=Morehouse+Parish%2C+Louisiana%2C+USA&format=jsonv2&addressdetails=1&limit=1\n",
      "Status code 429 from https://nominatim.openstreetmap.org/search: ERROR - 429 Client Error: Too Many Requests for url: https://nominatim.openstreetmap.org/search?q=Jersey+County%2C+Illinois%2C+USA&format=jsonv2&addressdetails=1&limit=1\n",
      "Status code Unknown from https://nominatim.openstreetmap.org/search: ERROR - HTTPSConnectionPool(host='nominatim.openstreetmap.org', port=443): Max retries exceeded with url: /search?q=Randall+County%2C+Texas%2C+USA&format=jsonv2&addressdetails=1&limit=1 (Caused by ConnectTimeoutError(<urllib3.connection.VerifiedHTTPSConnection object at 0x7f70847c7240>, 'Connection to nominatim.openstreetmap.org timed out. (connect timeout=5.0)'))\n",
      "Status code 429 from https://nominatim.openstreetmap.org/search: ERROR - 429 Client Error: Too Many Requests for url: https://nominatim.openstreetmap.org/search?q=Jo+Daviess+County%2C+Illinois%2C+USA&format=jsonv2&addressdetails=1&limit=1\n"
     ]
    },
    {
     "name": "stderr",
     "output_type": "stream",
     "text": [
      "Status code 429 from https://nominatim.openstreetmap.org/search: ERROR - 429 Client Error: Too Many Requests for url: https://nominatim.openstreetmap.org/search?q=Reagan+County%2C+Texas%2C+USA&format=jsonv2&addressdetails=1&limit=1\n",
      "Status code 429 from https://nominatim.openstreetmap.org/search: ERROR - 429 Client Error: Too Many Requests for url: https://nominatim.openstreetmap.org/search?q=Johnson+County%2C+Illinois%2C+USA&format=jsonv2&addressdetails=1&limit=1\n",
      "Status code 429 from https://nominatim.openstreetmap.org/search: ERROR - 429 Client Error: Too Many Requests for url: https://nominatim.openstreetmap.org/search?q=Kane+County%2C+Illinois%2C+USA&format=jsonv2&addressdetails=1&limit=1\n",
      "Status code 429 from https://nominatim.openstreetmap.org/search: ERROR - 429 Client Error: Too Many Requests for url: https://nominatim.openstreetmap.org/search?q=Real+County%2C+Texas%2C+USA&format=jsonv2&addressdetails=1&limit=1\n",
      "Status code 429 from https://nominatim.openstreetmap.org/search: ERROR - 429 Client Error: Too Many Requests for url: https://nominatim.openstreetmap.org/search?q=Kankakee+County%2C+Illinois%2C+USA&format=jsonv2&addressdetails=1&limit=1\n",
      "Status code 429 from https://nominatim.openstreetmap.org/search: ERROR - 429 Client Error: Too Many Requests for url: https://nominatim.openstreetmap.org/search?q=Kendall+County%2C+Illinois%2C+USA&format=jsonv2&addressdetails=1&limit=1\n",
      "Status code 429 from https://nominatim.openstreetmap.org/search: ERROR - 429 Client Error: Too Many Requests for url: https://nominatim.openstreetmap.org/search?q=Red+River+County%2C+Texas%2C+USA&format=jsonv2&addressdetails=1&limit=1\n",
      "Status code 429 from https://nominatim.openstreetmap.org/search: ERROR - 429 Client Error: Too Many Requests for url: https://nominatim.openstreetmap.org/search?q=Reeves+County%2C+Texas%2C+USA&format=jsonv2&addressdetails=1&limit=1\n",
      "Status code 429 from https://nominatim.openstreetmap.org/search: ERROR - 429 Client Error: Too Many Requests for url: https://nominatim.openstreetmap.org/search?q=Refugio+County%2C+Texas%2C+USA&format=jsonv2&addressdetails=1&limit=1\n",
      "Status code 429 from https://nominatim.openstreetmap.org/search: ERROR - 429 Client Error: Too Many Requests for url: https://nominatim.openstreetmap.org/search?q=Roberts+County%2C+Texas%2C+USA&format=jsonv2&addressdetails=1&limit=1\n",
      "Status code 429 from https://nominatim.openstreetmap.org/search: ERROR - 429 Client Error: Too Many Requests for url: https://nominatim.openstreetmap.org/search?q=Robertson+County%2C+Texas%2C+USA&format=jsonv2&addressdetails=1&limit=1\n",
      "Status code 429 from https://nominatim.openstreetmap.org/search: ERROR - 429 Client Error: Too Many Requests for url: https://nominatim.openstreetmap.org/search?q=Rockwall+County%2C+Texas%2C+USA&format=jsonv2&addressdetails=1&limit=1\n",
      "Status code Unknown from https://nominatim.openstreetmap.org/search: ERROR - HTTPSConnectionPool(host='nominatim.openstreetmap.org', port=443): Max retries exceeded with url: /search?q=Crook+County%2C+Oregon%2C+USA&format=jsonv2&addressdetails=1&limit=1 (Caused by ConnectTimeoutError(<urllib3.connection.VerifiedHTTPSConnection object at 0x7f70849679e8>, 'Connection to nominatim.openstreetmap.org timed out. (connect timeout=5.0)'))\n",
      "Status code 429 from https://nominatim.openstreetmap.org/search: ERROR - 429 Client Error: Too Many Requests for url: https://nominatim.openstreetmap.org/search?q=Runnels+County%2C+Texas%2C+USA&format=jsonv2&addressdetails=1&limit=1\n",
      "Status code 429 from https://nominatim.openstreetmap.org/search: ERROR - 429 Client Error: Too Many Requests for url: https://nominatim.openstreetmap.org/search?q=Curry+County%2C+Oregon%2C+USA&format=jsonv2&addressdetails=1&limit=1\n",
      "Status code 429 from https://nominatim.openstreetmap.org/search: ERROR - 429 Client Error: Too Many Requests for url: https://nominatim.openstreetmap.org/search?q=Rusk+County%2C+Texas%2C+USA&format=jsonv2&addressdetails=1&limit=1\n",
      "Status code Unknown from https://nominatim.openstreetmap.org/search: ERROR - HTTPSConnectionPool(host='nominatim.openstreetmap.org', port=443): Max retries exceeded with url: /search?q=Cochise+County%2C+Arizona%2C+USA&format=jsonv2&addressdetails=1&limit=1 (Caused by ConnectTimeoutError(<urllib3.connection.VerifiedHTTPSConnection object at 0x7f708486ea20>, 'Connection to nominatim.openstreetmap.org timed out. (connect timeout=5.0)'))\n",
      "Status code Unknown from https://nominatim.openstreetmap.org/search: ERROR - HTTPSConnectionPool(host='nominatim.openstreetmap.org', port=443): Max retries exceeded with url: /search?q=Yellowstone+County%2C+Montana%2C+USA&format=jsonv2&addressdetails=1&limit=1 (Caused by ConnectTimeoutError(<urllib3.connection.VerifiedHTTPSConnection object at 0x7f70847a77b8>, 'Connection to nominatim.openstreetmap.org timed out. (connect timeout=5.0)'))\n",
      "Status code 429 from https://nominatim.openstreetmap.org/search: ERROR - 429 Client Error: Too Many Requests for url: https://nominatim.openstreetmap.org/search?q=Deschutes+County%2C+Oregon%2C+USA&format=jsonv2&addressdetails=1&limit=1\n",
      "Status code Unknown from https://nominatim.openstreetmap.org/search: ERROR - HTTPSConnectionPool(host='nominatim.openstreetmap.org', port=443): Max retries exceeded with url: /search?q=Natchitoches+Parish%2C+Louisiana%2C+USA&format=jsonv2&addressdetails=1&limit=1 (Caused by ConnectTimeoutError(<urllib3.connection.VerifiedHTTPSConnection object at 0x7f70849642e8>, 'Connection to nominatim.openstreetmap.org timed out. (connect timeout=5.0)'))\n",
      "Status code 429 from https://nominatim.openstreetmap.org/search: ERROR - 429 Client Error: Too Many Requests for url: https://nominatim.openstreetmap.org/search?q=Adams+County%2C+Nebraska%2C+USA&format=jsonv2&addressdetails=1&limit=1\n",
      "Status code 429 from https://nominatim.openstreetmap.org/search: ERROR - 429 Client Error: Too Many Requests for url: https://nominatim.openstreetmap.org/search?q=Antelope+County%2C+Nebraska%2C+USA&format=jsonv2&addressdetails=1&limit=1\n",
      "Status code 429 from https://nominatim.openstreetmap.org/search: ERROR - 429 Client Error: Too Many Requests for url: https://nominatim.openstreetmap.org/search?q=Douglas+County%2C+Oregon%2C+USA&format=jsonv2&addressdetails=1&limit=1\n",
      "Status code 429 from https://nominatim.openstreetmap.org/search: ERROR - 429 Client Error: Too Many Requests for url: https://nominatim.openstreetmap.org/search?q=Gilliam+County%2C+Oregon%2C+USA&format=jsonv2&addressdetails=1&limit=1\n",
      "Status code 429 from https://nominatim.openstreetmap.org/search: ERROR - 429 Client Error: Too Many Requests for url: https://nominatim.openstreetmap.org/search?q=Arthur+County%2C+Nebraska%2C+USA&format=jsonv2&addressdetails=1&limit=1\n",
      "Status code 429 from https://nominatim.openstreetmap.org/search: ERROR - 429 Client Error: Too Many Requests for url: https://nominatim.openstreetmap.org/search?q=Grant+County%2C+Oregon%2C+USA&format=jsonv2&addressdetails=1&limit=1\n",
      "Status code 429 from https://nominatim.openstreetmap.org/search: ERROR - 429 Client Error: Too Many Requests for url: https://nominatim.openstreetmap.org/search?q=Banner+County%2C+Nebraska%2C+USA&format=jsonv2&addressdetails=1&limit=1\n",
      "Status code Unknown from https://nominatim.openstreetmap.org/search: ERROR - HTTPSConnectionPool(host='nominatim.openstreetmap.org', port=443): Max retries exceeded with url: /search?q=Knox+County%2C+Illinois%2C+USA&format=jsonv2&addressdetails=1&limit=1 (Caused by ConnectTimeoutError(<urllib3.connection.VerifiedHTTPSConnection object at 0x7f708495f438>, 'Connection to nominatim.openstreetmap.org timed out. (connect timeout=5.0)'))\n",
      "Status code 429 from https://nominatim.openstreetmap.org/search: ERROR - 429 Client Error: Too Many Requests for url: https://nominatim.openstreetmap.org/search?q=Harney+County%2C+Oregon%2C+USA&format=jsonv2&addressdetails=1&limit=1\n",
      "Status code 429 from https://nominatim.openstreetmap.org/search: ERROR - 429 Client Error: Too Many Requests for url: https://nominatim.openstreetmap.org/search?q=Lake+County%2C+Illinois%2C+USA&format=jsonv2&addressdetails=1&limit=1\n",
      "Status code 429 from https://nominatim.openstreetmap.org/search: ERROR - 429 Client Error: Too Many Requests for url: https://nominatim.openstreetmap.org/search?q=Hood+River+County%2C+Oregon%2C+USA&format=jsonv2&addressdetails=1&limit=1\n"
     ]
    },
    {
     "name": "stderr",
     "output_type": "stream",
     "text": [
      "Status code 429 from https://nominatim.openstreetmap.org/search: ERROR - 429 Client Error: Too Many Requests for url: https://nominatim.openstreetmap.org/search?q=Jackson+County%2C+Oregon%2C+USA&format=jsonv2&addressdetails=1&limit=1\n",
      "Status code 429 from https://nominatim.openstreetmap.org/search: ERROR - 429 Client Error: Too Many Requests for url: https://nominatim.openstreetmap.org/search?q=LaSalle+County%2C+Illinois%2C+USA&format=jsonv2&addressdetails=1&limit=1\n",
      "Status code 429 from https://nominatim.openstreetmap.org/search: ERROR - 429 Client Error: Too Many Requests for url: https://nominatim.openstreetmap.org/search?q=Blaine+County%2C+Nebraska%2C+USA&format=jsonv2&addressdetails=1&limit=1\n",
      "Status code 429 from https://nominatim.openstreetmap.org/search: ERROR - 429 Client Error: Too Many Requests for url: https://nominatim.openstreetmap.org/search?q=Boone+County%2C+Nebraska%2C+USA&format=jsonv2&addressdetails=1&limit=1\n",
      "Status code 429 from https://nominatim.openstreetmap.org/search: ERROR - 429 Client Error: Too Many Requests for url: https://nominatim.openstreetmap.org/search?q=Box+Butte+County%2C+Nebraska%2C+USA&format=jsonv2&addressdetails=1&limit=1\n",
      "Status code 429 from https://nominatim.openstreetmap.org/search: ERROR - 429 Client Error: Too Many Requests for url: https://nominatim.openstreetmap.org/search?q=Boyd+County%2C+Nebraska%2C+USA&format=jsonv2&addressdetails=1&limit=1\n",
      "Status code Unknown from https://nominatim.openstreetmap.org/search: ERROR - HTTPSConnectionPool(host='nominatim.openstreetmap.org', port=443): Max retries exceeded with url: /search?q=Sabine+County%2C+Texas%2C+USA&format=jsonv2&addressdetails=1&limit=1 (Caused by ConnectTimeoutError(<urllib3.connection.VerifiedHTTPSConnection object at 0x7f70847a4f98>, 'Connection to nominatim.openstreetmap.org timed out. (connect timeout=5.0)'))\n",
      "Status code Unknown from https://nominatim.openstreetmap.org/search: ERROR - HTTPSConnectionPool(host='nominatim.openstreetmap.org', port=443): Max retries exceeded with url: /search?q=Coconino+County%2C+Arizona%2C+USA&format=jsonv2&addressdetails=1&limit=1 (Caused by ConnectTimeoutError(<urllib3.connection.VerifiedHTTPSConnection object at 0x7f7084960eb8>, 'Connection to nominatim.openstreetmap.org timed out. (connect timeout=5.0)'))\n",
      "Status code 429 from https://nominatim.openstreetmap.org/search: ERROR - 429 Client Error: Too Many Requests for url: https://nominatim.openstreetmap.org/search?q=Jefferson+County%2C+Oregon%2C+USA&format=jsonv2&addressdetails=1&limit=1\n",
      "Status code 429 from https://nominatim.openstreetmap.org/search: ERROR - 429 Client Error: Too Many Requests for url: https://nominatim.openstreetmap.org/search?q=Brown+County%2C+Nebraska%2C+USA&format=jsonv2&addressdetails=1&limit=1\n",
      "Status code Unknown from https://nominatim.openstreetmap.org/search: ERROR - HTTPSConnectionPool(host='nominatim.openstreetmap.org', port=443): Max retries exceeded with url: /search?q=Orleans+Parish%2C+Louisiana%2C+USA&format=jsonv2&addressdetails=1&limit=1 (Caused by ConnectTimeoutError(<urllib3.connection.VerifiedHTTPSConnection object at 0x7f70847a6080>, 'Connection to nominatim.openstreetmap.org timed out. (connect timeout=5.0)'))\n",
      "Status code 429 from https://nominatim.openstreetmap.org/search: ERROR - 429 Client Error: Too Many Requests for url: https://nominatim.openstreetmap.org/search?q=Gila+County%2C+Arizona%2C+USA&format=jsonv2&addressdetails=1&limit=1\n",
      "Status code 429 from https://nominatim.openstreetmap.org/search: ERROR - 429 Client Error: Too Many Requests for url: https://nominatim.openstreetmap.org/search?q=Graham+County%2C+Arizona%2C+USA&format=jsonv2&addressdetails=1&limit=1\n",
      "Status code 429 from https://nominatim.openstreetmap.org/search: ERROR - 429 Client Error: Too Many Requests for url: https://nominatim.openstreetmap.org/search?q=Josephine+County%2C+Oregon%2C+USA&format=jsonv2&addressdetails=1&limit=1\n",
      "Status code 429 from https://nominatim.openstreetmap.org/search: ERROR - 429 Client Error: Too Many Requests for url: https://nominatim.openstreetmap.org/search?q=Klamath+County%2C+Oregon%2C+USA&format=jsonv2&addressdetails=1&limit=1\n",
      "Status code 429 from https://nominatim.openstreetmap.org/search: ERROR - 429 Client Error: Too Many Requests for url: https://nominatim.openstreetmap.org/search?q=Greenlee+County%2C+Arizona%2C+USA&format=jsonv2&addressdetails=1&limit=1\n",
      "Status code 429 from https://nominatim.openstreetmap.org/search: ERROR - 429 Client Error: Too Many Requests for url: https://nominatim.openstreetmap.org/search?q=San+Augustine+County%2C+Texas%2C+USA&format=jsonv2&addressdetails=1&limit=1\n",
      "Status code 429 from https://nominatim.openstreetmap.org/search: ERROR - 429 Client Error: Too Many Requests for url: https://nominatim.openstreetmap.org/search?q=La+Paz+County%2C+Arizona%2C+USA&format=jsonv2&addressdetails=1&limit=1\n",
      "Status code 429 from https://nominatim.openstreetmap.org/search: ERROR - 429 Client Error: Too Many Requests for url: https://nominatim.openstreetmap.org/search?q=San+Jacinto+County%2C+Texas%2C+USA&format=jsonv2&addressdetails=1&limit=1\n",
      "Status code 429 from https://nominatim.openstreetmap.org/search: ERROR - 429 Client Error: Too Many Requests for url: https://nominatim.openstreetmap.org/search?q=San+Patricio+County%2C+Texas%2C+USA&format=jsonv2&addressdetails=1&limit=1\n",
      "Status code 429 from https://nominatim.openstreetmap.org/search: ERROR - 429 Client Error: Too Many Requests for url: https://nominatim.openstreetmap.org/search?q=Maricopa+County%2C+Arizona%2C+USA&format=jsonv2&addressdetails=1&limit=1\n",
      "Status code 429 from https://nominatim.openstreetmap.org/search: ERROR - 429 Client Error: Too Many Requests for url: https://nominatim.openstreetmap.org/search?q=Mohave+County%2C+Arizona%2C+USA&format=jsonv2&addressdetails=1&limit=1\n",
      "Status code 429 from https://nominatim.openstreetmap.org/search: ERROR - 429 Client Error: Too Many Requests for url: https://nominatim.openstreetmap.org/search?q=San+Saba+County%2C+Texas%2C+USA&format=jsonv2&addressdetails=1&limit=1\n",
      "Status code 429 from https://nominatim.openstreetmap.org/search: ERROR - 429 Client Error: Too Many Requests for url: https://nominatim.openstreetmap.org/search?q=Navajo+County%2C+Arizona%2C+USA&format=jsonv2&addressdetails=1&limit=1\n",
      "Status code Unknown from https://nominatim.openstreetmap.org/search: ERROR - HTTPSConnectionPool(host='nominatim.openstreetmap.org', port=443): Max retries exceeded with url: /search?q=Lawrence+County%2C+Illinois%2C+USA&format=jsonv2&addressdetails=1&limit=1 (Caused by ConnectTimeoutError(<urllib3.connection.VerifiedHTTPSConnection object at 0x7f70847b5630>, 'Connection to nominatim.openstreetmap.org timed out. (connect timeout=5.0)'))\n",
      "Status code 429 from https://nominatim.openstreetmap.org/search: ERROR - 429 Client Error: Too Many Requests for url: https://nominatim.openstreetmap.org/search?q=Schleicher+County%2C+Texas%2C+USA&format=jsonv2&addressdetails=1&limit=1\n",
      "Status code 429 from https://nominatim.openstreetmap.org/search: ERROR - 429 Client Error: Too Many Requests for url: https://nominatim.openstreetmap.org/search?q=Lee+County%2C+Illinois%2C+USA&format=jsonv2&addressdetails=1&limit=1\n",
      "Status code 429 from https://nominatim.openstreetmap.org/search: ERROR - 429 Client Error: Too Many Requests for url: https://nominatim.openstreetmap.org/search?q=Livingston+County%2C+Illinois%2C+USA&format=jsonv2&addressdetails=1&limit=1\n",
      "Status code 429 from https://nominatim.openstreetmap.org/search: ERROR - 429 Client Error: Too Many Requests for url: https://nominatim.openstreetmap.org/search?q=Scurry+County%2C+Texas%2C+USA&format=jsonv2&addressdetails=1&limit=1\n",
      "Status code 429 from https://nominatim.openstreetmap.org/search: ERROR - 429 Client Error: Too Many Requests for url: https://nominatim.openstreetmap.org/search?q=Shackelford+County%2C+Texas%2C+USA&format=jsonv2&addressdetails=1&limit=1\n",
      "Status code 429 from https://nominatim.openstreetmap.org/search: ERROR - 429 Client Error: Too Many Requests for url: https://nominatim.openstreetmap.org/search?q=Logan+County%2C+Illinois%2C+USA&format=jsonv2&addressdetails=1&limit=1\n",
      "Status code Unknown from https://nominatim.openstreetmap.org/search: ERROR - HTTPSConnectionPool(host='nominatim.openstreetmap.org', port=443): Max retries exceeded with url: /search?q=Buffalo+County%2C+Nebraska%2C+USA&format=jsonv2&addressdetails=1&limit=1 (Caused by ConnectTimeoutError(<urllib3.connection.VerifiedHTTPSConnection object at 0x7f70847b7eb8>, 'Connection to nominatim.openstreetmap.org timed out. (connect timeout=5.0)'))\n"
     ]
    },
    {
     "name": "stderr",
     "output_type": "stream",
     "text": [
      "Status code 429 from https://nominatim.openstreetmap.org/search: ERROR - 429 Client Error: Too Many Requests for url: https://nominatim.openstreetmap.org/search?q=Shelby+County%2C+Texas%2C+USA&format=jsonv2&addressdetails=1&limit=1\n",
      "Status code Unknown from https://nominatim.openstreetmap.org/search: ERROR - HTTPSConnectionPool(host='nominatim.openstreetmap.org', port=443): Max retries exceeded with url: /search?q=Ouachita+Parish%2C+Louisiana%2C+USA&format=jsonv2&addressdetails=1&limit=1 (Caused by ConnectTimeoutError(<urllib3.connection.VerifiedHTTPSConnection object at 0x7f7085c78f98>, 'Connection to nominatim.openstreetmap.org timed out. (connect timeout=5.0)'))\n",
      "Status code 429 from https://nominatim.openstreetmap.org/search: ERROR - 429 Client Error: Too Many Requests for url: https://nominatim.openstreetmap.org/search?q=McDonough+County%2C+Illinois%2C+USA&format=jsonv2&addressdetails=1&limit=1\n",
      "Status code 429 from https://nominatim.openstreetmap.org/search: ERROR - 429 Client Error: Too Many Requests for url: https://nominatim.openstreetmap.org/search?q=McHenry+County%2C+Illinois%2C+USA&format=jsonv2&addressdetails=1&limit=1\n",
      "Status code 429 from https://nominatim.openstreetmap.org/search: ERROR - 429 Client Error: Too Many Requests for url: https://nominatim.openstreetmap.org/search?q=Burt+County%2C+Nebraska%2C+USA&format=jsonv2&addressdetails=1&limit=1\n",
      "Status code Unknown from https://nominatim.openstreetmap.org/search: ERROR - HTTPSConnectionPool(host='nominatim.openstreetmap.org', port=443): Max retries exceeded with url: /search?q=Lake+County%2C+Oregon%2C+USA&format=jsonv2&addressdetails=1&limit=1 (Caused by ConnectTimeoutError(<urllib3.connection.VerifiedHTTPSConnection object at 0x7f708486e8d0>, 'Connection to nominatim.openstreetmap.org timed out. (connect timeout=5.0)'))\n",
      "Status code 429 from https://nominatim.openstreetmap.org/search: ERROR - 429 Client Error: Too Many Requests for url: https://nominatim.openstreetmap.org/search?q=McLean+County%2C+Illinois%2C+USA&format=jsonv2&addressdetails=1&limit=1\n",
      "Status code 429 from https://nominatim.openstreetmap.org/search: ERROR - 429 Client Error: Too Many Requests for url: https://nominatim.openstreetmap.org/search?q=Lane+County%2C+Oregon%2C+USA&format=jsonv2&addressdetails=1&limit=1\n",
      "Status code 429 from https://nominatim.openstreetmap.org/search: ERROR - 429 Client Error: Too Many Requests for url: https://nominatim.openstreetmap.org/search?q=Macon+County%2C+Illinois%2C+USA&format=jsonv2&addressdetails=1&limit=1\n",
      "Status code 429 from https://nominatim.openstreetmap.org/search: ERROR - 429 Client Error: Too Many Requests for url: https://nominatim.openstreetmap.org/search?q=Lincoln+County%2C+Oregon%2C+USA&format=jsonv2&addressdetails=1&limit=1\n",
      "Status code 429 from https://nominatim.openstreetmap.org/search: ERROR - 429 Client Error: Too Many Requests for url: https://nominatim.openstreetmap.org/search?q=Macoupin+County%2C+Illinois%2C+USA&format=jsonv2&addressdetails=1&limit=1\n",
      "Status code 429 from https://nominatim.openstreetmap.org/search: ERROR - 429 Client Error: Too Many Requests for url: https://nominatim.openstreetmap.org/search?q=Linn+County%2C+Oregon%2C+USA&format=jsonv2&addressdetails=1&limit=1\n",
      "Status code Unknown from https://nominatim.openstreetmap.org/search: ERROR - HTTPSConnectionPool(host='nominatim.openstreetmap.org', port=443): Max retries exceeded with url: /search?q=Pima+County%2C+Arizona%2C+USA&format=jsonv2&addressdetails=1&limit=1 (Caused by ConnectTimeoutError(<urllib3.connection.VerifiedHTTPSConnection object at 0x7f70846985f8>, 'Connection to nominatim.openstreetmap.org timed out. (connect timeout=5.0)'))\n",
      "Status code 429 from https://nominatim.openstreetmap.org/search: ERROR - 429 Client Error: Too Many Requests for url: https://nominatim.openstreetmap.org/search?q=Madison+County%2C+Illinois%2C+USA&format=jsonv2&addressdetails=1&limit=1\n",
      "Status code 429 from https://nominatim.openstreetmap.org/search: ERROR - 429 Client Error: Too Many Requests for url: https://nominatim.openstreetmap.org/search?q=Malheur+County%2C+Oregon%2C+USA&format=jsonv2&addressdetails=1&limit=1\n",
      "Status code 429 from https://nominatim.openstreetmap.org/search: ERROR - 429 Client Error: Too Many Requests for url: https://nominatim.openstreetmap.org/search?q=Marion+County%2C+Illinois%2C+USA&format=jsonv2&addressdetails=1&limit=1\n",
      "Status code 429 from https://nominatim.openstreetmap.org/search: ERROR - 429 Client Error: Too Many Requests for url: https://nominatim.openstreetmap.org/search?q=Pinal+County%2C+Arizona%2C+USA&format=jsonv2&addressdetails=1&limit=1\n",
      "Status code 429 from https://nominatim.openstreetmap.org/search: ERROR - 429 Client Error: Too Many Requests for url: https://nominatim.openstreetmap.org/search?q=Marion+County%2C+Oregon%2C+USA&format=jsonv2&addressdetails=1&limit=1\n",
      "Status code 429 from https://nominatim.openstreetmap.org/search: ERROR - 429 Client Error: Too Many Requests for url: https://nominatim.openstreetmap.org/search?q=Santa+Cruz+County%2C+Arizona%2C+USA&format=jsonv2&addressdetails=1&limit=1\n",
      "Status code 429 from https://nominatim.openstreetmap.org/search: ERROR - 429 Client Error: Too Many Requests for url: https://nominatim.openstreetmap.org/search?q=Yavapai+County%2C+Arizona%2C+USA&format=jsonv2&addressdetails=1&limit=1\n",
      "Status code Unknown from https://nominatim.openstreetmap.org/search: ERROR - HTTPSConnectionPool(host='nominatim.openstreetmap.org', port=443): Max retries exceeded with url: /search?q=Sherman+County%2C+Texas%2C+USA&format=jsonv2&addressdetails=1&limit=1 (Caused by ConnectTimeoutError(<urllib3.connection.VerifiedHTTPSConnection object at 0x7f7084967898>, 'Connection to nominatim.openstreetmap.org timed out. (connect timeout=5.0)'))\n",
      "Status code Unknown from https://nominatim.openstreetmap.org/search: ERROR - HTTPSConnectionPool(host='nominatim.openstreetmap.org', port=443): Max retries exceeded with url: /search?q=Plaquemines+Parish%2C+Louisiana%2C+USA&format=jsonv2&addressdetails=1&limit=1 (Caused by ConnectTimeoutError(<urllib3.connection.VerifiedHTTPSConnection object at 0x7f708479da20>, 'Connection to nominatim.openstreetmap.org timed out. (connect timeout=5.0)'))\n",
      "Status code 429 from https://nominatim.openstreetmap.org/search: ERROR - 429 Client Error: Too Many Requests for url: https://nominatim.openstreetmap.org/search?q=Yuma+County%2C+Arizona%2C+USA&format=jsonv2&addressdetails=1&limit=1\n",
      "Status code 429 from https://nominatim.openstreetmap.org/search: ERROR - 429 Client Error: Too Many Requests for url: https://nominatim.openstreetmap.org/search?q=Smith+County%2C+Texas%2C+USA&format=jsonv2&addressdetails=1&limit=1\n",
      "Status code 429 from https://nominatim.openstreetmap.org/search: ERROR - 429 Client Error: Too Many Requests for url: https://nominatim.openstreetmap.org/search?q=Pointe+Coupee+Parish%2C+Louisiana%2C+USA&format=jsonv2&addressdetails=1&limit=1\n",
      "Status code 429 from https://nominatim.openstreetmap.org/search: ERROR - 429 Client Error: Too Many Requests for url: https://nominatim.openstreetmap.org/search?q=Somervell+County%2C+Texas%2C+USA&format=jsonv2&addressdetails=1&limit=1\n",
      "Status code Unknown from https://nominatim.openstreetmap.org/search: ERROR - HTTPSConnectionPool(host='nominatim.openstreetmap.org', port=443): Max retries exceeded with url: /search?q=Butler+County%2C+Nebraska%2C+USA&format=jsonv2&addressdetails=1&limit=1 (Caused by ConnectTimeoutError(<urllib3.connection.VerifiedHTTPSConnection object at 0x7f708486e630>, 'Connection to nominatim.openstreetmap.org timed out. (connect timeout=5.0)'))\n",
      "Status code 429 from https://nominatim.openstreetmap.org/search: ERROR - 429 Client Error: Too Many Requests for url: https://nominatim.openstreetmap.org/search?q=Arkansas+County%2C+Arkansas%2C+USA&format=jsonv2&addressdetails=1&limit=1\n",
      "Status code 429 from https://nominatim.openstreetmap.org/search: ERROR - 429 Client Error: Too Many Requests for url: https://nominatim.openstreetmap.org/search?q=Cass+County%2C+Nebraska%2C+USA&format=jsonv2&addressdetails=1&limit=1\n",
      "Status code 429 from https://nominatim.openstreetmap.org/search: ERROR - 429 Client Error: Too Many Requests for url: https://nominatim.openstreetmap.org/search?q=Cedar+County%2C+Nebraska%2C+USA&format=jsonv2&addressdetails=1&limit=1\n"
     ]
    },
    {
     "name": "stderr",
     "output_type": "stream",
     "text": [
      "Status code 429 from https://nominatim.openstreetmap.org/search: ERROR - 429 Client Error: Too Many Requests for url: https://nominatim.openstreetmap.org/search?q=Ashley+County%2C+Arkansas%2C+USA&format=jsonv2&addressdetails=1&limit=1\n",
      "Status code 429 from https://nominatim.openstreetmap.org/search: ERROR - 429 Client Error: Too Many Requests for url: https://nominatim.openstreetmap.org/search?q=Baxter+County%2C+Arkansas%2C+USA&format=jsonv2&addressdetails=1&limit=1\n",
      "Status code 429 from https://nominatim.openstreetmap.org/search: ERROR - 429 Client Error: Too Many Requests for url: https://nominatim.openstreetmap.org/search?q=Rapides+Parish%2C+Louisiana%2C+USA&format=jsonv2&addressdetails=1&limit=1\n",
      "Status code 429 from https://nominatim.openstreetmap.org/search: ERROR - 429 Client Error: Too Many Requests for url: https://nominatim.openstreetmap.org/search?q=Benton+County%2C+Arkansas%2C+USA&format=jsonv2&addressdetails=1&limit=1\n",
      "Status code 429 from https://nominatim.openstreetmap.org/search: ERROR - 429 Client Error: Too Many Requests for url: https://nominatim.openstreetmap.org/search?q=Boone+County%2C+Arkansas%2C+USA&format=jsonv2&addressdetails=1&limit=1\n",
      "Status code 429 from https://nominatim.openstreetmap.org/search: ERROR - 429 Client Error: Too Many Requests for url: https://nominatim.openstreetmap.org/search?q=Red+River+Parish%2C+Louisiana%2C+USA&format=jsonv2&addressdetails=1&limit=1\n",
      "Status code 429 from https://nominatim.openstreetmap.org/search: ERROR - 429 Client Error: Too Many Requests for url: https://nominatim.openstreetmap.org/search?q=Bradley+County%2C+Arkansas%2C+USA&format=jsonv2&addressdetails=1&limit=1\n",
      "Status code 429 from https://nominatim.openstreetmap.org/search: ERROR - 429 Client Error: Too Many Requests for url: https://nominatim.openstreetmap.org/search?q=Richland+Parish%2C+Louisiana%2C+USA&format=jsonv2&addressdetails=1&limit=1\n",
      "Status code Unknown from https://nominatim.openstreetmap.org/search: ERROR - HTTPSConnectionPool(host='nominatim.openstreetmap.org', port=443): Max retries exceeded with url: /search?q=Marshall+County%2C+Illinois%2C+USA&format=jsonv2&addressdetails=1&limit=1 (Caused by ConnectTimeoutError(<urllib3.connection.VerifiedHTTPSConnection object at 0x7f70847a5550>, 'Connection to nominatim.openstreetmap.org timed out. (connect timeout=5.0)'))\n",
      "Status code 429 from https://nominatim.openstreetmap.org/search: ERROR - 429 Client Error: Too Many Requests for url: https://nominatim.openstreetmap.org/search?q=Sabine+Parish%2C+Louisiana%2C+USA&format=jsonv2&addressdetails=1&limit=1\n",
      "Status code 429 from https://nominatim.openstreetmap.org/search: ERROR - 429 Client Error: Too Many Requests for url: https://nominatim.openstreetmap.org/search?q=Calhoun+County%2C+Arkansas%2C+USA&format=jsonv2&addressdetails=1&limit=1\n",
      "Status code Unknown from https://nominatim.openstreetmap.org/search: ERROR - HTTPSConnectionPool(host='nominatim.openstreetmap.org', port=443): Max retries exceeded with url: /search?q=Morrow+County%2C+Oregon%2C+USA&format=jsonv2&addressdetails=1&limit=1 (Caused by ConnectTimeoutError(<urllib3.connection.VerifiedHTTPSConnection object at 0x7f70847bb320>, 'Connection to nominatim.openstreetmap.org timed out. (connect timeout=5.0)'))\n",
      "Status code 429 from https://nominatim.openstreetmap.org/search: ERROR - 429 Client Error: Too Many Requests for url: https://nominatim.openstreetmap.org/search?q=Carroll+County%2C+Arkansas%2C+USA&format=jsonv2&addressdetails=1&limit=1\n",
      "Status code 429 from https://nominatim.openstreetmap.org/search: ERROR - 429 Client Error: Too Many Requests for url: https://nominatim.openstreetmap.org/search?q=St.+Bernard+Parish%2C+Louisiana%2C+USA&format=jsonv2&addressdetails=1&limit=1\n",
      "Status code 429 from https://nominatim.openstreetmap.org/search: ERROR - 429 Client Error: Too Many Requests for url: https://nominatim.openstreetmap.org/search?q=St.+Charles+Parish%2C+Louisiana%2C+USA&format=jsonv2&addressdetails=1&limit=1\n",
      "Status code 429 from https://nominatim.openstreetmap.org/search: ERROR - 429 Client Error: Too Many Requests for url: https://nominatim.openstreetmap.org/search?q=Multnomah+County%2C+Oregon%2C+USA&format=jsonv2&addressdetails=1&limit=1\n",
      "Status code 429 from https://nominatim.openstreetmap.org/search: ERROR - 429 Client Error: Too Many Requests for url: https://nominatim.openstreetmap.org/search?q=Polk+County%2C+Oregon%2C+USA&format=jsonv2&addressdetails=1&limit=1\n",
      "Status code Unknown from https://nominatim.openstreetmap.org/search: ERROR - HTTPSConnectionPool(host='nominatim.openstreetmap.org', port=443): Max retries exceeded with url: /search?q=Starr+County%2C+Texas%2C+USA&format=jsonv2&addressdetails=1&limit=1 (Caused by ConnectTimeoutError(<urllib3.connection.VerifiedHTTPSConnection object at 0x7f708477e828>, 'Connection to nominatim.openstreetmap.org timed out. (connect timeout=5.0)'))\n",
      "Status code 429 from https://nominatim.openstreetmap.org/search: ERROR - 429 Client Error: Too Many Requests for url: https://nominatim.openstreetmap.org/search?q=St.+Helena+Parish%2C+Louisiana%2C+USA&format=jsonv2&addressdetails=1&limit=1\n",
      "Status code 429 from https://nominatim.openstreetmap.org/search: ERROR - 429 Client Error: Too Many Requests for url: https://nominatim.openstreetmap.org/search?q=Stephens+County%2C+Texas%2C+USA&format=jsonv2&addressdetails=1&limit=1\n",
      "Status code 429 from https://nominatim.openstreetmap.org/search: ERROR - 429 Client Error: Too Many Requests for url: https://nominatim.openstreetmap.org/search?q=St.+James+Parish%2C+Louisiana%2C+USA&format=jsonv2&addressdetails=1&limit=1\n",
      "Status code 429 from https://nominatim.openstreetmap.org/search: ERROR - 429 Client Error: Too Many Requests for url: https://nominatim.openstreetmap.org/search?q=Sterling+County%2C+Texas%2C+USA&format=jsonv2&addressdetails=1&limit=1\n",
      "Status code Unknown from https://nominatim.openstreetmap.org/search: ERROR - HTTPSConnectionPool(host='nominatim.openstreetmap.org', port=443): Max retries exceeded with url: /search?q=Chase+County%2C+Nebraska%2C+USA&format=jsonv2&addressdetails=1&limit=1 (Caused by ConnectTimeoutError(<urllib3.connection.VerifiedHTTPSConnection object at 0x7f7084967828>, 'Connection to nominatim.openstreetmap.org timed out. (connect timeout=5.0)'))\n",
      "Status code 429 from https://nominatim.openstreetmap.org/search: ERROR - 429 Client Error: Too Many Requests for url: https://nominatim.openstreetmap.org/search?q=Stonewall+County%2C+Texas%2C+USA&format=jsonv2&addressdetails=1&limit=1\n",
      "Status code 429 from https://nominatim.openstreetmap.org/search: ERROR - 429 Client Error: Too Many Requests for url: https://nominatim.openstreetmap.org/search?q=St.+John+the+Baptist+Parish%2C+Louisiana%2C+USA&format=jsonv2&addressdetails=1&limit=1\n",
      "Status code 429 from https://nominatim.openstreetmap.org/search: ERROR - 429 Client Error: Too Many Requests for url: https://nominatim.openstreetmap.org/search?q=Sutton+County%2C+Texas%2C+USA&format=jsonv2&addressdetails=1&limit=1\n",
      "Status code 429 from https://nominatim.openstreetmap.org/search: ERROR - 429 Client Error: Too Many Requests for url: https://nominatim.openstreetmap.org/search?q=Swisher+County%2C+Texas%2C+USA&format=jsonv2&addressdetails=1&limit=1\n",
      "Status code 429 from https://nominatim.openstreetmap.org/search: ERROR - 429 Client Error: Too Many Requests for url: https://nominatim.openstreetmap.org/search?q=Tarrant+County%2C+Texas%2C+USA&format=jsonv2&addressdetails=1&limit=1\n",
      "Status code 429 from https://nominatim.openstreetmap.org/search: ERROR - 429 Client Error: Too Many Requests for url: https://nominatim.openstreetmap.org/search?q=Taylor+County%2C+Texas%2C+USA&format=jsonv2&addressdetails=1&limit=1\n",
      "Status code 429 from https://nominatim.openstreetmap.org/search: ERROR - 429 Client Error: Too Many Requests for url: https://nominatim.openstreetmap.org/search?q=Terrell+County%2C+Texas%2C+USA&format=jsonv2&addressdetails=1&limit=1\n",
      "Status code Unknown from https://nominatim.openstreetmap.org/search: ERROR - HTTPSConnectionPool(host='nominatim.openstreetmap.org', port=443): Max retries exceeded with url: /search?q=Mason+County%2C+Illinois%2C+USA&format=jsonv2&addressdetails=1&limit=1 (Caused by ConnectTimeoutError(<urllib3.connection.VerifiedHTTPSConnection object at 0x7f70847a5400>, 'Connection to nominatim.openstreetmap.org timed out. (connect timeout=5.0)'))\n"
     ]
    },
    {
     "name": "stderr",
     "output_type": "stream",
     "text": [
      "Status code 429 from https://nominatim.openstreetmap.org/search: ERROR - 429 Client Error: Too Many Requests for url: https://nominatim.openstreetmap.org/search?q=Terry+County%2C+Texas%2C+USA&format=jsonv2&addressdetails=1&limit=1\n",
      "Status code 429 from https://nominatim.openstreetmap.org/search: ERROR - 429 Client Error: Too Many Requests for url: https://nominatim.openstreetmap.org/search?q=Massac+County%2C+Illinois%2C+USA&format=jsonv2&addressdetails=1&limit=1\n",
      "Status code 429 from https://nominatim.openstreetmap.org/search: ERROR - 429 Client Error: Too Many Requests for url: https://nominatim.openstreetmap.org/search?q=Throckmorton+County%2C+Texas%2C+USA&format=jsonv2&addressdetails=1&limit=1\n",
      "Status code Unknown from https://nominatim.openstreetmap.org/search: ERROR - HTTPSConnectionPool(host='nominatim.openstreetmap.org', port=443): Max retries exceeded with url: /search?q=Chicot+County%2C+Arkansas%2C+USA&format=jsonv2&addressdetails=1&limit=1 (Caused by ConnectTimeoutError(<urllib3.connection.VerifiedHTTPSConnection object at 0x7f70848fe4e0>, 'Connection to nominatim.openstreetmap.org timed out. (connect timeout=5.0)'))\n",
      "Status code 429 from https://nominatim.openstreetmap.org/search: ERROR - 429 Client Error: Too Many Requests for url: https://nominatim.openstreetmap.org/search?q=Menard+County%2C+Illinois%2C+USA&format=jsonv2&addressdetails=1&limit=1\n",
      "Status code 429 from https://nominatim.openstreetmap.org/search: ERROR - 429 Client Error: Too Many Requests for url: https://nominatim.openstreetmap.org/search?q=Clark+County%2C+Arkansas%2C+USA&format=jsonv2&addressdetails=1&limit=1\n",
      "Status code 429 from https://nominatim.openstreetmap.org/search: ERROR - 429 Client Error: Too Many Requests for url: https://nominatim.openstreetmap.org/search?q=Titus+County%2C+Texas%2C+USA&format=jsonv2&addressdetails=1&limit=1\n",
      "Status code 429 from https://nominatim.openstreetmap.org/search: ERROR - 429 Client Error: Too Many Requests for url: https://nominatim.openstreetmap.org/search?q=Mercer+County%2C+Illinois%2C+USA&format=jsonv2&addressdetails=1&limit=1\n",
      "Status code 429 from https://nominatim.openstreetmap.org/search: ERROR - 429 Client Error: Too Many Requests for url: https://nominatim.openstreetmap.org/search?q=Tom+Green+County%2C+Texas%2C+USA&format=jsonv2&addressdetails=1&limit=1\n",
      "Status code Unknown from https://nominatim.openstreetmap.org/search: ERROR - HTTPSConnectionPool(host='nominatim.openstreetmap.org', port=443): Max retries exceeded with url: /search?q=Sherman+County%2C+Oregon%2C+USA&format=jsonv2&addressdetails=1&limit=1 (Caused by ConnectTimeoutError(<urllib3.connection.VerifiedHTTPSConnection object at 0x7f70847aacf8>, 'Connection to nominatim.openstreetmap.org timed out. (connect timeout=5.0)'))\n",
      "Status code 429 from https://nominatim.openstreetmap.org/search: ERROR - 429 Client Error: Too Many Requests for url: https://nominatim.openstreetmap.org/search?q=Monroe+County%2C+Illinois%2C+USA&format=jsonv2&addressdetails=1&limit=1\n",
      "Status code 429 from https://nominatim.openstreetmap.org/search: ERROR - 429 Client Error: Too Many Requests for url: https://nominatim.openstreetmap.org/search?q=Montgomery+County%2C+Illinois%2C+USA&format=jsonv2&addressdetails=1&limit=1\n",
      "Status code 429 from https://nominatim.openstreetmap.org/search: ERROR - 429 Client Error: Too Many Requests for url: https://nominatim.openstreetmap.org/search?q=Travis+County%2C+Texas%2C+USA&format=jsonv2&addressdetails=1&limit=1\n",
      "Status code 429 from https://nominatim.openstreetmap.org/search: ERROR - 429 Client Error: Too Many Requests for url: https://nominatim.openstreetmap.org/search?q=Morgan+County%2C+Illinois%2C+USA&format=jsonv2&addressdetails=1&limit=1\n",
      "Status code Unknown from https://nominatim.openstreetmap.org/search: ERROR - HTTPSConnectionPool(host='nominatim.openstreetmap.org', port=443): Max retries exceeded with url: /search?q=Cherry+County%2C+Nebraska%2C+USA&format=jsonv2&addressdetails=1&limit=1 (Caused by ConnectTimeoutError(<urllib3.connection.VerifiedHTTPSConnection object at 0x7f708479e320>, 'Connection to nominatim.openstreetmap.org timed out. (connect timeout=5.0)'))\n",
      "Status code 429 from https://nominatim.openstreetmap.org/search: ERROR - 429 Client Error: Too Many Requests for url: https://nominatim.openstreetmap.org/search?q=Moultrie+County%2C+Illinois%2C+USA&format=jsonv2&addressdetails=1&limit=1\n",
      "Status code 429 from https://nominatim.openstreetmap.org/search: ERROR - 429 Client Error: Too Many Requests for url: https://nominatim.openstreetmap.org/search?q=Cheyenne+County%2C+Nebraska%2C+USA&format=jsonv2&addressdetails=1&limit=1\n",
      "Status code Unknown from https://nominatim.openstreetmap.org/search: ERROR - HTTPSConnectionPool(host='nominatim.openstreetmap.org', port=443): Max retries exceeded with url: /search?q=St.+Landry+Parish%2C+Louisiana%2C+USA&format=jsonv2&addressdetails=1&limit=1 (Caused by ConnectTimeoutError(<urllib3.connection.VerifiedHTTPSConnection object at 0x7f708486eac8>, 'Connection to nominatim.openstreetmap.org timed out. (connect timeout=5.0)'))\n",
      "Status code 429 from https://nominatim.openstreetmap.org/search: ERROR - 429 Client Error: Too Many Requests for url: https://nominatim.openstreetmap.org/search?q=Clay+County%2C+Nebraska%2C+USA&format=jsonv2&addressdetails=1&limit=1\n",
      "Status code 429 from https://nominatim.openstreetmap.org/search: ERROR - 429 Client Error: Too Many Requests for url: https://nominatim.openstreetmap.org/search?q=St.+Martin+Parish%2C+Louisiana%2C+USA&format=jsonv2&addressdetails=1&limit=1\n",
      "Status code 429 from https://nominatim.openstreetmap.org/search: ERROR - 429 Client Error: Too Many Requests for url: https://nominatim.openstreetmap.org/search?q=St.+Mary+Parish%2C+Louisiana%2C+USA&format=jsonv2&addressdetails=1&limit=1\n",
      "Status code 429 from https://nominatim.openstreetmap.org/search: ERROR - 429 Client Error: Too Many Requests for url: https://nominatim.openstreetmap.org/search?q=Colfax+County%2C+Nebraska%2C+USA&format=jsonv2&addressdetails=1&limit=1\n",
      "Status code 429 from https://nominatim.openstreetmap.org/search: ERROR - 429 Client Error: Too Many Requests for url: https://nominatim.openstreetmap.org/search?q=Cuming+County%2C+Nebraska%2C+USA&format=jsonv2&addressdetails=1&limit=1\n",
      "Status code 429 from https://nominatim.openstreetmap.org/search: ERROR - 429 Client Error: Too Many Requests for url: https://nominatim.openstreetmap.org/search?q=Custer+County%2C+Nebraska%2C+USA&format=jsonv2&addressdetails=1&limit=1\n",
      "Status code 429 from https://nominatim.openstreetmap.org/search: ERROR - 429 Client Error: Too Many Requests for url: https://nominatim.openstreetmap.org/search?q=Dakota+County%2C+Nebraska%2C+USA&format=jsonv2&addressdetails=1&limit=1\n",
      "Status code 429 from https://nominatim.openstreetmap.org/search: ERROR - 429 Client Error: Too Many Requests for url: https://nominatim.openstreetmap.org/search?q=Dawes+County%2C+Nebraska%2C+USA&format=jsonv2&addressdetails=1&limit=1\n",
      "Status code Unknown from https://nominatim.openstreetmap.org/search: ERROR - HTTPSConnectionPool(host='nominatim.openstreetmap.org', port=443): Max retries exceeded with url: /search?q=Clay+County%2C+Arkansas%2C+USA&format=jsonv2&addressdetails=1&limit=1 (Caused by ConnectTimeoutError(<urllib3.connection.VerifiedHTTPSConnection object at 0x7f708486e898>, 'Connection to nominatim.openstreetmap.org timed out. (connect timeout=5.0)'))\n",
      "Status code 429 from https://nominatim.openstreetmap.org/search: ERROR - 429 Client Error: Too Many Requests for url: https://nominatim.openstreetmap.org/search?q=Dawson+County%2C+Nebraska%2C+USA&format=jsonv2&addressdetails=1&limit=1\n",
      "Status code 429 from https://nominatim.openstreetmap.org/search: ERROR - 429 Client Error: Too Many Requests for url: https://nominatim.openstreetmap.org/search?q=Deuel+County%2C+Nebraska%2C+USA&format=jsonv2&addressdetails=1&limit=1\n",
      "Status code 429 from https://nominatim.openstreetmap.org/search: ERROR - 429 Client Error: Too Many Requests for url: https://nominatim.openstreetmap.org/search?q=Dixon+County%2C+Nebraska%2C+USA&format=jsonv2&addressdetails=1&limit=1\n",
      "Status code Unknown from https://nominatim.openstreetmap.org/search: ERROR - HTTPSConnectionPool(host='nominatim.openstreetmap.org', port=443): Max retries exceeded with url: /search?q=Tillamook+County%2C+Oregon%2C+USA&format=jsonv2&addressdetails=1&limit=1 (Caused by ConnectTimeoutError(<urllib3.connection.VerifiedHTTPSConnection object at 0x7f708477c2b0>, 'Connection to nominatim.openstreetmap.org timed out. (connect timeout=5.0)'))\n"
     ]
    },
    {
     "name": "stderr",
     "output_type": "stream",
     "text": [
      "Status code 429 from https://nominatim.openstreetmap.org/search: ERROR - 429 Client Error: Too Many Requests for url: https://nominatim.openstreetmap.org/search?q=Dodge+County%2C+Nebraska%2C+USA&format=jsonv2&addressdetails=1&limit=1\n",
      "Status code 429 from https://nominatim.openstreetmap.org/search: ERROR - 429 Client Error: Too Many Requests for url: https://nominatim.openstreetmap.org/search?q=Umatilla+County%2C+Oregon%2C+USA&format=jsonv2&addressdetails=1&limit=1\n",
      "Status code 429 from https://nominatim.openstreetmap.org/search: ERROR - 429 Client Error: Too Many Requests for url: https://nominatim.openstreetmap.org/search?q=Douglas+County%2C+Nebraska%2C+USA&format=jsonv2&addressdetails=1&limit=1\n",
      "Status code Unknown from https://nominatim.openstreetmap.org/search: ERROR - HTTPSConnectionPool(host='nominatim.openstreetmap.org', port=443): Max retries exceeded with url: /search?q=Trinity+County%2C+Texas%2C+USA&format=jsonv2&addressdetails=1&limit=1 (Caused by ConnectTimeoutError(<urllib3.connection.VerifiedHTTPSConnection object at 0x7f70847c7278>, 'Connection to nominatim.openstreetmap.org timed out. (connect timeout=5.0)'))\n",
      "Status code 429 from https://nominatim.openstreetmap.org/search: ERROR - 429 Client Error: Too Many Requests for url: https://nominatim.openstreetmap.org/search?q=Dundy+County%2C+Nebraska%2C+USA&format=jsonv2&addressdetails=1&limit=1\n",
      "Status code 429 from https://nominatim.openstreetmap.org/search: ERROR - 429 Client Error: Too Many Requests for url: https://nominatim.openstreetmap.org/search?q=Union+County%2C+Oregon%2C+USA&format=jsonv2&addressdetails=1&limit=1\n",
      "Status code Unknown from https://nominatim.openstreetmap.org/search: ERROR - HTTPSConnectionPool(host='nominatim.openstreetmap.org', port=443): Max retries exceeded with url: /search?q=Ogle+County%2C+Illinois%2C+USA&format=jsonv2&addressdetails=1&limit=1 (Caused by ConnectTimeoutError(<urllib3.connection.VerifiedHTTPSConnection object at 0x7f708479e908>, 'Connection to nominatim.openstreetmap.org timed out. (connect timeout=5.0)'))\n",
      "Status code 429 from https://nominatim.openstreetmap.org/search: ERROR - 429 Client Error: Too Many Requests for url: https://nominatim.openstreetmap.org/search?q=Fillmore+County%2C+Nebraska%2C+USA&format=jsonv2&addressdetails=1&limit=1\n",
      "Status code 429 from https://nominatim.openstreetmap.org/search: ERROR - 429 Client Error: Too Many Requests for url: https://nominatim.openstreetmap.org/search?q=Franklin+County%2C+Nebraska%2C+USA&format=jsonv2&addressdetails=1&limit=1\n",
      "Status code 429 from https://nominatim.openstreetmap.org/search: ERROR - 429 Client Error: Too Many Requests for url: https://nominatim.openstreetmap.org/search?q=Wallowa+County%2C+Oregon%2C+USA&format=jsonv2&addressdetails=1&limit=1\n",
      "Status code Unknown from https://nominatim.openstreetmap.org/search: ERROR - HTTPSConnectionPool(host='nominatim.openstreetmap.org', port=443): Max retries exceeded with url: /search?q=St.+Tammany+Parish%2C+Louisiana%2C+USA&format=jsonv2&addressdetails=1&limit=1 (Caused by ConnectTimeoutError(<urllib3.connection.VerifiedHTTPSConnection object at 0x7f708479dd68>, 'Connection to nominatim.openstreetmap.org timed out. (connect timeout=5.0)'))\n",
      "Status code 429 from https://nominatim.openstreetmap.org/search: ERROR - 429 Client Error: Too Many Requests for url: https://nominatim.openstreetmap.org/search?q=Wasco+County%2C+Oregon%2C+USA&format=jsonv2&addressdetails=1&limit=1\n",
      "Status code 429 from https://nominatim.openstreetmap.org/search: ERROR - 429 Client Error: Too Many Requests for url: https://nominatim.openstreetmap.org/search?q=Frontier+County%2C+Nebraska%2C+USA&format=jsonv2&addressdetails=1&limit=1\n",
      "Status code 429 from https://nominatim.openstreetmap.org/search: ERROR - 429 Client Error: Too Many Requests for url: https://nominatim.openstreetmap.org/search?q=Washington+County%2C+Oregon%2C+USA&format=jsonv2&addressdetails=1&limit=1\n",
      "Status code 429 from https://nominatim.openstreetmap.org/search: ERROR - 429 Client Error: Too Many Requests for url: https://nominatim.openstreetmap.org/search?q=Furnas+County%2C+Nebraska%2C+USA&format=jsonv2&addressdetails=1&limit=1\n",
      "Status code 429 from https://nominatim.openstreetmap.org/search: ERROR - 429 Client Error: Too Many Requests for url: https://nominatim.openstreetmap.org/search?q=Wheeler+County%2C+Oregon%2C+USA&format=jsonv2&addressdetails=1&limit=1\n",
      "Status code 429 from https://nominatim.openstreetmap.org/search: ERROR - 429 Client Error: Too Many Requests for url: https://nominatim.openstreetmap.org/search?q=Yamhill+County%2C+Oregon%2C+USA&format=jsonv2&addressdetails=1&limit=1\n",
      "Status code 429 from https://nominatim.openstreetmap.org/search: ERROR - 429 Client Error: Too Many Requests for url: https://nominatim.openstreetmap.org/search?q=Gage+County%2C+Nebraska%2C+USA&format=jsonv2&addressdetails=1&limit=1\n",
      "Status code 429 from https://nominatim.openstreetmap.org/search: ERROR - 429 Client Error: Too Many Requests for url: https://nominatim.openstreetmap.org/search?q=Garden+County%2C+Nebraska%2C+USA&format=jsonv2&addressdetails=1&limit=1\n",
      "Status code Unknown from https://nominatim.openstreetmap.org/search: ERROR - HTTPSConnectionPool(host='nominatim.openstreetmap.org', port=443): Max retries exceeded with url: /search?q=Cleburne+County%2C+Arkansas%2C+USA&format=jsonv2&addressdetails=1&limit=1 (Caused by ConnectTimeoutError(<urllib3.connection.VerifiedHTTPSConnection object at 0x7f7084960cf8>, 'Connection to nominatim.openstreetmap.org timed out. (connect timeout=5.0)'))\n",
      "Status code 429 from https://nominatim.openstreetmap.org/search: ERROR - 429 Client Error: Too Many Requests for url: https://nominatim.openstreetmap.org/search?q=Garfield+County%2C+Nebraska%2C+USA&format=jsonv2&addressdetails=1&limit=1\n",
      "Status code 429 from https://nominatim.openstreetmap.org/search: ERROR - 429 Client Error: Too Many Requests for url: https://nominatim.openstreetmap.org/search?q=Cleveland+County%2C+Arkansas%2C+USA&format=jsonv2&addressdetails=1&limit=1\n",
      "Status code 429 from https://nominatim.openstreetmap.org/search: ERROR - 429 Client Error: Too Many Requests for url: https://nominatim.openstreetmap.org/search?q=Columbia+County%2C+Arkansas%2C+USA&format=jsonv2&addressdetails=1&limit=1\n",
      "Status code 429 from https://nominatim.openstreetmap.org/search: ERROR - 429 Client Error: Too Many Requests for url: https://nominatim.openstreetmap.org/search?q=Gosper+County%2C+Nebraska%2C+USA&format=jsonv2&addressdetails=1&limit=1\n",
      "Status code 429 from https://nominatim.openstreetmap.org/search: ERROR - 429 Client Error: Too Many Requests for url: https://nominatim.openstreetmap.org/search?q=Grant+County%2C+Nebraska%2C+USA&format=jsonv2&addressdetails=1&limit=1\n",
      "Status code Unknown from https://nominatim.openstreetmap.org/search: ERROR - HTTPSConnectionPool(host='nominatim.openstreetmap.org', port=443): Max retries exceeded with url: /search?q=Tyler+County%2C+Texas%2C+USA&format=jsonv2&addressdetails=1&limit=1 (Caused by ConnectTimeoutError(<urllib3.connection.VerifiedHTTPSConnection object at 0x7f70847c7e48>, 'Connection to nominatim.openstreetmap.org timed out. (connect timeout=5.0)'))\n",
      "Status code 429 from https://nominatim.openstreetmap.org/search: ERROR - 429 Client Error: Too Many Requests for url: https://nominatim.openstreetmap.org/search?q=Conway+County%2C+Arkansas%2C+USA&format=jsonv2&addressdetails=1&limit=1\n",
      "Status code 429 from https://nominatim.openstreetmap.org/search: ERROR - 429 Client Error: Too Many Requests for url: https://nominatim.openstreetmap.org/search?q=Greeley+County%2C+Nebraska%2C+USA&format=jsonv2&addressdetails=1&limit=1\n",
      "Status code 429 from https://nominatim.openstreetmap.org/search: ERROR - 429 Client Error: Too Many Requests for url: https://nominatim.openstreetmap.org/search?q=Upshur+County%2C+Texas%2C+USA&format=jsonv2&addressdetails=1&limit=1\n",
      "Status code Unknown from https://nominatim.openstreetmap.org/search: ERROR - HTTPSConnectionPool(host='nominatim.openstreetmap.org', port=443): Max retries exceeded with url: /search?q=Peoria+County%2C+Illinois%2C+USA&format=jsonv2&addressdetails=1&limit=1 (Caused by ConnectTimeoutError(<urllib3.connection.VerifiedHTTPSConnection object at 0x7f708495f0b8>, 'Connection to nominatim.openstreetmap.org timed out. (connect timeout=5.0)'))\n"
     ]
    },
    {
     "name": "stderr",
     "output_type": "stream",
     "text": [
      "Status code 429 from https://nominatim.openstreetmap.org/search: ERROR - 429 Client Error: Too Many Requests for url: https://nominatim.openstreetmap.org/search?q=Upton+County%2C+Texas%2C+USA&format=jsonv2&addressdetails=1&limit=1\n",
      "Status code 429 from https://nominatim.openstreetmap.org/search: ERROR - 429 Client Error: Too Many Requests for url: https://nominatim.openstreetmap.org/search?q=Perry+County%2C+Illinois%2C+USA&format=jsonv2&addressdetails=1&limit=1\n",
      "Status code 429 from https://nominatim.openstreetmap.org/search: ERROR - 429 Client Error: Too Many Requests for url: https://nominatim.openstreetmap.org/search?q=Piatt+County%2C+Illinois%2C+USA&format=jsonv2&addressdetails=1&limit=1\n",
      "Status code Unknown from https://nominatim.openstreetmap.org/search: ERROR - HTTPSConnectionPool(host='nominatim.openstreetmap.org', port=443): Max retries exceeded with url: /search?q=Tangipahoa+Parish%2C+Louisiana%2C+USA&format=jsonv2&addressdetails=1&limit=1 (Caused by ConnectTimeoutError(<urllib3.connection.VerifiedHTTPSConnection object at 0x7f70847a64a8>, 'Connection to nominatim.openstreetmap.org timed out. (connect timeout=5.0)'))\n",
      "Status code 429 from https://nominatim.openstreetmap.org/search: ERROR - 429 Client Error: Too Many Requests for url: https://nominatim.openstreetmap.org/search?q=Tensas+Parish%2C+Louisiana%2C+USA&format=jsonv2&addressdetails=1&limit=1\n",
      "Status code 429 from https://nominatim.openstreetmap.org/search: ERROR - 429 Client Error: Too Many Requests for url: https://nominatim.openstreetmap.org/search?q=Craighead+County%2C+Arkansas%2C+USA&format=jsonv2&addressdetails=1&limit=1\n",
      "Status code 429 from https://nominatim.openstreetmap.org/search: ERROR - 429 Client Error: Too Many Requests for url: https://nominatim.openstreetmap.org/search?q=Terrebonne+Parish%2C+Louisiana%2C+USA&format=jsonv2&addressdetails=1&limit=1\n",
      "Status code 429 from https://nominatim.openstreetmap.org/search: ERROR - 429 Client Error: Too Many Requests for url: https://nominatim.openstreetmap.org/search?q=Uvalde+County%2C+Texas%2C+USA&format=jsonv2&addressdetails=1&limit=1\n",
      "Status code Unknown from https://nominatim.openstreetmap.org/search: ERROR - HTTPSConnectionPool(host='nominatim.openstreetmap.org', port=443): Max retries exceeded with url: /search?q=Adams+County%2C+Pennsylvania%2C+USA&format=jsonv2&addressdetails=1&limit=1 (Caused by ConnectTimeoutError(<urllib3.connection.VerifiedHTTPSConnection object at 0x7f7084967908>, 'Connection to nominatim.openstreetmap.org timed out. (connect timeout=5.0)'))\n",
      "Status code 429 from https://nominatim.openstreetmap.org/search: ERROR - 429 Client Error: Too Many Requests for url: https://nominatim.openstreetmap.org/search?q=Crawford+County%2C+Arkansas%2C+USA&format=jsonv2&addressdetails=1&limit=1\n",
      "Status code 429 from https://nominatim.openstreetmap.org/search: ERROR - 429 Client Error: Too Many Requests for url: https://nominatim.openstreetmap.org/search?q=Val+Verde+County%2C+Texas%2C+USA&format=jsonv2&addressdetails=1&limit=1\n",
      "Status code 429 from https://nominatim.openstreetmap.org/search: ERROR - 429 Client Error: Too Many Requests for url: https://nominatim.openstreetmap.org/search?q=Crittenden+County%2C+Arkansas%2C+USA&format=jsonv2&addressdetails=1&limit=1\n",
      "Status code 429 from https://nominatim.openstreetmap.org/search: ERROR - 429 Client Error: Too Many Requests for url: https://nominatim.openstreetmap.org/search?q=Cross+County%2C+Arkansas%2C+USA&format=jsonv2&addressdetails=1&limit=1\n",
      "Status code 429 from https://nominatim.openstreetmap.org/search: ERROR - 429 Client Error: Too Many Requests for url: https://nominatim.openstreetmap.org/search?q=Van+Zandt+County%2C+Texas%2C+USA&format=jsonv2&addressdetails=1&limit=1\n",
      "Status code 429 from https://nominatim.openstreetmap.org/search: ERROR - 429 Client Error: Too Many Requests for url: https://nominatim.openstreetmap.org/search?q=Union+Parish%2C+Louisiana%2C+USA&format=jsonv2&addressdetails=1&limit=1\n",
      "Status code 429 from https://nominatim.openstreetmap.org/search: ERROR - 429 Client Error: Too Many Requests for url: https://nominatim.openstreetmap.org/search?q=Dallas+County%2C+Arkansas%2C+USA&format=jsonv2&addressdetails=1&limit=1\n",
      "Status code 429 from https://nominatim.openstreetmap.org/search: ERROR - 429 Client Error: Too Many Requests for url: https://nominatim.openstreetmap.org/search?q=Vermilion+Parish%2C+Louisiana%2C+USA&format=jsonv2&addressdetails=1&limit=1\n",
      "Status code 429 from https://nominatim.openstreetmap.org/search: ERROR - 429 Client Error: Too Many Requests for url: https://nominatim.openstreetmap.org/search?q=Desha+County%2C+Arkansas%2C+USA&format=jsonv2&addressdetails=1&limit=1\n",
      "Status code 429 from https://nominatim.openstreetmap.org/search: ERROR - 429 Client Error: Too Many Requests for url: https://nominatim.openstreetmap.org/search?q=Drew+County%2C+Arkansas%2C+USA&format=jsonv2&addressdetails=1&limit=1\n",
      "Status code 429 from https://nominatim.openstreetmap.org/search: ERROR - 429 Client Error: Too Many Requests for url: https://nominatim.openstreetmap.org/search?q=Vernon+Parish%2C+Louisiana%2C+USA&format=jsonv2&addressdetails=1&limit=1\n",
      "Status code Unknown from https://nominatim.openstreetmap.org/search: ERROR - HTTPSConnectionPool(host='nominatim.openstreetmap.org', port=443): Max retries exceeded with url: /search?q=Hall+County%2C+Nebraska%2C+USA&format=jsonv2&addressdetails=1&limit=1 (Caused by ConnectTimeoutError(<urllib3.connection.VerifiedHTTPSConnection object at 0x7f708479ecf8>, 'Connection to nominatim.openstreetmap.org timed out. (connect timeout=5.0)'))\n",
      "Status code 429 from https://nominatim.openstreetmap.org/search: ERROR - 429 Client Error: Too Many Requests for url: https://nominatim.openstreetmap.org/search?q=Washington+Parish%2C+Louisiana%2C+USA&format=jsonv2&addressdetails=1&limit=1\n",
      "Status code 429 from https://nominatim.openstreetmap.org/search: ERROR - 429 Client Error: Too Many Requests for url: https://nominatim.openstreetmap.org/search?q=Faulkner+County%2C+Arkansas%2C+USA&format=jsonv2&addressdetails=1&limit=1\n",
      "Status code 429 from https://nominatim.openstreetmap.org/search: ERROR - 429 Client Error: Too Many Requests for url: https://nominatim.openstreetmap.org/search?q=Webster+Parish%2C+Louisiana%2C+USA&format=jsonv2&addressdetails=1&limit=1\n",
      "Status code 429 from https://nominatim.openstreetmap.org/search: ERROR - 429 Client Error: Too Many Requests for url: https://nominatim.openstreetmap.org/search?q=Franklin+County%2C+Arkansas%2C+USA&format=jsonv2&addressdetails=1&limit=1\n",
      "Status code Unknown from https://nominatim.openstreetmap.org/search: ERROR - HTTPSConnectionPool(host='nominatim.openstreetmap.org', port=443): Max retries exceeded with url: /search?q=Pike+County%2C+Illinois%2C+USA&format=jsonv2&addressdetails=1&limit=1 (Caused by ConnectTimeoutError(<urllib3.connection.VerifiedHTTPSConnection object at 0x7f70847b5710>, 'Connection to nominatim.openstreetmap.org timed out. (connect timeout=5.0)'))\n",
      "Status code 429 from https://nominatim.openstreetmap.org/search: ERROR - 429 Client Error: Too Many Requests for url: https://nominatim.openstreetmap.org/search?q=Fulton+County%2C+Arkansas%2C+USA&format=jsonv2&addressdetails=1&limit=1\n"
     ]
    },
    {
     "name": "stdout",
     "output_type": "stream",
     "text": [
      "30.4514623 -91.3261882\n"
     ]
    },
    {
     "name": "stderr",
     "output_type": "stream",
     "text": [
      "Status code 429 from https://nominatim.openstreetmap.org/search: ERROR - 429 Client Error: Too Many Requests for url: https://nominatim.openstreetmap.org/search?q=Garland+County%2C+Arkansas%2C+USA&format=jsonv2&addressdetails=1&limit=1\n",
      "Status code 429 from https://nominatim.openstreetmap.org/search: ERROR - 429 Client Error: Too Many Requests for url: https://nominatim.openstreetmap.org/search?q=Hamilton+County%2C+Nebraska%2C+USA&format=jsonv2&addressdetails=1&limit=1\n",
      "Status code 429 from https://nominatim.openstreetmap.org/search: ERROR - 429 Client Error: Too Many Requests for url: https://nominatim.openstreetmap.org/search?q=Harlan+County%2C+Nebraska%2C+USA&format=jsonv2&addressdetails=1&limit=1\n",
      "Status code 429 from https://nominatim.openstreetmap.org/search: ERROR - 429 Client Error: Too Many Requests for url: https://nominatim.openstreetmap.org/search?q=West+Carroll+Parish%2C+Louisiana%2C+USA&format=jsonv2&addressdetails=1&limit=1\n",
      "Status code Unknown from https://nominatim.openstreetmap.org/search: ERROR - HTTPSConnectionPool(host='nominatim.openstreetmap.org', port=443): Max retries exceeded with url: /search?q=Allegheny+County%2C+Pennsylvania%2C+USA&format=jsonv2&addressdetails=1&limit=1 (Caused by ConnectTimeoutError(<urllib3.connection.VerifiedHTTPSConnection object at 0x7f708486ebe0>, 'Connection to nominatim.openstreetmap.org timed out. (connect timeout=5.0)'))\n",
      "Status code 429 from https://nominatim.openstreetmap.org/search: ERROR - 429 Client Error: Too Many Requests for url: https://nominatim.openstreetmap.org/search?q=West+Feliciana+Parish%2C+Louisiana%2C+USA&format=jsonv2&addressdetails=1&limit=1\n",
      "Status code 429 from https://nominatim.openstreetmap.org/search: ERROR - 429 Client Error: Too Many Requests for url: https://nominatim.openstreetmap.org/search?q=Armstrong+County%2C+Pennsylvania%2C+USA&format=jsonv2&addressdetails=1&limit=1\n",
      "Status code 429 from https://nominatim.openstreetmap.org/search: ERROR - 429 Client Error: Too Many Requests for url: https://nominatim.openstreetmap.org/search?q=Beaver+County%2C+Pennsylvania%2C+USA&format=jsonv2&addressdetails=1&limit=1\n",
      "Status code 429 from https://nominatim.openstreetmap.org/search: ERROR - 429 Client Error: Too Many Requests for url: https://nominatim.openstreetmap.org/search?q=Grant+County%2C+Arkansas%2C+USA&format=jsonv2&addressdetails=1&limit=1\n",
      "Status code Unknown from https://nominatim.openstreetmap.org/search: ERROR - HTTPSConnectionPool(host='nominatim.openstreetmap.org', port=443): Max retries exceeded with url: /search?q=Victoria+County%2C+Texas%2C+USA&format=jsonv2&addressdetails=1&limit=1 (Caused by ConnectTimeoutError(<urllib3.connection.VerifiedHTTPSConnection object at 0x7f708477e2e8>, 'Connection to nominatim.openstreetmap.org timed out. (connect timeout=5.0)'))\n",
      "Status code 429 from https://nominatim.openstreetmap.org/search: ERROR - 429 Client Error: Too Many Requests for url: https://nominatim.openstreetmap.org/search?q=Walker+County%2C+Texas%2C+USA&format=jsonv2&addressdetails=1&limit=1\n",
      "Status code 429 from https://nominatim.openstreetmap.org/search: ERROR - 429 Client Error: Too Many Requests for url: https://nominatim.openstreetmap.org/search?q=Waller+County%2C+Texas%2C+USA&format=jsonv2&addressdetails=1&limit=1\n",
      "Status code 429 from https://nominatim.openstreetmap.org/search: ERROR - 429 Client Error: Too Many Requests for url: https://nominatim.openstreetmap.org/search?q=Ward+County%2C+Texas%2C+USA&format=jsonv2&addressdetails=1&limit=1\n",
      "Status code 429 from https://nominatim.openstreetmap.org/search: ERROR - 429 Client Error: Too Many Requests for url: https://nominatim.openstreetmap.org/search?q=Washington+County%2C+Texas%2C+USA&format=jsonv2&addressdetails=1&limit=1\n",
      "Status code 429 from https://nominatim.openstreetmap.org/search: ERROR - 429 Client Error: Too Many Requests for url: https://nominatim.openstreetmap.org/search?q=Webb+County%2C+Texas%2C+USA&format=jsonv2&addressdetails=1&limit=1\n",
      "Status code 429 from https://nominatim.openstreetmap.org/search: ERROR - 429 Client Error: Too Many Requests for url: https://nominatim.openstreetmap.org/search?q=Wharton+County%2C+Texas%2C+USA&format=jsonv2&addressdetails=1&limit=1\n",
      "Status code 429 from https://nominatim.openstreetmap.org/search: ERROR - 429 Client Error: Too Many Requests for url: https://nominatim.openstreetmap.org/search?q=Wheeler+County%2C+Texas%2C+USA&format=jsonv2&addressdetails=1&limit=1\n",
      "Status code Unknown from https://nominatim.openstreetmap.org/search: ERROR - HTTPSConnectionPool(host='nominatim.openstreetmap.org', port=443): Max retries exceeded with url: /search?q=Pope+County%2C+Illinois%2C+USA&format=jsonv2&addressdetails=1&limit=1 (Caused by ConnectTimeoutError(<urllib3.connection.VerifiedHTTPSConnection object at 0x7f708479e748>, 'Connection to nominatim.openstreetmap.org timed out. (connect timeout=5.0)'))\n",
      "Status code 429 from https://nominatim.openstreetmap.org/search: ERROR - 429 Client Error: Too Many Requests for url: https://nominatim.openstreetmap.org/search?q=Wichita+County%2C+Texas%2C+USA&format=jsonv2&addressdetails=1&limit=1\n",
      "Status code 429 from https://nominatim.openstreetmap.org/search: ERROR - 429 Client Error: Too Many Requests for url: https://nominatim.openstreetmap.org/search?q=Pulaski+County%2C+Illinois%2C+USA&format=jsonv2&addressdetails=1&limit=1\n",
      "Status code 429 from https://nominatim.openstreetmap.org/search: ERROR - 429 Client Error: Too Many Requests for url: https://nominatim.openstreetmap.org/search?q=Wilbarger+County%2C+Texas%2C+USA&format=jsonv2&addressdetails=1&limit=1\n",
      "Status code 429 from https://nominatim.openstreetmap.org/search: ERROR - 429 Client Error: Too Many Requests for url: https://nominatim.openstreetmap.org/search?q=Willacy+County%2C+Texas%2C+USA&format=jsonv2&addressdetails=1&limit=1\n",
      "Status code 429 from https://nominatim.openstreetmap.org/search: ERROR - 429 Client Error: Too Many Requests for url: https://nominatim.openstreetmap.org/search?q=Putnam+County%2C+Illinois%2C+USA&format=jsonv2&addressdetails=1&limit=1\n",
      "Status code Unknown from https://nominatim.openstreetmap.org/search: ERROR - HTTPSConnectionPool(host='nominatim.openstreetmap.org', port=443): Max retries exceeded with url: /search?q=Hayes+County%2C+Nebraska%2C+USA&format=jsonv2&addressdetails=1&limit=1 (Caused by ConnectTimeoutError(<urllib3.connection.VerifiedHTTPSConnection object at 0x7f708486e588>, 'Connection to nominatim.openstreetmap.org timed out. (connect timeout=5.0)'))\n",
      "Status code 429 from https://nominatim.openstreetmap.org/search: ERROR - 429 Client Error: Too Many Requests for url: https://nominatim.openstreetmap.org/search?q=Randolph+County%2C+Illinois%2C+USA&format=jsonv2&addressdetails=1&limit=1\n",
      "Status code Unknown from https://nominatim.openstreetmap.org/search: ERROR - HTTPSConnectionPool(host='nominatim.openstreetmap.org', port=443): Max retries exceeded with url: /search?q=Winn+Parish%2C+Louisiana%2C+USA&format=jsonv2&addressdetails=1&limit=1 (Caused by ConnectTimeoutError(<urllib3.connection.VerifiedHTTPSConnection object at 0x7f70847a6240>, 'Connection to nominatim.openstreetmap.org timed out. (connect timeout=5.0)'))\n",
      "Status code 429 from https://nominatim.openstreetmap.org/search: ERROR - 429 Client Error: Too Many Requests for url: https://nominatim.openstreetmap.org/search?q=Williamson+County%2C+Texas%2C+USA&format=jsonv2&addressdetails=1&limit=1\n",
      "Status code 429 from https://nominatim.openstreetmap.org/search: ERROR - 429 Client Error: Too Many Requests for url: https://nominatim.openstreetmap.org/search?q=Richland+County%2C+Illinois%2C+USA&format=jsonv2&addressdetails=1&limit=1\n",
      "Status code 429 from https://nominatim.openstreetmap.org/search: ERROR - 429 Client Error: Too Many Requests for url: https://nominatim.openstreetmap.org/search?q=Wilson+County%2C+Texas%2C+USA&format=jsonv2&addressdetails=1&limit=1\n",
      "Status code Unknown from https://nominatim.openstreetmap.org/search: ERROR - HTTPSConnectionPool(host='nominatim.openstreetmap.org', port=443): Max retries exceeded with url: /search?q=Bedford+County%2C+Pennsylvania%2C+USA&format=jsonv2&addressdetails=1&limit=1 (Caused by ConnectTimeoutError(<urllib3.connection.VerifiedHTTPSConnection object at 0x7f70847aa2e8>, 'Connection to nominatim.openstreetmap.org timed out. (connect timeout=5.0)'))\n"
     ]
    },
    {
     "name": "stderr",
     "output_type": "stream",
     "text": [
      "Status code Unknown from https://nominatim.openstreetmap.org/search: ERROR - HTTPSConnectionPool(host='nominatim.openstreetmap.org', port=443): Max retries exceeded with url: /search?q=Greene+County%2C+Arkansas%2C+USA&format=jsonv2&addressdetails=1&limit=1 (Caused by ConnectTimeoutError(<urllib3.connection.VerifiedHTTPSConnection object at 0x7f7084905d30>, 'Connection to nominatim.openstreetmap.org timed out. (connect timeout=5.0)'))\n",
      "Status code 429 from https://nominatim.openstreetmap.org/search: ERROR - 429 Client Error: Too Many Requests for url: https://nominatim.openstreetmap.org/search?q=Winkler+County%2C+Texas%2C+USA&format=jsonv2&addressdetails=1&limit=1\n",
      "Status code 429 from https://nominatim.openstreetmap.org/search: ERROR - 429 Client Error: Too Many Requests for url: https://nominatim.openstreetmap.org/search?q=Rock+Island+County%2C+Illinois%2C+USA&format=jsonv2&addressdetails=1&limit=1\n",
      "Status code 429 from https://nominatim.openstreetmap.org/search: ERROR - 429 Client Error: Too Many Requests for url: https://nominatim.openstreetmap.org/search?q=Wise+County%2C+Texas%2C+USA&format=jsonv2&addressdetails=1&limit=1\n",
      "Status code 429 from https://nominatim.openstreetmap.org/search: ERROR - 429 Client Error: Too Many Requests for url: https://nominatim.openstreetmap.org/search?q=Wood+County%2C+Texas%2C+USA&format=jsonv2&addressdetails=1&limit=1\n",
      "Status code 429 from https://nominatim.openstreetmap.org/search: ERROR - 429 Client Error: Too Many Requests for url: https://nominatim.openstreetmap.org/search?q=Hempstead+County%2C+Arkansas%2C+USA&format=jsonv2&addressdetails=1&limit=1\n",
      "Status code 429 from https://nominatim.openstreetmap.org/search: ERROR - 429 Client Error: Too Many Requests for url: https://nominatim.openstreetmap.org/search?q=Hot+Spring+County%2C+Arkansas%2C+USA&format=jsonv2&addressdetails=1&limit=1\n",
      "Status code 429 from https://nominatim.openstreetmap.org/search: ERROR - 429 Client Error: Too Many Requests for url: https://nominatim.openstreetmap.org/search?q=Howard+County%2C+Arkansas%2C+USA&format=jsonv2&addressdetails=1&limit=1\n",
      "Status code 429 from https://nominatim.openstreetmap.org/search: ERROR - 429 Client Error: Too Many Requests for url: https://nominatim.openstreetmap.org/search?q=Independence+County%2C+Arkansas%2C+USA&format=jsonv2&addressdetails=1&limit=1\n",
      "Status code 429 from https://nominatim.openstreetmap.org/search: ERROR - 429 Client Error: Too Many Requests for url: https://nominatim.openstreetmap.org/search?q=Izard+County%2C+Arkansas%2C+USA&format=jsonv2&addressdetails=1&limit=1\n",
      "Status code 429 from https://nominatim.openstreetmap.org/search: ERROR - 429 Client Error: Too Many Requests for url: https://nominatim.openstreetmap.org/search?q=Jackson+County%2C+Arkansas%2C+USA&format=jsonv2&addressdetails=1&limit=1\n",
      "Status code 429 from https://nominatim.openstreetmap.org/search: ERROR - 429 Client Error: Too Many Requests for url: https://nominatim.openstreetmap.org/search?q=Jefferson+County%2C+Arkansas%2C+USA&format=jsonv2&addressdetails=1&limit=1\n",
      "Status code 429 from https://nominatim.openstreetmap.org/search: ERROR - 429 Client Error: Too Many Requests for url: https://nominatim.openstreetmap.org/search?q=Johnson+County%2C+Arkansas%2C+USA&format=jsonv2&addressdetails=1&limit=1\n",
      "Status code Unknown from https://nominatim.openstreetmap.org/search: ERROR - HTTPSConnectionPool(host='nominatim.openstreetmap.org', port=443): Max retries exceeded with url: /search?q=Hitchcock+County%2C+Nebraska%2C+USA&format=jsonv2&addressdetails=1&limit=1 (Caused by ConnectTimeoutError(<urllib3.connection.VerifiedHTTPSConnection object at 0x7f7084967fd0>, 'Connection to nominatim.openstreetmap.org timed out. (connect timeout=5.0)'))\n",
      "Status code 429 from https://nominatim.openstreetmap.org/search: ERROR - 429 Client Error: Too Many Requests for url: https://nominatim.openstreetmap.org/search?q=Holt+County%2C+Nebraska%2C+USA&format=jsonv2&addressdetails=1&limit=1\n",
      "Status code Unknown from https://nominatim.openstreetmap.org/search: ERROR - HTTPSConnectionPool(host='nominatim.openstreetmap.org', port=443): Max retries exceeded with url: /search?q=Androscoggin+County%2C+Maine%2C+USA&format=jsonv2&addressdetails=1&limit=1 (Caused by ConnectTimeoutError(<urllib3.connection.VerifiedHTTPSConnection object at 0x7f708479d9e8>, 'Connection to nominatim.openstreetmap.org timed out. (connect timeout=5.0)'))\n",
      "Status code 429 from https://nominatim.openstreetmap.org/search: ERROR - 429 Client Error: Too Many Requests for url: https://nominatim.openstreetmap.org/search?q=Hooker+County%2C+Nebraska%2C+USA&format=jsonv2&addressdetails=1&limit=1\n",
      "Status code 429 from https://nominatim.openstreetmap.org/search: ERROR - 429 Client Error: Too Many Requests for url: https://nominatim.openstreetmap.org/search?q=Aroostook+County%2C+Maine%2C+USA&format=jsonv2&addressdetails=1&limit=1\n",
      "Status code Unknown from https://nominatim.openstreetmap.org/search: ERROR - HTTPSConnectionPool(host='nominatim.openstreetmap.org', port=443): Max retries exceeded with url: /search?q=Berks+County%2C+Pennsylvania%2C+USA&format=jsonv2&addressdetails=1&limit=1 (Caused by ConnectTimeoutError(<urllib3.connection.VerifiedHTTPSConnection object at 0x7f70847bba90>, 'Connection to nominatim.openstreetmap.org timed out. (connect timeout=5.0)'))\n",
      "Status code 429 from https://nominatim.openstreetmap.org/search: ERROR - 429 Client Error: Too Many Requests for url: https://nominatim.openstreetmap.org/search?q=Cumberland+County%2C+Maine%2C+USA&format=jsonv2&addressdetails=1&limit=1\n",
      "Status code Unknown from https://nominatim.openstreetmap.org/search: ERROR - HTTPSConnectionPool(host='nominatim.openstreetmap.org', port=443): Max retries exceeded with url: /search?q=St.+Clair+County%2C+Illinois%2C+USA&format=jsonv2&addressdetails=1&limit=1 (Caused by ConnectTimeoutError(<urllib3.connection.VerifiedHTTPSConnection object at 0x7f70847b5b38>, 'Connection to nominatim.openstreetmap.org timed out. (connect timeout=5.0)'))\n",
      "Status code 429 from https://nominatim.openstreetmap.org/search: ERROR - 429 Client Error: Too Many Requests for url: https://nominatim.openstreetmap.org/search?q=Howard+County%2C+Nebraska%2C+USA&format=jsonv2&addressdetails=1&limit=1\n",
      "Status code 429 from https://nominatim.openstreetmap.org/search: ERROR - 429 Client Error: Too Many Requests for url: https://nominatim.openstreetmap.org/search?q=Saline+County%2C+Illinois%2C+USA&format=jsonv2&addressdetails=1&limit=1\n",
      "Status code 429 from https://nominatim.openstreetmap.org/search: ERROR - 429 Client Error: Too Many Requests for url: https://nominatim.openstreetmap.org/search?q=Blair+County%2C+Pennsylvania%2C+USA&format=jsonv2&addressdetails=1&limit=1\n",
      "Status code Unknown from https://nominatim.openstreetmap.org/search: ERROR - HTTPSConnectionPool(host='nominatim.openstreetmap.org', port=443): Max retries exceeded with url: /search?q=Yoakum+County%2C+Texas%2C+USA&format=jsonv2&addressdetails=1&limit=1 (Caused by ConnectTimeoutError(<urllib3.connection.VerifiedHTTPSConnection object at 0x7f708486e4e0>, 'Connection to nominatim.openstreetmap.org timed out. (connect timeout=5.0)'))\n",
      "Status code 429 from https://nominatim.openstreetmap.org/search: ERROR - 429 Client Error: Too Many Requests for url: https://nominatim.openstreetmap.org/search?q=Sangamon+County%2C+Illinois%2C+USA&format=jsonv2&addressdetails=1&limit=1\n",
      "Status code 429 from https://nominatim.openstreetmap.org/search: ERROR - 429 Client Error: Too Many Requests for url: https://nominatim.openstreetmap.org/search?q=Jefferson+County%2C+Nebraska%2C+USA&format=jsonv2&addressdetails=1&limit=1\n",
      "Status code 429 from https://nominatim.openstreetmap.org/search: ERROR - 429 Client Error: Too Many Requests for url: https://nominatim.openstreetmap.org/search?q=Bradford+County%2C+Pennsylvania%2C+USA&format=jsonv2&addressdetails=1&limit=1\n",
      "Status code 429 from https://nominatim.openstreetmap.org/search: ERROR - 429 Client Error: Too Many Requests for url: https://nominatim.openstreetmap.org/search?q=Schuyler+County%2C+Illinois%2C+USA&format=jsonv2&addressdetails=1&limit=1\n",
      "Status code 429 from https://nominatim.openstreetmap.org/search: ERROR - 429 Client Error: Too Many Requests for url: https://nominatim.openstreetmap.org/search?q=Johnson+County%2C+Nebraska%2C+USA&format=jsonv2&addressdetails=1&limit=1\n"
     ]
    },
    {
     "name": "stderr",
     "output_type": "stream",
     "text": [
      "Status code 429 from https://nominatim.openstreetmap.org/search: ERROR - 429 Client Error: Too Many Requests for url: https://nominatim.openstreetmap.org/search?q=Scott+County%2C+Illinois%2C+USA&format=jsonv2&addressdetails=1&limit=1\n",
      "Status code 429 from https://nominatim.openstreetmap.org/search: ERROR - 429 Client Error: Too Many Requests for url: https://nominatim.openstreetmap.org/search?q=Shelby+County%2C+Illinois%2C+USA&format=jsonv2&addressdetails=1&limit=1\n",
      "Status code 429 from https://nominatim.openstreetmap.org/search: ERROR - 429 Client Error: Too Many Requests for url: https://nominatim.openstreetmap.org/search?q=Stark+County%2C+Illinois%2C+USA&format=jsonv2&addressdetails=1&limit=1\n",
      "Status code 429 from https://nominatim.openstreetmap.org/search: ERROR - 429 Client Error: Too Many Requests for url: https://nominatim.openstreetmap.org/search?q=Stephenson+County%2C+Illinois%2C+USA&format=jsonv2&addressdetails=1&limit=1\n",
      "Status code 429 from https://nominatim.openstreetmap.org/search: ERROR - 429 Client Error: Too Many Requests for url: https://nominatim.openstreetmap.org/search?q=Bucks+County%2C+Pennsylvania%2C+USA&format=jsonv2&addressdetails=1&limit=1\n",
      "Status code 429 from https://nominatim.openstreetmap.org/search: ERROR - 429 Client Error: Too Many Requests for url: https://nominatim.openstreetmap.org/search?q=Tazewell+County%2C+Illinois%2C+USA&format=jsonv2&addressdetails=1&limit=1\n",
      "Status code 429 from https://nominatim.openstreetmap.org/search: ERROR - 429 Client Error: Too Many Requests for url: https://nominatim.openstreetmap.org/search?q=Butler+County%2C+Pennsylvania%2C+USA&format=jsonv2&addressdetails=1&limit=1\n",
      "Status code Unknown from https://nominatim.openstreetmap.org/search: ERROR - HTTPSConnectionPool(host='nominatim.openstreetmap.org', port=443): Max retries exceeded with url: /search?q=Lafayette+County%2C+Arkansas%2C+USA&format=jsonv2&addressdetails=1&limit=1 (Caused by ConnectTimeoutError(<urllib3.connection.VerifiedHTTPSConnection object at 0x7f70847b6630>, 'Connection to nominatim.openstreetmap.org timed out. (connect timeout=5.0)'))\n",
      "Status code 429 from https://nominatim.openstreetmap.org/search: ERROR - 429 Client Error: Too Many Requests for url: https://nominatim.openstreetmap.org/search?q=Union+County%2C+Illinois%2C+USA&format=jsonv2&addressdetails=1&limit=1\n",
      "Status code 429 from https://nominatim.openstreetmap.org/search: ERROR - 429 Client Error: Too Many Requests for url: https://nominatim.openstreetmap.org/search?q=Lawrence+County%2C+Arkansas%2C+USA&format=jsonv2&addressdetails=1&limit=1\n",
      "Status code 429 from https://nominatim.openstreetmap.org/search: ERROR - 429 Client Error: Too Many Requests for url: https://nominatim.openstreetmap.org/search?q=Lee+County%2C+Arkansas%2C+USA&format=jsonv2&addressdetails=1&limit=1\n",
      "Status code 429 from https://nominatim.openstreetmap.org/search: ERROR - 429 Client Error: Too Many Requests for url: https://nominatim.openstreetmap.org/search?q=Vermilion+County%2C+Illinois%2C+USA&format=jsonv2&addressdetails=1&limit=1\n",
      "Status code Unknown from https://nominatim.openstreetmap.org/search: ERROR - HTTPSConnectionPool(host='nominatim.openstreetmap.org', port=443): Max retries exceeded with url: /search?q=Franklin+County%2C+Maine%2C+USA&format=jsonv2&addressdetails=1&limit=1 (Caused by ConnectTimeoutError(<urllib3.connection.VerifiedHTTPSConnection object at 0x7f7084964860>, 'Connection to nominatim.openstreetmap.org timed out. (connect timeout=5.0)'))\n",
      "Status code 429 from https://nominatim.openstreetmap.org/search: ERROR - 429 Client Error: Too Many Requests for url: https://nominatim.openstreetmap.org/search?q=Wabash+County%2C+Illinois%2C+USA&format=jsonv2&addressdetails=1&limit=1\n",
      "Status code 429 from https://nominatim.openstreetmap.org/search: ERROR - 429 Client Error: Too Many Requests for url: https://nominatim.openstreetmap.org/search?q=Lincoln+County%2C+Arkansas%2C+USA&format=jsonv2&addressdetails=1&limit=1\n",
      "Status code 429 from https://nominatim.openstreetmap.org/search: ERROR - 429 Client Error: Too Many Requests for url: https://nominatim.openstreetmap.org/search?q=Warren+County%2C+Illinois%2C+USA&format=jsonv2&addressdetails=1&limit=1\n",
      "Status code 429 from https://nominatim.openstreetmap.org/search: ERROR - 429 Client Error: Too Many Requests for url: https://nominatim.openstreetmap.org/search?q=Little+River+County%2C+Arkansas%2C+USA&format=jsonv2&addressdetails=1&limit=1\n",
      "Status code Unknown from https://nominatim.openstreetmap.org/search: ERROR - HTTPSConnectionPool(host='nominatim.openstreetmap.org', port=443): Max retries exceeded with url: /search?q=Young+County%2C+Texas%2C+USA&format=jsonv2&addressdetails=1&limit=1 (Caused by ConnectTimeoutError(<urllib3.connection.VerifiedHTTPSConnection object at 0x7f70847a49e8>, 'Connection to nominatim.openstreetmap.org timed out. (connect timeout=5.0)'))\n",
      "Status code 429 from https://nominatim.openstreetmap.org/search: ERROR - 429 Client Error: Too Many Requests for url: https://nominatim.openstreetmap.org/search?q=Logan+County%2C+Arkansas%2C+USA&format=jsonv2&addressdetails=1&limit=1\n",
      "Status code 429 from https://nominatim.openstreetmap.org/search: ERROR - 429 Client Error: Too Many Requests for url: https://nominatim.openstreetmap.org/search?q=Zapata+County%2C+Texas%2C+USA&format=jsonv2&addressdetails=1&limit=1\n",
      "Status code 429 from https://nominatim.openstreetmap.org/search: ERROR - 429 Client Error: Too Many Requests for url: https://nominatim.openstreetmap.org/search?q=Zavala+County%2C+Texas%2C+USA&format=jsonv2&addressdetails=1&limit=1\n",
      "Status code 429 from https://nominatim.openstreetmap.org/search: ERROR - 429 Client Error: Too Many Requests for url: https://nominatim.openstreetmap.org/search?q=Beaver+County%2C+Utah%2C+USA&format=jsonv2&addressdetails=1&limit=1\n",
      "Status code Unknown from https://nominatim.openstreetmap.org/search: ERROR - HTTPSConnectionPool(host='nominatim.openstreetmap.org', port=443): Max retries exceeded with url: /search?q=Kearney+County%2C+Nebraska%2C+USA&format=jsonv2&addressdetails=1&limit=1 (Caused by ConnectTimeoutError(<urllib3.connection.VerifiedHTTPSConnection object at 0x7f708479eeb8>, 'Connection to nominatim.openstreetmap.org timed out. (connect timeout=5.0)'))\n",
      "Status code 429 from https://nominatim.openstreetmap.org/search: ERROR - 429 Client Error: Too Many Requests for url: https://nominatim.openstreetmap.org/search?q=Box+Elder+County%2C+Utah%2C+USA&format=jsonv2&addressdetails=1&limit=1\n",
      "Status code 429 from https://nominatim.openstreetmap.org/search: ERROR - 429 Client Error: Too Many Requests for url: https://nominatim.openstreetmap.org/search?q=Washington+County%2C+Illinois%2C+USA&format=jsonv2&addressdetails=1&limit=1\n",
      "Status code 429 from https://nominatim.openstreetmap.org/search: ERROR - 429 Client Error: Too Many Requests for url: https://nominatim.openstreetmap.org/search?q=Keith+County%2C+Nebraska%2C+USA&format=jsonv2&addressdetails=1&limit=1\n",
      "Status code 429 from https://nominatim.openstreetmap.org/search: ERROR - 429 Client Error: Too Many Requests for url: https://nominatim.openstreetmap.org/search?q=Keya+Paha+County%2C+Nebraska%2C+USA&format=jsonv2&addressdetails=1&limit=1\n",
      "Status code 429 from https://nominatim.openstreetmap.org/search: ERROR - 429 Client Error: Too Many Requests for url: https://nominatim.openstreetmap.org/search?q=Cache+County%2C+Utah%2C+USA&format=jsonv2&addressdetails=1&limit=1\n",
      "Status code 429 from https://nominatim.openstreetmap.org/search: ERROR - 429 Client Error: Too Many Requests for url: https://nominatim.openstreetmap.org/search?q=Carbon+County%2C+Utah%2C+USA&format=jsonv2&addressdetails=1&limit=1\n",
      "Status code 429 from https://nominatim.openstreetmap.org/search: ERROR - 429 Client Error: Too Many Requests for url: https://nominatim.openstreetmap.org/search?q=Kimball+County%2C+Nebraska%2C+USA&format=jsonv2&addressdetails=1&limit=1\n",
      "Status code Unknown from https://nominatim.openstreetmap.org/search: ERROR - HTTPSConnectionPool(host='nominatim.openstreetmap.org', port=443): Max retries exceeded with url: /search?q=Cambria+County%2C+Pennsylvania%2C+USA&format=jsonv2&addressdetails=1&limit=1 (Caused by ConnectTimeoutError(<urllib3.connection.VerifiedHTTPSConnection object at 0x7f70847bbd68>, 'Connection to nominatim.openstreetmap.org timed out. (connect timeout=5.0)'))\n"
     ]
    },
    {
     "name": "stderr",
     "output_type": "stream",
     "text": [
      "Status code 429 from https://nominatim.openstreetmap.org/search: ERROR - 429 Client Error: Too Many Requests for url: https://nominatim.openstreetmap.org/search?q=Daggett+County%2C+Utah%2C+USA&format=jsonv2&addressdetails=1&limit=1\n",
      "Status code 429 from https://nominatim.openstreetmap.org/search: ERROR - 429 Client Error: Too Many Requests for url: https://nominatim.openstreetmap.org/search?q=Knox+County%2C+Nebraska%2C+USA&format=jsonv2&addressdetails=1&limit=1\n",
      "Status code 429 from https://nominatim.openstreetmap.org/search: ERROR - 429 Client Error: Too Many Requests for url: https://nominatim.openstreetmap.org/search?q=Lancaster+County%2C+Nebraska%2C+USA&format=jsonv2&addressdetails=1&limit=1\n",
      "Status code 429 from https://nominatim.openstreetmap.org/search: ERROR - 429 Client Error: Too Many Requests for url: https://nominatim.openstreetmap.org/search?q=Cameron+County%2C+Pennsylvania%2C+USA&format=jsonv2&addressdetails=1&limit=1\n",
      "Status code Unknown from https://nominatim.openstreetmap.org/search: ERROR - HTTPSConnectionPool(host='nominatim.openstreetmap.org', port=443): Max retries exceeded with url: /search?q=Hancock+County%2C+Maine%2C+USA&format=jsonv2&addressdetails=1&limit=1 (Caused by ConnectTimeoutError(<urllib3.connection.VerifiedHTTPSConnection object at 0x7f708486e748>, 'Connection to nominatim.openstreetmap.org timed out. (connect timeout=5.0)'))\n",
      "Status code 429 from https://nominatim.openstreetmap.org/search: ERROR - 429 Client Error: Too Many Requests for url: https://nominatim.openstreetmap.org/search?q=Lincoln+County%2C+Nebraska%2C+USA&format=jsonv2&addressdetails=1&limit=1\n",
      "Status code 429 from https://nominatim.openstreetmap.org/search: ERROR - 429 Client Error: Too Many Requests for url: https://nominatim.openstreetmap.org/search?q=Carbon+County%2C+Pennsylvania%2C+USA&format=jsonv2&addressdetails=1&limit=1\n",
      "Status code 429 from https://nominatim.openstreetmap.org/search: ERROR - 429 Client Error: Too Many Requests for url: https://nominatim.openstreetmap.org/search?q=Kennebec+County%2C+Maine%2C+USA&format=jsonv2&addressdetails=1&limit=1\n",
      "Status code 429 from https://nominatim.openstreetmap.org/search: ERROR - 429 Client Error: Too Many Requests for url: https://nominatim.openstreetmap.org/search?q=Centre+County%2C+Pennsylvania%2C+USA&format=jsonv2&addressdetails=1&limit=1\n",
      "Status code 429 from https://nominatim.openstreetmap.org/search: ERROR - 429 Client Error: Too Many Requests for url: https://nominatim.openstreetmap.org/search?q=Logan+County%2C+Nebraska%2C+USA&format=jsonv2&addressdetails=1&limit=1\n",
      "Status code Unknown from https://nominatim.openstreetmap.org/search: ERROR - HTTPSConnectionPool(host='nominatim.openstreetmap.org', port=443): Max retries exceeded with url: /search?q=Lonoke+County%2C+Arkansas%2C+USA&format=jsonv2&addressdetails=1&limit=1 (Caused by ConnectTimeoutError(<urllib3.connection.VerifiedHTTPSConnection object at 0x7f7085ce55f8>, 'Connection to nominatim.openstreetmap.org timed out. (connect timeout=5.0)'))\n",
      "Status code 429 from https://nominatim.openstreetmap.org/search: ERROR - 429 Client Error: Too Many Requests for url: https://nominatim.openstreetmap.org/search?q=Knox+County%2C+Maine%2C+USA&format=jsonv2&addressdetails=1&limit=1\n",
      "Status code 429 from https://nominatim.openstreetmap.org/search: ERROR - 429 Client Error: Too Many Requests for url: https://nominatim.openstreetmap.org/search?q=Madison+County%2C+Arkansas%2C+USA&format=jsonv2&addressdetails=1&limit=1\n",
      "Status code 429 from https://nominatim.openstreetmap.org/search: ERROR - 429 Client Error: Too Many Requests for url: https://nominatim.openstreetmap.org/search?q=Marion+County%2C+Arkansas%2C+USA&format=jsonv2&addressdetails=1&limit=1\n",
      "Status code 429 from https://nominatim.openstreetmap.org/search: ERROR - 429 Client Error: Too Many Requests for url: https://nominatim.openstreetmap.org/search?q=Lincoln+County%2C+Maine%2C+USA&format=jsonv2&addressdetails=1&limit=1\n",
      "Status code Unknown from https://nominatim.openstreetmap.org/search: ERROR - HTTPSConnectionPool(host='nominatim.openstreetmap.org', port=443): Max retries exceeded with url: /search?q=Wayne+County%2C+Illinois%2C+USA&format=jsonv2&addressdetails=1&limit=1 (Caused by ConnectTimeoutError(<urllib3.connection.VerifiedHTTPSConnection object at 0x7f708486e9e8>, 'Connection to nominatim.openstreetmap.org timed out. (connect timeout=5.0)'))\n",
      "Status code 429 from https://nominatim.openstreetmap.org/search: ERROR - 429 Client Error: Too Many Requests for url: https://nominatim.openstreetmap.org/search?q=Oxford+County%2C+Maine%2C+USA&format=jsonv2&addressdetails=1&limit=1\n",
      "Status code 429 from https://nominatim.openstreetmap.org/search: ERROR - 429 Client Error: Too Many Requests for url: https://nominatim.openstreetmap.org/search?q=White+County%2C+Illinois%2C+USA&format=jsonv2&addressdetails=1&limit=1\n",
      "Status code 429 from https://nominatim.openstreetmap.org/search: ERROR - 429 Client Error: Too Many Requests for url: https://nominatim.openstreetmap.org/search?q=Whiteside+County%2C+Illinois%2C+USA&format=jsonv2&addressdetails=1&limit=1\n",
      "Status code 429 from https://nominatim.openstreetmap.org/search: ERROR - 429 Client Error: Too Many Requests for url: https://nominatim.openstreetmap.org/search?q=Penobscot+County%2C+Maine%2C+USA&format=jsonv2&addressdetails=1&limit=1\n",
      "Status code 429 from https://nominatim.openstreetmap.org/search: ERROR - 429 Client Error: Too Many Requests for url: https://nominatim.openstreetmap.org/search?q=Miller+County%2C+Arkansas%2C+USA&format=jsonv2&addressdetails=1&limit=1\n",
      "Status code 429 from https://nominatim.openstreetmap.org/search: ERROR - 429 Client Error: Too Many Requests for url: https://nominatim.openstreetmap.org/search?q=Piscataquis+County%2C+Maine%2C+USA&format=jsonv2&addressdetails=1&limit=1\n",
      "Status code Unknown from https://nominatim.openstreetmap.org/search: ERROR - HTTPSConnectionPool(host='nominatim.openstreetmap.org', port=443): Max retries exceeded with url: /search?q=Davis+County%2C+Utah%2C+USA&format=jsonv2&addressdetails=1&limit=1 (Caused by ConnectTimeoutError(<urllib3.connection.VerifiedHTTPSConnection object at 0x7f7084967588>, 'Connection to nominatim.openstreetmap.org timed out. (connect timeout=5.0)'))\n",
      "Status code 429 from https://nominatim.openstreetmap.org/search: ERROR - 429 Client Error: Too Many Requests for url: https://nominatim.openstreetmap.org/search?q=Mississippi+County%2C+Arkansas%2C+USA&format=jsonv2&addressdetails=1&limit=1\n",
      "Status code 429 from https://nominatim.openstreetmap.org/search: ERROR - 429 Client Error: Too Many Requests for url: https://nominatim.openstreetmap.org/search?q=Monroe+County%2C+Arkansas%2C+USA&format=jsonv2&addressdetails=1&limit=1\n",
      "Status code 429 from https://nominatim.openstreetmap.org/search: ERROR - 429 Client Error: Too Many Requests for url: https://nominatim.openstreetmap.org/search?q=Sagadahoc+County%2C+Maine%2C+USA&format=jsonv2&addressdetails=1&limit=1\n",
      "Status code 429 from https://nominatim.openstreetmap.org/search: ERROR - 429 Client Error: Too Many Requests for url: https://nominatim.openstreetmap.org/search?q=Montgomery+County%2C+Arkansas%2C+USA&format=jsonv2&addressdetails=1&limit=1\n",
      "Status code 429 from https://nominatim.openstreetmap.org/search: ERROR - 429 Client Error: Too Many Requests for url: https://nominatim.openstreetmap.org/search?q=Nevada+County%2C+Arkansas%2C+USA&format=jsonv2&addressdetails=1&limit=1\n",
      "Status code 429 from https://nominatim.openstreetmap.org/search: ERROR - 429 Client Error: Too Many Requests for url: https://nominatim.openstreetmap.org/search?q=Somerset+County%2C+Maine%2C+USA&format=jsonv2&addressdetails=1&limit=1\n",
      "Status code 429 from https://nominatim.openstreetmap.org/search: ERROR - 429 Client Error: Too Many Requests for url: https://nominatim.openstreetmap.org/search?q=Newton+County%2C+Arkansas%2C+USA&format=jsonv2&addressdetails=1&limit=1\n",
      "Status code 429 from https://nominatim.openstreetmap.org/search: ERROR - 429 Client Error: Too Many Requests for url: https://nominatim.openstreetmap.org/search?q=Waldo+County%2C+Maine%2C+USA&format=jsonv2&addressdetails=1&limit=1\n",
      "Status code Unknown from https://nominatim.openstreetmap.org/search: ERROR - HTTPSConnectionPool(host='nominatim.openstreetmap.org', port=443): Max retries exceeded with url: /search?q=Chester+County%2C+Pennsylvania%2C+USA&format=jsonv2&addressdetails=1&limit=1 (Caused by ConnectTimeoutError(<urllib3.connection.VerifiedHTTPSConnection object at 0x7f7084967940>, 'Connection to nominatim.openstreetmap.org timed out. (connect timeout=5.0)'))\n"
     ]
    },
    {
     "name": "stderr",
     "output_type": "stream",
     "text": [
      "Status code Unknown from https://nominatim.openstreetmap.org/search: ERROR - HTTPSConnectionPool(host='nominatim.openstreetmap.org', port=443): Max retries exceeded with url: /search?q=Loup+County%2C+Nebraska%2C+USA&format=jsonv2&addressdetails=1&limit=1 (Caused by ConnectTimeoutError(<urllib3.connection.VerifiedHTTPSConnection object at 0x7f70847a7278>, 'Connection to nominatim.openstreetmap.org timed out. (connect timeout=5.0)'))\n",
      "Status code 429 from https://nominatim.openstreetmap.org/search: ERROR - 429 Client Error: Too Many Requests for url: https://nominatim.openstreetmap.org/search?q=Washington+County%2C+Maine%2C+USA&format=jsonv2&addressdetails=1&limit=1\n",
      "Status code 429 from https://nominatim.openstreetmap.org/search: ERROR - 429 Client Error: Too Many Requests for url: https://nominatim.openstreetmap.org/search?q=Ouachita+County%2C+Arkansas%2C+USA&format=jsonv2&addressdetails=1&limit=1\n",
      "Status code 429 from https://nominatim.openstreetmap.org/search: ERROR - 429 Client Error: Too Many Requests for url: https://nominatim.openstreetmap.org/search?q=York+County%2C+Maine%2C+USA&format=jsonv2&addressdetails=1&limit=1\n",
      "Status code 429 from https://nominatim.openstreetmap.org/search: ERROR - 429 Client Error: Too Many Requests for url: https://nominatim.openstreetmap.org/search?q=Allegany+County%2C+Maryland%2C+USA&format=jsonv2&addressdetails=1&limit=1\n",
      "Status code 429 from https://nominatim.openstreetmap.org/search: ERROR - 429 Client Error: Too Many Requests for url: https://nominatim.openstreetmap.org/search?q=Perry+County%2C+Arkansas%2C+USA&format=jsonv2&addressdetails=1&limit=1\n",
      "Status code 429 from https://nominatim.openstreetmap.org/search: ERROR - 429 Client Error: Too Many Requests for url: https://nominatim.openstreetmap.org/search?q=Anne+Arundel+County%2C+Maryland%2C+USA&format=jsonv2&addressdetails=1&limit=1\n",
      "Status code 429 from https://nominatim.openstreetmap.org/search: ERROR - 429 Client Error: Too Many Requests for url: https://nominatim.openstreetmap.org/search?q=Phillips+County%2C+Arkansas%2C+USA&format=jsonv2&addressdetails=1&limit=1\n",
      "Status code 429 from https://nominatim.openstreetmap.org/search: ERROR - 429 Client Error: Too Many Requests for url: https://nominatim.openstreetmap.org/search?q=McPherson+County%2C+Nebraska%2C+USA&format=jsonv2&addressdetails=1&limit=1\n",
      "Status code 429 from https://nominatim.openstreetmap.org/search: ERROR - 429 Client Error: Too Many Requests for url: https://nominatim.openstreetmap.org/search?q=Baltimore+County%2C+Maryland%2C+USA&format=jsonv2&addressdetails=1&limit=1\n",
      "Status code Unknown from https://nominatim.openstreetmap.org/search: ERROR - HTTPSConnectionPool(host='nominatim.openstreetmap.org', port=443): Max retries exceeded with url: /search?q=Will+County%2C+Illinois%2C+USA&format=jsonv2&addressdetails=1&limit=1 (Caused by ConnectTimeoutError(<urllib3.connection.VerifiedHTTPSConnection object at 0x7f708479eeb8>, 'Connection to nominatim.openstreetmap.org timed out. (connect timeout=5.0)'))\n",
      "Status code 429 from https://nominatim.openstreetmap.org/search: ERROR - 429 Client Error: Too Many Requests for url: https://nominatim.openstreetmap.org/search?q=Madison+County%2C+Nebraska%2C+USA&format=jsonv2&addressdetails=1&limit=1\n",
      "Status code 429 from https://nominatim.openstreetmap.org/search: ERROR - 429 Client Error: Too Many Requests for url: https://nominatim.openstreetmap.org/search?q=Merrick+County%2C+Nebraska%2C+USA&format=jsonv2&addressdetails=1&limit=1\n",
      "Status code Unknown from https://nominatim.openstreetmap.org/search: ERROR - HTTPSConnectionPool(host='nominatim.openstreetmap.org', port=443): Max retries exceeded with url: /search?q=Duchesne+County%2C+Utah%2C+USA&format=jsonv2&addressdetails=1&limit=1 (Caused by ConnectTimeoutError(<urllib3.connection.VerifiedHTTPSConnection object at 0x7f708477ec88>, 'Connection to nominatim.openstreetmap.org timed out. (connect timeout=5.0)'))\n",
      "Status code 429 from https://nominatim.openstreetmap.org/search: ERROR - 429 Client Error: Too Many Requests for url: https://nominatim.openstreetmap.org/search?q=Morrill+County%2C+Nebraska%2C+USA&format=jsonv2&addressdetails=1&limit=1\n",
      "Status code 429 from https://nominatim.openstreetmap.org/search: ERROR - 429 Client Error: Too Many Requests for url: https://nominatim.openstreetmap.org/search?q=Nance+County%2C+Nebraska%2C+USA&format=jsonv2&addressdetails=1&limit=1\n",
      "Status code 429 from https://nominatim.openstreetmap.org/search: ERROR - 429 Client Error: Too Many Requests for url: https://nominatim.openstreetmap.org/search?q=Calvert+County%2C+Maryland%2C+USA&format=jsonv2&addressdetails=1&limit=1\n",
      "Status code 429 from https://nominatim.openstreetmap.org/search: ERROR - 429 Client Error: Too Many Requests for url: https://nominatim.openstreetmap.org/search?q=Nemaha+County%2C+Nebraska%2C+USA&format=jsonv2&addressdetails=1&limit=1\n",
      "Status code 429 from https://nominatim.openstreetmap.org/search: ERROR - 429 Client Error: Too Many Requests for url: https://nominatim.openstreetmap.org/search?q=Caroline+County%2C+Maryland%2C+USA&format=jsonv2&addressdetails=1&limit=1\n",
      "Status code 429 from https://nominatim.openstreetmap.org/search: ERROR - 429 Client Error: Too Many Requests for url: https://nominatim.openstreetmap.org/search?q=Nuckolls+County%2C+Nebraska%2C+USA&format=jsonv2&addressdetails=1&limit=1\n",
      "Status code 429 from https://nominatim.openstreetmap.org/search: ERROR - 429 Client Error: Too Many Requests for url: https://nominatim.openstreetmap.org/search?q=Otoe+County%2C+Nebraska%2C+USA&format=jsonv2&addressdetails=1&limit=1\n",
      "Status code Unknown from https://nominatim.openstreetmap.org/search: ERROR - HTTPSConnectionPool(host='nominatim.openstreetmap.org', port=443): Max retries exceeded with url: /search?q=Clarion+County%2C+Pennsylvania%2C+USA&format=jsonv2&addressdetails=1&limit=1 (Caused by ConnectTimeoutError(<urllib3.connection.VerifiedHTTPSConnection object at 0x7f70847aa9e8>, 'Connection to nominatim.openstreetmap.org timed out. (connect timeout=5.0)'))\n",
      "Status code 429 from https://nominatim.openstreetmap.org/search: ERROR - 429 Client Error: Too Many Requests for url: https://nominatim.openstreetmap.org/search?q=Carroll+County%2C+Maryland%2C+USA&format=jsonv2&addressdetails=1&limit=1\n",
      "Status code 429 from https://nominatim.openstreetmap.org/search: ERROR - 429 Client Error: Too Many Requests for url: https://nominatim.openstreetmap.org/search?q=Cecil+County%2C+Maryland%2C+USA&format=jsonv2&addressdetails=1&limit=1\n",
      "Status code 429 from https://nominatim.openstreetmap.org/search: ERROR - 429 Client Error: Too Many Requests for url: https://nominatim.openstreetmap.org/search?q=Charles+County%2C+Maryland%2C+USA&format=jsonv2&addressdetails=1&limit=1\n",
      "Status code 429 from https://nominatim.openstreetmap.org/search: ERROR - 429 Client Error: Too Many Requests for url: https://nominatim.openstreetmap.org/search?q=Dorchester+County%2C+Maryland%2C+USA&format=jsonv2&addressdetails=1&limit=1\n",
      "Status code 429 from https://nominatim.openstreetmap.org/search: ERROR - 429 Client Error: Too Many Requests for url: https://nominatim.openstreetmap.org/search?q=Frederick+County%2C+Maryland%2C+USA&format=jsonv2&addressdetails=1&limit=1\n",
      "Status code Unknown from https://nominatim.openstreetmap.org/search: ERROR - HTTPSConnectionPool(host='nominatim.openstreetmap.org', port=443): Max retries exceeded with url: /search?q=Pike+County%2C+Arkansas%2C+USA&format=jsonv2&addressdetails=1&limit=1 (Caused by ConnectTimeoutError(<urllib3.connection.VerifiedHTTPSConnection object at 0x7f708486e470>, 'Connection to nominatim.openstreetmap.org timed out. (connect timeout=5.0)'))\n",
      "Status code 429 from https://nominatim.openstreetmap.org/search: ERROR - 429 Client Error: Too Many Requests for url: https://nominatim.openstreetmap.org/search?q=Garrett+County%2C+Maryland%2C+USA&format=jsonv2&addressdetails=1&limit=1\n",
      "Status code Unknown from https://nominatim.openstreetmap.org/search: ERROR - HTTPSConnectionPool(host='nominatim.openstreetmap.org', port=443): Max retries exceeded with url: /search?q=Williamson+County%2C+Illinois%2C+USA&format=jsonv2&addressdetails=1&limit=1 (Caused by ConnectTimeoutError(<urllib3.connection.VerifiedHTTPSConnection object at 0x7f70847b5668>, 'Connection to nominatim.openstreetmap.org timed out. (connect timeout=5.0)'))\n"
     ]
    },
    {
     "name": "stderr",
     "output_type": "stream",
     "text": [
      "Status code 429 from https://nominatim.openstreetmap.org/search: ERROR - 429 Client Error: Too Many Requests for url: https://nominatim.openstreetmap.org/search?q=Harford+County%2C+Maryland%2C+USA&format=jsonv2&addressdetails=1&limit=1\n",
      "Status code 429 from https://nominatim.openstreetmap.org/search: ERROR - 429 Client Error: Too Many Requests for url: https://nominatim.openstreetmap.org/search?q=Poinsett+County%2C+Arkansas%2C+USA&format=jsonv2&addressdetails=1&limit=1\n",
      "Status code 429 from https://nominatim.openstreetmap.org/search: ERROR - 429 Client Error: Too Many Requests for url: https://nominatim.openstreetmap.org/search?q=Winnebago+County%2C+Illinois%2C+USA&format=jsonv2&addressdetails=1&limit=1\n",
      "Status code 429 from https://nominatim.openstreetmap.org/search: ERROR - 429 Client Error: Too Many Requests for url: https://nominatim.openstreetmap.org/search?q=Polk+County%2C+Arkansas%2C+USA&format=jsonv2&addressdetails=1&limit=1\n",
      "Status code Unknown from https://nominatim.openstreetmap.org/search: ERROR - HTTPSConnectionPool(host='nominatim.openstreetmap.org', port=443): Max retries exceeded with url: /search?q=Emery+County%2C+Utah%2C+USA&format=jsonv2&addressdetails=1&limit=1 (Caused by ConnectTimeoutError(<urllib3.connection.VerifiedHTTPSConnection object at 0x7f708477e208>, 'Connection to nominatim.openstreetmap.org timed out. (connect timeout=5.0)'))\n",
      "Status code 429 from https://nominatim.openstreetmap.org/search: ERROR - 429 Client Error: Too Many Requests for url: https://nominatim.openstreetmap.org/search?q=Howard+County%2C+Maryland%2C+USA&format=jsonv2&addressdetails=1&limit=1\n",
      "Status code 429 from https://nominatim.openstreetmap.org/search: ERROR - 429 Client Error: Too Many Requests for url: https://nominatim.openstreetmap.org/search?q=Garfield+County%2C+Utah%2C+USA&format=jsonv2&addressdetails=1&limit=1\n",
      "Status code 429 from https://nominatim.openstreetmap.org/search: ERROR - 429 Client Error: Too Many Requests for url: https://nominatim.openstreetmap.org/search?q=Grand+County%2C+Utah%2C+USA&format=jsonv2&addressdetails=1&limit=1\n",
      "Status code 429 from https://nominatim.openstreetmap.org/search: ERROR - 429 Client Error: Too Many Requests for url: https://nominatim.openstreetmap.org/search?q=Kent+County%2C+Maryland%2C+USA&format=jsonv2&addressdetails=1&limit=1\n",
      "Status code 429 from https://nominatim.openstreetmap.org/search: ERROR - 429 Client Error: Too Many Requests for url: https://nominatim.openstreetmap.org/search?q=Montgomery+County%2C+Maryland%2C+USA&format=jsonv2&addressdetails=1&limit=1\n",
      "Status code 429 from https://nominatim.openstreetmap.org/search: ERROR - 429 Client Error: Too Many Requests for url: https://nominatim.openstreetmap.org/search?q=Woodford+County%2C+Illinois%2C+USA&format=jsonv2&addressdetails=1&limit=1\n",
      "Status code 429 from https://nominatim.openstreetmap.org/search: ERROR - 429 Client Error: Too Many Requests for url: https://nominatim.openstreetmap.org/search?q=Prince+George%27s+County%2C+Maryland%2C+USA&format=jsonv2&addressdetails=1&limit=1\n",
      "Status code Unknown from https://nominatim.openstreetmap.org/search: ERROR - HTTPSConnectionPool(host='nominatim.openstreetmap.org', port=443): Max retries exceeded with url: /search?q=Pawnee+County%2C+Nebraska%2C+USA&format=jsonv2&addressdetails=1&limit=1 (Caused by ConnectTimeoutError(<urllib3.connection.VerifiedHTTPSConnection object at 0x7f708479e898>, 'Connection to nominatim.openstreetmap.org timed out. (connect timeout=5.0)'))\n",
      "Status code Unknown from https://nominatim.openstreetmap.org/search: ERROR - HTTPSConnectionPool(host='nominatim.openstreetmap.org', port=443): Max retries exceeded with url: /search?q=Clearfield+County%2C+Pennsylvania%2C+USA&format=jsonv2&addressdetails=1&limit=1 (Caused by ConnectTimeoutError(<urllib3.connection.VerifiedHTTPSConnection object at 0x7f708477c630>, 'Connection to nominatim.openstreetmap.org timed out. (connect timeout=5.0)'))\n",
      "Status code 429 from https://nominatim.openstreetmap.org/search: ERROR - 429 Client Error: Too Many Requests for url: https://nominatim.openstreetmap.org/search?q=Queen+Anne%27s+County%2C+Maryland%2C+USA&format=jsonv2&addressdetails=1&limit=1\n",
      "Status code 429 from https://nominatim.openstreetmap.org/search: ERROR - 429 Client Error: Too Many Requests for url: https://nominatim.openstreetmap.org/search?q=Adams+County%2C+Indiana%2C+USA&format=jsonv2&addressdetails=1&limit=1\n",
      "Status code 429 from https://nominatim.openstreetmap.org/search: ERROR - 429 Client Error: Too Many Requests for url: https://nominatim.openstreetmap.org/search?q=Clinton+County%2C+Pennsylvania%2C+USA&format=jsonv2&addressdetails=1&limit=1\n",
      "Status code 429 from https://nominatim.openstreetmap.org/search: ERROR - 429 Client Error: Too Many Requests for url: https://nominatim.openstreetmap.org/search?q=Allen+County%2C+Indiana%2C+USA&format=jsonv2&addressdetails=1&limit=1\n",
      "Status code 429 from https://nominatim.openstreetmap.org/search: ERROR - 429 Client Error: Too Many Requests for url: https://nominatim.openstreetmap.org/search?q=Perkins+County%2C+Nebraska%2C+USA&format=jsonv2&addressdetails=1&limit=1\n",
      "Status code 429 from https://nominatim.openstreetmap.org/search: ERROR - 429 Client Error: Too Many Requests for url: https://nominatim.openstreetmap.org/search?q=Phelps+County%2C+Nebraska%2C+USA&format=jsonv2&addressdetails=1&limit=1\n",
      "Status code 429 from https://nominatim.openstreetmap.org/search: ERROR - 429 Client Error: Too Many Requests for url: https://nominatim.openstreetmap.org/search?q=Bartholomew+County%2C+Indiana%2C+USA&format=jsonv2&addressdetails=1&limit=1\n",
      "Status code 429 from https://nominatim.openstreetmap.org/search: ERROR - 429 Client Error: Too Many Requests for url: https://nominatim.openstreetmap.org/search?q=St.+Mary%27s+County%2C+Maryland%2C+USA&format=jsonv2&addressdetails=1&limit=1\n",
      "Status code 429 from https://nominatim.openstreetmap.org/search: ERROR - 429 Client Error: Too Many Requests for url: https://nominatim.openstreetmap.org/search?q=Somerset+County%2C+Maryland%2C+USA&format=jsonv2&addressdetails=1&limit=1\n",
      "Status code Unknown from https://nominatim.openstreetmap.org/search: ERROR - HTTPSConnectionPool(host='nominatim.openstreetmap.org', port=443): Max retries exceeded with url: /search?q=Pope+County%2C+Arkansas%2C+USA&format=jsonv2&addressdetails=1&limit=1 (Caused by ConnectTimeoutError(<urllib3.connection.VerifiedHTTPSConnection object at 0x7f70849055f8>, 'Connection to nominatim.openstreetmap.org timed out. (connect timeout=5.0)'))\n",
      "Status code 429 from https://nominatim.openstreetmap.org/search: ERROR - 429 Client Error: Too Many Requests for url: https://nominatim.openstreetmap.org/search?q=Pierce+County%2C+Nebraska%2C+USA&format=jsonv2&addressdetails=1&limit=1\n",
      "Status code 429 from https://nominatim.openstreetmap.org/search: ERROR - 429 Client Error: Too Many Requests for url: https://nominatim.openstreetmap.org/search?q=Prairie+County%2C+Arkansas%2C+USA&format=jsonv2&addressdetails=1&limit=1\n",
      "Status code 429 from https://nominatim.openstreetmap.org/search: ERROR - 429 Client Error: Too Many Requests for url: https://nominatim.openstreetmap.org/search?q=Platte+County%2C+Nebraska%2C+USA&format=jsonv2&addressdetails=1&limit=1\n",
      "Status code 429 from https://nominatim.openstreetmap.org/search: ERROR - 429 Client Error: Too Many Requests for url: https://nominatim.openstreetmap.org/search?q=Pulaski+County%2C+Arkansas%2C+USA&format=jsonv2&addressdetails=1&limit=1\n",
      "Status code Unknown from https://nominatim.openstreetmap.org/search: ERROR - HTTPSConnectionPool(host='nominatim.openstreetmap.org', port=443): Max retries exceeded with url: /search?q=Iron+County%2C+Utah%2C+USA&format=jsonv2&addressdetails=1&limit=1 (Caused by ConnectTimeoutError(<urllib3.connection.VerifiedHTTPSConnection object at 0x7f70847c7cc0>, 'Connection to nominatim.openstreetmap.org timed out. (connect timeout=5.0)'))\n",
      "Status code 429 from https://nominatim.openstreetmap.org/search: ERROR - 429 Client Error: Too Many Requests for url: https://nominatim.openstreetmap.org/search?q=Randolph+County%2C+Arkansas%2C+USA&format=jsonv2&addressdetails=1&limit=1\n",
      "Status code 429 from https://nominatim.openstreetmap.org/search: ERROR - 429 Client Error: Too Many Requests for url: https://nominatim.openstreetmap.org/search?q=Juab+County%2C+Utah%2C+USA&format=jsonv2&addressdetails=1&limit=1\n"
     ]
    },
    {
     "name": "stderr",
     "output_type": "stream",
     "text": [
      "Status code 429 from https://nominatim.openstreetmap.org/search: ERROR - 429 Client Error: Too Many Requests for url: https://nominatim.openstreetmap.org/search?q=St.+Francis+County%2C+Arkansas%2C+USA&format=jsonv2&addressdetails=1&limit=1\n",
      "Status code 429 from https://nominatim.openstreetmap.org/search: ERROR - 429 Client Error: Too Many Requests for url: https://nominatim.openstreetmap.org/search?q=Kane+County%2C+Utah%2C+USA&format=jsonv2&addressdetails=1&limit=1\n",
      "Status code 429 from https://nominatim.openstreetmap.org/search: ERROR - 429 Client Error: Too Many Requests for url: https://nominatim.openstreetmap.org/search?q=Saline+County%2C+Arkansas%2C+USA&format=jsonv2&addressdetails=1&limit=1\n",
      "Status code Unknown from https://nominatim.openstreetmap.org/search: ERROR - HTTPSConnectionPool(host='nominatim.openstreetmap.org', port=443): Max retries exceeded with url: /search?q=Columbia+County%2C+Pennsylvania%2C+USA&format=jsonv2&addressdetails=1&limit=1 (Caused by ConnectTimeoutError(<urllib3.connection.VerifiedHTTPSConnection object at 0x7f708477c908>, 'Connection to nominatim.openstreetmap.org timed out. (connect timeout=5.0)'))\n",
      "Status code 429 from https://nominatim.openstreetmap.org/search: ERROR - 429 Client Error: Too Many Requests for url: https://nominatim.openstreetmap.org/search?q=Scott+County%2C+Arkansas%2C+USA&format=jsonv2&addressdetails=1&limit=1\n",
      "Status code 429 from https://nominatim.openstreetmap.org/search: ERROR - 429 Client Error: Too Many Requests for url: https://nominatim.openstreetmap.org/search?q=Crawford+County%2C+Pennsylvania%2C+USA&format=jsonv2&addressdetails=1&limit=1\n",
      "Status code 429 from https://nominatim.openstreetmap.org/search: ERROR - 429 Client Error: Too Many Requests for url: https://nominatim.openstreetmap.org/search?q=Searcy+County%2C+Arkansas%2C+USA&format=jsonv2&addressdetails=1&limit=1\n",
      "Status code Unknown from https://nominatim.openstreetmap.org/search: ERROR - HTTPSConnectionPool(host='nominatim.openstreetmap.org', port=443): Max retries exceeded with url: /search?q=Benton+County%2C+Indiana%2C+USA&format=jsonv2&addressdetails=1&limit=1 (Caused by ConnectTimeoutError(<urllib3.connection.VerifiedHTTPSConnection object at 0x7f70848fe4e0>, 'Connection to nominatim.openstreetmap.org timed out. (connect timeout=5.0)'))\n",
      "Status code 429 from https://nominatim.openstreetmap.org/search: ERROR - 429 Client Error: Too Many Requests for url: https://nominatim.openstreetmap.org/search?q=Cumberland+County%2C+Pennsylvania%2C+USA&format=jsonv2&addressdetails=1&limit=1\n",
      "Status code 429 from https://nominatim.openstreetmap.org/search: ERROR - 429 Client Error: Too Many Requests for url: https://nominatim.openstreetmap.org/search?q=Sebastian+County%2C+Arkansas%2C+USA&format=jsonv2&addressdetails=1&limit=1\n",
      "Status code 429 from https://nominatim.openstreetmap.org/search: ERROR - 429 Client Error: Too Many Requests for url: https://nominatim.openstreetmap.org/search?q=Blackford+County%2C+Indiana%2C+USA&format=jsonv2&addressdetails=1&limit=1\n",
      "Status code 429 from https://nominatim.openstreetmap.org/search: ERROR - 429 Client Error: Too Many Requests for url: https://nominatim.openstreetmap.org/search?q=Boone+County%2C+Indiana%2C+USA&format=jsonv2&addressdetails=1&limit=1\n",
      "Status code Unknown from https://nominatim.openstreetmap.org/search: ERROR - HTTPSConnectionPool(host='nominatim.openstreetmap.org', port=443): Max retries exceeded with url: /search?q=Talbot+County%2C+Maryland%2C+USA&format=jsonv2&addressdetails=1&limit=1 (Caused by ConnectTimeoutError(<urllib3.connection.VerifiedHTTPSConnection object at 0x7f70847a6278>, 'Connection to nominatim.openstreetmap.org timed out. (connect timeout=5.0)'))\n",
      "Status code 429 from https://nominatim.openstreetmap.org/search: ERROR - 429 Client Error: Too Many Requests for url: https://nominatim.openstreetmap.org/search?q=Dauphin+County%2C+Pennsylvania%2C+USA&format=jsonv2&addressdetails=1&limit=1\n",
      "Status code 429 from https://nominatim.openstreetmap.org/search: ERROR - 429 Client Error: Too Many Requests for url: https://nominatim.openstreetmap.org/search?q=Delaware+County%2C+Pennsylvania%2C+USA&format=jsonv2&addressdetails=1&limit=1\n",
      "Status code 429 from https://nominatim.openstreetmap.org/search: ERROR - 429 Client Error: Too Many Requests for url: https://nominatim.openstreetmap.org/search?q=Brown+County%2C+Indiana%2C+USA&format=jsonv2&addressdetails=1&limit=1\n",
      "Status code 429 from https://nominatim.openstreetmap.org/search: ERROR - 429 Client Error: Too Many Requests for url: https://nominatim.openstreetmap.org/search?q=Elk+County%2C+Pennsylvania%2C+USA&format=jsonv2&addressdetails=1&limit=1\n",
      "Status code 429 from https://nominatim.openstreetmap.org/search: ERROR - 429 Client Error: Too Many Requests for url: https://nominatim.openstreetmap.org/search?q=Carroll+County%2C+Indiana%2C+USA&format=jsonv2&addressdetails=1&limit=1\n",
      "Status code Unknown from https://nominatim.openstreetmap.org/search: ERROR - HTTPSConnectionPool(host='nominatim.openstreetmap.org', port=443): Max retries exceeded with url: /search?q=Polk+County%2C+Nebraska%2C+USA&format=jsonv2&addressdetails=1&limit=1 (Caused by ConnectTimeoutError(<urllib3.connection.VerifiedHTTPSConnection object at 0x7f708486e940>, 'Connection to nominatim.openstreetmap.org timed out. (connect timeout=5.0)'))\n",
      "Status code 429 from https://nominatim.openstreetmap.org/search: ERROR - 429 Client Error: Too Many Requests for url: https://nominatim.openstreetmap.org/search?q=Cass+County%2C+Indiana%2C+USA&format=jsonv2&addressdetails=1&limit=1\n",
      "Status code 429 from https://nominatim.openstreetmap.org/search: ERROR - 429 Client Error: Too Many Requests for url: https://nominatim.openstreetmap.org/search?q=Erie+County%2C+Pennsylvania%2C+USA&format=jsonv2&addressdetails=1&limit=1\n",
      "Status code 429 from https://nominatim.openstreetmap.org/search: ERROR - 429 Client Error: Too Many Requests for url: https://nominatim.openstreetmap.org/search?q=Red+Willow+County%2C+Nebraska%2C+USA&format=jsonv2&addressdetails=1&limit=1\n",
      "Status code 429 from https://nominatim.openstreetmap.org/search: ERROR - 429 Client Error: Too Many Requests for url: https://nominatim.openstreetmap.org/search?q=Clark+County%2C+Indiana%2C+USA&format=jsonv2&addressdetails=1&limit=1\n",
      "Status code 429 from https://nominatim.openstreetmap.org/search: ERROR - 429 Client Error: Too Many Requests for url: https://nominatim.openstreetmap.org/search?q=Richardson+County%2C+Nebraska%2C+USA&format=jsonv2&addressdetails=1&limit=1\n",
      "Status code 429 from https://nominatim.openstreetmap.org/search: ERROR - 429 Client Error: Too Many Requests for url: https://nominatim.openstreetmap.org/search?q=Clay+County%2C+Indiana%2C+USA&format=jsonv2&addressdetails=1&limit=1\n",
      "Status code Unknown from https://nominatim.openstreetmap.org/search: ERROR - HTTPSConnectionPool(host='nominatim.openstreetmap.org', port=443): Max retries exceeded with url: /search?q=Millard+County%2C+Utah%2C+USA&format=jsonv2&addressdetails=1&limit=1 (Caused by ConnectTimeoutError(<urllib3.connection.VerifiedHTTPSConnection object at 0x7f708486e898>, 'Connection to nominatim.openstreetmap.org timed out. (connect timeout=5.0)'))\n",
      "Status code 429 from https://nominatim.openstreetmap.org/search: ERROR - 429 Client Error: Too Many Requests for url: https://nominatim.openstreetmap.org/search?q=Clinton+County%2C+Indiana%2C+USA&format=jsonv2&addressdetails=1&limit=1\n",
      "Status code 429 from https://nominatim.openstreetmap.org/search: ERROR - 429 Client Error: Too Many Requests for url: https://nominatim.openstreetmap.org/search?q=Rock+County%2C+Nebraska%2C+USA&format=jsonv2&addressdetails=1&limit=1\n",
      "Status code 429 from https://nominatim.openstreetmap.org/search: ERROR - 429 Client Error: Too Many Requests for url: https://nominatim.openstreetmap.org/search?q=Crawford+County%2C+Indiana%2C+USA&format=jsonv2&addressdetails=1&limit=1\n",
      "Status code 429 from https://nominatim.openstreetmap.org/search: ERROR - 429 Client Error: Too Many Requests for url: https://nominatim.openstreetmap.org/search?q=Daviess+County%2C+Indiana%2C+USA&format=jsonv2&addressdetails=1&limit=1\n",
      "Status code Unknown from https://nominatim.openstreetmap.org/search: ERROR - HTTPSConnectionPool(host='nominatim.openstreetmap.org', port=443): Max retries exceeded with url: /search?q=Sevier+County%2C+Arkansas%2C+USA&format=jsonv2&addressdetails=1&limit=1 (Caused by ConnectTimeoutError(<urllib3.connection.VerifiedHTTPSConnection object at 0x7f708a2a63c8>, 'Connection to nominatim.openstreetmap.org timed out. (connect timeout=5.0)'))\n"
     ]
    },
    {
     "name": "stderr",
     "output_type": "stream",
     "text": [
      "Status code 429 from https://nominatim.openstreetmap.org/search: ERROR - 429 Client Error: Too Many Requests for url: https://nominatim.openstreetmap.org/search?q=Dearborn+County%2C+Indiana%2C+USA&format=jsonv2&addressdetails=1&limit=1\n",
      "Status code 429 from https://nominatim.openstreetmap.org/search: ERROR - 429 Client Error: Too Many Requests for url: https://nominatim.openstreetmap.org/search?q=Morgan+County%2C+Utah%2C+USA&format=jsonv2&addressdetails=1&limit=1\n",
      "Status code 429 from https://nominatim.openstreetmap.org/search: ERROR - 429 Client Error: Too Many Requests for url: https://nominatim.openstreetmap.org/search?q=Sharp+County%2C+Arkansas%2C+USA&format=jsonv2&addressdetails=1&limit=1\n",
      "Status code 429 from https://nominatim.openstreetmap.org/search: ERROR - 429 Client Error: Too Many Requests for url: https://nominatim.openstreetmap.org/search?q=Decatur+County%2C+Indiana%2C+USA&format=jsonv2&addressdetails=1&limit=1\n",
      "Status code Unknown from https://nominatim.openstreetmap.org/search: ERROR - HTTPSConnectionPool(host='nominatim.openstreetmap.org', port=443): Max retries exceeded with url: /search?q=Washington+County%2C+Maryland%2C+USA&format=jsonv2&addressdetails=1&limit=1 (Caused by ConnectTimeoutError(<urllib3.connection.VerifiedHTTPSConnection object at 0x7f708486ea58>, 'Connection to nominatim.openstreetmap.org timed out. (connect timeout=5.0)'))\n",
      "Status code 429 from https://nominatim.openstreetmap.org/search: ERROR - 429 Client Error: Too Many Requests for url: https://nominatim.openstreetmap.org/search?q=Stone+County%2C+Arkansas%2C+USA&format=jsonv2&addressdetails=1&limit=1\n",
      "Status code 429 from https://nominatim.openstreetmap.org/search: ERROR - 429 Client Error: Too Many Requests for url: https://nominatim.openstreetmap.org/search?q=Wicomico+County%2C+Maryland%2C+USA&format=jsonv2&addressdetails=1&limit=1\n",
      "Status code 429 from https://nominatim.openstreetmap.org/search: ERROR - 429 Client Error: Too Many Requests for url: https://nominatim.openstreetmap.org/search?q=Worcester+County%2C+Maryland%2C+USA&format=jsonv2&addressdetails=1&limit=1\n",
      "Status code 429 from https://nominatim.openstreetmap.org/search: ERROR - 429 Client Error: Too Many Requests for url: https://nominatim.openstreetmap.org/search?q=Union+County%2C+Arkansas%2C+USA&format=jsonv2&addressdetails=1&limit=1\n",
      "Status code 429 from https://nominatim.openstreetmap.org/search: ERROR - 429 Client Error: Too Many Requests for url: https://nominatim.openstreetmap.org/search?q=Van+Buren+County%2C+Arkansas%2C+USA&format=jsonv2&addressdetails=1&limit=1\n",
      "Status code 429 from https://nominatim.openstreetmap.org/search: ERROR - 429 Client Error: Too Many Requests for url: https://nominatim.openstreetmap.org/search?q=Piute+County%2C+Utah%2C+USA&format=jsonv2&addressdetails=1&limit=1\n",
      "Status code 429 from https://nominatim.openstreetmap.org/search: ERROR - 429 Client Error: Too Many Requests for url: https://nominatim.openstreetmap.org/search?q=Washington+County%2C+Arkansas%2C+USA&format=jsonv2&addressdetails=1&limit=1\n",
      "Status code Unknown from https://nominatim.openstreetmap.org/search: ERROR - HTTPSConnectionPool(host='nominatim.openstreetmap.org', port=443): Max retries exceeded with url: /search?q=Fayette+County%2C+Pennsylvania%2C+USA&format=jsonv2&addressdetails=1&limit=1 (Caused by ConnectTimeoutError(<urllib3.connection.VerifiedHTTPSConnection object at 0x7f70847aaa58>, 'Connection to nominatim.openstreetmap.org timed out. (connect timeout=5.0)'))\n",
      "Status code 429 from https://nominatim.openstreetmap.org/search: ERROR - 429 Client Error: Too Many Requests for url: https://nominatim.openstreetmap.org/search?q=White+County%2C+Arkansas%2C+USA&format=jsonv2&addressdetails=1&limit=1\n",
      "Status code 429 from https://nominatim.openstreetmap.org/search: ERROR - 429 Client Error: Too Many Requests for url: https://nominatim.openstreetmap.org/search?q=Rich+County%2C+Utah%2C+USA&format=jsonv2&addressdetails=1&limit=1\n",
      "Status code 429 from https://nominatim.openstreetmap.org/search: ERROR - 429 Client Error: Too Many Requests for url: https://nominatim.openstreetmap.org/search?q=Baltimore+city%2C+Maryland%2C+USA&format=jsonv2&addressdetails=1&limit=1\n",
      "Status code 429 from https://nominatim.openstreetmap.org/search: ERROR - 429 Client Error: Too Many Requests for url: https://nominatim.openstreetmap.org/search?q=Barnstable+County%2C+Massachusetts%2C+USA&format=jsonv2&addressdetails=1&limit=1\n",
      "Status code Unknown from https://nominatim.openstreetmap.org/search: ERROR - HTTPSConnectionPool(host='nominatim.openstreetmap.org', port=443): Max retries exceeded with url: /search?q=Saline+County%2C+Nebraska%2C+USA&format=jsonv2&addressdetails=1&limit=1 (Caused by ConnectTimeoutError(<urllib3.connection.VerifiedHTTPSConnection object at 0x7f708479e860>, 'Connection to nominatim.openstreetmap.org timed out. (connect timeout=5.0)'))\n",
      "Status code 429 from https://nominatim.openstreetmap.org/search: ERROR - 429 Client Error: Too Many Requests for url: https://nominatim.openstreetmap.org/search?q=Berkshire+County%2C+Massachusetts%2C+USA&format=jsonv2&addressdetails=1&limit=1\n",
      "Status code 429 from https://nominatim.openstreetmap.org/search: ERROR - 429 Client Error: Too Many Requests for url: https://nominatim.openstreetmap.org/search?q=Sarpy+County%2C+Nebraska%2C+USA&format=jsonv2&addressdetails=1&limit=1\n",
      "Status code 429 from https://nominatim.openstreetmap.org/search: ERROR - 429 Client Error: Too Many Requests for url: https://nominatim.openstreetmap.org/search?q=Bristol+County%2C+Massachusetts%2C+USA&format=jsonv2&addressdetails=1&limit=1\n",
      "Status code 429 from https://nominatim.openstreetmap.org/search: ERROR - 429 Client Error: Too Many Requests for url: https://nominatim.openstreetmap.org/search?q=Saunders+County%2C+Nebraska%2C+USA&format=jsonv2&addressdetails=1&limit=1\n",
      "Status code 429 from https://nominatim.openstreetmap.org/search: ERROR - 429 Client Error: Too Many Requests for url: https://nominatim.openstreetmap.org/search?q=Scotts+Bluff+County%2C+Nebraska%2C+USA&format=jsonv2&addressdetails=1&limit=1\n",
      "Status code 429 from https://nominatim.openstreetmap.org/search: ERROR - 429 Client Error: Too Many Requests for url: https://nominatim.openstreetmap.org/search?q=Dukes+County%2C+Massachusetts%2C+USA&format=jsonv2&addressdetails=1&limit=1\n",
      "Status code 429 from https://nominatim.openstreetmap.org/search: ERROR - 429 Client Error: Too Many Requests for url: https://nominatim.openstreetmap.org/search?q=Essex+County%2C+Massachusetts%2C+USA&format=jsonv2&addressdetails=1&limit=1\n",
      "Status code Unknown from https://nominatim.openstreetmap.org/search: ERROR - HTTPSConnectionPool(host='nominatim.openstreetmap.org', port=443): Max retries exceeded with url: /search?q=DeKalb+County%2C+Indiana%2C+USA&format=jsonv2&addressdetails=1&limit=1 (Caused by ConnectTimeoutError(<urllib3.connection.VerifiedHTTPSConnection object at 0x7f70849056a0>, 'Connection to nominatim.openstreetmap.org timed out. (connect timeout=5.0)'))\n",
      "Status code 429 from https://nominatim.openstreetmap.org/search: ERROR - 429 Client Error: Too Many Requests for url: https://nominatim.openstreetmap.org/search?q=Seward+County%2C+Nebraska%2C+USA&format=jsonv2&addressdetails=1&limit=1\n",
      "Status code 429 from https://nominatim.openstreetmap.org/search: ERROR - 429 Client Error: Too Many Requests for url: https://nominatim.openstreetmap.org/search?q=Franklin+County%2C+Massachusetts%2C+USA&format=jsonv2&addressdetails=1&limit=1\n",
      "Status code 429 from https://nominatim.openstreetmap.org/search: ERROR - 429 Client Error: Too Many Requests for url: https://nominatim.openstreetmap.org/search?q=Sheridan+County%2C+Nebraska%2C+USA&format=jsonv2&addressdetails=1&limit=1\n",
      "Status code 429 from https://nominatim.openstreetmap.org/search: ERROR - 429 Client Error: Too Many Requests for url: https://nominatim.openstreetmap.org/search?q=Delaware+County%2C+Indiana%2C+USA&format=jsonv2&addressdetails=1&limit=1\n",
      "Status code 429 from https://nominatim.openstreetmap.org/search: ERROR - 429 Client Error: Too Many Requests for url: https://nominatim.openstreetmap.org/search?q=Hampden+County%2C+Massachusetts%2C+USA&format=jsonv2&addressdetails=1&limit=1\n",
      "Status code 429 from https://nominatim.openstreetmap.org/search: ERROR - 429 Client Error: Too Many Requests for url: https://nominatim.openstreetmap.org/search?q=Sherman+County%2C+Nebraska%2C+USA&format=jsonv2&addressdetails=1&limit=1\n"
     ]
    },
    {
     "name": "stderr",
     "output_type": "stream",
     "text": [
      "Status code 429 from https://nominatim.openstreetmap.org/search: ERROR - 429 Client Error: Too Many Requests for url: https://nominatim.openstreetmap.org/search?q=Dubois+County%2C+Indiana%2C+USA&format=jsonv2&addressdetails=1&limit=1\n",
      "Status code 429 from https://nominatim.openstreetmap.org/search: ERROR - 429 Client Error: Too Many Requests for url: https://nominatim.openstreetmap.org/search?q=Sioux+County%2C+Nebraska%2C+USA&format=jsonv2&addressdetails=1&limit=1\n",
      "Status code Unknown from https://nominatim.openstreetmap.org/search: ERROR - HTTPSConnectionPool(host='nominatim.openstreetmap.org', port=443): Max retries exceeded with url: /search?q=Forest+County%2C+Pennsylvania%2C+USA&format=jsonv2&addressdetails=1&limit=1 (Caused by ConnectTimeoutError(<urllib3.connection.VerifiedHTTPSConnection object at 0x7f70849670f0>, 'Connection to nominatim.openstreetmap.org timed out. (connect timeout=5.0)'))\n",
      "Status code 429 from https://nominatim.openstreetmap.org/search: ERROR - 429 Client Error: Too Many Requests for url: https://nominatim.openstreetmap.org/search?q=Elkhart+County%2C+Indiana%2C+USA&format=jsonv2&addressdetails=1&limit=1\n",
      "Status code Unknown from https://nominatim.openstreetmap.org/search: ERROR - HTTPSConnectionPool(host='nominatim.openstreetmap.org', port=443): Max retries exceeded with url: /search?q=Woodruff+County%2C+Arkansas%2C+USA&format=jsonv2&addressdetails=1&limit=1 (Caused by ConnectTimeoutError(<urllib3.connection.VerifiedHTTPSConnection object at 0x7f70847b6da0>, 'Connection to nominatim.openstreetmap.org timed out. (connect timeout=5.0)'))\n",
      "Status code 429 from https://nominatim.openstreetmap.org/search: ERROR - 429 Client Error: Too Many Requests for url: https://nominatim.openstreetmap.org/search?q=Franklin+County%2C+Pennsylvania%2C+USA&format=jsonv2&addressdetails=1&limit=1\n",
      "Status code Unknown from https://nominatim.openstreetmap.org/search: ERROR - HTTPSConnectionPool(host='nominatim.openstreetmap.org', port=443): Max retries exceeded with url: /search?q=Salt+Lake+County%2C+Utah%2C+USA&format=jsonv2&addressdetails=1&limit=1 (Caused by ConnectTimeoutError(<urllib3.connection.VerifiedHTTPSConnection object at 0x7f70849054a8>, 'Connection to nominatim.openstreetmap.org timed out. (connect timeout=5.0)'))\n",
      "Status code 429 from https://nominatim.openstreetmap.org/search: ERROR - 429 Client Error: Too Many Requests for url: https://nominatim.openstreetmap.org/search?q=Yell+County%2C+Arkansas%2C+USA&format=jsonv2&addressdetails=1&limit=1\n",
      "Status code 429 from https://nominatim.openstreetmap.org/search: ERROR - 429 Client Error: Too Many Requests for url: https://nominatim.openstreetmap.org/search?q=San+Juan+County%2C+Utah%2C+USA&format=jsonv2&addressdetails=1&limit=1\n",
      "Status code 429 from https://nominatim.openstreetmap.org/search: ERROR - 429 Client Error: Too Many Requests for url: https://nominatim.openstreetmap.org/search?q=Sanpete+County%2C+Utah%2C+USA&format=jsonv2&addressdetails=1&limit=1\n",
      "Status code 429 from https://nominatim.openstreetmap.org/search: ERROR - 429 Client Error: Too Many Requests for url: https://nominatim.openstreetmap.org/search?q=Alameda+County%2C+California%2C+USA&format=jsonv2&addressdetails=1&limit=1\n",
      "Status code 429 from https://nominatim.openstreetmap.org/search: ERROR - 429 Client Error: Too Many Requests for url: https://nominatim.openstreetmap.org/search?q=Stanton+County%2C+Nebraska%2C+USA&format=jsonv2&addressdetails=1&limit=1\n",
      "Status code 429 from https://nominatim.openstreetmap.org/search: ERROR - 429 Client Error: Too Many Requests for url: https://nominatim.openstreetmap.org/search?q=Fayette+County%2C+Indiana%2C+USA&format=jsonv2&addressdetails=1&limit=1\n",
      "Status code 429 from https://nominatim.openstreetmap.org/search: ERROR - 429 Client Error: Too Many Requests for url: https://nominatim.openstreetmap.org/search?q=Fulton+County%2C+Pennsylvania%2C+USA&format=jsonv2&addressdetails=1&limit=1\n",
      "Status code 429 from https://nominatim.openstreetmap.org/search: ERROR - 429 Client Error: Too Many Requests for url: https://nominatim.openstreetmap.org/search?q=Floyd+County%2C+Indiana%2C+USA&format=jsonv2&addressdetails=1&limit=1\n",
      "Status code 429 from https://nominatim.openstreetmap.org/search: ERROR - 429 Client Error: Too Many Requests for url: https://nominatim.openstreetmap.org/search?q=Fountain+County%2C+Indiana%2C+USA&format=jsonv2&addressdetails=1&limit=1\n",
      "Status code 429 from https://nominatim.openstreetmap.org/search: ERROR - 429 Client Error: Too Many Requests for url: https://nominatim.openstreetmap.org/search?q=Sevier+County%2C+Utah%2C+USA&format=jsonv2&addressdetails=1&limit=1\n",
      "Status code 429 from https://nominatim.openstreetmap.org/search: ERROR - 429 Client Error: Too Many Requests for url: https://nominatim.openstreetmap.org/search?q=Alpine+County%2C+California%2C+USA&format=jsonv2&addressdetails=1&limit=1\n",
      "Status code 429 from https://nominatim.openstreetmap.org/search: ERROR - 429 Client Error: Too Many Requests for url: https://nominatim.openstreetmap.org/search?q=Summit+County%2C+Utah%2C+USA&format=jsonv2&addressdetails=1&limit=1\n",
      "Status code 429 from https://nominatim.openstreetmap.org/search: ERROR - 429 Client Error: Too Many Requests for url: https://nominatim.openstreetmap.org/search?q=Amador+County%2C+California%2C+USA&format=jsonv2&addressdetails=1&limit=1\n",
      "Status code 429 from https://nominatim.openstreetmap.org/search: ERROR - 429 Client Error: Too Many Requests for url: https://nominatim.openstreetmap.org/search?q=Butte+County%2C+California%2C+USA&format=jsonv2&addressdetails=1&limit=1\n",
      "Status code 429 from https://nominatim.openstreetmap.org/search: ERROR - 429 Client Error: Too Many Requests for url: https://nominatim.openstreetmap.org/search?q=Tooele+County%2C+Utah%2C+USA&format=jsonv2&addressdetails=1&limit=1\n",
      "Status code Unknown from https://nominatim.openstreetmap.org/search: ERROR - HTTPSConnectionPool(host='nominatim.openstreetmap.org', port=443): Max retries exceeded with url: /search?q=Hampshire+County%2C+Massachusetts%2C+USA&format=jsonv2&addressdetails=1&limit=1 (Caused by ConnectTimeoutError(<urllib3.connection.VerifiedHTTPSConnection object at 0x7f70847b57b8>, 'Connection to nominatim.openstreetmap.org timed out. (connect timeout=5.0)'))\n",
      "Status code 429 from https://nominatim.openstreetmap.org/search: ERROR - 429 Client Error: Too Many Requests for url: https://nominatim.openstreetmap.org/search?q=Calaveras+County%2C+California%2C+USA&format=jsonv2&addressdetails=1&limit=1\n",
      "Status code 429 from https://nominatim.openstreetmap.org/search: ERROR - 429 Client Error: Too Many Requests for url: https://nominatim.openstreetmap.org/search?q=Colusa+County%2C+California%2C+USA&format=jsonv2&addressdetails=1&limit=1\n",
      "Status code 429 from https://nominatim.openstreetmap.org/search: ERROR - 429 Client Error: Too Many Requests for url: https://nominatim.openstreetmap.org/search?q=Uintah+County%2C+Utah%2C+USA&format=jsonv2&addressdetails=1&limit=1\n",
      "Status code 429 from https://nominatim.openstreetmap.org/search: ERROR - 429 Client Error: Too Many Requests for url: https://nominatim.openstreetmap.org/search?q=Utah+County%2C+Utah%2C+USA&format=jsonv2&addressdetails=1&limit=1\n",
      "Status code 429 from https://nominatim.openstreetmap.org/search: ERROR - 429 Client Error: Too Many Requests for url: https://nominatim.openstreetmap.org/search?q=Wasatch+County%2C+Utah%2C+USA&format=jsonv2&addressdetails=1&limit=1\n",
      "Status code 429 from https://nominatim.openstreetmap.org/search: ERROR - 429 Client Error: Too Many Requests for url: https://nominatim.openstreetmap.org/search?q=Contra+Costa+County%2C+California%2C+USA&format=jsonv2&addressdetails=1&limit=1\n",
      "Status code Unknown from https://nominatim.openstreetmap.org/search: ERROR - HTTPSConnectionPool(host='nominatim.openstreetmap.org', port=443): Max retries exceeded with url: /search?q=Thayer+County%2C+Nebraska%2C+USA&format=jsonv2&addressdetails=1&limit=1 (Caused by ConnectTimeoutError(<urllib3.connection.VerifiedHTTPSConnection object at 0x7f7084967358>, 'Connection to nominatim.openstreetmap.org timed out. (connect timeout=5.0)'))\n",
      "Status code 429 from https://nominatim.openstreetmap.org/search: ERROR - 429 Client Error: Too Many Requests for url: https://nominatim.openstreetmap.org/search?q=Del+Norte+County%2C+California%2C+USA&format=jsonv2&addressdetails=1&limit=1\n"
     ]
    },
    {
     "name": "stderr",
     "output_type": "stream",
     "text": [
      "Status code Unknown from https://nominatim.openstreetmap.org/search: ERROR - HTTPSConnectionPool(host='nominatim.openstreetmap.org', port=443): Max retries exceeded with url: /search?q=Greene+County%2C+Pennsylvania%2C+USA&format=jsonv2&addressdetails=1&limit=1 (Caused by ConnectTimeoutError(<urllib3.connection.VerifiedHTTPSConnection object at 0x7f708486e9b0>, 'Connection to nominatim.openstreetmap.org timed out. (connect timeout=5.0)'))\n",
      "Status code 429 from https://nominatim.openstreetmap.org/search: ERROR - 429 Client Error: Too Many Requests for url: https://nominatim.openstreetmap.org/search?q=El+Dorado+County%2C+California%2C+USA&format=jsonv2&addressdetails=1&limit=1\n",
      "Status code 429 from https://nominatim.openstreetmap.org/search: ERROR - 429 Client Error: Too Many Requests for url: https://nominatim.openstreetmap.org/search?q=Washington+County%2C+Utah%2C+USA&format=jsonv2&addressdetails=1&limit=1\n",
      "Status code Unknown from https://nominatim.openstreetmap.org/search: ERROR - HTTPSConnectionPool(host='nominatim.openstreetmap.org', port=443): Max retries exceeded with url: /search?q=Franklin+County%2C+Indiana%2C+USA&format=jsonv2&addressdetails=1&limit=1 (Caused by ConnectTimeoutError(<urllib3.connection.VerifiedHTTPSConnection object at 0x7f7085c7cdd8>, 'Connection to nominatim.openstreetmap.org timed out. (connect timeout=5.0)'))\n",
      "Status code 429 from https://nominatim.openstreetmap.org/search: ERROR - 429 Client Error: Too Many Requests for url: https://nominatim.openstreetmap.org/search?q=Wayne+County%2C+Utah%2C+USA&format=jsonv2&addressdetails=1&limit=1\n",
      "Status code 429 from https://nominatim.openstreetmap.org/search: ERROR - 429 Client Error: Too Many Requests for url: https://nominatim.openstreetmap.org/search?q=Huntingdon+County%2C+Pennsylvania%2C+USA&format=jsonv2&addressdetails=1&limit=1\n",
      "Status code 429 from https://nominatim.openstreetmap.org/search: ERROR - 429 Client Error: Too Many Requests for url: https://nominatim.openstreetmap.org/search?q=Weber+County%2C+Utah%2C+USA&format=jsonv2&addressdetails=1&limit=1\n",
      "Status code 429 from https://nominatim.openstreetmap.org/search: ERROR - 429 Client Error: Too Many Requests for url: https://nominatim.openstreetmap.org/search?q=Indiana+County%2C+Pennsylvania%2C+USA&format=jsonv2&addressdetails=1&limit=1\n",
      "Status code 429 from https://nominatim.openstreetmap.org/search: ERROR - 429 Client Error: Too Many Requests for url: https://nominatim.openstreetmap.org/search?q=Addison+County%2C+Vermont%2C+USA&format=jsonv2&addressdetails=1&limit=1\n",
      "Status code 429 from https://nominatim.openstreetmap.org/search: ERROR - 429 Client Error: Too Many Requests for url: https://nominatim.openstreetmap.org/search?q=Bennington+County%2C+Vermont%2C+USA&format=jsonv2&addressdetails=1&limit=1\n",
      "Status code 429 from https://nominatim.openstreetmap.org/search: ERROR - 429 Client Error: Too Many Requests for url: https://nominatim.openstreetmap.org/search?q=Jefferson+County%2C+Pennsylvania%2C+USA&format=jsonv2&addressdetails=1&limit=1\n",
      "Status code Unknown from https://nominatim.openstreetmap.org/search: ERROR - HTTPSConnectionPool(host='nominatim.openstreetmap.org', port=443): Max retries exceeded with url: /search?q=Middlesex+County%2C+Massachusetts%2C+USA&format=jsonv2&addressdetails=1&limit=1 (Caused by ConnectTimeoutError(<urllib3.connection.VerifiedHTTPSConnection object at 0x7f70847a6da0>, 'Connection to nominatim.openstreetmap.org timed out. (connect timeout=5.0)'))\n",
      "Status code 429 from https://nominatim.openstreetmap.org/search: ERROR - 429 Client Error: Too Many Requests for url: https://nominatim.openstreetmap.org/search?q=Fulton+County%2C+Indiana%2C+USA&format=jsonv2&addressdetails=1&limit=1\n",
      "Status code 429 from https://nominatim.openstreetmap.org/search: ERROR - 429 Client Error: Too Many Requests for url: https://nominatim.openstreetmap.org/search?q=Juniata+County%2C+Pennsylvania%2C+USA&format=jsonv2&addressdetails=1&limit=1\n",
      "Status code 429 from https://nominatim.openstreetmap.org/search: ERROR - 429 Client Error: Too Many Requests for url: https://nominatim.openstreetmap.org/search?q=Gibson+County%2C+Indiana%2C+USA&format=jsonv2&addressdetails=1&limit=1\n",
      "Status code 429 from https://nominatim.openstreetmap.org/search: ERROR - 429 Client Error: Too Many Requests for url: https://nominatim.openstreetmap.org/search?q=Nantucket+County%2C+Massachusetts%2C+USA&format=jsonv2&addressdetails=1&limit=1\n",
      "Status code 429 from https://nominatim.openstreetmap.org/search: ERROR - 429 Client Error: Too Many Requests for url: https://nominatim.openstreetmap.org/search?q=Lackawanna+County%2C+Pennsylvania%2C+USA&format=jsonv2&addressdetails=1&limit=1\n",
      "Status code 429 from https://nominatim.openstreetmap.org/search: ERROR - 429 Client Error: Too Many Requests for url: https://nominatim.openstreetmap.org/search?q=Grant+County%2C+Indiana%2C+USA&format=jsonv2&addressdetails=1&limit=1\n",
      "Status code 429 from https://nominatim.openstreetmap.org/search: ERROR - 429 Client Error: Too Many Requests for url: https://nominatim.openstreetmap.org/search?q=Norfolk+County%2C+Massachusetts%2C+USA&format=jsonv2&addressdetails=1&limit=1\n",
      "Status code 429 from https://nominatim.openstreetmap.org/search: ERROR - 429 Client Error: Too Many Requests for url: https://nominatim.openstreetmap.org/search?q=Greene+County%2C+Indiana%2C+USA&format=jsonv2&addressdetails=1&limit=1\n",
      "Status code 429 from https://nominatim.openstreetmap.org/search: ERROR - 429 Client Error: Too Many Requests for url: https://nominatim.openstreetmap.org/search?q=Hamilton+County%2C+Indiana%2C+USA&format=jsonv2&addressdetails=1&limit=1\n",
      "Status code Unknown from https://nominatim.openstreetmap.org/search: ERROR - HTTPSConnectionPool(host='nominatim.openstreetmap.org', port=443): Max retries exceeded with url: /search?q=Thomas+County%2C+Nebraska%2C+USA&format=jsonv2&addressdetails=1&limit=1 (Caused by ConnectTimeoutError(<urllib3.connection.VerifiedHTTPSConnection object at 0x7f70847a7198>, 'Connection to nominatim.openstreetmap.org timed out. (connect timeout=5.0)'))\n",
      "Status code 429 from https://nominatim.openstreetmap.org/search: ERROR - 429 Client Error: Too Many Requests for url: https://nominatim.openstreetmap.org/search?q=Hancock+County%2C+Indiana%2C+USA&format=jsonv2&addressdetails=1&limit=1\n",
      "Status code 429 from https://nominatim.openstreetmap.org/search: ERROR - 429 Client Error: Too Many Requests for url: https://nominatim.openstreetmap.org/search?q=Thurston+County%2C+Nebraska%2C+USA&format=jsonv2&addressdetails=1&limit=1\n",
      "Status code Unknown from https://nominatim.openstreetmap.org/search: ERROR - HTTPSConnectionPool(host='nominatim.openstreetmap.org', port=443): Max retries exceeded with url: /search?q=Fresno+County%2C+California%2C+USA&format=jsonv2&addressdetails=1&limit=1 (Caused by ConnectTimeoutError(<urllib3.connection.VerifiedHTTPSConnection object at 0x7f708486e748>, 'Connection to nominatim.openstreetmap.org timed out. (connect timeout=5.0)'))\n",
      "Status code 429 from https://nominatim.openstreetmap.org/search: ERROR - 429 Client Error: Too Many Requests for url: https://nominatim.openstreetmap.org/search?q=Valley+County%2C+Nebraska%2C+USA&format=jsonv2&addressdetails=1&limit=1\n",
      "Status code 429 from https://nominatim.openstreetmap.org/search: ERROR - 429 Client Error: Too Many Requests for url: https://nominatim.openstreetmap.org/search?q=Glenn+County%2C+California%2C+USA&format=jsonv2&addressdetails=1&limit=1\n",
      "Status code 429 from https://nominatim.openstreetmap.org/search: ERROR - 429 Client Error: Too Many Requests for url: https://nominatim.openstreetmap.org/search?q=Humboldt+County%2C+California%2C+USA&format=jsonv2&addressdetails=1&limit=1\n",
      "Status code 429 from https://nominatim.openstreetmap.org/search: ERROR - 429 Client Error: Too Many Requests for url: https://nominatim.openstreetmap.org/search?q=Washington+County%2C+Nebraska%2C+USA&format=jsonv2&addressdetails=1&limit=1\n",
      "Status code 429 from https://nominatim.openstreetmap.org/search: ERROR - 429 Client Error: Too Many Requests for url: https://nominatim.openstreetmap.org/search?q=Wayne+County%2C+Nebraska%2C+USA&format=jsonv2&addressdetails=1&limit=1\n",
      "Status code 429 from https://nominatim.openstreetmap.org/search: ERROR - 429 Client Error: Too Many Requests for url: https://nominatim.openstreetmap.org/search?q=Harrison+County%2C+Indiana%2C+USA&format=jsonv2&addressdetails=1&limit=1\n"
     ]
    },
    {
     "name": "stderr",
     "output_type": "stream",
     "text": [
      "Status code 429 from https://nominatim.openstreetmap.org/search: ERROR - 429 Client Error: Too Many Requests for url: https://nominatim.openstreetmap.org/search?q=Webster+County%2C+Nebraska%2C+USA&format=jsonv2&addressdetails=1&limit=1\n",
      "Status code Unknown from https://nominatim.openstreetmap.org/search: ERROR - HTTPSConnectionPool(host='nominatim.openstreetmap.org', port=443): Max retries exceeded with url: /search?q=Caledonia+County%2C+Vermont%2C+USA&format=jsonv2&addressdetails=1&limit=1 (Caused by ConnectTimeoutError(<urllib3.connection.VerifiedHTTPSConnection object at 0x7f70847a4dd8>, 'Connection to nominatim.openstreetmap.org timed out. (connect timeout=5.0)'))\n",
      "Status code 429 from https://nominatim.openstreetmap.org/search: ERROR - 429 Client Error: Too Many Requests for url: https://nominatim.openstreetmap.org/search?q=Hendricks+County%2C+Indiana%2C+USA&format=jsonv2&addressdetails=1&limit=1\n",
      "Status code 429 from https://nominatim.openstreetmap.org/search: ERROR - 429 Client Error: Too Many Requests for url: https://nominatim.openstreetmap.org/search?q=Imperial+County%2C+California%2C+USA&format=jsonv2&addressdetails=1&limit=1\n",
      "Status code 429 from https://nominatim.openstreetmap.org/search: ERROR - 429 Client Error: Too Many Requests for url: https://nominatim.openstreetmap.org/search?q=Inyo+County%2C+California%2C+USA&format=jsonv2&addressdetails=1&limit=1\n",
      "Status code Unknown from https://nominatim.openstreetmap.org/search: ERROR - HTTPSConnectionPool(host='nominatim.openstreetmap.org', port=443): Max retries exceeded with url: /search?q=Lancaster+County%2C+Pennsylvania%2C+USA&format=jsonv2&addressdetails=1&limit=1 (Caused by ConnectTimeoutError(<urllib3.connection.VerifiedHTTPSConnection object at 0x7f70847bbda0>, 'Connection to nominatim.openstreetmap.org timed out. (connect timeout=5.0)'))\n",
      "Status code 429 from https://nominatim.openstreetmap.org/search: ERROR - 429 Client Error: Too Many Requests for url: https://nominatim.openstreetmap.org/search?q=Kern+County%2C+California%2C+USA&format=jsonv2&addressdetails=1&limit=1\n",
      "Status code 429 from https://nominatim.openstreetmap.org/search: ERROR - 429 Client Error: Too Many Requests for url: https://nominatim.openstreetmap.org/search?q=Wheeler+County%2C+Nebraska%2C+USA&format=jsonv2&addressdetails=1&limit=1\n",
      "Status code Unknown from https://nominatim.openstreetmap.org/search: ERROR - HTTPSConnectionPool(host='nominatim.openstreetmap.org', port=443): Max retries exceeded with url: /search?q=Plymouth+County%2C+Massachusetts%2C+USA&format=jsonv2&addressdetails=1&limit=1 (Caused by ConnectTimeoutError(<urllib3.connection.VerifiedHTTPSConnection object at 0x7f7084964fd0>, 'Connection to nominatim.openstreetmap.org timed out. (connect timeout=5.0)'))\n",
      "Status code 429 from https://nominatim.openstreetmap.org/search: ERROR - 429 Client Error: Too Many Requests for url: https://nominatim.openstreetmap.org/search?q=York+County%2C+Nebraska%2C+USA&format=jsonv2&addressdetails=1&limit=1\n",
      "Status code 429 from https://nominatim.openstreetmap.org/search: ERROR - 429 Client Error: Too Many Requests for url: https://nominatim.openstreetmap.org/search?q=Lawrence+County%2C+Pennsylvania%2C+USA&format=jsonv2&addressdetails=1&limit=1\n",
      "Status code 429 from https://nominatim.openstreetmap.org/search: ERROR - 429 Client Error: Too Many Requests for url: https://nominatim.openstreetmap.org/search?q=Suffolk+County%2C+Massachusetts%2C+USA&format=jsonv2&addressdetails=1&limit=1\n",
      "Status code 429 from https://nominatim.openstreetmap.org/search: ERROR - 429 Client Error: Too Many Requests for url: https://nominatim.openstreetmap.org/search?q=Lebanon+County%2C+Pennsylvania%2C+USA&format=jsonv2&addressdetails=1&limit=1\n",
      "Status code 429 from https://nominatim.openstreetmap.org/search: ERROR - 429 Client Error: Too Many Requests for url: https://nominatim.openstreetmap.org/search?q=Churchill+County%2C+Nevada%2C+USA&format=jsonv2&addressdetails=1&limit=1\n",
      "Status code 429 from https://nominatim.openstreetmap.org/search: ERROR - 429 Client Error: Too Many Requests for url: https://nominatim.openstreetmap.org/search?q=Worcester+County%2C+Massachusetts%2C+USA&format=jsonv2&addressdetails=1&limit=1\n",
      "Status code 429 from https://nominatim.openstreetmap.org/search: ERROR - 429 Client Error: Too Many Requests for url: https://nominatim.openstreetmap.org/search?q=Clark+County%2C+Nevada%2C+USA&format=jsonv2&addressdetails=1&limit=1\n",
      "Status code 429 from https://nominatim.openstreetmap.org/search: ERROR - 429 Client Error: Too Many Requests for url: https://nominatim.openstreetmap.org/search?q=Douglas+County%2C+Nevada%2C+USA&format=jsonv2&addressdetails=1&limit=1\n",
      "Status code 429 from https://nominatim.openstreetmap.org/search: ERROR - 429 Client Error: Too Many Requests for url: https://nominatim.openstreetmap.org/search?q=Alcona+County%2C+Michigan%2C+USA&format=jsonv2&addressdetails=1&limit=1\n",
      "Status code 429 from https://nominatim.openstreetmap.org/search: ERROR - 429 Client Error: Too Many Requests for url: https://nominatim.openstreetmap.org/search?q=Alger+County%2C+Michigan%2C+USA&format=jsonv2&addressdetails=1&limit=1\n",
      "Status code 429 from https://nominatim.openstreetmap.org/search: ERROR - 429 Client Error: Too Many Requests for url: https://nominatim.openstreetmap.org/search?q=Allegan+County%2C+Michigan%2C+USA&format=jsonv2&addressdetails=1&limit=1\n",
      "Status code Unknown from https://nominatim.openstreetmap.org/search: ERROR - HTTPSConnectionPool(host='nominatim.openstreetmap.org', port=443): Max retries exceeded with url: /search?q=Chittenden+County%2C+Vermont%2C+USA&format=jsonv2&addressdetails=1&limit=1 (Caused by ConnectTimeoutError(<urllib3.connection.VerifiedHTTPSConnection object at 0x7f70847a45c0>, 'Connection to nominatim.openstreetmap.org timed out. (connect timeout=5.0)'))\n",
      "Status code 429 from https://nominatim.openstreetmap.org/search: ERROR - 429 Client Error: Too Many Requests for url: https://nominatim.openstreetmap.org/search?q=Alpena+County%2C+Michigan%2C+USA&format=jsonv2&addressdetails=1&limit=1\n",
      "Status code 429 from https://nominatim.openstreetmap.org/search: ERROR - 429 Client Error: Too Many Requests for url: https://nominatim.openstreetmap.org/search?q=Essex+County%2C+Vermont%2C+USA&format=jsonv2&addressdetails=1&limit=1\n",
      "Status code Unknown from https://nominatim.openstreetmap.org/search: ERROR - HTTPSConnectionPool(host='nominatim.openstreetmap.org', port=443): Max retries exceeded with url: /search?q=Henry+County%2C+Indiana%2C+USA&format=jsonv2&addressdetails=1&limit=1 (Caused by ConnectTimeoutError(<urllib3.connection.VerifiedHTTPSConnection object at 0x7f708486ec18>, 'Connection to nominatim.openstreetmap.org timed out. (connect timeout=5.0)'))\n",
      "Status code 429 from https://nominatim.openstreetmap.org/search: ERROR - 429 Client Error: Too Many Requests for url: https://nominatim.openstreetmap.org/search?q=Franklin+County%2C+Vermont%2C+USA&format=jsonv2&addressdetails=1&limit=1\n",
      "Status code 429 from https://nominatim.openstreetmap.org/search: ERROR - 429 Client Error: Too Many Requests for url: https://nominatim.openstreetmap.org/search?q=Howard+County%2C+Indiana%2C+USA&format=jsonv2&addressdetails=1&limit=1\n",
      "Status code 429 from https://nominatim.openstreetmap.org/search: ERROR - 429 Client Error: Too Many Requests for url: https://nominatim.openstreetmap.org/search?q=Huntington+County%2C+Indiana%2C+USA&format=jsonv2&addressdetails=1&limit=1\n",
      "Status code Unknown from https://nominatim.openstreetmap.org/search: ERROR - HTTPSConnectionPool(host='nominatim.openstreetmap.org', port=443): Max retries exceeded with url: /search?q=Kings+County%2C+California%2C+USA&format=jsonv2&addressdetails=1&limit=1 (Caused by ConnectTimeoutError(<urllib3.connection.VerifiedHTTPSConnection object at 0x7f70849059e8>, 'Connection to nominatim.openstreetmap.org timed out. (connect timeout=5.0)'))\n",
      "Status code 429 from https://nominatim.openstreetmap.org/search: ERROR - 429 Client Error: Too Many Requests for url: https://nominatim.openstreetmap.org/search?q=Lake+County%2C+California%2C+USA&format=jsonv2&addressdetails=1&limit=1\n",
      "Status code 429 from https://nominatim.openstreetmap.org/search: ERROR - 429 Client Error: Too Many Requests for url: https://nominatim.openstreetmap.org/search?q=Antrim+County%2C+Michigan%2C+USA&format=jsonv2&addressdetails=1&limit=1\n"
     ]
    },
    {
     "name": "stderr",
     "output_type": "stream",
     "text": [
      "Status code 429 from https://nominatim.openstreetmap.org/search: ERROR - 429 Client Error: Too Many Requests for url: https://nominatim.openstreetmap.org/search?q=Lassen+County%2C+California%2C+USA&format=jsonv2&addressdetails=1&limit=1\n",
      "Status code 429 from https://nominatim.openstreetmap.org/search: ERROR - 429 Client Error: Too Many Requests for url: https://nominatim.openstreetmap.org/search?q=Grand+Isle+County%2C+Vermont%2C+USA&format=jsonv2&addressdetails=1&limit=1\n",
      "Status code Unknown from https://nominatim.openstreetmap.org/search: ERROR - HTTPSConnectionPool(host='nominatim.openstreetmap.org', port=443): Max retries exceeded with url: /search?q=Lehigh+County%2C+Pennsylvania%2C+USA&format=jsonv2&addressdetails=1&limit=1 (Caused by ConnectTimeoutError(<urllib3.connection.VerifiedHTTPSConnection object at 0x7f70847aa748>, 'Connection to nominatim.openstreetmap.org timed out. (connect timeout=5.0)'))\n",
      "Status code 429 from https://nominatim.openstreetmap.org/search: ERROR - 429 Client Error: Too Many Requests for url: https://nominatim.openstreetmap.org/search?q=Arenac+County%2C+Michigan%2C+USA&format=jsonv2&addressdetails=1&limit=1\n",
      "Status code 429 from https://nominatim.openstreetmap.org/search: ERROR - 429 Client Error: Too Many Requests for url: https://nominatim.openstreetmap.org/search?q=Lamoille+County%2C+Vermont%2C+USA&format=jsonv2&addressdetails=1&limit=1\n",
      "Status code 429 from https://nominatim.openstreetmap.org/search: ERROR - 429 Client Error: Too Many Requests for url: https://nominatim.openstreetmap.org/search?q=Baraga+County%2C+Michigan%2C+USA&format=jsonv2&addressdetails=1&limit=1\n",
      "Status code 429 from https://nominatim.openstreetmap.org/search: ERROR - 429 Client Error: Too Many Requests for url: https://nominatim.openstreetmap.org/search?q=Barry+County%2C+Michigan%2C+USA&format=jsonv2&addressdetails=1&limit=1\n",
      "Status code 429 from https://nominatim.openstreetmap.org/search: ERROR - 429 Client Error: Too Many Requests for url: https://nominatim.openstreetmap.org/search?q=Orange+County%2C+Vermont%2C+USA&format=jsonv2&addressdetails=1&limit=1\n",
      "Status code Unknown from https://nominatim.openstreetmap.org/search: ERROR - HTTPSConnectionPool(host='nominatim.openstreetmap.org', port=443): Max retries exceeded with url: /search?q=Elko+County%2C+Nevada%2C+USA&format=jsonv2&addressdetails=1&limit=1 (Caused by ConnectTimeoutError(<urllib3.connection.VerifiedHTTPSConnection object at 0x7f708479e588>, 'Connection to nominatim.openstreetmap.org timed out. (connect timeout=5.0)'))\n",
      "Status code 429 from https://nominatim.openstreetmap.org/search: ERROR - 429 Client Error: Too Many Requests for url: https://nominatim.openstreetmap.org/search?q=Los+Angeles+County%2C+California%2C+USA&format=jsonv2&addressdetails=1&limit=1\n",
      "Status code 429 from https://nominatim.openstreetmap.org/search: ERROR - 429 Client Error: Too Many Requests for url: https://nominatim.openstreetmap.org/search?q=Bay+County%2C+Michigan%2C+USA&format=jsonv2&addressdetails=1&limit=1\n",
      "Status code 429 from https://nominatim.openstreetmap.org/search: ERROR - 429 Client Error: Too Many Requests for url: https://nominatim.openstreetmap.org/search?q=Madera+County%2C+California%2C+USA&format=jsonv2&addressdetails=1&limit=1\n",
      "Status code 429 from https://nominatim.openstreetmap.org/search: ERROR - 429 Client Error: Too Many Requests for url: https://nominatim.openstreetmap.org/search?q=Benzie+County%2C+Michigan%2C+USA&format=jsonv2&addressdetails=1&limit=1\n",
      "Status code 429 from https://nominatim.openstreetmap.org/search: ERROR - 429 Client Error: Too Many Requests for url: https://nominatim.openstreetmap.org/search?q=Berrien+County%2C+Michigan%2C+USA&format=jsonv2&addressdetails=1&limit=1\n",
      "Status code 429 from https://nominatim.openstreetmap.org/search: ERROR - 429 Client Error: Too Many Requests for url: https://nominatim.openstreetmap.org/search?q=Marin+County%2C+California%2C+USA&format=jsonv2&addressdetails=1&limit=1\n",
      "Status code 429 from https://nominatim.openstreetmap.org/search: ERROR - 429 Client Error: Too Many Requests for url: https://nominatim.openstreetmap.org/search?q=Branch+County%2C+Michigan%2C+USA&format=jsonv2&addressdetails=1&limit=1\n",
      "Status code 429 from https://nominatim.openstreetmap.org/search: ERROR - 429 Client Error: Too Many Requests for url: https://nominatim.openstreetmap.org/search?q=Mariposa+County%2C+California%2C+USA&format=jsonv2&addressdetails=1&limit=1\n",
      "Status code 429 from https://nominatim.openstreetmap.org/search: ERROR - 429 Client Error: Too Many Requests for url: https://nominatim.openstreetmap.org/search?q=Mendocino+County%2C+California%2C+USA&format=jsonv2&addressdetails=1&limit=1\n",
      "Status code 429 from https://nominatim.openstreetmap.org/search: ERROR - 429 Client Error: Too Many Requests for url: https://nominatim.openstreetmap.org/search?q=Calhoun+County%2C+Michigan%2C+USA&format=jsonv2&addressdetails=1&limit=1\n",
      "Status code Unknown from https://nominatim.openstreetmap.org/search: ERROR - HTTPSConnectionPool(host='nominatim.openstreetmap.org', port=443): Max retries exceeded with url: /search?q=Jackson+County%2C+Indiana%2C+USA&format=jsonv2&addressdetails=1&limit=1 (Caused by ConnectTimeoutError(<urllib3.connection.VerifiedHTTPSConnection object at 0x7f708479e4e0>, 'Connection to nominatim.openstreetmap.org timed out. (connect timeout=5.0)'))\n",
      "Status code 429 from https://nominatim.openstreetmap.org/search: ERROR - 429 Client Error: Too Many Requests for url: https://nominatim.openstreetmap.org/search?q=Cass+County%2C+Michigan%2C+USA&format=jsonv2&addressdetails=1&limit=1\n",
      "Status code 429 from https://nominatim.openstreetmap.org/search: ERROR - 429 Client Error: Too Many Requests for url: https://nominatim.openstreetmap.org/search?q=Merced+County%2C+California%2C+USA&format=jsonv2&addressdetails=1&limit=1\n",
      "Status code 429 from https://nominatim.openstreetmap.org/search: ERROR - 429 Client Error: Too Many Requests for url: https://nominatim.openstreetmap.org/search?q=Charlevoix+County%2C+Michigan%2C+USA&format=jsonv2&addressdetails=1&limit=1\n",
      "Status code 429 from https://nominatim.openstreetmap.org/search: ERROR - 429 Client Error: Too Many Requests for url: https://nominatim.openstreetmap.org/search?q=Modoc+County%2C+California%2C+USA&format=jsonv2&addressdetails=1&limit=1\n",
      "Status code 429 from https://nominatim.openstreetmap.org/search: ERROR - 429 Client Error: Too Many Requests for url: https://nominatim.openstreetmap.org/search?q=Mono+County%2C+California%2C+USA&format=jsonv2&addressdetails=1&limit=1\n",
      "Status code 429 from https://nominatim.openstreetmap.org/search: ERROR - 429 Client Error: Too Many Requests for url: https://nominatim.openstreetmap.org/search?q=Cheboygan+County%2C+Michigan%2C+USA&format=jsonv2&addressdetails=1&limit=1\n",
      "Status code Unknown from https://nominatim.openstreetmap.org/search: ERROR - HTTPSConnectionPool(host='nominatim.openstreetmap.org', port=443): Max retries exceeded with url: /search?q=Luzerne+County%2C+Pennsylvania%2C+USA&format=jsonv2&addressdetails=1&limit=1 (Caused by ConnectTimeoutError(<urllib3.connection.VerifiedHTTPSConnection object at 0x7f708477c908>, 'Connection to nominatim.openstreetmap.org timed out. (connect timeout=5.0)'))\n",
      "Status code 429 from https://nominatim.openstreetmap.org/search: ERROR - 429 Client Error: Too Many Requests for url: https://nominatim.openstreetmap.org/search?q=Jasper+County%2C+Indiana%2C+USA&format=jsonv2&addressdetails=1&limit=1\n",
      "Status code 429 from https://nominatim.openstreetmap.org/search: ERROR - 429 Client Error: Too Many Requests for url: https://nominatim.openstreetmap.org/search?q=Monterey+County%2C+California%2C+USA&format=jsonv2&addressdetails=1&limit=1\n",
      "Status code 429 from https://nominatim.openstreetmap.org/search: ERROR - 429 Client Error: Too Many Requests for url: https://nominatim.openstreetmap.org/search?q=Jay+County%2C+Indiana%2C+USA&format=jsonv2&addressdetails=1&limit=1\n",
      "Status code 429 from https://nominatim.openstreetmap.org/search: ERROR - 429 Client Error: Too Many Requests for url: https://nominatim.openstreetmap.org/search?q=Napa+County%2C+California%2C+USA&format=jsonv2&addressdetails=1&limit=1\n",
      "Status code Unknown from https://nominatim.openstreetmap.org/search: ERROR - HTTPSConnectionPool(host='nominatim.openstreetmap.org', port=443): Max retries exceeded with url: /search?q=Orleans+County%2C+Vermont%2C+USA&format=jsonv2&addressdetails=1&limit=1 (Caused by ConnectTimeoutError(<urllib3.connection.VerifiedHTTPSConnection object at 0x7f708486e9b0>, 'Connection to nominatim.openstreetmap.org timed out. (connect timeout=5.0)'))\n"
     ]
    },
    {
     "name": "stderr",
     "output_type": "stream",
     "text": [
      "Status code Unknown from https://nominatim.openstreetmap.org/search: ERROR - HTTPSConnectionPool(host='nominatim.openstreetmap.org', port=443): Max retries exceeded with url: /search?q=Esmeralda+County%2C+Nevada%2C+USA&format=jsonv2&addressdetails=1&limit=1 (Caused by ConnectTimeoutError(<urllib3.connection.VerifiedHTTPSConnection object at 0x7f708479e160>, 'Connection to nominatim.openstreetmap.org timed out. (connect timeout=5.0)'))\n",
      "Status code 429 from https://nominatim.openstreetmap.org/search: ERROR - 429 Client Error: Too Many Requests for url: https://nominatim.openstreetmap.org/search?q=Nevada+County%2C+California%2C+USA&format=jsonv2&addressdetails=1&limit=1\n",
      "Status code 429 from https://nominatim.openstreetmap.org/search: ERROR - 429 Client Error: Too Many Requests for url: https://nominatim.openstreetmap.org/search?q=Rutland+County%2C+Vermont%2C+USA&format=jsonv2&addressdetails=1&limit=1\n",
      "Status code 429 from https://nominatim.openstreetmap.org/search: ERROR - 429 Client Error: Too Many Requests for url: https://nominatim.openstreetmap.org/search?q=Orange+County%2C+California%2C+USA&format=jsonv2&addressdetails=1&limit=1\n",
      "Status code 429 from https://nominatim.openstreetmap.org/search: ERROR - 429 Client Error: Too Many Requests for url: https://nominatim.openstreetmap.org/search?q=Eureka+County%2C+Nevada%2C+USA&format=jsonv2&addressdetails=1&limit=1\n",
      "Status code 429 from https://nominatim.openstreetmap.org/search: ERROR - 429 Client Error: Too Many Requests for url: https://nominatim.openstreetmap.org/search?q=Washington+County%2C+Vermont%2C+USA&format=jsonv2&addressdetails=1&limit=1\n",
      "Status code 429 from https://nominatim.openstreetmap.org/search: ERROR - 429 Client Error: Too Many Requests for url: https://nominatim.openstreetmap.org/search?q=Placer+County%2C+California%2C+USA&format=jsonv2&addressdetails=1&limit=1\n",
      "Status code 429 from https://nominatim.openstreetmap.org/search: ERROR - 429 Client Error: Too Many Requests for url: https://nominatim.openstreetmap.org/search?q=Humboldt+County%2C+Nevada%2C+USA&format=jsonv2&addressdetails=1&limit=1\n",
      "Status code 429 from https://nominatim.openstreetmap.org/search: ERROR - 429 Client Error: Too Many Requests for url: https://nominatim.openstreetmap.org/search?q=Windham+County%2C+Vermont%2C+USA&format=jsonv2&addressdetails=1&limit=1\n",
      "Status code 429 from https://nominatim.openstreetmap.org/search: ERROR - 429 Client Error: Too Many Requests for url: https://nominatim.openstreetmap.org/search?q=Plumas+County%2C+California%2C+USA&format=jsonv2&addressdetails=1&limit=1\n",
      "Status code 429 from https://nominatim.openstreetmap.org/search: ERROR - 429 Client Error: Too Many Requests for url: https://nominatim.openstreetmap.org/search?q=Windsor+County%2C+Vermont%2C+USA&format=jsonv2&addressdetails=1&limit=1\n",
      "Status code 429 from https://nominatim.openstreetmap.org/search: ERROR - 429 Client Error: Too Many Requests for url: https://nominatim.openstreetmap.org/search?q=Riverside+County%2C+California%2C+USA&format=jsonv2&addressdetails=1&limit=1\n",
      "Status code 429 from https://nominatim.openstreetmap.org/search: ERROR - 429 Client Error: Too Many Requests for url: https://nominatim.openstreetmap.org/search?q=Sacramento+County%2C+California%2C+USA&format=jsonv2&addressdetails=1&limit=1\n",
      "Status code 429 from https://nominatim.openstreetmap.org/search: ERROR - 429 Client Error: Too Many Requests for url: https://nominatim.openstreetmap.org/search?q=Accomack+County%2C+Virginia%2C+USA&format=jsonv2&addressdetails=1&limit=1\n",
      "Status code 429 from https://nominatim.openstreetmap.org/search: ERROR - 429 Client Error: Too Many Requests for url: https://nominatim.openstreetmap.org/search?q=Albemarle+County%2C+Virginia%2C+USA&format=jsonv2&addressdetails=1&limit=1\n",
      "Status code 429 from https://nominatim.openstreetmap.org/search: ERROR - 429 Client Error: Too Many Requests for url: https://nominatim.openstreetmap.org/search?q=Alleghany+County%2C+Virginia%2C+USA&format=jsonv2&addressdetails=1&limit=1\n",
      "Status code Unknown from https://nominatim.openstreetmap.org/search: ERROR - HTTPSConnectionPool(host='nominatim.openstreetmap.org', port=443): Max retries exceeded with url: /search?q=Chippewa+County%2C+Michigan%2C+USA&format=jsonv2&addressdetails=1&limit=1 (Caused by ConnectTimeoutError(<urllib3.connection.VerifiedHTTPSConnection object at 0x7f70847b56d8>, 'Connection to nominatim.openstreetmap.org timed out. (connect timeout=5.0)'))\n",
      "Status code Unknown from https://nominatim.openstreetmap.org/search: ERROR - HTTPSConnectionPool(host='nominatim.openstreetmap.org', port=443): Max retries exceeded with url: /search?q=Lycoming+County%2C+Pennsylvania%2C+USA&format=jsonv2&addressdetails=1&limit=1 (Caused by ConnectTimeoutError(<urllib3.connection.VerifiedHTTPSConnection object at 0x7f708477c780>, 'Connection to nominatim.openstreetmap.org timed out. (connect timeout=5.0)'))\n",
      "Status code 429 from https://nominatim.openstreetmap.org/search: ERROR - 429 Client Error: Too Many Requests for url: https://nominatim.openstreetmap.org/search?q=Amelia+County%2C+Virginia%2C+USA&format=jsonv2&addressdetails=1&limit=1\n",
      "Status code 429 from https://nominatim.openstreetmap.org/search: ERROR - 429 Client Error: Too Many Requests for url: https://nominatim.openstreetmap.org/search?q=Clare+County%2C+Michigan%2C+USA&format=jsonv2&addressdetails=1&limit=1\n",
      "Status code 429 from https://nominatim.openstreetmap.org/search: ERROR - 429 Client Error: Too Many Requests for url: https://nominatim.openstreetmap.org/search?q=Amherst+County%2C+Virginia%2C+USA&format=jsonv2&addressdetails=1&limit=1\n",
      "Status code Unknown from https://nominatim.openstreetmap.org/search: ERROR - HTTPSConnectionPool(host='nominatim.openstreetmap.org', port=443): Max retries exceeded with url: /search?q=Jefferson+County%2C+Indiana%2C+USA&format=jsonv2&addressdetails=1&limit=1 (Caused by ConnectTimeoutError(<urllib3.connection.VerifiedHTTPSConnection object at 0x7f7084905a58>, 'Connection to nominatim.openstreetmap.org timed out. (connect timeout=5.0)'))\n",
      "Status code 429 from https://nominatim.openstreetmap.org/search: ERROR - 429 Client Error: Too Many Requests for url: https://nominatim.openstreetmap.org/search?q=McKean+County%2C+Pennsylvania%2C+USA&format=jsonv2&addressdetails=1&limit=1\n",
      "Status code 429 from https://nominatim.openstreetmap.org/search: ERROR - 429 Client Error: Too Many Requests for url: https://nominatim.openstreetmap.org/search?q=Clinton+County%2C+Michigan%2C+USA&format=jsonv2&addressdetails=1&limit=1\n",
      "Status code 429 from https://nominatim.openstreetmap.org/search: ERROR - 429 Client Error: Too Many Requests for url: https://nominatim.openstreetmap.org/search?q=Appomattox+County%2C+Virginia%2C+USA&format=jsonv2&addressdetails=1&limit=1\n",
      "Status code 429 from https://nominatim.openstreetmap.org/search: ERROR - 429 Client Error: Too Many Requests for url: https://nominatim.openstreetmap.org/search?q=Mercer+County%2C+Pennsylvania%2C+USA&format=jsonv2&addressdetails=1&limit=1\n",
      "Status code 429 from https://nominatim.openstreetmap.org/search: ERROR - 429 Client Error: Too Many Requests for url: https://nominatim.openstreetmap.org/search?q=Crawford+County%2C+Michigan%2C+USA&format=jsonv2&addressdetails=1&limit=1\n",
      "Status code 429 from https://nominatim.openstreetmap.org/search: ERROR - 429 Client Error: Too Many Requests for url: https://nominatim.openstreetmap.org/search?q=Arlington+County%2C+Virginia%2C+USA&format=jsonv2&addressdetails=1&limit=1\n",
      "Status code 429 from https://nominatim.openstreetmap.org/search: ERROR - 429 Client Error: Too Many Requests for url: https://nominatim.openstreetmap.org/search?q=Delta+County%2C+Michigan%2C+USA&format=jsonv2&addressdetails=1&limit=1\n",
      "Status code 429 from https://nominatim.openstreetmap.org/search: ERROR - 429 Client Error: Too Many Requests for url: https://nominatim.openstreetmap.org/search?q=Augusta+County%2C+Virginia%2C+USA&format=jsonv2&addressdetails=1&limit=1\n",
      "Status code Unknown from https://nominatim.openstreetmap.org/search: ERROR - HTTPSConnectionPool(host='nominatim.openstreetmap.org', port=443): Max retries exceeded with url: /search?q=Lander+County%2C+Nevada%2C+USA&format=jsonv2&addressdetails=1&limit=1 (Caused by ConnectTimeoutError(<urllib3.connection.VerifiedHTTPSConnection object at 0x7f70847b7d68>, 'Connection to nominatim.openstreetmap.org timed out. (connect timeout=5.0)'))\n"
     ]
    },
    {
     "name": "stderr",
     "output_type": "stream",
     "text": [
      "Status code 429 from https://nominatim.openstreetmap.org/search: ERROR - 429 Client Error: Too Many Requests for url: https://nominatim.openstreetmap.org/search?q=Bath+County%2C+Virginia%2C+USA&format=jsonv2&addressdetails=1&limit=1\n",
      "Status code 429 from https://nominatim.openstreetmap.org/search: ERROR - 429 Client Error: Too Many Requests for url: https://nominatim.openstreetmap.org/search?q=Dickinson+County%2C+Michigan%2C+USA&format=jsonv2&addressdetails=1&limit=1\n",
      "Status code 429 from https://nominatim.openstreetmap.org/search: ERROR - 429 Client Error: Too Many Requests for url: https://nominatim.openstreetmap.org/search?q=Mifflin+County%2C+Pennsylvania%2C+USA&format=jsonv2&addressdetails=1&limit=1\n",
      "Status code 429 from https://nominatim.openstreetmap.org/search: ERROR - 429 Client Error: Too Many Requests for url: https://nominatim.openstreetmap.org/search?q=Bedford+County%2C+Virginia%2C+USA&format=jsonv2&addressdetails=1&limit=1\n",
      "Status code 429 from https://nominatim.openstreetmap.org/search: ERROR - 429 Client Error: Too Many Requests for url: https://nominatim.openstreetmap.org/search?q=Monroe+County%2C+Pennsylvania%2C+USA&format=jsonv2&addressdetails=1&limit=1\n",
      "Status code Unknown from https://nominatim.openstreetmap.org/search: ERROR - HTTPSConnectionPool(host='nominatim.openstreetmap.org', port=443): Max retries exceeded with url: /search?q=San+Benito+County%2C+California%2C+USA&format=jsonv2&addressdetails=1&limit=1 (Caused by ConnectTimeoutError(<urllib3.connection.VerifiedHTTPSConnection object at 0x7f7084698cf8>, 'Connection to nominatim.openstreetmap.org timed out. (connect timeout=5.0)'))\n",
      "Status code 429 from https://nominatim.openstreetmap.org/search: ERROR - 429 Client Error: Too Many Requests for url: https://nominatim.openstreetmap.org/search?q=Bland+County%2C+Virginia%2C+USA&format=jsonv2&addressdetails=1&limit=1\n",
      "Status code 429 from https://nominatim.openstreetmap.org/search: ERROR - 429 Client Error: Too Many Requests for url: https://nominatim.openstreetmap.org/search?q=Botetourt+County%2C+Virginia%2C+USA&format=jsonv2&addressdetails=1&limit=1\n",
      "Status code 429 from https://nominatim.openstreetmap.org/search: ERROR - 429 Client Error: Too Many Requests for url: https://nominatim.openstreetmap.org/search?q=Montgomery+County%2C+Pennsylvania%2C+USA&format=jsonv2&addressdetails=1&limit=1\n",
      "Status code 429 from https://nominatim.openstreetmap.org/search: ERROR - 429 Client Error: Too Many Requests for url: https://nominatim.openstreetmap.org/search?q=Eaton+County%2C+Michigan%2C+USA&format=jsonv2&addressdetails=1&limit=1\n",
      "Status code 429 from https://nominatim.openstreetmap.org/search: ERROR - 429 Client Error: Too Many Requests for url: https://nominatim.openstreetmap.org/search?q=Brunswick+County%2C+Virginia%2C+USA&format=jsonv2&addressdetails=1&limit=1\n",
      "Status code 429 from https://nominatim.openstreetmap.org/search: ERROR - 429 Client Error: Too Many Requests for url: https://nominatim.openstreetmap.org/search?q=Emmet+County%2C+Michigan%2C+USA&format=jsonv2&addressdetails=1&limit=1\n",
      "Status code 429 from https://nominatim.openstreetmap.org/search: ERROR - 429 Client Error: Too Many Requests for url: https://nominatim.openstreetmap.org/search?q=Buchanan+County%2C+Virginia%2C+USA&format=jsonv2&addressdetails=1&limit=1\n",
      "Status code Unknown from https://nominatim.openstreetmap.org/search: ERROR - HTTPSConnectionPool(host='nominatim.openstreetmap.org', port=443): Max retries exceeded with url: /search?q=Jennings+County%2C+Indiana%2C+USA&format=jsonv2&addressdetails=1&limit=1 (Caused by ConnectTimeoutError(<urllib3.connection.VerifiedHTTPSConnection object at 0x7f70847a5278>, 'Connection to nominatim.openstreetmap.org timed out. (connect timeout=5.0)'))\n",
      "Status code 429 from https://nominatim.openstreetmap.org/search: ERROR - 429 Client Error: Too Many Requests for url: https://nominatim.openstreetmap.org/search?q=Buckingham+County%2C+Virginia%2C+USA&format=jsonv2&addressdetails=1&limit=1\n",
      "Status code 429 from https://nominatim.openstreetmap.org/search: ERROR - 429 Client Error: Too Many Requests for url: https://nominatim.openstreetmap.org/search?q=Genesee+County%2C+Michigan%2C+USA&format=jsonv2&addressdetails=1&limit=1\n",
      "Status code 429 from https://nominatim.openstreetmap.org/search: ERROR - 429 Client Error: Too Many Requests for url: https://nominatim.openstreetmap.org/search?q=Campbell+County%2C+Virginia%2C+USA&format=jsonv2&addressdetails=1&limit=1\n",
      "Status code 429 from https://nominatim.openstreetmap.org/search: ERROR - 429 Client Error: Too Many Requests for url: https://nominatim.openstreetmap.org/search?q=Gladwin+County%2C+Michigan%2C+USA&format=jsonv2&addressdetails=1&limit=1\n",
      "Status code 429 from https://nominatim.openstreetmap.org/search: ERROR - 429 Client Error: Too Many Requests for url: https://nominatim.openstreetmap.org/search?q=Gogebic+County%2C+Michigan%2C+USA&format=jsonv2&addressdetails=1&limit=1\n",
      "Status code 429 from https://nominatim.openstreetmap.org/search: ERROR - 429 Client Error: Too Many Requests for url: https://nominatim.openstreetmap.org/search?q=Caroline+County%2C+Virginia%2C+USA&format=jsonv2&addressdetails=1&limit=1\n",
      "Status code 429 from https://nominatim.openstreetmap.org/search: ERROR - 429 Client Error: Too Many Requests for url: https://nominatim.openstreetmap.org/search?q=Carroll+County%2C+Virginia%2C+USA&format=jsonv2&addressdetails=1&limit=1\n",
      "Status code Unknown from https://nominatim.openstreetmap.org/search: ERROR - HTTPSConnectionPool(host='nominatim.openstreetmap.org', port=443): Max retries exceeded with url: /search?q=Lincoln+County%2C+Nevada%2C+USA&format=jsonv2&addressdetails=1&limit=1 (Caused by ConnectTimeoutError(<urllib3.connection.VerifiedHTTPSConnection object at 0x7f70847a7e10>, 'Connection to nominatim.openstreetmap.org timed out. (connect timeout=5.0)'))\n",
      "Status code 429 from https://nominatim.openstreetmap.org/search: ERROR - 429 Client Error: Too Many Requests for url: https://nominatim.openstreetmap.org/search?q=Grand+Traverse+County%2C+Michigan%2C+USA&format=jsonv2&addressdetails=1&limit=1\n",
      "Status code 429 from https://nominatim.openstreetmap.org/search: ERROR - 429 Client Error: Too Many Requests for url: https://nominatim.openstreetmap.org/search?q=Charles+City+County%2C+Virginia%2C+USA&format=jsonv2&addressdetails=1&limit=1\n",
      "Status code 429 from https://nominatim.openstreetmap.org/search: ERROR - 429 Client Error: Too Many Requests for url: https://nominatim.openstreetmap.org/search?q=Lyon+County%2C+Nevada%2C+USA&format=jsonv2&addressdetails=1&limit=1\n",
      "Status code 429 from https://nominatim.openstreetmap.org/search: ERROR - 429 Client Error: Too Many Requests for url: https://nominatim.openstreetmap.org/search?q=Mineral+County%2C+Nevada%2C+USA&format=jsonv2&addressdetails=1&limit=1\n",
      "Status code 429 from https://nominatim.openstreetmap.org/search: ERROR - 429 Client Error: Too Many Requests for url: https://nominatim.openstreetmap.org/search?q=Gratiot+County%2C+Michigan%2C+USA&format=jsonv2&addressdetails=1&limit=1\n",
      "Status code 429 from https://nominatim.openstreetmap.org/search: ERROR - 429 Client Error: Too Many Requests for url: https://nominatim.openstreetmap.org/search?q=Hillsdale+County%2C+Michigan%2C+USA&format=jsonv2&addressdetails=1&limit=1\n",
      "Status code Unknown from https://nominatim.openstreetmap.org/search: ERROR - HTTPSConnectionPool(host='nominatim.openstreetmap.org', port=443): Max retries exceeded with url: /search?q=San+Bernardino+County%2C+California%2C+USA&format=jsonv2&addressdetails=1&limit=1 (Caused by ConnectTimeoutError(<urllib3.connection.VerifiedHTTPSConnection object at 0x7f708486ebe0>, 'Connection to nominatim.openstreetmap.org timed out. (connect timeout=5.0)'))\n",
      "Status code 429 from https://nominatim.openstreetmap.org/search: ERROR - 429 Client Error: Too Many Requests for url: https://nominatim.openstreetmap.org/search?q=Nye+County%2C+Nevada%2C+USA&format=jsonv2&addressdetails=1&limit=1\n",
      "Status code 429 from https://nominatim.openstreetmap.org/search: ERROR - 429 Client Error: Too Many Requests for url: https://nominatim.openstreetmap.org/search?q=San+Diego+County%2C+California%2C+USA&format=jsonv2&addressdetails=1&limit=1\n",
      "Status code 429 from https://nominatim.openstreetmap.org/search: ERROR - 429 Client Error: Too Many Requests for url: https://nominatim.openstreetmap.org/search?q=Pershing+County%2C+Nevada%2C+USA&format=jsonv2&addressdetails=1&limit=1\n"
     ]
    },
    {
     "name": "stderr",
     "output_type": "stream",
     "text": [
      "Status code Unknown from https://nominatim.openstreetmap.org/search: ERROR - HTTPSConnectionPool(host='nominatim.openstreetmap.org', port=443): Max retries exceeded with url: /search?q=Montour+County%2C+Pennsylvania%2C+USA&format=jsonv2&addressdetails=1&limit=1 (Caused by ConnectTimeoutError(<urllib3.connection.VerifiedHTTPSConnection object at 0x7f708477c320>, 'Connection to nominatim.openstreetmap.org timed out. (connect timeout=5.0)'))\n",
      "Status code 429 from https://nominatim.openstreetmap.org/search: ERROR - 429 Client Error: Too Many Requests for url: https://nominatim.openstreetmap.org/search?q=Storey+County%2C+Nevada%2C+USA&format=jsonv2&addressdetails=1&limit=1\n",
      "Status code 429 from https://nominatim.openstreetmap.org/search: ERROR - 429 Client Error: Too Many Requests for url: https://nominatim.openstreetmap.org/search?q=Northampton+County%2C+Pennsylvania%2C+USA&format=jsonv2&addressdetails=1&limit=1\n",
      "Status code 429 from https://nominatim.openstreetmap.org/search: ERROR - 429 Client Error: Too Many Requests for url: https://nominatim.openstreetmap.org/search?q=Northumberland+County%2C+Pennsylvania%2C+USA&format=jsonv2&addressdetails=1&limit=1\n",
      "Status code Unknown from https://nominatim.openstreetmap.org/search: ERROR - HTTPSConnectionPool(host='nominatim.openstreetmap.org', port=443): Max retries exceeded with url: /search?q=Johnson+County%2C+Indiana%2C+USA&format=jsonv2&addressdetails=1&limit=1 (Caused by ConnectTimeoutError(<urllib3.connection.VerifiedHTTPSConnection object at 0x7f70847a55f8>, 'Connection to nominatim.openstreetmap.org timed out. (connect timeout=5.0)'))\n",
      "Status code 429 from https://nominatim.openstreetmap.org/search: ERROR - 429 Client Error: Too Many Requests for url: https://nominatim.openstreetmap.org/search?q=Perry+County%2C+Pennsylvania%2C+USA&format=jsonv2&addressdetails=1&limit=1\n",
      "Status code 429 from https://nominatim.openstreetmap.org/search: ERROR - 429 Client Error: Too Many Requests for url: https://nominatim.openstreetmap.org/search?q=Knox+County%2C+Indiana%2C+USA&format=jsonv2&addressdetails=1&limit=1\n",
      "Status code 429 from https://nominatim.openstreetmap.org/search: ERROR - 429 Client Error: Too Many Requests for url: https://nominatim.openstreetmap.org/search?q=Philadelphia+County%2C+Pennsylvania%2C+USA&format=jsonv2&addressdetails=1&limit=1\n",
      "Status code 429 from https://nominatim.openstreetmap.org/search: ERROR - 429 Client Error: Too Many Requests for url: https://nominatim.openstreetmap.org/search?q=Kosciusko+County%2C+Indiana%2C+USA&format=jsonv2&addressdetails=1&limit=1\n",
      "Status code 429 from https://nominatim.openstreetmap.org/search: ERROR - 429 Client Error: Too Many Requests for url: https://nominatim.openstreetmap.org/search?q=Pike+County%2C+Pennsylvania%2C+USA&format=jsonv2&addressdetails=1&limit=1\n",
      "Status code 429 from https://nominatim.openstreetmap.org/search: ERROR - 429 Client Error: Too Many Requests for url: https://nominatim.openstreetmap.org/search?q=LaGrange+County%2C+Indiana%2C+USA&format=jsonv2&addressdetails=1&limit=1\n",
      "Status code 429 from https://nominatim.openstreetmap.org/search: ERROR - 429 Client Error: Too Many Requests for url: https://nominatim.openstreetmap.org/search?q=Lake+County%2C+Indiana%2C+USA&format=jsonv2&addressdetails=1&limit=1\n",
      "Status code Unknown from https://nominatim.openstreetmap.org/search: ERROR - HTTPSConnectionPool(host='nominatim.openstreetmap.org', port=443): Max retries exceeded with url: /search?q=Charlotte+County%2C+Virginia%2C+USA&format=jsonv2&addressdetails=1&limit=1 (Caused by ConnectTimeoutError(<urllib3.connection.VerifiedHTTPSConnection object at 0x7f7085c78f98>, 'Connection to nominatim.openstreetmap.org timed out. (connect timeout=5.0)'))\n",
      "Status code 429 from https://nominatim.openstreetmap.org/search: ERROR - 429 Client Error: Too Many Requests for url: https://nominatim.openstreetmap.org/search?q=LaPorte+County%2C+Indiana%2C+USA&format=jsonv2&addressdetails=1&limit=1\n",
      "Status code 429 from https://nominatim.openstreetmap.org/search: ERROR - 429 Client Error: Too Many Requests for url: https://nominatim.openstreetmap.org/search?q=Chesterfield+County%2C+Virginia%2C+USA&format=jsonv2&addressdetails=1&limit=1\n",
      "Status code Unknown from https://nominatim.openstreetmap.org/search: ERROR - HTTPSConnectionPool(host='nominatim.openstreetmap.org', port=443): Max retries exceeded with url: /search?q=Houghton+County%2C+Michigan%2C+USA&format=jsonv2&addressdetails=1&limit=1 (Caused by ConnectTimeoutError(<urllib3.connection.VerifiedHTTPSConnection object at 0x7f708479dcc0>, 'Connection to nominatim.openstreetmap.org timed out. (connect timeout=5.0)'))\n",
      "Status code 429 from https://nominatim.openstreetmap.org/search: ERROR - 429 Client Error: Too Many Requests for url: https://nominatim.openstreetmap.org/search?q=Clarke+County%2C+Virginia%2C+USA&format=jsonv2&addressdetails=1&limit=1\n",
      "Status code 429 from https://nominatim.openstreetmap.org/search: ERROR - 429 Client Error: Too Many Requests for url: https://nominatim.openstreetmap.org/search?q=Huron+County%2C+Michigan%2C+USA&format=jsonv2&addressdetails=1&limit=1\n",
      "Status code Unknown from https://nominatim.openstreetmap.org/search: ERROR - HTTPSConnectionPool(host='nominatim.openstreetmap.org', port=443): Max retries exceeded with url: /search?q=San+Francisco+County%2C+California%2C+USA&format=jsonv2&addressdetails=1&limit=1 (Caused by ConnectTimeoutError(<urllib3.connection.VerifiedHTTPSConnection object at 0x7f70849056a0>, 'Connection to nominatim.openstreetmap.org timed out. (connect timeout=5.0)'))\n",
      "Status code 429 from https://nominatim.openstreetmap.org/search: ERROR - 429 Client Error: Too Many Requests for url: https://nominatim.openstreetmap.org/search?q=Craig+County%2C+Virginia%2C+USA&format=jsonv2&addressdetails=1&limit=1\n",
      "Status code 429 from https://nominatim.openstreetmap.org/search: ERROR - 429 Client Error: Too Many Requests for url: https://nominatim.openstreetmap.org/search?q=Ingham+County%2C+Michigan%2C+USA&format=jsonv2&addressdetails=1&limit=1\n",
      "Status code Unknown from https://nominatim.openstreetmap.org/search: ERROR - HTTPSConnectionPool(host='nominatim.openstreetmap.org', port=443): Max retries exceeded with url: /search?q=Washoe+County%2C+Nevada%2C+USA&format=jsonv2&addressdetails=1&limit=1 (Caused by ConnectTimeoutError(<urllib3.connection.VerifiedHTTPSConnection object at 0x7f708486e898>, 'Connection to nominatim.openstreetmap.org timed out. (connect timeout=5.0)'))\n",
      "Status code 429 from https://nominatim.openstreetmap.org/search: ERROR - 429 Client Error: Too Many Requests for url: https://nominatim.openstreetmap.org/search?q=Ionia+County%2C+Michigan%2C+USA&format=jsonv2&addressdetails=1&limit=1\n",
      "Status code 429 from https://nominatim.openstreetmap.org/search: ERROR - 429 Client Error: Too Many Requests for url: https://nominatim.openstreetmap.org/search?q=San+Joaquin+County%2C+California%2C+USA&format=jsonv2&addressdetails=1&limit=1\n",
      "Status code 429 from https://nominatim.openstreetmap.org/search: ERROR - 429 Client Error: Too Many Requests for url: https://nominatim.openstreetmap.org/search?q=White+Pine+County%2C+Nevada%2C+USA&format=jsonv2&addressdetails=1&limit=1\n",
      "Status code 429 from https://nominatim.openstreetmap.org/search: ERROR - 429 Client Error: Too Many Requests for url: https://nominatim.openstreetmap.org/search?q=Carson+City%2C+Nevada%2C+USA&format=jsonv2&addressdetails=1&limit=1\n",
      "Status code 429 from https://nominatim.openstreetmap.org/search: ERROR - 429 Client Error: Too Many Requests for url: https://nominatim.openstreetmap.org/search?q=Iosco+County%2C+Michigan%2C+USA&format=jsonv2&addressdetails=1&limit=1\n",
      "Status code 429 from https://nominatim.openstreetmap.org/search: ERROR - 429 Client Error: Too Many Requests for url: https://nominatim.openstreetmap.org/search?q=Iron+County%2C+Michigan%2C+USA&format=jsonv2&addressdetails=1&limit=1\n",
      "Status code 429 from https://nominatim.openstreetmap.org/search: ERROR - 429 Client Error: Too Many Requests for url: https://nominatim.openstreetmap.org/search?q=Belknap+County%2C+New+Hampshire%2C+USA&format=jsonv2&addressdetails=1&limit=1\n",
      "Status code 429 from https://nominatim.openstreetmap.org/search: ERROR - 429 Client Error: Too Many Requests for url: https://nominatim.openstreetmap.org/search?q=Isabella+County%2C+Michigan%2C+USA&format=jsonv2&addressdetails=1&limit=1\n"
     ]
    },
    {
     "name": "stderr",
     "output_type": "stream",
     "text": [
      "Status code 429 from https://nominatim.openstreetmap.org/search: ERROR - 429 Client Error: Too Many Requests for url: https://nominatim.openstreetmap.org/search?q=Carroll+County%2C+New+Hampshire%2C+USA&format=jsonv2&addressdetails=1&limit=1\n",
      "Status code Unknown from https://nominatim.openstreetmap.org/search: ERROR - HTTPSConnectionPool(host='nominatim.openstreetmap.org', port=443): Max retries exceeded with url: /search?q=Potter+County%2C+Pennsylvania%2C+USA&format=jsonv2&addressdetails=1&limit=1 (Caused by ConnectTimeoutError(<urllib3.connection.VerifiedHTTPSConnection object at 0x7f70847aa400>, 'Connection to nominatim.openstreetmap.org timed out. (connect timeout=5.0)'))\n",
      "Status code 429 from https://nominatim.openstreetmap.org/search: ERROR - 429 Client Error: Too Many Requests for url: https://nominatim.openstreetmap.org/search?q=Cheshire+County%2C+New+Hampshire%2C+USA&format=jsonv2&addressdetails=1&limit=1\n",
      "Status code 429 from https://nominatim.openstreetmap.org/search: ERROR - 429 Client Error: Too Many Requests for url: https://nominatim.openstreetmap.org/search?q=Schuylkill+County%2C+Pennsylvania%2C+USA&format=jsonv2&addressdetails=1&limit=1\n",
      "Status code 429 from https://nominatim.openstreetmap.org/search: ERROR - 429 Client Error: Too Many Requests for url: https://nominatim.openstreetmap.org/search?q=Coos+County%2C+New+Hampshire%2C+USA&format=jsonv2&addressdetails=1&limit=1\n",
      "Status code 429 from https://nominatim.openstreetmap.org/search: ERROR - 429 Client Error: Too Many Requests for url: https://nominatim.openstreetmap.org/search?q=Grafton+County%2C+New+Hampshire%2C+USA&format=jsonv2&addressdetails=1&limit=1\n",
      "Status code Unknown from https://nominatim.openstreetmap.org/search: ERROR - HTTPSConnectionPool(host='nominatim.openstreetmap.org', port=443): Max retries exceeded with url: /search?q=Lawrence+County%2C+Indiana%2C+USA&format=jsonv2&addressdetails=1&limit=1 (Caused by ConnectTimeoutError(<urllib3.connection.VerifiedHTTPSConnection object at 0x7f70852baf28>, 'Connection to nominatim.openstreetmap.org timed out. (connect timeout=5.0)'))\n",
      "Status code 429 from https://nominatim.openstreetmap.org/search: ERROR - 429 Client Error: Too Many Requests for url: https://nominatim.openstreetmap.org/search?q=Snyder+County%2C+Pennsylvania%2C+USA&format=jsonv2&addressdetails=1&limit=1\n",
      "Status code 429 from https://nominatim.openstreetmap.org/search: ERROR - 429 Client Error: Too Many Requests for url: https://nominatim.openstreetmap.org/search?q=Madison+County%2C+Indiana%2C+USA&format=jsonv2&addressdetails=1&limit=1\n",
      "Status code 429 from https://nominatim.openstreetmap.org/search: ERROR - 429 Client Error: Too Many Requests for url: https://nominatim.openstreetmap.org/search?q=Marion+County%2C+Indiana%2C+USA&format=jsonv2&addressdetails=1&limit=1\n",
      "Status code 429 from https://nominatim.openstreetmap.org/search: ERROR - 429 Client Error: Too Many Requests for url: https://nominatim.openstreetmap.org/search?q=Marshall+County%2C+Indiana%2C+USA&format=jsonv2&addressdetails=1&limit=1\n",
      "Status code 429 from https://nominatim.openstreetmap.org/search: ERROR - 429 Client Error: Too Many Requests for url: https://nominatim.openstreetmap.org/search?q=Martin+County%2C+Indiana%2C+USA&format=jsonv2&addressdetails=1&limit=1\n",
      "Status code Unknown from https://nominatim.openstreetmap.org/search: ERROR - HTTPSConnectionPool(host='nominatim.openstreetmap.org', port=443): Max retries exceeded with url: /search?q=Culpeper+County%2C+Virginia%2C+USA&format=jsonv2&addressdetails=1&limit=1 (Caused by ConnectTimeoutError(<urllib3.connection.VerifiedHTTPSConnection object at 0x7f70847c7198>, 'Connection to nominatim.openstreetmap.org timed out. (connect timeout=5.0)'))\n",
      "Status code 429 from https://nominatim.openstreetmap.org/search: ERROR - 429 Client Error: Too Many Requests for url: https://nominatim.openstreetmap.org/search?q=Miami+County%2C+Indiana%2C+USA&format=jsonv2&addressdetails=1&limit=1\n",
      "Status code 429 from https://nominatim.openstreetmap.org/search: ERROR - 429 Client Error: Too Many Requests for url: https://nominatim.openstreetmap.org/search?q=Hillsborough+County%2C+New+Hampshire%2C+USA&format=jsonv2&addressdetails=1&limit=1\n",
      "Status code 429 from https://nominatim.openstreetmap.org/search: ERROR - 429 Client Error: Too Many Requests for url: https://nominatim.openstreetmap.org/search?q=Somerset+County%2C+Pennsylvania%2C+USA&format=jsonv2&addressdetails=1&limit=1\n",
      "Status code 429 from https://nominatim.openstreetmap.org/search: ERROR - 429 Client Error: Too Many Requests for url: https://nominatim.openstreetmap.org/search?q=Merrimack+County%2C+New+Hampshire%2C+USA&format=jsonv2&addressdetails=1&limit=1\n",
      "Status code Unknown from https://nominatim.openstreetmap.org/search: ERROR - HTTPSConnectionPool(host='nominatim.openstreetmap.org', port=443): Max retries exceeded with url: /search?q=San+Luis+Obispo+County%2C+California%2C+USA&format=jsonv2&addressdetails=1&limit=1 (Caused by ConnectTimeoutError(<urllib3.connection.VerifiedHTTPSConnection object at 0x7f70849604e0>, 'Connection to nominatim.openstreetmap.org timed out. (connect timeout=5.0)'))\n",
      "Status code 429 from https://nominatim.openstreetmap.org/search: ERROR - 429 Client Error: Too Many Requests for url: https://nominatim.openstreetmap.org/search?q=Sullivan+County%2C+Pennsylvania%2C+USA&format=jsonv2&addressdetails=1&limit=1\n",
      "Status code 429 from https://nominatim.openstreetmap.org/search: ERROR - 429 Client Error: Too Many Requests for url: https://nominatim.openstreetmap.org/search?q=San+Mateo+County%2C+California%2C+USA&format=jsonv2&addressdetails=1&limit=1\n",
      "Status code 429 from https://nominatim.openstreetmap.org/search: ERROR - 429 Client Error: Too Many Requests for url: https://nominatim.openstreetmap.org/search?q=Santa+Barbara+County%2C+California%2C+USA&format=jsonv2&addressdetails=1&limit=1\n",
      "Status code 429 from https://nominatim.openstreetmap.org/search: ERROR - 429 Client Error: Too Many Requests for url: https://nominatim.openstreetmap.org/search?q=Susquehanna+County%2C+Pennsylvania%2C+USA&format=jsonv2&addressdetails=1&limit=1\n",
      "Status code 429 from https://nominatim.openstreetmap.org/search: ERROR - 429 Client Error: Too Many Requests for url: https://nominatim.openstreetmap.org/search?q=Tioga+County%2C+Pennsylvania%2C+USA&format=jsonv2&addressdetails=1&limit=1\n",
      "Status code Unknown from https://nominatim.openstreetmap.org/search: ERROR - HTTPSConnectionPool(host='nominatim.openstreetmap.org', port=443): Max retries exceeded with url: /search?q=Jackson+County%2C+Michigan%2C+USA&format=jsonv2&addressdetails=1&limit=1 (Caused by ConnectTimeoutError(<urllib3.connection.VerifiedHTTPSConnection object at 0x7f7084964518>, 'Connection to nominatim.openstreetmap.org timed out. (connect timeout=5.0)'))\n",
      "Status code 429 from https://nominatim.openstreetmap.org/search: ERROR - 429 Client Error: Too Many Requests for url: https://nominatim.openstreetmap.org/search?q=Santa+Clara+County%2C+California%2C+USA&format=jsonv2&addressdetails=1&limit=1\n",
      "Status code 429 from https://nominatim.openstreetmap.org/search: ERROR - 429 Client Error: Too Many Requests for url: https://nominatim.openstreetmap.org/search?q=Union+County%2C+Pennsylvania%2C+USA&format=jsonv2&addressdetails=1&limit=1\n",
      "Status code 429 from https://nominatim.openstreetmap.org/search: ERROR - 429 Client Error: Too Many Requests for url: https://nominatim.openstreetmap.org/search?q=Santa+Cruz+County%2C+California%2C+USA&format=jsonv2&addressdetails=1&limit=1\n",
      "Status code 429 from https://nominatim.openstreetmap.org/search: ERROR - 429 Client Error: Too Many Requests for url: https://nominatim.openstreetmap.org/search?q=Shasta+County%2C+California%2C+USA&format=jsonv2&addressdetails=1&limit=1\n",
      "Status code 429 from https://nominatim.openstreetmap.org/search: ERROR - 429 Client Error: Too Many Requests for url: https://nominatim.openstreetmap.org/search?q=Venango+County%2C+Pennsylvania%2C+USA&format=jsonv2&addressdetails=1&limit=1\n",
      "Status code 429 from https://nominatim.openstreetmap.org/search: ERROR - 429 Client Error: Too Many Requests for url: https://nominatim.openstreetmap.org/search?q=Sierra+County%2C+California%2C+USA&format=jsonv2&addressdetails=1&limit=1\n"
     ]
    },
    {
     "name": "stderr",
     "output_type": "stream",
     "text": [
      "Status code 429 from https://nominatim.openstreetmap.org/search: ERROR - 429 Client Error: Too Many Requests for url: https://nominatim.openstreetmap.org/search?q=Warren+County%2C+Pennsylvania%2C+USA&format=jsonv2&addressdetails=1&limit=1\n",
      "Status code 429 from https://nominatim.openstreetmap.org/search: ERROR - 429 Client Error: Too Many Requests for url: https://nominatim.openstreetmap.org/search?q=Washington+County%2C+Pennsylvania%2C+USA&format=jsonv2&addressdetails=1&limit=1\n",
      "Status code 429 from https://nominatim.openstreetmap.org/search: ERROR - 429 Client Error: Too Many Requests for url: https://nominatim.openstreetmap.org/search?q=Siskiyou+County%2C+California%2C+USA&format=jsonv2&addressdetails=1&limit=1\n",
      "Status code 429 from https://nominatim.openstreetmap.org/search: ERROR - 429 Client Error: Too Many Requests for url: https://nominatim.openstreetmap.org/search?q=Wayne+County%2C+Pennsylvania%2C+USA&format=jsonv2&addressdetails=1&limit=1\n",
      "Status code Unknown from https://nominatim.openstreetmap.org/search: ERROR - HTTPSConnectionPool(host='nominatim.openstreetmap.org', port=443): Max retries exceeded with url: /search?q=Cumberland+County%2C+Virginia%2C+USA&format=jsonv2&addressdetails=1&limit=1 (Caused by ConnectTimeoutError(<urllib3.connection.VerifiedHTTPSConnection object at 0x7f7084967a58>, 'Connection to nominatim.openstreetmap.org timed out. (connect timeout=5.0)'))\n",
      "Status code 429 from https://nominatim.openstreetmap.org/search: ERROR - 429 Client Error: Too Many Requests for url: https://nominatim.openstreetmap.org/search?q=Westmoreland+County%2C+Pennsylvania%2C+USA&format=jsonv2&addressdetails=1&limit=1\n",
      "Status code Unknown from https://nominatim.openstreetmap.org/search: ERROR - HTTPSConnectionPool(host='nominatim.openstreetmap.org', port=443): Max retries exceeded with url: /search?q=Monroe+County%2C+Indiana%2C+USA&format=jsonv2&addressdetails=1&limit=1 (Caused by ConnectTimeoutError(<urllib3.connection.VerifiedHTTPSConnection object at 0x7f708486e630>, 'Connection to nominatim.openstreetmap.org timed out. (connect timeout=5.0)'))\n",
      "Status code 429 from https://nominatim.openstreetmap.org/search: ERROR - 429 Client Error: Too Many Requests for url: https://nominatim.openstreetmap.org/search?q=Wyoming+County%2C+Pennsylvania%2C+USA&format=jsonv2&addressdetails=1&limit=1\n",
      "Status code 429 from https://nominatim.openstreetmap.org/search: ERROR - 429 Client Error: Too Many Requests for url: https://nominatim.openstreetmap.org/search?q=Montgomery+County%2C+Indiana%2C+USA&format=jsonv2&addressdetails=1&limit=1\n",
      "Status code Unknown from https://nominatim.openstreetmap.org/search: ERROR - HTTPSConnectionPool(host='nominatim.openstreetmap.org', port=443): Max retries exceeded with url: /search?q=Rockingham+County%2C+New+Hampshire%2C+USA&format=jsonv2&addressdetails=1&limit=1 (Caused by ConnectTimeoutError(<urllib3.connection.VerifiedHTTPSConnection object at 0x7f70847a7a20>, 'Connection to nominatim.openstreetmap.org timed out. (connect timeout=5.0)'))\n",
      "Status code 429 from https://nominatim.openstreetmap.org/search: ERROR - 429 Client Error: Too Many Requests for url: https://nominatim.openstreetmap.org/search?q=Morgan+County%2C+Indiana%2C+USA&format=jsonv2&addressdetails=1&limit=1\n",
      "Status code 429 from https://nominatim.openstreetmap.org/search: ERROR - 429 Client Error: Too Many Requests for url: https://nominatim.openstreetmap.org/search?q=Newton+County%2C+Indiana%2C+USA&format=jsonv2&addressdetails=1&limit=1\n",
      "Status code 429 from https://nominatim.openstreetmap.org/search: ERROR - 429 Client Error: Too Many Requests for url: https://nominatim.openstreetmap.org/search?q=Strafford+County%2C+New+Hampshire%2C+USA&format=jsonv2&addressdetails=1&limit=1\n",
      "Status code 429 from https://nominatim.openstreetmap.org/search: ERROR - 429 Client Error: Too Many Requests for url: https://nominatim.openstreetmap.org/search?q=Noble+County%2C+Indiana%2C+USA&format=jsonv2&addressdetails=1&limit=1\n",
      "Status code 429 from https://nominatim.openstreetmap.org/search: ERROR - 429 Client Error: Too Many Requests for url: https://nominatim.openstreetmap.org/search?q=Sullivan+County%2C+New+Hampshire%2C+USA&format=jsonv2&addressdetails=1&limit=1\n",
      "Status code 429 from https://nominatim.openstreetmap.org/search: ERROR - 429 Client Error: Too Many Requests for url: https://nominatim.openstreetmap.org/search?q=Atlantic+County%2C+New+Jersey%2C+USA&format=jsonv2&addressdetails=1&limit=1\n",
      "Status code Unknown from https://nominatim.openstreetmap.org/search: ERROR - HTTPSConnectionPool(host='nominatim.openstreetmap.org', port=443): Max retries exceeded with url: /search?q=Kalamazoo+County%2C+Michigan%2C+USA&format=jsonv2&addressdetails=1&limit=1 (Caused by ConnectTimeoutError(<urllib3.connection.VerifiedHTTPSConnection object at 0x7f70847a6ba8>, 'Connection to nominatim.openstreetmap.org timed out. (connect timeout=5.0)'))\n",
      "Status code 429 from https://nominatim.openstreetmap.org/search: ERROR - 429 Client Error: Too Many Requests for url: https://nominatim.openstreetmap.org/search?q=Ohio+County%2C+Indiana%2C+USA&format=jsonv2&addressdetails=1&limit=1\n",
      "Status code 429 from https://nominatim.openstreetmap.org/search: ERROR - 429 Client Error: Too Many Requests for url: https://nominatim.openstreetmap.org/search?q=Orange+County%2C+Indiana%2C+USA&format=jsonv2&addressdetails=1&limit=1\n",
      "Status code 429 from https://nominatim.openstreetmap.org/search: ERROR - 429 Client Error: Too Many Requests for url: https://nominatim.openstreetmap.org/search?q=Owen+County%2C+Indiana%2C+USA&format=jsonv2&addressdetails=1&limit=1\n",
      "Status code 429 from https://nominatim.openstreetmap.org/search: ERROR - 429 Client Error: Too Many Requests for url: https://nominatim.openstreetmap.org/search?q=Parke+County%2C+Indiana%2C+USA&format=jsonv2&addressdetails=1&limit=1\n",
      "Status code Unknown from https://nominatim.openstreetmap.org/search: ERROR - HTTPSConnectionPool(host='nominatim.openstreetmap.org', port=443): Max retries exceeded with url: /search?q=Solano+County%2C+California%2C+USA&format=jsonv2&addressdetails=1&limit=1 (Caused by ConnectTimeoutError(<urllib3.connection.VerifiedHTTPSConnection object at 0x7f7084905a20>, 'Connection to nominatim.openstreetmap.org timed out. (connect timeout=5.0)'))\n",
      "Status code 429 from https://nominatim.openstreetmap.org/search: ERROR - 429 Client Error: Too Many Requests for url: https://nominatim.openstreetmap.org/search?q=Perry+County%2C+Indiana%2C+USA&format=jsonv2&addressdetails=1&limit=1\n",
      "Status code 429 from https://nominatim.openstreetmap.org/search: ERROR - 429 Client Error: Too Many Requests for url: https://nominatim.openstreetmap.org/search?q=Pike+County%2C+Indiana%2C+USA&format=jsonv2&addressdetails=1&limit=1\n",
      "Status code Unknown from https://nominatim.openstreetmap.org/search: ERROR - HTTPSConnectionPool(host='nominatim.openstreetmap.org', port=443): Max retries exceeded with url: /search?q=Dickenson+County%2C+Virginia%2C+USA&format=jsonv2&addressdetails=1&limit=1 (Caused by ConnectTimeoutError(<urllib3.connection.VerifiedHTTPSConnection object at 0x7f70847c7198>, 'Connection to nominatim.openstreetmap.org timed out. (connect timeout=5.0)'))\n",
      "Status code 429 from https://nominatim.openstreetmap.org/search: ERROR - 429 Client Error: Too Many Requests for url: https://nominatim.openstreetmap.org/search?q=Dinwiddie+County%2C+Virginia%2C+USA&format=jsonv2&addressdetails=1&limit=1\n",
      "Status code Unknown from https://nominatim.openstreetmap.org/search: ERROR - HTTPSConnectionPool(host='nominatim.openstreetmap.org', port=443): Max retries exceeded with url: /search?q=York+County%2C+Pennsylvania%2C+USA&format=jsonv2&addressdetails=1&limit=1 (Caused by ConnectTimeoutError(<urllib3.connection.VerifiedHTTPSConnection object at 0x7f708486e7f0>, 'Connection to nominatim.openstreetmap.org timed out. (connect timeout=5.0)'))\n",
      "Status code 429 from https://nominatim.openstreetmap.org/search: ERROR - 429 Client Error: Too Many Requests for url: https://nominatim.openstreetmap.org/search?q=Porter+County%2C+Indiana%2C+USA&format=jsonv2&addressdetails=1&limit=1\n",
      "Status code 429 from https://nominatim.openstreetmap.org/search: ERROR - 429 Client Error: Too Many Requests for url: https://nominatim.openstreetmap.org/search?q=Essex+County%2C+Virginia%2C+USA&format=jsonv2&addressdetails=1&limit=1\n"
     ]
    },
    {
     "name": "stderr",
     "output_type": "stream",
     "text": [
      "Status code 429 from https://nominatim.openstreetmap.org/search: ERROR - 429 Client Error: Too Many Requests for url: https://nominatim.openstreetmap.org/search?q=Posey+County%2C+Indiana%2C+USA&format=jsonv2&addressdetails=1&limit=1\n",
      "Status code 429 from https://nominatim.openstreetmap.org/search: ERROR - 429 Client Error: Too Many Requests for url: https://nominatim.openstreetmap.org/search?q=Pulaski+County%2C+Indiana%2C+USA&format=jsonv2&addressdetails=1&limit=1\n",
      "Status code 429 from https://nominatim.openstreetmap.org/search: ERROR - 429 Client Error: Too Many Requests for url: https://nominatim.openstreetmap.org/search?q=Putnam+County%2C+Indiana%2C+USA&format=jsonv2&addressdetails=1&limit=1\n"
     ]
    },
    {
     "name": "stdout",
     "output_type": "stream",
     "text": [
      "40.1560108 -85.011566\n"
     ]
    },
    {
     "name": "stderr",
     "output_type": "stream",
     "text": [
      "Status code Unknown from https://nominatim.openstreetmap.org/search: ERROR - HTTPSConnectionPool(host='nominatim.openstreetmap.org', port=443): Max retries exceeded with url: /search?q=Bergen+County%2C+New+Jersey%2C+USA&format=jsonv2&addressdetails=1&limit=1 (Caused by ConnectTimeoutError(<urllib3.connection.VerifiedHTTPSConnection object at 0x7f7084967358>, 'Connection to nominatim.openstreetmap.org timed out. (connect timeout=5.0)'))\n",
      "Status code 429 from https://nominatim.openstreetmap.org/search: ERROR - 429 Client Error: Too Many Requests for url: https://nominatim.openstreetmap.org/search?q=Ripley+County%2C+Indiana%2C+USA&format=jsonv2&addressdetails=1&limit=1\n",
      "Status code Unknown from https://nominatim.openstreetmap.org/search: ERROR - HTTPSConnectionPool(host='nominatim.openstreetmap.org', port=443): Max retries exceeded with url: /search?q=Kalkaska+County%2C+Michigan%2C+USA&format=jsonv2&addressdetails=1&limit=1 (Caused by ConnectTimeoutError(<urllib3.connection.VerifiedHTTPSConnection object at 0x7f708479d978>, 'Connection to nominatim.openstreetmap.org timed out. (connect timeout=5.0)'))\n",
      "Status code 429 from https://nominatim.openstreetmap.org/search: ERROR - 429 Client Error: Too Many Requests for url: https://nominatim.openstreetmap.org/search?q=Bristol+County%2C+Rhode+Island%2C+USA&format=jsonv2&addressdetails=1&limit=1\n",
      "Status code 429 from https://nominatim.openstreetmap.org/search: ERROR - 429 Client Error: Too Many Requests for url: https://nominatim.openstreetmap.org/search?q=Fairfax+County%2C+Virginia%2C+USA&format=jsonv2&addressdetails=1&limit=1\n",
      "Status code 429 from https://nominatim.openstreetmap.org/search: ERROR - 429 Client Error: Too Many Requests for url: https://nominatim.openstreetmap.org/search?q=Rush+County%2C+Indiana%2C+USA&format=jsonv2&addressdetails=1&limit=1\n",
      "Status code 429 from https://nominatim.openstreetmap.org/search: ERROR - 429 Client Error: Too Many Requests for url: https://nominatim.openstreetmap.org/search?q=Fauquier+County%2C+Virginia%2C+USA&format=jsonv2&addressdetails=1&limit=1\n",
      "Status code 429 from https://nominatim.openstreetmap.org/search: ERROR - 429 Client Error: Too Many Requests for url: https://nominatim.openstreetmap.org/search?q=Kent+County%2C+Michigan%2C+USA&format=jsonv2&addressdetails=1&limit=1\n",
      "Status code 429 from https://nominatim.openstreetmap.org/search: ERROR - 429 Client Error: Too Many Requests for url: https://nominatim.openstreetmap.org/search?q=Keweenaw+County%2C+Michigan%2C+USA&format=jsonv2&addressdetails=1&limit=1\n",
      "Status code 429 from https://nominatim.openstreetmap.org/search: ERROR - 429 Client Error: Too Many Requests for url: https://nominatim.openstreetmap.org/search?q=Floyd+County%2C+Virginia%2C+USA&format=jsonv2&addressdetails=1&limit=1\n",
      "Status code 429 from https://nominatim.openstreetmap.org/search: ERROR - 429 Client Error: Too Many Requests for url: https://nominatim.openstreetmap.org/search?q=Burlington+County%2C+New+Jersey%2C+USA&format=jsonv2&addressdetails=1&limit=1\n",
      "Status code 429 from https://nominatim.openstreetmap.org/search: ERROR - 429 Client Error: Too Many Requests for url: https://nominatim.openstreetmap.org/search?q=Fluvanna+County%2C+Virginia%2C+USA&format=jsonv2&addressdetails=1&limit=1\n",
      "Status code Unknown from https://nominatim.openstreetmap.org/search: ERROR - HTTPSConnectionPool(host='nominatim.openstreetmap.org', port=443): Max retries exceeded with url: /search?q=Sonoma+County%2C+California%2C+USA&format=jsonv2&addressdetails=1&limit=1 (Caused by ConnectTimeoutError(<urllib3.connection.VerifiedHTTPSConnection object at 0x7f7084698a20>, 'Connection to nominatim.openstreetmap.org timed out. (connect timeout=5.0)'))\n",
      "Status code 429 from https://nominatim.openstreetmap.org/search: ERROR - 429 Client Error: Too Many Requests for url: https://nominatim.openstreetmap.org/search?q=Camden+County%2C+New+Jersey%2C+USA&format=jsonv2&addressdetails=1&limit=1\n",
      "Status code 429 from https://nominatim.openstreetmap.org/search: ERROR - 429 Client Error: Too Many Requests for url: https://nominatim.openstreetmap.org/search?q=Stanislaus+County%2C+California%2C+USA&format=jsonv2&addressdetails=1&limit=1\n",
      "Status code 429 from https://nominatim.openstreetmap.org/search: ERROR - 429 Client Error: Too Many Requests for url: https://nominatim.openstreetmap.org/search?q=Sutter+County%2C+California%2C+USA&format=jsonv2&addressdetails=1&limit=1\n",
      "Status code 429 from https://nominatim.openstreetmap.org/search: ERROR - 429 Client Error: Too Many Requests for url: https://nominatim.openstreetmap.org/search?q=Tehama+County%2C+California%2C+USA&format=jsonv2&addressdetails=1&limit=1\n",
      "Status code 429 from https://nominatim.openstreetmap.org/search: ERROR - 429 Client Error: Too Many Requests for url: https://nominatim.openstreetmap.org/search?q=Trinity+County%2C+California%2C+USA&format=jsonv2&addressdetails=1&limit=1\n",
      "Status code 429 from https://nominatim.openstreetmap.org/search: ERROR - 429 Client Error: Too Many Requests for url: https://nominatim.openstreetmap.org/search?q=Franklin+County%2C+Virginia%2C+USA&format=jsonv2&addressdetails=1&limit=1\n",
      "Status code 429 from https://nominatim.openstreetmap.org/search: ERROR - 429 Client Error: Too Many Requests for url: https://nominatim.openstreetmap.org/search?q=Tulare+County%2C+California%2C+USA&format=jsonv2&addressdetails=1&limit=1\n",
      "Status code 429 from https://nominatim.openstreetmap.org/search: ERROR - 429 Client Error: Too Many Requests for url: https://nominatim.openstreetmap.org/search?q=Frederick+County%2C+Virginia%2C+USA&format=jsonv2&addressdetails=1&limit=1\n",
      "Status code 429 from https://nominatim.openstreetmap.org/search: ERROR - 429 Client Error: Too Many Requests for url: https://nominatim.openstreetmap.org/search?q=Giles+County%2C+Virginia%2C+USA&format=jsonv2&addressdetails=1&limit=1\n",
      "Status code Unknown from https://nominatim.openstreetmap.org/search: ERROR - HTTPSConnectionPool(host='nominatim.openstreetmap.org', port=443): Max retries exceeded with url: /search?q=Kent+County%2C+Rhode+Island%2C+USA&format=jsonv2&addressdetails=1&limit=1 (Caused by ConnectTimeoutError(<urllib3.connection.VerifiedHTTPSConnection object at 0x7f70847aa630>, 'Connection to nominatim.openstreetmap.org timed out. (connect timeout=5.0)'))\n",
      "Status code 429 from https://nominatim.openstreetmap.org/search: ERROR - 429 Client Error: Too Many Requests for url: https://nominatim.openstreetmap.org/search?q=Gloucester+County%2C+Virginia%2C+USA&format=jsonv2&addressdetails=1&limit=1\n",
      "Status code Unknown from https://nominatim.openstreetmap.org/search: ERROR - HTTPSConnectionPool(host='nominatim.openstreetmap.org', port=443): Max retries exceeded with url: /search?q=St.+Joseph+County%2C+Indiana%2C+USA&format=jsonv2&addressdetails=1&limit=1 (Caused by ConnectTimeoutError(<urllib3.connection.VerifiedHTTPSConnection object at 0x7f7085c7cdd8>, 'Connection to nominatim.openstreetmap.org timed out. (connect timeout=5.0)'))\n",
      "Status code 429 from https://nominatim.openstreetmap.org/search: ERROR - 429 Client Error: Too Many Requests for url: https://nominatim.openstreetmap.org/search?q=Newport+County%2C+Rhode+Island%2C+USA&format=jsonv2&addressdetails=1&limit=1\n",
      "Status code 429 from https://nominatim.openstreetmap.org/search: ERROR - 429 Client Error: Too Many Requests for url: https://nominatim.openstreetmap.org/search?q=Scott+County%2C+Indiana%2C+USA&format=jsonv2&addressdetails=1&limit=1\n",
      "Status code Unknown from https://nominatim.openstreetmap.org/search: ERROR - HTTPSConnectionPool(host='nominatim.openstreetmap.org', port=443): Max retries exceeded with url: /search?q=Lake+County%2C+Michigan%2C+USA&format=jsonv2&addressdetails=1&limit=1 (Caused by ConnectTimeoutError(<urllib3.connection.VerifiedHTTPSConnection object at 0x7f70847b5d68>, 'Connection to nominatim.openstreetmap.org timed out. (connect timeout=5.0)'))\n",
      "Status code 429 from https://nominatim.openstreetmap.org/search: ERROR - 429 Client Error: Too Many Requests for url: https://nominatim.openstreetmap.org/search?q=Providence+County%2C+Rhode+Island%2C+USA&format=jsonv2&addressdetails=1&limit=1\n",
      "Status code 429 from https://nominatim.openstreetmap.org/search: ERROR - 429 Client Error: Too Many Requests for url: https://nominatim.openstreetmap.org/search?q=Shelby+County%2C+Indiana%2C+USA&format=jsonv2&addressdetails=1&limit=1\n"
     ]
    },
    {
     "name": "stderr",
     "output_type": "stream",
     "text": [
      "Status code 429 from https://nominatim.openstreetmap.org/search: ERROR - 429 Client Error: Too Many Requests for url: https://nominatim.openstreetmap.org/search?q=Washington+County%2C+Rhode+Island%2C+USA&format=jsonv2&addressdetails=1&limit=1\n",
      "Status code 429 from https://nominatim.openstreetmap.org/search: ERROR - 429 Client Error: Too Many Requests for url: https://nominatim.openstreetmap.org/search?q=Spencer+County%2C+Indiana%2C+USA&format=jsonv2&addressdetails=1&limit=1\n",
      "Status code Unknown from https://nominatim.openstreetmap.org/search: ERROR - HTTPSConnectionPool(host='nominatim.openstreetmap.org', port=443): Max retries exceeded with url: /search?q=Cape+May+County%2C+New+Jersey%2C+USA&format=jsonv2&addressdetails=1&limit=1 (Caused by ConnectTimeoutError(<urllib3.connection.VerifiedHTTPSConnection object at 0x7f70847b7908>, 'Connection to nominatim.openstreetmap.org timed out. (connect timeout=5.0)'))\n",
      "Status code 429 from https://nominatim.openstreetmap.org/search: ERROR - 429 Client Error: Too Many Requests for url: https://nominatim.openstreetmap.org/search?q=Starke+County%2C+Indiana%2C+USA&format=jsonv2&addressdetails=1&limit=1\n",
      "Status code 429 from https://nominatim.openstreetmap.org/search: ERROR - 429 Client Error: Too Many Requests for url: https://nominatim.openstreetmap.org/search?q=Abbeville+County%2C+South+Carolina%2C+USA&format=jsonv2&addressdetails=1&limit=1\n",
      "Status code 429 from https://nominatim.openstreetmap.org/search: ERROR - 429 Client Error: Too Many Requests for url: https://nominatim.openstreetmap.org/search?q=Aiken+County%2C+South+Carolina%2C+USA&format=jsonv2&addressdetails=1&limit=1\n",
      "Status code 429 from https://nominatim.openstreetmap.org/search: ERROR - 429 Client Error: Too Many Requests for url: https://nominatim.openstreetmap.org/search?q=Cumberland+County%2C+New+Jersey%2C+USA&format=jsonv2&addressdetails=1&limit=1\n",
      "Status code 429 from https://nominatim.openstreetmap.org/search: ERROR - 429 Client Error: Too Many Requests for url: https://nominatim.openstreetmap.org/search?q=Allendale+County%2C+South+Carolina%2C+USA&format=jsonv2&addressdetails=1&limit=1\n",
      "Status code 429 from https://nominatim.openstreetmap.org/search: ERROR - 429 Client Error: Too Many Requests for url: https://nominatim.openstreetmap.org/search?q=Essex+County%2C+New+Jersey%2C+USA&format=jsonv2&addressdetails=1&limit=1\n",
      "Status code Unknown from https://nominatim.openstreetmap.org/search: ERROR - HTTPSConnectionPool(host='nominatim.openstreetmap.org', port=443): Max retries exceeded with url: /search?q=Tuolumne+County%2C+California%2C+USA&format=jsonv2&addressdetails=1&limit=1 (Caused by ConnectTimeoutError(<urllib3.connection.VerifiedHTTPSConnection object at 0x7f7085ce58d0>, 'Connection to nominatim.openstreetmap.org timed out. (connect timeout=5.0)'))\n",
      "Status code 429 from https://nominatim.openstreetmap.org/search: ERROR - 429 Client Error: Too Many Requests for url: https://nominatim.openstreetmap.org/search?q=Gloucester+County%2C+New+Jersey%2C+USA&format=jsonv2&addressdetails=1&limit=1\n",
      "Status code 429 from https://nominatim.openstreetmap.org/search: ERROR - 429 Client Error: Too Many Requests for url: https://nominatim.openstreetmap.org/search?q=Anderson+County%2C+South+Carolina%2C+USA&format=jsonv2&addressdetails=1&limit=1\n",
      "Status code 429 from https://nominatim.openstreetmap.org/search: ERROR - 429 Client Error: Too Many Requests for url: https://nominatim.openstreetmap.org/search?q=Hudson+County%2C+New+Jersey%2C+USA&format=jsonv2&addressdetails=1&limit=1\n",
      "Status code 429 from https://nominatim.openstreetmap.org/search: ERROR - 429 Client Error: Too Many Requests for url: https://nominatim.openstreetmap.org/search?q=Bamberg+County%2C+South+Carolina%2C+USA&format=jsonv2&addressdetails=1&limit=1\n",
      "Status code 429 from https://nominatim.openstreetmap.org/search: ERROR - 429 Client Error: Too Many Requests for url: https://nominatim.openstreetmap.org/search?q=Barnwell+County%2C+South+Carolina%2C+USA&format=jsonv2&addressdetails=1&limit=1\n",
      "Status code 429 from https://nominatim.openstreetmap.org/search: ERROR - 429 Client Error: Too Many Requests for url: https://nominatim.openstreetmap.org/search?q=Hunterdon+County%2C+New+Jersey%2C+USA&format=jsonv2&addressdetails=1&limit=1\n",
      "Status code Unknown from https://nominatim.openstreetmap.org/search: ERROR - HTTPSConnectionPool(host='nominatim.openstreetmap.org', port=443): Max retries exceeded with url: /search?q=Goochland+County%2C+Virginia%2C+USA&format=jsonv2&addressdetails=1&limit=1 (Caused by ConnectTimeoutError(<urllib3.connection.VerifiedHTTPSConnection object at 0x7f70852bafd0>, 'Connection to nominatim.openstreetmap.org timed out. (connect timeout=5.0)'))\n",
      "Status code 429 from https://nominatim.openstreetmap.org/search: ERROR - 429 Client Error: Too Many Requests for url: https://nominatim.openstreetmap.org/search?q=Mercer+County%2C+New+Jersey%2C+USA&format=jsonv2&addressdetails=1&limit=1\n",
      "Status code 429 from https://nominatim.openstreetmap.org/search: ERROR - 429 Client Error: Too Many Requests for url: https://nominatim.openstreetmap.org/search?q=Beaufort+County%2C+South+Carolina%2C+USA&format=jsonv2&addressdetails=1&limit=1\n",
      "Status code 429 from https://nominatim.openstreetmap.org/search: ERROR - 429 Client Error: Too Many Requests for url: https://nominatim.openstreetmap.org/search?q=Middlesex+County%2C+New+Jersey%2C+USA&format=jsonv2&addressdetails=1&limit=1\n",
      "Status code 429 from https://nominatim.openstreetmap.org/search: ERROR - 429 Client Error: Too Many Requests for url: https://nominatim.openstreetmap.org/search?q=Berkeley+County%2C+South+Carolina%2C+USA&format=jsonv2&addressdetails=1&limit=1\n",
      "Status code 429 from https://nominatim.openstreetmap.org/search: ERROR - 429 Client Error: Too Many Requests for url: https://nominatim.openstreetmap.org/search?q=Calhoun+County%2C+South+Carolina%2C+USA&format=jsonv2&addressdetails=1&limit=1\n",
      "Status code Unknown from https://nominatim.openstreetmap.org/search: ERROR - HTTPSConnectionPool(host='nominatim.openstreetmap.org', port=443): Max retries exceeded with url: /search?q=Lapeer+County%2C+Michigan%2C+USA&format=jsonv2&addressdetails=1&limit=1 (Caused by ConnectTimeoutError(<urllib3.connection.VerifiedHTTPSConnection object at 0x7f7084905898>, 'Connection to nominatim.openstreetmap.org timed out. (connect timeout=5.0)'))\n",
      "Status code 429 from https://nominatim.openstreetmap.org/search: ERROR - 429 Client Error: Too Many Requests for url: https://nominatim.openstreetmap.org/search?q=Monmouth+County%2C+New+Jersey%2C+USA&format=jsonv2&addressdetails=1&limit=1\n",
      "Status code 429 from https://nominatim.openstreetmap.org/search: ERROR - 429 Client Error: Too Many Requests for url: https://nominatim.openstreetmap.org/search?q=Leelanau+County%2C+Michigan%2C+USA&format=jsonv2&addressdetails=1&limit=1\n",
      "Status code 429 from https://nominatim.openstreetmap.org/search: ERROR - 429 Client Error: Too Many Requests for url: https://nominatim.openstreetmap.org/search?q=Lenawee+County%2C+Michigan%2C+USA&format=jsonv2&addressdetails=1&limit=1\n",
      "Status code Unknown from https://nominatim.openstreetmap.org/search: ERROR - HTTPSConnectionPool(host='nominatim.openstreetmap.org', port=443): Max retries exceeded with url: /search?q=Steuben+County%2C+Indiana%2C+USA&format=jsonv2&addressdetails=1&limit=1 (Caused by ConnectTimeoutError(<urllib3.connection.VerifiedHTTPSConnection object at 0x7f708479eb38>, 'Connection to nominatim.openstreetmap.org timed out. (connect timeout=5.0)'))\n",
      "Status code 429 from https://nominatim.openstreetmap.org/search: ERROR - 429 Client Error: Too Many Requests for url: https://nominatim.openstreetmap.org/search?q=Livingston+County%2C+Michigan%2C+USA&format=jsonv2&addressdetails=1&limit=1\n",
      "Status code 429 from https://nominatim.openstreetmap.org/search: ERROR - 429 Client Error: Too Many Requests for url: https://nominatim.openstreetmap.org/search?q=Sullivan+County%2C+Indiana%2C+USA&format=jsonv2&addressdetails=1&limit=1\n",
      "Status code 429 from https://nominatim.openstreetmap.org/search: ERROR - 429 Client Error: Too Many Requests for url: https://nominatim.openstreetmap.org/search?q=Switzerland+County%2C+Indiana%2C+USA&format=jsonv2&addressdetails=1&limit=1\n"
     ]
    },
    {
     "name": "stderr",
     "output_type": "stream",
     "text": [
      "Status code 429 from https://nominatim.openstreetmap.org/search: ERROR - 429 Client Error: Too Many Requests for url: https://nominatim.openstreetmap.org/search?q=Luce+County%2C+Michigan%2C+USA&format=jsonv2&addressdetails=1&limit=1\n",
      "Status code Unknown from https://nominatim.openstreetmap.org/search: ERROR - HTTPSConnectionPool(host='nominatim.openstreetmap.org', port=443): Max retries exceeded with url: /search?q=Ventura+County%2C+California%2C+USA&format=jsonv2&addressdetails=1&limit=1 (Caused by ConnectTimeoutError(<urllib3.connection.VerifiedHTTPSConnection object at 0x7f7084698b38>, 'Connection to nominatim.openstreetmap.org timed out. (connect timeout=5.0)'))\n",
      "Status code 429 from https://nominatim.openstreetmap.org/search: ERROR - 429 Client Error: Too Many Requests for url: https://nominatim.openstreetmap.org/search?q=Tippecanoe+County%2C+Indiana%2C+USA&format=jsonv2&addressdetails=1&limit=1\n",
      "Status code 429 from https://nominatim.openstreetmap.org/search: ERROR - 429 Client Error: Too Many Requests for url: https://nominatim.openstreetmap.org/search?q=Yolo+County%2C+California%2C+USA&format=jsonv2&addressdetails=1&limit=1\n",
      "Status code 429 from https://nominatim.openstreetmap.org/search: ERROR - 429 Client Error: Too Many Requests for url: https://nominatim.openstreetmap.org/search?q=Yuba+County%2C+California%2C+USA&format=jsonv2&addressdetails=1&limit=1\n",
      "Status code 429 from https://nominatim.openstreetmap.org/search: ERROR - 429 Client Error: Too Many Requests for url: https://nominatim.openstreetmap.org/search?q=Tipton+County%2C+Indiana%2C+USA&format=jsonv2&addressdetails=1&limit=1\n",
      "Status code 429 from https://nominatim.openstreetmap.org/search: ERROR - 429 Client Error: Too Many Requests for url: https://nominatim.openstreetmap.org/search?q=Union+County%2C+Indiana%2C+USA&format=jsonv2&addressdetails=1&limit=1\n",
      "Status code Unknown from https://nominatim.openstreetmap.org/search: ERROR - HTTPSConnectionPool(host='nominatim.openstreetmap.org', port=443): Max retries exceeded with url: /search?q=Grayson+County%2C+Virginia%2C+USA&format=jsonv2&addressdetails=1&limit=1 (Caused by ConnectTimeoutError(<urllib3.connection.VerifiedHTTPSConnection object at 0x7f7084905a58>, 'Connection to nominatim.openstreetmap.org timed out. (connect timeout=5.0)'))\n",
      "Status code 429 from https://nominatim.openstreetmap.org/search: ERROR - 429 Client Error: Too Many Requests for url: https://nominatim.openstreetmap.org/search?q=Adams+County%2C+Colorado%2C+USA&format=jsonv2&addressdetails=1&limit=1\n",
      "Status code 429 from https://nominatim.openstreetmap.org/search: ERROR - 429 Client Error: Too Many Requests for url: https://nominatim.openstreetmap.org/search?q=Greene+County%2C+Virginia%2C+USA&format=jsonv2&addressdetails=1&limit=1\n",
      "Status code 429 from https://nominatim.openstreetmap.org/search: ERROR - 429 Client Error: Too Many Requests for url: https://nominatim.openstreetmap.org/search?q=Alamosa+County%2C+Colorado%2C+USA&format=jsonv2&addressdetails=1&limit=1\n",
      "Status code 429 from https://nominatim.openstreetmap.org/search: ERROR - 429 Client Error: Too Many Requests for url: https://nominatim.openstreetmap.org/search?q=Greensville+County%2C+Virginia%2C+USA&format=jsonv2&addressdetails=1&limit=1\n",
      "Status code Unknown from https://nominatim.openstreetmap.org/search: ERROR - HTTPSConnectionPool(host='nominatim.openstreetmap.org', port=443): Max retries exceeded with url: /search?q=Charleston+County%2C+South+Carolina%2C+USA&format=jsonv2&addressdetails=1&limit=1 (Caused by ConnectTimeoutError(<urllib3.connection.VerifiedHTTPSConnection object at 0x7f708486e4e0>, 'Connection to nominatim.openstreetmap.org timed out. (connect timeout=5.0)'))\n",
      "Status code 429 from https://nominatim.openstreetmap.org/search: ERROR - 429 Client Error: Too Many Requests for url: https://nominatim.openstreetmap.org/search?q=Halifax+County%2C+Virginia%2C+USA&format=jsonv2&addressdetails=1&limit=1\n",
      "Status code 429 from https://nominatim.openstreetmap.org/search: ERROR - 429 Client Error: Too Many Requests for url: https://nominatim.openstreetmap.org/search?q=Arapahoe+County%2C+Colorado%2C+USA&format=jsonv2&addressdetails=1&limit=1\n",
      "Status code Unknown from https://nominatim.openstreetmap.org/search: ERROR - HTTPSConnectionPool(host='nominatim.openstreetmap.org', port=443): Max retries exceeded with url: /search?q=Morris+County%2C+New+Jersey%2C+USA&format=jsonv2&addressdetails=1&limit=1 (Caused by ConnectTimeoutError(<urllib3.connection.VerifiedHTTPSConnection object at 0x7f7084905ac8>, 'Connection to nominatim.openstreetmap.org timed out. (connect timeout=5.0)'))\n",
      "Status code 429 from https://nominatim.openstreetmap.org/search: ERROR - 429 Client Error: Too Many Requests for url: https://nominatim.openstreetmap.org/search?q=Cherokee+County%2C+South+Carolina%2C+USA&format=jsonv2&addressdetails=1&limit=1\n",
      "Status code 429 from https://nominatim.openstreetmap.org/search: ERROR - 429 Client Error: Too Many Requests for url: https://nominatim.openstreetmap.org/search?q=Chester+County%2C+South+Carolina%2C+USA&format=jsonv2&addressdetails=1&limit=1\n",
      "Status code 429 from https://nominatim.openstreetmap.org/search: ERROR - 429 Client Error: Too Many Requests for url: https://nominatim.openstreetmap.org/search?q=Hanover+County%2C+Virginia%2C+USA&format=jsonv2&addressdetails=1&limit=1\n",
      "Status code 429 from https://nominatim.openstreetmap.org/search: ERROR - 429 Client Error: Too Many Requests for url: https://nominatim.openstreetmap.org/search?q=Henrico+County%2C+Virginia%2C+USA&format=jsonv2&addressdetails=1&limit=1\n",
      "Status code 429 from https://nominatim.openstreetmap.org/search: ERROR - 429 Client Error: Too Many Requests for url: https://nominatim.openstreetmap.org/search?q=Chesterfield+County%2C+South+Carolina%2C+USA&format=jsonv2&addressdetails=1&limit=1\n",
      "Status code 429 from https://nominatim.openstreetmap.org/search: ERROR - 429 Client Error: Too Many Requests for url: https://nominatim.openstreetmap.org/search?q=Clarendon+County%2C+South+Carolina%2C+USA&format=jsonv2&addressdetails=1&limit=1\n",
      "Status code 429 from https://nominatim.openstreetmap.org/search: ERROR - 429 Client Error: Too Many Requests for url: https://nominatim.openstreetmap.org/search?q=Colleton+County%2C+South+Carolina%2C+USA&format=jsonv2&addressdetails=1&limit=1\n",
      "Status code 429 from https://nominatim.openstreetmap.org/search: ERROR - 429 Client Error: Too Many Requests for url: https://nominatim.openstreetmap.org/search?q=Darlington+County%2C+South+Carolina%2C+USA&format=jsonv2&addressdetails=1&limit=1\n",
      "Status code 429 from https://nominatim.openstreetmap.org/search: ERROR - 429 Client Error: Too Many Requests for url: https://nominatim.openstreetmap.org/search?q=Dillon+County%2C+South+Carolina%2C+USA&format=jsonv2&addressdetails=1&limit=1\n",
      "Status code 429 from https://nominatim.openstreetmap.org/search: ERROR - 429 Client Error: Too Many Requests for url: https://nominatim.openstreetmap.org/search?q=Dorchester+County%2C+South+Carolina%2C+USA&format=jsonv2&addressdetails=1&limit=1\n",
      "Status code 429 from https://nominatim.openstreetmap.org/search: ERROR - 429 Client Error: Too Many Requests for url: https://nominatim.openstreetmap.org/search?q=Edgefield+County%2C+South+Carolina%2C+USA&format=jsonv2&addressdetails=1&limit=1\n",
      "Status code Unknown from https://nominatim.openstreetmap.org/search: ERROR - HTTPSConnectionPool(host='nominatim.openstreetmap.org', port=443): Max retries exceeded with url: /search?q=Vanderburgh+County%2C+Indiana%2C+USA&format=jsonv2&addressdetails=1&limit=1 (Caused by ConnectTimeoutError(<urllib3.connection.VerifiedHTTPSConnection object at 0x7f708479ef60>, 'Connection to nominatim.openstreetmap.org timed out. (connect timeout=5.0)'))\n",
      "Status code Unknown from https://nominatim.openstreetmap.org/search: ERROR - HTTPSConnectionPool(host='nominatim.openstreetmap.org', port=443): Max retries exceeded with url: /search?q=Macomb+County%2C+Michigan%2C+USA&format=jsonv2&addressdetails=1&limit=1 (Caused by ConnectTimeoutError(<urllib3.connection.VerifiedHTTPSConnection object at 0x7f708479d400>, 'Connection to nominatim.openstreetmap.org timed out. (connect timeout=5.0)'))\n",
      "Status code 429 from https://nominatim.openstreetmap.org/search: ERROR - 429 Client Error: Too Many Requests for url: https://nominatim.openstreetmap.org/search?q=Fairfield+County%2C+South+Carolina%2C+USA&format=jsonv2&addressdetails=1&limit=1\n"
     ]
    },
    {
     "name": "stderr",
     "output_type": "stream",
     "text": [
      "Status code 429 from https://nominatim.openstreetmap.org/search: ERROR - 429 Client Error: Too Many Requests for url: https://nominatim.openstreetmap.org/search?q=Manistee+County%2C+Michigan%2C+USA&format=jsonv2&addressdetails=1&limit=1\n",
      "Status code 429 from https://nominatim.openstreetmap.org/search: ERROR - 429 Client Error: Too Many Requests for url: https://nominatim.openstreetmap.org/search?q=Marquette+County%2C+Michigan%2C+USA&format=jsonv2&addressdetails=1&limit=1\n",
      "Status code 429 from https://nominatim.openstreetmap.org/search: ERROR - 429 Client Error: Too Many Requests for url: https://nominatim.openstreetmap.org/search?q=Florence+County%2C+South+Carolina%2C+USA&format=jsonv2&addressdetails=1&limit=1\n",
      "Status code 429 from https://nominatim.openstreetmap.org/search: ERROR - 429 Client Error: Too Many Requests for url: https://nominatim.openstreetmap.org/search?q=Georgetown+County%2C+South+Carolina%2C+USA&format=jsonv2&addressdetails=1&limit=1\n",
      "Status code Unknown from https://nominatim.openstreetmap.org/search: ERROR - HTTPSConnectionPool(host='nominatim.openstreetmap.org', port=443): Max retries exceeded with url: /search?q=Archuleta+County%2C+Colorado%2C+USA&format=jsonv2&addressdetails=1&limit=1 (Caused by ConnectTimeoutError(<urllib3.connection.VerifiedHTTPSConnection object at 0x7f7085ce5f28>, 'Connection to nominatim.openstreetmap.org timed out. (connect timeout=5.0)'))\n",
      "Status code Unknown from https://nominatim.openstreetmap.org/search: ERROR - HTTPSConnectionPool(host='nominatim.openstreetmap.org', port=443): Max retries exceeded with url: /search?q=Ocean+County%2C+New+Jersey%2C+USA&format=jsonv2&addressdetails=1&limit=1 (Caused by ConnectTimeoutError(<urllib3.connection.VerifiedHTTPSConnection object at 0x7f70847a7668>, 'Connection to nominatim.openstreetmap.org timed out. (connect timeout=5.0)'))\n",
      "Status code 429 from https://nominatim.openstreetmap.org/search: ERROR - 429 Client Error: Too Many Requests for url: https://nominatim.openstreetmap.org/search?q=Greenville+County%2C+South+Carolina%2C+USA&format=jsonv2&addressdetails=1&limit=1\n",
      "Status code 429 from https://nominatim.openstreetmap.org/search: ERROR - 429 Client Error: Too Many Requests for url: https://nominatim.openstreetmap.org/search?q=Baca+County%2C+Colorado%2C+USA&format=jsonv2&addressdetails=1&limit=1\n",
      "Status code 429 from https://nominatim.openstreetmap.org/search: ERROR - 429 Client Error: Too Many Requests for url: https://nominatim.openstreetmap.org/search?q=Bent+County%2C+Colorado%2C+USA&format=jsonv2&addressdetails=1&limit=1\n",
      "Status code 429 from https://nominatim.openstreetmap.org/search: ERROR - 429 Client Error: Too Many Requests for url: https://nominatim.openstreetmap.org/search?q=Passaic+County%2C+New+Jersey%2C+USA&format=jsonv2&addressdetails=1&limit=1\n",
      "Status code Unknown from https://nominatim.openstreetmap.org/search: ERROR - HTTPSConnectionPool(host='nominatim.openstreetmap.org', port=443): Max retries exceeded with url: /search?q=Henry+County%2C+Virginia%2C+USA&format=jsonv2&addressdetails=1&limit=1 (Caused by ConnectTimeoutError(<urllib3.connection.VerifiedHTTPSConnection object at 0x7f70849679e8>, 'Connection to nominatim.openstreetmap.org timed out. (connect timeout=5.0)'))\n",
      "Status code 429 from https://nominatim.openstreetmap.org/search: ERROR - 429 Client Error: Too Many Requests for url: https://nominatim.openstreetmap.org/search?q=Salem+County%2C+New+Jersey%2C+USA&format=jsonv2&addressdetails=1&limit=1\n",
      "Status code 429 from https://nominatim.openstreetmap.org/search: ERROR - 429 Client Error: Too Many Requests for url: https://nominatim.openstreetmap.org/search?q=Highland+County%2C+Virginia%2C+USA&format=jsonv2&addressdetails=1&limit=1\n",
      "Status code 429 from https://nominatim.openstreetmap.org/search: ERROR - 429 Client Error: Too Many Requests for url: https://nominatim.openstreetmap.org/search?q=Isle+of+Wight+County%2C+Virginia%2C+USA&format=jsonv2&addressdetails=1&limit=1\n",
      "Status code 429 from https://nominatim.openstreetmap.org/search: ERROR - 429 Client Error: Too Many Requests for url: https://nominatim.openstreetmap.org/search?q=Greenwood+County%2C+South+Carolina%2C+USA&format=jsonv2&addressdetails=1&limit=1\n",
      "Status code 429 from https://nominatim.openstreetmap.org/search: ERROR - 429 Client Error: Too Many Requests for url: https://nominatim.openstreetmap.org/search?q=Hampton+County%2C+South+Carolina%2C+USA&format=jsonv2&addressdetails=1&limit=1\n",
      "Status code 429 from https://nominatim.openstreetmap.org/search: ERROR - 429 Client Error: Too Many Requests for url: https://nominatim.openstreetmap.org/search?q=Horry+County%2C+South+Carolina%2C+USA&format=jsonv2&addressdetails=1&limit=1\n",
      "Status code Unknown from https://nominatim.openstreetmap.org/search: ERROR - HTTPSConnectionPool(host='nominatim.openstreetmap.org', port=443): Max retries exceeded with url: /search?q=Vermillion+County%2C+Indiana%2C+USA&format=jsonv2&addressdetails=1&limit=1 (Caused by ConnectTimeoutError(<urllib3.connection.VerifiedHTTPSConnection object at 0x7f708486ebe0>, 'Connection to nominatim.openstreetmap.org timed out. (connect timeout=5.0)'))\n",
      "Status code 429 from https://nominatim.openstreetmap.org/search: ERROR - 429 Client Error: Too Many Requests for url: https://nominatim.openstreetmap.org/search?q=James+City+County%2C+Virginia%2C+USA&format=jsonv2&addressdetails=1&limit=1\n",
      "Status code 429 from https://nominatim.openstreetmap.org/search: ERROR - 429 Client Error: Too Many Requests for url: https://nominatim.openstreetmap.org/search?q=Jasper+County%2C+South+Carolina%2C+USA&format=jsonv2&addressdetails=1&limit=1\n",
      "Status code 429 from https://nominatim.openstreetmap.org/search: ERROR - 429 Client Error: Too Many Requests for url: https://nominatim.openstreetmap.org/search?q=Vigo+County%2C+Indiana%2C+USA&format=jsonv2&addressdetails=1&limit=1\n",
      "Status code 429 from https://nominatim.openstreetmap.org/search: ERROR - 429 Client Error: Too Many Requests for url: https://nominatim.openstreetmap.org/search?q=King+and+Queen+County%2C+Virginia%2C+USA&format=jsonv2&addressdetails=1&limit=1\n",
      "Status code 429 from https://nominatim.openstreetmap.org/search: ERROR - 429 Client Error: Too Many Requests for url: https://nominatim.openstreetmap.org/search?q=Wabash+County%2C+Indiana%2C+USA&format=jsonv2&addressdetails=1&limit=1\n",
      "Status code Unknown from https://nominatim.openstreetmap.org/search: ERROR - HTTPSConnectionPool(host='nominatim.openstreetmap.org', port=443): Max retries exceeded with url: /search?q=Mason+County%2C+Michigan%2C+USA&format=jsonv2&addressdetails=1&limit=1 (Caused by ConnectTimeoutError(<urllib3.connection.VerifiedHTTPSConnection object at 0x7f70847a62e8>, 'Connection to nominatim.openstreetmap.org timed out. (connect timeout=5.0)'))\n",
      "Status code 429 from https://nominatim.openstreetmap.org/search: ERROR - 429 Client Error: Too Many Requests for url: https://nominatim.openstreetmap.org/search?q=Kershaw+County%2C+South+Carolina%2C+USA&format=jsonv2&addressdetails=1&limit=1\n",
      "Status code 429 from https://nominatim.openstreetmap.org/search: ERROR - 429 Client Error: Too Many Requests for url: https://nominatim.openstreetmap.org/search?q=King+George+County%2C+Virginia%2C+USA&format=jsonv2&addressdetails=1&limit=1\n",
      "Status code 429 from https://nominatim.openstreetmap.org/search: ERROR - 429 Client Error: Too Many Requests for url: https://nominatim.openstreetmap.org/search?q=Warren+County%2C+Indiana%2C+USA&format=jsonv2&addressdetails=1&limit=1\n",
      "Status code 429 from https://nominatim.openstreetmap.org/search: ERROR - 429 Client Error: Too Many Requests for url: https://nominatim.openstreetmap.org/search?q=King+William+County%2C+Virginia%2C+USA&format=jsonv2&addressdetails=1&limit=1\n",
      "Status code 429 from https://nominatim.openstreetmap.org/search: ERROR - 429 Client Error: Too Many Requests for url: https://nominatim.openstreetmap.org/search?q=Warrick+County%2C+Indiana%2C+USA&format=jsonv2&addressdetails=1&limit=1\n",
      "Status code Unknown from https://nominatim.openstreetmap.org/search: ERROR - HTTPSConnectionPool(host='nominatim.openstreetmap.org', port=443): Max retries exceeded with url: /search?q=Boulder+County%2C+Colorado%2C+USA&format=jsonv2&addressdetails=1&limit=1 (Caused by ConnectTimeoutError(<urllib3.connection.VerifiedHTTPSConnection object at 0x7f708adc6da0>, 'Connection to nominatim.openstreetmap.org timed out. (connect timeout=5.0)'))\n"
     ]
    },
    {
     "name": "stderr",
     "output_type": "stream",
     "text": [
      "Status code 429 from https://nominatim.openstreetmap.org/search: ERROR - 429 Client Error: Too Many Requests for url: https://nominatim.openstreetmap.org/search?q=Washington+County%2C+Indiana%2C+USA&format=jsonv2&addressdetails=1&limit=1\n",
      "Status code 429 from https://nominatim.openstreetmap.org/search: ERROR - 429 Client Error: Too Many Requests for url: https://nominatim.openstreetmap.org/search?q=Lancaster+County%2C+Virginia%2C+USA&format=jsonv2&addressdetails=1&limit=1\n",
      "Status code 429 from https://nominatim.openstreetmap.org/search: ERROR - 429 Client Error: Too Many Requests for url: https://nominatim.openstreetmap.org/search?q=Wayne+County%2C+Indiana%2C+USA&format=jsonv2&addressdetails=1&limit=1\n",
      "Status code Unknown from https://nominatim.openstreetmap.org/search: ERROR - HTTPSConnectionPool(host='nominatim.openstreetmap.org', port=443): Max retries exceeded with url: /search?q=Somerset+County%2C+New+Jersey%2C+USA&format=jsonv2&addressdetails=1&limit=1 (Caused by ConnectTimeoutError(<urllib3.connection.VerifiedHTTPSConnection object at 0x7f708486e908>, 'Connection to nominatim.openstreetmap.org timed out. (connect timeout=5.0)'))\n",
      "Status code 429 from https://nominatim.openstreetmap.org/search: ERROR - 429 Client Error: Too Many Requests for url: https://nominatim.openstreetmap.org/search?q=Wells+County%2C+Indiana%2C+USA&format=jsonv2&addressdetails=1&limit=1\n",
      "Status code 429 from https://nominatim.openstreetmap.org/search: ERROR - 429 Client Error: Too Many Requests for url: https://nominatim.openstreetmap.org/search?q=Sussex+County%2C+New+Jersey%2C+USA&format=jsonv2&addressdetails=1&limit=1\n",
      "Status code 429 from https://nominatim.openstreetmap.org/search: ERROR - 429 Client Error: Too Many Requests for url: https://nominatim.openstreetmap.org/search?q=Union+County%2C+New+Jersey%2C+USA&format=jsonv2&addressdetails=1&limit=1\n",
      "Status code 429 from https://nominatim.openstreetmap.org/search: ERROR - 429 Client Error: Too Many Requests for url: https://nominatim.openstreetmap.org/search?q=White+County%2C+Indiana%2C+USA&format=jsonv2&addressdetails=1&limit=1\n",
      "Status code 429 from https://nominatim.openstreetmap.org/search: ERROR - 429 Client Error: Too Many Requests for url: https://nominatim.openstreetmap.org/search?q=Broomfield+County%2C+Colorado%2C+USA&format=jsonv2&addressdetails=1&limit=1\n",
      "Status code 429 from https://nominatim.openstreetmap.org/search: ERROR - 429 Client Error: Too Many Requests for url: https://nominatim.openstreetmap.org/search?q=Whitley+County%2C+Indiana%2C+USA&format=jsonv2&addressdetails=1&limit=1\n",
      "Status code 429 from https://nominatim.openstreetmap.org/search: ERROR - 429 Client Error: Too Many Requests for url: https://nominatim.openstreetmap.org/search?q=Chaffee+County%2C+Colorado%2C+USA&format=jsonv2&addressdetails=1&limit=1\n",
      "Status code 429 from https://nominatim.openstreetmap.org/search: ERROR - 429 Client Error: Too Many Requests for url: https://nominatim.openstreetmap.org/search?q=Adair+County%2C+Iowa%2C+USA&format=jsonv2&addressdetails=1&limit=1\n",
      "Status code 429 from https://nominatim.openstreetmap.org/search: ERROR - 429 Client Error: Too Many Requests for url: https://nominatim.openstreetmap.org/search?q=Cheyenne+County%2C+Colorado%2C+USA&format=jsonv2&addressdetails=1&limit=1\n",
      "Status code 429 from https://nominatim.openstreetmap.org/search: ERROR - 429 Client Error: Too Many Requests for url: https://nominatim.openstreetmap.org/search?q=Clear+Creek+County%2C+Colorado%2C+USA&format=jsonv2&addressdetails=1&limit=1\n",
      "Status code Unknown from https://nominatim.openstreetmap.org/search: ERROR - HTTPSConnectionPool(host='nominatim.openstreetmap.org', port=443): Max retries exceeded with url: /search?q=Mecosta+County%2C+Michigan%2C+USA&format=jsonv2&addressdetails=1&limit=1 (Caused by ConnectTimeoutError(<urllib3.connection.VerifiedHTTPSConnection object at 0x7f7084964f60>, 'Connection to nominatim.openstreetmap.org timed out. (connect timeout=5.0)'))\n",
      "Status code Unknown from https://nominatim.openstreetmap.org/search: ERROR - HTTPSConnectionPool(host='nominatim.openstreetmap.org', port=443): Max retries exceeded with url: /search?q=Lancaster+County%2C+South+Carolina%2C+USA&format=jsonv2&addressdetails=1&limit=1 (Caused by ConnectTimeoutError(<urllib3.connection.VerifiedHTTPSConnection object at 0x7f7084967780>, 'Connection to nominatim.openstreetmap.org timed out. (connect timeout=5.0)'))\n",
      "Status code 429 from https://nominatim.openstreetmap.org/search: ERROR - 429 Client Error: Too Many Requests for url: https://nominatim.openstreetmap.org/search?q=Conejos+County%2C+Colorado%2C+USA&format=jsonv2&addressdetails=1&limit=1\n",
      "Status code 429 from https://nominatim.openstreetmap.org/search: ERROR - 429 Client Error: Too Many Requests for url: https://nominatim.openstreetmap.org/search?q=Menominee+County%2C+Michigan%2C+USA&format=jsonv2&addressdetails=1&limit=1\n",
      "Status code 429 from https://nominatim.openstreetmap.org/search: ERROR - 429 Client Error: Too Many Requests for url: https://nominatim.openstreetmap.org/search?q=Midland+County%2C+Michigan%2C+USA&format=jsonv2&addressdetails=1&limit=1\n",
      "Status code 429 from https://nominatim.openstreetmap.org/search: ERROR - 429 Client Error: Too Many Requests for url: https://nominatim.openstreetmap.org/search?q=Missaukee+County%2C+Michigan%2C+USA&format=jsonv2&addressdetails=1&limit=1\n",
      "Status code 429 from https://nominatim.openstreetmap.org/search: ERROR - 429 Client Error: Too Many Requests for url: https://nominatim.openstreetmap.org/search?q=Monroe+County%2C+Michigan%2C+USA&format=jsonv2&addressdetails=1&limit=1\n",
      "Status code Unknown from https://nominatim.openstreetmap.org/search: ERROR - HTTPSConnectionPool(host='nominatim.openstreetmap.org', port=443): Max retries exceeded with url: /search?q=Lee+County%2C+Virginia%2C+USA&format=jsonv2&addressdetails=1&limit=1 (Caused by ConnectTimeoutError(<urllib3.connection.VerifiedHTTPSConnection object at 0x7f7084698eb8>, 'Connection to nominatim.openstreetmap.org timed out. (connect timeout=5.0)'))\n",
      "Status code 429 from https://nominatim.openstreetmap.org/search: ERROR - 429 Client Error: Too Many Requests for url: https://nominatim.openstreetmap.org/search?q=Montcalm+County%2C+Michigan%2C+USA&format=jsonv2&addressdetails=1&limit=1\n",
      "Status code 429 from https://nominatim.openstreetmap.org/search: ERROR - 429 Client Error: Too Many Requests for url: https://nominatim.openstreetmap.org/search?q=Laurens+County%2C+South+Carolina%2C+USA&format=jsonv2&addressdetails=1&limit=1\n",
      "Status code 429 from https://nominatim.openstreetmap.org/search: ERROR - 429 Client Error: Too Many Requests for url: https://nominatim.openstreetmap.org/search?q=Lee+County%2C+South+Carolina%2C+USA&format=jsonv2&addressdetails=1&limit=1\n",
      "Status code 429 from https://nominatim.openstreetmap.org/search: ERROR - 429 Client Error: Too Many Requests for url: https://nominatim.openstreetmap.org/search?q=Loudoun+County%2C+Virginia%2C+USA&format=jsonv2&addressdetails=1&limit=1\n",
      "Status code 429 from https://nominatim.openstreetmap.org/search: ERROR - 429 Client Error: Too Many Requests for url: https://nominatim.openstreetmap.org/search?q=Lexington+County%2C+South+Carolina%2C+USA&format=jsonv2&addressdetails=1&limit=1\n",
      "Status code Unknown from https://nominatim.openstreetmap.org/search: ERROR - HTTPSConnectionPool(host='nominatim.openstreetmap.org', port=443): Max retries exceeded with url: /search?q=Warren+County%2C+New+Jersey%2C+USA&format=jsonv2&addressdetails=1&limit=1 (Caused by ConnectTimeoutError(<urllib3.connection.VerifiedHTTPSConnection object at 0x7f70847b7128>, 'Connection to nominatim.openstreetmap.org timed out. (connect timeout=5.0)'))\n",
      "Status code 429 from https://nominatim.openstreetmap.org/search: ERROR - 429 Client Error: Too Many Requests for url: https://nominatim.openstreetmap.org/search?q=Louisa+County%2C+Virginia%2C+USA&format=jsonv2&addressdetails=1&limit=1\n",
      "Status code 429 from https://nominatim.openstreetmap.org/search: ERROR - 429 Client Error: Too Many Requests for url: https://nominatim.openstreetmap.org/search?q=Lunenburg+County%2C+Virginia%2C+USA&format=jsonv2&addressdetails=1&limit=1\n",
      "Status code 429 from https://nominatim.openstreetmap.org/search: ERROR - 429 Client Error: Too Many Requests for url: https://nominatim.openstreetmap.org/search?q=McCormick+County%2C+South+Carolina%2C+USA&format=jsonv2&addressdetails=1&limit=1\n"
     ]
    },
    {
     "name": "stderr",
     "output_type": "stream",
     "text": [
      "Status code 429 from https://nominatim.openstreetmap.org/search: ERROR - 429 Client Error: Too Many Requests for url: https://nominatim.openstreetmap.org/search?q=Madison+County%2C+Virginia%2C+USA&format=jsonv2&addressdetails=1&limit=1\n",
      "Status code 429 from https://nominatim.openstreetmap.org/search: ERROR - 429 Client Error: Too Many Requests for url: https://nominatim.openstreetmap.org/search?q=Marion+County%2C+South+Carolina%2C+USA&format=jsonv2&addressdetails=1&limit=1\n",
      "Status code 429 from https://nominatim.openstreetmap.org/search: ERROR - 429 Client Error: Too Many Requests for url: https://nominatim.openstreetmap.org/search?q=Marlboro+County%2C+South+Carolina%2C+USA&format=jsonv2&addressdetails=1&limit=1\n",
      "Status code Unknown from https://nominatim.openstreetmap.org/search: ERROR - HTTPSConnectionPool(host='nominatim.openstreetmap.org', port=443): Max retries exceeded with url: /search?q=Adams+County%2C+Iowa%2C+USA&format=jsonv2&addressdetails=1&limit=1 (Caused by ConnectTimeoutError(<urllib3.connection.VerifiedHTTPSConnection object at 0x7f7085283cf8>, 'Connection to nominatim.openstreetmap.org timed out. (connect timeout=5.0)'))\n",
      "Status code 429 from https://nominatim.openstreetmap.org/search: ERROR - 429 Client Error: Too Many Requests for url: https://nominatim.openstreetmap.org/search?q=Mathews+County%2C+Virginia%2C+USA&format=jsonv2&addressdetails=1&limit=1\n",
      "Status code 429 from https://nominatim.openstreetmap.org/search: ERROR - 429 Client Error: Too Many Requests for url: https://nominatim.openstreetmap.org/search?q=Mecklenburg+County%2C+Virginia%2C+USA&format=jsonv2&addressdetails=1&limit=1\n",
      "Status code 429 from https://nominatim.openstreetmap.org/search: ERROR - 429 Client Error: Too Many Requests for url: https://nominatim.openstreetmap.org/search?q=Newberry+County%2C+South+Carolina%2C+USA&format=jsonv2&addressdetails=1&limit=1\n",
      "Status code 429 from https://nominatim.openstreetmap.org/search: ERROR - 429 Client Error: Too Many Requests for url: https://nominatim.openstreetmap.org/search?q=Middlesex+County%2C+Virginia%2C+USA&format=jsonv2&addressdetails=1&limit=1\n",
      "Status code Unknown from https://nominatim.openstreetmap.org/search: ERROR - HTTPSConnectionPool(host='nominatim.openstreetmap.org', port=443): Max retries exceeded with url: /search?q=Costilla+County%2C+Colorado%2C+USA&format=jsonv2&addressdetails=1&limit=1 (Caused by ConnectTimeoutError(<urllib3.connection.VerifiedHTTPSConnection object at 0x7f708486e470>, 'Connection to nominatim.openstreetmap.org timed out. (connect timeout=5.0)'))\n",
      "Status code 429 from https://nominatim.openstreetmap.org/search: ERROR - 429 Client Error: Too Many Requests for url: https://nominatim.openstreetmap.org/search?q=Oconee+County%2C+South+Carolina%2C+USA&format=jsonv2&addressdetails=1&limit=1\n",
      "Status code 429 from https://nominatim.openstreetmap.org/search: ERROR - 429 Client Error: Too Many Requests for url: https://nominatim.openstreetmap.org/search?q=Crowley+County%2C+Colorado%2C+USA&format=jsonv2&addressdetails=1&limit=1\n",
      "Status code 429 from https://nominatim.openstreetmap.org/search: ERROR - 429 Client Error: Too Many Requests for url: https://nominatim.openstreetmap.org/search?q=Montgomery+County%2C+Virginia%2C+USA&format=jsonv2&addressdetails=1&limit=1\n",
      "Status code 429 from https://nominatim.openstreetmap.org/search: ERROR - 429 Client Error: Too Many Requests for url: https://nominatim.openstreetmap.org/search?q=Orangeburg+County%2C+South+Carolina%2C+USA&format=jsonv2&addressdetails=1&limit=1\n",
      "Status code 429 from https://nominatim.openstreetmap.org/search: ERROR - 429 Client Error: Too Many Requests for url: https://nominatim.openstreetmap.org/search?q=Custer+County%2C+Colorado%2C+USA&format=jsonv2&addressdetails=1&limit=1\n",
      "Status code 429 from https://nominatim.openstreetmap.org/search: ERROR - 429 Client Error: Too Many Requests for url: https://nominatim.openstreetmap.org/search?q=Pickens+County%2C+South+Carolina%2C+USA&format=jsonv2&addressdetails=1&limit=1\n",
      "Status code Unknown from https://nominatim.openstreetmap.org/search: ERROR - HTTPSConnectionPool(host='nominatim.openstreetmap.org', port=443): Max retries exceeded with url: /search?q=Montmorency+County%2C+Michigan%2C+USA&format=jsonv2&addressdetails=1&limit=1 (Caused by ConnectTimeoutError(<urllib3.connection.VerifiedHTTPSConnection object at 0x7f70847a6400>, 'Connection to nominatim.openstreetmap.org timed out. (connect timeout=5.0)'))\n",
      "Status code 429 from https://nominatim.openstreetmap.org/search: ERROR - 429 Client Error: Too Many Requests for url: https://nominatim.openstreetmap.org/search?q=Richland+County%2C+South+Carolina%2C+USA&format=jsonv2&addressdetails=1&limit=1\n",
      "Status code 429 from https://nominatim.openstreetmap.org/search: ERROR - 429 Client Error: Too Many Requests for url: https://nominatim.openstreetmap.org/search?q=Muskegon+County%2C+Michigan%2C+USA&format=jsonv2&addressdetails=1&limit=1\n",
      "Status code 429 from https://nominatim.openstreetmap.org/search: ERROR - 429 Client Error: Too Many Requests for url: https://nominatim.openstreetmap.org/search?q=Newaygo+County%2C+Michigan%2C+USA&format=jsonv2&addressdetails=1&limit=1\n",
      "Status code Unknown from https://nominatim.openstreetmap.org/search: ERROR - HTTPSConnectionPool(host='nominatim.openstreetmap.org', port=443): Max retries exceeded with url: /search?q=Bernalillo+County%2C+New+Mexico%2C+USA&format=jsonv2&addressdetails=1&limit=1 (Caused by ConnectTimeoutError(<urllib3.connection.VerifiedHTTPSConnection object at 0x7f708479e6a0>, 'Connection to nominatim.openstreetmap.org timed out. (connect timeout=5.0)'))\n",
      "Status code 429 from https://nominatim.openstreetmap.org/search: ERROR - 429 Client Error: Too Many Requests for url: https://nominatim.openstreetmap.org/search?q=Oakland+County%2C+Michigan%2C+USA&format=jsonv2&addressdetails=1&limit=1\n",
      "Status code 429 from https://nominatim.openstreetmap.org/search: ERROR - 429 Client Error: Too Many Requests for url: https://nominatim.openstreetmap.org/search?q=Catron+County%2C+New+Mexico%2C+USA&format=jsonv2&addressdetails=1&limit=1\n",
      "Status code 429 from https://nominatim.openstreetmap.org/search: ERROR - 429 Client Error: Too Many Requests for url: https://nominatim.openstreetmap.org/search?q=Chaves+County%2C+New+Mexico%2C+USA&format=jsonv2&addressdetails=1&limit=1\n",
      "Status code 429 from https://nominatim.openstreetmap.org/search: ERROR - 429 Client Error: Too Many Requests for url: https://nominatim.openstreetmap.org/search?q=Oceana+County%2C+Michigan%2C+USA&format=jsonv2&addressdetails=1&limit=1\n",
      "Status code 429 from https://nominatim.openstreetmap.org/search: ERROR - 429 Client Error: Too Many Requests for url: https://nominatim.openstreetmap.org/search?q=Ogemaw+County%2C+Michigan%2C+USA&format=jsonv2&addressdetails=1&limit=1\n",
      "Status code Unknown from https://nominatim.openstreetmap.org/search: ERROR - HTTPSConnectionPool(host='nominatim.openstreetmap.org', port=443): Max retries exceeded with url: /search?q=Allamakee+County%2C+Iowa%2C+USA&format=jsonv2&addressdetails=1&limit=1 (Caused by ConnectTimeoutError(<urllib3.connection.VerifiedHTTPSConnection object at 0x7f708486e550>, 'Connection to nominatim.openstreetmap.org timed out. (connect timeout=5.0)'))\n",
      "Status code 429 from https://nominatim.openstreetmap.org/search: ERROR - 429 Client Error: Too Many Requests for url: https://nominatim.openstreetmap.org/search?q=Ontonagon+County%2C+Michigan%2C+USA&format=jsonv2&addressdetails=1&limit=1\n",
      "Status code 429 from https://nominatim.openstreetmap.org/search: ERROR - 429 Client Error: Too Many Requests for url: https://nominatim.openstreetmap.org/search?q=Appanoose+County%2C+Iowa%2C+USA&format=jsonv2&addressdetails=1&limit=1\n",
      "Status code 429 from https://nominatim.openstreetmap.org/search: ERROR - 429 Client Error: Too Many Requests for url: https://nominatim.openstreetmap.org/search?q=Audubon+County%2C+Iowa%2C+USA&format=jsonv2&addressdetails=1&limit=1\n",
      "Status code 429 from https://nominatim.openstreetmap.org/search: ERROR - 429 Client Error: Too Many Requests for url: https://nominatim.openstreetmap.org/search?q=Osceola+County%2C+Michigan%2C+USA&format=jsonv2&addressdetails=1&limit=1\n",
      "Status code 429 from https://nominatim.openstreetmap.org/search: ERROR - 429 Client Error: Too Many Requests for url: https://nominatim.openstreetmap.org/search?q=Oscoda+County%2C+Michigan%2C+USA&format=jsonv2&addressdetails=1&limit=1\n"
     ]
    },
    {
     "name": "stderr",
     "output_type": "stream",
     "text": [
      "Status code Unknown from https://nominatim.openstreetmap.org/search: ERROR - HTTPSConnectionPool(host='nominatim.openstreetmap.org', port=443): Max retries exceeded with url: /search?q=Nelson+County%2C+Virginia%2C+USA&format=jsonv2&addressdetails=1&limit=1 (Caused by ConnectTimeoutError(<urllib3.connection.VerifiedHTTPSConnection object at 0x7f7085edfeb8>, 'Connection to nominatim.openstreetmap.org timed out. (connect timeout=5.0)'))\n",
      "Status code 429 from https://nominatim.openstreetmap.org/search: ERROR - 429 Client Error: Too Many Requests for url: https://nominatim.openstreetmap.org/search?q=Otsego+County%2C+Michigan%2C+USA&format=jsonv2&addressdetails=1&limit=1\n",
      "Status code 429 from https://nominatim.openstreetmap.org/search: ERROR - 429 Client Error: Too Many Requests for url: https://nominatim.openstreetmap.org/search?q=New+Kent+County%2C+Virginia%2C+USA&format=jsonv2&addressdetails=1&limit=1\n",
      "Status code Unknown from https://nominatim.openstreetmap.org/search: ERROR - HTTPSConnectionPool(host='nominatim.openstreetmap.org', port=443): Max retries exceeded with url: /search?q=Delta+County%2C+Colorado%2C+USA&format=jsonv2&addressdetails=1&limit=1 (Caused by ConnectTimeoutError(<urllib3.connection.VerifiedHTTPSConnection object at 0x7f7085ce50b8>, 'Connection to nominatim.openstreetmap.org timed out. (connect timeout=5.0)'))\n",
      "Status code 429 from https://nominatim.openstreetmap.org/search: ERROR - 429 Client Error: Too Many Requests for url: https://nominatim.openstreetmap.org/search?q=Northampton+County%2C+Virginia%2C+USA&format=jsonv2&addressdetails=1&limit=1\n",
      "Status code 429 from https://nominatim.openstreetmap.org/search: ERROR - 429 Client Error: Too Many Requests for url: https://nominatim.openstreetmap.org/search?q=Ottawa+County%2C+Michigan%2C+USA&format=jsonv2&addressdetails=1&limit=1\n",
      "Status code 429 from https://nominatim.openstreetmap.org/search: ERROR - 429 Client Error: Too Many Requests for url: https://nominatim.openstreetmap.org/search?q=Denver+County%2C+Colorado%2C+USA&format=jsonv2&addressdetails=1&limit=1\n",
      "Status code Unknown from https://nominatim.openstreetmap.org/search: ERROR - HTTPSConnectionPool(host='nominatim.openstreetmap.org', port=443): Max retries exceeded with url: /search?q=Saluda+County%2C+South+Carolina%2C+USA&format=jsonv2&addressdetails=1&limit=1 (Caused by ConnectTimeoutError(<urllib3.connection.VerifiedHTTPSConnection object at 0x7f70847aa898>, 'Connection to nominatim.openstreetmap.org timed out. (connect timeout=5.0)'))\n",
      "Status code 429 from https://nominatim.openstreetmap.org/search: ERROR - 429 Client Error: Too Many Requests for url: https://nominatim.openstreetmap.org/search?q=Dolores+County%2C+Colorado%2C+USA&format=jsonv2&addressdetails=1&limit=1\n",
      "Status code 429 from https://nominatim.openstreetmap.org/search: ERROR - 429 Client Error: Too Many Requests for url: https://nominatim.openstreetmap.org/search?q=Northumberland+County%2C+Virginia%2C+USA&format=jsonv2&addressdetails=1&limit=1\n",
      "Status code 429 from https://nominatim.openstreetmap.org/search: ERROR - 429 Client Error: Too Many Requests for url: https://nominatim.openstreetmap.org/search?q=Spartanburg+County%2C+South+Carolina%2C+USA&format=jsonv2&addressdetails=1&limit=1\n",
      "Status code 429 from https://nominatim.openstreetmap.org/search: ERROR - 429 Client Error: Too Many Requests for url: https://nominatim.openstreetmap.org/search?q=Nottoway+County%2C+Virginia%2C+USA&format=jsonv2&addressdetails=1&limit=1\n",
      "Status code 429 from https://nominatim.openstreetmap.org/search: ERROR - 429 Client Error: Too Many Requests for url: https://nominatim.openstreetmap.org/search?q=Sumter+County%2C+South+Carolina%2C+USA&format=jsonv2&addressdetails=1&limit=1\n",
      "Status code Unknown from https://nominatim.openstreetmap.org/search: ERROR - HTTPSConnectionPool(host='nominatim.openstreetmap.org', port=443): Max retries exceeded with url: /search?q=Cibola+County%2C+New+Mexico%2C+USA&format=jsonv2&addressdetails=1&limit=1 (Caused by ConnectTimeoutError(<urllib3.connection.VerifiedHTTPSConnection object at 0x7f70847b7e80>, 'Connection to nominatim.openstreetmap.org timed out. (connect timeout=5.0)'))\n",
      "Status code 429 from https://nominatim.openstreetmap.org/search: ERROR - 429 Client Error: Too Many Requests for url: https://nominatim.openstreetmap.org/search?q=Union+County%2C+South+Carolina%2C+USA&format=jsonv2&addressdetails=1&limit=1\n",
      "Status code 429 from https://nominatim.openstreetmap.org/search: ERROR - 429 Client Error: Too Many Requests for url: https://nominatim.openstreetmap.org/search?q=Orange+County%2C+Virginia%2C+USA&format=jsonv2&addressdetails=1&limit=1\n",
      "Status code 429 from https://nominatim.openstreetmap.org/search: ERROR - 429 Client Error: Too Many Requests for url: https://nominatim.openstreetmap.org/search?q=Williamsburg+County%2C+South+Carolina%2C+USA&format=jsonv2&addressdetails=1&limit=1\n",
      "Status code 429 from https://nominatim.openstreetmap.org/search: ERROR - 429 Client Error: Too Many Requests for url: https://nominatim.openstreetmap.org/search?q=York+County%2C+South+Carolina%2C+USA&format=jsonv2&addressdetails=1&limit=1\n",
      "Status code 429 from https://nominatim.openstreetmap.org/search: ERROR - 429 Client Error: Too Many Requests for url: https://nominatim.openstreetmap.org/search?q=Aurora+County%2C+South+Dakota%2C+USA&format=jsonv2&addressdetails=1&limit=1\n",
      "Status code 429 from https://nominatim.openstreetmap.org/search: ERROR - 429 Client Error: Too Many Requests for url: https://nominatim.openstreetmap.org/search?q=Beadle+County%2C+South+Dakota%2C+USA&format=jsonv2&addressdetails=1&limit=1\n",
      "Status code Unknown from https://nominatim.openstreetmap.org/search: ERROR - HTTPSConnectionPool(host='nominatim.openstreetmap.org', port=443): Max retries exceeded with url: /search?q=Benton+County%2C+Iowa%2C+USA&format=jsonv2&addressdetails=1&limit=1 (Caused by ConnectTimeoutError(<urllib3.connection.VerifiedHTTPSConnection object at 0x7f708495fe48>, 'Connection to nominatim.openstreetmap.org timed out. (connect timeout=5.0)'))\n",
      "Status code 429 from https://nominatim.openstreetmap.org/search: ERROR - 429 Client Error: Too Many Requests for url: https://nominatim.openstreetmap.org/search?q=Bennett+County%2C+South+Dakota%2C+USA&format=jsonv2&addressdetails=1&limit=1\n",
      "Status code 429 from https://nominatim.openstreetmap.org/search: ERROR - 429 Client Error: Too Many Requests for url: https://nominatim.openstreetmap.org/search?q=Black+Hawk+County%2C+Iowa%2C+USA&format=jsonv2&addressdetails=1&limit=1\n",
      "Status code 429 from https://nominatim.openstreetmap.org/search: ERROR - 429 Client Error: Too Many Requests for url: https://nominatim.openstreetmap.org/search?q=Boone+County%2C+Iowa%2C+USA&format=jsonv2&addressdetails=1&limit=1\n",
      "Status code 429 from https://nominatim.openstreetmap.org/search: ERROR - 429 Client Error: Too Many Requests for url: https://nominatim.openstreetmap.org/search?q=Bremer+County%2C+Iowa%2C+USA&format=jsonv2&addressdetails=1&limit=1\n",
      "Status code 429 from https://nominatim.openstreetmap.org/search: ERROR - 429 Client Error: Too Many Requests for url: https://nominatim.openstreetmap.org/search?q=Buchanan+County%2C+Iowa%2C+USA&format=jsonv2&addressdetails=1&limit=1\n",
      "Status code Unknown from https://nominatim.openstreetmap.org/search: ERROR - HTTPSConnectionPool(host='nominatim.openstreetmap.org', port=443): Max retries exceeded with url: /search?q=Presque+Isle+County%2C+Michigan%2C+USA&format=jsonv2&addressdetails=1&limit=1 (Caused by ConnectTimeoutError(<urllib3.connection.VerifiedHTTPSConnection object at 0x7f7084905ac8>, 'Connection to nominatim.openstreetmap.org timed out. (connect timeout=5.0)'))\n",
      "Status code 429 from https://nominatim.openstreetmap.org/search: ERROR - 429 Client Error: Too Many Requests for url: https://nominatim.openstreetmap.org/search?q=Buena+Vista+County%2C+Iowa%2C+USA&format=jsonv2&addressdetails=1&limit=1\n",
      "Status code 429 from https://nominatim.openstreetmap.org/search: ERROR - 429 Client Error: Too Many Requests for url: https://nominatim.openstreetmap.org/search?q=Butler+County%2C+Iowa%2C+USA&format=jsonv2&addressdetails=1&limit=1\n",
      "Status code Unknown from https://nominatim.openstreetmap.org/search: ERROR - HTTPSConnectionPool(host='nominatim.openstreetmap.org', port=443): Max retries exceeded with url: /search?q=Douglas+County%2C+Colorado%2C+USA&format=jsonv2&addressdetails=1&limit=1 (Caused by ConnectTimeoutError(<urllib3.connection.VerifiedHTTPSConnection object at 0x7f70846989b0>, 'Connection to nominatim.openstreetmap.org timed out. (connect timeout=5.0)'))\n"
     ]
    },
    {
     "name": "stderr",
     "output_type": "stream",
     "text": [
      "Status code 429 from https://nominatim.openstreetmap.org/search: ERROR - 429 Client Error: Too Many Requests for url: https://nominatim.openstreetmap.org/search?q=Calhoun+County%2C+Iowa%2C+USA&format=jsonv2&addressdetails=1&limit=1\n",
      "Status code 429 from https://nominatim.openstreetmap.org/search: ERROR - 429 Client Error: Too Many Requests for url: https://nominatim.openstreetmap.org/search?q=Carroll+County%2C+Iowa%2C+USA&format=jsonv2&addressdetails=1&limit=1\n",
      "Status code 429 from https://nominatim.openstreetmap.org/search: ERROR - 429 Client Error: Too Many Requests for url: https://nominatim.openstreetmap.org/search?q=Eagle+County%2C+Colorado%2C+USA&format=jsonv2&addressdetails=1&limit=1\n",
      "Status code 429 from https://nominatim.openstreetmap.org/search: ERROR - 429 Client Error: Too Many Requests for url: https://nominatim.openstreetmap.org/search?q=Elbert+County%2C+Colorado%2C+USA&format=jsonv2&addressdetails=1&limit=1\n",
      "Status code Unknown from https://nominatim.openstreetmap.org/search: ERROR - HTTPSConnectionPool(host='nominatim.openstreetmap.org', port=443): Max retries exceeded with url: /search?q=Colfax+County%2C+New+Mexico%2C+USA&format=jsonv2&addressdetails=1&limit=1 (Caused by ConnectTimeoutError(<urllib3.connection.VerifiedHTTPSConnection object at 0x7f708486e940>, 'Connection to nominatim.openstreetmap.org timed out. (connect timeout=5.0)'))\n",
      "Status code 429 from https://nominatim.openstreetmap.org/search: ERROR - 429 Client Error: Too Many Requests for url: https://nominatim.openstreetmap.org/search?q=Roscommon+County%2C+Michigan%2C+USA&format=jsonv2&addressdetails=1&limit=1\n",
      "Status code Unknown from https://nominatim.openstreetmap.org/search: ERROR - HTTPSConnectionPool(host='nominatim.openstreetmap.org', port=443): Max retries exceeded with url: /search?q=Page+County%2C+Virginia%2C+USA&format=jsonv2&addressdetails=1&limit=1 (Caused by ConnectTimeoutError(<urllib3.connection.VerifiedHTTPSConnection object at 0x7f7084905a90>, 'Connection to nominatim.openstreetmap.org timed out. (connect timeout=5.0)'))\n",
      "Status code 429 from https://nominatim.openstreetmap.org/search: ERROR - 429 Client Error: Too Many Requests for url: https://nominatim.openstreetmap.org/search?q=El+Paso+County%2C+Colorado%2C+USA&format=jsonv2&addressdetails=1&limit=1\n",
      "Status code 429 from https://nominatim.openstreetmap.org/search: ERROR - 429 Client Error: Too Many Requests for url: https://nominatim.openstreetmap.org/search?q=Curry+County%2C+New+Mexico%2C+USA&format=jsonv2&addressdetails=1&limit=1\n",
      "Status code 429 from https://nominatim.openstreetmap.org/search: ERROR - 429 Client Error: Too Many Requests for url: https://nominatim.openstreetmap.org/search?q=De+Baca+County%2C+New+Mexico%2C+USA&format=jsonv2&addressdetails=1&limit=1\n",
      "Status code 429 from https://nominatim.openstreetmap.org/search: ERROR - 429 Client Error: Too Many Requests for url: https://nominatim.openstreetmap.org/search?q=Saginaw+County%2C+Michigan%2C+USA&format=jsonv2&addressdetails=1&limit=1\n",
      "Status code 429 from https://nominatim.openstreetmap.org/search: ERROR - 429 Client Error: Too Many Requests for url: https://nominatim.openstreetmap.org/search?q=St.+Clair+County%2C+Michigan%2C+USA&format=jsonv2&addressdetails=1&limit=1\n",
      "Status code Unknown from https://nominatim.openstreetmap.org/search: ERROR - HTTPSConnectionPool(host='nominatim.openstreetmap.org', port=443): Max retries exceeded with url: /search?q=Bon+Homme+County%2C+South+Dakota%2C+USA&format=jsonv2&addressdetails=1&limit=1 (Caused by ConnectTimeoutError(<urllib3.connection.VerifiedHTTPSConnection object at 0x7f708486e470>, 'Connection to nominatim.openstreetmap.org timed out. (connect timeout=5.0)'))\n",
      "Status code 429 from https://nominatim.openstreetmap.org/search: ERROR - 429 Client Error: Too Many Requests for url: https://nominatim.openstreetmap.org/search?q=Patrick+County%2C+Virginia%2C+USA&format=jsonv2&addressdetails=1&limit=1\n",
      "Status code 429 from https://nominatim.openstreetmap.org/search: ERROR - 429 Client Error: Too Many Requests for url: https://nominatim.openstreetmap.org/search?q=Brookings+County%2C+South+Dakota%2C+USA&format=jsonv2&addressdetails=1&limit=1\n",
      "Status code 429 from https://nominatim.openstreetmap.org/search: ERROR - 429 Client Error: Too Many Requests for url: https://nominatim.openstreetmap.org/search?q=Pittsylvania+County%2C+Virginia%2C+USA&format=jsonv2&addressdetails=1&limit=1\n",
      "Status code 429 from https://nominatim.openstreetmap.org/search: ERROR - 429 Client Error: Too Many Requests for url: https://nominatim.openstreetmap.org/search?q=Brown+County%2C+South+Dakota%2C+USA&format=jsonv2&addressdetails=1&limit=1\n",
      "Status code 429 from https://nominatim.openstreetmap.org/search: ERROR - 429 Client Error: Too Many Requests for url: https://nominatim.openstreetmap.org/search?q=Powhatan+County%2C+Virginia%2C+USA&format=jsonv2&addressdetails=1&limit=1\n",
      "Status code 429 from https://nominatim.openstreetmap.org/search: ERROR - 429 Client Error: Too Many Requests for url: https://nominatim.openstreetmap.org/search?q=Prince+Edward+County%2C+Virginia%2C+USA&format=jsonv2&addressdetails=1&limit=1\n",
      "Status code 429 from https://nominatim.openstreetmap.org/search: ERROR - 429 Client Error: Too Many Requests for url: https://nominatim.openstreetmap.org/search?q=Prince+George+County%2C+Virginia%2C+USA&format=jsonv2&addressdetails=1&limit=1\n",
      "Status code 429 from https://nominatim.openstreetmap.org/search: ERROR - 429 Client Error: Too Many Requests for url: https://nominatim.openstreetmap.org/search?q=Prince+William+County%2C+Virginia%2C+USA&format=jsonv2&addressdetails=1&limit=1\n",
      "Status code 429 from https://nominatim.openstreetmap.org/search: ERROR - 429 Client Error: Too Many Requests for url: https://nominatim.openstreetmap.org/search?q=Pulaski+County%2C+Virginia%2C+USA&format=jsonv2&addressdetails=1&limit=1\n",
      "Status code Unknown from https://nominatim.openstreetmap.org/search: ERROR - HTTPSConnectionPool(host='nominatim.openstreetmap.org', port=443): Max retries exceeded with url: /search?q=Cass+County%2C+Iowa%2C+USA&format=jsonv2&addressdetails=1&limit=1 (Caused by ConnectTimeoutError(<urllib3.connection.VerifiedHTTPSConnection object at 0x7f708495f400>, 'Connection to nominatim.openstreetmap.org timed out. (connect timeout=5.0)'))\n",
      "Status code 429 from https://nominatim.openstreetmap.org/search: ERROR - 429 Client Error: Too Many Requests for url: https://nominatim.openstreetmap.org/search?q=Rappahannock+County%2C+Virginia%2C+USA&format=jsonv2&addressdetails=1&limit=1\n",
      "Status code 429 from https://nominatim.openstreetmap.org/search: ERROR - 429 Client Error: Too Many Requests for url: https://nominatim.openstreetmap.org/search?q=Cedar+County%2C+Iowa%2C+USA&format=jsonv2&addressdetails=1&limit=1\n",
      "Status code 429 from https://nominatim.openstreetmap.org/search: ERROR - 429 Client Error: Too Many Requests for url: https://nominatim.openstreetmap.org/search?q=Cerro+Gordo+County%2C+Iowa%2C+USA&format=jsonv2&addressdetails=1&limit=1\n",
      "Status code Unknown from https://nominatim.openstreetmap.org/search: ERROR - HTTPSConnectionPool(host='nominatim.openstreetmap.org', port=443): Max retries exceeded with url: /search?q=Fremont+County%2C+Colorado%2C+USA&format=jsonv2&addressdetails=1&limit=1 (Caused by ConnectTimeoutError(<urllib3.connection.VerifiedHTTPSConnection object at 0x7f70849605c0>, 'Connection to nominatim.openstreetmap.org timed out. (connect timeout=5.0)'))\n",
      "Status code 429 from https://nominatim.openstreetmap.org/search: ERROR - 429 Client Error: Too Many Requests for url: https://nominatim.openstreetmap.org/search?q=Garfield+County%2C+Colorado%2C+USA&format=jsonv2&addressdetails=1&limit=1\n",
      "Status code Unknown from https://nominatim.openstreetmap.org/search: ERROR - HTTPSConnectionPool(host='nominatim.openstreetmap.org', port=443): Max retries exceeded with url: /search?q=Do%C3%AF%C2%BF%C2%BDa+Ana+County%2C+New+Mexico%2C+USA&format=jsonv2&addressdetails=1&limit=1 (Caused by ConnectTimeoutError(<urllib3.connection.VerifiedHTTPSConnection object at 0x7f70847a7048>, 'Connection to nominatim.openstreetmap.org timed out. (connect timeout=5.0)'))\n",
      "Status code 429 from https://nominatim.openstreetmap.org/search: ERROR - 429 Client Error: Too Many Requests for url: https://nominatim.openstreetmap.org/search?q=Cherokee+County%2C+Iowa%2C+USA&format=jsonv2&addressdetails=1&limit=1\n"
     ]
    },
    {
     "name": "stderr",
     "output_type": "stream",
     "text": [
      "Status code 429 from https://nominatim.openstreetmap.org/search: ERROR - 429 Client Error: Too Many Requests for url: https://nominatim.openstreetmap.org/search?q=Gilpin+County%2C+Colorado%2C+USA&format=jsonv2&addressdetails=1&limit=1\n",
      "Status code Unknown from https://nominatim.openstreetmap.org/search: ERROR - HTTPSConnectionPool(host='nominatim.openstreetmap.org', port=443): Max retries exceeded with url: /search?q=St.+Joseph+County%2C+Michigan%2C+USA&format=jsonv2&addressdetails=1&limit=1 (Caused by NewConnectionError('<urllib3.connection.VerifiedHTTPSConnection object at 0x7f708479d470>: Failed to establish a new connection: [Errno 111] Connection refused'))\n",
      "Status code Unknown from https://nominatim.openstreetmap.org/search: ERROR - HTTPSConnectionPool(host='nominatim.openstreetmap.org', port=443): Max retries exceeded with url: /search?q=Brule+County%2C+South+Dakota%2C+USA&format=jsonv2&addressdetails=1&limit=1 (Caused by NewConnectionError('<urllib3.connection.VerifiedHTTPSConnection object at 0x7f708486e8d0>: Failed to establish a new connection: [Errno 111] Connection refused'))\n",
      "Status code 429 from https://nominatim.openstreetmap.org/search: ERROR - 429 Client Error: Too Many Requests for url: https://nominatim.openstreetmap.org/search?q=Eddy+County%2C+New+Mexico%2C+USA&format=jsonv2&addressdetails=1&limit=1\n",
      "Status code 429 from https://nominatim.openstreetmap.org/search: ERROR - 429 Client Error: Too Many Requests for url: https://nominatim.openstreetmap.org/search?q=Buffalo+County%2C+South+Dakota%2C+USA&format=jsonv2&addressdetails=1&limit=1\n",
      "Status code 429 from https://nominatim.openstreetmap.org/search: ERROR - 429 Client Error: Too Many Requests for url: https://nominatim.openstreetmap.org/search?q=Chickasaw+County%2C+Iowa%2C+USA&format=jsonv2&addressdetails=1&limit=1\n",
      "Status code 429 from https://nominatim.openstreetmap.org/search: ERROR - 429 Client Error: Too Many Requests for url: https://nominatim.openstreetmap.org/search?q=Sanilac+County%2C+Michigan%2C+USA&format=jsonv2&addressdetails=1&limit=1\n",
      "Status code Unknown from https://nominatim.openstreetmap.org/search: ERROR - HTTPSConnectionPool(host='nominatim.openstreetmap.org', port=443): Max retries exceeded with url: /search?q=Richmond+County%2C+Virginia%2C+USA&format=jsonv2&addressdetails=1&limit=1 (Caused by NewConnectionError('<urllib3.connection.VerifiedHTTPSConnection object at 0x7f7089335f60>: Failed to establish a new connection: [Errno 111] Connection refused'))\n",
      "Status code 429 from https://nominatim.openstreetmap.org/search: ERROR - 429 Client Error: Too Many Requests for url: https://nominatim.openstreetmap.org/search?q=Butte+County%2C+South+Dakota%2C+USA&format=jsonv2&addressdetails=1&limit=1\n",
      "Status code 429 from https://nominatim.openstreetmap.org/search: ERROR - 429 Client Error: Too Many Requests for url: https://nominatim.openstreetmap.org/search?q=Roanoke+County%2C+Virginia%2C+USA&format=jsonv2&addressdetails=1&limit=1\n",
      "Status code 429 from https://nominatim.openstreetmap.org/search: ERROR - 429 Client Error: Too Many Requests for url: https://nominatim.openstreetmap.org/search?q=Campbell+County%2C+South+Dakota%2C+USA&format=jsonv2&addressdetails=1&limit=1\n",
      "Status code 429 from https://nominatim.openstreetmap.org/search: ERROR - 429 Client Error: Too Many Requests for url: https://nominatim.openstreetmap.org/search?q=Grant+County%2C+New+Mexico%2C+USA&format=jsonv2&addressdetails=1&limit=1\n",
      "Status code 429 from https://nominatim.openstreetmap.org/search: ERROR - 429 Client Error: Too Many Requests for url: https://nominatim.openstreetmap.org/search?q=Rockbridge+County%2C+Virginia%2C+USA&format=jsonv2&addressdetails=1&limit=1\n",
      "Status code 429 from https://nominatim.openstreetmap.org/search: ERROR - 429 Client Error: Too Many Requests for url: https://nominatim.openstreetmap.org/search?q=Charles+Mix+County%2C+South+Dakota%2C+USA&format=jsonv2&addressdetails=1&limit=1\n",
      "Status code Unknown from https://nominatim.openstreetmap.org/search: ERROR - HTTPSConnectionPool(host='nominatim.openstreetmap.org', port=443): Max retries exceeded with url: /search?q=Grand+County%2C+Colorado%2C+USA&format=jsonv2&addressdetails=1&limit=1 (Caused by NewConnectionError('<urllib3.connection.VerifiedHTTPSConnection object at 0x7f7085ce5080>: Failed to establish a new connection: [Errno 111] Connection refused'))\n",
      "Status code 429 from https://nominatim.openstreetmap.org/search: ERROR - 429 Client Error: Too Many Requests for url: https://nominatim.openstreetmap.org/search?q=Schoolcraft+County%2C+Michigan%2C+USA&format=jsonv2&addressdetails=1&limit=1\n",
      "Status code 429 from https://nominatim.openstreetmap.org/search: ERROR - 429 Client Error: Too Many Requests for url: https://nominatim.openstreetmap.org/search?q=Rockingham+County%2C+Virginia%2C+USA&format=jsonv2&addressdetails=1&limit=1\n",
      "Status code 429 from https://nominatim.openstreetmap.org/search: ERROR - 429 Client Error: Too Many Requests for url: https://nominatim.openstreetmap.org/search?q=Shiawassee+County%2C+Michigan%2C+USA&format=jsonv2&addressdetails=1&limit=1\n",
      "Status code Unknown from https://nominatim.openstreetmap.org/search: ERROR - HTTPSConnectionPool(host='nominatim.openstreetmap.org', port=443): Max retries exceeded with url: /search?q=Clarke+County%2C+Iowa%2C+USA&format=jsonv2&addressdetails=1&limit=1 (Caused by NewConnectionError('<urllib3.connection.VerifiedHTTPSConnection object at 0x7f7084905cf8>: Failed to establish a new connection: [Errno 111] Connection refused'))\n",
      "Status code 429 from https://nominatim.openstreetmap.org/search: ERROR - 429 Client Error: Too Many Requests for url: https://nominatim.openstreetmap.org/search?q=Russell+County%2C+Virginia%2C+USA&format=jsonv2&addressdetails=1&limit=1\n",
      "Status code 429 from https://nominatim.openstreetmap.org/search: ERROR - 429 Client Error: Too Many Requests for url: https://nominatim.openstreetmap.org/search?q=Scott+County%2C+Virginia%2C+USA&format=jsonv2&addressdetails=1&limit=1\n",
      "Status code 429 from https://nominatim.openstreetmap.org/search: ERROR - 429 Client Error: Too Many Requests for url: https://nominatim.openstreetmap.org/search?q=Tuscola+County%2C+Michigan%2C+USA&format=jsonv2&addressdetails=1&limit=1\n",
      "Status code 429 from https://nominatim.openstreetmap.org/search: ERROR - 429 Client Error: Too Many Requests for url: https://nominatim.openstreetmap.org/search?q=Shenandoah+County%2C+Virginia%2C+USA&format=jsonv2&addressdetails=1&limit=1\n",
      "Status code 429 from https://nominatim.openstreetmap.org/search: ERROR - 429 Client Error: Too Many Requests for url: https://nominatim.openstreetmap.org/search?q=Smyth+County%2C+Virginia%2C+USA&format=jsonv2&addressdetails=1&limit=1\n",
      "Status code Unknown from https://nominatim.openstreetmap.org/search: ERROR - HTTPSConnectionPool(host='nominatim.openstreetmap.org', port=443): Max retries exceeded with url: /search?q=Guadalupe+County%2C+New+Mexico%2C+USA&format=jsonv2&addressdetails=1&limit=1 (Caused by NewConnectionError('<urllib3.connection.VerifiedHTTPSConnection object at 0x7f70849057f0>: Failed to establish a new connection: [Errno 111] Connection refused'))\n",
      "Status code 429 from https://nominatim.openstreetmap.org/search: ERROR - 429 Client Error: Too Many Requests for url: https://nominatim.openstreetmap.org/search?q=Southampton+County%2C+Virginia%2C+USA&format=jsonv2&addressdetails=1&limit=1\n",
      "Status code Unknown from https://nominatim.openstreetmap.org/search: ERROR - HTTPSConnectionPool(host='nominatim.openstreetmap.org', port=443): Max retries exceeded with url: /search?q=Clark+County%2C+South+Dakota%2C+USA&format=jsonv2&addressdetails=1&limit=1 (Caused by NewConnectionError('<urllib3.connection.VerifiedHTTPSConnection object at 0x7f70847aad30>: Failed to establish a new connection: [Errno 111] Connection refused'))\n",
      "Status code Unknown from https://nominatim.openstreetmap.org/search: ERROR - HTTPSConnectionPool(host='nominatim.openstreetmap.org', port=443): Max retries exceeded with url: /search?q=Gunnison+County%2C+Colorado%2C+USA&format=jsonv2&addressdetails=1&limit=1 (Caused by NewConnectionError('<urllib3.connection.VerifiedHTTPSConnection object at 0x7f70847b6710>: Failed to establish a new connection: [Errno 111] Connection refused'))\n"
     ]
    },
    {
     "name": "stderr",
     "output_type": "stream",
     "text": [
      "Status code 429 from https://nominatim.openstreetmap.org/search: ERROR - 429 Client Error: Too Many Requests for url: https://nominatim.openstreetmap.org/search?q=Clay+County%2C+Iowa%2C+USA&format=jsonv2&addressdetails=1&limit=1\n",
      "Status code 429 from https://nominatim.openstreetmap.org/search: ERROR - 429 Client Error: Too Many Requests for url: https://nominatim.openstreetmap.org/search?q=Spotsylvania+County%2C+Virginia%2C+USA&format=jsonv2&addressdetails=1&limit=1\n",
      "Status code 429 from https://nominatim.openstreetmap.org/search: ERROR - 429 Client Error: Too Many Requests for url: https://nominatim.openstreetmap.org/search?q=Clayton+County%2C+Iowa%2C+USA&format=jsonv2&addressdetails=1&limit=1\n",
      "Status code 429 from https://nominatim.openstreetmap.org/search: ERROR - 429 Client Error: Too Many Requests for url: https://nominatim.openstreetmap.org/search?q=Clinton+County%2C+Iowa%2C+USA&format=jsonv2&addressdetails=1&limit=1\n",
      "Status code 429 from https://nominatim.openstreetmap.org/search: ERROR - 429 Client Error: Too Many Requests for url: https://nominatim.openstreetmap.org/search?q=Hinsdale+County%2C+Colorado%2C+USA&format=jsonv2&addressdetails=1&limit=1\n",
      "Status code 429 from https://nominatim.openstreetmap.org/search: ERROR - 429 Client Error: Too Many Requests for url: https://nominatim.openstreetmap.org/search?q=Huerfano+County%2C+Colorado%2C+USA&format=jsonv2&addressdetails=1&limit=1\n",
      "Status code Unknown from https://nominatim.openstreetmap.org/search: ERROR - HTTPSConnectionPool(host='nominatim.openstreetmap.org', port=443): Max retries exceeded with url: /search?q=Van+Buren+County%2C+Michigan%2C+USA&format=jsonv2&addressdetails=1&limit=1 (Caused by NewConnectionError('<urllib3.connection.VerifiedHTTPSConnection object at 0x7f708479dc50>: Failed to establish a new connection: [Errno 111] Connection refused'))\n",
      "Status code 429 from https://nominatim.openstreetmap.org/search: ERROR - 429 Client Error: Too Many Requests for url: https://nominatim.openstreetmap.org/search?q=Crawford+County%2C+Iowa%2C+USA&format=jsonv2&addressdetails=1&limit=1\n",
      "Status code 429 from https://nominatim.openstreetmap.org/search: ERROR - 429 Client Error: Too Many Requests for url: https://nominatim.openstreetmap.org/search?q=Clay+County%2C+South+Dakota%2C+USA&format=jsonv2&addressdetails=1&limit=1\n",
      "Status code 429 from https://nominatim.openstreetmap.org/search: ERROR - 429 Client Error: Too Many Requests for url: https://nominatim.openstreetmap.org/search?q=Washtenaw+County%2C+Michigan%2C+USA&format=jsonv2&addressdetails=1&limit=1\n",
      "Status code Unknown from https://nominatim.openstreetmap.org/search: ERROR - HTTPSConnectionPool(host='nominatim.openstreetmap.org', port=443): Max retries exceeded with url: /search?q=Harding+County%2C+New+Mexico%2C+USA&format=jsonv2&addressdetails=1&limit=1 (Caused by NewConnectionError('<urllib3.connection.VerifiedHTTPSConnection object at 0x7f708479ef98>: Failed to establish a new connection: [Errno 111] Connection refused'))\n",
      "Status code 429 from https://nominatim.openstreetmap.org/search: ERROR - 429 Client Error: Too Many Requests for url: https://nominatim.openstreetmap.org/search?q=Codington+County%2C+South+Dakota%2C+USA&format=jsonv2&addressdetails=1&limit=1\n",
      "Status code 429 from https://nominatim.openstreetmap.org/search: ERROR - 429 Client Error: Too Many Requests for url: https://nominatim.openstreetmap.org/search?q=Hidalgo+County%2C+New+Mexico%2C+USA&format=jsonv2&addressdetails=1&limit=1\n",
      "Status code Unknown from https://nominatim.openstreetmap.org/search: ERROR - HTTPSConnectionPool(host='nominatim.openstreetmap.org', port=443): Max retries exceeded with url: /search?q=Stafford+County%2C+Virginia%2C+USA&format=jsonv2&addressdetails=1&limit=1 (Caused by NewConnectionError('<urllib3.connection.VerifiedHTTPSConnection object at 0x7f7084905828>: Failed to establish a new connection: [Errno 111] Connection refused'))\n",
      "Status code 429 from https://nominatim.openstreetmap.org/search: ERROR - 429 Client Error: Too Many Requests for url: https://nominatim.openstreetmap.org/search?q=Wayne+County%2C+Michigan%2C+USA&format=jsonv2&addressdetails=1&limit=1\n",
      "Status code 429 from https://nominatim.openstreetmap.org/search: ERROR - 429 Client Error: Too Many Requests for url: https://nominatim.openstreetmap.org/search?q=Surry+County%2C+Virginia%2C+USA&format=jsonv2&addressdetails=1&limit=1\n",
      "Status code 429 from https://nominatim.openstreetmap.org/search: ERROR - 429 Client Error: Too Many Requests for url: https://nominatim.openstreetmap.org/search?q=Lea+County%2C+New+Mexico%2C+USA&format=jsonv2&addressdetails=1&limit=1\n",
      "Status code 429 from https://nominatim.openstreetmap.org/search: ERROR - 429 Client Error: Too Many Requests for url: https://nominatim.openstreetmap.org/search?q=Sussex+County%2C+Virginia%2C+USA&format=jsonv2&addressdetails=1&limit=1\n",
      "Status code 429 from https://nominatim.openstreetmap.org/search: ERROR - 429 Client Error: Too Many Requests for url: https://nominatim.openstreetmap.org/search?q=Tazewell+County%2C+Virginia%2C+USA&format=jsonv2&addressdetails=1&limit=1\n",
      "Status code Unknown from https://nominatim.openstreetmap.org/search: ERROR - HTTPSConnectionPool(host='nominatim.openstreetmap.org', port=443): Max retries exceeded with url: /search?q=Jackson+County%2C+Colorado%2C+USA&format=jsonv2&addressdetails=1&limit=1 (Caused by NewConnectionError('<urllib3.connection.VerifiedHTTPSConnection object at 0x7f7085267208>: Failed to establish a new connection: [Errno 111] Connection refused'))\n",
      "Status code Unknown from https://nominatim.openstreetmap.org/search: ERROR - HTTPSConnectionPool(host='nominatim.openstreetmap.org', port=443): Max retries exceeded with url: /search?q=Dallas+County%2C+Iowa%2C+USA&format=jsonv2&addressdetails=1&limit=1 (Caused by NewConnectionError('<urllib3.connection.VerifiedHTTPSConnection object at 0x7f70847b5e80>: Failed to establish a new connection: [Errno 111] Connection refused'))\n",
      "Status code 429 from https://nominatim.openstreetmap.org/search: ERROR - 429 Client Error: Too Many Requests for url: https://nominatim.openstreetmap.org/search?q=Davis+County%2C+Iowa%2C+USA&format=jsonv2&addressdetails=1&limit=1\n",
      "Status code 429 from https://nominatim.openstreetmap.org/search: ERROR - 429 Client Error: Too Many Requests for url: https://nominatim.openstreetmap.org/search?q=Wexford+County%2C+Michigan%2C+USA&format=jsonv2&addressdetails=1&limit=1\n",
      "Status code Unknown from https://nominatim.openstreetmap.org/search: ERROR - HTTPSConnectionPool(host='nominatim.openstreetmap.org', port=443): Max retries exceeded with url: /search?q=Corson+County%2C+South+Dakota%2C+USA&format=jsonv2&addressdetails=1&limit=1 (Caused by NewConnectionError('<urllib3.connection.VerifiedHTTPSConnection object at 0x7f70847bbf60>: Failed to establish a new connection: [Errno 111] Connection refused'))\n",
      "Status code 429 from https://nominatim.openstreetmap.org/search: ERROR - 429 Client Error: Too Many Requests for url: https://nominatim.openstreetmap.org/search?q=Decatur+County%2C+Iowa%2C+USA&format=jsonv2&addressdetails=1&limit=1\n",
      "Status code 429 from https://nominatim.openstreetmap.org/search: ERROR - 429 Client Error: Too Many Requests for url: https://nominatim.openstreetmap.org/search?q=Aitkin+County%2C+Minnesota%2C+USA&format=jsonv2&addressdetails=1&limit=1\n",
      "Status code 429 from https://nominatim.openstreetmap.org/search: ERROR - 429 Client Error: Too Many Requests for url: https://nominatim.openstreetmap.org/search?q=Delaware+County%2C+Iowa%2C+USA&format=jsonv2&addressdetails=1&limit=1\n",
      "Status code 429 from https://nominatim.openstreetmap.org/search: ERROR - 429 Client Error: Too Many Requests for url: https://nominatim.openstreetmap.org/search?q=Anoka+County%2C+Minnesota%2C+USA&format=jsonv2&addressdetails=1&limit=1\n",
      "Status code 429 from https://nominatim.openstreetmap.org/search: ERROR - 429 Client Error: Too Many Requests for url: https://nominatim.openstreetmap.org/search?q=Des+Moines+County%2C+Iowa%2C+USA&format=jsonv2&addressdetails=1&limit=1\n",
      "Status code 429 from https://nominatim.openstreetmap.org/search: ERROR - 429 Client Error: Too Many Requests for url: https://nominatim.openstreetmap.org/search?q=Dickinson+County%2C+Iowa%2C+USA&format=jsonv2&addressdetails=1&limit=1\n"
     ]
    },
    {
     "name": "stderr",
     "output_type": "stream",
     "text": [
      "Status code 429 from https://nominatim.openstreetmap.org/search: ERROR - 429 Client Error: Too Many Requests for url: https://nominatim.openstreetmap.org/search?q=Becker+County%2C+Minnesota%2C+USA&format=jsonv2&addressdetails=1&limit=1\n",
      "Status code 429 from https://nominatim.openstreetmap.org/search: ERROR - 429 Client Error: Too Many Requests for url: https://nominatim.openstreetmap.org/search?q=Dubuque+County%2C+Iowa%2C+USA&format=jsonv2&addressdetails=1&limit=1\n",
      "Status code 429 from https://nominatim.openstreetmap.org/search: ERROR - 429 Client Error: Too Many Requests for url: https://nominatim.openstreetmap.org/search?q=Beltrami+County%2C+Minnesota%2C+USA&format=jsonv2&addressdetails=1&limit=1\n",
      "Status code 429 from https://nominatim.openstreetmap.org/search: ERROR - 429 Client Error: Too Many Requests for url: https://nominatim.openstreetmap.org/search?q=Benton+County%2C+Minnesota%2C+USA&format=jsonv2&addressdetails=1&limit=1\n",
      "Status code 429 from https://nominatim.openstreetmap.org/search: ERROR - 429 Client Error: Too Many Requests for url: https://nominatim.openstreetmap.org/search?q=Emmet+County%2C+Iowa%2C+USA&format=jsonv2&addressdetails=1&limit=1\n",
      "Status code 429 from https://nominatim.openstreetmap.org/search: ERROR - 429 Client Error: Too Many Requests for url: https://nominatim.openstreetmap.org/search?q=Big+Stone+County%2C+Minnesota%2C+USA&format=jsonv2&addressdetails=1&limit=1\n",
      "Status code 429 from https://nominatim.openstreetmap.org/search: ERROR - 429 Client Error: Too Many Requests for url: https://nominatim.openstreetmap.org/search?q=Blue+Earth+County%2C+Minnesota%2C+USA&format=jsonv2&addressdetails=1&limit=1\n",
      "Status code Unknown from https://nominatim.openstreetmap.org/search: ERROR - HTTPSConnectionPool(host='nominatim.openstreetmap.org', port=443): Max retries exceeded with url: /search?q=Lincoln+County%2C+New+Mexico%2C+USA&format=jsonv2&addressdetails=1&limit=1 (Caused by ConnectTimeoutError(<urllib3.connection.VerifiedHTTPSConnection object at 0x7f70847b7a20>, 'Connection to nominatim.openstreetmap.org timed out. (connect timeout=5.0)'))\n",
      "Status code 429 from https://nominatim.openstreetmap.org/search: ERROR - 429 Client Error: Too Many Requests for url: https://nominatim.openstreetmap.org/search?q=Brown+County%2C+Minnesota%2C+USA&format=jsonv2&addressdetails=1&limit=1\n",
      "Status code 429 from https://nominatim.openstreetmap.org/search: ERROR - 429 Client Error: Too Many Requests for url: https://nominatim.openstreetmap.org/search?q=Los+Alamos+County%2C+New+Mexico%2C+USA&format=jsonv2&addressdetails=1&limit=1\n",
      "Status code Unknown from https://nominatim.openstreetmap.org/search: ERROR - HTTPSConnectionPool(host='nominatim.openstreetmap.org', port=443): Max retries exceeded with url: /search?q=Warren+County%2C+Virginia%2C+USA&format=jsonv2&addressdetails=1&limit=1 (Caused by ConnectTimeoutError(<urllib3.connection.VerifiedHTTPSConnection object at 0x7f7085c78f98>, 'Connection to nominatim.openstreetmap.org timed out. (connect timeout=5.0)'))\n",
      "Status code Unknown from https://nominatim.openstreetmap.org/search: ERROR - HTTPSConnectionPool(host='nominatim.openstreetmap.org', port=443): Max retries exceeded with url: /search?q=Jefferson+County%2C+Colorado%2C+USA&format=jsonv2&addressdetails=1&limit=1 (Caused by ConnectTimeoutError(<urllib3.connection.VerifiedHTTPSConnection object at 0x7f70847b66d8>, 'Connection to nominatim.openstreetmap.org timed out. (connect timeout=5.0)'))\n",
      "Status code 429 from https://nominatim.openstreetmap.org/search: ERROR - 429 Client Error: Too Many Requests for url: https://nominatim.openstreetmap.org/search?q=Luna+County%2C+New+Mexico%2C+USA&format=jsonv2&addressdetails=1&limit=1\n",
      "Status code 429 from https://nominatim.openstreetmap.org/search: ERROR - 429 Client Error: Too Many Requests for url: https://nominatim.openstreetmap.org/search?q=Kiowa+County%2C+Colorado%2C+USA&format=jsonv2&addressdetails=1&limit=1\n",
      "Status code 429 from https://nominatim.openstreetmap.org/search: ERROR - 429 Client Error: Too Many Requests for url: https://nominatim.openstreetmap.org/search?q=Kit+Carson+County%2C+Colorado%2C+USA&format=jsonv2&addressdetails=1&limit=1\n",
      "Status code Unknown from https://nominatim.openstreetmap.org/search: ERROR - HTTPSConnectionPool(host='nominatim.openstreetmap.org', port=443): Max retries exceeded with url: /search?q=Custer+County%2C+South+Dakota%2C+USA&format=jsonv2&addressdetails=1&limit=1 (Caused by ConnectTimeoutError(<urllib3.connection.VerifiedHTTPSConnection object at 0x7f70847aac50>, 'Connection to nominatim.openstreetmap.org timed out. (connect timeout=5.0)'))\n",
      "Status code 429 from https://nominatim.openstreetmap.org/search: ERROR - 429 Client Error: Too Many Requests for url: https://nominatim.openstreetmap.org/search?q=McKinley+County%2C+New+Mexico%2C+USA&format=jsonv2&addressdetails=1&limit=1\n",
      "Status code 429 from https://nominatim.openstreetmap.org/search: ERROR - 429 Client Error: Too Many Requests for url: https://nominatim.openstreetmap.org/search?q=Davison+County%2C+South+Dakota%2C+USA&format=jsonv2&addressdetails=1&limit=1\n",
      "Status code 429 from https://nominatim.openstreetmap.org/search: ERROR - 429 Client Error: Too Many Requests for url: https://nominatim.openstreetmap.org/search?q=Day+County%2C+South+Dakota%2C+USA&format=jsonv2&addressdetails=1&limit=1\n",
      "Status code 429 from https://nominatim.openstreetmap.org/search: ERROR - 429 Client Error: Too Many Requests for url: https://nominatim.openstreetmap.org/search?q=Mora+County%2C+New+Mexico%2C+USA&format=jsonv2&addressdetails=1&limit=1\n",
      "Status code 429 from https://nominatim.openstreetmap.org/search: ERROR - 429 Client Error: Too Many Requests for url: https://nominatim.openstreetmap.org/search?q=Otero+County%2C+New+Mexico%2C+USA&format=jsonv2&addressdetails=1&limit=1\n",
      "Status code 429 from https://nominatim.openstreetmap.org/search: ERROR - 429 Client Error: Too Many Requests for url: https://nominatim.openstreetmap.org/search?q=Deuel+County%2C+South+Dakota%2C+USA&format=jsonv2&addressdetails=1&limit=1\n",
      "Status code 429 from https://nominatim.openstreetmap.org/search: ERROR - 429 Client Error: Too Many Requests for url: https://nominatim.openstreetmap.org/search?q=Dewey+County%2C+South+Dakota%2C+USA&format=jsonv2&addressdetails=1&limit=1\n",
      "Status code 429 from https://nominatim.openstreetmap.org/search: ERROR - 429 Client Error: Too Many Requests for url: https://nominatim.openstreetmap.org/search?q=Douglas+County%2C+South+Dakota%2C+USA&format=jsonv2&addressdetails=1&limit=1\n",
      "Status code Unknown from https://nominatim.openstreetmap.org/search: ERROR - HTTPSConnectionPool(host='nominatim.openstreetmap.org', port=443): Max retries exceeded with url: /search?q=Fayette+County%2C+Iowa%2C+USA&format=jsonv2&addressdetails=1&limit=1 (Caused by ConnectTimeoutError(<urllib3.connection.VerifiedHTTPSConnection object at 0x7f70bdbea160>, 'Connection to nominatim.openstreetmap.org timed out. (connect timeout=5.0)'))\n",
      "Status code 429 from https://nominatim.openstreetmap.org/search: ERROR - 429 Client Error: Too Many Requests for url: https://nominatim.openstreetmap.org/search?q=Edmunds+County%2C+South+Dakota%2C+USA&format=jsonv2&addressdetails=1&limit=1\n",
      "Status code 429 from https://nominatim.openstreetmap.org/search: ERROR - 429 Client Error: Too Many Requests for url: https://nominatim.openstreetmap.org/search?q=Floyd+County%2C+Iowa%2C+USA&format=jsonv2&addressdetails=1&limit=1\n",
      "Status code 429 from https://nominatim.openstreetmap.org/search: ERROR - 429 Client Error: Too Many Requests for url: https://nominatim.openstreetmap.org/search?q=Fall+River+County%2C+South+Dakota%2C+USA&format=jsonv2&addressdetails=1&limit=1\n",
      "Status code Unknown from https://nominatim.openstreetmap.org/search: ERROR - HTTPSConnectionPool(host='nominatim.openstreetmap.org', port=443): Max retries exceeded with url: /search?q=Carlton+County%2C+Minnesota%2C+USA&format=jsonv2&addressdetails=1&limit=1 (Caused by ConnectTimeoutError(<urllib3.connection.VerifiedHTTPSConnection object at 0x7f70847a6550>, 'Connection to nominatim.openstreetmap.org timed out. (connect timeout=5.0)'))\n",
      "Status code 429 from https://nominatim.openstreetmap.org/search: ERROR - 429 Client Error: Too Many Requests for url: https://nominatim.openstreetmap.org/search?q=Faulk+County%2C+South+Dakota%2C+USA&format=jsonv2&addressdetails=1&limit=1\n"
     ]
    },
    {
     "name": "stderr",
     "output_type": "stream",
     "text": [
      "Status code 429 from https://nominatim.openstreetmap.org/search: ERROR - 429 Client Error: Too Many Requests for url: https://nominatim.openstreetmap.org/search?q=Carver+County%2C+Minnesota%2C+USA&format=jsonv2&addressdetails=1&limit=1\n",
      "Status code Unknown from https://nominatim.openstreetmap.org/search: ERROR - HTTPSConnectionPool(host='nominatim.openstreetmap.org', port=443): Max retries exceeded with url: /search?q=Washington+County%2C+Virginia%2C+USA&format=jsonv2&addressdetails=1&limit=1 (Caused by ConnectTimeoutError(<urllib3.connection.VerifiedHTTPSConnection object at 0x7f70847a4a20>, 'Connection to nominatim.openstreetmap.org timed out. (connect timeout=5.0)'))\n",
      "Status code 429 from https://nominatim.openstreetmap.org/search: ERROR - 429 Client Error: Too Many Requests for url: https://nominatim.openstreetmap.org/search?q=Grant+County%2C+South+Dakota%2C+USA&format=jsonv2&addressdetails=1&limit=1\n",
      "Status code 429 from https://nominatim.openstreetmap.org/search: ERROR - 429 Client Error: Too Many Requests for url: https://nominatim.openstreetmap.org/search?q=Westmoreland+County%2C+Virginia%2C+USA&format=jsonv2&addressdetails=1&limit=1\n",
      "Status code 429 from https://nominatim.openstreetmap.org/search: ERROR - 429 Client Error: Too Many Requests for url: https://nominatim.openstreetmap.org/search?q=Wise+County%2C+Virginia%2C+USA&format=jsonv2&addressdetails=1&limit=1\n",
      "Status code Unknown from https://nominatim.openstreetmap.org/search: ERROR - HTTPSConnectionPool(host='nominatim.openstreetmap.org', port=443): Max retries exceeded with url: /search?q=Lake+County%2C+Colorado%2C+USA&format=jsonv2&addressdetails=1&limit=1 (Caused by ConnectTimeoutError(<urllib3.connection.VerifiedHTTPSConnection object at 0x7f70847b68d0>, 'Connection to nominatim.openstreetmap.org timed out. (connect timeout=5.0)'))\n",
      "Status code 429 from https://nominatim.openstreetmap.org/search: ERROR - 429 Client Error: Too Many Requests for url: https://nominatim.openstreetmap.org/search?q=Franklin+County%2C+Iowa%2C+USA&format=jsonv2&addressdetails=1&limit=1\n",
      "Status code 429 from https://nominatim.openstreetmap.org/search: ERROR - 429 Client Error: Too Many Requests for url: https://nominatim.openstreetmap.org/search?q=Fremont+County%2C+Iowa%2C+USA&format=jsonv2&addressdetails=1&limit=1\n",
      "Status code 429 from https://nominatim.openstreetmap.org/search: ERROR - 429 Client Error: Too Many Requests for url: https://nominatim.openstreetmap.org/search?q=Wythe+County%2C+Virginia%2C+USA&format=jsonv2&addressdetails=1&limit=1\n",
      "Status code 429 from https://nominatim.openstreetmap.org/search: ERROR - 429 Client Error: Too Many Requests for url: https://nominatim.openstreetmap.org/search?q=Greene+County%2C+Iowa%2C+USA&format=jsonv2&addressdetails=1&limit=1\n",
      "Status code 429 from https://nominatim.openstreetmap.org/search: ERROR - 429 Client Error: Too Many Requests for url: https://nominatim.openstreetmap.org/search?q=York+County%2C+Virginia%2C+USA&format=jsonv2&addressdetails=1&limit=1\n",
      "Status code 429 from https://nominatim.openstreetmap.org/search: ERROR - 429 Client Error: Too Many Requests for url: https://nominatim.openstreetmap.org/search?q=Alexandria+city%2C+Virginia%2C+USA&format=jsonv2&addressdetails=1&limit=1\n",
      "Status code Unknown from https://nominatim.openstreetmap.org/search: ERROR - HTTPSConnectionPool(host='nominatim.openstreetmap.org', port=443): Max retries exceeded with url: /search?q=Quay+County%2C+New+Mexico%2C+USA&format=jsonv2&addressdetails=1&limit=1 (Caused by ConnectTimeoutError(<urllib3.connection.VerifiedHTTPSConnection object at 0x7f7084905cf8>, 'Connection to nominatim.openstreetmap.org timed out. (connect timeout=5.0)'))\n",
      "Status code 429 from https://nominatim.openstreetmap.org/search: ERROR - 429 Client Error: Too Many Requests for url: https://nominatim.openstreetmap.org/search?q=Grundy+County%2C+Iowa%2C+USA&format=jsonv2&addressdetails=1&limit=1\n",
      "Status code 429 from https://nominatim.openstreetmap.org/search: ERROR - 429 Client Error: Too Many Requests for url: https://nominatim.openstreetmap.org/search?q=Bristol+city%2C+Virginia%2C+USA&format=jsonv2&addressdetails=1&limit=1\n",
      "Status code 429 from https://nominatim.openstreetmap.org/search: ERROR - 429 Client Error: Too Many Requests for url: https://nominatim.openstreetmap.org/search?q=Guthrie+County%2C+Iowa%2C+USA&format=jsonv2&addressdetails=1&limit=1\n",
      "Status code 429 from https://nominatim.openstreetmap.org/search: ERROR - 429 Client Error: Too Many Requests for url: https://nominatim.openstreetmap.org/search?q=Buena+Vista+city%2C+Virginia%2C+USA&format=jsonv2&addressdetails=1&limit=1\n",
      "Status code 429 from https://nominatim.openstreetmap.org/search: ERROR - 429 Client Error: Too Many Requests for url: https://nominatim.openstreetmap.org/search?q=Hamilton+County%2C+Iowa%2C+USA&format=jsonv2&addressdetails=1&limit=1\n",
      "Status code 429 from https://nominatim.openstreetmap.org/search: ERROR - 429 Client Error: Too Many Requests for url: https://nominatim.openstreetmap.org/search?q=Rio+Arriba+County%2C+New+Mexico%2C+USA&format=jsonv2&addressdetails=1&limit=1\n",
      "Status code 429 from https://nominatim.openstreetmap.org/search: ERROR - 429 Client Error: Too Many Requests for url: https://nominatim.openstreetmap.org/search?q=Roosevelt+County%2C+New+Mexico%2C+USA&format=jsonv2&addressdetails=1&limit=1\n",
      "Status code 429 from https://nominatim.openstreetmap.org/search: ERROR - 429 Client Error: Too Many Requests for url: https://nominatim.openstreetmap.org/search?q=Sandoval+County%2C+New+Mexico%2C+USA&format=jsonv2&addressdetails=1&limit=1\n",
      "Status code Unknown from https://nominatim.openstreetmap.org/search: ERROR - HTTPSConnectionPool(host='nominatim.openstreetmap.org', port=443): Max retries exceeded with url: /search?q=Cass+County%2C+Minnesota%2C+USA&format=jsonv2&addressdetails=1&limit=1 (Caused by ConnectTimeoutError(<urllib3.connection.VerifiedHTTPSConnection object at 0x7f708486e908>, 'Connection to nominatim.openstreetmap.org timed out. (connect timeout=5.0)'))\n",
      "Status code 429 from https://nominatim.openstreetmap.org/search: ERROR - 429 Client Error: Too Many Requests for url: https://nominatim.openstreetmap.org/search?q=San+Juan+County%2C+New+Mexico%2C+USA&format=jsonv2&addressdetails=1&limit=1\n",
      "Status code Unknown from https://nominatim.openstreetmap.org/search: ERROR - HTTPSConnectionPool(host='nominatim.openstreetmap.org', port=443): Max retries exceeded with url: /search?q=Gregory+County%2C+South+Dakota%2C+USA&format=jsonv2&addressdetails=1&limit=1 (Caused by ConnectTimeoutError(<urllib3.connection.VerifiedHTTPSConnection object at 0x7f70847aafd0>, 'Connection to nominatim.openstreetmap.org timed out. (connect timeout=5.0)'))\n",
      "Status code 429 from https://nominatim.openstreetmap.org/search: ERROR - 429 Client Error: Too Many Requests for url: https://nominatim.openstreetmap.org/search?q=San+Miguel+County%2C+New+Mexico%2C+USA&format=jsonv2&addressdetails=1&limit=1\n",
      "Status code Unknown from https://nominatim.openstreetmap.org/search: ERROR - HTTPSConnectionPool(host='nominatim.openstreetmap.org', port=443): Max retries exceeded with url: /search?q=La+Plata+County%2C+Colorado%2C+USA&format=jsonv2&addressdetails=1&limit=1 (Caused by ConnectTimeoutError(<urllib3.connection.VerifiedHTTPSConnection object at 0x7f7084698be0>, 'Connection to nominatim.openstreetmap.org timed out. (connect timeout=5.0)'))\n",
      "Status code 429 from https://nominatim.openstreetmap.org/search: ERROR - 429 Client Error: Too Many Requests for url: https://nominatim.openstreetmap.org/search?q=Santa+Fe+County%2C+New+Mexico%2C+USA&format=jsonv2&addressdetails=1&limit=1\n",
      "Status code 429 from https://nominatim.openstreetmap.org/search: ERROR - 429 Client Error: Too Many Requests for url: https://nominatim.openstreetmap.org/search?q=Haakon+County%2C+South+Dakota%2C+USA&format=jsonv2&addressdetails=1&limit=1\n",
      "Status code 429 from https://nominatim.openstreetmap.org/search: ERROR - 429 Client Error: Too Many Requests for url: https://nominatim.openstreetmap.org/search?q=Larimer+County%2C+Colorado%2C+USA&format=jsonv2&addressdetails=1&limit=1\n",
      "Status code 429 from https://nominatim.openstreetmap.org/search: ERROR - 429 Client Error: Too Many Requests for url: https://nominatim.openstreetmap.org/search?q=Las+Animas+County%2C+Colorado%2C+USA&format=jsonv2&addressdetails=1&limit=1\n"
     ]
    },
    {
     "name": "stderr",
     "output_type": "stream",
     "text": [
      "Status code 429 from https://nominatim.openstreetmap.org/search: ERROR - 429 Client Error: Too Many Requests for url: https://nominatim.openstreetmap.org/search?q=Sierra+County%2C+New+Mexico%2C+USA&format=jsonv2&addressdetails=1&limit=1\n",
      "Status code 429 from https://nominatim.openstreetmap.org/search: ERROR - 429 Client Error: Too Many Requests for url: https://nominatim.openstreetmap.org/search?q=Socorro+County%2C+New+Mexico%2C+USA&format=jsonv2&addressdetails=1&limit=1\n",
      "Status code 429 from https://nominatim.openstreetmap.org/search: ERROR - 429 Client Error: Too Many Requests for url: https://nominatim.openstreetmap.org/search?q=Lincoln+County%2C+Colorado%2C+USA&format=jsonv2&addressdetails=1&limit=1\n",
      "Status code Unknown from https://nominatim.openstreetmap.org/search: ERROR - HTTPSConnectionPool(host='nominatim.openstreetmap.org', port=443): Max retries exceeded with url: /search?q=Charlottesville+city%2C+Virginia%2C+USA&format=jsonv2&addressdetails=1&limit=1 (Caused by ConnectTimeoutError(<urllib3.connection.VerifiedHTTPSConnection object at 0x7f708477e2b0>, 'Connection to nominatim.openstreetmap.org timed out. (connect timeout=5.0)'))\n",
      "Status code 429 from https://nominatim.openstreetmap.org/search: ERROR - 429 Client Error: Too Many Requests for url: https://nominatim.openstreetmap.org/search?q=Logan+County%2C+Colorado%2C+USA&format=jsonv2&addressdetails=1&limit=1\n",
      "Status code Unknown from https://nominatim.openstreetmap.org/search: ERROR - HTTPSConnectionPool(host='nominatim.openstreetmap.org', port=443): Max retries exceeded with url: /search?q=Hancock+County%2C+Iowa%2C+USA&format=jsonv2&addressdetails=1&limit=1 (Caused by ConnectTimeoutError(<urllib3.connection.VerifiedHTTPSConnection object at 0x7f7085c78f98>, 'Connection to nominatim.openstreetmap.org timed out. (connect timeout=5.0)'))\n",
      "Status code 429 from https://nominatim.openstreetmap.org/search: ERROR - 429 Client Error: Too Many Requests for url: https://nominatim.openstreetmap.org/search?q=Chesapeake+city%2C+Virginia%2C+USA&format=jsonv2&addressdetails=1&limit=1\n",
      "Status code 429 from https://nominatim.openstreetmap.org/search: ERROR - 429 Client Error: Too Many Requests for url: https://nominatim.openstreetmap.org/search?q=Mesa+County%2C+Colorado%2C+USA&format=jsonv2&addressdetails=1&limit=1\n",
      "Status code 429 from https://nominatim.openstreetmap.org/search: ERROR - 429 Client Error: Too Many Requests for url: https://nominatim.openstreetmap.org/search?q=Colonial+Heights+city%2C+Virginia%2C+USA&format=jsonv2&addressdetails=1&limit=1\n",
      "Status code 429 from https://nominatim.openstreetmap.org/search: ERROR - 429 Client Error: Too Many Requests for url: https://nominatim.openstreetmap.org/search?q=Covington+city%2C+Virginia%2C+USA&format=jsonv2&addressdetails=1&limit=1\n",
      "Status code 429 from https://nominatim.openstreetmap.org/search: ERROR - 429 Client Error: Too Many Requests for url: https://nominatim.openstreetmap.org/search?q=Danville+city%2C+Virginia%2C+USA&format=jsonv2&addressdetails=1&limit=1\n",
      "Status code Unknown from https://nominatim.openstreetmap.org/search: ERROR - HTTPSConnectionPool(host='nominatim.openstreetmap.org', port=443): Max retries exceeded with url: /search?q=Chippewa+County%2C+Minnesota%2C+USA&format=jsonv2&addressdetails=1&limit=1 (Caused by ConnectTimeoutError(<urllib3.connection.VerifiedHTTPSConnection object at 0x7f708479d710>, 'Connection to nominatim.openstreetmap.org timed out. (connect timeout=5.0)'))\n",
      "Status code 429 from https://nominatim.openstreetmap.org/search: ERROR - 429 Client Error: Too Many Requests for url: https://nominatim.openstreetmap.org/search?q=Emporia+city%2C+Virginia%2C+USA&format=jsonv2&addressdetails=1&limit=1\n",
      "Status code 429 from https://nominatim.openstreetmap.org/search: ERROR - 429 Client Error: Too Many Requests for url: https://nominatim.openstreetmap.org/search?q=Chisago+County%2C+Minnesota%2C+USA&format=jsonv2&addressdetails=1&limit=1\n",
      "Status code 429 from https://nominatim.openstreetmap.org/search: ERROR - 429 Client Error: Too Many Requests for url: https://nominatim.openstreetmap.org/search?q=Fairfax+city%2C+Virginia%2C+USA&format=jsonv2&addressdetails=1&limit=1\n",
      "Status code 429 from https://nominatim.openstreetmap.org/search: ERROR - 429 Client Error: Too Many Requests for url: https://nominatim.openstreetmap.org/search?q=Clay+County%2C+Minnesota%2C+USA&format=jsonv2&addressdetails=1&limit=1\n",
      "Status code Unknown from https://nominatim.openstreetmap.org/search: ERROR - HTTPSConnectionPool(host='nominatim.openstreetmap.org', port=443): Max retries exceeded with url: /search?q=Hamlin+County%2C+South+Dakota%2C+USA&format=jsonv2&addressdetails=1&limit=1 (Caused by ConnectTimeoutError(<urllib3.connection.VerifiedHTTPSConnection object at 0x7f7084905940>, 'Connection to nominatim.openstreetmap.org timed out. (connect timeout=5.0)'))\n",
      "Status code 429 from https://nominatim.openstreetmap.org/search: ERROR - 429 Client Error: Too Many Requests for url: https://nominatim.openstreetmap.org/search?q=Clearwater+County%2C+Minnesota%2C+USA&format=jsonv2&addressdetails=1&limit=1\n",
      "Status code 429 from https://nominatim.openstreetmap.org/search: ERROR - 429 Client Error: Too Many Requests for url: https://nominatim.openstreetmap.org/search?q=Falls+Church+city%2C+Virginia%2C+USA&format=jsonv2&addressdetails=1&limit=1\n",
      "Status code 429 from https://nominatim.openstreetmap.org/search: ERROR - 429 Client Error: Too Many Requests for url: https://nominatim.openstreetmap.org/search?q=Hand+County%2C+South+Dakota%2C+USA&format=jsonv2&addressdetails=1&limit=1\n",
      "Status code 429 from https://nominatim.openstreetmap.org/search: ERROR - 429 Client Error: Too Many Requests for url: https://nominatim.openstreetmap.org/search?q=Franklin+city%2C+Virginia%2C+USA&format=jsonv2&addressdetails=1&limit=1\n",
      "Status code 429 from https://nominatim.openstreetmap.org/search: ERROR - 429 Client Error: Too Many Requests for url: https://nominatim.openstreetmap.org/search?q=Cook+County%2C+Minnesota%2C+USA&format=jsonv2&addressdetails=1&limit=1\n",
      "Status code Unknown from https://nominatim.openstreetmap.org/search: ERROR - HTTPSConnectionPool(host='nominatim.openstreetmap.org', port=443): Max retries exceeded with url: /search?q=Taos+County%2C+New+Mexico%2C+USA&format=jsonv2&addressdetails=1&limit=1 (Caused by ConnectTimeoutError(<urllib3.connection.VerifiedHTTPSConnection object at 0x7f7084967ef0>, 'Connection to nominatim.openstreetmap.org timed out. (connect timeout=5.0)'))\n",
      "Status code 429 from https://nominatim.openstreetmap.org/search: ERROR - 429 Client Error: Too Many Requests for url: https://nominatim.openstreetmap.org/search?q=Hanson+County%2C+South+Dakota%2C+USA&format=jsonv2&addressdetails=1&limit=1\n",
      "Status code 429 from https://nominatim.openstreetmap.org/search: ERROR - 429 Client Error: Too Many Requests for url: https://nominatim.openstreetmap.org/search?q=Fredericksburg+city%2C+Virginia%2C+USA&format=jsonv2&addressdetails=1&limit=1\n",
      "Status code 429 from https://nominatim.openstreetmap.org/search: ERROR - 429 Client Error: Too Many Requests for url: https://nominatim.openstreetmap.org/search?q=Cottonwood+County%2C+Minnesota%2C+USA&format=jsonv2&addressdetails=1&limit=1\n",
      "Status code 429 from https://nominatim.openstreetmap.org/search: ERROR - 429 Client Error: Too Many Requests for url: https://nominatim.openstreetmap.org/search?q=Galax+city%2C+Virginia%2C+USA&format=jsonv2&addressdetails=1&limit=1\n",
      "Status code 429 from https://nominatim.openstreetmap.org/search: ERROR - 429 Client Error: Too Many Requests for url: https://nominatim.openstreetmap.org/search?q=Hampton+city%2C+Virginia%2C+USA&format=jsonv2&addressdetails=1&limit=1\n",
      "Status code 429 from https://nominatim.openstreetmap.org/search: ERROR - 429 Client Error: Too Many Requests for url: https://nominatim.openstreetmap.org/search?q=Harrisonburg+city%2C+Virginia%2C+USA&format=jsonv2&addressdetails=1&limit=1\n",
      "Status code Unknown from https://nominatim.openstreetmap.org/search: ERROR - HTTPSConnectionPool(host='nominatim.openstreetmap.org', port=443): Max retries exceeded with url: /search?q=Hardin+County%2C+Iowa%2C+USA&format=jsonv2&addressdetails=1&limit=1 (Caused by ConnectTimeoutError(<urllib3.connection.VerifiedHTTPSConnection object at 0x7f708486e898>, 'Connection to nominatim.openstreetmap.org timed out. (connect timeout=5.0)'))\n"
     ]
    },
    {
     "name": "stderr",
     "output_type": "stream",
     "text": [
      "Status code 429 from https://nominatim.openstreetmap.org/search: ERROR - 429 Client Error: Too Many Requests for url: https://nominatim.openstreetmap.org/search?q=Hopewell+city%2C+Virginia%2C+USA&format=jsonv2&addressdetails=1&limit=1\n",
      "Status code Unknown from https://nominatim.openstreetmap.org/search: ERROR - HTTPSConnectionPool(host='nominatim.openstreetmap.org', port=443): Max retries exceeded with url: /search?q=Mineral+County%2C+Colorado%2C+USA&format=jsonv2&addressdetails=1&limit=1 (Caused by ConnectTimeoutError(<urllib3.connection.VerifiedHTTPSConnection object at 0x7f7084905898>, 'Connection to nominatim.openstreetmap.org timed out. (connect timeout=5.0)'))\n",
      "Status code 429 from https://nominatim.openstreetmap.org/search: ERROR - 429 Client Error: Too Many Requests for url: https://nominatim.openstreetmap.org/search?q=Lexington+city%2C+Virginia%2C+USA&format=jsonv2&addressdetails=1&limit=1\n",
      "Status code 429 from https://nominatim.openstreetmap.org/search: ERROR - 429 Client Error: Too Many Requests for url: https://nominatim.openstreetmap.org/search?q=Moffat+County%2C+Colorado%2C+USA&format=jsonv2&addressdetails=1&limit=1\n",
      "Status code 429 from https://nominatim.openstreetmap.org/search: ERROR - 429 Client Error: Too Many Requests for url: https://nominatim.openstreetmap.org/search?q=Montezuma+County%2C+Colorado%2C+USA&format=jsonv2&addressdetails=1&limit=1\n",
      "Status code 429 from https://nominatim.openstreetmap.org/search: ERROR - 429 Client Error: Too Many Requests for url: https://nominatim.openstreetmap.org/search?q=Montrose+County%2C+Colorado%2C+USA&format=jsonv2&addressdetails=1&limit=1\n",
      "Status code 429 from https://nominatim.openstreetmap.org/search: ERROR - 429 Client Error: Too Many Requests for url: https://nominatim.openstreetmap.org/search?q=Morgan+County%2C+Colorado%2C+USA&format=jsonv2&addressdetails=1&limit=1\n",
      "Status code 429 from https://nominatim.openstreetmap.org/search: ERROR - 429 Client Error: Too Many Requests for url: https://nominatim.openstreetmap.org/search?q=Harrison+County%2C+Iowa%2C+USA&format=jsonv2&addressdetails=1&limit=1\n",
      "Status code 429 from https://nominatim.openstreetmap.org/search: ERROR - 429 Client Error: Too Many Requests for url: https://nominatim.openstreetmap.org/search?q=Otero+County%2C+Colorado%2C+USA&format=jsonv2&addressdetails=1&limit=1\n",
      "Status code 429 from https://nominatim.openstreetmap.org/search: ERROR - 429 Client Error: Too Many Requests for url: https://nominatim.openstreetmap.org/search?q=Henry+County%2C+Iowa%2C+USA&format=jsonv2&addressdetails=1&limit=1\n",
      "Status code 429 from https://nominatim.openstreetmap.org/search: ERROR - 429 Client Error: Too Many Requests for url: https://nominatim.openstreetmap.org/search?q=Howard+County%2C+Iowa%2C+USA&format=jsonv2&addressdetails=1&limit=1\n",
      "Status code 429 from https://nominatim.openstreetmap.org/search: ERROR - 429 Client Error: Too Many Requests for url: https://nominatim.openstreetmap.org/search?q=Humboldt+County%2C+Iowa%2C+USA&format=jsonv2&addressdetails=1&limit=1\n",
      "Status code 429 from https://nominatim.openstreetmap.org/search: ERROR - 429 Client Error: Too Many Requests for url: https://nominatim.openstreetmap.org/search?q=Ida+County%2C+Iowa%2C+USA&format=jsonv2&addressdetails=1&limit=1\n",
      "Status code Unknown from https://nominatim.openstreetmap.org/search: ERROR - HTTPSConnectionPool(host='nominatim.openstreetmap.org', port=443): Max retries exceeded with url: /search?q=Torrance+County%2C+New+Mexico%2C+USA&format=jsonv2&addressdetails=1&limit=1 (Caused by ConnectTimeoutError(<urllib3.connection.VerifiedHTTPSConnection object at 0x7f70847a7cf8>, 'Connection to nominatim.openstreetmap.org timed out. (connect timeout=5.0)'))\n",
      "Status code Unknown from https://nominatim.openstreetmap.org/search: ERROR - HTTPSConnectionPool(host='nominatim.openstreetmap.org', port=443): Max retries exceeded with url: /search?q=Harding+County%2C+South+Dakota%2C+USA&format=jsonv2&addressdetails=1&limit=1 (Caused by ConnectTimeoutError(<urllib3.connection.VerifiedHTTPSConnection object at 0x7f708486e748>, 'Connection to nominatim.openstreetmap.org timed out. (connect timeout=5.0)'))\n",
      "Status code 429 from https://nominatim.openstreetmap.org/search: ERROR - 429 Client Error: Too Many Requests for url: https://nominatim.openstreetmap.org/search?q=Iowa+County%2C+Iowa%2C+USA&format=jsonv2&addressdetails=1&limit=1\n",
      "Status code 429 from https://nominatim.openstreetmap.org/search: ERROR - 429 Client Error: Too Many Requests for url: https://nominatim.openstreetmap.org/search?q=Union+County%2C+New+Mexico%2C+USA&format=jsonv2&addressdetails=1&limit=1\n",
      "Status code 429 from https://nominatim.openstreetmap.org/search: ERROR - 429 Client Error: Too Many Requests for url: https://nominatim.openstreetmap.org/search?q=Jackson+County%2C+Iowa%2C+USA&format=jsonv2&addressdetails=1&limit=1\n",
      "Status code Unknown from https://nominatim.openstreetmap.org/search: ERROR - HTTPSConnectionPool(host='nominatim.openstreetmap.org', port=443): Max retries exceeded with url: /search?q=Crow+Wing+County%2C+Minnesota%2C+USA&format=jsonv2&addressdetails=1&limit=1 (Caused by ConnectTimeoutError(<urllib3.connection.VerifiedHTTPSConnection object at 0x7f7085edfeb8>, 'Connection to nominatim.openstreetmap.org timed out. (connect timeout=5.0)'))\n",
      "Status code 429 from https://nominatim.openstreetmap.org/search: ERROR - 429 Client Error: Too Many Requests for url: https://nominatim.openstreetmap.org/search?q=Jasper+County%2C+Iowa%2C+USA&format=jsonv2&addressdetails=1&limit=1\n",
      "Status code 429 from https://nominatim.openstreetmap.org/search: ERROR - 429 Client Error: Too Many Requests for url: https://nominatim.openstreetmap.org/search?q=Valencia+County%2C+New+Mexico%2C+USA&format=jsonv2&addressdetails=1&limit=1\n",
      "Status code 429 from https://nominatim.openstreetmap.org/search: ERROR - 429 Client Error: Too Many Requests for url: https://nominatim.openstreetmap.org/search?q=Albany+County%2C+New+York%2C+USA&format=jsonv2&addressdetails=1&limit=1\n",
      "Status code 429 from https://nominatim.openstreetmap.org/search: ERROR - 429 Client Error: Too Many Requests for url: https://nominatim.openstreetmap.org/search?q=Jefferson+County%2C+Iowa%2C+USA&format=jsonv2&addressdetails=1&limit=1\n",
      "Status code 429 from https://nominatim.openstreetmap.org/search: ERROR - 429 Client Error: Too Many Requests for url: https://nominatim.openstreetmap.org/search?q=Allegany+County%2C+New+York%2C+USA&format=jsonv2&addressdetails=1&limit=1\n",
      "Status code 429 from https://nominatim.openstreetmap.org/search: ERROR - 429 Client Error: Too Many Requests for url: https://nominatim.openstreetmap.org/search?q=Johnson+County%2C+Iowa%2C+USA&format=jsonv2&addressdetails=1&limit=1\n",
      "Status code Unknown from https://nominatim.openstreetmap.org/search: ERROR - HTTPSConnectionPool(host='nominatim.openstreetmap.org', port=443): Max retries exceeded with url: /search?q=Lynchburg+city%2C+Virginia%2C+USA&format=jsonv2&addressdetails=1&limit=1 (Caused by ConnectTimeoutError(<urllib3.connection.VerifiedHTTPSConnection object at 0x7f7084698a20>, 'Connection to nominatim.openstreetmap.org timed out. (connect timeout=5.0)'))\n",
      "Status code 429 from https://nominatim.openstreetmap.org/search: ERROR - 429 Client Error: Too Many Requests for url: https://nominatim.openstreetmap.org/search?q=Jones+County%2C+Iowa%2C+USA&format=jsonv2&addressdetails=1&limit=1\n",
      "Status code 429 from https://nominatim.openstreetmap.org/search: ERROR - 429 Client Error: Too Many Requests for url: https://nominatim.openstreetmap.org/search?q=Bronx+County%2C+New+York%2C+USA&format=jsonv2&addressdetails=1&limit=1\n",
      "Status code 429 from https://nominatim.openstreetmap.org/search: ERROR - 429 Client Error: Too Many Requests for url: https://nominatim.openstreetmap.org/search?q=Keokuk+County%2C+Iowa%2C+USA&format=jsonv2&addressdetails=1&limit=1\n",
      "Status code 429 from https://nominatim.openstreetmap.org/search: ERROR - 429 Client Error: Too Many Requests for url: https://nominatim.openstreetmap.org/search?q=Broome+County%2C+New+York%2C+USA&format=jsonv2&addressdetails=1&limit=1\n",
      "Status code 429 from https://nominatim.openstreetmap.org/search: ERROR - 429 Client Error: Too Many Requests for url: https://nominatim.openstreetmap.org/search?q=Kossuth+County%2C+Iowa%2C+USA&format=jsonv2&addressdetails=1&limit=1\n"
     ]
    },
    {
     "name": "stderr",
     "output_type": "stream",
     "text": [
      "Status code Unknown from https://nominatim.openstreetmap.org/search: ERROR - HTTPSConnectionPool(host='nominatim.openstreetmap.org', port=443): Max retries exceeded with url: /search?q=Ouray+County%2C+Colorado%2C+USA&format=jsonv2&addressdetails=1&limit=1 (Caused by ConnectTimeoutError(<urllib3.connection.VerifiedHTTPSConnection object at 0x7f7084960e80>, 'Connection to nominatim.openstreetmap.org timed out. (connect timeout=5.0)'))\n",
      "Status code 429 from https://nominatim.openstreetmap.org/search: ERROR - 429 Client Error: Too Many Requests for url: https://nominatim.openstreetmap.org/search?q=Cattaraugus+County%2C+New+York%2C+USA&format=jsonv2&addressdetails=1&limit=1\n",
      "Status code 429 from https://nominatim.openstreetmap.org/search: ERROR - 429 Client Error: Too Many Requests for url: https://nominatim.openstreetmap.org/search?q=Park+County%2C+Colorado%2C+USA&format=jsonv2&addressdetails=1&limit=1\n",
      "Status code 429 from https://nominatim.openstreetmap.org/search: ERROR - 429 Client Error: Too Many Requests for url: https://nominatim.openstreetmap.org/search?q=Phillips+County%2C+Colorado%2C+USA&format=jsonv2&addressdetails=1&limit=1\n",
      "Status code 429 from https://nominatim.openstreetmap.org/search: ERROR - 429 Client Error: Too Many Requests for url: https://nominatim.openstreetmap.org/search?q=Cayuga+County%2C+New+York%2C+USA&format=jsonv2&addressdetails=1&limit=1\n",
      "Status code 429 from https://nominatim.openstreetmap.org/search: ERROR - 429 Client Error: Too Many Requests for url: https://nominatim.openstreetmap.org/search?q=Chautauqua+County%2C+New+York%2C+USA&format=jsonv2&addressdetails=1&limit=1\n",
      "Status code Unknown from https://nominatim.openstreetmap.org/search: ERROR - HTTPSConnectionPool(host='nominatim.openstreetmap.org', port=443): Max retries exceeded with url: /search?q=Hughes+County%2C+South+Dakota%2C+USA&format=jsonv2&addressdetails=1&limit=1 (Caused by ConnectTimeoutError(<urllib3.connection.VerifiedHTTPSConnection object at 0x7f70847aa358>, 'Connection to nominatim.openstreetmap.org timed out. (connect timeout=5.0)'))\n",
      "Status code 429 from https://nominatim.openstreetmap.org/search: ERROR - 429 Client Error: Too Many Requests for url: https://nominatim.openstreetmap.org/search?q=Chemung+County%2C+New+York%2C+USA&format=jsonv2&addressdetails=1&limit=1\n",
      "Status code 429 from https://nominatim.openstreetmap.org/search: ERROR - 429 Client Error: Too Many Requests for url: https://nominatim.openstreetmap.org/search?q=Hutchinson+County%2C+South+Dakota%2C+USA&format=jsonv2&addressdetails=1&limit=1\n",
      "Status code Unknown from https://nominatim.openstreetmap.org/search: ERROR - HTTPSConnectionPool(host='nominatim.openstreetmap.org', port=443): Max retries exceeded with url: /search?q=Dakota+County%2C+Minnesota%2C+USA&format=jsonv2&addressdetails=1&limit=1 (Caused by ConnectTimeoutError(<urllib3.connection.VerifiedHTTPSConnection object at 0x7f7084905198>, 'Connection to nominatim.openstreetmap.org timed out. (connect timeout=5.0)'))\n",
      "Status code 429 from https://nominatim.openstreetmap.org/search: ERROR - 429 Client Error: Too Many Requests for url: https://nominatim.openstreetmap.org/search?q=Hyde+County%2C+South+Dakota%2C+USA&format=jsonv2&addressdetails=1&limit=1\n",
      "Status code 429 from https://nominatim.openstreetmap.org/search: ERROR - 429 Client Error: Too Many Requests for url: https://nominatim.openstreetmap.org/search?q=Dodge+County%2C+Minnesota%2C+USA&format=jsonv2&addressdetails=1&limit=1\n",
      "Status code 429 from https://nominatim.openstreetmap.org/search: ERROR - 429 Client Error: Too Many Requests for url: https://nominatim.openstreetmap.org/search?q=Douglas+County%2C+Minnesota%2C+USA&format=jsonv2&addressdetails=1&limit=1\n",
      "Status code 429 from https://nominatim.openstreetmap.org/search: ERROR - 429 Client Error: Too Many Requests for url: https://nominatim.openstreetmap.org/search?q=Jackson+County%2C+South+Dakota%2C+USA&format=jsonv2&addressdetails=1&limit=1\n",
      "Status code 429 from https://nominatim.openstreetmap.org/search: ERROR - 429 Client Error: Too Many Requests for url: https://nominatim.openstreetmap.org/search?q=Jerauld+County%2C+South+Dakota%2C+USA&format=jsonv2&addressdetails=1&limit=1\n",
      "Status code Unknown from https://nominatim.openstreetmap.org/search: ERROR - HTTPSConnectionPool(host='nominatim.openstreetmap.org', port=443): Max retries exceeded with url: /search?q=Manassas+city%2C+Virginia%2C+USA&format=jsonv2&addressdetails=1&limit=1 (Caused by ConnectTimeoutError(<urllib3.connection.VerifiedHTTPSConnection object at 0x7f7084967860>, 'Connection to nominatim.openstreetmap.org timed out. (connect timeout=5.0)'))\n",
      "Status code 429 from https://nominatim.openstreetmap.org/search: ERROR - 429 Client Error: Too Many Requests for url: https://nominatim.openstreetmap.org/search?q=Chenango+County%2C+New+York%2C+USA&format=jsonv2&addressdetails=1&limit=1\n",
      "Status code 429 from https://nominatim.openstreetmap.org/search: ERROR - 429 Client Error: Too Many Requests for url: https://nominatim.openstreetmap.org/search?q=Jones+County%2C+South+Dakota%2C+USA&format=jsonv2&addressdetails=1&limit=1\n",
      "Status code 429 from https://nominatim.openstreetmap.org/search: ERROR - 429 Client Error: Too Many Requests for url: https://nominatim.openstreetmap.org/search?q=Manassas+Park+city%2C+Virginia%2C+USA&format=jsonv2&addressdetails=1&limit=1\n",
      "Status code 429 from https://nominatim.openstreetmap.org/search: ERROR - 429 Client Error: Too Many Requests for url: https://nominatim.openstreetmap.org/search?q=Martinsville+city%2C+Virginia%2C+USA&format=jsonv2&addressdetails=1&limit=1\n",
      "Status code 429 from https://nominatim.openstreetmap.org/search: ERROR - 429 Client Error: Too Many Requests for url: https://nominatim.openstreetmap.org/search?q=Clinton+County%2C+New+York%2C+USA&format=jsonv2&addressdetails=1&limit=1\n",
      "Status code 429 from https://nominatim.openstreetmap.org/search: ERROR - 429 Client Error: Too Many Requests for url: https://nominatim.openstreetmap.org/search?q=Columbia+County%2C+New+York%2C+USA&format=jsonv2&addressdetails=1&limit=1\n",
      "Status code Unknown from https://nominatim.openstreetmap.org/search: ERROR - HTTPSConnectionPool(host='nominatim.openstreetmap.org', port=443): Max retries exceeded with url: /search?q=Lee+County%2C+Iowa%2C+USA&format=jsonv2&addressdetails=1&limit=1 (Caused by ConnectTimeoutError(<urllib3.connection.VerifiedHTTPSConnection object at 0x7f7085de6e48>, 'Connection to nominatim.openstreetmap.org timed out. (connect timeout=5.0)'))\n",
      "Status code 429 from https://nominatim.openstreetmap.org/search: ERROR - 429 Client Error: Too Many Requests for url: https://nominatim.openstreetmap.org/search?q=Newport+News+city%2C+Virginia%2C+USA&format=jsonv2&addressdetails=1&limit=1\n",
      "Status code 429 from https://nominatim.openstreetmap.org/search: ERROR - 429 Client Error: Too Many Requests for url: https://nominatim.openstreetmap.org/search?q=Linn+County%2C+Iowa%2C+USA&format=jsonv2&addressdetails=1&limit=1\n",
      "Status code 429 from https://nominatim.openstreetmap.org/search: ERROR - 429 Client Error: Too Many Requests for url: https://nominatim.openstreetmap.org/search?q=Norfolk+city%2C+Virginia%2C+USA&format=jsonv2&addressdetails=1&limit=1\n",
      "Status code 429 from https://nominatim.openstreetmap.org/search: ERROR - 429 Client Error: Too Many Requests for url: https://nominatim.openstreetmap.org/search?q=Louisa+County%2C+Iowa%2C+USA&format=jsonv2&addressdetails=1&limit=1\n",
      "Status code Unknown from https://nominatim.openstreetmap.org/search: ERROR - HTTPSConnectionPool(host='nominatim.openstreetmap.org', port=443): Max retries exceeded with url: /search?q=Pitkin+County%2C+Colorado%2C+USA&format=jsonv2&addressdetails=1&limit=1 (Caused by ConnectTimeoutError(<urllib3.connection.VerifiedHTTPSConnection object at 0x7f7085ce5c50>, 'Connection to nominatim.openstreetmap.org timed out. (connect timeout=5.0)'))\n",
      "Status code 429 from https://nominatim.openstreetmap.org/search: ERROR - 429 Client Error: Too Many Requests for url: https://nominatim.openstreetmap.org/search?q=Lucas+County%2C+Iowa%2C+USA&format=jsonv2&addressdetails=1&limit=1\n",
      "Status code 429 from https://nominatim.openstreetmap.org/search: ERROR - 429 Client Error: Too Many Requests for url: https://nominatim.openstreetmap.org/search?q=Norton+city%2C+Virginia%2C+USA&format=jsonv2&addressdetails=1&limit=1\n"
     ]
    },
    {
     "name": "stderr",
     "output_type": "stream",
     "text": [
      "Status code 429 from https://nominatim.openstreetmap.org/search: ERROR - 429 Client Error: Too Many Requests for url: https://nominatim.openstreetmap.org/search?q=Lyon+County%2C+Iowa%2C+USA&format=jsonv2&addressdetails=1&limit=1\n",
      "Status code 429 from https://nominatim.openstreetmap.org/search: ERROR - 429 Client Error: Too Many Requests for url: https://nominatim.openstreetmap.org/search?q=Petersburg+city%2C+Virginia%2C+USA&format=jsonv2&addressdetails=1&limit=1\n",
      "Status code 429 from https://nominatim.openstreetmap.org/search: ERROR - 429 Client Error: Too Many Requests for url: https://nominatim.openstreetmap.org/search?q=Madison+County%2C+Iowa%2C+USA&format=jsonv2&addressdetails=1&limit=1\n",
      "Status code 429 from https://nominatim.openstreetmap.org/search: ERROR - 429 Client Error: Too Many Requests for url: https://nominatim.openstreetmap.org/search?q=Poquoson+city%2C+Virginia%2C+USA&format=jsonv2&addressdetails=1&limit=1\n",
      "Status code Unknown from https://nominatim.openstreetmap.org/search: ERROR - HTTPSConnectionPool(host='nominatim.openstreetmap.org', port=443): Max retries exceeded with url: /search?q=Faribault+County%2C+Minnesota%2C+USA&format=jsonv2&addressdetails=1&limit=1 (Caused by ConnectTimeoutError(<urllib3.connection.VerifiedHTTPSConnection object at 0x7f708486e7f0>, 'Connection to nominatim.openstreetmap.org timed out. (connect timeout=5.0)'))\n",
      "Status code 429 from https://nominatim.openstreetmap.org/search: ERROR - 429 Client Error: Too Many Requests for url: https://nominatim.openstreetmap.org/search?q=Mahaska+County%2C+Iowa%2C+USA&format=jsonv2&addressdetails=1&limit=1\n",
      "Status code 429 from https://nominatim.openstreetmap.org/search: ERROR - 429 Client Error: Too Many Requests for url: https://nominatim.openstreetmap.org/search?q=Portsmouth+city%2C+Virginia%2C+USA&format=jsonv2&addressdetails=1&limit=1\n",
      "Status code 429 from https://nominatim.openstreetmap.org/search: ERROR - 429 Client Error: Too Many Requests for url: https://nominatim.openstreetmap.org/search?q=Marion+County%2C+Iowa%2C+USA&format=jsonv2&addressdetails=1&limit=1\n",
      "Status code 429 from https://nominatim.openstreetmap.org/search: ERROR - 429 Client Error: Too Many Requests for url: https://nominatim.openstreetmap.org/search?q=Radford+city%2C+Virginia%2C+USA&format=jsonv2&addressdetails=1&limit=1\n",
      "Status code Unknown from https://nominatim.openstreetmap.org/search: ERROR - HTTPSConnectionPool(host='nominatim.openstreetmap.org', port=443): Max retries exceeded with url: /search?q=Kingsbury+County%2C+South+Dakota%2C+USA&format=jsonv2&addressdetails=1&limit=1 (Caused by ConnectTimeoutError(<urllib3.connection.VerifiedHTTPSConnection object at 0x7f70847bbda0>, 'Connection to nominatim.openstreetmap.org timed out. (connect timeout=5.0)'))\n",
      "Status code 429 from https://nominatim.openstreetmap.org/search: ERROR - 429 Client Error: Too Many Requests for url: https://nominatim.openstreetmap.org/search?q=Richmond+city%2C+Virginia%2C+USA&format=jsonv2&addressdetails=1&limit=1\n",
      "Status code 429 from https://nominatim.openstreetmap.org/search: ERROR - 429 Client Error: Too Many Requests for url: https://nominatim.openstreetmap.org/search?q=Marshall+County%2C+Iowa%2C+USA&format=jsonv2&addressdetails=1&limit=1\n",
      "Status code 429 from https://nominatim.openstreetmap.org/search: ERROR - 429 Client Error: Too Many Requests for url: https://nominatim.openstreetmap.org/search?q=Mills+County%2C+Iowa%2C+USA&format=jsonv2&addressdetails=1&limit=1\n",
      "Status code Unknown from https://nominatim.openstreetmap.org/search: ERROR - HTTPSConnectionPool(host='nominatim.openstreetmap.org', port=443): Max retries exceeded with url: /search?q=Cortland+County%2C+New+York%2C+USA&format=jsonv2&addressdetails=1&limit=1 (Caused by ConnectTimeoutError(<urllib3.connection.VerifiedHTTPSConnection object at 0x7f70849057b8>, 'Connection to nominatim.openstreetmap.org timed out. (connect timeout=5.0)'))\n",
      "Status code 429 from https://nominatim.openstreetmap.org/search: ERROR - 429 Client Error: Too Many Requests for url: https://nominatim.openstreetmap.org/search?q=Roanoke+city%2C+Virginia%2C+USA&format=jsonv2&addressdetails=1&limit=1\n",
      "Status code 429 from https://nominatim.openstreetmap.org/search: ERROR - 429 Client Error: Too Many Requests for url: https://nominatim.openstreetmap.org/search?q=Mitchell+County%2C+Iowa%2C+USA&format=jsonv2&addressdetails=1&limit=1\n",
      "Status code 429 from https://nominatim.openstreetmap.org/search: ERROR - 429 Client Error: Too Many Requests for url: https://nominatim.openstreetmap.org/search?q=Delaware+County%2C+New+York%2C+USA&format=jsonv2&addressdetails=1&limit=1\n",
      "Status code 429 from https://nominatim.openstreetmap.org/search: ERROR - 429 Client Error: Too Many Requests for url: https://nominatim.openstreetmap.org/search?q=Dutchess+County%2C+New+York%2C+USA&format=jsonv2&addressdetails=1&limit=1\n",
      "Status code 429 from https://nominatim.openstreetmap.org/search: ERROR - 429 Client Error: Too Many Requests for url: https://nominatim.openstreetmap.org/search?q=Salem+city%2C+Virginia%2C+USA&format=jsonv2&addressdetails=1&limit=1\n",
      "Status code Unknown from https://nominatim.openstreetmap.org/search: ERROR - HTTPSConnectionPool(host='nominatim.openstreetmap.org', port=443): Max retries exceeded with url: /search?q=Prowers+County%2C+Colorado%2C+USA&format=jsonv2&addressdetails=1&limit=1 (Caused by ConnectTimeoutError(<urllib3.connection.VerifiedHTTPSConnection object at 0x7f70847b6c50>, 'Connection to nominatim.openstreetmap.org timed out. (connect timeout=5.0)'))\n",
      "Status code 429 from https://nominatim.openstreetmap.org/search: ERROR - 429 Client Error: Too Many Requests for url: https://nominatim.openstreetmap.org/search?q=Staunton+city%2C+Virginia%2C+USA&format=jsonv2&addressdetails=1&limit=1\n",
      "Status code 429 from https://nominatim.openstreetmap.org/search: ERROR - 429 Client Error: Too Many Requests for url: https://nominatim.openstreetmap.org/search?q=Pueblo+County%2C+Colorado%2C+USA&format=jsonv2&addressdetails=1&limit=1\n",
      "Status code 429 from https://nominatim.openstreetmap.org/search: ERROR - 429 Client Error: Too Many Requests for url: https://nominatim.openstreetmap.org/search?q=Rio+Blanco+County%2C+Colorado%2C+USA&format=jsonv2&addressdetails=1&limit=1\n",
      "Status code 429 from https://nominatim.openstreetmap.org/search: ERROR - 429 Client Error: Too Many Requests for url: https://nominatim.openstreetmap.org/search?q=Monona+County%2C+Iowa%2C+USA&format=jsonv2&addressdetails=1&limit=1\n",
      "Status code 429 from https://nominatim.openstreetmap.org/search: ERROR - 429 Client Error: Too Many Requests for url: https://nominatim.openstreetmap.org/search?q=Monroe+County%2C+Iowa%2C+USA&format=jsonv2&addressdetails=1&limit=1\n",
      "Status code 429 from https://nominatim.openstreetmap.org/search: ERROR - 429 Client Error: Too Many Requests for url: https://nominatim.openstreetmap.org/search?q=Erie+County%2C+New+York%2C+USA&format=jsonv2&addressdetails=1&limit=1\n",
      "Status code 429 from https://nominatim.openstreetmap.org/search: ERROR - 429 Client Error: Too Many Requests for url: https://nominatim.openstreetmap.org/search?q=Montgomery+County%2C+Iowa%2C+USA&format=jsonv2&addressdetails=1&limit=1\n",
      "Status code 429 from https://nominatim.openstreetmap.org/search: ERROR - 429 Client Error: Too Many Requests for url: https://nominatim.openstreetmap.org/search?q=Essex+County%2C+New+York%2C+USA&format=jsonv2&addressdetails=1&limit=1\n",
      "Status code Unknown from https://nominatim.openstreetmap.org/search: ERROR - HTTPSConnectionPool(host='nominatim.openstreetmap.org', port=443): Max retries exceeded with url: /search?q=Fillmore+County%2C+Minnesota%2C+USA&format=jsonv2&addressdetails=1&limit=1 (Caused by ConnectTimeoutError(<urllib3.connection.VerifiedHTTPSConnection object at 0x7f70847a6550>, 'Connection to nominatim.openstreetmap.org timed out. (connect timeout=5.0)'))\n",
      "Status code 429 from https://nominatim.openstreetmap.org/search: ERROR - 429 Client Error: Too Many Requests for url: https://nominatim.openstreetmap.org/search?q=Suffolk+city%2C+Virginia%2C+USA&format=jsonv2&addressdetails=1&limit=1\n",
      "Status code 429 from https://nominatim.openstreetmap.org/search: ERROR - 429 Client Error: Too Many Requests for url: https://nominatim.openstreetmap.org/search?q=Freeborn+County%2C+Minnesota%2C+USA&format=jsonv2&addressdetails=1&limit=1\n"
     ]
    },
    {
     "name": "stderr",
     "output_type": "stream",
     "text": [
      "Status code 429 from https://nominatim.openstreetmap.org/search: ERROR - 429 Client Error: Too Many Requests for url: https://nominatim.openstreetmap.org/search?q=Goodhue+County%2C+Minnesota%2C+USA&format=jsonv2&addressdetails=1&limit=1\n",
      "Status code 429 from https://nominatim.openstreetmap.org/search: ERROR - 429 Client Error: Too Many Requests for url: https://nominatim.openstreetmap.org/search?q=Virginia+Beach+city%2C+Virginia%2C+USA&format=jsonv2&addressdetails=1&limit=1\n",
      "Status code Unknown from https://nominatim.openstreetmap.org/search: ERROR - HTTPSConnectionPool(host='nominatim.openstreetmap.org', port=443): Max retries exceeded with url: /search?q=Lake+County%2C+South+Dakota%2C+USA&format=jsonv2&addressdetails=1&limit=1 (Caused by ConnectTimeoutError(<urllib3.connection.VerifiedHTTPSConnection object at 0x7f70847aa0b8>, 'Connection to nominatim.openstreetmap.org timed out. (connect timeout=5.0)'))\n",
      "Status code 429 from https://nominatim.openstreetmap.org/search: ERROR - 429 Client Error: Too Many Requests for url: https://nominatim.openstreetmap.org/search?q=Waynesboro+city%2C+Virginia%2C+USA&format=jsonv2&addressdetails=1&limit=1\n",
      "Status code 429 from https://nominatim.openstreetmap.org/search: ERROR - 429 Client Error: Too Many Requests for url: https://nominatim.openstreetmap.org/search?q=Lawrence+County%2C+South+Dakota%2C+USA&format=jsonv2&addressdetails=1&limit=1\n",
      "Status code 429 from https://nominatim.openstreetmap.org/search: ERROR - 429 Client Error: Too Many Requests for url: https://nominatim.openstreetmap.org/search?q=Williamsburg+city%2C+Virginia%2C+USA&format=jsonv2&addressdetails=1&limit=1\n",
      "Status code 429 from https://nominatim.openstreetmap.org/search: ERROR - 429 Client Error: Too Many Requests for url: https://nominatim.openstreetmap.org/search?q=Winchester+city%2C+Virginia%2C+USA&format=jsonv2&addressdetails=1&limit=1\n",
      "Status code 429 from https://nominatim.openstreetmap.org/search: ERROR - 429 Client Error: Too Many Requests for url: https://nominatim.openstreetmap.org/search?q=Lincoln+County%2C+South+Dakota%2C+USA&format=jsonv2&addressdetails=1&limit=1\n",
      "Status code 429 from https://nominatim.openstreetmap.org/search: ERROR - 429 Client Error: Too Many Requests for url: https://nominatim.openstreetmap.org/search?q=Adams+County%2C+Washington%2C+USA&format=jsonv2&addressdetails=1&limit=1\n",
      "Status code 429 from https://nominatim.openstreetmap.org/search: ERROR - 429 Client Error: Too Many Requests for url: https://nominatim.openstreetmap.org/search?q=Lyman+County%2C+South+Dakota%2C+USA&format=jsonv2&addressdetails=1&limit=1\n",
      "Status code 429 from https://nominatim.openstreetmap.org/search: ERROR - 429 Client Error: Too Many Requests for url: https://nominatim.openstreetmap.org/search?q=Asotin+County%2C+Washington%2C+USA&format=jsonv2&addressdetails=1&limit=1\n",
      "Status code 429 from https://nominatim.openstreetmap.org/search: ERROR - 429 Client Error: Too Many Requests for url: https://nominatim.openstreetmap.org/search?q=McCook+County%2C+South+Dakota%2C+USA&format=jsonv2&addressdetails=1&limit=1\n",
      "Status code Unknown from https://nominatim.openstreetmap.org/search: ERROR - HTTPSConnectionPool(host='nominatim.openstreetmap.org', port=443): Max retries exceeded with url: /search?q=Rio+Grande+County%2C+Colorado%2C+USA&format=jsonv2&addressdetails=1&limit=1 (Caused by ConnectTimeoutError(<urllib3.connection.VerifiedHTTPSConnection object at 0x7f70847b65c0>, 'Connection to nominatim.openstreetmap.org timed out. (connect timeout=5.0)'))\n",
      "Status code 429 from https://nominatim.openstreetmap.org/search: ERROR - 429 Client Error: Too Many Requests for url: https://nominatim.openstreetmap.org/search?q=Benton+County%2C+Washington%2C+USA&format=jsonv2&addressdetails=1&limit=1\n",
      "Status code 429 from https://nominatim.openstreetmap.org/search: ERROR - 429 Client Error: Too Many Requests for url: https://nominatim.openstreetmap.org/search?q=McPherson+County%2C+South+Dakota%2C+USA&format=jsonv2&addressdetails=1&limit=1\n",
      "Status code Unknown from https://nominatim.openstreetmap.org/search: ERROR - HTTPSConnectionPool(host='nominatim.openstreetmap.org', port=443): Max retries exceeded with url: /search?q=Muscatine+County%2C+Iowa%2C+USA&format=jsonv2&addressdetails=1&limit=1 (Caused by ConnectTimeoutError(<urllib3.connection.VerifiedHTTPSConnection object at 0x7f7085de6390>, 'Connection to nominatim.openstreetmap.org timed out. (connect timeout=5.0)'))\n",
      "Status code 429 from https://nominatim.openstreetmap.org/search: ERROR - 429 Client Error: Too Many Requests for url: https://nominatim.openstreetmap.org/search?q=Chelan+County%2C+Washington%2C+USA&format=jsonv2&addressdetails=1&limit=1\n",
      "Status code Unknown from https://nominatim.openstreetmap.org/search: ERROR - HTTPSConnectionPool(host='nominatim.openstreetmap.org', port=443): Max retries exceeded with url: /search?q=Franklin+County%2C+New+York%2C+USA&format=jsonv2&addressdetails=1&limit=1 (Caused by ConnectTimeoutError(<urllib3.connection.VerifiedHTTPSConnection object at 0x7f708486e940>, 'Connection to nominatim.openstreetmap.org timed out. (connect timeout=5.0)'))\n",
      "Status code 429 from https://nominatim.openstreetmap.org/search: ERROR - 429 Client Error: Too Many Requests for url: https://nominatim.openstreetmap.org/search?q=O%27Brien+County%2C+Iowa%2C+USA&format=jsonv2&addressdetails=1&limit=1\n",
      "Status code 429 from https://nominatim.openstreetmap.org/search: ERROR - 429 Client Error: Too Many Requests for url: https://nominatim.openstreetmap.org/search?q=Clallam+County%2C+Washington%2C+USA&format=jsonv2&addressdetails=1&limit=1\n",
      "Status code 429 from https://nominatim.openstreetmap.org/search: ERROR - 429 Client Error: Too Many Requests for url: https://nominatim.openstreetmap.org/search?q=Osceola+County%2C+Iowa%2C+USA&format=jsonv2&addressdetails=1&limit=1\n",
      "Status code 429 from https://nominatim.openstreetmap.org/search: ERROR - 429 Client Error: Too Many Requests for url: https://nominatim.openstreetmap.org/search?q=Page+County%2C+Iowa%2C+USA&format=jsonv2&addressdetails=1&limit=1\n",
      "Status code Unknown from https://nominatim.openstreetmap.org/search: ERROR - HTTPSConnectionPool(host='nominatim.openstreetmap.org', port=443): Max retries exceeded with url: /search?q=Grant+County%2C+Minnesota%2C+USA&format=jsonv2&addressdetails=1&limit=1 (Caused by ConnectTimeoutError(<urllib3.connection.VerifiedHTTPSConnection object at 0x7f70847a69e8>, 'Connection to nominatim.openstreetmap.org timed out. (connect timeout=5.0)'))\n",
      "Status code 429 from https://nominatim.openstreetmap.org/search: ERROR - 429 Client Error: Too Many Requests for url: https://nominatim.openstreetmap.org/search?q=Clark+County%2C+Washington%2C+USA&format=jsonv2&addressdetails=1&limit=1\n",
      "Status code 429 from https://nominatim.openstreetmap.org/search: ERROR - 429 Client Error: Too Many Requests for url: https://nominatim.openstreetmap.org/search?q=Columbia+County%2C+Washington%2C+USA&format=jsonv2&addressdetails=1&limit=1\n",
      "Status code 429 from https://nominatim.openstreetmap.org/search: ERROR - 429 Client Error: Too Many Requests for url: https://nominatim.openstreetmap.org/search?q=Palo+Alto+County%2C+Iowa%2C+USA&format=jsonv2&addressdetails=1&limit=1\n",
      "Status code 429 from https://nominatim.openstreetmap.org/search: ERROR - 429 Client Error: Too Many Requests for url: https://nominatim.openstreetmap.org/search?q=Cowlitz+County%2C+Washington%2C+USA&format=jsonv2&addressdetails=1&limit=1\n",
      "Status code 429 from https://nominatim.openstreetmap.org/search: ERROR - 429 Client Error: Too Many Requests for url: https://nominatim.openstreetmap.org/search?q=Plymouth+County%2C+Iowa%2C+USA&format=jsonv2&addressdetails=1&limit=1\n",
      "Status code 429 from https://nominatim.openstreetmap.org/search: ERROR - 429 Client Error: Too Many Requests for url: https://nominatim.openstreetmap.org/search?q=Pocahontas+County%2C+Iowa%2C+USA&format=jsonv2&addressdetails=1&limit=1\n",
      "Status code 429 from https://nominatim.openstreetmap.org/search: ERROR - 429 Client Error: Too Many Requests for url: https://nominatim.openstreetmap.org/search?q=Polk+County%2C+Iowa%2C+USA&format=jsonv2&addressdetails=1&limit=1\n",
      "Status code 429 from https://nominatim.openstreetmap.org/search: ERROR - 429 Client Error: Too Many Requests for url: https://nominatim.openstreetmap.org/search?q=Pottawattamie+County%2C+Iowa%2C+USA&format=jsonv2&addressdetails=1&limit=1\n"
     ]
    },
    {
     "name": "stderr",
     "output_type": "stream",
     "text": [
      "Status code 429 from https://nominatim.openstreetmap.org/search: ERROR - 429 Client Error: Too Many Requests for url: https://nominatim.openstreetmap.org/search?q=Douglas+County%2C+Washington%2C+USA&format=jsonv2&addressdetails=1&limit=1\n",
      "Status code Unknown from https://nominatim.openstreetmap.org/search: ERROR - HTTPSConnectionPool(host='nominatim.openstreetmap.org', port=443): Max retries exceeded with url: /search?q=Routt+County%2C+Colorado%2C+USA&format=jsonv2&addressdetails=1&limit=1 (Caused by ConnectTimeoutError(<urllib3.connection.VerifiedHTTPSConnection object at 0x7f7085ce5dd8>, 'Connection to nominatim.openstreetmap.org timed out. (connect timeout=5.0)'))\n",
      "Status code 429 from https://nominatim.openstreetmap.org/search: ERROR - 429 Client Error: Too Many Requests for url: https://nominatim.openstreetmap.org/search?q=Ferry+County%2C+Washington%2C+USA&format=jsonv2&addressdetails=1&limit=1\n",
      "Status code 429 from https://nominatim.openstreetmap.org/search: ERROR - 429 Client Error: Too Many Requests for url: https://nominatim.openstreetmap.org/search?q=Saguache+County%2C+Colorado%2C+USA&format=jsonv2&addressdetails=1&limit=1\n",
      "Status code Unknown from https://nominatim.openstreetmap.org/search: ERROR - HTTPSConnectionPool(host='nominatim.openstreetmap.org', port=443): Max retries exceeded with url: /search?q=Marshall+County%2C+South+Dakota%2C+USA&format=jsonv2&addressdetails=1&limit=1 (Caused by ConnectTimeoutError(<urllib3.connection.VerifiedHTTPSConnection object at 0x7f70847aa1d0>, 'Connection to nominatim.openstreetmap.org timed out. (connect timeout=5.0)'))\n",
      "Status code 429 from https://nominatim.openstreetmap.org/search: ERROR - 429 Client Error: Too Many Requests for url: https://nominatim.openstreetmap.org/search?q=San+Juan+County%2C+Colorado%2C+USA&format=jsonv2&addressdetails=1&limit=1\n",
      "Status code 429 from https://nominatim.openstreetmap.org/search: ERROR - 429 Client Error: Too Many Requests for url: https://nominatim.openstreetmap.org/search?q=Meade+County%2C+South+Dakota%2C+USA&format=jsonv2&addressdetails=1&limit=1\n",
      "Status code Unknown from https://nominatim.openstreetmap.org/search: ERROR - HTTPSConnectionPool(host='nominatim.openstreetmap.org', port=443): Max retries exceeded with url: /search?q=Fulton+County%2C+New+York%2C+USA&format=jsonv2&addressdetails=1&limit=1 (Caused by ConnectTimeoutError(<urllib3.connection.VerifiedHTTPSConnection object at 0x7f70847a7898>, 'Connection to nominatim.openstreetmap.org timed out. (connect timeout=5.0)'))\n",
      "Status code 429 from https://nominatim.openstreetmap.org/search: ERROR - 429 Client Error: Too Many Requests for url: https://nominatim.openstreetmap.org/search?q=Mellette+County%2C+South+Dakota%2C+USA&format=jsonv2&addressdetails=1&limit=1\n",
      "Status code 429 from https://nominatim.openstreetmap.org/search: ERROR - 429 Client Error: Too Many Requests for url: https://nominatim.openstreetmap.org/search?q=Poweshiek+County%2C+Iowa%2C+USA&format=jsonv2&addressdetails=1&limit=1\n",
      "Status code 429 from https://nominatim.openstreetmap.org/search: ERROR - 429 Client Error: Too Many Requests for url: https://nominatim.openstreetmap.org/search?q=Ringgold+County%2C+Iowa%2C+USA&format=jsonv2&addressdetails=1&limit=1\n",
      "Status code 429 from https://nominatim.openstreetmap.org/search: ERROR - 429 Client Error: Too Many Requests for url: https://nominatim.openstreetmap.org/search?q=Franklin+County%2C+Washington%2C+USA&format=jsonv2&addressdetails=1&limit=1\n",
      "Status code Unknown from https://nominatim.openstreetmap.org/search: ERROR - HTTPSConnectionPool(host='nominatim.openstreetmap.org', port=443): Max retries exceeded with url: /search?q=Hennepin+County%2C+Minnesota%2C+USA&format=jsonv2&addressdetails=1&limit=1 (Caused by ConnectTimeoutError(<urllib3.connection.VerifiedHTTPSConnection object at 0x7f708486ebe0>, 'Connection to nominatim.openstreetmap.org timed out. (connect timeout=5.0)'))\n",
      "Status code 429 from https://nominatim.openstreetmap.org/search: ERROR - 429 Client Error: Too Many Requests for url: https://nominatim.openstreetmap.org/search?q=Sac+County%2C+Iowa%2C+USA&format=jsonv2&addressdetails=1&limit=1\n",
      "Status code 429 from https://nominatim.openstreetmap.org/search: ERROR - 429 Client Error: Too Many Requests for url: https://nominatim.openstreetmap.org/search?q=Garfield+County%2C+Washington%2C+USA&format=jsonv2&addressdetails=1&limit=1\n",
      "Status code 429 from https://nominatim.openstreetmap.org/search: ERROR - 429 Client Error: Too Many Requests for url: https://nominatim.openstreetmap.org/search?q=Grant+County%2C+Washington%2C+USA&format=jsonv2&addressdetails=1&limit=1\n",
      "Status code 429 from https://nominatim.openstreetmap.org/search: ERROR - 429 Client Error: Too Many Requests for url: https://nominatim.openstreetmap.org/search?q=Houston+County%2C+Minnesota%2C+USA&format=jsonv2&addressdetails=1&limit=1\n",
      "Status code 429 from https://nominatim.openstreetmap.org/search: ERROR - 429 Client Error: Too Many Requests for url: https://nominatim.openstreetmap.org/search?q=Hubbard+County%2C+Minnesota%2C+USA&format=jsonv2&addressdetails=1&limit=1\n",
      "Status code 429 from https://nominatim.openstreetmap.org/search: ERROR - 429 Client Error: Too Many Requests for url: https://nominatim.openstreetmap.org/search?q=Grays+Harbor+County%2C+Washington%2C+USA&format=jsonv2&addressdetails=1&limit=1\n",
      "Status code 429 from https://nominatim.openstreetmap.org/search: ERROR - 429 Client Error: Too Many Requests for url: https://nominatim.openstreetmap.org/search?q=Island+County%2C+Washington%2C+USA&format=jsonv2&addressdetails=1&limit=1\n",
      "Status code 429 from https://nominatim.openstreetmap.org/search: ERROR - 429 Client Error: Too Many Requests for url: https://nominatim.openstreetmap.org/search?q=Scott+County%2C+Iowa%2C+USA&format=jsonv2&addressdetails=1&limit=1\n",
      "Status code 429 from https://nominatim.openstreetmap.org/search: ERROR - 429 Client Error: Too Many Requests for url: https://nominatim.openstreetmap.org/search?q=Jefferson+County%2C+Washington%2C+USA&format=jsonv2&addressdetails=1&limit=1\n",
      "Status code 429 from https://nominatim.openstreetmap.org/search: ERROR - 429 Client Error: Too Many Requests for url: https://nominatim.openstreetmap.org/search?q=Shelby+County%2C+Iowa%2C+USA&format=jsonv2&addressdetails=1&limit=1\n",
      "Status code 429 from https://nominatim.openstreetmap.org/search: ERROR - 429 Client Error: Too Many Requests for url: https://nominatim.openstreetmap.org/search?q=Sioux+County%2C+Iowa%2C+USA&format=jsonv2&addressdetails=1&limit=1\n",
      "Status code 429 from https://nominatim.openstreetmap.org/search: ERROR - 429 Client Error: Too Many Requests for url: https://nominatim.openstreetmap.org/search?q=Story+County%2C+Iowa%2C+USA&format=jsonv2&addressdetails=1&limit=1\n",
      "Status code Unknown from https://nominatim.openstreetmap.org/search: ERROR - HTTPSConnectionPool(host='nominatim.openstreetmap.org', port=443): Max retries exceeded with url: /search?q=San+Miguel+County%2C+Colorado%2C+USA&format=jsonv2&addressdetails=1&limit=1 (Caused by ConnectTimeoutError(<urllib3.connection.VerifiedHTTPSConnection object at 0x7f7084698cf8>, 'Connection to nominatim.openstreetmap.org timed out. (connect timeout=5.0)'))\n",
      "Status code 429 from https://nominatim.openstreetmap.org/search: ERROR - 429 Client Error: Too Many Requests for url: https://nominatim.openstreetmap.org/search?q=Tama+County%2C+Iowa%2C+USA&format=jsonv2&addressdetails=1&limit=1\n",
      "Status code 429 from https://nominatim.openstreetmap.org/search: ERROR - 429 Client Error: Too Many Requests for url: https://nominatim.openstreetmap.org/search?q=Sedgwick+County%2C+Colorado%2C+USA&format=jsonv2&addressdetails=1&limit=1\n",
      "Status code 429 from https://nominatim.openstreetmap.org/search: ERROR - 429 Client Error: Too Many Requests for url: https://nominatim.openstreetmap.org/search?q=King+County%2C+Washington%2C+USA&format=jsonv2&addressdetails=1&limit=1\n",
      "Status code Unknown from https://nominatim.openstreetmap.org/search: ERROR - HTTPSConnectionPool(host='nominatim.openstreetmap.org', port=443): Max retries exceeded with url: /search?q=Genesee+County%2C+New+York%2C+USA&format=jsonv2&addressdetails=1&limit=1 (Caused by ConnectTimeoutError(<urllib3.connection.VerifiedHTTPSConnection object at 0x7f7084967cf8>, 'Connection to nominatim.openstreetmap.org timed out. (connect timeout=5.0)'))\n"
     ]
    },
    {
     "name": "stderr",
     "output_type": "stream",
     "text": [
      "Status code Unknown from https://nominatim.openstreetmap.org/search: ERROR - HTTPSConnectionPool(host='nominatim.openstreetmap.org', port=443): Max retries exceeded with url: /search?q=Miner+County%2C+South+Dakota%2C+USA&format=jsonv2&addressdetails=1&limit=1 (Caused by ConnectTimeoutError(<urllib3.connection.VerifiedHTTPSConnection object at 0x7f708486e128>, 'Connection to nominatim.openstreetmap.org timed out. (connect timeout=5.0)'))\n",
      "Status code 429 from https://nominatim.openstreetmap.org/search: ERROR - 429 Client Error: Too Many Requests for url: https://nominatim.openstreetmap.org/search?q=Taylor+County%2C+Iowa%2C+USA&format=jsonv2&addressdetails=1&limit=1\n",
      "Status code 429 from https://nominatim.openstreetmap.org/search: ERROR - 429 Client Error: Too Many Requests for url: https://nominatim.openstreetmap.org/search?q=Summit+County%2C+Colorado%2C+USA&format=jsonv2&addressdetails=1&limit=1\n",
      "Status code 429 from https://nominatim.openstreetmap.org/search: ERROR - 429 Client Error: Too Many Requests for url: https://nominatim.openstreetmap.org/search?q=Union+County%2C+Iowa%2C+USA&format=jsonv2&addressdetails=1&limit=1\n",
      "Status code 429 from https://nominatim.openstreetmap.org/search: ERROR - 429 Client Error: Too Many Requests for url: https://nominatim.openstreetmap.org/search?q=Kitsap+County%2C+Washington%2C+USA&format=jsonv2&addressdetails=1&limit=1\n",
      "Status code 429 from https://nominatim.openstreetmap.org/search: ERROR - 429 Client Error: Too Many Requests for url: https://nominatim.openstreetmap.org/search?q=Teller+County%2C+Colorado%2C+USA&format=jsonv2&addressdetails=1&limit=1\n",
      "Status code 429 from https://nominatim.openstreetmap.org/search: ERROR - 429 Client Error: Too Many Requests for url: https://nominatim.openstreetmap.org/search?q=Van+Buren+County%2C+Iowa%2C+USA&format=jsonv2&addressdetails=1&limit=1\n",
      "Status code 429 from https://nominatim.openstreetmap.org/search: ERROR - 429 Client Error: Too Many Requests for url: https://nominatim.openstreetmap.org/search?q=Kittitas+County%2C+Washington%2C+USA&format=jsonv2&addressdetails=1&limit=1\n",
      "Status code 429 from https://nominatim.openstreetmap.org/search: ERROR - 429 Client Error: Too Many Requests for url: https://nominatim.openstreetmap.org/search?q=Wapello+County%2C+Iowa%2C+USA&format=jsonv2&addressdetails=1&limit=1\n",
      "Status code 429 from https://nominatim.openstreetmap.org/search: ERROR - 429 Client Error: Too Many Requests for url: https://nominatim.openstreetmap.org/search?q=Klickitat+County%2C+Washington%2C+USA&format=jsonv2&addressdetails=1&limit=1\n",
      "Status code Unknown from https://nominatim.openstreetmap.org/search: ERROR - HTTPSConnectionPool(host='nominatim.openstreetmap.org', port=443): Max retries exceeded with url: /search?q=Isanti+County%2C+Minnesota%2C+USA&format=jsonv2&addressdetails=1&limit=1 (Caused by ConnectTimeoutError(<urllib3.connection.VerifiedHTTPSConnection object at 0x7f70848fe400>, 'Connection to nominatim.openstreetmap.org timed out. (connect timeout=5.0)'))\n",
      "Status code 429 from https://nominatim.openstreetmap.org/search: ERROR - 429 Client Error: Too Many Requests for url: https://nominatim.openstreetmap.org/search?q=Lewis+County%2C+Washington%2C+USA&format=jsonv2&addressdetails=1&limit=1\n",
      "Status code 429 from https://nominatim.openstreetmap.org/search: ERROR - 429 Client Error: Too Many Requests for url: https://nominatim.openstreetmap.org/search?q=Itasca+County%2C+Minnesota%2C+USA&format=jsonv2&addressdetails=1&limit=1\n",
      "Status code 429 from https://nominatim.openstreetmap.org/search: ERROR - 429 Client Error: Too Many Requests for url: https://nominatim.openstreetmap.org/search?q=Jackson+County%2C+Minnesota%2C+USA&format=jsonv2&addressdetails=1&limit=1\n",
      "Status code 429 from https://nominatim.openstreetmap.org/search: ERROR - 429 Client Error: Too Many Requests for url: https://nominatim.openstreetmap.org/search?q=Kanabec+County%2C+Minnesota%2C+USA&format=jsonv2&addressdetails=1&limit=1\n",
      "Status code 429 from https://nominatim.openstreetmap.org/search: ERROR - 429 Client Error: Too Many Requests for url: https://nominatim.openstreetmap.org/search?q=Kandiyohi+County%2C+Minnesota%2C+USA&format=jsonv2&addressdetails=1&limit=1\n",
      "Status code 429 from https://nominatim.openstreetmap.org/search: ERROR - 429 Client Error: Too Many Requests for url: https://nominatim.openstreetmap.org/search?q=Warren+County%2C+Iowa%2C+USA&format=jsonv2&addressdetails=1&limit=1\n",
      "Status code 429 from https://nominatim.openstreetmap.org/search: ERROR - 429 Client Error: Too Many Requests for url: https://nominatim.openstreetmap.org/search?q=Kittson+County%2C+Minnesota%2C+USA&format=jsonv2&addressdetails=1&limit=1\n",
      "Status code 429 from https://nominatim.openstreetmap.org/search: ERROR - 429 Client Error: Too Many Requests for url: https://nominatim.openstreetmap.org/search?q=Lincoln+County%2C+Washington%2C+USA&format=jsonv2&addressdetails=1&limit=1\n",
      "Status code 429 from https://nominatim.openstreetmap.org/search: ERROR - 429 Client Error: Too Many Requests for url: https://nominatim.openstreetmap.org/search?q=Washington+County%2C+Iowa%2C+USA&format=jsonv2&addressdetails=1&limit=1\n",
      "Status code 429 from https://nominatim.openstreetmap.org/search: ERROR - 429 Client Error: Too Many Requests for url: https://nominatim.openstreetmap.org/search?q=Mason+County%2C+Washington%2C+USA&format=jsonv2&addressdetails=1&limit=1\n",
      "Status code 429 from https://nominatim.openstreetmap.org/search: ERROR - 429 Client Error: Too Many Requests for url: https://nominatim.openstreetmap.org/search?q=Koochiching+County%2C+Minnesota%2C+USA&format=jsonv2&addressdetails=1&limit=1\n",
      "Status code 429 from https://nominatim.openstreetmap.org/search: ERROR - 429 Client Error: Too Many Requests for url: https://nominatim.openstreetmap.org/search?q=Lac+qui+Parle+County%2C+Minnesota%2C+USA&format=jsonv2&addressdetails=1&limit=1\n",
      "Status code Unknown from https://nominatim.openstreetmap.org/search: ERROR - HTTPSConnectionPool(host='nominatim.openstreetmap.org', port=443): Max retries exceeded with url: /search?q=Greene+County%2C+New+York%2C+USA&format=jsonv2&addressdetails=1&limit=1 (Caused by ConnectTimeoutError(<urllib3.connection.VerifiedHTTPSConnection object at 0x7f7084967d68>, 'Connection to nominatim.openstreetmap.org timed out. (connect timeout=5.0)'))\n",
      "Status code Unknown from https://nominatim.openstreetmap.org/search: ERROR - HTTPSConnectionPool(host='nominatim.openstreetmap.org', port=443): Max retries exceeded with url: /search?q=Minnehaha+County%2C+South+Dakota%2C+USA&format=jsonv2&addressdetails=1&limit=1 (Caused by ConnectTimeoutError(<urllib3.connection.VerifiedHTTPSConnection object at 0x7f708477c128>, 'Connection to nominatim.openstreetmap.org timed out. (connect timeout=5.0)'))\n",
      "Status code 429 from https://nominatim.openstreetmap.org/search: ERROR - 429 Client Error: Too Many Requests for url: https://nominatim.openstreetmap.org/search?q=Wayne+County%2C+Iowa%2C+USA&format=jsonv2&addressdetails=1&limit=1\n",
      "Status code 429 from https://nominatim.openstreetmap.org/search: ERROR - 429 Client Error: Too Many Requests for url: https://nominatim.openstreetmap.org/search?q=Hamilton+County%2C+New+York%2C+USA&format=jsonv2&addressdetails=1&limit=1\n",
      "Status code 429 from https://nominatim.openstreetmap.org/search: ERROR - 429 Client Error: Too Many Requests for url: https://nominatim.openstreetmap.org/search?q=Herkimer+County%2C+New+York%2C+USA&format=jsonv2&addressdetails=1&limit=1\n",
      "Status code 429 from https://nominatim.openstreetmap.org/search: ERROR - 429 Client Error: Too Many Requests for url: https://nominatim.openstreetmap.org/search?q=Moody+County%2C+South+Dakota%2C+USA&format=jsonv2&addressdetails=1&limit=1\n",
      "Status code Unknown from https://nominatim.openstreetmap.org/search: ERROR - HTTPSConnectionPool(host='nominatim.openstreetmap.org', port=443): Max retries exceeded with url: /search?q=Washington+County%2C+Colorado%2C+USA&format=jsonv2&addressdetails=1&limit=1 (Caused by ConnectTimeoutError(<urllib3.connection.VerifiedHTTPSConnection object at 0x7f708486e748>, 'Connection to nominatim.openstreetmap.org timed out. (connect timeout=5.0)'))\n",
      "Status code 429 from https://nominatim.openstreetmap.org/search: ERROR - 429 Client Error: Too Many Requests for url: https://nominatim.openstreetmap.org/search?q=Oglala+Lakota+County%2C+South+Dakota%2C+USA&format=jsonv2&addressdetails=1&limit=1\n"
     ]
    },
    {
     "name": "stderr",
     "output_type": "stream",
     "text": [
      "Status code 429 from https://nominatim.openstreetmap.org/search: ERROR - 429 Client Error: Too Many Requests for url: https://nominatim.openstreetmap.org/search?q=Weld+County%2C+Colorado%2C+USA&format=jsonv2&addressdetails=1&limit=1\n",
      "Status code 429 from https://nominatim.openstreetmap.org/search: ERROR - 429 Client Error: Too Many Requests for url: https://nominatim.openstreetmap.org/search?q=Yuma+County%2C+Colorado%2C+USA&format=jsonv2&addressdetails=1&limit=1\n",
      "Status code 429 from https://nominatim.openstreetmap.org/search: ERROR - 429 Client Error: Too Many Requests for url: https://nominatim.openstreetmap.org/search?q=Webster+County%2C+Iowa%2C+USA&format=jsonv2&addressdetails=1&limit=1\n",
      "Status code 429 from https://nominatim.openstreetmap.org/search: ERROR - 429 Client Error: Too Many Requests for url: https://nominatim.openstreetmap.org/search?q=Winnebago+County%2C+Iowa%2C+USA&format=jsonv2&addressdetails=1&limit=1\n",
      "Status code 429 from https://nominatim.openstreetmap.org/search: ERROR - 429 Client Error: Too Many Requests for url: https://nominatim.openstreetmap.org/search?q=Jefferson+County%2C+New+York%2C+USA&format=jsonv2&addressdetails=1&limit=1\n",
      "Status code 429 from https://nominatim.openstreetmap.org/search: ERROR - 429 Client Error: Too Many Requests for url: https://nominatim.openstreetmap.org/search?q=Winneshiek+County%2C+Iowa%2C+USA&format=jsonv2&addressdetails=1&limit=1\n",
      "Status code 429 from https://nominatim.openstreetmap.org/search: ERROR - 429 Client Error: Too Many Requests for url: https://nominatim.openstreetmap.org/search?q=Kings+County%2C+New+York%2C+USA&format=jsonv2&addressdetails=1&limit=1\n",
      "Status code 429 from https://nominatim.openstreetmap.org/search: ERROR - 429 Client Error: Too Many Requests for url: https://nominatim.openstreetmap.org/search?q=Lewis+County%2C+New+York%2C+USA&format=jsonv2&addressdetails=1&limit=1\n",
      "Status code 429 from https://nominatim.openstreetmap.org/search: ERROR - 429 Client Error: Too Many Requests for url: https://nominatim.openstreetmap.org/search?q=Woodbury+County%2C+Iowa%2C+USA&format=jsonv2&addressdetails=1&limit=1\n",
      "Status code 429 from https://nominatim.openstreetmap.org/search: ERROR - 429 Client Error: Too Many Requests for url: https://nominatim.openstreetmap.org/search?q=Worth+County%2C+Iowa%2C+USA&format=jsonv2&addressdetails=1&limit=1\n",
      "Status code 429 from https://nominatim.openstreetmap.org/search: ERROR - 429 Client Error: Too Many Requests for url: https://nominatim.openstreetmap.org/search?q=Wright+County%2C+Iowa%2C+USA&format=jsonv2&addressdetails=1&limit=1\n",
      "Status code Unknown from https://nominatim.openstreetmap.org/search: ERROR - HTTPSConnectionPool(host='nominatim.openstreetmap.org', port=443): Max retries exceeded with url: /search?q=Okanogan+County%2C+Washington%2C+USA&format=jsonv2&addressdetails=1&limit=1 (Caused by ConnectTimeoutError(<urllib3.connection.VerifiedHTTPSConnection object at 0x7f70892a57b8>, 'Connection to nominatim.openstreetmap.org timed out. (connect timeout=5.0)'))\n",
      "Status code 429 from https://nominatim.openstreetmap.org/search: ERROR - 429 Client Error: Too Many Requests for url: https://nominatim.openstreetmap.org/search?q=Allen+County%2C+Kansas%2C+USA&format=jsonv2&addressdetails=1&limit=1\n",
      "Status code 429 from https://nominatim.openstreetmap.org/search: ERROR - 429 Client Error: Too Many Requests for url: https://nominatim.openstreetmap.org/search?q=Pacific+County%2C+Washington%2C+USA&format=jsonv2&addressdetails=1&limit=1\n",
      "Status code 429 from https://nominatim.openstreetmap.org/search: ERROR - 429 Client Error: Too Many Requests for url: https://nominatim.openstreetmap.org/search?q=Anderson+County%2C+Kansas%2C+USA&format=jsonv2&addressdetails=1&limit=1\n",
      "Status code Unknown from https://nominatim.openstreetmap.org/search: ERROR - HTTPSConnectionPool(host='nominatim.openstreetmap.org', port=443): Max retries exceeded with url: /search?q=Lake+County%2C+Minnesota%2C+USA&format=jsonv2&addressdetails=1&limit=1 (Caused by ConnectTimeoutError(<urllib3.connection.VerifiedHTTPSConnection object at 0x7f70847b5908>, 'Connection to nominatim.openstreetmap.org timed out. (connect timeout=5.0)'))\n",
      "Status code 429 from https://nominatim.openstreetmap.org/search: ERROR - 429 Client Error: Too Many Requests for url: https://nominatim.openstreetmap.org/search?q=Pend+Oreille+County%2C+Washington%2C+USA&format=jsonv2&addressdetails=1&limit=1\n",
      "Status code 429 from https://nominatim.openstreetmap.org/search: ERROR - 429 Client Error: Too Many Requests for url: https://nominatim.openstreetmap.org/search?q=Pierce+County%2C+Washington%2C+USA&format=jsonv2&addressdetails=1&limit=1\n",
      "Status code 429 from https://nominatim.openstreetmap.org/search: ERROR - 429 Client Error: Too Many Requests for url: https://nominatim.openstreetmap.org/search?q=Atchison+County%2C+Kansas%2C+USA&format=jsonv2&addressdetails=1&limit=1\n",
      "Status code 429 from https://nominatim.openstreetmap.org/search: ERROR - 429 Client Error: Too Many Requests for url: https://nominatim.openstreetmap.org/search?q=Barber+County%2C+Kansas%2C+USA&format=jsonv2&addressdetails=1&limit=1\n",
      "Status code Unknown from https://nominatim.openstreetmap.org/search: ERROR - HTTPSConnectionPool(host='nominatim.openstreetmap.org', port=443): Max retries exceeded with url: /search?q=Pennington+County%2C+South+Dakota%2C+USA&format=jsonv2&addressdetails=1&limit=1 (Caused by ConnectTimeoutError(<urllib3.connection.VerifiedHTTPSConnection object at 0x7f708486e128>, 'Connection to nominatim.openstreetmap.org timed out. (connect timeout=5.0)'))\n",
      "Status code 429 from https://nominatim.openstreetmap.org/search: ERROR - 429 Client Error: Too Many Requests for url: https://nominatim.openstreetmap.org/search?q=San+Juan+County%2C+Washington%2C+USA&format=jsonv2&addressdetails=1&limit=1\n",
      "Status code 429 from https://nominatim.openstreetmap.org/search: ERROR - 429 Client Error: Too Many Requests for url: https://nominatim.openstreetmap.org/search?q=Barton+County%2C+Kansas%2C+USA&format=jsonv2&addressdetails=1&limit=1\n",
      "Status code 429 from https://nominatim.openstreetmap.org/search: ERROR - 429 Client Error: Too Many Requests for url: https://nominatim.openstreetmap.org/search?q=Perkins+County%2C+South+Dakota%2C+USA&format=jsonv2&addressdetails=1&limit=1\n",
      "Status code Unknown from https://nominatim.openstreetmap.org/search: ERROR - HTTPSConnectionPool(host='nominatim.openstreetmap.org', port=443): Max retries exceeded with url: /search?q=Fairfield+County%2C+Connecticut%2C+USA&format=jsonv2&addressdetails=1&limit=1 (Caused by ConnectTimeoutError(<urllib3.connection.VerifiedHTTPSConnection object at 0x7f7084905588>, 'Connection to nominatim.openstreetmap.org timed out. (connect timeout=5.0)'))\n",
      "Status code 429 from https://nominatim.openstreetmap.org/search: ERROR - 429 Client Error: Too Many Requests for url: https://nominatim.openstreetmap.org/search?q=Potter+County%2C+South+Dakota%2C+USA&format=jsonv2&addressdetails=1&limit=1\n",
      "Status code 429 from https://nominatim.openstreetmap.org/search: ERROR - 429 Client Error: Too Many Requests for url: https://nominatim.openstreetmap.org/search?q=Skagit+County%2C+Washington%2C+USA&format=jsonv2&addressdetails=1&limit=1\n",
      "Status code 429 from https://nominatim.openstreetmap.org/search: ERROR - 429 Client Error: Too Many Requests for url: https://nominatim.openstreetmap.org/search?q=Skamania+County%2C+Washington%2C+USA&format=jsonv2&addressdetails=1&limit=1\n",
      "Status code 429 from https://nominatim.openstreetmap.org/search: ERROR - 429 Client Error: Too Many Requests for url: https://nominatim.openstreetmap.org/search?q=Roberts+County%2C+South+Dakota%2C+USA&format=jsonv2&addressdetails=1&limit=1\n",
      "Status code 429 from https://nominatim.openstreetmap.org/search: ERROR - 429 Client Error: Too Many Requests for url: https://nominatim.openstreetmap.org/search?q=Snohomish+County%2C+Washington%2C+USA&format=jsonv2&addressdetails=1&limit=1\n",
      "Status code 429 from https://nominatim.openstreetmap.org/search: ERROR - 429 Client Error: Too Many Requests for url: https://nominatim.openstreetmap.org/search?q=Sanborn+County%2C+South+Dakota%2C+USA&format=jsonv2&addressdetails=1&limit=1\n",
      "Status code Unknown from https://nominatim.openstreetmap.org/search: ERROR - HTTPSConnectionPool(host='nominatim.openstreetmap.org', port=443): Max retries exceeded with url: /search?q=Livingston+County%2C+New+York%2C+USA&format=jsonv2&addressdetails=1&limit=1 (Caused by ConnectTimeoutError(<urllib3.connection.VerifiedHTTPSConnection object at 0x7f708486ebe0>, 'Connection to nominatim.openstreetmap.org timed out. (connect timeout=5.0)'))\n"
     ]
    },
    {
     "name": "stderr",
     "output_type": "stream",
     "text": [
      "Status code 429 from https://nominatim.openstreetmap.org/search: ERROR - 429 Client Error: Too Many Requests for url: https://nominatim.openstreetmap.org/search?q=Spink+County%2C+South+Dakota%2C+USA&format=jsonv2&addressdetails=1&limit=1\n",
      "Status code 429 from https://nominatim.openstreetmap.org/search: ERROR - 429 Client Error: Too Many Requests for url: https://nominatim.openstreetmap.org/search?q=Madison+County%2C+New+York%2C+USA&format=jsonv2&addressdetails=1&limit=1\n",
      "Status code 429 from https://nominatim.openstreetmap.org/search: ERROR - 429 Client Error: Too Many Requests for url: https://nominatim.openstreetmap.org/search?q=Monroe+County%2C+New+York%2C+USA&format=jsonv2&addressdetails=1&limit=1\n",
      "Status code 429 from https://nominatim.openstreetmap.org/search: ERROR - 429 Client Error: Too Many Requests for url: https://nominatim.openstreetmap.org/search?q=Montgomery+County%2C+New+York%2C+USA&format=jsonv2&addressdetails=1&limit=1\n",
      "Status code 429 from https://nominatim.openstreetmap.org/search: ERROR - 429 Client Error: Too Many Requests for url: https://nominatim.openstreetmap.org/search?q=Nassau+County%2C+New+York%2C+USA&format=jsonv2&addressdetails=1&limit=1\n",
      "Status code 429 from https://nominatim.openstreetmap.org/search: ERROR - 429 Client Error: Too Many Requests for url: https://nominatim.openstreetmap.org/search?q=New+York+County%2C+New+York%2C+USA&format=jsonv2&addressdetails=1&limit=1\n",
      "Status code Unknown from https://nominatim.openstreetmap.org/search: ERROR - HTTPSConnectionPool(host='nominatim.openstreetmap.org', port=443): Max retries exceeded with url: /search?q=Lake+of+the+Woods+County%2C+Minnesota%2C+USA&format=jsonv2&addressdetails=1&limit=1 (Caused by ConnectTimeoutError(<urllib3.connection.VerifiedHTTPSConnection object at 0x7f70847b59e8>, 'Connection to nominatim.openstreetmap.org timed out. (connect timeout=5.0)'))\n",
      "Status code 429 from https://nominatim.openstreetmap.org/search: ERROR - 429 Client Error: Too Many Requests for url: https://nominatim.openstreetmap.org/search?q=Le+Sueur+County%2C+Minnesota%2C+USA&format=jsonv2&addressdetails=1&limit=1\n",
      "Status code 429 from https://nominatim.openstreetmap.org/search: ERROR - 429 Client Error: Too Many Requests for url: https://nominatim.openstreetmap.org/search?q=Lincoln+County%2C+Minnesota%2C+USA&format=jsonv2&addressdetails=1&limit=1\n",
      "Status code 429 from https://nominatim.openstreetmap.org/search: ERROR - 429 Client Error: Too Many Requests for url: https://nominatim.openstreetmap.org/search?q=Lyon+County%2C+Minnesota%2C+USA&format=jsonv2&addressdetails=1&limit=1\n",
      "Status code 429 from https://nominatim.openstreetmap.org/search: ERROR - 429 Client Error: Too Many Requests for url: https://nominatim.openstreetmap.org/search?q=McLeod+County%2C+Minnesota%2C+USA&format=jsonv2&addressdetails=1&limit=1\n",
      "Status code Unknown from https://nominatim.openstreetmap.org/search: ERROR - HTTPSConnectionPool(host='nominatim.openstreetmap.org', port=443): Max retries exceeded with url: /search?q=Bourbon+County%2C+Kansas%2C+USA&format=jsonv2&addressdetails=1&limit=1 (Caused by ConnectTimeoutError(<urllib3.connection.VerifiedHTTPSConnection object at 0x7f708486e6a0>, 'Connection to nominatim.openstreetmap.org timed out. (connect timeout=5.0)'))\n",
      "Status code 429 from https://nominatim.openstreetmap.org/search: ERROR - 429 Client Error: Too Many Requests for url: https://nominatim.openstreetmap.org/search?q=Mahnomen+County%2C+Minnesota%2C+USA&format=jsonv2&addressdetails=1&limit=1\n",
      "Status code Unknown from https://nominatim.openstreetmap.org/search: ERROR - HTTPSConnectionPool(host='nominatim.openstreetmap.org', port=443): Max retries exceeded with url: /search?q=Hartford+County%2C+Connecticut%2C+USA&format=jsonv2&addressdetails=1&limit=1 (Caused by ConnectTimeoutError(<urllib3.connection.VerifiedHTTPSConnection object at 0x7f7084698be0>, 'Connection to nominatim.openstreetmap.org timed out. (connect timeout=5.0)'))\n",
      "Status code 429 from https://nominatim.openstreetmap.org/search: ERROR - 429 Client Error: Too Many Requests for url: https://nominatim.openstreetmap.org/search?q=Marshall+County%2C+Minnesota%2C+USA&format=jsonv2&addressdetails=1&limit=1\n",
      "Status code 429 from https://nominatim.openstreetmap.org/search: ERROR - 429 Client Error: Too Many Requests for url: https://nominatim.openstreetmap.org/search?q=Litchfield+County%2C+Connecticut%2C+USA&format=jsonv2&addressdetails=1&limit=1\n",
      "Status code 429 from https://nominatim.openstreetmap.org/search: ERROR - 429 Client Error: Too Many Requests for url: https://nominatim.openstreetmap.org/search?q=Martin+County%2C+Minnesota%2C+USA&format=jsonv2&addressdetails=1&limit=1\n",
      "Status code 429 from https://nominatim.openstreetmap.org/search: ERROR - 429 Client Error: Too Many Requests for url: https://nominatim.openstreetmap.org/search?q=Meeker+County%2C+Minnesota%2C+USA&format=jsonv2&addressdetails=1&limit=1\n",
      "Status code Unknown from https://nominatim.openstreetmap.org/search: ERROR - HTTPSConnectionPool(host='nominatim.openstreetmap.org', port=443): Max retries exceeded with url: /search?q=Spokane+County%2C+Washington%2C+USA&format=jsonv2&addressdetails=1&limit=1 (Caused by ConnectTimeoutError(<urllib3.connection.VerifiedHTTPSConnection object at 0x7f708477eba8>, 'Connection to nominatim.openstreetmap.org timed out. (connect timeout=5.0)'))\n",
      "Status code 429 from https://nominatim.openstreetmap.org/search: ERROR - 429 Client Error: Too Many Requests for url: https://nominatim.openstreetmap.org/search?q=Middlesex+County%2C+Connecticut%2C+USA&format=jsonv2&addressdetails=1&limit=1\n",
      "Status code 429 from https://nominatim.openstreetmap.org/search: ERROR - 429 Client Error: Too Many Requests for url: https://nominatim.openstreetmap.org/search?q=Mille+Lacs+County%2C+Minnesota%2C+USA&format=jsonv2&addressdetails=1&limit=1\n",
      "Status code 429 from https://nominatim.openstreetmap.org/search: ERROR - 429 Client Error: Too Many Requests for url: https://nominatim.openstreetmap.org/search?q=Morrison+County%2C+Minnesota%2C+USA&format=jsonv2&addressdetails=1&limit=1\n",
      "Status code Unknown from https://nominatim.openstreetmap.org/search: ERROR - HTTPSConnectionPool(host='nominatim.openstreetmap.org', port=443): Max retries exceeded with url: /search?q=Stanley+County%2C+South+Dakota%2C+USA&format=jsonv2&addressdetails=1&limit=1 (Caused by ConnectTimeoutError(<urllib3.connection.VerifiedHTTPSConnection object at 0x7f7084967e80>, 'Connection to nominatim.openstreetmap.org timed out. (connect timeout=5.0)'))\n",
      "Status code 429 from https://nominatim.openstreetmap.org/search: ERROR - 429 Client Error: Too Many Requests for url: https://nominatim.openstreetmap.org/search?q=Stevens+County%2C+Washington%2C+USA&format=jsonv2&addressdetails=1&limit=1\n",
      "Status code 429 from https://nominatim.openstreetmap.org/search: ERROR - 429 Client Error: Too Many Requests for url: https://nominatim.openstreetmap.org/search?q=Sully+County%2C+South+Dakota%2C+USA&format=jsonv2&addressdetails=1&limit=1\n",
      "Status code 429 from https://nominatim.openstreetmap.org/search: ERROR - 429 Client Error: Too Many Requests for url: https://nominatim.openstreetmap.org/search?q=Thurston+County%2C+Washington%2C+USA&format=jsonv2&addressdetails=1&limit=1\n",
      "Status code 429 from https://nominatim.openstreetmap.org/search: ERROR - 429 Client Error: Too Many Requests for url: https://nominatim.openstreetmap.org/search?q=Wahkiakum+County%2C+Washington%2C+USA&format=jsonv2&addressdetails=1&limit=1\n",
      "Status code 429 from https://nominatim.openstreetmap.org/search: ERROR - 429 Client Error: Too Many Requests for url: https://nominatim.openstreetmap.org/search?q=Todd+County%2C+South+Dakota%2C+USA&format=jsonv2&addressdetails=1&limit=1\n",
      "Status code Unknown from https://nominatim.openstreetmap.org/search: ERROR - HTTPSConnectionPool(host='nominatim.openstreetmap.org', port=443): Max retries exceeded with url: /search?q=Niagara+County%2C+New+York%2C+USA&format=jsonv2&addressdetails=1&limit=1 (Caused by ConnectTimeoutError(<urllib3.connection.VerifiedHTTPSConnection object at 0x7f7084905780>, 'Connection to nominatim.openstreetmap.org timed out. (connect timeout=5.0)'))\n",
      "Status code 429 from https://nominatim.openstreetmap.org/search: ERROR - 429 Client Error: Too Many Requests for url: https://nominatim.openstreetmap.org/search?q=Tripp+County%2C+South+Dakota%2C+USA&format=jsonv2&addressdetails=1&limit=1\n"
     ]
    },
    {
     "name": "stderr",
     "output_type": "stream",
     "text": [
      "Status code 429 from https://nominatim.openstreetmap.org/search: ERROR - 429 Client Error: Too Many Requests for url: https://nominatim.openstreetmap.org/search?q=Mower+County%2C+Minnesota%2C+USA&format=jsonv2&addressdetails=1&limit=1\n",
      "Status code 429 from https://nominatim.openstreetmap.org/search: ERROR - 429 Client Error: Too Many Requests for url: https://nominatim.openstreetmap.org/search?q=Oneida+County%2C+New+York%2C+USA&format=jsonv2&addressdetails=1&limit=1\n",
      "Status code 429 from https://nominatim.openstreetmap.org/search: ERROR - 429 Client Error: Too Many Requests for url: https://nominatim.openstreetmap.org/search?q=Murray+County%2C+Minnesota%2C+USA&format=jsonv2&addressdetails=1&limit=1\n",
      "Status code 429 from https://nominatim.openstreetmap.org/search: ERROR - 429 Client Error: Too Many Requests for url: https://nominatim.openstreetmap.org/search?q=Turner+County%2C+South+Dakota%2C+USA&format=jsonv2&addressdetails=1&limit=1\n",
      "Status code 429 from https://nominatim.openstreetmap.org/search: ERROR - 429 Client Error: Too Many Requests for url: https://nominatim.openstreetmap.org/search?q=Onondaga+County%2C+New+York%2C+USA&format=jsonv2&addressdetails=1&limit=1\n",
      "Status code 429 from https://nominatim.openstreetmap.org/search: ERROR - 429 Client Error: Too Many Requests for url: https://nominatim.openstreetmap.org/search?q=Nicollet+County%2C+Minnesota%2C+USA&format=jsonv2&addressdetails=1&limit=1\n",
      "Status code Unknown from https://nominatim.openstreetmap.org/search: ERROR - HTTPSConnectionPool(host='nominatim.openstreetmap.org', port=443): Max retries exceeded with url: /search?q=Brown+County%2C+Kansas%2C+USA&format=jsonv2&addressdetails=1&limit=1 (Caused by ConnectTimeoutError(<urllib3.connection.VerifiedHTTPSConnection object at 0x7f708495fe10>, 'Connection to nominatim.openstreetmap.org timed out. (connect timeout=5.0)'))\n",
      "Status code 429 from https://nominatim.openstreetmap.org/search: ERROR - 429 Client Error: Too Many Requests for url: https://nominatim.openstreetmap.org/search?q=Union+County%2C+South+Dakota%2C+USA&format=jsonv2&addressdetails=1&limit=1\n",
      "Status code 429 from https://nominatim.openstreetmap.org/search: ERROR - 429 Client Error: Too Many Requests for url: https://nominatim.openstreetmap.org/search?q=Butler+County%2C+Kansas%2C+USA&format=jsonv2&addressdetails=1&limit=1\n",
      "Status code 429 from https://nominatim.openstreetmap.org/search: ERROR - 429 Client Error: Too Many Requests for url: https://nominatim.openstreetmap.org/search?q=Chase+County%2C+Kansas%2C+USA&format=jsonv2&addressdetails=1&limit=1\n",
      "Status code 429 from https://nominatim.openstreetmap.org/search: ERROR - 429 Client Error: Too Many Requests for url: https://nominatim.openstreetmap.org/search?q=Chautauqua+County%2C+Kansas%2C+USA&format=jsonv2&addressdetails=1&limit=1\n",
      "Status code 429 from https://nominatim.openstreetmap.org/search: ERROR - 429 Client Error: Too Many Requests for url: https://nominatim.openstreetmap.org/search?q=Cherokee+County%2C+Kansas%2C+USA&format=jsonv2&addressdetails=1&limit=1\n",
      "Status code Unknown from https://nominatim.openstreetmap.org/search: ERROR - HTTPSConnectionPool(host='nominatim.openstreetmap.org', port=443): Max retries exceeded with url: /search?q=New+Haven+County%2C+Connecticut%2C+USA&format=jsonv2&addressdetails=1&limit=1 (Caused by ConnectTimeoutError(<urllib3.connection.VerifiedHTTPSConnection object at 0x7f7084698cf8>, 'Connection to nominatim.openstreetmap.org timed out. (connect timeout=5.0)'))\n",
      "Status code 429 from https://nominatim.openstreetmap.org/search: ERROR - 429 Client Error: Too Many Requests for url: https://nominatim.openstreetmap.org/search?q=Cheyenne+County%2C+Kansas%2C+USA&format=jsonv2&addressdetails=1&limit=1\n",
      "Status code 429 from https://nominatim.openstreetmap.org/search: ERROR - 429 Client Error: Too Many Requests for url: https://nominatim.openstreetmap.org/search?q=Walworth+County%2C+South+Dakota%2C+USA&format=jsonv2&addressdetails=1&limit=1\n",
      "Status code 429 from https://nominatim.openstreetmap.org/search: ERROR - 429 Client Error: Too Many Requests for url: https://nominatim.openstreetmap.org/search?q=New+London+County%2C+Connecticut%2C+USA&format=jsonv2&addressdetails=1&limit=1\n",
      "Status code 429 from https://nominatim.openstreetmap.org/search: ERROR - 429 Client Error: Too Many Requests for url: https://nominatim.openstreetmap.org/search?q=Yankton+County%2C+South+Dakota%2C+USA&format=jsonv2&addressdetails=1&limit=1\n",
      "Status code 429 from https://nominatim.openstreetmap.org/search: ERROR - 429 Client Error: Too Many Requests for url: https://nominatim.openstreetmap.org/search?q=Tolland+County%2C+Connecticut%2C+USA&format=jsonv2&addressdetails=1&limit=1\n",
      "Status code Unknown from https://nominatim.openstreetmap.org/search: ERROR - HTTPSConnectionPool(host='nominatim.openstreetmap.org', port=443): Max retries exceeded with url: /search?q=Walla+Walla+County%2C+Washington%2C+USA&format=jsonv2&addressdetails=1&limit=1 (Caused by ConnectTimeoutError(<urllib3.connection.VerifiedHTTPSConnection object at 0x7f708477e978>, 'Connection to nominatim.openstreetmap.org timed out. (connect timeout=5.0)'))\n",
      "Status code 429 from https://nominatim.openstreetmap.org/search: ERROR - 429 Client Error: Too Many Requests for url: https://nominatim.openstreetmap.org/search?q=Windham+County%2C+Connecticut%2C+USA&format=jsonv2&addressdetails=1&limit=1\n",
      "Status code 429 from https://nominatim.openstreetmap.org/search: ERROR - 429 Client Error: Too Many Requests for url: https://nominatim.openstreetmap.org/search?q=Ziebach+County%2C+South+Dakota%2C+USA&format=jsonv2&addressdetails=1&limit=1\n",
      "Status code 429 from https://nominatim.openstreetmap.org/search: ERROR - 429 Client Error: Too Many Requests for url: https://nominatim.openstreetmap.org/search?q=Whatcom+County%2C+Washington%2C+USA&format=jsonv2&addressdetails=1&limit=1\n",
      "Status code 429 from https://nominatim.openstreetmap.org/search: ERROR - 429 Client Error: Too Many Requests for url: https://nominatim.openstreetmap.org/search?q=Anderson+County%2C+Tennessee%2C+USA&format=jsonv2&addressdetails=1&limit=1\n",
      "Status code 429 from https://nominatim.openstreetmap.org/search: ERROR - 429 Client Error: Too Many Requests for url: https://nominatim.openstreetmap.org/search?q=Kent+County%2C+Delaware%2C+USA&format=jsonv2&addressdetails=1&limit=1\n",
      "Status code 429 from https://nominatim.openstreetmap.org/search: ERROR - 429 Client Error: Too Many Requests for url: https://nominatim.openstreetmap.org/search?q=Whitman+County%2C+Washington%2C+USA&format=jsonv2&addressdetails=1&limit=1\n",
      "Status code 429 from https://nominatim.openstreetmap.org/search: ERROR - 429 Client Error: Too Many Requests for url: https://nominatim.openstreetmap.org/search?q=Bedford+County%2C+Tennessee%2C+USA&format=jsonv2&addressdetails=1&limit=1\n",
      "Status code Unknown from https://nominatim.openstreetmap.org/search: ERROR - HTTPSConnectionPool(host='nominatim.openstreetmap.org', port=443): Max retries exceeded with url: /search?q=Ontario+County%2C+New+York%2C+USA&format=jsonv2&addressdetails=1&limit=1 (Caused by ConnectTimeoutError(<urllib3.connection.VerifiedHTTPSConnection object at 0x7f70847b7978>, 'Connection to nominatim.openstreetmap.org timed out. (connect timeout=5.0)'))\n",
      "Status code 429 from https://nominatim.openstreetmap.org/search: ERROR - 429 Client Error: Too Many Requests for url: https://nominatim.openstreetmap.org/search?q=New+Castle+County%2C+Delaware%2C+USA&format=jsonv2&addressdetails=1&limit=1\n",
      "Status code Unknown from https://nominatim.openstreetmap.org/search: ERROR - HTTPSConnectionPool(host='nominatim.openstreetmap.org', port=443): Max retries exceeded with url: /search?q=Nobles+County%2C+Minnesota%2C+USA&format=jsonv2&addressdetails=1&limit=1 (Caused by ConnectTimeoutError(<urllib3.connection.VerifiedHTTPSConnection object at 0x7f708486e978>, 'Connection to nominatim.openstreetmap.org timed out. (connect timeout=5.0)'))\n",
      "Status code 429 from https://nominatim.openstreetmap.org/search: ERROR - 429 Client Error: Too Many Requests for url: https://nominatim.openstreetmap.org/search?q=Yakima+County%2C+Washington%2C+USA&format=jsonv2&addressdetails=1&limit=1\n",
      "Status code 429 from https://nominatim.openstreetmap.org/search: ERROR - 429 Client Error: Too Many Requests for url: https://nominatim.openstreetmap.org/search?q=Sussex+County%2C+Delaware%2C+USA&format=jsonv2&addressdetails=1&limit=1\n"
     ]
    },
    {
     "name": "stdout",
     "output_type": "stream",
     "text": [
      "47.3194344 -96.4625779\n"
     ]
    },
    {
     "name": "stderr",
     "output_type": "stream",
     "text": [
      "Status code 429 from https://nominatim.openstreetmap.org/search: ERROR - 429 Client Error: Too Many Requests for url: https://nominatim.openstreetmap.org/search?q=Olmsted+County%2C+Minnesota%2C+USA&format=jsonv2&addressdetails=1&limit=1\n",
      "Status code 429 from https://nominatim.openstreetmap.org/search: ERROR - 429 Client Error: Too Many Requests for url: https://nominatim.openstreetmap.org/search?q=Barbour+County%2C+West+Virginia%2C+USA&format=jsonv2&addressdetails=1&limit=1\n",
      "Status code 429 from https://nominatim.openstreetmap.org/search: ERROR - 429 Client Error: Too Many Requests for url: https://nominatim.openstreetmap.org/search?q=Berkeley+County%2C+West+Virginia%2C+USA&format=jsonv2&addressdetails=1&limit=1\n",
      "Status code 429 from https://nominatim.openstreetmap.org/search: ERROR - 429 Client Error: Too Many Requests for url: https://nominatim.openstreetmap.org/search?q=Otter+Tail+County%2C+Minnesota%2C+USA&format=jsonv2&addressdetails=1&limit=1\n",
      "Status code Unknown from https://nominatim.openstreetmap.org/search: ERROR - HTTPSConnectionPool(host='nominatim.openstreetmap.org', port=443): Max retries exceeded with url: /search?q=Clark+County%2C+Kansas%2C+USA&format=jsonv2&addressdetails=1&limit=1 (Caused by ConnectTimeoutError(<urllib3.connection.VerifiedHTTPSConnection object at 0x7f7084905a58>, 'Connection to nominatim.openstreetmap.org timed out. (connect timeout=5.0)'))\n",
      "Status code 429 from https://nominatim.openstreetmap.org/search: ERROR - 429 Client Error: Too Many Requests for url: https://nominatim.openstreetmap.org/search?q=Pennington+County%2C+Minnesota%2C+USA&format=jsonv2&addressdetails=1&limit=1\n",
      "Status code 429 from https://nominatim.openstreetmap.org/search: ERROR - 429 Client Error: Too Many Requests for url: https://nominatim.openstreetmap.org/search?q=Alachua+County%2C+Florida%2C+USA&format=jsonv2&addressdetails=1&limit=1\n",
      "Status code 429 from https://nominatim.openstreetmap.org/search: ERROR - 429 Client Error: Too Many Requests for url: https://nominatim.openstreetmap.org/search?q=Clay+County%2C+Kansas%2C+USA&format=jsonv2&addressdetails=1&limit=1\n",
      "Status code 429 from https://nominatim.openstreetmap.org/search: ERROR - 429 Client Error: Too Many Requests for url: https://nominatim.openstreetmap.org/search?q=Cloud+County%2C+Kansas%2C+USA&format=jsonv2&addressdetails=1&limit=1\n",
      "Status code 429 from https://nominatim.openstreetmap.org/search: ERROR - 429 Client Error: Too Many Requests for url: https://nominatim.openstreetmap.org/search?q=Pine+County%2C+Minnesota%2C+USA&format=jsonv2&addressdetails=1&limit=1\n",
      "Status code 429 from https://nominatim.openstreetmap.org/search: ERROR - 429 Client Error: Too Many Requests for url: https://nominatim.openstreetmap.org/search?q=Boone+County%2C+West+Virginia%2C+USA&format=jsonv2&addressdetails=1&limit=1\n",
      "Status code 429 from https://nominatim.openstreetmap.org/search: ERROR - 429 Client Error: Too Many Requests for url: https://nominatim.openstreetmap.org/search?q=Pipestone+County%2C+Minnesota%2C+USA&format=jsonv2&addressdetails=1&limit=1\n",
      "Status code 429 from https://nominatim.openstreetmap.org/search: ERROR - 429 Client Error: Too Many Requests for url: https://nominatim.openstreetmap.org/search?q=Braxton+County%2C+West+Virginia%2C+USA&format=jsonv2&addressdetails=1&limit=1\n",
      "Status code 429 from https://nominatim.openstreetmap.org/search: ERROR - 429 Client Error: Too Many Requests for url: https://nominatim.openstreetmap.org/search?q=Brooke+County%2C+West+Virginia%2C+USA&format=jsonv2&addressdetails=1&limit=1\n",
      "Status code 429 from https://nominatim.openstreetmap.org/search: ERROR - 429 Client Error: Too Many Requests for url: https://nominatim.openstreetmap.org/search?q=Polk+County%2C+Minnesota%2C+USA&format=jsonv2&addressdetails=1&limit=1\n",
      "Status code 429 from https://nominatim.openstreetmap.org/search: ERROR - 429 Client Error: Too Many Requests for url: https://nominatim.openstreetmap.org/search?q=Cabell+County%2C+West+Virginia%2C+USA&format=jsonv2&addressdetails=1&limit=1\n",
      "Status code 429 from https://nominatim.openstreetmap.org/search: ERROR - 429 Client Error: Too Many Requests for url: https://nominatim.openstreetmap.org/search?q=Calhoun+County%2C+West+Virginia%2C+USA&format=jsonv2&addressdetails=1&limit=1\n",
      "Status code Unknown from https://nominatim.openstreetmap.org/search: ERROR - HTTPSConnectionPool(host='nominatim.openstreetmap.org', port=443): Max retries exceeded with url: /search?q=Benton+County%2C+Tennessee%2C+USA&format=jsonv2&addressdetails=1&limit=1 (Caused by ConnectTimeoutError(<urllib3.connection.VerifiedHTTPSConnection object at 0x7f708477c7f0>, 'Connection to nominatim.openstreetmap.org timed out. (connect timeout=5.0)'))\n",
      "Status code Unknown from https://nominatim.openstreetmap.org/search: ERROR - HTTPSConnectionPool(host='nominatim.openstreetmap.org', port=443): Max retries exceeded with url: /search?q=Orange+County%2C+New+York%2C+USA&format=jsonv2&addressdetails=1&limit=1 (Caused by ConnectTimeoutError(<urllib3.connection.VerifiedHTTPSConnection object at 0x7f7084905908>, 'Connection to nominatim.openstreetmap.org timed out. (connect timeout=5.0)'))\n",
      "Status code 429 from https://nominatim.openstreetmap.org/search: ERROR - 429 Client Error: Too Many Requests for url: https://nominatim.openstreetmap.org/search?q=Pope+County%2C+Minnesota%2C+USA&format=jsonv2&addressdetails=1&limit=1\n",
      "Status code 429 from https://nominatim.openstreetmap.org/search: ERROR - 429 Client Error: Too Many Requests for url: https://nominatim.openstreetmap.org/search?q=Ramsey+County%2C+Minnesota%2C+USA&format=jsonv2&addressdetails=1&limit=1\n",
      "Status code 429 from https://nominatim.openstreetmap.org/search: ERROR - 429 Client Error: Too Many Requests for url: https://nominatim.openstreetmap.org/search?q=Orleans+County%2C+New+York%2C+USA&format=jsonv2&addressdetails=1&limit=1\n",
      "Status code 429 from https://nominatim.openstreetmap.org/search: ERROR - 429 Client Error: Too Many Requests for url: https://nominatim.openstreetmap.org/search?q=Red+Lake+County%2C+Minnesota%2C+USA&format=jsonv2&addressdetails=1&limit=1\n",
      "Status code 429 from https://nominatim.openstreetmap.org/search: ERROR - 429 Client Error: Too Many Requests for url: https://nominatim.openstreetmap.org/search?q=Oswego+County%2C+New+York%2C+USA&format=jsonv2&addressdetails=1&limit=1\n",
      "Status code 429 from https://nominatim.openstreetmap.org/search: ERROR - 429 Client Error: Too Many Requests for url: https://nominatim.openstreetmap.org/search?q=Otsego+County%2C+New+York%2C+USA&format=jsonv2&addressdetails=1&limit=1\n",
      "Status code Unknown from https://nominatim.openstreetmap.org/search: ERROR - HTTPSConnectionPool(host='nominatim.openstreetmap.org', port=443): Max retries exceeded with url: /search?q=Baker+County%2C+Florida%2C+USA&format=jsonv2&addressdetails=1&limit=1 (Caused by ConnectTimeoutError(<urllib3.connection.VerifiedHTTPSConnection object at 0x7f70848fe400>, 'Connection to nominatim.openstreetmap.org timed out. (connect timeout=5.0)'))\n",
      "Status code 429 from https://nominatim.openstreetmap.org/search: ERROR - 429 Client Error: Too Many Requests for url: https://nominatim.openstreetmap.org/search?q=Putnam+County%2C+New+York%2C+USA&format=jsonv2&addressdetails=1&limit=1\n",
      "Status code 429 from https://nominatim.openstreetmap.org/search: ERROR - 429 Client Error: Too Many Requests for url: https://nominatim.openstreetmap.org/search?q=Redwood+County%2C+Minnesota%2C+USA&format=jsonv2&addressdetails=1&limit=1\n",
      "Status code 429 from https://nominatim.openstreetmap.org/search: ERROR - 429 Client Error: Too Many Requests for url: https://nominatim.openstreetmap.org/search?q=Queens+County%2C+New+York%2C+USA&format=jsonv2&addressdetails=1&limit=1\n",
      "Status code Unknown from https://nominatim.openstreetmap.org/search: ERROR - HTTPSConnectionPool(host='nominatim.openstreetmap.org', port=443): Max retries exceeded with url: /search?q=Coffey+County%2C+Kansas%2C+USA&format=jsonv2&addressdetails=1&limit=1 (Caused by ConnectTimeoutError(<urllib3.connection.VerifiedHTTPSConnection object at 0x7f7084905748>, 'Connection to nominatim.openstreetmap.org timed out. (connect timeout=5.0)'))\n",
      "Status code 429 from https://nominatim.openstreetmap.org/search: ERROR - 429 Client Error: Too Many Requests for url: https://nominatim.openstreetmap.org/search?q=Renville+County%2C+Minnesota%2C+USA&format=jsonv2&addressdetails=1&limit=1\n"
     ]
    },
    {
     "name": "stderr",
     "output_type": "stream",
     "text": [
      "Status code 429 from https://nominatim.openstreetmap.org/search: ERROR - 429 Client Error: Too Many Requests for url: https://nominatim.openstreetmap.org/search?q=Rice+County%2C+Minnesota%2C+USA&format=jsonv2&addressdetails=1&limit=1\n",
      "Status code 429 from https://nominatim.openstreetmap.org/search: ERROR - 429 Client Error: Too Many Requests for url: https://nominatim.openstreetmap.org/search?q=Rock+County%2C+Minnesota%2C+USA&format=jsonv2&addressdetails=1&limit=1\n",
      "Status code 429 from https://nominatim.openstreetmap.org/search: ERROR - 429 Client Error: Too Many Requests for url: https://nominatim.openstreetmap.org/search?q=Roseau+County%2C+Minnesota%2C+USA&format=jsonv2&addressdetails=1&limit=1\n",
      "Status code 429 from https://nominatim.openstreetmap.org/search: ERROR - 429 Client Error: Too Many Requests for url: https://nominatim.openstreetmap.org/search?q=St.+Louis+County%2C+Minnesota%2C+USA&format=jsonv2&addressdetails=1&limit=1\n",
      "Status code 429 from https://nominatim.openstreetmap.org/search: ERROR - 429 Client Error: Too Many Requests for url: https://nominatim.openstreetmap.org/search?q=Rensselaer+County%2C+New+York%2C+USA&format=jsonv2&addressdetails=1&limit=1\n",
      "Status code 429 from https://nominatim.openstreetmap.org/search: ERROR - 429 Client Error: Too Many Requests for url: https://nominatim.openstreetmap.org/search?q=Scott+County%2C+Minnesota%2C+USA&format=jsonv2&addressdetails=1&limit=1\n",
      "Status code Unknown from https://nominatim.openstreetmap.org/search: ERROR - HTTPSConnectionPool(host='nominatim.openstreetmap.org', port=443): Max retries exceeded with url: /search?q=Clay+County%2C+West+Virginia%2C+USA&format=jsonv2&addressdetails=1&limit=1 (Caused by ConnectTimeoutError(<urllib3.connection.VerifiedHTTPSConnection object at 0x7f7084905828>, 'Connection to nominatim.openstreetmap.org timed out. (connect timeout=5.0)'))\n",
      "Status code Unknown from https://nominatim.openstreetmap.org/search: ERROR - HTTPSConnectionPool(host='nominatim.openstreetmap.org', port=443): Max retries exceeded with url: /search?q=Bledsoe+County%2C+Tennessee%2C+USA&format=jsonv2&addressdetails=1&limit=1 (Caused by ConnectTimeoutError(<urllib3.connection.VerifiedHTTPSConnection object at 0x7f70847aacf8>, 'Connection to nominatim.openstreetmap.org timed out. (connect timeout=5.0)'))\n",
      "Status code 429 from https://nominatim.openstreetmap.org/search: ERROR - 429 Client Error: Too Many Requests for url: https://nominatim.openstreetmap.org/search?q=Richmond+County%2C+New+York%2C+USA&format=jsonv2&addressdetails=1&limit=1\n",
      "Status code 429 from https://nominatim.openstreetmap.org/search: ERROR - 429 Client Error: Too Many Requests for url: https://nominatim.openstreetmap.org/search?q=Doddridge+County%2C+West+Virginia%2C+USA&format=jsonv2&addressdetails=1&limit=1\n",
      "Status code 429 from https://nominatim.openstreetmap.org/search: ERROR - 429 Client Error: Too Many Requests for url: https://nominatim.openstreetmap.org/search?q=Fayette+County%2C+West+Virginia%2C+USA&format=jsonv2&addressdetails=1&limit=1\n",
      "Status code 429 from https://nominatim.openstreetmap.org/search: ERROR - 429 Client Error: Too Many Requests for url: https://nominatim.openstreetmap.org/search?q=Blount+County%2C+Tennessee%2C+USA&format=jsonv2&addressdetails=1&limit=1\n",
      "Status code 429 from https://nominatim.openstreetmap.org/search: ERROR - 429 Client Error: Too Many Requests for url: https://nominatim.openstreetmap.org/search?q=Bradley+County%2C+Tennessee%2C+USA&format=jsonv2&addressdetails=1&limit=1\n",
      "Status code 429 from https://nominatim.openstreetmap.org/search: ERROR - 429 Client Error: Too Many Requests for url: https://nominatim.openstreetmap.org/search?q=Gilmer+County%2C+West+Virginia%2C+USA&format=jsonv2&addressdetails=1&limit=1\n",
      "Status code 429 from https://nominatim.openstreetmap.org/search: ERROR - 429 Client Error: Too Many Requests for url: https://nominatim.openstreetmap.org/search?q=Sherburne+County%2C+Minnesota%2C+USA&format=jsonv2&addressdetails=1&limit=1\n",
      "Status code 429 from https://nominatim.openstreetmap.org/search: ERROR - 429 Client Error: Too Many Requests for url: https://nominatim.openstreetmap.org/search?q=Grant+County%2C+West+Virginia%2C+USA&format=jsonv2&addressdetails=1&limit=1\n",
      "Status code 429 from https://nominatim.openstreetmap.org/search: ERROR - 429 Client Error: Too Many Requests for url: https://nominatim.openstreetmap.org/search?q=Greenbrier+County%2C+West+Virginia%2C+USA&format=jsonv2&addressdetails=1&limit=1\n",
      "Status code Unknown from https://nominatim.openstreetmap.org/search: ERROR - HTTPSConnectionPool(host='nominatim.openstreetmap.org', port=443): Max retries exceeded with url: /search?q=Bay+County%2C+Florida%2C+USA&format=jsonv2&addressdetails=1&limit=1 (Caused by ConnectTimeoutError(<urllib3.connection.VerifiedHTTPSConnection object at 0x7f7084905908>, 'Connection to nominatim.openstreetmap.org timed out. (connect timeout=5.0)'))\n",
      "Status code 429 from https://nominatim.openstreetmap.org/search: ERROR - 429 Client Error: Too Many Requests for url: https://nominatim.openstreetmap.org/search?q=Hampshire+County%2C+West+Virginia%2C+USA&format=jsonv2&addressdetails=1&limit=1\n",
      "Status code 429 from https://nominatim.openstreetmap.org/search: ERROR - 429 Client Error: Too Many Requests for url: https://nominatim.openstreetmap.org/search?q=Bradford+County%2C+Florida%2C+USA&format=jsonv2&addressdetails=1&limit=1\n",
      "Status code Unknown from https://nominatim.openstreetmap.org/search: ERROR - HTTPSConnectionPool(host='nominatim.openstreetmap.org', port=443): Max retries exceeded with url: /search?q=Comanche+County%2C+Kansas%2C+USA&format=jsonv2&addressdetails=1&limit=1 (Caused by ConnectTimeoutError(<urllib3.connection.VerifiedHTTPSConnection object at 0x7f70847b5da0>, 'Connection to nominatim.openstreetmap.org timed out. (connect timeout=5.0)'))\n",
      "Status code 429 from https://nominatim.openstreetmap.org/search: ERROR - 429 Client Error: Too Many Requests for url: https://nominatim.openstreetmap.org/search?q=Brevard+County%2C+Florida%2C+USA&format=jsonv2&addressdetails=1&limit=1\n",
      "Status code 429 from https://nominatim.openstreetmap.org/search: ERROR - 429 Client Error: Too Many Requests for url: https://nominatim.openstreetmap.org/search?q=Cowley+County%2C+Kansas%2C+USA&format=jsonv2&addressdetails=1&limit=1\n",
      "Status code 429 from https://nominatim.openstreetmap.org/search: ERROR - 429 Client Error: Too Many Requests for url: https://nominatim.openstreetmap.org/search?q=Crawford+County%2C+Kansas%2C+USA&format=jsonv2&addressdetails=1&limit=1\n",
      "Status code 429 from https://nominatim.openstreetmap.org/search: ERROR - 429 Client Error: Too Many Requests for url: https://nominatim.openstreetmap.org/search?q=Hancock+County%2C+West+Virginia%2C+USA&format=jsonv2&addressdetails=1&limit=1\n",
      "Status code 429 from https://nominatim.openstreetmap.org/search: ERROR - 429 Client Error: Too Many Requests for url: https://nominatim.openstreetmap.org/search?q=Decatur+County%2C+Kansas%2C+USA&format=jsonv2&addressdetails=1&limit=1\n",
      "Status code 429 from https://nominatim.openstreetmap.org/search: ERROR - 429 Client Error: Too Many Requests for url: https://nominatim.openstreetmap.org/search?q=Hardy+County%2C+West+Virginia%2C+USA&format=jsonv2&addressdetails=1&limit=1\n",
      "Status code 429 from https://nominatim.openstreetmap.org/search: ERROR - 429 Client Error: Too Many Requests for url: https://nominatim.openstreetmap.org/search?q=Dickinson+County%2C+Kansas%2C+USA&format=jsonv2&addressdetails=1&limit=1\n",
      "Status code 429 from https://nominatim.openstreetmap.org/search: ERROR - 429 Client Error: Too Many Requests for url: https://nominatim.openstreetmap.org/search?q=Harrison+County%2C+West+Virginia%2C+USA&format=jsonv2&addressdetails=1&limit=1\n",
      "Status code Unknown from https://nominatim.openstreetmap.org/search: ERROR - HTTPSConnectionPool(host='nominatim.openstreetmap.org', port=443): Max retries exceeded with url: /search?q=Rockland+County%2C+New+York%2C+USA&format=jsonv2&addressdetails=1&limit=1 (Caused by ConnectTimeoutError(<urllib3.connection.VerifiedHTTPSConnection object at 0x7f708486e128>, 'Connection to nominatim.openstreetmap.org timed out. (connect timeout=5.0)'))\n",
      "Status code 429 from https://nominatim.openstreetmap.org/search: ERROR - 429 Client Error: Too Many Requests for url: https://nominatim.openstreetmap.org/search?q=Jackson+County%2C+West+Virginia%2C+USA&format=jsonv2&addressdetails=1&limit=1\n"
     ]
    },
    {
     "name": "stderr",
     "output_type": "stream",
     "text": [
      "Status code 429 from https://nominatim.openstreetmap.org/search: ERROR - 429 Client Error: Too Many Requests for url: https://nominatim.openstreetmap.org/search?q=Doniphan+County%2C+Kansas%2C+USA&format=jsonv2&addressdetails=1&limit=1\n",
      "Status code 429 from https://nominatim.openstreetmap.org/search: ERROR - 429 Client Error: Too Many Requests for url: https://nominatim.openstreetmap.org/search?q=St.+Lawrence+County%2C+New+York%2C+USA&format=jsonv2&addressdetails=1&limit=1\n",
      "Status code Unknown from https://nominatim.openstreetmap.org/search: ERROR - HTTPSConnectionPool(host='nominatim.openstreetmap.org', port=443): Max retries exceeded with url: /search?q=Campbell+County%2C+Tennessee%2C+USA&format=jsonv2&addressdetails=1&limit=1 (Caused by ConnectTimeoutError(<urllib3.connection.VerifiedHTTPSConnection object at 0x7f708486ec18>, 'Connection to nominatim.openstreetmap.org timed out. (connect timeout=5.0)'))\n",
      "Status code 429 from https://nominatim.openstreetmap.org/search: ERROR - 429 Client Error: Too Many Requests for url: https://nominatim.openstreetmap.org/search?q=Jefferson+County%2C+West+Virginia%2C+USA&format=jsonv2&addressdetails=1&limit=1\n",
      "Status code 429 from https://nominatim.openstreetmap.org/search: ERROR - 429 Client Error: Too Many Requests for url: https://nominatim.openstreetmap.org/search?q=Saratoga+County%2C+New+York%2C+USA&format=jsonv2&addressdetails=1&limit=1\n",
      "Status code 429 from https://nominatim.openstreetmap.org/search: ERROR - 429 Client Error: Too Many Requests for url: https://nominatim.openstreetmap.org/search?q=Kanawha+County%2C+West+Virginia%2C+USA&format=jsonv2&addressdetails=1&limit=1\n",
      "Status code Unknown from https://nominatim.openstreetmap.org/search: ERROR - HTTPSConnectionPool(host='nominatim.openstreetmap.org', port=443): Max retries exceeded with url: /search?q=Sibley+County%2C+Minnesota%2C+USA&format=jsonv2&addressdetails=1&limit=1 (Caused by ConnectTimeoutError(<urllib3.connection.VerifiedHTTPSConnection object at 0x7f70847b5c88>, 'Connection to nominatim.openstreetmap.org timed out. (connect timeout=5.0)'))\n",
      "Status code 429 from https://nominatim.openstreetmap.org/search: ERROR - 429 Client Error: Too Many Requests for url: https://nominatim.openstreetmap.org/search?q=Lewis+County%2C+West+Virginia%2C+USA&format=jsonv2&addressdetails=1&limit=1\n",
      "Status code 429 from https://nominatim.openstreetmap.org/search: ERROR - 429 Client Error: Too Many Requests for url: https://nominatim.openstreetmap.org/search?q=Stearns+County%2C+Minnesota%2C+USA&format=jsonv2&addressdetails=1&limit=1\n",
      "Status code 429 from https://nominatim.openstreetmap.org/search: ERROR - 429 Client Error: Too Many Requests for url: https://nominatim.openstreetmap.org/search?q=Steele+County%2C+Minnesota%2C+USA&format=jsonv2&addressdetails=1&limit=1\n",
      "Status code 429 from https://nominatim.openstreetmap.org/search: ERROR - 429 Client Error: Too Many Requests for url: https://nominatim.openstreetmap.org/search?q=Stevens+County%2C+Minnesota%2C+USA&format=jsonv2&addressdetails=1&limit=1\n",
      "Status code 429 from https://nominatim.openstreetmap.org/search: ERROR - 429 Client Error: Too Many Requests for url: https://nominatim.openstreetmap.org/search?q=Cannon+County%2C+Tennessee%2C+USA&format=jsonv2&addressdetails=1&limit=1\n",
      "Status code 429 from https://nominatim.openstreetmap.org/search: ERROR - 429 Client Error: Too Many Requests for url: https://nominatim.openstreetmap.org/search?q=Swift+County%2C+Minnesota%2C+USA&format=jsonv2&addressdetails=1&limit=1\n",
      "Status code Unknown from https://nominatim.openstreetmap.org/search: ERROR - HTTPSConnectionPool(host='nominatim.openstreetmap.org', port=443): Max retries exceeded with url: /search?q=Broward+County%2C+Florida%2C+USA&format=jsonv2&addressdetails=1&limit=1 (Caused by ConnectTimeoutError(<urllib3.connection.VerifiedHTTPSConnection object at 0x7f70852bafd0>, 'Connection to nominatim.openstreetmap.org timed out. (connect timeout=5.0)'))\n",
      "Status code 429 from https://nominatim.openstreetmap.org/search: ERROR - 429 Client Error: Too Many Requests for url: https://nominatim.openstreetmap.org/search?q=Carroll+County%2C+Tennessee%2C+USA&format=jsonv2&addressdetails=1&limit=1\n",
      "Status code 429 from https://nominatim.openstreetmap.org/search: ERROR - 429 Client Error: Too Many Requests for url: https://nominatim.openstreetmap.org/search?q=Carter+County%2C+Tennessee%2C+USA&format=jsonv2&addressdetails=1&limit=1\n",
      "Status code 429 from https://nominatim.openstreetmap.org/search: ERROR - 429 Client Error: Too Many Requests for url: https://nominatim.openstreetmap.org/search?q=Todd+County%2C+Minnesota%2C+USA&format=jsonv2&addressdetails=1&limit=1\n",
      "Status code 429 from https://nominatim.openstreetmap.org/search: ERROR - 429 Client Error: Too Many Requests for url: https://nominatim.openstreetmap.org/search?q=Cheatham+County%2C+Tennessee%2C+USA&format=jsonv2&addressdetails=1&limit=1\n",
      "Status code 429 from https://nominatim.openstreetmap.org/search: ERROR - 429 Client Error: Too Many Requests for url: https://nominatim.openstreetmap.org/search?q=Chester+County%2C+Tennessee%2C+USA&format=jsonv2&addressdetails=1&limit=1\n",
      "Status code 429 from https://nominatim.openstreetmap.org/search: ERROR - 429 Client Error: Too Many Requests for url: https://nominatim.openstreetmap.org/search?q=Claiborne+County%2C+Tennessee%2C+USA&format=jsonv2&addressdetails=1&limit=1\n",
      "Status code 429 from https://nominatim.openstreetmap.org/search: ERROR - 429 Client Error: Too Many Requests for url: https://nominatim.openstreetmap.org/search?q=Calhoun+County%2C+Florida%2C+USA&format=jsonv2&addressdetails=1&limit=1\n",
      "Status code 429 from https://nominatim.openstreetmap.org/search: ERROR - 429 Client Error: Too Many Requests for url: https://nominatim.openstreetmap.org/search?q=Clay+County%2C+Tennessee%2C+USA&format=jsonv2&addressdetails=1&limit=1\n",
      "Status code 429 from https://nominatim.openstreetmap.org/search: ERROR - 429 Client Error: Too Many Requests for url: https://nominatim.openstreetmap.org/search?q=Charlotte+County%2C+Florida%2C+USA&format=jsonv2&addressdetails=1&limit=1\n",
      "Status code Unknown from https://nominatim.openstreetmap.org/search: ERROR - HTTPSConnectionPool(host='nominatim.openstreetmap.org', port=443): Max retries exceeded with url: /search?q=Douglas+County%2C+Kansas%2C+USA&format=jsonv2&addressdetails=1&limit=1 (Caused by ConnectTimeoutError(<urllib3.connection.VerifiedHTTPSConnection object at 0x7f70846989e8>, 'Connection to nominatim.openstreetmap.org timed out. (connect timeout=5.0)'))\n",
      "Status code 429 from https://nominatim.openstreetmap.org/search: ERROR - 429 Client Error: Too Many Requests for url: https://nominatim.openstreetmap.org/search?q=Citrus+County%2C+Florida%2C+USA&format=jsonv2&addressdetails=1&limit=1\n",
      "Status code 429 from https://nominatim.openstreetmap.org/search: ERROR - 429 Client Error: Too Many Requests for url: https://nominatim.openstreetmap.org/search?q=Cocke+County%2C+Tennessee%2C+USA&format=jsonv2&addressdetails=1&limit=1\n",
      "Status code 429 from https://nominatim.openstreetmap.org/search: ERROR - 429 Client Error: Too Many Requests for url: https://nominatim.openstreetmap.org/search?q=Edwards+County%2C+Kansas%2C+USA&format=jsonv2&addressdetails=1&limit=1\n",
      "Status code Unknown from https://nominatim.openstreetmap.org/search: ERROR - HTTPSConnectionPool(host='nominatim.openstreetmap.org', port=443): Max retries exceeded with url: /search?q=Schenectady+County%2C+New+York%2C+USA&format=jsonv2&addressdetails=1&limit=1 (Caused by ConnectTimeoutError(<urllib3.connection.VerifiedHTTPSConnection object at 0x7f7084967668>, 'Connection to nominatim.openstreetmap.org timed out. (connect timeout=5.0)'))\n",
      "Status code 429 from https://nominatim.openstreetmap.org/search: ERROR - 429 Client Error: Too Many Requests for url: https://nominatim.openstreetmap.org/search?q=Elk+County%2C+Kansas%2C+USA&format=jsonv2&addressdetails=1&limit=1\n",
      "Status code 429 from https://nominatim.openstreetmap.org/search: ERROR - 429 Client Error: Too Many Requests for url: https://nominatim.openstreetmap.org/search?q=Clay+County%2C+Florida%2C+USA&format=jsonv2&addressdetails=1&limit=1\n",
      "Status code 429 from https://nominatim.openstreetmap.org/search: ERROR - 429 Client Error: Too Many Requests for url: https://nominatim.openstreetmap.org/search?q=Collier+County%2C+Florida%2C+USA&format=jsonv2&addressdetails=1&limit=1\n"
     ]
    },
    {
     "name": "stderr",
     "output_type": "stream",
     "text": [
      "Status code Unknown from https://nominatim.openstreetmap.org/search: ERROR - HTTPSConnectionPool(host='nominatim.openstreetmap.org', port=443): Max retries exceeded with url: /search?q=Lincoln+County%2C+West+Virginia%2C+USA&format=jsonv2&addressdetails=1&limit=1 (Caused by ConnectTimeoutError(<urllib3.connection.VerifiedHTTPSConnection object at 0x7f70852670f0>, 'Connection to nominatim.openstreetmap.org timed out. (connect timeout=5.0)'))\n",
      "Status code 429 from https://nominatim.openstreetmap.org/search: ERROR - 429 Client Error: Too Many Requests for url: https://nominatim.openstreetmap.org/search?q=Schoharie+County%2C+New+York%2C+USA&format=jsonv2&addressdetails=1&limit=1\n",
      "Status code 429 from https://nominatim.openstreetmap.org/search: ERROR - 429 Client Error: Too Many Requests for url: https://nominatim.openstreetmap.org/search?q=Logan+County%2C+West+Virginia%2C+USA&format=jsonv2&addressdetails=1&limit=1\n",
      "Status code 429 from https://nominatim.openstreetmap.org/search: ERROR - 429 Client Error: Too Many Requests for url: https://nominatim.openstreetmap.org/search?q=Schuyler+County%2C+New+York%2C+USA&format=jsonv2&addressdetails=1&limit=1\n",
      "Status code 429 from https://nominatim.openstreetmap.org/search: ERROR - 429 Client Error: Too Many Requests for url: https://nominatim.openstreetmap.org/search?q=Seneca+County%2C+New+York%2C+USA&format=jsonv2&addressdetails=1&limit=1\n",
      "Status code 429 from https://nominatim.openstreetmap.org/search: ERROR - 429 Client Error: Too Many Requests for url: https://nominatim.openstreetmap.org/search?q=McDowell+County%2C+West+Virginia%2C+USA&format=jsonv2&addressdetails=1&limit=1\n",
      "Status code 429 from https://nominatim.openstreetmap.org/search: ERROR - 429 Client Error: Too Many Requests for url: https://nominatim.openstreetmap.org/search?q=Marion+County%2C+West+Virginia%2C+USA&format=jsonv2&addressdetails=1&limit=1\n",
      "Status code 429 from https://nominatim.openstreetmap.org/search: ERROR - 429 Client Error: Too Many Requests for url: https://nominatim.openstreetmap.org/search?q=Steuben+County%2C+New+York%2C+USA&format=jsonv2&addressdetails=1&limit=1\n",
      "Status code 429 from https://nominatim.openstreetmap.org/search: ERROR - 429 Client Error: Too Many Requests for url: https://nominatim.openstreetmap.org/search?q=Marshall+County%2C+West+Virginia%2C+USA&format=jsonv2&addressdetails=1&limit=1\n",
      "Status code Unknown from https://nominatim.openstreetmap.org/search: ERROR - HTTPSConnectionPool(host='nominatim.openstreetmap.org', port=443): Max retries exceeded with url: /search?q=Traverse+County%2C+Minnesota%2C+USA&format=jsonv2&addressdetails=1&limit=1 (Caused by ConnectTimeoutError(<urllib3.connection.VerifiedHTTPSConnection object at 0x7f708479d160>, 'Connection to nominatim.openstreetmap.org timed out. (connect timeout=5.0)'))\n",
      "Status code 429 from https://nominatim.openstreetmap.org/search: ERROR - 429 Client Error: Too Many Requests for url: https://nominatim.openstreetmap.org/search?q=Suffolk+County%2C+New+York%2C+USA&format=jsonv2&addressdetails=1&limit=1\n",
      "Status code 429 from https://nominatim.openstreetmap.org/search: ERROR - 429 Client Error: Too Many Requests for url: https://nominatim.openstreetmap.org/search?q=Wabasha+County%2C+Minnesota%2C+USA&format=jsonv2&addressdetails=1&limit=1\n",
      "Status code 429 from https://nominatim.openstreetmap.org/search: ERROR - 429 Client Error: Too Many Requests for url: https://nominatim.openstreetmap.org/search?q=Wadena+County%2C+Minnesota%2C+USA&format=jsonv2&addressdetails=1&limit=1\n",
      "Status code 429 from https://nominatim.openstreetmap.org/search: ERROR - 429 Client Error: Too Many Requests for url: https://nominatim.openstreetmap.org/search?q=Sullivan+County%2C+New+York%2C+USA&format=jsonv2&addressdetails=1&limit=1\n",
      "Status code 429 from https://nominatim.openstreetmap.org/search: ERROR - 429 Client Error: Too Many Requests for url: https://nominatim.openstreetmap.org/search?q=Waseca+County%2C+Minnesota%2C+USA&format=jsonv2&addressdetails=1&limit=1\n",
      "Status code 429 from https://nominatim.openstreetmap.org/search: ERROR - 429 Client Error: Too Many Requests for url: https://nominatim.openstreetmap.org/search?q=Mason+County%2C+West+Virginia%2C+USA&format=jsonv2&addressdetails=1&limit=1\n",
      "Status code 429 from https://nominatim.openstreetmap.org/search: ERROR - 429 Client Error: Too Many Requests for url: https://nominatim.openstreetmap.org/search?q=Washington+County%2C+Minnesota%2C+USA&format=jsonv2&addressdetails=1&limit=1\n",
      "Status code Unknown from https://nominatim.openstreetmap.org/search: ERROR - HTTPSConnectionPool(host='nominatim.openstreetmap.org', port=443): Max retries exceeded with url: /search?q=Coffee+County%2C+Tennessee%2C+USA&format=jsonv2&addressdetails=1&limit=1 (Caused by ConnectTimeoutError(<urllib3.connection.VerifiedHTTPSConnection object at 0x7f7084967da0>, 'Connection to nominatim.openstreetmap.org timed out. (connect timeout=5.0)'))\n",
      "Status code 429 from https://nominatim.openstreetmap.org/search: ERROR - 429 Client Error: Too Many Requests for url: https://nominatim.openstreetmap.org/search?q=Watonwan+County%2C+Minnesota%2C+USA&format=jsonv2&addressdetails=1&limit=1\n",
      "Status code 429 from https://nominatim.openstreetmap.org/search: ERROR - 429 Client Error: Too Many Requests for url: https://nominatim.openstreetmap.org/search?q=Crockett+County%2C+Tennessee%2C+USA&format=jsonv2&addressdetails=1&limit=1\n",
      "Status code Unknown from https://nominatim.openstreetmap.org/search: ERROR - HTTPSConnectionPool(host='nominatim.openstreetmap.org', port=443): Max retries exceeded with url: /search?q=Ellis+County%2C+Kansas%2C+USA&format=jsonv2&addressdetails=1&limit=1 (Caused by ConnectTimeoutError(<urllib3.connection.VerifiedHTTPSConnection object at 0x7f708486e4a8>, 'Connection to nominatim.openstreetmap.org timed out. (connect timeout=5.0)'))\n",
      "Status code 429 from https://nominatim.openstreetmap.org/search: ERROR - 429 Client Error: Too Many Requests for url: https://nominatim.openstreetmap.org/search?q=Cumberland+County%2C+Tennessee%2C+USA&format=jsonv2&addressdetails=1&limit=1\n",
      "Status code Unknown from https://nominatim.openstreetmap.org/search: ERROR - HTTPSConnectionPool(host='nominatim.openstreetmap.org', port=443): Max retries exceeded with url: /search?q=Columbia+County%2C+Florida%2C+USA&format=jsonv2&addressdetails=1&limit=1 (Caused by ConnectTimeoutError(<urllib3.connection.VerifiedHTTPSConnection object at 0x7f70b8296438>, 'Connection to nominatim.openstreetmap.org timed out. (connect timeout=5.0)'))\n",
      "Status code 429 from https://nominatim.openstreetmap.org/search: ERROR - 429 Client Error: Too Many Requests for url: https://nominatim.openstreetmap.org/search?q=Davidson+County%2C+Tennessee%2C+USA&format=jsonv2&addressdetails=1&limit=1\n",
      "Status code 429 from https://nominatim.openstreetmap.org/search: ERROR - 429 Client Error: Too Many Requests for url: https://nominatim.openstreetmap.org/search?q=Ellsworth+County%2C+Kansas%2C+USA&format=jsonv2&addressdetails=1&limit=1\n",
      "Status code 429 from https://nominatim.openstreetmap.org/search: ERROR - 429 Client Error: Too Many Requests for url: https://nominatim.openstreetmap.org/search?q=DeSoto+County%2C+Florida%2C+USA&format=jsonv2&addressdetails=1&limit=1\n",
      "Status code 429 from https://nominatim.openstreetmap.org/search: ERROR - 429 Client Error: Too Many Requests for url: https://nominatim.openstreetmap.org/search?q=Dixie+County%2C+Florida%2C+USA&format=jsonv2&addressdetails=1&limit=1\n",
      "Status code 429 from https://nominatim.openstreetmap.org/search: ERROR - 429 Client Error: Too Many Requests for url: https://nominatim.openstreetmap.org/search?q=Decatur+County%2C+Tennessee%2C+USA&format=jsonv2&addressdetails=1&limit=1\n",
      "Status code 429 from https://nominatim.openstreetmap.org/search: ERROR - 429 Client Error: Too Many Requests for url: https://nominatim.openstreetmap.org/search?q=Finney+County%2C+Kansas%2C+USA&format=jsonv2&addressdetails=1&limit=1\n",
      "Status code 429 from https://nominatim.openstreetmap.org/search: ERROR - 429 Client Error: Too Many Requests for url: https://nominatim.openstreetmap.org/search?q=Duval+County%2C+Florida%2C+USA&format=jsonv2&addressdetails=1&limit=1\n",
      "Status code 429 from https://nominatim.openstreetmap.org/search: ERROR - 429 Client Error: Too Many Requests for url: https://nominatim.openstreetmap.org/search?q=DeKalb+County%2C+Tennessee%2C+USA&format=jsonv2&addressdetails=1&limit=1\n"
     ]
    },
    {
     "name": "stderr",
     "output_type": "stream",
     "text": [
      "Status code 429 from https://nominatim.openstreetmap.org/search: ERROR - 429 Client Error: Too Many Requests for url: https://nominatim.openstreetmap.org/search?q=Escambia+County%2C+Florida%2C+USA&format=jsonv2&addressdetails=1&limit=1\n",
      "Status code 429 from https://nominatim.openstreetmap.org/search: ERROR - 429 Client Error: Too Many Requests for url: https://nominatim.openstreetmap.org/search?q=Flagler+County%2C+Florida%2C+USA&format=jsonv2&addressdetails=1&limit=1\n",
      "Status code 429 from https://nominatim.openstreetmap.org/search: ERROR - 429 Client Error: Too Many Requests for url: https://nominatim.openstreetmap.org/search?q=Franklin+County%2C+Florida%2C+USA&format=jsonv2&addressdetails=1&limit=1\n",
      "Status code 429 from https://nominatim.openstreetmap.org/search: ERROR - 429 Client Error: Too Many Requests for url: https://nominatim.openstreetmap.org/search?q=Gadsden+County%2C+Florida%2C+USA&format=jsonv2&addressdetails=1&limit=1\n",
      "Status code Unknown from https://nominatim.openstreetmap.org/search: ERROR - HTTPSConnectionPool(host='nominatim.openstreetmap.org', port=443): Max retries exceeded with url: /search?q=Tioga+County%2C+New+York%2C+USA&format=jsonv2&addressdetails=1&limit=1 (Caused by ConnectTimeoutError(<urllib3.connection.VerifiedHTTPSConnection object at 0x7f708486e940>, 'Connection to nominatim.openstreetmap.org timed out. (connect timeout=5.0)'))\n",
      "Status code 429 from https://nominatim.openstreetmap.org/search: ERROR - 429 Client Error: Too Many Requests for url: https://nominatim.openstreetmap.org/search?q=Gilchrist+County%2C+Florida%2C+USA&format=jsonv2&addressdetails=1&limit=1\n",
      "Status code 429 from https://nominatim.openstreetmap.org/search: ERROR - 429 Client Error: Too Many Requests for url: https://nominatim.openstreetmap.org/search?q=Tompkins+County%2C+New+York%2C+USA&format=jsonv2&addressdetails=1&limit=1\n",
      "Status code 429 from https://nominatim.openstreetmap.org/search: ERROR - 429 Client Error: Too Many Requests for url: https://nominatim.openstreetmap.org/search?q=Glades+County%2C+Florida%2C+USA&format=jsonv2&addressdetails=1&limit=1\n",
      "Status code Unknown from https://nominatim.openstreetmap.org/search: ERROR - HTTPSConnectionPool(host='nominatim.openstreetmap.org', port=443): Max retries exceeded with url: /search?q=Mercer+County%2C+West+Virginia%2C+USA&format=jsonv2&addressdetails=1&limit=1 (Caused by ConnectTimeoutError(<urllib3.connection.VerifiedHTTPSConnection object at 0x7f708477e080>, 'Connection to nominatim.openstreetmap.org timed out. (connect timeout=5.0)'))\n",
      "Status code 429 from https://nominatim.openstreetmap.org/search: ERROR - 429 Client Error: Too Many Requests for url: https://nominatim.openstreetmap.org/search?q=Gulf+County%2C+Florida%2C+USA&format=jsonv2&addressdetails=1&limit=1\n",
      "Status code 429 from https://nominatim.openstreetmap.org/search: ERROR - 429 Client Error: Too Many Requests for url: https://nominatim.openstreetmap.org/search?q=Mineral+County%2C+West+Virginia%2C+USA&format=jsonv2&addressdetails=1&limit=1\n",
      "Status code Unknown from https://nominatim.openstreetmap.org/search: ERROR - HTTPSConnectionPool(host='nominatim.openstreetmap.org', port=443): Max retries exceeded with url: /search?q=Wilkin+County%2C+Minnesota%2C+USA&format=jsonv2&addressdetails=1&limit=1 (Caused by ConnectTimeoutError(<urllib3.connection.VerifiedHTTPSConnection object at 0x7f708486e748>, 'Connection to nominatim.openstreetmap.org timed out. (connect timeout=5.0)'))\n",
      "Status code 429 from https://nominatim.openstreetmap.org/search: ERROR - 429 Client Error: Too Many Requests for url: https://nominatim.openstreetmap.org/search?q=Mingo+County%2C+West+Virginia%2C+USA&format=jsonv2&addressdetails=1&limit=1\n",
      "Status code 429 from https://nominatim.openstreetmap.org/search: ERROR - 429 Client Error: Too Many Requests for url: https://nominatim.openstreetmap.org/search?q=Hamilton+County%2C+Florida%2C+USA&format=jsonv2&addressdetails=1&limit=1\n",
      "Status code 429 from https://nominatim.openstreetmap.org/search: ERROR - 429 Client Error: Too Many Requests for url: https://nominatim.openstreetmap.org/search?q=Hardee+County%2C+Florida%2C+USA&format=jsonv2&addressdetails=1&limit=1\n",
      "Status code 429 from https://nominatim.openstreetmap.org/search: ERROR - 429 Client Error: Too Many Requests for url: https://nominatim.openstreetmap.org/search?q=Hendry+County%2C+Florida%2C+USA&format=jsonv2&addressdetails=1&limit=1\n",
      "Status code 429 from https://nominatim.openstreetmap.org/search: ERROR - 429 Client Error: Too Many Requests for url: https://nominatim.openstreetmap.org/search?q=Winona+County%2C+Minnesota%2C+USA&format=jsonv2&addressdetails=1&limit=1\n",
      "Status code Unknown from https://nominatim.openstreetmap.org/search: ERROR - HTTPSConnectionPool(host='nominatim.openstreetmap.org', port=443): Max retries exceeded with url: /search?q=Ford+County%2C+Kansas%2C+USA&format=jsonv2&addressdetails=1&limit=1 (Caused by ConnectTimeoutError(<urllib3.connection.VerifiedHTTPSConnection object at 0x7f708495f0f0>, 'Connection to nominatim.openstreetmap.org timed out. (connect timeout=5.0)'))\n",
      "Status code 429 from https://nominatim.openstreetmap.org/search: ERROR - 429 Client Error: Too Many Requests for url: https://nominatim.openstreetmap.org/search?q=Monongalia+County%2C+West+Virginia%2C+USA&format=jsonv2&addressdetails=1&limit=1\n",
      "Status code 429 from https://nominatim.openstreetmap.org/search: ERROR - 429 Client Error: Too Many Requests for url: https://nominatim.openstreetmap.org/search?q=Wright+County%2C+Minnesota%2C+USA&format=jsonv2&addressdetails=1&limit=1\n",
      "Status code 429 from https://nominatim.openstreetmap.org/search: ERROR - 429 Client Error: Too Many Requests for url: https://nominatim.openstreetmap.org/search?q=Monroe+County%2C+West+Virginia%2C+USA&format=jsonv2&addressdetails=1&limit=1\n",
      "Status code Unknown from https://nominatim.openstreetmap.org/search: ERROR - HTTPSConnectionPool(host='nominatim.openstreetmap.org', port=443): Max retries exceeded with url: /search?q=Dickson+County%2C+Tennessee%2C+USA&format=jsonv2&addressdetails=1&limit=1 (Caused by ConnectTimeoutError(<urllib3.connection.VerifiedHTTPSConnection object at 0x7f708477ce10>, 'Connection to nominatim.openstreetmap.org timed out. (connect timeout=5.0)'))\n",
      "Status code 429 from https://nominatim.openstreetmap.org/search: ERROR - 429 Client Error: Too Many Requests for url: https://nominatim.openstreetmap.org/search?q=Morgan+County%2C+West+Virginia%2C+USA&format=jsonv2&addressdetails=1&limit=1\n",
      "Status code 429 from https://nominatim.openstreetmap.org/search: ERROR - 429 Client Error: Too Many Requests for url: https://nominatim.openstreetmap.org/search?q=Dyer+County%2C+Tennessee%2C+USA&format=jsonv2&addressdetails=1&limit=1\n",
      "Status code 429 from https://nominatim.openstreetmap.org/search: ERROR - 429 Client Error: Too Many Requests for url: https://nominatim.openstreetmap.org/search?q=Nicholas+County%2C+West+Virginia%2C+USA&format=jsonv2&addressdetails=1&limit=1\n",
      "Status code 429 from https://nominatim.openstreetmap.org/search: ERROR - 429 Client Error: Too Many Requests for url: https://nominatim.openstreetmap.org/search?q=Ohio+County%2C+West+Virginia%2C+USA&format=jsonv2&addressdetails=1&limit=1\n",
      "Status code 429 from https://nominatim.openstreetmap.org/search: ERROR - 429 Client Error: Too Many Requests for url: https://nominatim.openstreetmap.org/search?q=Fayette+County%2C+Tennessee%2C+USA&format=jsonv2&addressdetails=1&limit=1\n",
      "Status code 429 from https://nominatim.openstreetmap.org/search: ERROR - 429 Client Error: Too Many Requests for url: https://nominatim.openstreetmap.org/search?q=Yellow+Medicine+County%2C+Minnesota%2C+USA&format=jsonv2&addressdetails=1&limit=1\n",
      "Status code Unknown from https://nominatim.openstreetmap.org/search: ERROR - HTTPSConnectionPool(host='nominatim.openstreetmap.org', port=443): Max retries exceeded with url: /search?q=Ulster+County%2C+New+York%2C+USA&format=jsonv2&addressdetails=1&limit=1 (Caused by ConnectTimeoutError(<urllib3.connection.VerifiedHTTPSConnection object at 0x7f70847b70b8>, 'Connection to nominatim.openstreetmap.org timed out. (connect timeout=5.0)'))\n",
      "Status code 429 from https://nominatim.openstreetmap.org/search: ERROR - 429 Client Error: Too Many Requests for url: https://nominatim.openstreetmap.org/search?q=Pendleton+County%2C+West+Virginia%2C+USA&format=jsonv2&addressdetails=1&limit=1\n"
     ]
    },
    {
     "name": "stderr",
     "output_type": "stream",
     "text": [
      "Status code 429 from https://nominatim.openstreetmap.org/search: ERROR - 429 Client Error: Too Many Requests for url: https://nominatim.openstreetmap.org/search?q=Adams+County%2C+Mississippi%2C+USA&format=jsonv2&addressdetails=1&limit=1\n",
      "Status code 429 from https://nominatim.openstreetmap.org/search: ERROR - 429 Client Error: Too Many Requests for url: https://nominatim.openstreetmap.org/search?q=Pleasants+County%2C+West+Virginia%2C+USA&format=jsonv2&addressdetails=1&limit=1\n",
      "Status code 429 from https://nominatim.openstreetmap.org/search: ERROR - 429 Client Error: Too Many Requests for url: https://nominatim.openstreetmap.org/search?q=Warren+County%2C+New+York%2C+USA&format=jsonv2&addressdetails=1&limit=1\n",
      "Status code 429 from https://nominatim.openstreetmap.org/search: ERROR - 429 Client Error: Too Many Requests for url: https://nominatim.openstreetmap.org/search?q=Alcorn+County%2C+Mississippi%2C+USA&format=jsonv2&addressdetails=1&limit=1\n",
      "Status code 429 from https://nominatim.openstreetmap.org/search: ERROR - 429 Client Error: Too Many Requests for url: https://nominatim.openstreetmap.org/search?q=Pocahontas+County%2C+West+Virginia%2C+USA&format=jsonv2&addressdetails=1&limit=1\n",
      "Status code 429 from https://nominatim.openstreetmap.org/search: ERROR - 429 Client Error: Too Many Requests for url: https://nominatim.openstreetmap.org/search?q=Preston+County%2C+West+Virginia%2C+USA&format=jsonv2&addressdetails=1&limit=1\n",
      "Status code 429 from https://nominatim.openstreetmap.org/search: ERROR - 429 Client Error: Too Many Requests for url: https://nominatim.openstreetmap.org/search?q=Putnam+County%2C+West+Virginia%2C+USA&format=jsonv2&addressdetails=1&limit=1\n",
      "Status code Unknown from https://nominatim.openstreetmap.org/search: ERROR - HTTPSConnectionPool(host='nominatim.openstreetmap.org', port=443): Max retries exceeded with url: /search?q=Hernando+County%2C+Florida%2C+USA&format=jsonv2&addressdetails=1&limit=1 (Caused by ConnectTimeoutError(<urllib3.connection.VerifiedHTTPSConnection object at 0x7f70847b6cf8>, 'Connection to nominatim.openstreetmap.org timed out. (connect timeout=5.0)'))\n",
      "Status code 429 from https://nominatim.openstreetmap.org/search: ERROR - 429 Client Error: Too Many Requests for url: https://nominatim.openstreetmap.org/search?q=Raleigh+County%2C+West+Virginia%2C+USA&format=jsonv2&addressdetails=1&limit=1\n",
      "Status code 429 from https://nominatim.openstreetmap.org/search: ERROR - 429 Client Error: Too Many Requests for url: https://nominatim.openstreetmap.org/search?q=Highlands+County%2C+Florida%2C+USA&format=jsonv2&addressdetails=1&limit=1\n",
      "Status code 429 from https://nominatim.openstreetmap.org/search: ERROR - 429 Client Error: Too Many Requests for url: https://nominatim.openstreetmap.org/search?q=Randolph+County%2C+West+Virginia%2C+USA&format=jsonv2&addressdetails=1&limit=1\n",
      "Status code Unknown from https://nominatim.openstreetmap.org/search: ERROR - HTTPSConnectionPool(host='nominatim.openstreetmap.org', port=443): Max retries exceeded with url: /search?q=Franklin+County%2C+Kansas%2C+USA&format=jsonv2&addressdetails=1&limit=1 (Caused by ConnectTimeoutError(<urllib3.connection.VerifiedHTTPSConnection object at 0x7f7084905748>, 'Connection to nominatim.openstreetmap.org timed out. (connect timeout=5.0)'))\n",
      "Status code 429 from https://nominatim.openstreetmap.org/search: ERROR - 429 Client Error: Too Many Requests for url: https://nominatim.openstreetmap.org/search?q=Ritchie+County%2C+West+Virginia%2C+USA&format=jsonv2&addressdetails=1&limit=1\n",
      "Status code 429 from https://nominatim.openstreetmap.org/search: ERROR - 429 Client Error: Too Many Requests for url: https://nominatim.openstreetmap.org/search?q=Geary+County%2C+Kansas%2C+USA&format=jsonv2&addressdetails=1&limit=1\n",
      "Status code 429 from https://nominatim.openstreetmap.org/search: ERROR - 429 Client Error: Too Many Requests for url: https://nominatim.openstreetmap.org/search?q=Roane+County%2C+West+Virginia%2C+USA&format=jsonv2&addressdetails=1&limit=1\n",
      "Status code 429 from https://nominatim.openstreetmap.org/search: ERROR - 429 Client Error: Too Many Requests for url: https://nominatim.openstreetmap.org/search?q=Summers+County%2C+West+Virginia%2C+USA&format=jsonv2&addressdetails=1&limit=1\n",
      "Status code 429 from https://nominatim.openstreetmap.org/search: ERROR - 429 Client Error: Too Many Requests for url: https://nominatim.openstreetmap.org/search?q=Gove+County%2C+Kansas%2C+USA&format=jsonv2&addressdetails=1&limit=1\n",
      "Status code 429 from https://nominatim.openstreetmap.org/search: ERROR - 429 Client Error: Too Many Requests for url: https://nominatim.openstreetmap.org/search?q=Hillsborough+County%2C+Florida%2C+USA&format=jsonv2&addressdetails=1&limit=1\n",
      "Status code Unknown from https://nominatim.openstreetmap.org/search: ERROR - HTTPSConnectionPool(host='nominatim.openstreetmap.org', port=443): Max retries exceeded with url: /search?q=Fentress+County%2C+Tennessee%2C+USA&format=jsonv2&addressdetails=1&limit=1 (Caused by ConnectTimeoutError(<urllib3.connection.VerifiedHTTPSConnection object at 0x7f70847bbd68>, 'Connection to nominatim.openstreetmap.org timed out. (connect timeout=5.0)'))\n",
      "Status code 429 from https://nominatim.openstreetmap.org/search: ERROR - 429 Client Error: Too Many Requests for url: https://nominatim.openstreetmap.org/search?q=Taylor+County%2C+West+Virginia%2C+USA&format=jsonv2&addressdetails=1&limit=1\n",
      "Status code 429 from https://nominatim.openstreetmap.org/search: ERROR - 429 Client Error: Too Many Requests for url: https://nominatim.openstreetmap.org/search?q=Graham+County%2C+Kansas%2C+USA&format=jsonv2&addressdetails=1&limit=1\n",
      "Status code 429 from https://nominatim.openstreetmap.org/search: ERROR - 429 Client Error: Too Many Requests for url: https://nominatim.openstreetmap.org/search?q=Tucker+County%2C+West+Virginia%2C+USA&format=jsonv2&addressdetails=1&limit=1\n",
      "Status code 429 from https://nominatim.openstreetmap.org/search: ERROR - 429 Client Error: Too Many Requests for url: https://nominatim.openstreetmap.org/search?q=Grant+County%2C+Kansas%2C+USA&format=jsonv2&addressdetails=1&limit=1\n",
      "Status code 429 from https://nominatim.openstreetmap.org/search: ERROR - 429 Client Error: Too Many Requests for url: https://nominatim.openstreetmap.org/search?q=Gray+County%2C+Kansas%2C+USA&format=jsonv2&addressdetails=1&limit=1\n",
      "Status code 429 from https://nominatim.openstreetmap.org/search: ERROR - 429 Client Error: Too Many Requests for url: https://nominatim.openstreetmap.org/search?q=Tyler+County%2C+West+Virginia%2C+USA&format=jsonv2&addressdetails=1&limit=1\n",
      "Status code Unknown from https://nominatim.openstreetmap.org/search: ERROR - HTTPSConnectionPool(host='nominatim.openstreetmap.org', port=443): Max retries exceeded with url: /search?q=Washington+County%2C+New+York%2C+USA&format=jsonv2&addressdetails=1&limit=1 (Caused by ConnectTimeoutError(<urllib3.connection.VerifiedHTTPSConnection object at 0x7f70849059b0>, 'Connection to nominatim.openstreetmap.org timed out. (connect timeout=5.0)'))\n",
      "Status code Unknown from https://nominatim.openstreetmap.org/search: ERROR - HTTPSConnectionPool(host='nominatim.openstreetmap.org', port=443): Max retries exceeded with url: /search?q=Amite+County%2C+Mississippi%2C+USA&format=jsonv2&addressdetails=1&limit=1 (Caused by ConnectTimeoutError(<urllib3.connection.VerifiedHTTPSConnection object at 0x7f70847b58d0>, 'Connection to nominatim.openstreetmap.org timed out. (connect timeout=5.0)'))\n",
      "Status code 429 from https://nominatim.openstreetmap.org/search: ERROR - 429 Client Error: Too Many Requests for url: https://nominatim.openstreetmap.org/search?q=Holmes+County%2C+Florida%2C+USA&format=jsonv2&addressdetails=1&limit=1\n",
      "Status code 429 from https://nominatim.openstreetmap.org/search: ERROR - 429 Client Error: Too Many Requests for url: https://nominatim.openstreetmap.org/search?q=Wayne+County%2C+New+York%2C+USA&format=jsonv2&addressdetails=1&limit=1\n",
      "Status code 429 from https://nominatim.openstreetmap.org/search: ERROR - 429 Client Error: Too Many Requests for url: https://nominatim.openstreetmap.org/search?q=Attala+County%2C+Mississippi%2C+USA&format=jsonv2&addressdetails=1&limit=1\n",
      "Status code 429 from https://nominatim.openstreetmap.org/search: ERROR - 429 Client Error: Too Many Requests for url: https://nominatim.openstreetmap.org/search?q=Benton+County%2C+Mississippi%2C+USA&format=jsonv2&addressdetails=1&limit=1\n"
     ]
    },
    {
     "name": "stderr",
     "output_type": "stream",
     "text": [
      "Status code 429 from https://nominatim.openstreetmap.org/search: ERROR - 429 Client Error: Too Many Requests for url: https://nominatim.openstreetmap.org/search?q=Indian+River+County%2C+Florida%2C+USA&format=jsonv2&addressdetails=1&limit=1\n",
      "Status code 429 from https://nominatim.openstreetmap.org/search: ERROR - 429 Client Error: Too Many Requests for url: https://nominatim.openstreetmap.org/search?q=Jackson+County%2C+Florida%2C+USA&format=jsonv2&addressdetails=1&limit=1\n",
      "Status code 429 from https://nominatim.openstreetmap.org/search: ERROR - 429 Client Error: Too Many Requests for url: https://nominatim.openstreetmap.org/search?q=Bolivar+County%2C+Mississippi%2C+USA&format=jsonv2&addressdetails=1&limit=1\n",
      "Status code 429 from https://nominatim.openstreetmap.org/search: ERROR - 429 Client Error: Too Many Requests for url: https://nominatim.openstreetmap.org/search?q=Calhoun+County%2C+Mississippi%2C+USA&format=jsonv2&addressdetails=1&limit=1\n",
      "Status code 429 from https://nominatim.openstreetmap.org/search: ERROR - 429 Client Error: Too Many Requests for url: https://nominatim.openstreetmap.org/search?q=Westchester+County%2C+New+York%2C+USA&format=jsonv2&addressdetails=1&limit=1\n",
      "Status code 429 from https://nominatim.openstreetmap.org/search: ERROR - 429 Client Error: Too Many Requests for url: https://nominatim.openstreetmap.org/search?q=Carroll+County%2C+Mississippi%2C+USA&format=jsonv2&addressdetails=1&limit=1\n",
      "Status code 429 from https://nominatim.openstreetmap.org/search: ERROR - 429 Client Error: Too Many Requests for url: https://nominatim.openstreetmap.org/search?q=Chickasaw+County%2C+Mississippi%2C+USA&format=jsonv2&addressdetails=1&limit=1\n"
     ]
    },
    {
     "ename": "KeyboardInterrupt",
     "evalue": "",
     "output_type": "error",
     "traceback": [
      "\u001b[0;31m---------------------------------------------------------------------------\u001b[0m",
      "\u001b[0;31mKeyboardInterrupt\u001b[0m                         Traceback (most recent call last)",
      "\u001b[0;32m<ipython-input-30-82661a165441>\u001b[0m in \u001b[0;36m<module>\u001b[0;34m\u001b[0m\n\u001b[1;32m      2\u001b[0m \u001b[0mdf_counties_populations\u001b[0m \u001b[0;34m=\u001b[0m \u001b[0mdf_counties_populations\u001b[0m\u001b[0;34m[\u001b[0m\u001b[0;34m(\u001b[0m\u001b[0mdf_counties_populations\u001b[0m\u001b[0;34m[\u001b[0m\u001b[0;34m'COUNTY'\u001b[0m\u001b[0;34m]\u001b[0m\u001b[0;34m!=\u001b[0m\u001b[0;36m0\u001b[0m\u001b[0;34m)\u001b[0m \u001b[0;34m&\u001b[0m \u001b[0;34m(\u001b[0m\u001b[0mdf_counties_populations\u001b[0m\u001b[0;34m[\u001b[0m\u001b[0;34m'STNAME'\u001b[0m\u001b[0;34m]\u001b[0m \u001b[0;34m!=\u001b[0m \u001b[0mdf_counties_populations\u001b[0m\u001b[0;34m[\u001b[0m\u001b[0;34m'CTYNAME'\u001b[0m\u001b[0;34m]\u001b[0m\u001b[0;34m)\u001b[0m\u001b[0;34m]\u001b[0m\u001b[0;34m\u001b[0m\u001b[0;34m\u001b[0m\u001b[0m\n\u001b[1;32m      3\u001b[0m \u001b[0mdf_counties_populations\u001b[0m\u001b[0;34m[\u001b[0m\u001b[0;34m'geocode'\u001b[0m\u001b[0;34m]\u001b[0m \u001b[0;34m=\u001b[0m \u001b[0mdf_counties_populations\u001b[0m\u001b[0;34m[\u001b[0m\u001b[0;34m'CTYNAME'\u001b[0m\u001b[0;34m]\u001b[0m \u001b[0;34m+\u001b[0m \u001b[0;34m', '\u001b[0m \u001b[0;34m+\u001b[0m\u001b[0mdf_counties_populations\u001b[0m\u001b[0;34m[\u001b[0m\u001b[0;34m'STNAME'\u001b[0m\u001b[0;34m]\u001b[0m \u001b[0;34m+\u001b[0m \u001b[0;34m', USA'\u001b[0m\u001b[0;34m\u001b[0m\u001b[0;34m\u001b[0m\u001b[0m\n\u001b[0;32m----> 4\u001b[0;31m \u001b[0mdf_counties_populations\u001b[0m\u001b[0;34m[\u001b[0m\u001b[0;34m[\u001b[0m\u001b[0;34m'latitude'\u001b[0m\u001b[0;34m,\u001b[0m\u001b[0;34m'longitude'\u001b[0m\u001b[0;34m]\u001b[0m\u001b[0;34m]\u001b[0m \u001b[0;34m=\u001b[0m \u001b[0mdf_counties_populations\u001b[0m\u001b[0;34m[\u001b[0m\u001b[0;34m'geocode'\u001b[0m\u001b[0;34m]\u001b[0m\u001b[0;34m.\u001b[0m\u001b[0mparallel_apply\u001b[0m\u001b[0;34m(\u001b[0m\u001b[0mgeocode\u001b[0m\u001b[0;34m)\u001b[0m\u001b[0;34m\u001b[0m\u001b[0;34m\u001b[0m\u001b[0m\n\u001b[0m\u001b[1;32m      5\u001b[0m \u001b[0;31m# res = ddata.map_partitions(geocode).compute(get=get)\u001b[0m\u001b[0;34m\u001b[0m\u001b[0;34m\u001b[0m\u001b[0;34m\u001b[0m\u001b[0m\n\u001b[1;32m      6\u001b[0m \u001b[0;31m# df_counties_popluations = df_counties_populations['geocode'].apply(geocode)\u001b[0m\u001b[0;34m\u001b[0m\u001b[0;34m\u001b[0m\u001b[0;34m\u001b[0m\u001b[0m\n",
      "\u001b[0;32m~/anaconda3/lib/python3.7/site-packages/pandarallel/pandarallel.py\u001b[0m in \u001b[0;36mclosure\u001b[0;34m(data, func, *args, **kwargs)\u001b[0m\n\u001b[1;32m    449\u001b[0m                 \u001b[0minput_files\u001b[0m\u001b[0;34m,\u001b[0m\u001b[0;34m\u001b[0m\u001b[0;34m\u001b[0m\u001b[0m\n\u001b[1;32m    450\u001b[0m                 \u001b[0moutput_files\u001b[0m\u001b[0;34m,\u001b[0m\u001b[0;34m\u001b[0m\u001b[0;34m\u001b[0m\u001b[0m\n\u001b[0;32m--> 451\u001b[0;31m                 \u001b[0mmap_result\u001b[0m\u001b[0;34m,\u001b[0m\u001b[0;34m\u001b[0m\u001b[0;34m\u001b[0m\u001b[0m\n\u001b[0m\u001b[1;32m    452\u001b[0m             )\n\u001b[1;32m    453\u001b[0m \u001b[0;34m\u001b[0m\u001b[0m\n",
      "\u001b[0;32m~/anaconda3/lib/python3.7/site-packages/pandarallel/pandarallel.py\u001b[0m in \u001b[0;36mget_workers_result\u001b[0;34m(use_memory_fs, nb_workers, show_progress_bar, nb_columns, queue, chunk_lengths, input_files, output_files, map_result)\u001b[0m\n\u001b[1;32m    356\u001b[0m \u001b[0;34m\u001b[0m\u001b[0m\n\u001b[1;32m    357\u001b[0m     \u001b[0;32mwhile\u001b[0m \u001b[0;32mnot\u001b[0m \u001b[0mall\u001b[0m\u001b[0;34m(\u001b[0m\u001b[0mfinished_workers\u001b[0m\u001b[0;34m)\u001b[0m\u001b[0;34m:\u001b[0m\u001b[0;34m\u001b[0m\u001b[0;34m\u001b[0m\u001b[0m\n\u001b[0;32m--> 358\u001b[0;31m         \u001b[0mmessage_type\u001b[0m\u001b[0;34m,\u001b[0m \u001b[0mmessage\u001b[0m \u001b[0;34m=\u001b[0m \u001b[0mqueue\u001b[0m\u001b[0;34m.\u001b[0m\u001b[0mget\u001b[0m\u001b[0;34m(\u001b[0m\u001b[0;34m)\u001b[0m\u001b[0;34m\u001b[0m\u001b[0;34m\u001b[0m\u001b[0m\n\u001b[0m\u001b[1;32m    359\u001b[0m \u001b[0;34m\u001b[0m\u001b[0m\n\u001b[1;32m    360\u001b[0m         \u001b[0;32mif\u001b[0m \u001b[0mmessage_type\u001b[0m \u001b[0;32mis\u001b[0m \u001b[0mINPUT_FILE_READ\u001b[0m\u001b[0;34m:\u001b[0m\u001b[0;34m\u001b[0m\u001b[0;34m\u001b[0m\u001b[0m\n",
      "\u001b[0;32m<string>\u001b[0m in \u001b[0;36mget\u001b[0;34m(self, *args, **kwds)\u001b[0m\n",
      "\u001b[0;32m~/anaconda3/lib/python3.7/multiprocessing/managers.py\u001b[0m in \u001b[0;36m_callmethod\u001b[0;34m(self, methodname, args, kwds)\u001b[0m\n\u001b[1;32m    794\u001b[0m \u001b[0;34m\u001b[0m\u001b[0m\n\u001b[1;32m    795\u001b[0m         \u001b[0mconn\u001b[0m\u001b[0;34m.\u001b[0m\u001b[0msend\u001b[0m\u001b[0;34m(\u001b[0m\u001b[0;34m(\u001b[0m\u001b[0mself\u001b[0m\u001b[0;34m.\u001b[0m\u001b[0m_id\u001b[0m\u001b[0;34m,\u001b[0m \u001b[0mmethodname\u001b[0m\u001b[0;34m,\u001b[0m \u001b[0margs\u001b[0m\u001b[0;34m,\u001b[0m \u001b[0mkwds\u001b[0m\u001b[0;34m)\u001b[0m\u001b[0;34m)\u001b[0m\u001b[0;34m\u001b[0m\u001b[0;34m\u001b[0m\u001b[0m\n\u001b[0;32m--> 796\u001b[0;31m         \u001b[0mkind\u001b[0m\u001b[0;34m,\u001b[0m \u001b[0mresult\u001b[0m \u001b[0;34m=\u001b[0m \u001b[0mconn\u001b[0m\u001b[0;34m.\u001b[0m\u001b[0mrecv\u001b[0m\u001b[0;34m(\u001b[0m\u001b[0;34m)\u001b[0m\u001b[0;34m\u001b[0m\u001b[0;34m\u001b[0m\u001b[0m\n\u001b[0m\u001b[1;32m    797\u001b[0m \u001b[0;34m\u001b[0m\u001b[0m\n\u001b[1;32m    798\u001b[0m         \u001b[0;32mif\u001b[0m \u001b[0mkind\u001b[0m \u001b[0;34m==\u001b[0m \u001b[0;34m'#RETURN'\u001b[0m\u001b[0;34m:\u001b[0m\u001b[0;34m\u001b[0m\u001b[0;34m\u001b[0m\u001b[0m\n",
      "\u001b[0;32m~/anaconda3/lib/python3.7/multiprocessing/connection.py\u001b[0m in \u001b[0;36mrecv\u001b[0;34m(self)\u001b[0m\n\u001b[1;32m    248\u001b[0m         \u001b[0mself\u001b[0m\u001b[0;34m.\u001b[0m\u001b[0m_check_closed\u001b[0m\u001b[0;34m(\u001b[0m\u001b[0;34m)\u001b[0m\u001b[0;34m\u001b[0m\u001b[0;34m\u001b[0m\u001b[0m\n\u001b[1;32m    249\u001b[0m         \u001b[0mself\u001b[0m\u001b[0;34m.\u001b[0m\u001b[0m_check_readable\u001b[0m\u001b[0;34m(\u001b[0m\u001b[0;34m)\u001b[0m\u001b[0;34m\u001b[0m\u001b[0;34m\u001b[0m\u001b[0m\n\u001b[0;32m--> 250\u001b[0;31m         \u001b[0mbuf\u001b[0m \u001b[0;34m=\u001b[0m \u001b[0mself\u001b[0m\u001b[0;34m.\u001b[0m\u001b[0m_recv_bytes\u001b[0m\u001b[0;34m(\u001b[0m\u001b[0;34m)\u001b[0m\u001b[0;34m\u001b[0m\u001b[0;34m\u001b[0m\u001b[0m\n\u001b[0m\u001b[1;32m    251\u001b[0m         \u001b[0;32mreturn\u001b[0m \u001b[0m_ForkingPickler\u001b[0m\u001b[0;34m.\u001b[0m\u001b[0mloads\u001b[0m\u001b[0;34m(\u001b[0m\u001b[0mbuf\u001b[0m\u001b[0;34m.\u001b[0m\u001b[0mgetbuffer\u001b[0m\u001b[0;34m(\u001b[0m\u001b[0;34m)\u001b[0m\u001b[0;34m)\u001b[0m\u001b[0;34m\u001b[0m\u001b[0;34m\u001b[0m\u001b[0m\n\u001b[1;32m    252\u001b[0m \u001b[0;34m\u001b[0m\u001b[0m\n",
      "\u001b[0;32m~/anaconda3/lib/python3.7/multiprocessing/connection.py\u001b[0m in \u001b[0;36m_recv_bytes\u001b[0;34m(self, maxsize)\u001b[0m\n\u001b[1;32m    405\u001b[0m \u001b[0;34m\u001b[0m\u001b[0m\n\u001b[1;32m    406\u001b[0m     \u001b[0;32mdef\u001b[0m \u001b[0m_recv_bytes\u001b[0m\u001b[0;34m(\u001b[0m\u001b[0mself\u001b[0m\u001b[0;34m,\u001b[0m \u001b[0mmaxsize\u001b[0m\u001b[0;34m=\u001b[0m\u001b[0;32mNone\u001b[0m\u001b[0;34m)\u001b[0m\u001b[0;34m:\u001b[0m\u001b[0;34m\u001b[0m\u001b[0;34m\u001b[0m\u001b[0m\n\u001b[0;32m--> 407\u001b[0;31m         \u001b[0mbuf\u001b[0m \u001b[0;34m=\u001b[0m \u001b[0mself\u001b[0m\u001b[0;34m.\u001b[0m\u001b[0m_recv\u001b[0m\u001b[0;34m(\u001b[0m\u001b[0;36m4\u001b[0m\u001b[0;34m)\u001b[0m\u001b[0;34m\u001b[0m\u001b[0;34m\u001b[0m\u001b[0m\n\u001b[0m\u001b[1;32m    408\u001b[0m         \u001b[0msize\u001b[0m\u001b[0;34m,\u001b[0m \u001b[0;34m=\u001b[0m \u001b[0mstruct\u001b[0m\u001b[0;34m.\u001b[0m\u001b[0munpack\u001b[0m\u001b[0;34m(\u001b[0m\u001b[0;34m\"!i\"\u001b[0m\u001b[0;34m,\u001b[0m \u001b[0mbuf\u001b[0m\u001b[0;34m.\u001b[0m\u001b[0mgetvalue\u001b[0m\u001b[0;34m(\u001b[0m\u001b[0;34m)\u001b[0m\u001b[0;34m)\u001b[0m\u001b[0;34m\u001b[0m\u001b[0;34m\u001b[0m\u001b[0m\n\u001b[1;32m    409\u001b[0m         \u001b[0;32mif\u001b[0m \u001b[0mmaxsize\u001b[0m \u001b[0;32mis\u001b[0m \u001b[0;32mnot\u001b[0m \u001b[0;32mNone\u001b[0m \u001b[0;32mand\u001b[0m \u001b[0msize\u001b[0m \u001b[0;34m>\u001b[0m \u001b[0mmaxsize\u001b[0m\u001b[0;34m:\u001b[0m\u001b[0;34m\u001b[0m\u001b[0;34m\u001b[0m\u001b[0m\n",
      "\u001b[0;32m~/anaconda3/lib/python3.7/multiprocessing/connection.py\u001b[0m in \u001b[0;36m_recv\u001b[0;34m(self, size, read)\u001b[0m\n\u001b[1;32m    377\u001b[0m         \u001b[0mremaining\u001b[0m \u001b[0;34m=\u001b[0m \u001b[0msize\u001b[0m\u001b[0;34m\u001b[0m\u001b[0;34m\u001b[0m\u001b[0m\n\u001b[1;32m    378\u001b[0m         \u001b[0;32mwhile\u001b[0m \u001b[0mremaining\u001b[0m \u001b[0;34m>\u001b[0m \u001b[0;36m0\u001b[0m\u001b[0;34m:\u001b[0m\u001b[0;34m\u001b[0m\u001b[0;34m\u001b[0m\u001b[0m\n\u001b[0;32m--> 379\u001b[0;31m             \u001b[0mchunk\u001b[0m \u001b[0;34m=\u001b[0m \u001b[0mread\u001b[0m\u001b[0;34m(\u001b[0m\u001b[0mhandle\u001b[0m\u001b[0;34m,\u001b[0m \u001b[0mremaining\u001b[0m\u001b[0;34m)\u001b[0m\u001b[0;34m\u001b[0m\u001b[0;34m\u001b[0m\u001b[0m\n\u001b[0m\u001b[1;32m    380\u001b[0m             \u001b[0mn\u001b[0m \u001b[0;34m=\u001b[0m \u001b[0mlen\u001b[0m\u001b[0;34m(\u001b[0m\u001b[0mchunk\u001b[0m\u001b[0;34m)\u001b[0m\u001b[0;34m\u001b[0m\u001b[0;34m\u001b[0m\u001b[0m\n\u001b[1;32m    381\u001b[0m             \u001b[0;32mif\u001b[0m \u001b[0mn\u001b[0m \u001b[0;34m==\u001b[0m \u001b[0;36m0\u001b[0m\u001b[0;34m:\u001b[0m\u001b[0;34m\u001b[0m\u001b[0;34m\u001b[0m\u001b[0m\n",
      "\u001b[0;31mKeyboardInterrupt\u001b[0m: "
     ]
    },
    {
     "name": "stderr",
     "output_type": "stream",
     "text": [
      "Status code 429 from https://nominatim.openstreetmap.org/search: ERROR - 429 Client Error: Too Many Requests for url: https://nominatim.openstreetmap.org/search?q=Yates+County%2C+New+York%2C+USA&format=jsonv2&addressdetails=1&limit=1\n",
      "Status code 429 from https://nominatim.openstreetmap.org/search: ERROR - 429 Client Error: Too Many Requests for url: https://nominatim.openstreetmap.org/search?q=Alamance+County%2C+North+Carolina%2C+USA&format=jsonv2&addressdetails=1&limit=1\n",
      "Status code 429 from https://nominatim.openstreetmap.org/search: ERROR - 429 Client Error: Too Many Requests for url: https://nominatim.openstreetmap.org/search?q=Greenwood+County%2C+Kansas%2C+USA&format=jsonv2&addressdetails=1&limit=1\n",
      "Status code 429 from https://nominatim.openstreetmap.org/search: ERROR - 429 Client Error: Too Many Requests for url: https://nominatim.openstreetmap.org/search?q=Alexander+County%2C+North+Carolina%2C+USA&format=jsonv2&addressdetails=1&limit=1\n",
      "Status code 429 from https://nominatim.openstreetmap.org/search: ERROR - 429 Client Error: Too Many Requests for url: https://nominatim.openstreetmap.org/search?q=Lake+County%2C+Florida%2C+USA&format=jsonv2&addressdetails=1&limit=1\n",
      "Status code 429 from https://nominatim.openstreetmap.org/search: ERROR - 429 Client Error: Too Many Requests for url: https://nominatim.openstreetmap.org/search?q=Lee+County%2C+Florida%2C+USA&format=jsonv2&addressdetails=1&limit=1\n",
      "Status code 429 from https://nominatim.openstreetmap.org/search: ERROR - 429 Client Error: Too Many Requests for url: https://nominatim.openstreetmap.org/search?q=Leon+County%2C+Florida%2C+USA&format=jsonv2&addressdetails=1&limit=1\n",
      "Status code 429 from https://nominatim.openstreetmap.org/search: ERROR - 429 Client Error: Too Many Requests for url: https://nominatim.openstreetmap.org/search?q=Levy+County%2C+Florida%2C+USA&format=jsonv2&addressdetails=1&limit=1\n",
      "Status code 429 from https://nominatim.openstreetmap.org/search: ERROR - 429 Client Error: Too Many Requests for url: https://nominatim.openstreetmap.org/search?q=Liberty+County%2C+Florida%2C+USA&format=jsonv2&addressdetails=1&limit=1\n",
      "Status code 429 from https://nominatim.openstreetmap.org/search: ERROR - 429 Client Error: Too Many Requests for url: https://nominatim.openstreetmap.org/search?q=Clarke+County%2C+Mississippi%2C+USA&format=jsonv2&addressdetails=1&limit=1\n",
      "Status code 429 from https://nominatim.openstreetmap.org/search: ERROR - 429 Client Error: Too Many Requests for url: https://nominatim.openstreetmap.org/search?q=Madison+County%2C+Florida%2C+USA&format=jsonv2&addressdetails=1&limit=1\n",
      "Status code 429 from https://nominatim.openstreetmap.org/search: ERROR - 429 Client Error: Too Many Requests for url: https://nominatim.openstreetmap.org/search?q=Clay+County%2C+Mississippi%2C+USA&format=jsonv2&addressdetails=1&limit=1\n",
      "Status code 429 from https://nominatim.openstreetmap.org/search: ERROR - 429 Client Error: Too Many Requests for url: https://nominatim.openstreetmap.org/search?q=Manatee+County%2C+Florida%2C+USA&format=jsonv2&addressdetails=1&limit=1\n",
      "Status code 429 from https://nominatim.openstreetmap.org/search: ERROR - 429 Client Error: Too Many Requests for url: https://nominatim.openstreetmap.org/search?q=Marion+County%2C+Florida%2C+USA&format=jsonv2&addressdetails=1&limit=1\n",
      "Status code 429 from https://nominatim.openstreetmap.org/search: ERROR - 429 Client Error: Too Many Requests for url: https://nominatim.openstreetmap.org/search?q=Coahoma+County%2C+Mississippi%2C+USA&format=jsonv2&addressdetails=1&limit=1\n",
      "Status code 429 from https://nominatim.openstreetmap.org/search: ERROR - 429 Client Error: Too Many Requests for url: https://nominatim.openstreetmap.org/search?q=Copiah+County%2C+Mississippi%2C+USA&format=jsonv2&addressdetails=1&limit=1\n",
      "Status code 429 from https://nominatim.openstreetmap.org/search: ERROR - 429 Client Error: Too Many Requests for url: https://nominatim.openstreetmap.org/search?q=Martin+County%2C+Florida%2C+USA&format=jsonv2&addressdetails=1&limit=1\n",
      "Status code 429 from https://nominatim.openstreetmap.org/search: ERROR - 429 Client Error: Too Many Requests for url: https://nominatim.openstreetmap.org/search?q=Covington+County%2C+Mississippi%2C+USA&format=jsonv2&addressdetails=1&limit=1\n",
      "Status code 429 from https://nominatim.openstreetmap.org/search: ERROR - 429 Client Error: Too Many Requests for url: https://nominatim.openstreetmap.org/search?q=Miami-Dade+County%2C+Florida%2C+USA&format=jsonv2&addressdetails=1&limit=1\n",
      "Status code 429 from https://nominatim.openstreetmap.org/search: ERROR - 429 Client Error: Too Many Requests for url: https://nominatim.openstreetmap.org/search?q=Monroe+County%2C+Florida%2C+USA&format=jsonv2&addressdetails=1&limit=1\n",
      "Status code 429 from https://nominatim.openstreetmap.org/search: ERROR - 429 Client Error: Too Many Requests for url: https://nominatim.openstreetmap.org/search?q=DeSoto+County%2C+Mississippi%2C+USA&format=jsonv2&addressdetails=1&limit=1\n",
      "Status code 429 from https://nominatim.openstreetmap.org/search: ERROR - 429 Client Error: Too Many Requests for url: https://nominatim.openstreetmap.org/search?q=Nassau+County%2C+Florida%2C+USA&format=jsonv2&addressdetails=1&limit=1\n",
      "Status code 429 from https://nominatim.openstreetmap.org/search: ERROR - 429 Client Error: Too Many Requests for url: https://nominatim.openstreetmap.org/search?q=Okaloosa+County%2C+Florida%2C+USA&format=jsonv2&addressdetails=1&limit=1\n",
      "Status code Unknown from https://nominatim.openstreetmap.org/search: ERROR - HTTPSConnectionPool(host='nominatim.openstreetmap.org', port=443): Max retries exceeded with url: /search?q=Anson+County%2C+North+Carolina%2C+USA&format=jsonv2&addressdetails=1&limit=1 (Caused by ConnectTimeoutError(<urllib3.connection.VerifiedHTTPSConnection object at 0x7f70847b7860>, 'Connection to nominatim.openstreetmap.org timed out. (connect timeout=5.0)'))\n",
      "Status code Unknown from https://nominatim.openstreetmap.org/search: ERROR - HTTPSConnectionPool(host='nominatim.openstreetmap.org', port=443): Max retries exceeded with url: /search?q=Harper+County%2C+Kansas%2C+USA&format=jsonv2&addressdetails=1&limit=1 (Caused by ConnectTimeoutError(<urllib3.connection.VerifiedHTTPSConnection object at 0x7f70847b5f60>, 'Connection to nominatim.openstreetmap.org timed out. (connect timeout=5.0)'))\n",
      "Status code Unknown from https://nominatim.openstreetmap.org/search: ERROR - HTTPSConnectionPool(host='nominatim.openstreetmap.org', port=443): Max retries exceeded with url: /search?q=Giles+County%2C+Tennessee%2C+USA&format=jsonv2&addressdetails=1&limit=1 (Caused by ConnectTimeoutError(<urllib3.connection.VerifiedHTTPSConnection object at 0x7f708477c208>, 'Connection to nominatim.openstreetmap.org timed out. (connect timeout=5.0)'))\n",
      "Status code Unknown from https://nominatim.openstreetmap.org/search: ERROR - HTTPSConnectionPool(host='nominatim.openstreetmap.org', port=443): Max retries exceeded with url: /search?q=Webster+County%2C+West+Virginia%2C+USA&format=jsonv2&addressdetails=1&limit=1 (Caused by ConnectTimeoutError(<urllib3.connection.VerifiedHTTPSConnection object at 0x7f708477ebe0>, 'Connection to nominatim.openstreetmap.org timed out. (connect timeout=5.0)'))\n",
      "Status code 429 from https://nominatim.openstreetmap.org/search: ERROR - 429 Client Error: Too Many Requests for url: https://nominatim.openstreetmap.org/search?q=Okeechobee+County%2C+Florida%2C+USA&format=jsonv2&addressdetails=1&limit=1\n",
      "Status code 429 from https://nominatim.openstreetmap.org/search: ERROR - 429 Client Error: Too Many Requests for url: https://nominatim.openstreetmap.org/search?q=Orange+County%2C+Florida%2C+USA&format=jsonv2&addressdetails=1&limit=1\n",
      "Status code 429 from https://nominatim.openstreetmap.org/search: ERROR - 429 Client Error: Too Many Requests for url: https://nominatim.openstreetmap.org/search?q=Harvey+County%2C+Kansas%2C+USA&format=jsonv2&addressdetails=1&limit=1\n",
      "Status code 429 from https://nominatim.openstreetmap.org/search: ERROR - 429 Client Error: Too Many Requests for url: https://nominatim.openstreetmap.org/search?q=Osceola+County%2C+Florida%2C+USA&format=jsonv2&addressdetails=1&limit=1\n",
      "Status code 429 from https://nominatim.openstreetmap.org/search: ERROR - 429 Client Error: Too Many Requests for url: https://nominatim.openstreetmap.org/search?q=Haskell+County%2C+Kansas%2C+USA&format=jsonv2&addressdetails=1&limit=1\n"
     ]
    },
    {
     "name": "stderr",
     "output_type": "stream",
     "text": [
      "Status code 429 from https://nominatim.openstreetmap.org/search: ERROR - 429 Client Error: Too Many Requests for url: https://nominatim.openstreetmap.org/search?q=Hodgeman+County%2C+Kansas%2C+USA&format=jsonv2&addressdetails=1&limit=1\n",
      "Status code 429 from https://nominatim.openstreetmap.org/search: ERROR - 429 Client Error: Too Many Requests for url: https://nominatim.openstreetmap.org/search?q=Jackson+County%2C+Kansas%2C+USA&format=jsonv2&addressdetails=1&limit=1\n",
      "Status code 429 from https://nominatim.openstreetmap.org/search: ERROR - 429 Client Error: Too Many Requests for url: https://nominatim.openstreetmap.org/search?q=Jefferson+County%2C+Kansas%2C+USA&format=jsonv2&addressdetails=1&limit=1\n",
      "Status code 429 from https://nominatim.openstreetmap.org/search: ERROR - 429 Client Error: Too Many Requests for url: https://nominatim.openstreetmap.org/search?q=Jewell+County%2C+Kansas%2C+USA&format=jsonv2&addressdetails=1&limit=1\n",
      "Status code 429 from https://nominatim.openstreetmap.org/search: ERROR - 429 Client Error: Too Many Requests for url: https://nominatim.openstreetmap.org/search?q=Palm+Beach+County%2C+Florida%2C+USA&format=jsonv2&addressdetails=1&limit=1\n",
      "Status code 429 from https://nominatim.openstreetmap.org/search: ERROR - 429 Client Error: Too Many Requests for url: https://nominatim.openstreetmap.org/search?q=Pasco+County%2C+Florida%2C+USA&format=jsonv2&addressdetails=1&limit=1\n",
      "Status code 429 from https://nominatim.openstreetmap.org/search: ERROR - 429 Client Error: Too Many Requests for url: https://nominatim.openstreetmap.org/search?q=Pinellas+County%2C+Florida%2C+USA&format=jsonv2&addressdetails=1&limit=1\n",
      "Status code 429 from https://nominatim.openstreetmap.org/search: ERROR - 429 Client Error: Too Many Requests for url: https://nominatim.openstreetmap.org/search?q=Polk+County%2C+Florida%2C+USA&format=jsonv2&addressdetails=1&limit=1\n",
      "Status code 429 from https://nominatim.openstreetmap.org/search: ERROR - 429 Client Error: Too Many Requests for url: https://nominatim.openstreetmap.org/search?q=Johnson+County%2C+Kansas%2C+USA&format=jsonv2&addressdetails=1&limit=1\n",
      "Status code Unknown from https://nominatim.openstreetmap.org/search: ERROR - HTTPSConnectionPool(host='nominatim.openstreetmap.org', port=443): Max retries exceeded with url: /search?q=Forrest+County%2C+Mississippi%2C+USA&format=jsonv2&addressdetails=1&limit=1 (Caused by ConnectTimeoutError(<urllib3.connection.VerifiedHTTPSConnection object at 0x7f7085de6e48>, 'Connection to nominatim.openstreetmap.org timed out. (connect timeout=5.0)'))\n",
      "Status code 429 from https://nominatim.openstreetmap.org/search: ERROR - 429 Client Error: Too Many Requests for url: https://nominatim.openstreetmap.org/search?q=Putnam+County%2C+Florida%2C+USA&format=jsonv2&addressdetails=1&limit=1\n",
      "Status code 429 from https://nominatim.openstreetmap.org/search: ERROR - 429 Client Error: Too Many Requests for url: https://nominatim.openstreetmap.org/search?q=Franklin+County%2C+Mississippi%2C+USA&format=jsonv2&addressdetails=1&limit=1\n",
      "Status code Unknown from https://nominatim.openstreetmap.org/search: ERROR - HTTPSConnectionPool(host='nominatim.openstreetmap.org', port=443): Max retries exceeded with url: /search?q=Ashe+County%2C+North+Carolina%2C+USA&format=jsonv2&addressdetails=1&limit=1 (Caused by ConnectTimeoutError(<urllib3.connection.VerifiedHTTPSConnection object at 0x7f70847a7b00>, 'Connection to nominatim.openstreetmap.org timed out. (connect timeout=5.0)'))\n",
      "Status code Unknown from https://nominatim.openstreetmap.org/search: ERROR - HTTPSConnectionPool(host='nominatim.openstreetmap.org', port=443): Max retries exceeded with url: /search?q=Grainger+County%2C+Tennessee%2C+USA&format=jsonv2&addressdetails=1&limit=1 (Caused by ConnectTimeoutError(<urllib3.connection.VerifiedHTTPSConnection object at 0x7f70852bafd0>, 'Connection to nominatim.openstreetmap.org timed out. (connect timeout=5.0)'))\n",
      "Status code Unknown from https://nominatim.openstreetmap.org/search: ERROR - HTTPSConnectionPool(host='nominatim.openstreetmap.org', port=443): Max retries exceeded with url: /search?q=Wetzel+County%2C+West+Virginia%2C+USA&format=jsonv2&addressdetails=1&limit=1 (Caused by ConnectTimeoutError(<urllib3.connection.VerifiedHTTPSConnection object at 0x7f7084967198>, 'Connection to nominatim.openstreetmap.org timed out. (connect timeout=5.0)'))\n",
      "Status code 429 from https://nominatim.openstreetmap.org/search: ERROR - 429 Client Error: Too Many Requests for url: https://nominatim.openstreetmap.org/search?q=George+County%2C+Mississippi%2C+USA&format=jsonv2&addressdetails=1&limit=1\n",
      "Status code 429 from https://nominatim.openstreetmap.org/search: ERROR - 429 Client Error: Too Many Requests for url: https://nominatim.openstreetmap.org/search?q=Greene+County%2C+Tennessee%2C+USA&format=jsonv2&addressdetails=1&limit=1\n",
      "Status code 429 from https://nominatim.openstreetmap.org/search: ERROR - 429 Client Error: Too Many Requests for url: https://nominatim.openstreetmap.org/search?q=Grundy+County%2C+Tennessee%2C+USA&format=jsonv2&addressdetails=1&limit=1\n",
      "Status code 429 from https://nominatim.openstreetmap.org/search: ERROR - 429 Client Error: Too Many Requests for url: https://nominatim.openstreetmap.org/search?q=Avery+County%2C+North+Carolina%2C+USA&format=jsonv2&addressdetails=1&limit=1\n",
      "Status code 429 from https://nominatim.openstreetmap.org/search: ERROR - 429 Client Error: Too Many Requests for url: https://nominatim.openstreetmap.org/search?q=Beaufort+County%2C+North+Carolina%2C+USA&format=jsonv2&addressdetails=1&limit=1\n",
      "Status code 429 from https://nominatim.openstreetmap.org/search: ERROR - 429 Client Error: Too Many Requests for url: https://nominatim.openstreetmap.org/search?q=Hamblen+County%2C+Tennessee%2C+USA&format=jsonv2&addressdetails=1&limit=1\n",
      "Status code 429 from https://nominatim.openstreetmap.org/search: ERROR - 429 Client Error: Too Many Requests for url: https://nominatim.openstreetmap.org/search?q=Wirt+County%2C+West+Virginia%2C+USA&format=jsonv2&addressdetails=1&limit=1\n",
      "Status code 429 from https://nominatim.openstreetmap.org/search: ERROR - 429 Client Error: Too Many Requests for url: https://nominatim.openstreetmap.org/search?q=Hamilton+County%2C+Tennessee%2C+USA&format=jsonv2&addressdetails=1&limit=1\n",
      "Status code 429 from https://nominatim.openstreetmap.org/search: ERROR - 429 Client Error: Too Many Requests for url: https://nominatim.openstreetmap.org/search?q=Wood+County%2C+West+Virginia%2C+USA&format=jsonv2&addressdetails=1&limit=1\n",
      "Status code 429 from https://nominatim.openstreetmap.org/search: ERROR - 429 Client Error: Too Many Requests for url: https://nominatim.openstreetmap.org/search?q=Wyoming+County%2C+West+Virginia%2C+USA&format=jsonv2&addressdetails=1&limit=1\n",
      "Status code 429 from https://nominatim.openstreetmap.org/search: ERROR - 429 Client Error: Too Many Requests for url: https://nominatim.openstreetmap.org/search?q=Hancock+County%2C+Tennessee%2C+USA&format=jsonv2&addressdetails=1&limit=1\n",
      "Status code 429 from https://nominatim.openstreetmap.org/search: ERROR - 429 Client Error: Too Many Requests for url: https://nominatim.openstreetmap.org/search?q=Adams+County%2C+Wisconsin%2C+USA&format=jsonv2&addressdetails=1&limit=1\n",
      "Status code 429 from https://nominatim.openstreetmap.org/search: ERROR - 429 Client Error: Too Many Requests for url: https://nominatim.openstreetmap.org/search?q=Hardeman+County%2C+Tennessee%2C+USA&format=jsonv2&addressdetails=1&limit=1\n",
      "Status code 429 from https://nominatim.openstreetmap.org/search: ERROR - 429 Client Error: Too Many Requests for url: https://nominatim.openstreetmap.org/search?q=Hardin+County%2C+Tennessee%2C+USA&format=jsonv2&addressdetails=1&limit=1\n",
      "Status code 429 from https://nominatim.openstreetmap.org/search: ERROR - 429 Client Error: Too Many Requests for url: https://nominatim.openstreetmap.org/search?q=Ashland+County%2C+Wisconsin%2C+USA&format=jsonv2&addressdetails=1&limit=1\n",
      "Status code 429 from https://nominatim.openstreetmap.org/search: ERROR - 429 Client Error: Too Many Requests for url: https://nominatim.openstreetmap.org/search?q=Barron+County%2C+Wisconsin%2C+USA&format=jsonv2&addressdetails=1&limit=1\n",
      "Status code 429 from https://nominatim.openstreetmap.org/search: ERROR - 429 Client Error: Too Many Requests for url: https://nominatim.openstreetmap.org/search?q=Bayfield+County%2C+Wisconsin%2C+USA&format=jsonv2&addressdetails=1&limit=1\n"
     ]
    },
    {
     "name": "stderr",
     "output_type": "stream",
     "text": [
      "Status code Unknown from https://nominatim.openstreetmap.org/search: ERROR - HTTPSConnectionPool(host='nominatim.openstreetmap.org', port=443): Max retries exceeded with url: /search?q=Kearny+County%2C+Kansas%2C+USA&format=jsonv2&addressdetails=1&limit=1 (Caused by ConnectTimeoutError(<urllib3.connection.VerifiedHTTPSConnection object at 0x7f708495f588>, 'Connection to nominatim.openstreetmap.org timed out. (connect timeout=5.0)'))\n",
      "Status code Unknown from https://nominatim.openstreetmap.org/search: ERROR - HTTPSConnectionPool(host='nominatim.openstreetmap.org', port=443): Max retries exceeded with url: /search?q=St.+Johns+County%2C+Florida%2C+USA&format=jsonv2&addressdetails=1&limit=1 (Caused by ConnectTimeoutError(<urllib3.connection.VerifiedHTTPSConnection object at 0x7f708a2a63c8>, 'Connection to nominatim.openstreetmap.org timed out. (connect timeout=5.0)'))\n",
      "Status code 429 from https://nominatim.openstreetmap.org/search: ERROR - 429 Client Error: Too Many Requests for url: https://nominatim.openstreetmap.org/search?q=Brown+County%2C+Wisconsin%2C+USA&format=jsonv2&addressdetails=1&limit=1\n",
      "Status code 429 from https://nominatim.openstreetmap.org/search: ERROR - 429 Client Error: Too Many Requests for url: https://nominatim.openstreetmap.org/search?q=St.+Lucie+County%2C+Florida%2C+USA&format=jsonv2&addressdetails=1&limit=1\n",
      "Status code Unknown from https://nominatim.openstreetmap.org/search: ERROR - HTTPSConnectionPool(host='nominatim.openstreetmap.org', port=443): Max retries exceeded with url: /search?q=Greene+County%2C+Mississippi%2C+USA&format=jsonv2&addressdetails=1&limit=1 (Caused by ConnectTimeoutError(<urllib3.connection.VerifiedHTTPSConnection object at 0x7f708486e828>, 'Connection to nominatim.openstreetmap.org timed out. (connect timeout=5.0)'))\n",
      "Status code 429 from https://nominatim.openstreetmap.org/search: ERROR - 429 Client Error: Too Many Requests for url: https://nominatim.openstreetmap.org/search?q=Santa+Rosa+County%2C+Florida%2C+USA&format=jsonv2&addressdetails=1&limit=1\n",
      "Status code 429 from https://nominatim.openstreetmap.org/search: ERROR - 429 Client Error: Too Many Requests for url: https://nominatim.openstreetmap.org/search?q=Grenada+County%2C+Mississippi%2C+USA&format=jsonv2&addressdetails=1&limit=1\n",
      "Status code 429 from https://nominatim.openstreetmap.org/search: ERROR - 429 Client Error: Too Many Requests for url: https://nominatim.openstreetmap.org/search?q=Hancock+County%2C+Mississippi%2C+USA&format=jsonv2&addressdetails=1&limit=1\n",
      "Status code Unknown from https://nominatim.openstreetmap.org/search: ERROR - HTTPSConnectionPool(host='nominatim.openstreetmap.org', port=443): Max retries exceeded with url: /search?q=Bertie+County%2C+North+Carolina%2C+USA&format=jsonv2&addressdetails=1&limit=1 (Caused by ConnectTimeoutError(<urllib3.connection.VerifiedHTTPSConnection object at 0x7f70847a75f8>, 'Connection to nominatim.openstreetmap.org timed out. (connect timeout=5.0)'))\n",
      "Status code 429 from https://nominatim.openstreetmap.org/search: ERROR - 429 Client Error: Too Many Requests for url: https://nominatim.openstreetmap.org/search?q=Sarasota+County%2C+Florida%2C+USA&format=jsonv2&addressdetails=1&limit=1\n",
      "Status code 429 from https://nominatim.openstreetmap.org/search: ERROR - 429 Client Error: Too Many Requests for url: https://nominatim.openstreetmap.org/search?q=Bladen+County%2C+North+Carolina%2C+USA&format=jsonv2&addressdetails=1&limit=1\n",
      "Status code 429 from https://nominatim.openstreetmap.org/search: ERROR - 429 Client Error: Too Many Requests for url: https://nominatim.openstreetmap.org/search?q=Seminole+County%2C+Florida%2C+USA&format=jsonv2&addressdetails=1&limit=1\n",
      "Status code 429 from https://nominatim.openstreetmap.org/search: ERROR - 429 Client Error: Too Many Requests for url: https://nominatim.openstreetmap.org/search?q=Brunswick+County%2C+North+Carolina%2C+USA&format=jsonv2&addressdetails=1&limit=1\n",
      "Status code 429 from https://nominatim.openstreetmap.org/search: ERROR - 429 Client Error: Too Many Requests for url: https://nominatim.openstreetmap.org/search?q=Sumter+County%2C+Florida%2C+USA&format=jsonv2&addressdetails=1&limit=1\n",
      "Status code 429 from https://nominatim.openstreetmap.org/search: ERROR - 429 Client Error: Too Many Requests for url: https://nominatim.openstreetmap.org/search?q=Harrison+County%2C+Mississippi%2C+USA&format=jsonv2&addressdetails=1&limit=1\n",
      "Status code 429 from https://nominatim.openstreetmap.org/search: ERROR - 429 Client Error: Too Many Requests for url: https://nominatim.openstreetmap.org/search?q=Hinds+County%2C+Mississippi%2C+USA&format=jsonv2&addressdetails=1&limit=1\n",
      "Status code 429 from https://nominatim.openstreetmap.org/search: ERROR - 429 Client Error: Too Many Requests for url: https://nominatim.openstreetmap.org/search?q=Holmes+County%2C+Mississippi%2C+USA&format=jsonv2&addressdetails=1&limit=1\n",
      "Status code Unknown from https://nominatim.openstreetmap.org/search: ERROR - HTTPSConnectionPool(host='nominatim.openstreetmap.org', port=443): Max retries exceeded with url: /search?q=Hawkins+County%2C+Tennessee%2C+USA&format=jsonv2&addressdetails=1&limit=1 (Caused by ConnectTimeoutError(<urllib3.connection.VerifiedHTTPSConnection object at 0x7f70848fe4e0>, 'Connection to nominatim.openstreetmap.org timed out. (connect timeout=5.0)'))\n",
      "Status code 429 from https://nominatim.openstreetmap.org/search: ERROR - 429 Client Error: Too Many Requests for url: https://nominatim.openstreetmap.org/search?q=Humphreys+County%2C+Mississippi%2C+USA&format=jsonv2&addressdetails=1&limit=1\n",
      "Status code 429 from https://nominatim.openstreetmap.org/search: ERROR - 429 Client Error: Too Many Requests for url: https://nominatim.openstreetmap.org/search?q=Suwannee+County%2C+Florida%2C+USA&format=jsonv2&addressdetails=1&limit=1\n",
      "Status code Unknown from https://nominatim.openstreetmap.org/search: ERROR - HTTPSConnectionPool(host='nominatim.openstreetmap.org', port=443): Max retries exceeded with url: /search?q=Kingman+County%2C+Kansas%2C+USA&format=jsonv2&addressdetails=1&limit=1 (Caused by ConnectTimeoutError(<urllib3.connection.VerifiedHTTPSConnection object at 0x7f7084698f28>, 'Connection to nominatim.openstreetmap.org timed out. (connect timeout=5.0)'))\n",
      "Status code 429 from https://nominatim.openstreetmap.org/search: ERROR - 429 Client Error: Too Many Requests for url: https://nominatim.openstreetmap.org/search?q=Issaquena+County%2C+Mississippi%2C+USA&format=jsonv2&addressdetails=1&limit=1\n",
      "Status code 429 from https://nominatim.openstreetmap.org/search: ERROR - 429 Client Error: Too Many Requests for url: https://nominatim.openstreetmap.org/search?q=Taylor+County%2C+Florida%2C+USA&format=jsonv2&addressdetails=1&limit=1\n",
      "Status code Unknown from https://nominatim.openstreetmap.org/search: ERROR - HTTPSConnectionPool(host='nominatim.openstreetmap.org', port=443): Max retries exceeded with url: /search?q=Buffalo+County%2C+Wisconsin%2C+USA&format=jsonv2&addressdetails=1&limit=1 (Caused by ConnectTimeoutError(<urllib3.connection.VerifiedHTTPSConnection object at 0x7f7084967eb8>, 'Connection to nominatim.openstreetmap.org timed out. (connect timeout=5.0)'))\n",
      "Status code 429 from https://nominatim.openstreetmap.org/search: ERROR - 429 Client Error: Too Many Requests for url: https://nominatim.openstreetmap.org/search?q=Itawamba+County%2C+Mississippi%2C+USA&format=jsonv2&addressdetails=1&limit=1\n",
      "Status code 429 from https://nominatim.openstreetmap.org/search: ERROR - 429 Client Error: Too Many Requests for url: https://nominatim.openstreetmap.org/search?q=Burnett+County%2C+Wisconsin%2C+USA&format=jsonv2&addressdetails=1&limit=1\n",
      "Status code 429 from https://nominatim.openstreetmap.org/search: ERROR - 429 Client Error: Too Many Requests for url: https://nominatim.openstreetmap.org/search?q=Jackson+County%2C+Mississippi%2C+USA&format=jsonv2&addressdetails=1&limit=1\n",
      "Status code 429 from https://nominatim.openstreetmap.org/search: ERROR - 429 Client Error: Too Many Requests for url: https://nominatim.openstreetmap.org/search?q=Jasper+County%2C+Mississippi%2C+USA&format=jsonv2&addressdetails=1&limit=1\n",
      "Status code 429 from https://nominatim.openstreetmap.org/search: ERROR - 429 Client Error: Too Many Requests for url: https://nominatim.openstreetmap.org/search?q=Calumet+County%2C+Wisconsin%2C+USA&format=jsonv2&addressdetails=1&limit=1\n"
     ]
    },
    {
     "name": "stderr",
     "output_type": "stream",
     "text": [
      "Status code 429 from https://nominatim.openstreetmap.org/search: ERROR - 429 Client Error: Too Many Requests for url: https://nominatim.openstreetmap.org/search?q=Chippewa+County%2C+Wisconsin%2C+USA&format=jsonv2&addressdetails=1&limit=1\n",
      "Status code 429 from https://nominatim.openstreetmap.org/search: ERROR - 429 Client Error: Too Many Requests for url: https://nominatim.openstreetmap.org/search?q=Clark+County%2C+Wisconsin%2C+USA&format=jsonv2&addressdetails=1&limit=1\n",
      "Status code Unknown from https://nominatim.openstreetmap.org/search: ERROR - HTTPSConnectionPool(host='nominatim.openstreetmap.org', port=443): Max retries exceeded with url: /search?q=Buncombe+County%2C+North+Carolina%2C+USA&format=jsonv2&addressdetails=1&limit=1 (Caused by ConnectTimeoutError(<urllib3.connection.VerifiedHTTPSConnection object at 0x7f70847a7be0>, 'Connection to nominatim.openstreetmap.org timed out. (connect timeout=5.0)'))\n",
      "Status code 429 from https://nominatim.openstreetmap.org/search: ERROR - 429 Client Error: Too Many Requests for url: https://nominatim.openstreetmap.org/search?q=Columbia+County%2C+Wisconsin%2C+USA&format=jsonv2&addressdetails=1&limit=1\n",
      "Status code 429 from https://nominatim.openstreetmap.org/search: ERROR - 429 Client Error: Too Many Requests for url: https://nominatim.openstreetmap.org/search?q=Burke+County%2C+North+Carolina%2C+USA&format=jsonv2&addressdetails=1&limit=1\n",
      "Status code 429 from https://nominatim.openstreetmap.org/search: ERROR - 429 Client Error: Too Many Requests for url: https://nominatim.openstreetmap.org/search?q=Crawford+County%2C+Wisconsin%2C+USA&format=jsonv2&addressdetails=1&limit=1\n",
      "Status code 429 from https://nominatim.openstreetmap.org/search: ERROR - 429 Client Error: Too Many Requests for url: https://nominatim.openstreetmap.org/search?q=Cabarrus+County%2C+North+Carolina%2C+USA&format=jsonv2&addressdetails=1&limit=1\n",
      "Status code 429 from https://nominatim.openstreetmap.org/search: ERROR - 429 Client Error: Too Many Requests for url: https://nominatim.openstreetmap.org/search?q=Caldwell+County%2C+North+Carolina%2C+USA&format=jsonv2&addressdetails=1&limit=1\n",
      "Status code 429 from https://nominatim.openstreetmap.org/search: ERROR - 429 Client Error: Too Many Requests for url: https://nominatim.openstreetmap.org/search?q=Dane+County%2C+Wisconsin%2C+USA&format=jsonv2&addressdetails=1&limit=1\n",
      "Status code 429 from https://nominatim.openstreetmap.org/search: ERROR - 429 Client Error: Too Many Requests for url: https://nominatim.openstreetmap.org/search?q=Camden+County%2C+North+Carolina%2C+USA&format=jsonv2&addressdetails=1&limit=1\n",
      "Status code Unknown from https://nominatim.openstreetmap.org/search: ERROR - HTTPSConnectionPool(host='nominatim.openstreetmap.org', port=443): Max retries exceeded with url: /search?q=Haywood+County%2C+Tennessee%2C+USA&format=jsonv2&addressdetails=1&limit=1 (Caused by ConnectTimeoutError(<urllib3.connection.VerifiedHTTPSConnection object at 0x7f708477c588>, 'Connection to nominatim.openstreetmap.org timed out. (connect timeout=5.0)'))\n",
      "Status code 429 from https://nominatim.openstreetmap.org/search: ERROR - 429 Client Error: Too Many Requests for url: https://nominatim.openstreetmap.org/search?q=Carteret+County%2C+North+Carolina%2C+USA&format=jsonv2&addressdetails=1&limit=1\n",
      "Status code 429 from https://nominatim.openstreetmap.org/search: ERROR - 429 Client Error: Too Many Requests for url: https://nominatim.openstreetmap.org/search?q=Henderson+County%2C+Tennessee%2C+USA&format=jsonv2&addressdetails=1&limit=1\n",
      "Status code 429 from https://nominatim.openstreetmap.org/search: ERROR - 429 Client Error: Too Many Requests for url: https://nominatim.openstreetmap.org/search?q=Henry+County%2C+Tennessee%2C+USA&format=jsonv2&addressdetails=1&limit=1\n",
      "Status code Unknown from https://nominatim.openstreetmap.org/search: ERROR - HTTPSConnectionPool(host='nominatim.openstreetmap.org', port=443): Max retries exceeded with url: /search?q=Kiowa+County%2C+Kansas%2C+USA&format=jsonv2&addressdetails=1&limit=1 (Caused by ConnectTimeoutError(<urllib3.connection.VerifiedHTTPSConnection object at 0x7f708486e9e8>, 'Connection to nominatim.openstreetmap.org timed out. (connect timeout=5.0)'))\n",
      "Status code 429 from https://nominatim.openstreetmap.org/search: ERROR - 429 Client Error: Too Many Requests for url: https://nominatim.openstreetmap.org/search?q=Caswell+County%2C+North+Carolina%2C+USA&format=jsonv2&addressdetails=1&limit=1\n",
      "Status code Unknown from https://nominatim.openstreetmap.org/search: ERROR - HTTPSConnectionPool(host='nominatim.openstreetmap.org', port=443): Max retries exceeded with url: /search?q=Union+County%2C+Florida%2C+USA&format=jsonv2&addressdetails=1&limit=1 (Caused by ConnectTimeoutError(<urllib3.connection.VerifiedHTTPSConnection object at 0x7f7085ce5390>, 'Connection to nominatim.openstreetmap.org timed out. (connect timeout=5.0)'))\n",
      "Status code 429 from https://nominatim.openstreetmap.org/search: ERROR - 429 Client Error: Too Many Requests for url: https://nominatim.openstreetmap.org/search?q=Labette+County%2C+Kansas%2C+USA&format=jsonv2&addressdetails=1&limit=1\n",
      "Status code 429 from https://nominatim.openstreetmap.org/search: ERROR - 429 Client Error: Too Many Requests for url: https://nominatim.openstreetmap.org/search?q=Lane+County%2C+Kansas%2C+USA&format=jsonv2&addressdetails=1&limit=1\n",
      "Status code 429 from https://nominatim.openstreetmap.org/search: ERROR - 429 Client Error: Too Many Requests for url: https://nominatim.openstreetmap.org/search?q=Catawba+County%2C+North+Carolina%2C+USA&format=jsonv2&addressdetails=1&limit=1\n",
      "Status code 429 from https://nominatim.openstreetmap.org/search: ERROR - 429 Client Error: Too Many Requests for url: https://nominatim.openstreetmap.org/search?q=Chatham+County%2C+North+Carolina%2C+USA&format=jsonv2&addressdetails=1&limit=1\n",
      "Status code Unknown from https://nominatim.openstreetmap.org/search: ERROR - HTTPSConnectionPool(host='nominatim.openstreetmap.org', port=443): Max retries exceeded with url: /search?q=Jefferson+County%2C+Mississippi%2C+USA&format=jsonv2&addressdetails=1&limit=1 (Caused by ConnectTimeoutError(<urllib3.connection.VerifiedHTTPSConnection object at 0x7f708486eac8>, 'Connection to nominatim.openstreetmap.org timed out. (connect timeout=5.0)'))\n",
      "Status code 429 from https://nominatim.openstreetmap.org/search: ERROR - 429 Client Error: Too Many Requests for url: https://nominatim.openstreetmap.org/search?q=Hickman+County%2C+Tennessee%2C+USA&format=jsonv2&addressdetails=1&limit=1\n",
      "Status code 429 from https://nominatim.openstreetmap.org/search: ERROR - 429 Client Error: Too Many Requests for url: https://nominatim.openstreetmap.org/search?q=Jefferson+Davis+County%2C+Mississippi%2C+USA&format=jsonv2&addressdetails=1&limit=1\n",
      "Status code 429 from https://nominatim.openstreetmap.org/search: ERROR - 429 Client Error: Too Many Requests for url: https://nominatim.openstreetmap.org/search?q=Houston+County%2C+Tennessee%2C+USA&format=jsonv2&addressdetails=1&limit=1\n",
      "Status code 429 from https://nominatim.openstreetmap.org/search: ERROR - 429 Client Error: Too Many Requests for url: https://nominatim.openstreetmap.org/search?q=Humphreys+County%2C+Tennessee%2C+USA&format=jsonv2&addressdetails=1&limit=1\n",
      "Status code 429 from https://nominatim.openstreetmap.org/search: ERROR - 429 Client Error: Too Many Requests for url: https://nominatim.openstreetmap.org/search?q=Jones+County%2C+Mississippi%2C+USA&format=jsonv2&addressdetails=1&limit=1\n",
      "Status code 429 from https://nominatim.openstreetmap.org/search: ERROR - 429 Client Error: Too Many Requests for url: https://nominatim.openstreetmap.org/search?q=Kemper+County%2C+Mississippi%2C+USA&format=jsonv2&addressdetails=1&limit=1\n",
      "Status code 429 from https://nominatim.openstreetmap.org/search: ERROR - 429 Client Error: Too Many Requests for url: https://nominatim.openstreetmap.org/search?q=Lafayette+County%2C+Mississippi%2C+USA&format=jsonv2&addressdetails=1&limit=1\n",
      "Status code 429 from https://nominatim.openstreetmap.org/search: ERROR - 429 Client Error: Too Many Requests for url: https://nominatim.openstreetmap.org/search?q=Lamar+County%2C+Mississippi%2C+USA&format=jsonv2&addressdetails=1&limit=1\n",
      "Status code Unknown from https://nominatim.openstreetmap.org/search: ERROR - HTTPSConnectionPool(host='nominatim.openstreetmap.org', port=443): Max retries exceeded with url: /search?q=Dodge+County%2C+Wisconsin%2C+USA&format=jsonv2&addressdetails=1&limit=1 (Caused by ConnectTimeoutError(<urllib3.connection.VerifiedHTTPSConnection object at 0x7f7084698eb8>, 'Connection to nominatim.openstreetmap.org timed out. (connect timeout=5.0)'))\n"
     ]
    },
    {
     "name": "stderr",
     "output_type": "stream",
     "text": [
      "Status code 429 from https://nominatim.openstreetmap.org/search: ERROR - 429 Client Error: Too Many Requests for url: https://nominatim.openstreetmap.org/search?q=Lauderdale+County%2C+Mississippi%2C+USA&format=jsonv2&addressdetails=1&limit=1\n",
      "Status code 429 from https://nominatim.openstreetmap.org/search: ERROR - 429 Client Error: Too Many Requests for url: https://nominatim.openstreetmap.org/search?q=Door+County%2C+Wisconsin%2C+USA&format=jsonv2&addressdetails=1&limit=1\n",
      "Status code 429 from https://nominatim.openstreetmap.org/search: ERROR - 429 Client Error: Too Many Requests for url: https://nominatim.openstreetmap.org/search?q=Douglas+County%2C+Wisconsin%2C+USA&format=jsonv2&addressdetails=1&limit=1\n",
      "Status code 429 from https://nominatim.openstreetmap.org/search: ERROR - 429 Client Error: Too Many Requests for url: https://nominatim.openstreetmap.org/search?q=Lawrence+County%2C+Mississippi%2C+USA&format=jsonv2&addressdetails=1&limit=1\n",
      "Status code 429 from https://nominatim.openstreetmap.org/search: ERROR - 429 Client Error: Too Many Requests for url: https://nominatim.openstreetmap.org/search?q=Leake+County%2C+Mississippi%2C+USA&format=jsonv2&addressdetails=1&limit=1\n",
      "Status code Unknown from https://nominatim.openstreetmap.org/search: ERROR - HTTPSConnectionPool(host='nominatim.openstreetmap.org', port=443): Max retries exceeded with url: /search?q=Volusia+County%2C+Florida%2C+USA&format=jsonv2&addressdetails=1&limit=1 (Caused by ConnectTimeoutError(<urllib3.connection.VerifiedHTTPSConnection object at 0x7f7084698e48>, 'Connection to nominatim.openstreetmap.org timed out. (connect timeout=5.0)'))\n",
      "Status code 429 from https://nominatim.openstreetmap.org/search: ERROR - 429 Client Error: Too Many Requests for url: https://nominatim.openstreetmap.org/search?q=Dunn+County%2C+Wisconsin%2C+USA&format=jsonv2&addressdetails=1&limit=1\n",
      "Status code 429 from https://nominatim.openstreetmap.org/search: ERROR - 429 Client Error: Too Many Requests for url: https://nominatim.openstreetmap.org/search?q=Lee+County%2C+Mississippi%2C+USA&format=jsonv2&addressdetails=1&limit=1\n",
      "Status code 429 from https://nominatim.openstreetmap.org/search: ERROR - 429 Client Error: Too Many Requests for url: https://nominatim.openstreetmap.org/search?q=Wakulla+County%2C+Florida%2C+USA&format=jsonv2&addressdetails=1&limit=1\n",
      "Status code Unknown from https://nominatim.openstreetmap.org/search: ERROR - HTTPSConnectionPool(host='nominatim.openstreetmap.org', port=443): Max retries exceeded with url: /search?q=Leavenworth+County%2C+Kansas%2C+USA&format=jsonv2&addressdetails=1&limit=1 (Caused by ConnectTimeoutError(<urllib3.connection.VerifiedHTTPSConnection object at 0x7f708495fb00>, 'Connection to nominatim.openstreetmap.org timed out. (connect timeout=5.0)'))\n",
      "Status code 429 from https://nominatim.openstreetmap.org/search: ERROR - 429 Client Error: Too Many Requests for url: https://nominatim.openstreetmap.org/search?q=Walton+County%2C+Florida%2C+USA&format=jsonv2&addressdetails=1&limit=1\n",
      "Status code 429 from https://nominatim.openstreetmap.org/search: ERROR - 429 Client Error: Too Many Requests for url: https://nominatim.openstreetmap.org/search?q=Eau+Claire+County%2C+Wisconsin%2C+USA&format=jsonv2&addressdetails=1&limit=1\n",
      "Status code Unknown from https://nominatim.openstreetmap.org/search: ERROR - HTTPSConnectionPool(host='nominatim.openstreetmap.org', port=443): Max retries exceeded with url: /search?q=Cherokee+County%2C+North+Carolina%2C+USA&format=jsonv2&addressdetails=1&limit=1 (Caused by ConnectTimeoutError(<urllib3.connection.VerifiedHTTPSConnection object at 0x7f70bdbea160>, 'Connection to nominatim.openstreetmap.org timed out. (connect timeout=5.0)'))\n",
      "Status code 429 from https://nominatim.openstreetmap.org/search: ERROR - 429 Client Error: Too Many Requests for url: https://nominatim.openstreetmap.org/search?q=Florence+County%2C+Wisconsin%2C+USA&format=jsonv2&addressdetails=1&limit=1\n",
      "Status code 429 from https://nominatim.openstreetmap.org/search: ERROR - 429 Client Error: Too Many Requests for url: https://nominatim.openstreetmap.org/search?q=Chowan+County%2C+North+Carolina%2C+USA&format=jsonv2&addressdetails=1&limit=1\n",
      "Status code 429 from https://nominatim.openstreetmap.org/search: ERROR - 429 Client Error: Too Many Requests for url: https://nominatim.openstreetmap.org/search?q=Fond+du+Lac+County%2C+Wisconsin%2C+USA&format=jsonv2&addressdetails=1&limit=1\n",
      "Status code 429 from https://nominatim.openstreetmap.org/search: ERROR - 429 Client Error: Too Many Requests for url: https://nominatim.openstreetmap.org/search?q=Leflore+County%2C+Mississippi%2C+USA&format=jsonv2&addressdetails=1&limit=1\n",
      "Status code Unknown from https://nominatim.openstreetmap.org/search: ERROR - HTTPSConnectionPool(host='nominatim.openstreetmap.org', port=443): Max retries exceeded with url: /search?q=Jackson+County%2C+Tennessee%2C+USA&format=jsonv2&addressdetails=1&limit=1 (Caused by ConnectTimeoutError(<urllib3.connection.VerifiedHTTPSConnection object at 0x7f70847bbba8>, 'Connection to nominatim.openstreetmap.org timed out. (connect timeout=5.0)'))\n",
      "Status code 429 from https://nominatim.openstreetmap.org/search: ERROR - 429 Client Error: Too Many Requests for url: https://nominatim.openstreetmap.org/search?q=Clay+County%2C+North+Carolina%2C+USA&format=jsonv2&addressdetails=1&limit=1\n",
      "Status code 429 from https://nominatim.openstreetmap.org/search: ERROR - 429 Client Error: Too Many Requests for url: https://nominatim.openstreetmap.org/search?q=Jefferson+County%2C+Tennessee%2C+USA&format=jsonv2&addressdetails=1&limit=1\n",
      "Status code 429 from https://nominatim.openstreetmap.org/search: ERROR - 429 Client Error: Too Many Requests for url: https://nominatim.openstreetmap.org/search?q=Johnson+County%2C+Tennessee%2C+USA&format=jsonv2&addressdetails=1&limit=1\n",
      "Status code 429 from https://nominatim.openstreetmap.org/search: ERROR - 429 Client Error: Too Many Requests for url: https://nominatim.openstreetmap.org/search?q=Knox+County%2C+Tennessee%2C+USA&format=jsonv2&addressdetails=1&limit=1\n",
      "Status code 429 from https://nominatim.openstreetmap.org/search: ERROR - 429 Client Error: Too Many Requests for url: https://nominatim.openstreetmap.org/search?q=Lake+County%2C+Tennessee%2C+USA&format=jsonv2&addressdetails=1&limit=1\n",
      "Status code 429 from https://nominatim.openstreetmap.org/search: ERROR - 429 Client Error: Too Many Requests for url: https://nominatim.openstreetmap.org/search?q=Lauderdale+County%2C+Tennessee%2C+USA&format=jsonv2&addressdetails=1&limit=1\n",
      "Status code 429 from https://nominatim.openstreetmap.org/search: ERROR - 429 Client Error: Too Many Requests for url: https://nominatim.openstreetmap.org/search?q=Lawrence+County%2C+Tennessee%2C+USA&format=jsonv2&addressdetails=1&limit=1\n",
      "Status code 429 from https://nominatim.openstreetmap.org/search: ERROR - 429 Client Error: Too Many Requests for url: https://nominatim.openstreetmap.org/search?q=Lewis+County%2C+Tennessee%2C+USA&format=jsonv2&addressdetails=1&limit=1\n",
      "Status code 429 from https://nominatim.openstreetmap.org/search: ERROR - 429 Client Error: Too Many Requests for url: https://nominatim.openstreetmap.org/search?q=Lincoln+County%2C+Tennessee%2C+USA&format=jsonv2&addressdetails=1&limit=1\n",
      "Status code 429 from https://nominatim.openstreetmap.org/search: ERROR - 429 Client Error: Too Many Requests for url: https://nominatim.openstreetmap.org/search?q=Loudon+County%2C+Tennessee%2C+USA&format=jsonv2&addressdetails=1&limit=1\n",
      "Status code 429 from https://nominatim.openstreetmap.org/search: ERROR - 429 Client Error: Too Many Requests for url: https://nominatim.openstreetmap.org/search?q=McMinn+County%2C+Tennessee%2C+USA&format=jsonv2&addressdetails=1&limit=1\n",
      "Status code Unknown from https://nominatim.openstreetmap.org/search: ERROR - HTTPSConnectionPool(host='nominatim.openstreetmap.org', port=443): Max retries exceeded with url: /search?q=Lincoln+County%2C+Kansas%2C+USA&format=jsonv2&addressdetails=1&limit=1 (Caused by ConnectTimeoutError(<urllib3.connection.VerifiedHTTPSConnection object at 0x7f7084905710>, 'Connection to nominatim.openstreetmap.org timed out. (connect timeout=5.0)'))\n",
      "Status code Unknown from https://nominatim.openstreetmap.org/search: ERROR - HTTPSConnectionPool(host='nominatim.openstreetmap.org', port=443): Max retries exceeded with url: /search?q=Washington+County%2C+Florida%2C+USA&format=jsonv2&addressdetails=1&limit=1 (Caused by ConnectTimeoutError(<urllib3.connection.VerifiedHTTPSConnection object at 0x7f7084905588>, 'Connection to nominatim.openstreetmap.org timed out. (connect timeout=5.0)'))\n"
     ]
    },
    {
     "name": "stderr",
     "output_type": "stream",
     "text": [
      "Status code 429 from https://nominatim.openstreetmap.org/search: ERROR - 429 Client Error: Too Many Requests for url: https://nominatim.openstreetmap.org/search?q=McNairy+County%2C+Tennessee%2C+USA&format=jsonv2&addressdetails=1&limit=1\n",
      "Status code 429 from https://nominatim.openstreetmap.org/search: ERROR - 429 Client Error: Too Many Requests for url: https://nominatim.openstreetmap.org/search?q=Linn+County%2C+Kansas%2C+USA&format=jsonv2&addressdetails=1&limit=1\n",
      "Status code 429 from https://nominatim.openstreetmap.org/search: ERROR - 429 Client Error: Too Many Requests for url: https://nominatim.openstreetmap.org/search?q=Logan+County%2C+Kansas%2C+USA&format=jsonv2&addressdetails=1&limit=1\n",
      "Status code 429 from https://nominatim.openstreetmap.org/search: ERROR - 429 Client Error: Too Many Requests for url: https://nominatim.openstreetmap.org/search?q=Lyon+County%2C+Kansas%2C+USA&format=jsonv2&addressdetails=1&limit=1\n",
      "Status code Unknown from https://nominatim.openstreetmap.org/search: ERROR - HTTPSConnectionPool(host='nominatim.openstreetmap.org', port=443): Max retries exceeded with url: /search?q=Forest+County%2C+Wisconsin%2C+USA&format=jsonv2&addressdetails=1&limit=1 (Caused by ConnectTimeoutError(<urllib3.connection.VerifiedHTTPSConnection object at 0x7f7085de6390>, 'Connection to nominatim.openstreetmap.org timed out. (connect timeout=5.0)'))\n",
      "Status code 429 from https://nominatim.openstreetmap.org/search: ERROR - 429 Client Error: Too Many Requests for url: https://nominatim.openstreetmap.org/search?q=McPherson+County%2C+Kansas%2C+USA&format=jsonv2&addressdetails=1&limit=1\n",
      "Status code 429 from https://nominatim.openstreetmap.org/search: ERROR - 429 Client Error: Too Many Requests for url: https://nominatim.openstreetmap.org/search?q=Grant+County%2C+Wisconsin%2C+USA&format=jsonv2&addressdetails=1&limit=1\n",
      "Status code Unknown from https://nominatim.openstreetmap.org/search: ERROR - HTTPSConnectionPool(host='nominatim.openstreetmap.org', port=443): Max retries exceeded with url: /search?q=Lincoln+County%2C+Mississippi%2C+USA&format=jsonv2&addressdetails=1&limit=1 (Caused by ConnectTimeoutError(<urllib3.connection.VerifiedHTTPSConnection object at 0x7f70847a64e0>, 'Connection to nominatim.openstreetmap.org timed out. (connect timeout=5.0)'))\n",
      "Status code 429 from https://nominatim.openstreetmap.org/search: ERROR - 429 Client Error: Too Many Requests for url: https://nominatim.openstreetmap.org/search?q=Marion+County%2C+Kansas%2C+USA&format=jsonv2&addressdetails=1&limit=1\n",
      "Status code Unknown from https://nominatim.openstreetmap.org/search: ERROR - HTTPSConnectionPool(host='nominatim.openstreetmap.org', port=443): Max retries exceeded with url: /search?q=Cleveland+County%2C+North+Carolina%2C+USA&format=jsonv2&addressdetails=1&limit=1 (Caused by ConnectTimeoutError(<urllib3.connection.VerifiedHTTPSConnection object at 0x7f7084905780>, 'Connection to nominatim.openstreetmap.org timed out. (connect timeout=5.0)'))\n",
      "Status code 429 from https://nominatim.openstreetmap.org/search: ERROR - 429 Client Error: Too Many Requests for url: https://nominatim.openstreetmap.org/search?q=Lowndes+County%2C+Mississippi%2C+USA&format=jsonv2&addressdetails=1&limit=1\n",
      "Status code 429 from https://nominatim.openstreetmap.org/search: ERROR - 429 Client Error: Too Many Requests for url: https://nominatim.openstreetmap.org/search?q=Madison+County%2C+Mississippi%2C+USA&format=jsonv2&addressdetails=1&limit=1\n",
      "Status code 429 from https://nominatim.openstreetmap.org/search: ERROR - 429 Client Error: Too Many Requests for url: https://nominatim.openstreetmap.org/search?q=Marion+County%2C+Mississippi%2C+USA&format=jsonv2&addressdetails=1&limit=1\n",
      "Status code 429 from https://nominatim.openstreetmap.org/search: ERROR - 429 Client Error: Too Many Requests for url: https://nominatim.openstreetmap.org/search?q=Columbus+County%2C+North+Carolina%2C+USA&format=jsonv2&addressdetails=1&limit=1\n",
      "Status code 429 from https://nominatim.openstreetmap.org/search: ERROR - 429 Client Error: Too Many Requests for url: https://nominatim.openstreetmap.org/search?q=Marshall+County%2C+Mississippi%2C+USA&format=jsonv2&addressdetails=1&limit=1\n",
      "Status code 429 from https://nominatim.openstreetmap.org/search: ERROR - 429 Client Error: Too Many Requests for url: https://nominatim.openstreetmap.org/search?q=Monroe+County%2C+Mississippi%2C+USA&format=jsonv2&addressdetails=1&limit=1\n",
      "Status code 429 from https://nominatim.openstreetmap.org/search: ERROR - 429 Client Error: Too Many Requests for url: https://nominatim.openstreetmap.org/search?q=Craven+County%2C+North+Carolina%2C+USA&format=jsonv2&addressdetails=1&limit=1\n",
      "Status code 429 from https://nominatim.openstreetmap.org/search: ERROR - 429 Client Error: Too Many Requests for url: https://nominatim.openstreetmap.org/search?q=Marshall+County%2C+Kansas%2C+USA&format=jsonv2&addressdetails=1&limit=1\n",
      "Status code 429 from https://nominatim.openstreetmap.org/search: ERROR - 429 Client Error: Too Many Requests for url: https://nominatim.openstreetmap.org/search?q=Meade+County%2C+Kansas%2C+USA&format=jsonv2&addressdetails=1&limit=1\n",
      "Status code 429 from https://nominatim.openstreetmap.org/search: ERROR - 429 Client Error: Too Many Requests for url: https://nominatim.openstreetmap.org/search?q=Miami+County%2C+Kansas%2C+USA&format=jsonv2&addressdetails=1&limit=1\n",
      "Status code 429 from https://nominatim.openstreetmap.org/search: ERROR - 429 Client Error: Too Many Requests for url: https://nominatim.openstreetmap.org/search?q=Mitchell+County%2C+Kansas%2C+USA&format=jsonv2&addressdetails=1&limit=1\n",
      "Status code 429 from https://nominatim.openstreetmap.org/search: ERROR - 429 Client Error: Too Many Requests for url: https://nominatim.openstreetmap.org/search?q=Montgomery+County%2C+Kansas%2C+USA&format=jsonv2&addressdetails=1&limit=1\n",
      "Status code Unknown from https://nominatim.openstreetmap.org/search: ERROR - HTTPSConnectionPool(host='nominatim.openstreetmap.org', port=443): Max retries exceeded with url: /search?q=Appling+County%2C+Georgia%2C+USA&format=jsonv2&addressdetails=1&limit=1 (Caused by ConnectTimeoutError(<urllib3.connection.VerifiedHTTPSConnection object at 0x7f7084960cc0>, 'Connection to nominatim.openstreetmap.org timed out. (connect timeout=5.0)'))\n",
      "Status code Unknown from https://nominatim.openstreetmap.org/search: ERROR - HTTPSConnectionPool(host='nominatim.openstreetmap.org', port=443): Max retries exceeded with url: /search?q=Macon+County%2C+Tennessee%2C+USA&format=jsonv2&addressdetails=1&limit=1 (Caused by ConnectTimeoutError(<urllib3.connection.VerifiedHTTPSConnection object at 0x7f70847bb940>, 'Connection to nominatim.openstreetmap.org timed out. (connect timeout=5.0)'))\n",
      "Status code 429 from https://nominatim.openstreetmap.org/search: ERROR - 429 Client Error: Too Many Requests for url: https://nominatim.openstreetmap.org/search?q=Cumberland+County%2C+North+Carolina%2C+USA&format=jsonv2&addressdetails=1&limit=1\n",
      "Status code 429 from https://nominatim.openstreetmap.org/search: ERROR - 429 Client Error: Too Many Requests for url: https://nominatim.openstreetmap.org/search?q=Atkinson+County%2C+Georgia%2C+USA&format=jsonv2&addressdetails=1&limit=1\n",
      "Status code 429 from https://nominatim.openstreetmap.org/search: ERROR - 429 Client Error: Too Many Requests for url: https://nominatim.openstreetmap.org/search?q=Madison+County%2C+Tennessee%2C+USA&format=jsonv2&addressdetails=1&limit=1\n",
      "Status code 429 from https://nominatim.openstreetmap.org/search: ERROR - 429 Client Error: Too Many Requests for url: https://nominatim.openstreetmap.org/search?q=Bacon+County%2C+Georgia%2C+USA&format=jsonv2&addressdetails=1&limit=1\n",
      "Status code 429 from https://nominatim.openstreetmap.org/search: ERROR - 429 Client Error: Too Many Requests for url: https://nominatim.openstreetmap.org/search?q=Currituck+County%2C+North+Carolina%2C+USA&format=jsonv2&addressdetails=1&limit=1\n",
      "Status code 429 from https://nominatim.openstreetmap.org/search: ERROR - 429 Client Error: Too Many Requests for url: https://nominatim.openstreetmap.org/search?q=Dare+County%2C+North+Carolina%2C+USA&format=jsonv2&addressdetails=1&limit=1\n",
      "Status code Unknown from https://nominatim.openstreetmap.org/search: ERROR - HTTPSConnectionPool(host='nominatim.openstreetmap.org', port=443): Max retries exceeded with url: /search?q=Green+County%2C+Wisconsin%2C+USA&format=jsonv2&addressdetails=1&limit=1 (Caused by ConnectTimeoutError(<urllib3.connection.VerifiedHTTPSConnection object at 0x7f708477e780>, 'Connection to nominatim.openstreetmap.org timed out. (connect timeout=5.0)'))\n"
     ]
    },
    {
     "name": "stderr",
     "output_type": "stream",
     "text": [
      "Status code 429 from https://nominatim.openstreetmap.org/search: ERROR - 429 Client Error: Too Many Requests for url: https://nominatim.openstreetmap.org/search?q=Baker+County%2C+Georgia%2C+USA&format=jsonv2&addressdetails=1&limit=1\n",
      "Status code 429 from https://nominatim.openstreetmap.org/search: ERROR - 429 Client Error: Too Many Requests for url: https://nominatim.openstreetmap.org/search?q=Green+Lake+County%2C+Wisconsin%2C+USA&format=jsonv2&addressdetails=1&limit=1\n",
      "Status code 429 from https://nominatim.openstreetmap.org/search: ERROR - 429 Client Error: Too Many Requests for url: https://nominatim.openstreetmap.org/search?q=Baldwin+County%2C+Georgia%2C+USA&format=jsonv2&addressdetails=1&limit=1\n",
      "Status code 429 from https://nominatim.openstreetmap.org/search: ERROR - 429 Client Error: Too Many Requests for url: https://nominatim.openstreetmap.org/search?q=Marion+County%2C+Tennessee%2C+USA&format=jsonv2&addressdetails=1&limit=1\n",
      "Status code 429 from https://nominatim.openstreetmap.org/search: ERROR - 429 Client Error: Too Many Requests for url: https://nominatim.openstreetmap.org/search?q=Iowa+County%2C+Wisconsin%2C+USA&format=jsonv2&addressdetails=1&limit=1\n",
      "Status code 429 from https://nominatim.openstreetmap.org/search: ERROR - 429 Client Error: Too Many Requests for url: https://nominatim.openstreetmap.org/search?q=Banks+County%2C+Georgia%2C+USA&format=jsonv2&addressdetails=1&limit=1\n",
      "Status code Unknown from https://nominatim.openstreetmap.org/search: ERROR - HTTPSConnectionPool(host='nominatim.openstreetmap.org', port=443): Max retries exceeded with url: /search?q=Montgomery+County%2C+Mississippi%2C+USA&format=jsonv2&addressdetails=1&limit=1 (Caused by ConnectTimeoutError(<urllib3.connection.VerifiedHTTPSConnection object at 0x7f708479d6a0>, 'Connection to nominatim.openstreetmap.org timed out. (connect timeout=5.0)'))\n",
      "Status code 429 from https://nominatim.openstreetmap.org/search: ERROR - 429 Client Error: Too Many Requests for url: https://nominatim.openstreetmap.org/search?q=Iron+County%2C+Wisconsin%2C+USA&format=jsonv2&addressdetails=1&limit=1\n",
      "Status code 429 from https://nominatim.openstreetmap.org/search: ERROR - 429 Client Error: Too Many Requests for url: https://nominatim.openstreetmap.org/search?q=Barrow+County%2C+Georgia%2C+USA&format=jsonv2&addressdetails=1&limit=1\n",
      "Status code 429 from https://nominatim.openstreetmap.org/search: ERROR - 429 Client Error: Too Many Requests for url: https://nominatim.openstreetmap.org/search?q=Jackson+County%2C+Wisconsin%2C+USA&format=jsonv2&addressdetails=1&limit=1\n",
      "Status code 429 from https://nominatim.openstreetmap.org/search: ERROR - 429 Client Error: Too Many Requests for url: https://nominatim.openstreetmap.org/search?q=Bartow+County%2C+Georgia%2C+USA&format=jsonv2&addressdetails=1&limit=1\n",
      "Status code 429 from https://nominatim.openstreetmap.org/search: ERROR - 429 Client Error: Too Many Requests for url: https://nominatim.openstreetmap.org/search?q=Ben+Hill+County%2C+Georgia%2C+USA&format=jsonv2&addressdetails=1&limit=1\n",
      "Status code 429 from https://nominatim.openstreetmap.org/search: ERROR - 429 Client Error: Too Many Requests for url: https://nominatim.openstreetmap.org/search?q=Jefferson+County%2C+Wisconsin%2C+USA&format=jsonv2&addressdetails=1&limit=1\n",
      "Status code 429 from https://nominatim.openstreetmap.org/search: ERROR - 429 Client Error: Too Many Requests for url: https://nominatim.openstreetmap.org/search?q=Berrien+County%2C+Georgia%2C+USA&format=jsonv2&addressdetails=1&limit=1\n",
      "Status code Unknown from https://nominatim.openstreetmap.org/search: ERROR - HTTPSConnectionPool(host='nominatim.openstreetmap.org', port=443): Max retries exceeded with url: /search?q=Morris+County%2C+Kansas%2C+USA&format=jsonv2&addressdetails=1&limit=1 (Caused by ConnectTimeoutError(<urllib3.connection.VerifiedHTTPSConnection object at 0x7f7085edfcf8>, 'Connection to nominatim.openstreetmap.org timed out. (connect timeout=5.0)'))\n",
      "Status code 429 from https://nominatim.openstreetmap.org/search: ERROR - 429 Client Error: Too Many Requests for url: https://nominatim.openstreetmap.org/search?q=Bibb+County%2C+Georgia%2C+USA&format=jsonv2&addressdetails=1&limit=1\n",
      "Status code 429 from https://nominatim.openstreetmap.org/search: ERROR - 429 Client Error: Too Many Requests for url: https://nominatim.openstreetmap.org/search?q=Morton+County%2C+Kansas%2C+USA&format=jsonv2&addressdetails=1&limit=1\n",
      "Status code 429 from https://nominatim.openstreetmap.org/search: ERROR - 429 Client Error: Too Many Requests for url: https://nominatim.openstreetmap.org/search?q=Nemaha+County%2C+Kansas%2C+USA&format=jsonv2&addressdetails=1&limit=1\n",
      "Status code 429 from https://nominatim.openstreetmap.org/search: ERROR - 429 Client Error: Too Many Requests for url: https://nominatim.openstreetmap.org/search?q=Bleckley+County%2C+Georgia%2C+USA&format=jsonv2&addressdetails=1&limit=1\n",
      "Status code 429 from https://nominatim.openstreetmap.org/search: ERROR - 429 Client Error: Too Many Requests for url: https://nominatim.openstreetmap.org/search?q=Brantley+County%2C+Georgia%2C+USA&format=jsonv2&addressdetails=1&limit=1\n",
      "Status code Unknown from https://nominatim.openstreetmap.org/search: ERROR - HTTPSConnectionPool(host='nominatim.openstreetmap.org', port=443): Max retries exceeded with url: /search?q=Davidson+County%2C+North+Carolina%2C+USA&format=jsonv2&addressdetails=1&limit=1 (Caused by ConnectTimeoutError(<urllib3.connection.VerifiedHTTPSConnection object at 0x7f70847b7710>, 'Connection to nominatim.openstreetmap.org timed out. (connect timeout=5.0)'))\n",
      "Status code 429 from https://nominatim.openstreetmap.org/search: ERROR - 429 Client Error: Too Many Requests for url: https://nominatim.openstreetmap.org/search?q=Brooks+County%2C+Georgia%2C+USA&format=jsonv2&addressdetails=1&limit=1\n",
      "Status code 429 from https://nominatim.openstreetmap.org/search: ERROR - 429 Client Error: Too Many Requests for url: https://nominatim.openstreetmap.org/search?q=Bryan+County%2C+Georgia%2C+USA&format=jsonv2&addressdetails=1&limit=1\n",
      "Status code 429 from https://nominatim.openstreetmap.org/search: ERROR - 429 Client Error: Too Many Requests for url: https://nominatim.openstreetmap.org/search?q=Davie+County%2C+North+Carolina%2C+USA&format=jsonv2&addressdetails=1&limit=1\n",
      "Status code 429 from https://nominatim.openstreetmap.org/search: ERROR - 429 Client Error: Too Many Requests for url: https://nominatim.openstreetmap.org/search?q=Bulloch+County%2C+Georgia%2C+USA&format=jsonv2&addressdetails=1&limit=1\n",
      "Status code Unknown from https://nominatim.openstreetmap.org/search: ERROR - HTTPSConnectionPool(host='nominatim.openstreetmap.org', port=443): Max retries exceeded with url: /search?q=Marshall+County%2C+Tennessee%2C+USA&format=jsonv2&addressdetails=1&limit=1 (Caused by ConnectTimeoutError(<urllib3.connection.VerifiedHTTPSConnection object at 0x7f708477ca90>, 'Connection to nominatim.openstreetmap.org timed out. (connect timeout=5.0)'))\n",
      "Status code 429 from https://nominatim.openstreetmap.org/search: ERROR - 429 Client Error: Too Many Requests for url: https://nominatim.openstreetmap.org/search?q=Duplin+County%2C+North+Carolina%2C+USA&format=jsonv2&addressdetails=1&limit=1\n",
      "Status code 429 from https://nominatim.openstreetmap.org/search: ERROR - 429 Client Error: Too Many Requests for url: https://nominatim.openstreetmap.org/search?q=Durham+County%2C+North+Carolina%2C+USA&format=jsonv2&addressdetails=1&limit=1\n",
      "Status code 429 from https://nominatim.openstreetmap.org/search: ERROR - 429 Client Error: Too Many Requests for url: https://nominatim.openstreetmap.org/search?q=Burke+County%2C+Georgia%2C+USA&format=jsonv2&addressdetails=1&limit=1\n",
      "Status code Unknown from https://nominatim.openstreetmap.org/search: ERROR - HTTPSConnectionPool(host='nominatim.openstreetmap.org', port=443): Max retries exceeded with url: /search?q=Neshoba+County%2C+Mississippi%2C+USA&format=jsonv2&addressdetails=1&limit=1 (Caused by ConnectTimeoutError(<urllib3.connection.VerifiedHTTPSConnection object at 0x7f70847b56d8>, 'Connection to nominatim.openstreetmap.org timed out. (connect timeout=5.0)'))\n",
      "Status code 429 from https://nominatim.openstreetmap.org/search: ERROR - 429 Client Error: Too Many Requests for url: https://nominatim.openstreetmap.org/search?q=Maury+County%2C+Tennessee%2C+USA&format=jsonv2&addressdetails=1&limit=1\n"
     ]
    },
    {
     "name": "stderr",
     "output_type": "stream",
     "text": [
      "Status code 429 from https://nominatim.openstreetmap.org/search: ERROR - 429 Client Error: Too Many Requests for url: https://nominatim.openstreetmap.org/search?q=Butts+County%2C+Georgia%2C+USA&format=jsonv2&addressdetails=1&limit=1\n",
      "Status code 429 from https://nominatim.openstreetmap.org/search: ERROR - 429 Client Error: Too Many Requests for url: https://nominatim.openstreetmap.org/search?q=Edgecombe+County%2C+North+Carolina%2C+USA&format=jsonv2&addressdetails=1&limit=1\n",
      "Status code 429 from https://nominatim.openstreetmap.org/search: ERROR - 429 Client Error: Too Many Requests for url: https://nominatim.openstreetmap.org/search?q=Newton+County%2C+Mississippi%2C+USA&format=jsonv2&addressdetails=1&limit=1\n",
      "Status code 429 from https://nominatim.openstreetmap.org/search: ERROR - 429 Client Error: Too Many Requests for url: https://nominatim.openstreetmap.org/search?q=Calhoun+County%2C+Georgia%2C+USA&format=jsonv2&addressdetails=1&limit=1\n",
      "Status code 429 from https://nominatim.openstreetmap.org/search: ERROR - 429 Client Error: Too Many Requests for url: https://nominatim.openstreetmap.org/search?q=Forsyth+County%2C+North+Carolina%2C+USA&format=jsonv2&addressdetails=1&limit=1\n",
      "Status code Unknown from https://nominatim.openstreetmap.org/search: ERROR - HTTPSConnectionPool(host='nominatim.openstreetmap.org', port=443): Max retries exceeded with url: /search?q=Juneau+County%2C+Wisconsin%2C+USA&format=jsonv2&addressdetails=1&limit=1 (Caused by ConnectTimeoutError(<urllib3.connection.VerifiedHTTPSConnection object at 0x7f708477e0b8>, 'Connection to nominatim.openstreetmap.org timed out. (connect timeout=5.0)'))\n",
      "Status code 429 from https://nominatim.openstreetmap.org/search: ERROR - 429 Client Error: Too Many Requests for url: https://nominatim.openstreetmap.org/search?q=Noxubee+County%2C+Mississippi%2C+USA&format=jsonv2&addressdetails=1&limit=1\n",
      "Status code 429 from https://nominatim.openstreetmap.org/search: ERROR - 429 Client Error: Too Many Requests for url: https://nominatim.openstreetmap.org/search?q=Kenosha+County%2C+Wisconsin%2C+USA&format=jsonv2&addressdetails=1&limit=1\n",
      "Status code 429 from https://nominatim.openstreetmap.org/search: ERROR - 429 Client Error: Too Many Requests for url: https://nominatim.openstreetmap.org/search?q=Kewaunee+County%2C+Wisconsin%2C+USA&format=jsonv2&addressdetails=1&limit=1\n",
      "Status code Unknown from https://nominatim.openstreetmap.org/search: ERROR - HTTPSConnectionPool(host='nominatim.openstreetmap.org', port=443): Max retries exceeded with url: /search?q=Neosho+County%2C+Kansas%2C+USA&format=jsonv2&addressdetails=1&limit=1 (Caused by ConnectTimeoutError(<urllib3.connection.VerifiedHTTPSConnection object at 0x7f708479e198>, 'Connection to nominatim.openstreetmap.org timed out. (connect timeout=5.0)'))\n",
      "Status code 429 from https://nominatim.openstreetmap.org/search: ERROR - 429 Client Error: Too Many Requests for url: https://nominatim.openstreetmap.org/search?q=Oktibbeha+County%2C+Mississippi%2C+USA&format=jsonv2&addressdetails=1&limit=1\n",
      "Status code 429 from https://nominatim.openstreetmap.org/search: ERROR - 429 Client Error: Too Many Requests for url: https://nominatim.openstreetmap.org/search?q=Ness+County%2C+Kansas%2C+USA&format=jsonv2&addressdetails=1&limit=1\n",
      "Status code 429 from https://nominatim.openstreetmap.org/search: ERROR - 429 Client Error: Too Many Requests for url: https://nominatim.openstreetmap.org/search?q=Norton+County%2C+Kansas%2C+USA&format=jsonv2&addressdetails=1&limit=1\n",
      "Status code 429 from https://nominatim.openstreetmap.org/search: ERROR - 429 Client Error: Too Many Requests for url: https://nominatim.openstreetmap.org/search?q=Panola+County%2C+Mississippi%2C+USA&format=jsonv2&addressdetails=1&limit=1\n",
      "Status code 429 from https://nominatim.openstreetmap.org/search: ERROR - 429 Client Error: Too Many Requests for url: https://nominatim.openstreetmap.org/search?q=Pearl+River+County%2C+Mississippi%2C+USA&format=jsonv2&addressdetails=1&limit=1\n",
      "Status code 429 from https://nominatim.openstreetmap.org/search: ERROR - 429 Client Error: Too Many Requests for url: https://nominatim.openstreetmap.org/search?q=Perry+County%2C+Mississippi%2C+USA&format=jsonv2&addressdetails=1&limit=1\n",
      "Status code 429 from https://nominatim.openstreetmap.org/search: ERROR - 429 Client Error: Too Many Requests for url: https://nominatim.openstreetmap.org/search?q=Pike+County%2C+Mississippi%2C+USA&format=jsonv2&addressdetails=1&limit=1\n",
      "Status code 429 from https://nominatim.openstreetmap.org/search: ERROR - 429 Client Error: Too Many Requests for url: https://nominatim.openstreetmap.org/search?q=Pontotoc+County%2C+Mississippi%2C+USA&format=jsonv2&addressdetails=1&limit=1\n",
      "Status code 429 from https://nominatim.openstreetmap.org/search: ERROR - 429 Client Error: Too Many Requests for url: https://nominatim.openstreetmap.org/search?q=Osage+County%2C+Kansas%2C+USA&format=jsonv2&addressdetails=1&limit=1\n",
      "Status code 429 from https://nominatim.openstreetmap.org/search: ERROR - 429 Client Error: Too Many Requests for url: https://nominatim.openstreetmap.org/search?q=Prentiss+County%2C+Mississippi%2C+USA&format=jsonv2&addressdetails=1&limit=1\n",
      "Status code Unknown from https://nominatim.openstreetmap.org/search: ERROR - HTTPSConnectionPool(host='nominatim.openstreetmap.org', port=443): Max retries exceeded with url: /search?q=Meigs+County%2C+Tennessee%2C+USA&format=jsonv2&addressdetails=1&limit=1 (Caused by ConnectTimeoutError(<urllib3.connection.VerifiedHTTPSConnection object at 0x7f708486e518>, 'Connection to nominatim.openstreetmap.org timed out. (connect timeout=5.0)'))\n",
      "Status code 429 from https://nominatim.openstreetmap.org/search: ERROR - 429 Client Error: Too Many Requests for url: https://nominatim.openstreetmap.org/search?q=Osborne+County%2C+Kansas%2C+USA&format=jsonv2&addressdetails=1&limit=1\n",
      "Status code 429 from https://nominatim.openstreetmap.org/search: ERROR - 429 Client Error: Too Many Requests for url: https://nominatim.openstreetmap.org/search?q=Ottawa+County%2C+Kansas%2C+USA&format=jsonv2&addressdetails=1&limit=1\n",
      "Status code 429 from https://nominatim.openstreetmap.org/search: ERROR - 429 Client Error: Too Many Requests for url: https://nominatim.openstreetmap.org/search?q=Quitman+County%2C+Mississippi%2C+USA&format=jsonv2&addressdetails=1&limit=1\n",
      "Status code Unknown from https://nominatim.openstreetmap.org/search: ERROR - HTTPSConnectionPool(host='nominatim.openstreetmap.org', port=443): Max retries exceeded with url: /search?q=Camden+County%2C+Georgia%2C+USA&format=jsonv2&addressdetails=1&limit=1 (Caused by ConnectTimeoutError(<urllib3.connection.VerifiedHTTPSConnection object at 0x7f708a2a6518>, 'Connection to nominatim.openstreetmap.org timed out. (connect timeout=5.0)'))\n",
      "Status code 429 from https://nominatim.openstreetmap.org/search: ERROR - 429 Client Error: Too Many Requests for url: https://nominatim.openstreetmap.org/search?q=Rankin+County%2C+Mississippi%2C+USA&format=jsonv2&addressdetails=1&limit=1\n",
      "Status code Unknown from https://nominatim.openstreetmap.org/search: ERROR - HTTPSConnectionPool(host='nominatim.openstreetmap.org', port=443): Max retries exceeded with url: /search?q=Franklin+County%2C+North+Carolina%2C+USA&format=jsonv2&addressdetails=1&limit=1 (Caused by ConnectTimeoutError(<urllib3.connection.VerifiedHTTPSConnection object at 0x7f7084967d68>, 'Connection to nominatim.openstreetmap.org timed out. (connect timeout=5.0)'))\n",
      "Status code 429 from https://nominatim.openstreetmap.org/search: ERROR - 429 Client Error: Too Many Requests for url: https://nominatim.openstreetmap.org/search?q=Pawnee+County%2C+Kansas%2C+USA&format=jsonv2&addressdetails=1&limit=1\n",
      "Status code 429 from https://nominatim.openstreetmap.org/search: ERROR - 429 Client Error: Too Many Requests for url: https://nominatim.openstreetmap.org/search?q=Scott+County%2C+Mississippi%2C+USA&format=jsonv2&addressdetails=1&limit=1\n",
      "Status code 429 from https://nominatim.openstreetmap.org/search: ERROR - 429 Client Error: Too Many Requests for url: https://nominatim.openstreetmap.org/search?q=Gaston+County%2C+North+Carolina%2C+USA&format=jsonv2&addressdetails=1&limit=1\n",
      "Status code 429 from https://nominatim.openstreetmap.org/search: ERROR - 429 Client Error: Too Many Requests for url: https://nominatim.openstreetmap.org/search?q=Gates+County%2C+North+Carolina%2C+USA&format=jsonv2&addressdetails=1&limit=1\n"
     ]
    },
    {
     "name": "stderr",
     "output_type": "stream",
     "text": [
      "Status code Unknown from https://nominatim.openstreetmap.org/search: ERROR - HTTPSConnectionPool(host='nominatim.openstreetmap.org', port=443): Max retries exceeded with url: /search?q=La+Crosse+County%2C+Wisconsin%2C+USA&format=jsonv2&addressdetails=1&limit=1 (Caused by ConnectTimeoutError(<urllib3.connection.VerifiedHTTPSConnection object at 0x7f708477e9b0>, 'Connection to nominatim.openstreetmap.org timed out. (connect timeout=5.0)'))\n",
      "Status code 429 from https://nominatim.openstreetmap.org/search: ERROR - 429 Client Error: Too Many Requests for url: https://nominatim.openstreetmap.org/search?q=Phillips+County%2C+Kansas%2C+USA&format=jsonv2&addressdetails=1&limit=1\n",
      "Status code 429 from https://nominatim.openstreetmap.org/search: ERROR - 429 Client Error: Too Many Requests for url: https://nominatim.openstreetmap.org/search?q=Lafayette+County%2C+Wisconsin%2C+USA&format=jsonv2&addressdetails=1&limit=1\n",
      "Status code 429 from https://nominatim.openstreetmap.org/search: ERROR - 429 Client Error: Too Many Requests for url: https://nominatim.openstreetmap.org/search?q=Langlade+County%2C+Wisconsin%2C+USA&format=jsonv2&addressdetails=1&limit=1\n",
      "Status code 429 from https://nominatim.openstreetmap.org/search: ERROR - 429 Client Error: Too Many Requests for url: https://nominatim.openstreetmap.org/search?q=Pottawatomie+County%2C+Kansas%2C+USA&format=jsonv2&addressdetails=1&limit=1\n",
      "Status code 429 from https://nominatim.openstreetmap.org/search: ERROR - 429 Client Error: Too Many Requests for url: https://nominatim.openstreetmap.org/search?q=Sharkey+County%2C+Mississippi%2C+USA&format=jsonv2&addressdetails=1&limit=1\n",
      "Status code 429 from https://nominatim.openstreetmap.org/search: ERROR - 429 Client Error: Too Many Requests for url: https://nominatim.openstreetmap.org/search?q=Pratt+County%2C+Kansas%2C+USA&format=jsonv2&addressdetails=1&limit=1\n",
      "Status code 429 from https://nominatim.openstreetmap.org/search: ERROR - 429 Client Error: Too Many Requests for url: https://nominatim.openstreetmap.org/search?q=Rawlins+County%2C+Kansas%2C+USA&format=jsonv2&addressdetails=1&limit=1\n",
      "Status code 429 from https://nominatim.openstreetmap.org/search: ERROR - 429 Client Error: Too Many Requests for url: https://nominatim.openstreetmap.org/search?q=Reno+County%2C+Kansas%2C+USA&format=jsonv2&addressdetails=1&limit=1\n",
      "Status code 429 from https://nominatim.openstreetmap.org/search: ERROR - 429 Client Error: Too Many Requests for url: https://nominatim.openstreetmap.org/search?q=Republic+County%2C+Kansas%2C+USA&format=jsonv2&addressdetails=1&limit=1\n",
      "Status code 429 from https://nominatim.openstreetmap.org/search: ERROR - 429 Client Error: Too Many Requests for url: https://nominatim.openstreetmap.org/search?q=Lincoln+County%2C+Wisconsin%2C+USA&format=jsonv2&addressdetails=1&limit=1\n",
      "Status code 429 from https://nominatim.openstreetmap.org/search: ERROR - 429 Client Error: Too Many Requests for url: https://nominatim.openstreetmap.org/search?q=Rice+County%2C+Kansas%2C+USA&format=jsonv2&addressdetails=1&limit=1\n",
      "Status code Unknown from https://nominatim.openstreetmap.org/search: ERROR - HTTPSConnectionPool(host='nominatim.openstreetmap.org', port=443): Max retries exceeded with url: /search?q=Monroe+County%2C+Tennessee%2C+USA&format=jsonv2&addressdetails=1&limit=1 (Caused by ConnectTimeoutError(<urllib3.connection.VerifiedHTTPSConnection object at 0x7f70849678d0>, 'Connection to nominatim.openstreetmap.org timed out. (connect timeout=5.0)'))\n",
      "Status code 429 from https://nominatim.openstreetmap.org/search: ERROR - 429 Client Error: Too Many Requests for url: https://nominatim.openstreetmap.org/search?q=Montgomery+County%2C+Tennessee%2C+USA&format=jsonv2&addressdetails=1&limit=1\n",
      "Status code 429 from https://nominatim.openstreetmap.org/search: ERROR - 429 Client Error: Too Many Requests for url: https://nominatim.openstreetmap.org/search?q=Manitowoc+County%2C+Wisconsin%2C+USA&format=jsonv2&addressdetails=1&limit=1\n",
      "Status code 429 from https://nominatim.openstreetmap.org/search: ERROR - 429 Client Error: Too Many Requests for url: https://nominatim.openstreetmap.org/search?q=Moore+County%2C+Tennessee%2C+USA&format=jsonv2&addressdetails=1&limit=1\n",
      "Status code 429 from https://nominatim.openstreetmap.org/search: ERROR - 429 Client Error: Too Many Requests for url: https://nominatim.openstreetmap.org/search?q=Morgan+County%2C+Tennessee%2C+USA&format=jsonv2&addressdetails=1&limit=1\n",
      "Status code Unknown from https://nominatim.openstreetmap.org/search: ERROR - HTTPSConnectionPool(host='nominatim.openstreetmap.org', port=443): Max retries exceeded with url: /search?q=Candler+County%2C+Georgia%2C+USA&format=jsonv2&addressdetails=1&limit=1 (Caused by ConnectTimeoutError(<urllib3.connection.VerifiedHTTPSConnection object at 0x7f7085ce5048>, 'Connection to nominatim.openstreetmap.org timed out. (connect timeout=5.0)'))\n",
      "Status code 429 from https://nominatim.openstreetmap.org/search: ERROR - 429 Client Error: Too Many Requests for url: https://nominatim.openstreetmap.org/search?q=Marathon+County%2C+Wisconsin%2C+USA&format=jsonv2&addressdetails=1&limit=1\n",
      "Status code 429 from https://nominatim.openstreetmap.org/search: ERROR - 429 Client Error: Too Many Requests for url: https://nominatim.openstreetmap.org/search?q=Carroll+County%2C+Georgia%2C+USA&format=jsonv2&addressdetails=1&limit=1\n",
      "Status code 429 from https://nominatim.openstreetmap.org/search: ERROR - 429 Client Error: Too Many Requests for url: https://nominatim.openstreetmap.org/search?q=Catoosa+County%2C+Georgia%2C+USA&format=jsonv2&addressdetails=1&limit=1\n",
      "Status code Unknown from https://nominatim.openstreetmap.org/search: ERROR - HTTPSConnectionPool(host='nominatim.openstreetmap.org', port=443): Max retries exceeded with url: /search?q=Graham+County%2C+North+Carolina%2C+USA&format=jsonv2&addressdetails=1&limit=1 (Caused by ConnectTimeoutError(<urllib3.connection.VerifiedHTTPSConnection object at 0x7f70847a7048>, 'Connection to nominatim.openstreetmap.org timed out. (connect timeout=5.0)'))\n",
      "Status code 429 from https://nominatim.openstreetmap.org/search: ERROR - 429 Client Error: Too Many Requests for url: https://nominatim.openstreetmap.org/search?q=Charlton+County%2C+Georgia%2C+USA&format=jsonv2&addressdetails=1&limit=1\n",
      "Status code 429 from https://nominatim.openstreetmap.org/search: ERROR - 429 Client Error: Too Many Requests for url: https://nominatim.openstreetmap.org/search?q=Granville+County%2C+North+Carolina%2C+USA&format=jsonv2&addressdetails=1&limit=1\n",
      "Status code 429 from https://nominatim.openstreetmap.org/search: ERROR - 429 Client Error: Too Many Requests for url: https://nominatim.openstreetmap.org/search?q=Chatham+County%2C+Georgia%2C+USA&format=jsonv2&addressdetails=1&limit=1\n",
      "Status code 429 from https://nominatim.openstreetmap.org/search: ERROR - 429 Client Error: Too Many Requests for url: https://nominatim.openstreetmap.org/search?q=Greene+County%2C+North+Carolina%2C+USA&format=jsonv2&addressdetails=1&limit=1\n",
      "Status code 429 from https://nominatim.openstreetmap.org/search: ERROR - 429 Client Error: Too Many Requests for url: https://nominatim.openstreetmap.org/search?q=Guilford+County%2C+North+Carolina%2C+USA&format=jsonv2&addressdetails=1&limit=1\n",
      "Status code 429 from https://nominatim.openstreetmap.org/search: ERROR - 429 Client Error: Too Many Requests for url: https://nominatim.openstreetmap.org/search?q=Chattahoochee+County%2C+Georgia%2C+USA&format=jsonv2&addressdetails=1&limit=1\n",
      "Status code Unknown from https://nominatim.openstreetmap.org/search: ERROR - HTTPSConnectionPool(host='nominatim.openstreetmap.org', port=443): Max retries exceeded with url: /search?q=Simpson+County%2C+Mississippi%2C+USA&format=jsonv2&addressdetails=1&limit=1 (Caused by ConnectTimeoutError(<urllib3.connection.VerifiedHTTPSConnection object at 0x7f70bdbea160>, 'Connection to nominatim.openstreetmap.org timed out. (connect timeout=5.0)'))\n",
      "Status code 429 from https://nominatim.openstreetmap.org/search: ERROR - 429 Client Error: Too Many Requests for url: https://nominatim.openstreetmap.org/search?q=Halifax+County%2C+North+Carolina%2C+USA&format=jsonv2&addressdetails=1&limit=1\n",
      "Status code 429 from https://nominatim.openstreetmap.org/search: ERROR - 429 Client Error: Too Many Requests for url: https://nominatim.openstreetmap.org/search?q=Chattooga+County%2C+Georgia%2C+USA&format=jsonv2&addressdetails=1&limit=1\n"
     ]
    },
    {
     "name": "stderr",
     "output_type": "stream",
     "text": [
      "Status code 429 from https://nominatim.openstreetmap.org/search: ERROR - 429 Client Error: Too Many Requests for url: https://nominatim.openstreetmap.org/search?q=Cherokee+County%2C+Georgia%2C+USA&format=jsonv2&addressdetails=1&limit=1\n",
      "Status code 429 from https://nominatim.openstreetmap.org/search: ERROR - 429 Client Error: Too Many Requests for url: https://nominatim.openstreetmap.org/search?q=Smith+County%2C+Mississippi%2C+USA&format=jsonv2&addressdetails=1&limit=1\n",
      "Status code 429 from https://nominatim.openstreetmap.org/search: ERROR - 429 Client Error: Too Many Requests for url: https://nominatim.openstreetmap.org/search?q=Stone+County%2C+Mississippi%2C+USA&format=jsonv2&addressdetails=1&limit=1\n",
      "Status code Unknown from https://nominatim.openstreetmap.org/search: ERROR - HTTPSConnectionPool(host='nominatim.openstreetmap.org', port=443): Max retries exceeded with url: /search?q=Riley+County%2C+Kansas%2C+USA&format=jsonv2&addressdetails=1&limit=1 (Caused by ConnectTimeoutError(<urllib3.connection.VerifiedHTTPSConnection object at 0x7f70b82ebe10>, 'Connection to nominatim.openstreetmap.org timed out. (connect timeout=5.0)'))\n",
      "Status code 429 from https://nominatim.openstreetmap.org/search: ERROR - 429 Client Error: Too Many Requests for url: https://nominatim.openstreetmap.org/search?q=Rooks+County%2C+Kansas%2C+USA&format=jsonv2&addressdetails=1&limit=1\n",
      "Status code 429 from https://nominatim.openstreetmap.org/search: ERROR - 429 Client Error: Too Many Requests for url: https://nominatim.openstreetmap.org/search?q=Rush+County%2C+Kansas%2C+USA&format=jsonv2&addressdetails=1&limit=1\n",
      "Status code 429 from https://nominatim.openstreetmap.org/search: ERROR - 429 Client Error: Too Many Requests for url: https://nominatim.openstreetmap.org/search?q=Clarke+County%2C+Georgia%2C+USA&format=jsonv2&addressdetails=1&limit=1\n",
      "Status code Unknown from https://nominatim.openstreetmap.org/search: ERROR - HTTPSConnectionPool(host='nominatim.openstreetmap.org', port=443): Max retries exceeded with url: /search?q=Obion+County%2C+Tennessee%2C+USA&format=jsonv2&addressdetails=1&limit=1 (Caused by ConnectTimeoutError(<urllib3.connection.VerifiedHTTPSConnection object at 0x7f70847bb198>, 'Connection to nominatim.openstreetmap.org timed out. (connect timeout=5.0)'))\n",
      "Status code 429 from https://nominatim.openstreetmap.org/search: ERROR - 429 Client Error: Too Many Requests for url: https://nominatim.openstreetmap.org/search?q=Clay+County%2C+Georgia%2C+USA&format=jsonv2&addressdetails=1&limit=1\n",
      "Status code Unknown from https://nominatim.openstreetmap.org/search: ERROR - HTTPSConnectionPool(host='nominatim.openstreetmap.org', port=443): Max retries exceeded with url: /search?q=Marinette+County%2C+Wisconsin%2C+USA&format=jsonv2&addressdetails=1&limit=1 (Caused by ConnectTimeoutError(<urllib3.connection.VerifiedHTTPSConnection object at 0x7f70852674e0>, 'Connection to nominatim.openstreetmap.org timed out. (connect timeout=5.0)'))\n",
      "Status code 429 from https://nominatim.openstreetmap.org/search: ERROR - 429 Client Error: Too Many Requests for url: https://nominatim.openstreetmap.org/search?q=Clayton+County%2C+Georgia%2C+USA&format=jsonv2&addressdetails=1&limit=1\n",
      "Status code 429 from https://nominatim.openstreetmap.org/search: ERROR - 429 Client Error: Too Many Requests for url: https://nominatim.openstreetmap.org/search?q=Marquette+County%2C+Wisconsin%2C+USA&format=jsonv2&addressdetails=1&limit=1\n",
      "Status code 429 from https://nominatim.openstreetmap.org/search: ERROR - 429 Client Error: Too Many Requests for url: https://nominatim.openstreetmap.org/search?q=Menominee+County%2C+Wisconsin%2C+USA&format=jsonv2&addressdetails=1&limit=1\n",
      "Status code 429 from https://nominatim.openstreetmap.org/search: ERROR - 429 Client Error: Too Many Requests for url: https://nominatim.openstreetmap.org/search?q=Milwaukee+County%2C+Wisconsin%2C+USA&format=jsonv2&addressdetails=1&limit=1\n",
      "Status code 429 from https://nominatim.openstreetmap.org/search: ERROR - 429 Client Error: Too Many Requests for url: https://nominatim.openstreetmap.org/search?q=Monroe+County%2C+Wisconsin%2C+USA&format=jsonv2&addressdetails=1&limit=1\n",
      "Status code Unknown from https://nominatim.openstreetmap.org/search: ERROR - HTTPSConnectionPool(host='nominatim.openstreetmap.org', port=443): Max retries exceeded with url: /search?q=Harnett+County%2C+North+Carolina%2C+USA&format=jsonv2&addressdetails=1&limit=1 (Caused by ConnectTimeoutError(<urllib3.connection.VerifiedHTTPSConnection object at 0x7f7084967748>, 'Connection to nominatim.openstreetmap.org timed out. (connect timeout=5.0)'))\n",
      "Status code 429 from https://nominatim.openstreetmap.org/search: ERROR - 429 Client Error: Too Many Requests for url: https://nominatim.openstreetmap.org/search?q=Oconto+County%2C+Wisconsin%2C+USA&format=jsonv2&addressdetails=1&limit=1\n",
      "Status code 429 from https://nominatim.openstreetmap.org/search: ERROR - 429 Client Error: Too Many Requests for url: https://nominatim.openstreetmap.org/search?q=Haywood+County%2C+North+Carolina%2C+USA&format=jsonv2&addressdetails=1&limit=1\n",
      "Status code 429 from https://nominatim.openstreetmap.org/search: ERROR - 429 Client Error: Too Many Requests for url: https://nominatim.openstreetmap.org/search?q=Oneida+County%2C+Wisconsin%2C+USA&format=jsonv2&addressdetails=1&limit=1\n",
      "Status code 429 from https://nominatim.openstreetmap.org/search: ERROR - 429 Client Error: Too Many Requests for url: https://nominatim.openstreetmap.org/search?q=Henderson+County%2C+North+Carolina%2C+USA&format=jsonv2&addressdetails=1&limit=1\n",
      "Status code 429 from https://nominatim.openstreetmap.org/search: ERROR - 429 Client Error: Too Many Requests for url: https://nominatim.openstreetmap.org/search?q=Hertford+County%2C+North+Carolina%2C+USA&format=jsonv2&addressdetails=1&limit=1\n",
      "Status code Unknown from https://nominatim.openstreetmap.org/search: ERROR - HTTPSConnectionPool(host='nominatim.openstreetmap.org', port=443): Max retries exceeded with url: /search?q=Sunflower+County%2C+Mississippi%2C+USA&format=jsonv2&addressdetails=1&limit=1 (Caused by ConnectTimeoutError(<urllib3.connection.VerifiedHTTPSConnection object at 0x7f708479d1d0>, 'Connection to nominatim.openstreetmap.org timed out. (connect timeout=5.0)'))\n",
      "Status code 429 from https://nominatim.openstreetmap.org/search: ERROR - 429 Client Error: Too Many Requests for url: https://nominatim.openstreetmap.org/search?q=Outagamie+County%2C+Wisconsin%2C+USA&format=jsonv2&addressdetails=1&limit=1\n",
      "Status code 429 from https://nominatim.openstreetmap.org/search: ERROR - 429 Client Error: Too Many Requests for url: https://nominatim.openstreetmap.org/search?q=Ozaukee+County%2C+Wisconsin%2C+USA&format=jsonv2&addressdetails=1&limit=1\n",
      "Status code 429 from https://nominatim.openstreetmap.org/search: ERROR - 429 Client Error: Too Many Requests for url: https://nominatim.openstreetmap.org/search?q=Hoke+County%2C+North+Carolina%2C+USA&format=jsonv2&addressdetails=1&limit=1\n",
      "Status code 429 from https://nominatim.openstreetmap.org/search: ERROR - 429 Client Error: Too Many Requests for url: https://nominatim.openstreetmap.org/search?q=Pepin+County%2C+Wisconsin%2C+USA&format=jsonv2&addressdetails=1&limit=1\n",
      "Status code Unknown from https://nominatim.openstreetmap.org/search: ERROR - HTTPSConnectionPool(host='nominatim.openstreetmap.org', port=443): Max retries exceeded with url: /search?q=Russell+County%2C+Kansas%2C+USA&format=jsonv2&addressdetails=1&limit=1 (Caused by ConnectTimeoutError(<urllib3.connection.VerifiedHTTPSConnection object at 0x7f708479ed68>, 'Connection to nominatim.openstreetmap.org timed out. (connect timeout=5.0)'))\n",
      "Status code 429 from https://nominatim.openstreetmap.org/search: ERROR - 429 Client Error: Too Many Requests for url: https://nominatim.openstreetmap.org/search?q=Hyde+County%2C+North+Carolina%2C+USA&format=jsonv2&addressdetails=1&limit=1\n",
      "Status code 429 from https://nominatim.openstreetmap.org/search: ERROR - 429 Client Error: Too Many Requests for url: https://nominatim.openstreetmap.org/search?q=Iredell+County%2C+North+Carolina%2C+USA&format=jsonv2&addressdetails=1&limit=1\n",
      "Status code Unknown from https://nominatim.openstreetmap.org/search: ERROR - HTTPSConnectionPool(host='nominatim.openstreetmap.org', port=443): Max retries exceeded with url: /search?q=Overton+County%2C+Tennessee%2C+USA&format=jsonv2&addressdetails=1&limit=1 (Caused by ConnectTimeoutError(<urllib3.connection.VerifiedHTTPSConnection object at 0x7f7084967e10>, 'Connection to nominatim.openstreetmap.org timed out. (connect timeout=5.0)'))\n"
     ]
    },
    {
     "name": "stderr",
     "output_type": "stream",
     "text": [
      "Status code 429 from https://nominatim.openstreetmap.org/search: ERROR - 429 Client Error: Too Many Requests for url: https://nominatim.openstreetmap.org/search?q=Pierce+County%2C+Wisconsin%2C+USA&format=jsonv2&addressdetails=1&limit=1\n",
      "Status code 429 from https://nominatim.openstreetmap.org/search: ERROR - 429 Client Error: Too Many Requests for url: https://nominatim.openstreetmap.org/search?q=Saline+County%2C+Kansas%2C+USA&format=jsonv2&addressdetails=1&limit=1\n",
      "Status code Unknown from https://nominatim.openstreetmap.org/search: ERROR - HTTPSConnectionPool(host='nominatim.openstreetmap.org', port=443): Max retries exceeded with url: /search?q=Clinch+County%2C+Georgia%2C+USA&format=jsonv2&addressdetails=1&limit=1 (Caused by ConnectTimeoutError(<urllib3.connection.VerifiedHTTPSConnection object at 0x7f70852672e8>, 'Connection to nominatim.openstreetmap.org timed out. (connect timeout=5.0)'))\n",
      "Status code 429 from https://nominatim.openstreetmap.org/search: ERROR - 429 Client Error: Too Many Requests for url: https://nominatim.openstreetmap.org/search?q=Scott+County%2C+Kansas%2C+USA&format=jsonv2&addressdetails=1&limit=1\n",
      "Status code 429 from https://nominatim.openstreetmap.org/search: ERROR - 429 Client Error: Too Many Requests for url: https://nominatim.openstreetmap.org/search?q=Cobb+County%2C+Georgia%2C+USA&format=jsonv2&addressdetails=1&limit=1\n",
      "Status code 429 from https://nominatim.openstreetmap.org/search: ERROR - 429 Client Error: Too Many Requests for url: https://nominatim.openstreetmap.org/search?q=Coffee+County%2C+Georgia%2C+USA&format=jsonv2&addressdetails=1&limit=1\n",
      "Status code 429 from https://nominatim.openstreetmap.org/search: ERROR - 429 Client Error: Too Many Requests for url: https://nominatim.openstreetmap.org/search?q=Sedgwick+County%2C+Kansas%2C+USA&format=jsonv2&addressdetails=1&limit=1\n",
      "Status code 429 from https://nominatim.openstreetmap.org/search: ERROR - 429 Client Error: Too Many Requests for url: https://nominatim.openstreetmap.org/search?q=Jackson+County%2C+North+Carolina%2C+USA&format=jsonv2&addressdetails=1&limit=1\n",
      "Status code 429 from https://nominatim.openstreetmap.org/search: ERROR - 429 Client Error: Too Many Requests for url: https://nominatim.openstreetmap.org/search?q=Perry+County%2C+Tennessee%2C+USA&format=jsonv2&addressdetails=1&limit=1\n",
      "Status code 429 from https://nominatim.openstreetmap.org/search: ERROR - 429 Client Error: Too Many Requests for url: https://nominatim.openstreetmap.org/search?q=Johnston+County%2C+North+Carolina%2C+USA&format=jsonv2&addressdetails=1&limit=1\n",
      "Status code 429 from https://nominatim.openstreetmap.org/search: ERROR - 429 Client Error: Too Many Requests for url: https://nominatim.openstreetmap.org/search?q=Seward+County%2C+Kansas%2C+USA&format=jsonv2&addressdetails=1&limit=1\n",
      "Status code 429 from https://nominatim.openstreetmap.org/search: ERROR - 429 Client Error: Too Many Requests for url: https://nominatim.openstreetmap.org/search?q=Pickett+County%2C+Tennessee%2C+USA&format=jsonv2&addressdetails=1&limit=1\n",
      "Status code 429 from https://nominatim.openstreetmap.org/search: ERROR - 429 Client Error: Too Many Requests for url: https://nominatim.openstreetmap.org/search?q=Jones+County%2C+North+Carolina%2C+USA&format=jsonv2&addressdetails=1&limit=1\n",
      "Status code 429 from https://nominatim.openstreetmap.org/search: ERROR - 429 Client Error: Too Many Requests for url: https://nominatim.openstreetmap.org/search?q=Shawnee+County%2C+Kansas%2C+USA&format=jsonv2&addressdetails=1&limit=1\n",
      "Status code 429 from https://nominatim.openstreetmap.org/search: ERROR - 429 Client Error: Too Many Requests for url: https://nominatim.openstreetmap.org/search?q=Lee+County%2C+North+Carolina%2C+USA&format=jsonv2&addressdetails=1&limit=1\n",
      "Status code Unknown from https://nominatim.openstreetmap.org/search: ERROR - HTTPSConnectionPool(host='nominatim.openstreetmap.org', port=443): Max retries exceeded with url: /search?q=Tallahatchie+County%2C+Mississippi%2C+USA&format=jsonv2&addressdetails=1&limit=1 (Caused by ConnectTimeoutError(<urllib3.connection.VerifiedHTTPSConnection object at 0x7f70847a6048>, 'Connection to nominatim.openstreetmap.org timed out. (connect timeout=5.0)'))\n",
      "Status code 429 from https://nominatim.openstreetmap.org/search: ERROR - 429 Client Error: Too Many Requests for url: https://nominatim.openstreetmap.org/search?q=Lenoir+County%2C+North+Carolina%2C+USA&format=jsonv2&addressdetails=1&limit=1\n",
      "Status code 429 from https://nominatim.openstreetmap.org/search: ERROR - 429 Client Error: Too Many Requests for url: https://nominatim.openstreetmap.org/search?q=Tate+County%2C+Mississippi%2C+USA&format=jsonv2&addressdetails=1&limit=1\n",
      "Status code 429 from https://nominatim.openstreetmap.org/search: ERROR - 429 Client Error: Too Many Requests for url: https://nominatim.openstreetmap.org/search?q=Tippah+County%2C+Mississippi%2C+USA&format=jsonv2&addressdetails=1&limit=1\n",
      "Status code 429 from https://nominatim.openstreetmap.org/search: ERROR - 429 Client Error: Too Many Requests for url: https://nominatim.openstreetmap.org/search?q=Polk+County%2C+Tennessee%2C+USA&format=jsonv2&addressdetails=1&limit=1\n",
      "Status code 429 from https://nominatim.openstreetmap.org/search: ERROR - 429 Client Error: Too Many Requests for url: https://nominatim.openstreetmap.org/search?q=Putnam+County%2C+Tennessee%2C+USA&format=jsonv2&addressdetails=1&limit=1\n",
      "Status code 429 from https://nominatim.openstreetmap.org/search: ERROR - 429 Client Error: Too Many Requests for url: https://nominatim.openstreetmap.org/search?q=Rhea+County%2C+Tennessee%2C+USA&format=jsonv2&addressdetails=1&limit=1\n",
      "Status code Unknown from https://nominatim.openstreetmap.org/search: ERROR - HTTPSConnectionPool(host='nominatim.openstreetmap.org', port=443): Max retries exceeded with url: /search?q=Polk+County%2C+Wisconsin%2C+USA&format=jsonv2&addressdetails=1&limit=1 (Caused by ConnectTimeoutError(<urllib3.connection.VerifiedHTTPSConnection object at 0x7f70849e8f60>, 'Connection to nominatim.openstreetmap.org timed out. (connect timeout=5.0)'))\n",
      "Status code 429 from https://nominatim.openstreetmap.org/search: ERROR - 429 Client Error: Too Many Requests for url: https://nominatim.openstreetmap.org/search?q=Lincoln+County%2C+North+Carolina%2C+USA&format=jsonv2&addressdetails=1&limit=1\n",
      "Status code 429 from https://nominatim.openstreetmap.org/search: ERROR - 429 Client Error: Too Many Requests for url: https://nominatim.openstreetmap.org/search?q=Portage+County%2C+Wisconsin%2C+USA&format=jsonv2&addressdetails=1&limit=1\n",
      "Status code 429 from https://nominatim.openstreetmap.org/search: ERROR - 429 Client Error: Too Many Requests for url: https://nominatim.openstreetmap.org/search?q=McDowell+County%2C+North+Carolina%2C+USA&format=jsonv2&addressdetails=1&limit=1\n",
      "Status code Unknown from https://nominatim.openstreetmap.org/search: ERROR - HTTPSConnectionPool(host='nominatim.openstreetmap.org', port=443): Max retries exceeded with url: /search?q=Colquitt+County%2C+Georgia%2C+USA&format=jsonv2&addressdetails=1&limit=1 (Caused by ConnectTimeoutError(<urllib3.connection.VerifiedHTTPSConnection object at 0x7f708a2a6470>, 'Connection to nominatim.openstreetmap.org timed out. (connect timeout=5.0)'))\n",
      "Status code 429 from https://nominatim.openstreetmap.org/search: ERROR - 429 Client Error: Too Many Requests for url: https://nominatim.openstreetmap.org/search?q=Macon+County%2C+North+Carolina%2C+USA&format=jsonv2&addressdetails=1&limit=1\n",
      "Status code 429 from https://nominatim.openstreetmap.org/search: ERROR - 429 Client Error: Too Many Requests for url: https://nominatim.openstreetmap.org/search?q=Price+County%2C+Wisconsin%2C+USA&format=jsonv2&addressdetails=1&limit=1\n",
      "Status code 429 from https://nominatim.openstreetmap.org/search: ERROR - 429 Client Error: Too Many Requests for url: https://nominatim.openstreetmap.org/search?q=Madison+County%2C+North+Carolina%2C+USA&format=jsonv2&addressdetails=1&limit=1\n"
     ]
    },
    {
     "name": "stdout",
     "output_type": "stream",
     "text": [
      "35.8134443 -77.0948861\n"
     ]
    },
    {
     "name": "stderr",
     "output_type": "stream",
     "text": [
      "Status code 429 from https://nominatim.openstreetmap.org/search: ERROR - 429 Client Error: Too Many Requests for url: https://nominatim.openstreetmap.org/search?q=Racine+County%2C+Wisconsin%2C+USA&format=jsonv2&addressdetails=1&limit=1\n",
      "Status code 429 from https://nominatim.openstreetmap.org/search: ERROR - 429 Client Error: Too Many Requests for url: https://nominatim.openstreetmap.org/search?q=Richland+County%2C+Wisconsin%2C+USA&format=jsonv2&addressdetails=1&limit=1\n",
      "Status code 429 from https://nominatim.openstreetmap.org/search: ERROR - 429 Client Error: Too Many Requests for url: https://nominatim.openstreetmap.org/search?q=Mecklenburg+County%2C+North+Carolina%2C+USA&format=jsonv2&addressdetails=1&limit=1\n",
      "Status code 429 from https://nominatim.openstreetmap.org/search: ERROR - 429 Client Error: Too Many Requests for url: https://nominatim.openstreetmap.org/search?q=Rock+County%2C+Wisconsin%2C+USA&format=jsonv2&addressdetails=1&limit=1\n",
      "Status code 429 from https://nominatim.openstreetmap.org/search: ERROR - 429 Client Error: Too Many Requests for url: https://nominatim.openstreetmap.org/search?q=Mitchell+County%2C+North+Carolina%2C+USA&format=jsonv2&addressdetails=1&limit=1\n",
      "Status code Unknown from https://nominatim.openstreetmap.org/search: ERROR - HTTPSConnectionPool(host='nominatim.openstreetmap.org', port=443): Max retries exceeded with url: /search?q=Sheridan+County%2C+Kansas%2C+USA&format=jsonv2&addressdetails=1&limit=1 (Caused by ConnectTimeoutError(<urllib3.connection.VerifiedHTTPSConnection object at 0x7f7085267048>, 'Connection to nominatim.openstreetmap.org timed out. (connect timeout=5.0)'))\n",
      "Status code 429 from https://nominatim.openstreetmap.org/search: ERROR - 429 Client Error: Too Many Requests for url: https://nominatim.openstreetmap.org/search?q=Rusk+County%2C+Wisconsin%2C+USA&format=jsonv2&addressdetails=1&limit=1\n",
      "Status code 429 from https://nominatim.openstreetmap.org/search: ERROR - 429 Client Error: Too Many Requests for url: https://nominatim.openstreetmap.org/search?q=Sherman+County%2C+Kansas%2C+USA&format=jsonv2&addressdetails=1&limit=1\n",
      "Status code 429 from https://nominatim.openstreetmap.org/search: ERROR - 429 Client Error: Too Many Requests for url: https://nominatim.openstreetmap.org/search?q=Smith+County%2C+Kansas%2C+USA&format=jsonv2&addressdetails=1&limit=1\n",
      "Status code 429 from https://nominatim.openstreetmap.org/search: ERROR - 429 Client Error: Too Many Requests for url: https://nominatim.openstreetmap.org/search?q=St.+Croix+County%2C+Wisconsin%2C+USA&format=jsonv2&addressdetails=1&limit=1\n",
      "Status code Unknown from https://nominatim.openstreetmap.org/search: ERROR - HTTPSConnectionPool(host='nominatim.openstreetmap.org', port=443): Max retries exceeded with url: /search?q=Tishomingo+County%2C+Mississippi%2C+USA&format=jsonv2&addressdetails=1&limit=1 (Caused by ConnectTimeoutError(<urllib3.connection.VerifiedHTTPSConnection object at 0x7f70849057b8>, 'Connection to nominatim.openstreetmap.org timed out. (connect timeout=5.0)'))\n",
      "Status code 429 from https://nominatim.openstreetmap.org/search: ERROR - 429 Client Error: Too Many Requests for url: https://nominatim.openstreetmap.org/search?q=Sauk+County%2C+Wisconsin%2C+USA&format=jsonv2&addressdetails=1&limit=1\n",
      "Status code 429 from https://nominatim.openstreetmap.org/search: ERROR - 429 Client Error: Too Many Requests for url: https://nominatim.openstreetmap.org/search?q=Stafford+County%2C+Kansas%2C+USA&format=jsonv2&addressdetails=1&limit=1\n",
      "Status code 429 from https://nominatim.openstreetmap.org/search: ERROR - 429 Client Error: Too Many Requests for url: https://nominatim.openstreetmap.org/search?q=Sawyer+County%2C+Wisconsin%2C+USA&format=jsonv2&addressdetails=1&limit=1\n",
      "Status code 429 from https://nominatim.openstreetmap.org/search: ERROR - 429 Client Error: Too Many Requests for url: https://nominatim.openstreetmap.org/search?q=Stanton+County%2C+Kansas%2C+USA&format=jsonv2&addressdetails=1&limit=1\n",
      "Status code Unknown from https://nominatim.openstreetmap.org/search: ERROR - HTTPSConnectionPool(host='nominatim.openstreetmap.org', port=443): Max retries exceeded with url: /search?q=Roane+County%2C+Tennessee%2C+USA&format=jsonv2&addressdetails=1&limit=1 (Caused by ConnectTimeoutError(<urllib3.connection.VerifiedHTTPSConnection object at 0x7f70847aa198>, 'Connection to nominatim.openstreetmap.org timed out. (connect timeout=5.0)'))\n",
      "Status code 429 from https://nominatim.openstreetmap.org/search: ERROR - 429 Client Error: Too Many Requests for url: https://nominatim.openstreetmap.org/search?q=Robertson+County%2C+Tennessee%2C+USA&format=jsonv2&addressdetails=1&limit=1\n",
      "Status code 429 from https://nominatim.openstreetmap.org/search: ERROR - 429 Client Error: Too Many Requests for url: https://nominatim.openstreetmap.org/search?q=Rutherford+County%2C+Tennessee%2C+USA&format=jsonv2&addressdetails=1&limit=1\n",
      "Status code Unknown from https://nominatim.openstreetmap.org/search: ERROR - HTTPSConnectionPool(host='nominatim.openstreetmap.org', port=443): Max retries exceeded with url: /search?q=Columbia+County%2C+Georgia%2C+USA&format=jsonv2&addressdetails=1&limit=1 (Caused by ConnectTimeoutError(<urllib3.connection.VerifiedHTTPSConnection object at 0x7f70847b6d30>, 'Connection to nominatim.openstreetmap.org timed out. (connect timeout=5.0)'))\n",
      "Status code 429 from https://nominatim.openstreetmap.org/search: ERROR - 429 Client Error: Too Many Requests for url: https://nominatim.openstreetmap.org/search?q=Scott+County%2C+Tennessee%2C+USA&format=jsonv2&addressdetails=1&limit=1\n",
      "Status code 429 from https://nominatim.openstreetmap.org/search: ERROR - 429 Client Error: Too Many Requests for url: https://nominatim.openstreetmap.org/search?q=Cook+County%2C+Georgia%2C+USA&format=jsonv2&addressdetails=1&limit=1\n",
      "Status code 429 from https://nominatim.openstreetmap.org/search: ERROR - 429 Client Error: Too Many Requests for url: https://nominatim.openstreetmap.org/search?q=Sequatchie+County%2C+Tennessee%2C+USA&format=jsonv2&addressdetails=1&limit=1\n",
      "Status code 429 from https://nominatim.openstreetmap.org/search: ERROR - 429 Client Error: Too Many Requests for url: https://nominatim.openstreetmap.org/search?q=Coweta+County%2C+Georgia%2C+USA&format=jsonv2&addressdetails=1&limit=1\n",
      "Status code 429 from https://nominatim.openstreetmap.org/search: ERROR - 429 Client Error: Too Many Requests for url: https://nominatim.openstreetmap.org/search?q=Sumner+County%2C+Kansas%2C+USA&format=jsonv2&addressdetails=1&limit=1\n",
      "Status code 429 from https://nominatim.openstreetmap.org/search: ERROR - 429 Client Error: Too Many Requests for url: https://nominatim.openstreetmap.org/search?q=Sevier+County%2C+Tennessee%2C+USA&format=jsonv2&addressdetails=1&limit=1\n",
      "Status code 429 from https://nominatim.openstreetmap.org/search: ERROR - 429 Client Error: Too Many Requests for url: https://nominatim.openstreetmap.org/search?q=Thomas+County%2C+Kansas%2C+USA&format=jsonv2&addressdetails=1&limit=1\n",
      "Status code 429 from https://nominatim.openstreetmap.org/search: ERROR - 429 Client Error: Too Many Requests for url: https://nominatim.openstreetmap.org/search?q=Shelby+County%2C+Tennessee%2C+USA&format=jsonv2&addressdetails=1&limit=1\n",
      "Status code Unknown from https://nominatim.openstreetmap.org/search: ERROR - HTTPSConnectionPool(host='nominatim.openstreetmap.org', port=443): Max retries exceeded with url: /search?q=Montgomery+County%2C+North+Carolina%2C+USA&format=jsonv2&addressdetails=1&limit=1 (Caused by ConnectTimeoutError(<urllib3.connection.VerifiedHTTPSConnection object at 0x7f7084905978>, 'Connection to nominatim.openstreetmap.org timed out. (connect timeout=5.0)'))\n",
      "Status code 429 from https://nominatim.openstreetmap.org/search: ERROR - 429 Client Error: Too Many Requests for url: https://nominatim.openstreetmap.org/search?q=Smith+County%2C+Tennessee%2C+USA&format=jsonv2&addressdetails=1&limit=1\n",
      "Status code 429 from https://nominatim.openstreetmap.org/search: ERROR - 429 Client Error: Too Many Requests for url: https://nominatim.openstreetmap.org/search?q=Trego+County%2C+Kansas%2C+USA&format=jsonv2&addressdetails=1&limit=1\n",
      "Status code 429 from https://nominatim.openstreetmap.org/search: ERROR - 429 Client Error: Too Many Requests for url: https://nominatim.openstreetmap.org/search?q=Moore+County%2C+North+Carolina%2C+USA&format=jsonv2&addressdetails=1&limit=1\n"
     ]
    },
    {
     "name": "stderr",
     "output_type": "stream",
     "text": [
      "Status code Unknown from https://nominatim.openstreetmap.org/search: ERROR - HTTPSConnectionPool(host='nominatim.openstreetmap.org', port=443): Max retries exceeded with url: /search?q=Tunica+County%2C+Mississippi%2C+USA&format=jsonv2&addressdetails=1&limit=1 (Caused by ConnectTimeoutError(<urllib3.connection.VerifiedHTTPSConnection object at 0x7f708486e550>, 'Connection to nominatim.openstreetmap.org timed out. (connect timeout=5.0)'))\n",
      "Status code 429 from https://nominatim.openstreetmap.org/search: ERROR - 429 Client Error: Too Many Requests for url: https://nominatim.openstreetmap.org/search?q=Wabaunsee+County%2C+Kansas%2C+USA&format=jsonv2&addressdetails=1&limit=1\n",
      "Status code 429 from https://nominatim.openstreetmap.org/search: ERROR - 429 Client Error: Too Many Requests for url: https://nominatim.openstreetmap.org/search?q=Nash+County%2C+North+Carolina%2C+USA&format=jsonv2&addressdetails=1&limit=1\n",
      "Status code 429 from https://nominatim.openstreetmap.org/search: ERROR - 429 Client Error: Too Many Requests for url: https://nominatim.openstreetmap.org/search?q=Union+County%2C+Mississippi%2C+USA&format=jsonv2&addressdetails=1&limit=1\n",
      "Status code Unknown from https://nominatim.openstreetmap.org/search: ERROR - HTTPSConnectionPool(host='nominatim.openstreetmap.org', port=443): Max retries exceeded with url: /search?q=Shawano+County%2C+Wisconsin%2C+USA&format=jsonv2&addressdetails=1&limit=1 (Caused by ConnectTimeoutError(<urllib3.connection.VerifiedHTTPSConnection object at 0x7f7084967940>, 'Connection to nominatim.openstreetmap.org timed out. (connect timeout=5.0)'))\n",
      "Status code 429 from https://nominatim.openstreetmap.org/search: ERROR - 429 Client Error: Too Many Requests for url: https://nominatim.openstreetmap.org/search?q=Walthall+County%2C+Mississippi%2C+USA&format=jsonv2&addressdetails=1&limit=1\n",
      "Status code 429 from https://nominatim.openstreetmap.org/search: ERROR - 429 Client Error: Too Many Requests for url: https://nominatim.openstreetmap.org/search?q=Wallace+County%2C+Kansas%2C+USA&format=jsonv2&addressdetails=1&limit=1\n",
      "Status code 429 from https://nominatim.openstreetmap.org/search: ERROR - 429 Client Error: Too Many Requests for url: https://nominatim.openstreetmap.org/search?q=Washington+County%2C+Kansas%2C+USA&format=jsonv2&addressdetails=1&limit=1\n",
      "Status code 429 from https://nominatim.openstreetmap.org/search: ERROR - 429 Client Error: Too Many Requests for url: https://nominatim.openstreetmap.org/search?q=Sheboygan+County%2C+Wisconsin%2C+USA&format=jsonv2&addressdetails=1&limit=1\n",
      "Status code 429 from https://nominatim.openstreetmap.org/search: ERROR - 429 Client Error: Too Many Requests for url: https://nominatim.openstreetmap.org/search?q=Wichita+County%2C+Kansas%2C+USA&format=jsonv2&addressdetails=1&limit=1\n",
      "Status code 429 from https://nominatim.openstreetmap.org/search: ERROR - 429 Client Error: Too Many Requests for url: https://nominatim.openstreetmap.org/search?q=Wilson+County%2C+Kansas%2C+USA&format=jsonv2&addressdetails=1&limit=1\n",
      "Status code 429 from https://nominatim.openstreetmap.org/search: ERROR - 429 Client Error: Too Many Requests for url: https://nominatim.openstreetmap.org/search?q=Woodson+County%2C+Kansas%2C+USA&format=jsonv2&addressdetails=1&limit=1\n",
      "Status code 429 from https://nominatim.openstreetmap.org/search: ERROR - 429 Client Error: Too Many Requests for url: https://nominatim.openstreetmap.org/search?q=Warren+County%2C+Mississippi%2C+USA&format=jsonv2&addressdetails=1&limit=1\n",
      "Status code 429 from https://nominatim.openstreetmap.org/search: ERROR - 429 Client Error: Too Many Requests for url: https://nominatim.openstreetmap.org/search?q=Wyandotte+County%2C+Kansas%2C+USA&format=jsonv2&addressdetails=1&limit=1\n",
      "Status code Unknown from https://nominatim.openstreetmap.org/search: ERROR - HTTPSConnectionPool(host='nominatim.openstreetmap.org', port=443): Max retries exceeded with url: /search?q=Crawford+County%2C+Georgia%2C+USA&format=jsonv2&addressdetails=1&limit=1 (Caused by ConnectTimeoutError(<urllib3.connection.VerifiedHTTPSConnection object at 0x7f70847b6eb8>, 'Connection to nominatim.openstreetmap.org timed out. (connect timeout=5.0)'))\n",
      "Status code 429 from https://nominatim.openstreetmap.org/search: ERROR - 429 Client Error: Too Many Requests for url: https://nominatim.openstreetmap.org/search?q=Washington+County%2C+Mississippi%2C+USA&format=jsonv2&addressdetails=1&limit=1\n",
      "Status code 429 from https://nominatim.openstreetmap.org/search: ERROR - 429 Client Error: Too Many Requests for url: https://nominatim.openstreetmap.org/search?q=Crisp+County%2C+Georgia%2C+USA&format=jsonv2&addressdetails=1&limit=1\n",
      "Status code 429 from https://nominatim.openstreetmap.org/search: ERROR - 429 Client Error: Too Many Requests for url: https://nominatim.openstreetmap.org/search?q=Dade+County%2C+Georgia%2C+USA&format=jsonv2&addressdetails=1&limit=1\n",
      "Status code 429 from https://nominatim.openstreetmap.org/search: ERROR - 429 Client Error: Too Many Requests for url: https://nominatim.openstreetmap.org/search?q=Wayne+County%2C+Mississippi%2C+USA&format=jsonv2&addressdetails=1&limit=1\n",
      "Status code Unknown from https://nominatim.openstreetmap.org/search: ERROR - HTTPSConnectionPool(host='nominatim.openstreetmap.org', port=443): Max retries exceeded with url: /search?q=Stewart+County%2C+Tennessee%2C+USA&format=jsonv2&addressdetails=1&limit=1 (Caused by ConnectTimeoutError(<urllib3.connection.VerifiedHTTPSConnection object at 0x7f708486e860>, 'Connection to nominatim.openstreetmap.org timed out. (connect timeout=5.0)'))\n",
      "Status code 429 from https://nominatim.openstreetmap.org/search: ERROR - 429 Client Error: Too Many Requests for url: https://nominatim.openstreetmap.org/search?q=Webster+County%2C+Mississippi%2C+USA&format=jsonv2&addressdetails=1&limit=1\n",
      "Status code 429 from https://nominatim.openstreetmap.org/search: ERROR - 429 Client Error: Too Many Requests for url: https://nominatim.openstreetmap.org/search?q=Sullivan+County%2C+Tennessee%2C+USA&format=jsonv2&addressdetails=1&limit=1\n",
      "Status code 429 from https://nominatim.openstreetmap.org/search: ERROR - 429 Client Error: Too Many Requests for url: https://nominatim.openstreetmap.org/search?q=Sumner+County%2C+Tennessee%2C+USA&format=jsonv2&addressdetails=1&limit=1\n",
      "Status code 429 from https://nominatim.openstreetmap.org/search: ERROR - 429 Client Error: Too Many Requests for url: https://nominatim.openstreetmap.org/search?q=Wilkinson+County%2C+Mississippi%2C+USA&format=jsonv2&addressdetails=1&limit=1\n",
      "Status code Unknown from https://nominatim.openstreetmap.org/search: ERROR - HTTPSConnectionPool(host='nominatim.openstreetmap.org', port=443): Max retries exceeded with url: /search?q=New+Hanover+County%2C+North+Carolina%2C+USA&format=jsonv2&addressdetails=1&limit=1 (Caused by ConnectTimeoutError(<urllib3.connection.VerifiedHTTPSConnection object at 0x7f70847b7ba8>, 'Connection to nominatim.openstreetmap.org timed out. (connect timeout=5.0)'))\n",
      "Status code 429 from https://nominatim.openstreetmap.org/search: ERROR - 429 Client Error: Too Many Requests for url: https://nominatim.openstreetmap.org/search?q=Dawson+County%2C+Georgia%2C+USA&format=jsonv2&addressdetails=1&limit=1\n",
      "Status code 429 from https://nominatim.openstreetmap.org/search: ERROR - 429 Client Error: Too Many Requests for url: https://nominatim.openstreetmap.org/search?q=Northampton+County%2C+North+Carolina%2C+USA&format=jsonv2&addressdetails=1&limit=1\n",
      "Status code 429 from https://nominatim.openstreetmap.org/search: ERROR - 429 Client Error: Too Many Requests for url: https://nominatim.openstreetmap.org/search?q=Decatur+County%2C+Georgia%2C+USA&format=jsonv2&addressdetails=1&limit=1\n",
      "Status code 429 from https://nominatim.openstreetmap.org/search: ERROR - 429 Client Error: Too Many Requests for url: https://nominatim.openstreetmap.org/search?q=Onslow+County%2C+North+Carolina%2C+USA&format=jsonv2&addressdetails=1&limit=1\n",
      "Status code 429 from https://nominatim.openstreetmap.org/search: ERROR - 429 Client Error: Too Many Requests for url: https://nominatim.openstreetmap.org/search?q=Orange+County%2C+North+Carolina%2C+USA&format=jsonv2&addressdetails=1&limit=1\n",
      "Status code 429 from https://nominatim.openstreetmap.org/search: ERROR - 429 Client Error: Too Many Requests for url: https://nominatim.openstreetmap.org/search?q=DeKalb+County%2C+Georgia%2C+USA&format=jsonv2&addressdetails=1&limit=1\n"
     ]
    },
    {
     "name": "stderr",
     "output_type": "stream",
     "text": [
      "Status code Unknown from https://nominatim.openstreetmap.org/search: ERROR - HTTPSConnectionPool(host='nominatim.openstreetmap.org', port=443): Max retries exceeded with url: /search?q=Taylor+County%2C+Wisconsin%2C+USA&format=jsonv2&addressdetails=1&limit=1 (Caused by ConnectTimeoutError(<urllib3.connection.VerifiedHTTPSConnection object at 0x7f7084905a20>, 'Connection to nominatim.openstreetmap.org timed out. (connect timeout=5.0)'))\n",
      "Status code 429 from https://nominatim.openstreetmap.org/search: ERROR - 429 Client Error: Too Many Requests for url: https://nominatim.openstreetmap.org/search?q=Winston+County%2C+Mississippi%2C+USA&format=jsonv2&addressdetails=1&limit=1\n",
      "Status code 429 from https://nominatim.openstreetmap.org/search: ERROR - 429 Client Error: Too Many Requests for url: https://nominatim.openstreetmap.org/search?q=Trempealeau+County%2C+Wisconsin%2C+USA&format=jsonv2&addressdetails=1&limit=1\n",
      "Status code 429 from https://nominatim.openstreetmap.org/search: ERROR - 429 Client Error: Too Many Requests for url: https://nominatim.openstreetmap.org/search?q=Yalobusha+County%2C+Mississippi%2C+USA&format=jsonv2&addressdetails=1&limit=1\n",
      "Status code 429 from https://nominatim.openstreetmap.org/search: ERROR - 429 Client Error: Too Many Requests for url: https://nominatim.openstreetmap.org/search?q=Yazoo+County%2C+Mississippi%2C+USA&format=jsonv2&addressdetails=1&limit=1\n",
      "Status code Unknown from https://nominatim.openstreetmap.org/search: ERROR - HTTPSConnectionPool(host='nominatim.openstreetmap.org', port=443): Max retries exceeded with url: /search?q=Adair+County%2C+Kentucky%2C+USA&format=jsonv2&addressdetails=1&limit=1 (Caused by ConnectTimeoutError(<urllib3.connection.VerifiedHTTPSConnection object at 0x7f70849059b0>, 'Connection to nominatim.openstreetmap.org timed out. (connect timeout=5.0)'))\n",
      "Status code 429 from https://nominatim.openstreetmap.org/search: ERROR - 429 Client Error: Too Many Requests for url: https://nominatim.openstreetmap.org/search?q=Vernon+County%2C+Wisconsin%2C+USA&format=jsonv2&addressdetails=1&limit=1\n",
      "Status code 429 from https://nominatim.openstreetmap.org/search: ERROR - 429 Client Error: Too Many Requests for url: https://nominatim.openstreetmap.org/search?q=Adair+County%2C+Missouri%2C+USA&format=jsonv2&addressdetails=1&limit=1\n",
      "Status code 429 from https://nominatim.openstreetmap.org/search: ERROR - 429 Client Error: Too Many Requests for url: https://nominatim.openstreetmap.org/search?q=Andrew+County%2C+Missouri%2C+USA&format=jsonv2&addressdetails=1&limit=1\n",
      "Status code 429 from https://nominatim.openstreetmap.org/search: ERROR - 429 Client Error: Too Many Requests for url: https://nominatim.openstreetmap.org/search?q=Allen+County%2C+Kentucky%2C+USA&format=jsonv2&addressdetails=1&limit=1\n",
      "Status code 429 from https://nominatim.openstreetmap.org/search: ERROR - 429 Client Error: Too Many Requests for url: https://nominatim.openstreetmap.org/search?q=Vilas+County%2C+Wisconsin%2C+USA&format=jsonv2&addressdetails=1&limit=1\n",
      "Status code 429 from https://nominatim.openstreetmap.org/search: ERROR - 429 Client Error: Too Many Requests for url: https://nominatim.openstreetmap.org/search?q=Anderson+County%2C+Kentucky%2C+USA&format=jsonv2&addressdetails=1&limit=1\n",
      "Status code 429 from https://nominatim.openstreetmap.org/search: ERROR - 429 Client Error: Too Many Requests for url: https://nominatim.openstreetmap.org/search?q=Ballard+County%2C+Kentucky%2C+USA&format=jsonv2&addressdetails=1&limit=1\n",
      "Status code 429 from https://nominatim.openstreetmap.org/search: ERROR - 429 Client Error: Too Many Requests for url: https://nominatim.openstreetmap.org/search?q=Walworth+County%2C+Wisconsin%2C+USA&format=jsonv2&addressdetails=1&limit=1\n",
      "Status code Unknown from https://nominatim.openstreetmap.org/search: ERROR - HTTPSConnectionPool(host='nominatim.openstreetmap.org', port=443): Max retries exceeded with url: /search?q=Tipton+County%2C+Tennessee%2C+USA&format=jsonv2&addressdetails=1&limit=1 (Caused by ConnectTimeoutError(<urllib3.connection.VerifiedHTTPSConnection object at 0x7f7084967748>, 'Connection to nominatim.openstreetmap.org timed out. (connect timeout=5.0)'))\n",
      "Status code 429 from https://nominatim.openstreetmap.org/search: ERROR - 429 Client Error: Too Many Requests for url: https://nominatim.openstreetmap.org/search?q=Washburn+County%2C+Wisconsin%2C+USA&format=jsonv2&addressdetails=1&limit=1\n",
      "Status code 429 from https://nominatim.openstreetmap.org/search: ERROR - 429 Client Error: Too Many Requests for url: https://nominatim.openstreetmap.org/search?q=Barren+County%2C+Kentucky%2C+USA&format=jsonv2&addressdetails=1&limit=1\n",
      "Status code 429 from https://nominatim.openstreetmap.org/search: ERROR - 429 Client Error: Too Many Requests for url: https://nominatim.openstreetmap.org/search?q=Trousdale+County%2C+Tennessee%2C+USA&format=jsonv2&addressdetails=1&limit=1\n",
      "Status code 429 from https://nominatim.openstreetmap.org/search: ERROR - 429 Client Error: Too Many Requests for url: https://nominatim.openstreetmap.org/search?q=Bath+County%2C+Kentucky%2C+USA&format=jsonv2&addressdetails=1&limit=1\n",
      "Status code 429 from https://nominatim.openstreetmap.org/search: ERROR - 429 Client Error: Too Many Requests for url: https://nominatim.openstreetmap.org/search?q=Washington+County%2C+Wisconsin%2C+USA&format=jsonv2&addressdetails=1&limit=1\n",
      "Status code 429 from https://nominatim.openstreetmap.org/search: ERROR - 429 Client Error: Too Many Requests for url: https://nominatim.openstreetmap.org/search?q=Unicoi+County%2C+Tennessee%2C+USA&format=jsonv2&addressdetails=1&limit=1\n",
      "Status code 429 from https://nominatim.openstreetmap.org/search: ERROR - 429 Client Error: Too Many Requests for url: https://nominatim.openstreetmap.org/search?q=Bell+County%2C+Kentucky%2C+USA&format=jsonv2&addressdetails=1&limit=1\n",
      "Status code Unknown from https://nominatim.openstreetmap.org/search: ERROR - HTTPSConnectionPool(host='nominatim.openstreetmap.org', port=443): Max retries exceeded with url: /search?q=Pamlico+County%2C+North+Carolina%2C+USA&format=jsonv2&addressdetails=1&limit=1 (Caused by ConnectTimeoutError(<urllib3.connection.VerifiedHTTPSConnection object at 0x7f70847a7a20>, 'Connection to nominatim.openstreetmap.org timed out. (connect timeout=5.0)'))\n",
      "Status code 429 from https://nominatim.openstreetmap.org/search: ERROR - 429 Client Error: Too Many Requests for url: https://nominatim.openstreetmap.org/search?q=Waukesha+County%2C+Wisconsin%2C+USA&format=jsonv2&addressdetails=1&limit=1\n",
      "Status code Unknown from https://nominatim.openstreetmap.org/search: ERROR - HTTPSConnectionPool(host='nominatim.openstreetmap.org', port=443): Max retries exceeded with url: /search?q=Dodge+County%2C+Georgia%2C+USA&format=jsonv2&addressdetails=1&limit=1 (Caused by ConnectTimeoutError(<urllib3.connection.VerifiedHTTPSConnection object at 0x7f70847b6438>, 'Connection to nominatim.openstreetmap.org timed out. (connect timeout=5.0)'))\n",
      "Status code 429 from https://nominatim.openstreetmap.org/search: ERROR - 429 Client Error: Too Many Requests for url: https://nominatim.openstreetmap.org/search?q=Boone+County%2C+Kentucky%2C+USA&format=jsonv2&addressdetails=1&limit=1\n",
      "Status code 429 from https://nominatim.openstreetmap.org/search: ERROR - 429 Client Error: Too Many Requests for url: https://nominatim.openstreetmap.org/search?q=Dooly+County%2C+Georgia%2C+USA&format=jsonv2&addressdetails=1&limit=1\n",
      "Status code 429 from https://nominatim.openstreetmap.org/search: ERROR - 429 Client Error: Too Many Requests for url: https://nominatim.openstreetmap.org/search?q=Pasquotank+County%2C+North+Carolina%2C+USA&format=jsonv2&addressdetails=1&limit=1\n",
      "Status code 429 from https://nominatim.openstreetmap.org/search: ERROR - 429 Client Error: Too Many Requests for url: https://nominatim.openstreetmap.org/search?q=Bourbon+County%2C+Kentucky%2C+USA&format=jsonv2&addressdetails=1&limit=1\n",
      "Status code 429 from https://nominatim.openstreetmap.org/search: ERROR - 429 Client Error: Too Many Requests for url: https://nominatim.openstreetmap.org/search?q=Dougherty+County%2C+Georgia%2C+USA&format=jsonv2&addressdetails=1&limit=1\n",
      "Status code 429 from https://nominatim.openstreetmap.org/search: ERROR - 429 Client Error: Too Many Requests for url: https://nominatim.openstreetmap.org/search?q=Pender+County%2C+North+Carolina%2C+USA&format=jsonv2&addressdetails=1&limit=1\n"
     ]
    },
    {
     "name": "stderr",
     "output_type": "stream",
     "text": [
      "Status code Unknown from https://nominatim.openstreetmap.org/search: ERROR - HTTPSConnectionPool(host='nominatim.openstreetmap.org', port=443): Max retries exceeded with url: /search?q=Atchison+County%2C+Missouri%2C+USA&format=jsonv2&addressdetails=1&limit=1 (Caused by ConnectTimeoutError(<urllib3.connection.VerifiedHTTPSConnection object at 0x7f708486e898>, 'Connection to nominatim.openstreetmap.org timed out. (connect timeout=5.0)'))\n",
      "Status code 429 from https://nominatim.openstreetmap.org/search: ERROR - 429 Client Error: Too Many Requests for url: https://nominatim.openstreetmap.org/search?q=Boyd+County%2C+Kentucky%2C+USA&format=jsonv2&addressdetails=1&limit=1\n",
      "Status code 429 from https://nominatim.openstreetmap.org/search: ERROR - 429 Client Error: Too Many Requests for url: https://nominatim.openstreetmap.org/search?q=Douglas+County%2C+Georgia%2C+USA&format=jsonv2&addressdetails=1&limit=1\n",
      "Status code 429 from https://nominatim.openstreetmap.org/search: ERROR - 429 Client Error: Too Many Requests for url: https://nominatim.openstreetmap.org/search?q=Audrain+County%2C+Missouri%2C+USA&format=jsonv2&addressdetails=1&limit=1\n",
      "Status code 429 from https://nominatim.openstreetmap.org/search: ERROR - 429 Client Error: Too Many Requests for url: https://nominatim.openstreetmap.org/search?q=Early+County%2C+Georgia%2C+USA&format=jsonv2&addressdetails=1&limit=1\n",
      "Status code 429 from https://nominatim.openstreetmap.org/search: ERROR - 429 Client Error: Too Many Requests for url: https://nominatim.openstreetmap.org/search?q=Boyle+County%2C+Kentucky%2C+USA&format=jsonv2&addressdetails=1&limit=1\n",
      "Status code 429 from https://nominatim.openstreetmap.org/search: ERROR - 429 Client Error: Too Many Requests for url: https://nominatim.openstreetmap.org/search?q=Barry+County%2C+Missouri%2C+USA&format=jsonv2&addressdetails=1&limit=1\n",
      "Status code 429 from https://nominatim.openstreetmap.org/search: ERROR - 429 Client Error: Too Many Requests for url: https://nominatim.openstreetmap.org/search?q=Echols+County%2C+Georgia%2C+USA&format=jsonv2&addressdetails=1&limit=1\n",
      "Status code 429 from https://nominatim.openstreetmap.org/search: ERROR - 429 Client Error: Too Many Requests for url: https://nominatim.openstreetmap.org/search?q=Bracken+County%2C+Kentucky%2C+USA&format=jsonv2&addressdetails=1&limit=1\n",
      "Status code 429 from https://nominatim.openstreetmap.org/search: ERROR - 429 Client Error: Too Many Requests for url: https://nominatim.openstreetmap.org/search?q=Effingham+County%2C+Georgia%2C+USA&format=jsonv2&addressdetails=1&limit=1\n",
      "Status code 429 from https://nominatim.openstreetmap.org/search: ERROR - 429 Client Error: Too Many Requests for url: https://nominatim.openstreetmap.org/search?q=Elbert+County%2C+Georgia%2C+USA&format=jsonv2&addressdetails=1&limit=1\n",
      "Status code 429 from https://nominatim.openstreetmap.org/search: ERROR - 429 Client Error: Too Many Requests for url: https://nominatim.openstreetmap.org/search?q=Emanuel+County%2C+Georgia%2C+USA&format=jsonv2&addressdetails=1&limit=1\n",
      "Status code Unknown from https://nominatim.openstreetmap.org/search: ERROR - HTTPSConnectionPool(host='nominatim.openstreetmap.org', port=443): Max retries exceeded with url: /search?q=Union+County%2C+Tennessee%2C+USA&format=jsonv2&addressdetails=1&limit=1 (Caused by ConnectTimeoutError(<urllib3.connection.VerifiedHTTPSConnection object at 0x7f708486eac8>, 'Connection to nominatim.openstreetmap.org timed out. (connect timeout=5.0)'))\n",
      "Status code 429 from https://nominatim.openstreetmap.org/search: ERROR - 429 Client Error: Too Many Requests for url: https://nominatim.openstreetmap.org/search?q=Evans+County%2C+Georgia%2C+USA&format=jsonv2&addressdetails=1&limit=1\n",
      "Status code 429 from https://nominatim.openstreetmap.org/search: ERROR - 429 Client Error: Too Many Requests for url: https://nominatim.openstreetmap.org/search?q=Fannin+County%2C+Georgia%2C+USA&format=jsonv2&addressdetails=1&limit=1\n",
      "Status code Unknown from https://nominatim.openstreetmap.org/search: ERROR - HTTPSConnectionPool(host='nominatim.openstreetmap.org', port=443): Max retries exceeded with url: /search?q=Waupaca+County%2C+Wisconsin%2C+USA&format=jsonv2&addressdetails=1&limit=1 (Caused by ConnectTimeoutError(<urllib3.connection.VerifiedHTTPSConnection object at 0x7f70849e8d30>, 'Connection to nominatim.openstreetmap.org timed out. (connect timeout=5.0)'))\n",
      "Status code 429 from https://nominatim.openstreetmap.org/search: ERROR - 429 Client Error: Too Many Requests for url: https://nominatim.openstreetmap.org/search?q=Waushara+County%2C+Wisconsin%2C+USA&format=jsonv2&addressdetails=1&limit=1\n",
      "Status code 429 from https://nominatim.openstreetmap.org/search: ERROR - 429 Client Error: Too Many Requests for url: https://nominatim.openstreetmap.org/search?q=Winnebago+County%2C+Wisconsin%2C+USA&format=jsonv2&addressdetails=1&limit=1\n",
      "Status code 429 from https://nominatim.openstreetmap.org/search: ERROR - 429 Client Error: Too Many Requests for url: https://nominatim.openstreetmap.org/search?q=Wood+County%2C+Wisconsin%2C+USA&format=jsonv2&addressdetails=1&limit=1\n",
      "Status code 429 from https://nominatim.openstreetmap.org/search: ERROR - 429 Client Error: Too Many Requests for url: https://nominatim.openstreetmap.org/search?q=Van+Buren+County%2C+Tennessee%2C+USA&format=jsonv2&addressdetails=1&limit=1\n",
      "Status code 429 from https://nominatim.openstreetmap.org/search: ERROR - 429 Client Error: Too Many Requests for url: https://nominatim.openstreetmap.org/search?q=Albany+County%2C+Wyoming%2C+USA&format=jsonv2&addressdetails=1&limit=1\n",
      "Status code Unknown from https://nominatim.openstreetmap.org/search: ERROR - HTTPSConnectionPool(host='nominatim.openstreetmap.org', port=443): Max retries exceeded with url: /search?q=Perquimans+County%2C+North+Carolina%2C+USA&format=jsonv2&addressdetails=1&limit=1 (Caused by ConnectTimeoutError(<urllib3.connection.VerifiedHTTPSConnection object at 0x7f7084905ac8>, 'Connection to nominatim.openstreetmap.org timed out. (connect timeout=5.0)'))\n",
      "Status code 429 from https://nominatim.openstreetmap.org/search: ERROR - 429 Client Error: Too Many Requests for url: https://nominatim.openstreetmap.org/search?q=Warren+County%2C+Tennessee%2C+USA&format=jsonv2&addressdetails=1&limit=1\n",
      "Status code 429 from https://nominatim.openstreetmap.org/search: ERROR - 429 Client Error: Too Many Requests for url: https://nominatim.openstreetmap.org/search?q=Washington+County%2C+Tennessee%2C+USA&format=jsonv2&addressdetails=1&limit=1\n",
      "Status code 429 from https://nominatim.openstreetmap.org/search: ERROR - 429 Client Error: Too Many Requests for url: https://nominatim.openstreetmap.org/search?q=Big+Horn+County%2C+Wyoming%2C+USA&format=jsonv2&addressdetails=1&limit=1\n",
      "Status code 429 from https://nominatim.openstreetmap.org/search: ERROR - 429 Client Error: Too Many Requests for url: https://nominatim.openstreetmap.org/search?q=Wayne+County%2C+Tennessee%2C+USA&format=jsonv2&addressdetails=1&limit=1\n",
      "Status code 429 from https://nominatim.openstreetmap.org/search: ERROR - 429 Client Error: Too Many Requests for url: https://nominatim.openstreetmap.org/search?q=Campbell+County%2C+Wyoming%2C+USA&format=jsonv2&addressdetails=1&limit=1\n",
      "Status code 429 from https://nominatim.openstreetmap.org/search: ERROR - 429 Client Error: Too Many Requests for url: https://nominatim.openstreetmap.org/search?q=Carbon+County%2C+Wyoming%2C+USA&format=jsonv2&addressdetails=1&limit=1\n",
      "Status code Unknown from https://nominatim.openstreetmap.org/search: ERROR - HTTPSConnectionPool(host='nominatim.openstreetmap.org', port=443): Max retries exceeded with url: /search?q=Barton+County%2C+Missouri%2C+USA&format=jsonv2&addressdetails=1&limit=1 (Caused by ConnectTimeoutError(<urllib3.connection.VerifiedHTTPSConnection object at 0x7f70847b5828>, 'Connection to nominatim.openstreetmap.org timed out. (connect timeout=5.0)'))\n",
      "Status code 429 from https://nominatim.openstreetmap.org/search: ERROR - 429 Client Error: Too Many Requests for url: https://nominatim.openstreetmap.org/search?q=Weakley+County%2C+Tennessee%2C+USA&format=jsonv2&addressdetails=1&limit=1\n",
      "Status code Unknown from https://nominatim.openstreetmap.org/search: ERROR - HTTPSConnectionPool(host='nominatim.openstreetmap.org', port=443): Max retries exceeded with url: /search?q=Breathitt+County%2C+Kentucky%2C+USA&format=jsonv2&addressdetails=1&limit=1 (Caused by ConnectTimeoutError(<urllib3.connection.VerifiedHTTPSConnection object at 0x7f7085267358>, 'Connection to nominatim.openstreetmap.org timed out. (connect timeout=5.0)'))\n"
     ]
    },
    {
     "name": "stderr",
     "output_type": "stream",
     "text": [
      "Status code 429 from https://nominatim.openstreetmap.org/search: ERROR - 429 Client Error: Too Many Requests for url: https://nominatim.openstreetmap.org/search?q=White+County%2C+Tennessee%2C+USA&format=jsonv2&addressdetails=1&limit=1\n",
      "Status code 429 from https://nominatim.openstreetmap.org/search: ERROR - 429 Client Error: Too Many Requests for url: https://nominatim.openstreetmap.org/search?q=Converse+County%2C+Wyoming%2C+USA&format=jsonv2&addressdetails=1&limit=1\n",
      "Status code 429 from https://nominatim.openstreetmap.org/search: ERROR - 429 Client Error: Too Many Requests for url: https://nominatim.openstreetmap.org/search?q=Breckinridge+County%2C+Kentucky%2C+USA&format=jsonv2&addressdetails=1&limit=1\n",
      "Status code 429 from https://nominatim.openstreetmap.org/search: ERROR - 429 Client Error: Too Many Requests for url: https://nominatim.openstreetmap.org/search?q=Crook+County%2C+Wyoming%2C+USA&format=jsonv2&addressdetails=1&limit=1\n",
      "Status code 429 from https://nominatim.openstreetmap.org/search: ERROR - 429 Client Error: Too Many Requests for url: https://nominatim.openstreetmap.org/search?q=Williamson+County%2C+Tennessee%2C+USA&format=jsonv2&addressdetails=1&limit=1\n",
      "Status code 429 from https://nominatim.openstreetmap.org/search: ERROR - 429 Client Error: Too Many Requests for url: https://nominatim.openstreetmap.org/search?q=Bullitt+County%2C+Kentucky%2C+USA&format=jsonv2&addressdetails=1&limit=1\n",
      "Status code Unknown from https://nominatim.openstreetmap.org/search: ERROR - HTTPSConnectionPool(host='nominatim.openstreetmap.org', port=443): Max retries exceeded with url: /search?q=Fayette+County%2C+Georgia%2C+USA&format=jsonv2&addressdetails=1&limit=1 (Caused by ConnectTimeoutError(<urllib3.connection.VerifiedHTTPSConnection object at 0x7f7084960048>, 'Connection to nominatim.openstreetmap.org timed out. (connect timeout=5.0)'))\n",
      "Status code 429 from https://nominatim.openstreetmap.org/search: ERROR - 429 Client Error: Too Many Requests for url: https://nominatim.openstreetmap.org/search?q=Fremont+County%2C+Wyoming%2C+USA&format=jsonv2&addressdetails=1&limit=1\n",
      "Status code 429 from https://nominatim.openstreetmap.org/search: ERROR - 429 Client Error: Too Many Requests for url: https://nominatim.openstreetmap.org/search?q=Wilson+County%2C+Tennessee%2C+USA&format=jsonv2&addressdetails=1&limit=1\n",
      "Status code 429 from https://nominatim.openstreetmap.org/search: ERROR - 429 Client Error: Too Many Requests for url: https://nominatim.openstreetmap.org/search?q=Goshen+County%2C+Wyoming%2C+USA&format=jsonv2&addressdetails=1&limit=1\n",
      "Status code 429 from https://nominatim.openstreetmap.org/search: ERROR - 429 Client Error: Too Many Requests for url: https://nominatim.openstreetmap.org/search?q=Anderson+County%2C+Texas%2C+USA&format=jsonv2&addressdetails=1&limit=1\n",
      "Status code 429 from https://nominatim.openstreetmap.org/search: ERROR - 429 Client Error: Too Many Requests for url: https://nominatim.openstreetmap.org/search?q=Andrews+County%2C+Texas%2C+USA&format=jsonv2&addressdetails=1&limit=1\n",
      "Status code 429 from https://nominatim.openstreetmap.org/search: ERROR - 429 Client Error: Too Many Requests for url: https://nominatim.openstreetmap.org/search?q=Hot+Springs+County%2C+Wyoming%2C+USA&format=jsonv2&addressdetails=1&limit=1\n",
      "Status code Unknown from https://nominatim.openstreetmap.org/search: ERROR - HTTPSConnectionPool(host='nominatim.openstreetmap.org', port=443): Max retries exceeded with url: /search?q=Person+County%2C+North+Carolina%2C+USA&format=jsonv2&addressdetails=1&limit=1 (Caused by ConnectTimeoutError(<urllib3.connection.VerifiedHTTPSConnection object at 0x7f708486e7b8>, 'Connection to nominatim.openstreetmap.org timed out. (connect timeout=5.0)'))\n",
      "Status code 429 from https://nominatim.openstreetmap.org/search: ERROR - 429 Client Error: Too Many Requests for url: https://nominatim.openstreetmap.org/search?q=Butler+County%2C+Kentucky%2C+USA&format=jsonv2&addressdetails=1&limit=1\n",
      "Status code 429 from https://nominatim.openstreetmap.org/search: ERROR - 429 Client Error: Too Many Requests for url: https://nominatim.openstreetmap.org/search?q=Angelina+County%2C+Texas%2C+USA&format=jsonv2&addressdetails=1&limit=1\n",
      "Status code 429 from https://nominatim.openstreetmap.org/search: ERROR - 429 Client Error: Too Many Requests for url: https://nominatim.openstreetmap.org/search?q=Pitt+County%2C+North+Carolina%2C+USA&format=jsonv2&addressdetails=1&limit=1\n",
      "Status code 429 from https://nominatim.openstreetmap.org/search: ERROR - 429 Client Error: Too Many Requests for url: https://nominatim.openstreetmap.org/search?q=Aransas+County%2C+Texas%2C+USA&format=jsonv2&addressdetails=1&limit=1\n",
      "Status code 429 from https://nominatim.openstreetmap.org/search: ERROR - 429 Client Error: Too Many Requests for url: https://nominatim.openstreetmap.org/search?q=Caldwell+County%2C+Kentucky%2C+USA&format=jsonv2&addressdetails=1&limit=1\n",
      "Status code 429 from https://nominatim.openstreetmap.org/search: ERROR - 429 Client Error: Too Many Requests for url: https://nominatim.openstreetmap.org/search?q=Polk+County%2C+North+Carolina%2C+USA&format=jsonv2&addressdetails=1&limit=1\n",
      "Status code 429 from https://nominatim.openstreetmap.org/search: ERROR - 429 Client Error: Too Many Requests for url: https://nominatim.openstreetmap.org/search?q=Archer+County%2C+Texas%2C+USA&format=jsonv2&addressdetails=1&limit=1\n",
      "Status code Unknown from https://nominatim.openstreetmap.org/search: ERROR - HTTPSConnectionPool(host='nominatim.openstreetmap.org', port=443): Max retries exceeded with url: /search?q=Bates+County%2C+Missouri%2C+USA&format=jsonv2&addressdetails=1&limit=1 (Caused by ConnectTimeoutError(<urllib3.connection.VerifiedHTTPSConnection object at 0x7f70847a6588>, 'Connection to nominatim.openstreetmap.org timed out. (connect timeout=5.0)'))\n",
      "Status code 429 from https://nominatim.openstreetmap.org/search: ERROR - 429 Client Error: Too Many Requests for url: https://nominatim.openstreetmap.org/search?q=Calloway+County%2C+Kentucky%2C+USA&format=jsonv2&addressdetails=1&limit=1\n",
      "Status code 429 from https://nominatim.openstreetmap.org/search: ERROR - 429 Client Error: Too Many Requests for url: https://nominatim.openstreetmap.org/search?q=Armstrong+County%2C+Texas%2C+USA&format=jsonv2&addressdetails=1&limit=1\n",
      "Status code 429 from https://nominatim.openstreetmap.org/search: ERROR - 429 Client Error: Too Many Requests for url: https://nominatim.openstreetmap.org/search?q=Atascosa+County%2C+Texas%2C+USA&format=jsonv2&addressdetails=1&limit=1\n",
      "Status code 429 from https://nominatim.openstreetmap.org/search: ERROR - 429 Client Error: Too Many Requests for url: https://nominatim.openstreetmap.org/search?q=Benton+County%2C+Missouri%2C+USA&format=jsonv2&addressdetails=1&limit=1\n",
      "Status code 429 from https://nominatim.openstreetmap.org/search: ERROR - 429 Client Error: Too Many Requests for url: https://nominatim.openstreetmap.org/search?q=Bollinger+County%2C+Missouri%2C+USA&format=jsonv2&addressdetails=1&limit=1\n",
      "Status code 429 from https://nominatim.openstreetmap.org/search: ERROR - 429 Client Error: Too Many Requests for url: https://nominatim.openstreetmap.org/search?q=Austin+County%2C+Texas%2C+USA&format=jsonv2&addressdetails=1&limit=1\n",
      "Status code 429 from https://nominatim.openstreetmap.org/search: ERROR - 429 Client Error: Too Many Requests for url: https://nominatim.openstreetmap.org/search?q=Bailey+County%2C+Texas%2C+USA&format=jsonv2&addressdetails=1&limit=1\n",
      "Status code Unknown from https://nominatim.openstreetmap.org/search: ERROR - HTTPSConnectionPool(host='nominatim.openstreetmap.org', port=443): Max retries exceeded with url: /search?q=Floyd+County%2C+Georgia%2C+USA&format=jsonv2&addressdetails=1&limit=1 (Caused by ConnectTimeoutError(<urllib3.connection.VerifiedHTTPSConnection object at 0x7f70847b6390>, 'Connection to nominatim.openstreetmap.org timed out. (connect timeout=5.0)'))\n",
      "Status code 429 from https://nominatim.openstreetmap.org/search: ERROR - 429 Client Error: Too Many Requests for url: https://nominatim.openstreetmap.org/search?q=Boone+County%2C+Missouri%2C+USA&format=jsonv2&addressdetails=1&limit=1\n",
      "Status code 429 from https://nominatim.openstreetmap.org/search: ERROR - 429 Client Error: Too Many Requests for url: https://nominatim.openstreetmap.org/search?q=Bandera+County%2C+Texas%2C+USA&format=jsonv2&addressdetails=1&limit=1\n"
     ]
    },
    {
     "name": "stderr",
     "output_type": "stream",
     "text": [
      "Status code 429 from https://nominatim.openstreetmap.org/search: ERROR - 429 Client Error: Too Many Requests for url: https://nominatim.openstreetmap.org/search?q=Forsyth+County%2C+Georgia%2C+USA&format=jsonv2&addressdetails=1&limit=1\n",
      "Status code 429 from https://nominatim.openstreetmap.org/search: ERROR - 429 Client Error: Too Many Requests for url: https://nominatim.openstreetmap.org/search?q=Franklin+County%2C+Georgia%2C+USA&format=jsonv2&addressdetails=1&limit=1\n",
      "Status code 429 from https://nominatim.openstreetmap.org/search: ERROR - 429 Client Error: Too Many Requests for url: https://nominatim.openstreetmap.org/search?q=Buchanan+County%2C+Missouri%2C+USA&format=jsonv2&addressdetails=1&limit=1\n",
      "Status code 429 from https://nominatim.openstreetmap.org/search: ERROR - 429 Client Error: Too Many Requests for url: https://nominatim.openstreetmap.org/search?q=Butler+County%2C+Missouri%2C+USA&format=jsonv2&addressdetails=1&limit=1\n",
      "Status code Unknown from https://nominatim.openstreetmap.org/search: ERROR - HTTPSConnectionPool(host='nominatim.openstreetmap.org', port=443): Max retries exceeded with url: /search?q=Johnson+County%2C+Wyoming%2C+USA&format=jsonv2&addressdetails=1&limit=1 (Caused by ConnectTimeoutError(<urllib3.connection.VerifiedHTTPSConnection object at 0x7f7085c7cfd0>, 'Connection to nominatim.openstreetmap.org timed out. (connect timeout=5.0)'))\n",
      "Status code 429 from https://nominatim.openstreetmap.org/search: ERROR - 429 Client Error: Too Many Requests for url: https://nominatim.openstreetmap.org/search?q=Laramie+County%2C+Wyoming%2C+USA&format=jsonv2&addressdetails=1&limit=1\n",
      "Status code 429 from https://nominatim.openstreetmap.org/search: ERROR - 429 Client Error: Too Many Requests for url: https://nominatim.openstreetmap.org/search?q=Lincoln+County%2C+Wyoming%2C+USA&format=jsonv2&addressdetails=1&limit=1\n",
      "Status code 429 from https://nominatim.openstreetmap.org/search: ERROR - 429 Client Error: Too Many Requests for url: https://nominatim.openstreetmap.org/search?q=Natrona+County%2C+Wyoming%2C+USA&format=jsonv2&addressdetails=1&limit=1\n",
      "Status code 429 from https://nominatim.openstreetmap.org/search: ERROR - 429 Client Error: Too Many Requests for url: https://nominatim.openstreetmap.org/search?q=Fulton+County%2C+Georgia%2C+USA&format=jsonv2&addressdetails=1&limit=1\n",
      "Status code 429 from https://nominatim.openstreetmap.org/search: ERROR - 429 Client Error: Too Many Requests for url: https://nominatim.openstreetmap.org/search?q=Niobrara+County%2C+Wyoming%2C+USA&format=jsonv2&addressdetails=1&limit=1\n",
      "Status code Unknown from https://nominatim.openstreetmap.org/search: ERROR - HTTPSConnectionPool(host='nominatim.openstreetmap.org', port=443): Max retries exceeded with url: /search?q=Randolph+County%2C+North+Carolina%2C+USA&format=jsonv2&addressdetails=1&limit=1 (Caused by ConnectTimeoutError(<urllib3.connection.VerifiedHTTPSConnection object at 0x7f70847b7908>, 'Connection to nominatim.openstreetmap.org timed out. (connect timeout=5.0)'))\n",
      "Status code 429 from https://nominatim.openstreetmap.org/search: ERROR - 429 Client Error: Too Many Requests for url: https://nominatim.openstreetmap.org/search?q=Gilmer+County%2C+Georgia%2C+USA&format=jsonv2&addressdetails=1&limit=1\n",
      "Status code Unknown from https://nominatim.openstreetmap.org/search: ERROR - HTTPSConnectionPool(host='nominatim.openstreetmap.org', port=443): Max retries exceeded with url: /search?q=Campbell+County%2C+Kentucky%2C+USA&format=jsonv2&addressdetails=1&limit=1 (Caused by ConnectTimeoutError(<urllib3.connection.VerifiedHTTPSConnection object at 0x7f70849e8fd0>, 'Connection to nominatim.openstreetmap.org timed out. (connect timeout=5.0)'))\n",
      "Status code 429 from https://nominatim.openstreetmap.org/search: ERROR - 429 Client Error: Too Many Requests for url: https://nominatim.openstreetmap.org/search?q=Glascock+County%2C+Georgia%2C+USA&format=jsonv2&addressdetails=1&limit=1\n",
      "Status code 429 from https://nominatim.openstreetmap.org/search: ERROR - 429 Client Error: Too Many Requests for url: https://nominatim.openstreetmap.org/search?q=Park+County%2C+Wyoming%2C+USA&format=jsonv2&addressdetails=1&limit=1\n",
      "Status code 429 from https://nominatim.openstreetmap.org/search: ERROR - 429 Client Error: Too Many Requests for url: https://nominatim.openstreetmap.org/search?q=Carlisle+County%2C+Kentucky%2C+USA&format=jsonv2&addressdetails=1&limit=1\n",
      "Status code 429 from https://nominatim.openstreetmap.org/search: ERROR - 429 Client Error: Too Many Requests for url: https://nominatim.openstreetmap.org/search?q=Carroll+County%2C+Kentucky%2C+USA&format=jsonv2&addressdetails=1&limit=1\n",
      "Status code 429 from https://nominatim.openstreetmap.org/search: ERROR - 429 Client Error: Too Many Requests for url: https://nominatim.openstreetmap.org/search?q=Glynn+County%2C+Georgia%2C+USA&format=jsonv2&addressdetails=1&limit=1\n",
      "Status code 429 from https://nominatim.openstreetmap.org/search: ERROR - 429 Client Error: Too Many Requests for url: https://nominatim.openstreetmap.org/search?q=Gordon+County%2C+Georgia%2C+USA&format=jsonv2&addressdetails=1&limit=1\n",
      "Status code 429 from https://nominatim.openstreetmap.org/search: ERROR - 429 Client Error: Too Many Requests for url: https://nominatim.openstreetmap.org/search?q=Carter+County%2C+Kentucky%2C+USA&format=jsonv2&addressdetails=1&limit=1\n",
      "Status code 429 from https://nominatim.openstreetmap.org/search: ERROR - 429 Client Error: Too Many Requests for url: https://nominatim.openstreetmap.org/search?q=Casey+County%2C+Kentucky%2C+USA&format=jsonv2&addressdetails=1&limit=1\n",
      "Status code Unknown from https://nominatim.openstreetmap.org/search: ERROR - HTTPSConnectionPool(host='nominatim.openstreetmap.org', port=443): Max retries exceeded with url: /search?q=Bastrop+County%2C+Texas%2C+USA&format=jsonv2&addressdetails=1&limit=1 (Caused by ConnectTimeoutError(<urllib3.connection.VerifiedHTTPSConnection object at 0x7f708486e860>, 'Connection to nominatim.openstreetmap.org timed out. (connect timeout=5.0)'))\n",
      "Status code 429 from https://nominatim.openstreetmap.org/search: ERROR - 429 Client Error: Too Many Requests for url: https://nominatim.openstreetmap.org/search?q=Christian+County%2C+Kentucky%2C+USA&format=jsonv2&addressdetails=1&limit=1\n",
      "Status code 429 from https://nominatim.openstreetmap.org/search: ERROR - 429 Client Error: Too Many Requests for url: https://nominatim.openstreetmap.org/search?q=Baylor+County%2C+Texas%2C+USA&format=jsonv2&addressdetails=1&limit=1\n",
      "Status code 429 from https://nominatim.openstreetmap.org/search: ERROR - 429 Client Error: Too Many Requests for url: https://nominatim.openstreetmap.org/search?q=Bee+County%2C+Texas%2C+USA&format=jsonv2&addressdetails=1&limit=1\n",
      "Status code Unknown from https://nominatim.openstreetmap.org/search: ERROR - HTTPSConnectionPool(host='nominatim.openstreetmap.org', port=443): Max retries exceeded with url: /search?q=Caldwell+County%2C+Missouri%2C+USA&format=jsonv2&addressdetails=1&limit=1 (Caused by ConnectTimeoutError(<urllib3.connection.VerifiedHTTPSConnection object at 0x7f70847a6cf8>, 'Connection to nominatim.openstreetmap.org timed out. (connect timeout=5.0)'))\n",
      "Status code 429 from https://nominatim.openstreetmap.org/search: ERROR - 429 Client Error: Too Many Requests for url: https://nominatim.openstreetmap.org/search?q=Bell+County%2C+Texas%2C+USA&format=jsonv2&addressdetails=1&limit=1\n",
      "Status code 429 from https://nominatim.openstreetmap.org/search: ERROR - 429 Client Error: Too Many Requests for url: https://nominatim.openstreetmap.org/search?q=Callaway+County%2C+Missouri%2C+USA&format=jsonv2&addressdetails=1&limit=1\n",
      "Status code 429 from https://nominatim.openstreetmap.org/search: ERROR - 429 Client Error: Too Many Requests for url: https://nominatim.openstreetmap.org/search?q=Camden+County%2C+Missouri%2C+USA&format=jsonv2&addressdetails=1&limit=1\n",
      "Status code 429 from https://nominatim.openstreetmap.org/search: ERROR - 429 Client Error: Too Many Requests for url: https://nominatim.openstreetmap.org/search?q=Bexar+County%2C+Texas%2C+USA&format=jsonv2&addressdetails=1&limit=1\n",
      "Status code 429 from https://nominatim.openstreetmap.org/search: ERROR - 429 Client Error: Too Many Requests for url: https://nominatim.openstreetmap.org/search?q=Blanco+County%2C+Texas%2C+USA&format=jsonv2&addressdetails=1&limit=1\n"
     ]
    },
    {
     "name": "stderr",
     "output_type": "stream",
     "text": [
      "Status code Unknown from https://nominatim.openstreetmap.org/search: ERROR - HTTPSConnectionPool(host='nominatim.openstreetmap.org', port=443): Max retries exceeded with url: /search?q=Richmond+County%2C+North+Carolina%2C+USA&format=jsonv2&addressdetails=1&limit=1 (Caused by ConnectTimeoutError(<urllib3.connection.VerifiedHTTPSConnection object at 0x7f708479e2b0>, 'Connection to nominatim.openstreetmap.org timed out. (connect timeout=5.0)'))\n",
      "Status code 429 from https://nominatim.openstreetmap.org/search: ERROR - 429 Client Error: Too Many Requests for url: https://nominatim.openstreetmap.org/search?q=Cape+Girardeau+County%2C+Missouri%2C+USA&format=jsonv2&addressdetails=1&limit=1\n",
      "Status code 429 from https://nominatim.openstreetmap.org/search: ERROR - 429 Client Error: Too Many Requests for url: https://nominatim.openstreetmap.org/search?q=Robeson+County%2C+North+Carolina%2C+USA&format=jsonv2&addressdetails=1&limit=1\n",
      "Status code 429 from https://nominatim.openstreetmap.org/search: ERROR - 429 Client Error: Too Many Requests for url: https://nominatim.openstreetmap.org/search?q=Rockingham+County%2C+North+Carolina%2C+USA&format=jsonv2&addressdetails=1&limit=1\n",
      "Status code Unknown from https://nominatim.openstreetmap.org/search: ERROR - HTTPSConnectionPool(host='nominatim.openstreetmap.org', port=443): Max retries exceeded with url: /search?q=Platte+County%2C+Wyoming%2C+USA&format=jsonv2&addressdetails=1&limit=1 (Caused by ConnectTimeoutError(<urllib3.connection.VerifiedHTTPSConnection object at 0x7f7085edfc18>, 'Connection to nominatim.openstreetmap.org timed out. (connect timeout=5.0)'))\n",
      "Status code 429 from https://nominatim.openstreetmap.org/search: ERROR - 429 Client Error: Too Many Requests for url: https://nominatim.openstreetmap.org/search?q=Carroll+County%2C+Missouri%2C+USA&format=jsonv2&addressdetails=1&limit=1\n",
      "Status code 429 from https://nominatim.openstreetmap.org/search: ERROR - 429 Client Error: Too Many Requests for url: https://nominatim.openstreetmap.org/search?q=Sheridan+County%2C+Wyoming%2C+USA&format=jsonv2&addressdetails=1&limit=1\n",
      "Status code 429 from https://nominatim.openstreetmap.org/search: ERROR - 429 Client Error: Too Many Requests for url: https://nominatim.openstreetmap.org/search?q=Sublette+County%2C+Wyoming%2C+USA&format=jsonv2&addressdetails=1&limit=1\n",
      "Status code Unknown from https://nominatim.openstreetmap.org/search: ERROR - HTTPSConnectionPool(host='nominatim.openstreetmap.org', port=443): Max retries exceeded with url: /search?q=Grady+County%2C+Georgia%2C+USA&format=jsonv2&addressdetails=1&limit=1 (Caused by ConnectTimeoutError(<urllib3.connection.VerifiedHTTPSConnection object at 0x7f7085c7cf28>, 'Connection to nominatim.openstreetmap.org timed out. (connect timeout=5.0)'))\n",
      "Status code 429 from https://nominatim.openstreetmap.org/search: ERROR - 429 Client Error: Too Many Requests for url: https://nominatim.openstreetmap.org/search?q=Carter+County%2C+Missouri%2C+USA&format=jsonv2&addressdetails=1&limit=1\n",
      "Status code 429 from https://nominatim.openstreetmap.org/search: ERROR - 429 Client Error: Too Many Requests for url: https://nominatim.openstreetmap.org/search?q=Cass+County%2C+Missouri%2C+USA&format=jsonv2&addressdetails=1&limit=1\n",
      "Status code 429 from https://nominatim.openstreetmap.org/search: ERROR - 429 Client Error: Too Many Requests for url: https://nominatim.openstreetmap.org/search?q=Greene+County%2C+Georgia%2C+USA&format=jsonv2&addressdetails=1&limit=1\n",
      "Status code 429 from https://nominatim.openstreetmap.org/search: ERROR - 429 Client Error: Too Many Requests for url: https://nominatim.openstreetmap.org/search?q=Cedar+County%2C+Missouri%2C+USA&format=jsonv2&addressdetails=1&limit=1\n",
      "Status code Unknown from https://nominatim.openstreetmap.org/search: ERROR - HTTPSConnectionPool(host='nominatim.openstreetmap.org', port=443): Max retries exceeded with url: /search?q=Clark+County%2C+Kentucky%2C+USA&format=jsonv2&addressdetails=1&limit=1 (Caused by ConnectTimeoutError(<urllib3.connection.VerifiedHTTPSConnection object at 0x7f708486e940>, 'Connection to nominatim.openstreetmap.org timed out. (connect timeout=5.0)'))\n",
      "Status code 429 from https://nominatim.openstreetmap.org/search: ERROR - 429 Client Error: Too Many Requests for url: https://nominatim.openstreetmap.org/search?q=Chariton+County%2C+Missouri%2C+USA&format=jsonv2&addressdetails=1&limit=1\n",
      "Status code 429 from https://nominatim.openstreetmap.org/search: ERROR - 429 Client Error: Too Many Requests for url: https://nominatim.openstreetmap.org/search?q=Gwinnett+County%2C+Georgia%2C+USA&format=jsonv2&addressdetails=1&limit=1\n",
      "Status code 429 from https://nominatim.openstreetmap.org/search: ERROR - 429 Client Error: Too Many Requests for url: https://nominatim.openstreetmap.org/search?q=Christian+County%2C+Missouri%2C+USA&format=jsonv2&addressdetails=1&limit=1\n",
      "Status code 429 from https://nominatim.openstreetmap.org/search: ERROR - 429 Client Error: Too Many Requests for url: https://nominatim.openstreetmap.org/search?q=Clark+County%2C+Missouri%2C+USA&format=jsonv2&addressdetails=1&limit=1\n",
      "Status code 429 from https://nominatim.openstreetmap.org/search: ERROR - 429 Client Error: Too Many Requests for url: https://nominatim.openstreetmap.org/search?q=Habersham+County%2C+Georgia%2C+USA&format=jsonv2&addressdetails=1&limit=1\n",
      "Status code 429 from https://nominatim.openstreetmap.org/search: ERROR - 429 Client Error: Too Many Requests for url: https://nominatim.openstreetmap.org/search?q=Hall+County%2C+Georgia%2C+USA&format=jsonv2&addressdetails=1&limit=1\n",
      "Status code 429 from https://nominatim.openstreetmap.org/search: ERROR - 429 Client Error: Too Many Requests for url: https://nominatim.openstreetmap.org/search?q=Clay+County%2C+Missouri%2C+USA&format=jsonv2&addressdetails=1&limit=1\n",
      "Status code 429 from https://nominatim.openstreetmap.org/search: ERROR - 429 Client Error: Too Many Requests for url: https://nominatim.openstreetmap.org/search?q=Hancock+County%2C+Georgia%2C+USA&format=jsonv2&addressdetails=1&limit=1\n",
      "Status code 429 from https://nominatim.openstreetmap.org/search: ERROR - 429 Client Error: Too Many Requests for url: https://nominatim.openstreetmap.org/search?q=Clinton+County%2C+Missouri%2C+USA&format=jsonv2&addressdetails=1&limit=1\n",
      "Status code Unknown from https://nominatim.openstreetmap.org/search: ERROR - HTTPSConnectionPool(host='nominatim.openstreetmap.org', port=443): Max retries exceeded with url: /search?q=Borden+County%2C+Texas%2C+USA&format=jsonv2&addressdetails=1&limit=1 (Caused by ConnectTimeoutError(<urllib3.connection.VerifiedHTTPSConnection object at 0x7f70849e8e10>, 'Connection to nominatim.openstreetmap.org timed out. (connect timeout=5.0)'))\n",
      "Status code 429 from https://nominatim.openstreetmap.org/search: ERROR - 429 Client Error: Too Many Requests for url: https://nominatim.openstreetmap.org/search?q=Cole+County%2C+Missouri%2C+USA&format=jsonv2&addressdetails=1&limit=1\n",
      "Status code 429 from https://nominatim.openstreetmap.org/search: ERROR - 429 Client Error: Too Many Requests for url: https://nominatim.openstreetmap.org/search?q=Bosque+County%2C+Texas%2C+USA&format=jsonv2&addressdetails=1&limit=1\n",
      "Status code 429 from https://nominatim.openstreetmap.org/search: ERROR - 429 Client Error: Too Many Requests for url: https://nominatim.openstreetmap.org/search?q=Cooper+County%2C+Missouri%2C+USA&format=jsonv2&addressdetails=1&limit=1\n",
      "Status code 429 from https://nominatim.openstreetmap.org/search: ERROR - 429 Client Error: Too Many Requests for url: https://nominatim.openstreetmap.org/search?q=Crawford+County%2C+Missouri%2C+USA&format=jsonv2&addressdetails=1&limit=1\n",
      "Status code Unknown from https://nominatim.openstreetmap.org/search: ERROR - HTTPSConnectionPool(host='nominatim.openstreetmap.org', port=443): Max retries exceeded with url: /search?q=Rowan+County%2C+North+Carolina%2C+USA&format=jsonv2&addressdetails=1&limit=1 (Caused by ConnectTimeoutError(<urllib3.connection.VerifiedHTTPSConnection object at 0x7f708486e630>, 'Connection to nominatim.openstreetmap.org timed out. (connect timeout=5.0)'))\n",
      "Status code 429 from https://nominatim.openstreetmap.org/search: ERROR - 429 Client Error: Too Many Requests for url: https://nominatim.openstreetmap.org/search?q=Bowie+County%2C+Texas%2C+USA&format=jsonv2&addressdetails=1&limit=1\n"
     ]
    },
    {
     "name": "stderr",
     "output_type": "stream",
     "text": [
      "Status code 429 from https://nominatim.openstreetmap.org/search: ERROR - 429 Client Error: Too Many Requests for url: https://nominatim.openstreetmap.org/search?q=Brazoria+County%2C+Texas%2C+USA&format=jsonv2&addressdetails=1&limit=1\n",
      "Status code Unknown from https://nominatim.openstreetmap.org/search: ERROR - HTTPSConnectionPool(host='nominatim.openstreetmap.org', port=443): Max retries exceeded with url: /search?q=Sweetwater+County%2C+Wyoming%2C+USA&format=jsonv2&addressdetails=1&limit=1 (Caused by ConnectTimeoutError(<urllib3.connection.VerifiedHTTPSConnection object at 0x7f7084905cf8>, 'Connection to nominatim.openstreetmap.org timed out. (connect timeout=5.0)'))\n",
      "Status code 429 from https://nominatim.openstreetmap.org/search: ERROR - 429 Client Error: Too Many Requests for url: https://nominatim.openstreetmap.org/search?q=Dade+County%2C+Missouri%2C+USA&format=jsonv2&addressdetails=1&limit=1\n",
      "Status code 429 from https://nominatim.openstreetmap.org/search: ERROR - 429 Client Error: Too Many Requests for url: https://nominatim.openstreetmap.org/search?q=Brazos+County%2C+Texas%2C+USA&format=jsonv2&addressdetails=1&limit=1\n",
      "Status code 429 from https://nominatim.openstreetmap.org/search: ERROR - 429 Client Error: Too Many Requests for url: https://nominatim.openstreetmap.org/search?q=Teton+County%2C+Wyoming%2C+USA&format=jsonv2&addressdetails=1&limit=1\n",
      "Status code 429 from https://nominatim.openstreetmap.org/search: ERROR - 429 Client Error: Too Many Requests for url: https://nominatim.openstreetmap.org/search?q=Uinta+County%2C+Wyoming%2C+USA&format=jsonv2&addressdetails=1&limit=1\n",
      "Status code 429 from https://nominatim.openstreetmap.org/search: ERROR - 429 Client Error: Too Many Requests for url: https://nominatim.openstreetmap.org/search?q=Dallas+County%2C+Missouri%2C+USA&format=jsonv2&addressdetails=1&limit=1\n",
      "Status code Unknown from https://nominatim.openstreetmap.org/search: ERROR - HTTPSConnectionPool(host='nominatim.openstreetmap.org', port=443): Max retries exceeded with url: /search?q=Clay+County%2C+Kentucky%2C+USA&format=jsonv2&addressdetails=1&limit=1 (Caused by ConnectTimeoutError(<urllib3.connection.VerifiedHTTPSConnection object at 0x7f708479e9b0>, 'Connection to nominatim.openstreetmap.org timed out. (connect timeout=5.0)'))\n",
      "Status code 429 from https://nominatim.openstreetmap.org/search: ERROR - 429 Client Error: Too Many Requests for url: https://nominatim.openstreetmap.org/search?q=Daviess+County%2C+Missouri%2C+USA&format=jsonv2&addressdetails=1&limit=1\n",
      "Status code 429 from https://nominatim.openstreetmap.org/search: ERROR - 429 Client Error: Too Many Requests for url: https://nominatim.openstreetmap.org/search?q=Washakie+County%2C+Wyoming%2C+USA&format=jsonv2&addressdetails=1&limit=1\n",
      "Status code 429 from https://nominatim.openstreetmap.org/search: ERROR - 429 Client Error: Too Many Requests for url: https://nominatim.openstreetmap.org/search?q=Clinton+County%2C+Kentucky%2C+USA&format=jsonv2&addressdetails=1&limit=1\n",
      "Status code 429 from https://nominatim.openstreetmap.org/search: ERROR - 429 Client Error: Too Many Requests for url: https://nominatim.openstreetmap.org/search?q=Weston+County%2C+Wyoming%2C+USA&format=jsonv2&addressdetails=1&limit=1\n",
      "Status code 429 from https://nominatim.openstreetmap.org/search: ERROR - 429 Client Error: Too Many Requests for url: https://nominatim.openstreetmap.org/search?q=DeKalb+County%2C+Missouri%2C+USA&format=jsonv2&addressdetails=1&limit=1\n",
      "Status code 429 from https://nominatim.openstreetmap.org/search: ERROR - 429 Client Error: Too Many Requests for url: https://nominatim.openstreetmap.org/search?q=Crittenden+County%2C+Kentucky%2C+USA&format=jsonv2&addressdetails=1&limit=1\n",
      "Status code 429 from https://nominatim.openstreetmap.org/search: ERROR - 429 Client Error: Too Many Requests for url: https://nominatim.openstreetmap.org/search?q=Dent+County%2C+Missouri%2C+USA&format=jsonv2&addressdetails=1&limit=1\n",
      "Status code Unknown from https://nominatim.openstreetmap.org/search: ERROR - HTTPSConnectionPool(host='nominatim.openstreetmap.org', port=443): Max retries exceeded with url: /search?q=Haralson+County%2C+Georgia%2C+USA&format=jsonv2&addressdetails=1&limit=1 (Caused by ConnectTimeoutError(<urllib3.connection.VerifiedHTTPSConnection object at 0x7f708486e630>, 'Connection to nominatim.openstreetmap.org timed out. (connect timeout=5.0)'))\n",
      "Status code 429 from https://nominatim.openstreetmap.org/search: ERROR - 429 Client Error: Too Many Requests for url: https://nominatim.openstreetmap.org/search?q=Cumberland+County%2C+Kentucky%2C+USA&format=jsonv2&addressdetails=1&limit=1\n",
      "Status code 429 from https://nominatim.openstreetmap.org/search: ERROR - 429 Client Error: Too Many Requests for url: https://nominatim.openstreetmap.org/search?q=Harris+County%2C+Georgia%2C+USA&format=jsonv2&addressdetails=1&limit=1\n",
      "Status code 429 from https://nominatim.openstreetmap.org/search: ERROR - 429 Client Error: Too Many Requests for url: https://nominatim.openstreetmap.org/search?q=Daviess+County%2C+Kentucky%2C+USA&format=jsonv2&addressdetails=1&limit=1\n",
      "Status code 429 from https://nominatim.openstreetmap.org/search: ERROR - 429 Client Error: Too Many Requests for url: https://nominatim.openstreetmap.org/search?q=Edmonson+County%2C+Kentucky%2C+USA&format=jsonv2&addressdetails=1&limit=1\n",
      "Status code 429 from https://nominatim.openstreetmap.org/search: ERROR - 429 Client Error: Too Many Requests for url: https://nominatim.openstreetmap.org/search?q=Hart+County%2C+Georgia%2C+USA&format=jsonv2&addressdetails=1&limit=1\n",
      "Status code Unknown from https://nominatim.openstreetmap.org/search: ERROR - HTTPSConnectionPool(host='nominatim.openstreetmap.org', port=443): Max retries exceeded with url: /search?q=Rutherford+County%2C+North+Carolina%2C+USA&format=jsonv2&addressdetails=1&limit=1 (Caused by ConnectTimeoutError(<urllib3.connection.VerifiedHTTPSConnection object at 0x7f7084905cf8>, 'Connection to nominatim.openstreetmap.org timed out. (connect timeout=5.0)'))\n",
      "Status code 429 from https://nominatim.openstreetmap.org/search: ERROR - 429 Client Error: Too Many Requests for url: https://nominatim.openstreetmap.org/search?q=Elliott+County%2C+Kentucky%2C+USA&format=jsonv2&addressdetails=1&limit=1\n",
      "Status code 429 from https://nominatim.openstreetmap.org/search: ERROR - 429 Client Error: Too Many Requests for url: https://nominatim.openstreetmap.org/search?q=Sampson+County%2C+North+Carolina%2C+USA&format=jsonv2&addressdetails=1&limit=1\n",
      "Status code 429 from https://nominatim.openstreetmap.org/search: ERROR - 429 Client Error: Too Many Requests for url: https://nominatim.openstreetmap.org/search?q=Scotland+County%2C+North+Carolina%2C+USA&format=jsonv2&addressdetails=1&limit=1\n",
      "Status code 429 from https://nominatim.openstreetmap.org/search: ERROR - 429 Client Error: Too Many Requests for url: https://nominatim.openstreetmap.org/search?q=Estill+County%2C+Kentucky%2C+USA&format=jsonv2&addressdetails=1&limit=1\n",
      "Status code Unknown from https://nominatim.openstreetmap.org/search: ERROR - HTTPSConnectionPool(host='nominatim.openstreetmap.org', port=443): Max retries exceeded with url: /search?q=Brewster+County%2C+Texas%2C+USA&format=jsonv2&addressdetails=1&limit=1 (Caused by ConnectTimeoutError(<urllib3.connection.VerifiedHTTPSConnection object at 0x7f70847aa198>, 'Connection to nominatim.openstreetmap.org timed out. (connect timeout=5.0)'))\n",
      "Status code 429 from https://nominatim.openstreetmap.org/search: ERROR - 429 Client Error: Too Many Requests for url: https://nominatim.openstreetmap.org/search?q=Fayette+County%2C+Kentucky%2C+USA&format=jsonv2&addressdetails=1&limit=1\n",
      "Status code 429 from https://nominatim.openstreetmap.org/search: ERROR - 429 Client Error: Too Many Requests for url: https://nominatim.openstreetmap.org/search?q=Stanly+County%2C+North+Carolina%2C+USA&format=jsonv2&addressdetails=1&limit=1\n",
      "Status code 429 from https://nominatim.openstreetmap.org/search: ERROR - 429 Client Error: Too Many Requests for url: https://nominatim.openstreetmap.org/search?q=Fleming+County%2C+Kentucky%2C+USA&format=jsonv2&addressdetails=1&limit=1\n",
      "Status code 429 from https://nominatim.openstreetmap.org/search: ERROR - 429 Client Error: Too Many Requests for url: https://nominatim.openstreetmap.org/search?q=Stokes+County%2C+North+Carolina%2C+USA&format=jsonv2&addressdetails=1&limit=1\n"
     ]
    },
    {
     "name": "stderr",
     "output_type": "stream",
     "text": [
      "Status code 429 from https://nominatim.openstreetmap.org/search: ERROR - 429 Client Error: Too Many Requests for url: https://nominatim.openstreetmap.org/search?q=Surry+County%2C+North+Carolina%2C+USA&format=jsonv2&addressdetails=1&limit=1\n",
      "Status code 429 from https://nominatim.openstreetmap.org/search: ERROR - 429 Client Error: Too Many Requests for url: https://nominatim.openstreetmap.org/search?q=Floyd+County%2C+Kentucky%2C+USA&format=jsonv2&addressdetails=1&limit=1\n",
      "Status code 429 from https://nominatim.openstreetmap.org/search: ERROR - 429 Client Error: Too Many Requests for url: https://nominatim.openstreetmap.org/search?q=Swain+County%2C+North+Carolina%2C+USA&format=jsonv2&addressdetails=1&limit=1\n",
      "Status code 429 from https://nominatim.openstreetmap.org/search: ERROR - 429 Client Error: Too Many Requests for url: https://nominatim.openstreetmap.org/search?q=Franklin+County%2C+Kentucky%2C+USA&format=jsonv2&addressdetails=1&limit=1\n",
      "Status code 429 from https://nominatim.openstreetmap.org/search: ERROR - 429 Client Error: Too Many Requests for url: https://nominatim.openstreetmap.org/search?q=Fulton+County%2C+Kentucky%2C+USA&format=jsonv2&addressdetails=1&limit=1\n",
      "Status code 429 from https://nominatim.openstreetmap.org/search: ERROR - 429 Client Error: Too Many Requests for url: https://nominatim.openstreetmap.org/search?q=Transylvania+County%2C+North+Carolina%2C+USA&format=jsonv2&addressdetails=1&limit=1\n",
      "Status code Unknown from https://nominatim.openstreetmap.org/search: ERROR - HTTPSConnectionPool(host='nominatim.openstreetmap.org', port=443): Max retries exceeded with url: /search?q=Douglas+County%2C+Missouri%2C+USA&format=jsonv2&addressdetails=1&limit=1 (Caused by ConnectTimeoutError(<urllib3.connection.VerifiedHTTPSConnection object at 0x7f70849e8940>, 'Connection to nominatim.openstreetmap.org timed out. (connect timeout=5.0)'))\n",
      "Status code 429 from https://nominatim.openstreetmap.org/search: ERROR - 429 Client Error: Too Many Requests for url: https://nominatim.openstreetmap.org/search?q=Tyrrell+County%2C+North+Carolina%2C+USA&format=jsonv2&addressdetails=1&limit=1\n",
      "Status code 429 from https://nominatim.openstreetmap.org/search: ERROR - 429 Client Error: Too Many Requests for url: https://nominatim.openstreetmap.org/search?q=Gallatin+County%2C+Kentucky%2C+USA&format=jsonv2&addressdetails=1&limit=1\n",
      "Status code 429 from https://nominatim.openstreetmap.org/search: ERROR - 429 Client Error: Too Many Requests for url: https://nominatim.openstreetmap.org/search?q=Dunklin+County%2C+Missouri%2C+USA&format=jsonv2&addressdetails=1&limit=1\n",
      "Status code 429 from https://nominatim.openstreetmap.org/search: ERROR - 429 Client Error: Too Many Requests for url: https://nominatim.openstreetmap.org/search?q=Garrard+County%2C+Kentucky%2C+USA&format=jsonv2&addressdetails=1&limit=1\n",
      "Status code 429 from https://nominatim.openstreetmap.org/search: ERROR - 429 Client Error: Too Many Requests for url: https://nominatim.openstreetmap.org/search?q=Union+County%2C+North+Carolina%2C+USA&format=jsonv2&addressdetails=1&limit=1\n",
      "Status code 429 from https://nominatim.openstreetmap.org/search: ERROR - 429 Client Error: Too Many Requests for url: https://nominatim.openstreetmap.org/search?q=Franklin+County%2C+Missouri%2C+USA&format=jsonv2&addressdetails=1&limit=1\n",
      "Status code Unknown from https://nominatim.openstreetmap.org/search: ERROR - HTTPSConnectionPool(host='nominatim.openstreetmap.org', port=443): Max retries exceeded with url: /search?q=Heard+County%2C+Georgia%2C+USA&format=jsonv2&addressdetails=1&limit=1 (Caused by ConnectTimeoutError(<urllib3.connection.VerifiedHTTPSConnection object at 0x7f70849e8d68>, 'Connection to nominatim.openstreetmap.org timed out. (connect timeout=5.0)'))\n",
      "Status code 429 from https://nominatim.openstreetmap.org/search: ERROR - 429 Client Error: Too Many Requests for url: https://nominatim.openstreetmap.org/search?q=Grant+County%2C+Kentucky%2C+USA&format=jsonv2&addressdetails=1&limit=1\n",
      "Status code 429 from https://nominatim.openstreetmap.org/search: ERROR - 429 Client Error: Too Many Requests for url: https://nominatim.openstreetmap.org/search?q=Vance+County%2C+North+Carolina%2C+USA&format=jsonv2&addressdetails=1&limit=1\n",
      "Status code 429 from https://nominatim.openstreetmap.org/search: ERROR - 429 Client Error: Too Many Requests for url: https://nominatim.openstreetmap.org/search?q=Graves+County%2C+Kentucky%2C+USA&format=jsonv2&addressdetails=1&limit=1\n",
      "Status code 429 from https://nominatim.openstreetmap.org/search: ERROR - 429 Client Error: Too Many Requests for url: https://nominatim.openstreetmap.org/search?q=Wake+County%2C+North+Carolina%2C+USA&format=jsonv2&addressdetails=1&limit=1\n",
      "Status code Unknown from https://nominatim.openstreetmap.org/search: ERROR - HTTPSConnectionPool(host='nominatim.openstreetmap.org', port=443): Max retries exceeded with url: /search?q=Briscoe+County%2C+Texas%2C+USA&format=jsonv2&addressdetails=1&limit=1 (Caused by ConnectTimeoutError(<urllib3.connection.VerifiedHTTPSConnection object at 0x7f708486eac8>, 'Connection to nominatim.openstreetmap.org timed out. (connect timeout=5.0)'))\n",
      "Status code 429 from https://nominatim.openstreetmap.org/search: ERROR - 429 Client Error: Too Many Requests for url: https://nominatim.openstreetmap.org/search?q=Warren+County%2C+North+Carolina%2C+USA&format=jsonv2&addressdetails=1&limit=1\n",
      "Status code 429 from https://nominatim.openstreetmap.org/search: ERROR - 429 Client Error: Too Many Requests for url: https://nominatim.openstreetmap.org/search?q=Brooks+County%2C+Texas%2C+USA&format=jsonv2&addressdetails=1&limit=1\n",
      "Status code 429 from https://nominatim.openstreetmap.org/search: ERROR - 429 Client Error: Too Many Requests for url: https://nominatim.openstreetmap.org/search?q=Brown+County%2C+Texas%2C+USA&format=jsonv2&addressdetails=1&limit=1\n",
      "Status code 429 from https://nominatim.openstreetmap.org/search: ERROR - 429 Client Error: Too Many Requests for url: https://nominatim.openstreetmap.org/search?q=Burleson+County%2C+Texas%2C+USA&format=jsonv2&addressdetails=1&limit=1\n",
      "Status code 429 from https://nominatim.openstreetmap.org/search: ERROR - 429 Client Error: Too Many Requests for url: https://nominatim.openstreetmap.org/search?q=Burnet+County%2C+Texas%2C+USA&format=jsonv2&addressdetails=1&limit=1\n",
      "Status code 429 from https://nominatim.openstreetmap.org/search: ERROR - 429 Client Error: Too Many Requests for url: https://nominatim.openstreetmap.org/search?q=Grayson+County%2C+Kentucky%2C+USA&format=jsonv2&addressdetails=1&limit=1\n",
      "Status code 429 from https://nominatim.openstreetmap.org/search: ERROR - 429 Client Error: Too Many Requests for url: https://nominatim.openstreetmap.org/search?q=Caldwell+County%2C+Texas%2C+USA&format=jsonv2&addressdetails=1&limit=1\n",
      "Status code 429 from https://nominatim.openstreetmap.org/search: ERROR - 429 Client Error: Too Many Requests for url: https://nominatim.openstreetmap.org/search?q=Washington+County%2C+North+Carolina%2C+USA&format=jsonv2&addressdetails=1&limit=1\n",
      "Status code 429 from https://nominatim.openstreetmap.org/search: ERROR - 429 Client Error: Too Many Requests for url: https://nominatim.openstreetmap.org/search?q=Green+County%2C+Kentucky%2C+USA&format=jsonv2&addressdetails=1&limit=1\n",
      "Status code 429 from https://nominatim.openstreetmap.org/search: ERROR - 429 Client Error: Too Many Requests for url: https://nominatim.openstreetmap.org/search?q=Watauga+County%2C+North+Carolina%2C+USA&format=jsonv2&addressdetails=1&limit=1\n",
      "Status code 429 from https://nominatim.openstreetmap.org/search: ERROR - 429 Client Error: Too Many Requests for url: https://nominatim.openstreetmap.org/search?q=Greenup+County%2C+Kentucky%2C+USA&format=jsonv2&addressdetails=1&limit=1\n",
      "Status code 429 from https://nominatim.openstreetmap.org/search: ERROR - 429 Client Error: Too Many Requests for url: https://nominatim.openstreetmap.org/search?q=Hancock+County%2C+Kentucky%2C+USA&format=jsonv2&addressdetails=1&limit=1\n",
      "Status code 429 from https://nominatim.openstreetmap.org/search: ERROR - 429 Client Error: Too Many Requests for url: https://nominatim.openstreetmap.org/search?q=Wayne+County%2C+North+Carolina%2C+USA&format=jsonv2&addressdetails=1&limit=1\n"
     ]
    },
    {
     "name": "stderr",
     "output_type": "stream",
     "text": [
      "Status code 429 from https://nominatim.openstreetmap.org/search: ERROR - 429 Client Error: Too Many Requests for url: https://nominatim.openstreetmap.org/search?q=Calhoun+County%2C+Texas%2C+USA&format=jsonv2&addressdetails=1&limit=1\n",
      "Status code 429 from https://nominatim.openstreetmap.org/search: ERROR - 429 Client Error: Too Many Requests for url: https://nominatim.openstreetmap.org/search?q=Wilkes+County%2C+North+Carolina%2C+USA&format=jsonv2&addressdetails=1&limit=1\n",
      "Status code 429 from https://nominatim.openstreetmap.org/search: ERROR - 429 Client Error: Too Many Requests for url: https://nominatim.openstreetmap.org/search?q=Callahan+County%2C+Texas%2C+USA&format=jsonv2&addressdetails=1&limit=1\n",
      "Status code Unknown from https://nominatim.openstreetmap.org/search: ERROR - HTTPSConnectionPool(host='nominatim.openstreetmap.org', port=443): Max retries exceeded with url: /search?q=Gasconade+County%2C+Missouri%2C+USA&format=jsonv2&addressdetails=1&limit=1 (Caused by ConnectTimeoutError(<urllib3.connection.VerifiedHTTPSConnection object at 0x7f70847a6ef0>, 'Connection to nominatim.openstreetmap.org timed out. (connect timeout=5.0)'))\n",
      "Status code Unknown from https://nominatim.openstreetmap.org/search: ERROR - HTTPSConnectionPool(host='nominatim.openstreetmap.org', port=443): Max retries exceeded with url: /search?q=Henry+County%2C+Georgia%2C+USA&format=jsonv2&addressdetails=1&limit=1 (Caused by ConnectTimeoutError(<urllib3.connection.VerifiedHTTPSConnection object at 0x7f708486e9b0>, 'Connection to nominatim.openstreetmap.org timed out. (connect timeout=5.0)'))\n",
      "Status code 429 from https://nominatim.openstreetmap.org/search: ERROR - 429 Client Error: Too Many Requests for url: https://nominatim.openstreetmap.org/search?q=Cameron+County%2C+Texas%2C+USA&format=jsonv2&addressdetails=1&limit=1\n",
      "Status code 429 from https://nominatim.openstreetmap.org/search: ERROR - 429 Client Error: Too Many Requests for url: https://nominatim.openstreetmap.org/search?q=Houston+County%2C+Georgia%2C+USA&format=jsonv2&addressdetails=1&limit=1\n",
      "Status code 429 from https://nominatim.openstreetmap.org/search: ERROR - 429 Client Error: Too Many Requests for url: https://nominatim.openstreetmap.org/search?q=Camp+County%2C+Texas%2C+USA&format=jsonv2&addressdetails=1&limit=1\n",
      "Status code 429 from https://nominatim.openstreetmap.org/search: ERROR - 429 Client Error: Too Many Requests for url: https://nominatim.openstreetmap.org/search?q=Carson+County%2C+Texas%2C+USA&format=jsonv2&addressdetails=1&limit=1\n",
      "Status code 429 from https://nominatim.openstreetmap.org/search: ERROR - 429 Client Error: Too Many Requests for url: https://nominatim.openstreetmap.org/search?q=Irwin+County%2C+Georgia%2C+USA&format=jsonv2&addressdetails=1&limit=1\n",
      "Status code 429 from https://nominatim.openstreetmap.org/search: ERROR - 429 Client Error: Too Many Requests for url: https://nominatim.openstreetmap.org/search?q=Wilson+County%2C+North+Carolina%2C+USA&format=jsonv2&addressdetails=1&limit=1\n",
      "Status code 429 from https://nominatim.openstreetmap.org/search: ERROR - 429 Client Error: Too Many Requests for url: https://nominatim.openstreetmap.org/search?q=Yadkin+County%2C+North+Carolina%2C+USA&format=jsonv2&addressdetails=1&limit=1\n",
      "Status code 429 from https://nominatim.openstreetmap.org/search: ERROR - 429 Client Error: Too Many Requests for url: https://nominatim.openstreetmap.org/search?q=Jackson+County%2C+Georgia%2C+USA&format=jsonv2&addressdetails=1&limit=1\n",
      "Status code 429 from https://nominatim.openstreetmap.org/search: ERROR - 429 Client Error: Too Many Requests for url: https://nominatim.openstreetmap.org/search?q=Yancey+County%2C+North+Carolina%2C+USA&format=jsonv2&addressdetails=1&limit=1\n",
      "Status code 429 from https://nominatim.openstreetmap.org/search: ERROR - 429 Client Error: Too Many Requests for url: https://nominatim.openstreetmap.org/search?q=Jasper+County%2C+Georgia%2C+USA&format=jsonv2&addressdetails=1&limit=1\n",
      "Status code 429 from https://nominatim.openstreetmap.org/search: ERROR - 429 Client Error: Too Many Requests for url: https://nominatim.openstreetmap.org/search?q=Jeff+Davis+County%2C+Georgia%2C+USA&format=jsonv2&addressdetails=1&limit=1\n",
      "Status code 429 from https://nominatim.openstreetmap.org/search: ERROR - 429 Client Error: Too Many Requests for url: https://nominatim.openstreetmap.org/search?q=Adams+County%2C+North+Dakota%2C+USA&format=jsonv2&addressdetails=1&limit=1\n",
      "Status code 429 from https://nominatim.openstreetmap.org/search: ERROR - 429 Client Error: Too Many Requests for url: https://nominatim.openstreetmap.org/search?q=Barnes+County%2C+North+Dakota%2C+USA&format=jsonv2&addressdetails=1&limit=1\n",
      "Status code 429 from https://nominatim.openstreetmap.org/search: ERROR - 429 Client Error: Too Many Requests for url: https://nominatim.openstreetmap.org/search?q=Jefferson+County%2C+Georgia%2C+USA&format=jsonv2&addressdetails=1&limit=1\n",
      "Status code 429 from https://nominatim.openstreetmap.org/search: ERROR - 429 Client Error: Too Many Requests for url: https://nominatim.openstreetmap.org/search?q=Benson+County%2C+North+Dakota%2C+USA&format=jsonv2&addressdetails=1&limit=1\n",
      "Status code 429 from https://nominatim.openstreetmap.org/search: ERROR - 429 Client Error: Too Many Requests for url: https://nominatim.openstreetmap.org/search?q=Jenkins+County%2C+Georgia%2C+USA&format=jsonv2&addressdetails=1&limit=1\n",
      "Status code Unknown from https://nominatim.openstreetmap.org/search: ERROR - HTTPSConnectionPool(host='nominatim.openstreetmap.org', port=443): Max retries exceeded with url: /search?q=Hardin+County%2C+Kentucky%2C+USA&format=jsonv2&addressdetails=1&limit=1 (Caused by ConnectTimeoutError(<urllib3.connection.VerifiedHTTPSConnection object at 0x7f70893706d8>, 'Connection to nominatim.openstreetmap.org timed out. (connect timeout=5.0)'))\n",
      "Status code 429 from https://nominatim.openstreetmap.org/search: ERROR - 429 Client Error: Too Many Requests for url: https://nominatim.openstreetmap.org/search?q=Johnson+County%2C+Georgia%2C+USA&format=jsonv2&addressdetails=1&limit=1\n",
      "Status code 429 from https://nominatim.openstreetmap.org/search: ERROR - 429 Client Error: Too Many Requests for url: https://nominatim.openstreetmap.org/search?q=Harlan+County%2C+Kentucky%2C+USA&format=jsonv2&addressdetails=1&limit=1\n",
      "Status code 429 from https://nominatim.openstreetmap.org/search: ERROR - 429 Client Error: Too Many Requests for url: https://nominatim.openstreetmap.org/search?q=Jones+County%2C+Georgia%2C+USA&format=jsonv2&addressdetails=1&limit=1\n",
      "Status code 429 from https://nominatim.openstreetmap.org/search: ERROR - 429 Client Error: Too Many Requests for url: https://nominatim.openstreetmap.org/search?q=Lamar+County%2C+Georgia%2C+USA&format=jsonv2&addressdetails=1&limit=1\n",
      "Status code Unknown from https://nominatim.openstreetmap.org/search: ERROR - HTTPSConnectionPool(host='nominatim.openstreetmap.org', port=443): Max retries exceeded with url: /search?q=Gentry+County%2C+Missouri%2C+USA&format=jsonv2&addressdetails=1&limit=1 (Caused by ConnectTimeoutError(<urllib3.connection.VerifiedHTTPSConnection object at 0x7f70849059e8>, 'Connection to nominatim.openstreetmap.org timed out. (connect timeout=5.0)'))\n",
      "Status code 429 from https://nominatim.openstreetmap.org/search: ERROR - 429 Client Error: Too Many Requests for url: https://nominatim.openstreetmap.org/search?q=Harrison+County%2C+Kentucky%2C+USA&format=jsonv2&addressdetails=1&limit=1\n",
      "Status code 429 from https://nominatim.openstreetmap.org/search: ERROR - 429 Client Error: Too Many Requests for url: https://nominatim.openstreetmap.org/search?q=Greene+County%2C+Missouri%2C+USA&format=jsonv2&addressdetails=1&limit=1\n",
      "Status code 429 from https://nominatim.openstreetmap.org/search: ERROR - 429 Client Error: Too Many Requests for url: https://nominatim.openstreetmap.org/search?q=Grundy+County%2C+Missouri%2C+USA&format=jsonv2&addressdetails=1&limit=1\n",
      "Status code Unknown from https://nominatim.openstreetmap.org/search: ERROR - HTTPSConnectionPool(host='nominatim.openstreetmap.org', port=443): Max retries exceeded with url: /search?q=Cass+County%2C+Texas%2C+USA&format=jsonv2&addressdetails=1&limit=1 (Caused by ConnectTimeoutError(<urllib3.connection.VerifiedHTTPSConnection object at 0x7f708486e828>, 'Connection to nominatim.openstreetmap.org timed out. (connect timeout=5.0)'))\n"
     ]
    },
    {
     "name": "stderr",
     "output_type": "stream",
     "text": [
      "Status code 429 from https://nominatim.openstreetmap.org/search: ERROR - 429 Client Error: Too Many Requests for url: https://nominatim.openstreetmap.org/search?q=Hart+County%2C+Kentucky%2C+USA&format=jsonv2&addressdetails=1&limit=1\n",
      "Status code 429 from https://nominatim.openstreetmap.org/search: ERROR - 429 Client Error: Too Many Requests for url: https://nominatim.openstreetmap.org/search?q=Castro+County%2C+Texas%2C+USA&format=jsonv2&addressdetails=1&limit=1\n",
      "Status code 429 from https://nominatim.openstreetmap.org/search: ERROR - 429 Client Error: Too Many Requests for url: https://nominatim.openstreetmap.org/search?q=Henderson+County%2C+Kentucky%2C+USA&format=jsonv2&addressdetails=1&limit=1\n",
      "Status code 429 from https://nominatim.openstreetmap.org/search: ERROR - 429 Client Error: Too Many Requests for url: https://nominatim.openstreetmap.org/search?q=Chambers+County%2C+Texas%2C+USA&format=jsonv2&addressdetails=1&limit=1\n",
      "Status code 429 from https://nominatim.openstreetmap.org/search: ERROR - 429 Client Error: Too Many Requests for url: https://nominatim.openstreetmap.org/search?q=Cherokee+County%2C+Texas%2C+USA&format=jsonv2&addressdetails=1&limit=1\n",
      "Status code 429 from https://nominatim.openstreetmap.org/search: ERROR - 429 Client Error: Too Many Requests for url: https://nominatim.openstreetmap.org/search?q=Henry+County%2C+Kentucky%2C+USA&format=jsonv2&addressdetails=1&limit=1\n",
      "Status code 429 from https://nominatim.openstreetmap.org/search: ERROR - 429 Client Error: Too Many Requests for url: https://nominatim.openstreetmap.org/search?q=Hickman+County%2C+Kentucky%2C+USA&format=jsonv2&addressdetails=1&limit=1\n",
      "Status code 429 from https://nominatim.openstreetmap.org/search: ERROR - 429 Client Error: Too Many Requests for url: https://nominatim.openstreetmap.org/search?q=Hopkins+County%2C+Kentucky%2C+USA&format=jsonv2&addressdetails=1&limit=1\n",
      "Status code Unknown from https://nominatim.openstreetmap.org/search: ERROR - HTTPSConnectionPool(host='nominatim.openstreetmap.org', port=443): Max retries exceeded with url: /search?q=Billings+County%2C+North+Dakota%2C+USA&format=jsonv2&addressdetails=1&limit=1 (Caused by ConnectTimeoutError(<urllib3.connection.VerifiedHTTPSConnection object at 0x7f708486e7f0>, 'Connection to nominatim.openstreetmap.org timed out. (connect timeout=5.0)'))\n",
      "Status code 429 from https://nominatim.openstreetmap.org/search: ERROR - 429 Client Error: Too Many Requests for url: https://nominatim.openstreetmap.org/search?q=Jackson+County%2C+Kentucky%2C+USA&format=jsonv2&addressdetails=1&limit=1\n",
      "Status code 429 from https://nominatim.openstreetmap.org/search: ERROR - 429 Client Error: Too Many Requests for url: https://nominatim.openstreetmap.org/search?q=Bottineau+County%2C+North+Dakota%2C+USA&format=jsonv2&addressdetails=1&limit=1\n",
      "Status code 429 from https://nominatim.openstreetmap.org/search: ERROR - 429 Client Error: Too Many Requests for url: https://nominatim.openstreetmap.org/search?q=Jefferson+County%2C+Kentucky%2C+USA&format=jsonv2&addressdetails=1&limit=1\n",
      "Status code 429 from https://nominatim.openstreetmap.org/search: ERROR - 429 Client Error: Too Many Requests for url: https://nominatim.openstreetmap.org/search?q=Bowman+County%2C+North+Dakota%2C+USA&format=jsonv2&addressdetails=1&limit=1\n",
      "Status code 429 from https://nominatim.openstreetmap.org/search: ERROR - 429 Client Error: Too Many Requests for url: https://nominatim.openstreetmap.org/search?q=Burke+County%2C+North+Dakota%2C+USA&format=jsonv2&addressdetails=1&limit=1\n",
      "Status code Unknown from https://nominatim.openstreetmap.org/search: ERROR - HTTPSConnectionPool(host='nominatim.openstreetmap.org', port=443): Max retries exceeded with url: /search?q=Lanier+County%2C+Georgia%2C+USA&format=jsonv2&addressdetails=1&limit=1 (Caused by ConnectTimeoutError(<urllib3.connection.VerifiedHTTPSConnection object at 0x7f708486e7b8>, 'Connection to nominatim.openstreetmap.org timed out. (connect timeout=5.0)'))\n",
      "Status code 429 from https://nominatim.openstreetmap.org/search: ERROR - 429 Client Error: Too Many Requests for url: https://nominatim.openstreetmap.org/search?q=Burleigh+County%2C+North+Dakota%2C+USA&format=jsonv2&addressdetails=1&limit=1\n",
      "Status code 429 from https://nominatim.openstreetmap.org/search: ERROR - 429 Client Error: Too Many Requests for url: https://nominatim.openstreetmap.org/search?q=Laurens+County%2C+Georgia%2C+USA&format=jsonv2&addressdetails=1&limit=1\n",
      "Status code 429 from https://nominatim.openstreetmap.org/search: ERROR - 429 Client Error: Too Many Requests for url: https://nominatim.openstreetmap.org/search?q=Cass+County%2C+North+Dakota%2C+USA&format=jsonv2&addressdetails=1&limit=1\n",
      "Status code 429 from https://nominatim.openstreetmap.org/search: ERROR - 429 Client Error: Too Many Requests for url: https://nominatim.openstreetmap.org/search?q=Lee+County%2C+Georgia%2C+USA&format=jsonv2&addressdetails=1&limit=1\n",
      "Status code Unknown from https://nominatim.openstreetmap.org/search: ERROR - HTTPSConnectionPool(host='nominatim.openstreetmap.org', port=443): Max retries exceeded with url: /search?q=Harrison+County%2C+Missouri%2C+USA&format=jsonv2&addressdetails=1&limit=1 (Caused by ConnectTimeoutError(<urllib3.connection.VerifiedHTTPSConnection object at 0x7f7084905a90>, 'Connection to nominatim.openstreetmap.org timed out. (connect timeout=5.0)'))\n",
      "Status code 429 from https://nominatim.openstreetmap.org/search: ERROR - 429 Client Error: Too Many Requests for url: https://nominatim.openstreetmap.org/search?q=Liberty+County%2C+Georgia%2C+USA&format=jsonv2&addressdetails=1&limit=1\n",
      "Status code 429 from https://nominatim.openstreetmap.org/search: ERROR - 429 Client Error: Too Many Requests for url: https://nominatim.openstreetmap.org/search?q=Cavalier+County%2C+North+Dakota%2C+USA&format=jsonv2&addressdetails=1&limit=1\n",
      "Status code 429 from https://nominatim.openstreetmap.org/search: ERROR - 429 Client Error: Too Many Requests for url: https://nominatim.openstreetmap.org/search?q=Lincoln+County%2C+Georgia%2C+USA&format=jsonv2&addressdetails=1&limit=1\n",
      "Status code 429 from https://nominatim.openstreetmap.org/search: ERROR - 429 Client Error: Too Many Requests for url: https://nominatim.openstreetmap.org/search?q=Dickey+County%2C+North+Dakota%2C+USA&format=jsonv2&addressdetails=1&limit=1\n",
      "Status code 429 from https://nominatim.openstreetmap.org/search: ERROR - 429 Client Error: Too Many Requests for url: https://nominatim.openstreetmap.org/search?q=Divide+County%2C+North+Dakota%2C+USA&format=jsonv2&addressdetails=1&limit=1\n",
      "Status code Unknown from https://nominatim.openstreetmap.org/search: ERROR - HTTPSConnectionPool(host='nominatim.openstreetmap.org', port=443): Max retries exceeded with url: /search?q=Childress+County%2C+Texas%2C+USA&format=jsonv2&addressdetails=1&limit=1 (Caused by ConnectTimeoutError(<urllib3.connection.VerifiedHTTPSConnection object at 0x7f70849e8f98>, 'Connection to nominatim.openstreetmap.org timed out. (connect timeout=5.0)'))\n",
      "Status code 429 from https://nominatim.openstreetmap.org/search: ERROR - 429 Client Error: Too Many Requests for url: https://nominatim.openstreetmap.org/search?q=Long+County%2C+Georgia%2C+USA&format=jsonv2&addressdetails=1&limit=1\n",
      "Status code 429 from https://nominatim.openstreetmap.org/search: ERROR - 429 Client Error: Too Many Requests for url: https://nominatim.openstreetmap.org/search?q=Clay+County%2C+Texas%2C+USA&format=jsonv2&addressdetails=1&limit=1\n",
      "Status code 429 from https://nominatim.openstreetmap.org/search: ERROR - 429 Client Error: Too Many Requests for url: https://nominatim.openstreetmap.org/search?q=Cochran+County%2C+Texas%2C+USA&format=jsonv2&addressdetails=1&limit=1\n",
      "Status code 429 from https://nominatim.openstreetmap.org/search: ERROR - 429 Client Error: Too Many Requests for url: https://nominatim.openstreetmap.org/search?q=Lowndes+County%2C+Georgia%2C+USA&format=jsonv2&addressdetails=1&limit=1\n",
      "Status code 429 from https://nominatim.openstreetmap.org/search: ERROR - 429 Client Error: Too Many Requests for url: https://nominatim.openstreetmap.org/search?q=Lumpkin+County%2C+Georgia%2C+USA&format=jsonv2&addressdetails=1&limit=1\n",
      "Status code 429 from https://nominatim.openstreetmap.org/search: ERROR - 429 Client Error: Too Many Requests for url: https://nominatim.openstreetmap.org/search?q=McDuffie+County%2C+Georgia%2C+USA&format=jsonv2&addressdetails=1&limit=1\n"
     ]
    },
    {
     "name": "stderr",
     "output_type": "stream",
     "text": [
      "Status code 429 from https://nominatim.openstreetmap.org/search: ERROR - 429 Client Error: Too Many Requests for url: https://nominatim.openstreetmap.org/search?q=McIntosh+County%2C+Georgia%2C+USA&format=jsonv2&addressdetails=1&limit=1\n",
      "Status code 429 from https://nominatim.openstreetmap.org/search: ERROR - 429 Client Error: Too Many Requests for url: https://nominatim.openstreetmap.org/search?q=Macon+County%2C+Georgia%2C+USA&format=jsonv2&addressdetails=1&limit=1\n",
      "Status code 429 from https://nominatim.openstreetmap.org/search: ERROR - 429 Client Error: Too Many Requests for url: https://nominatim.openstreetmap.org/search?q=Coke+County%2C+Texas%2C+USA&format=jsonv2&addressdetails=1&limit=1\n",
      "Status code 429 from https://nominatim.openstreetmap.org/search: ERROR - 429 Client Error: Too Many Requests for url: https://nominatim.openstreetmap.org/search?q=Madison+County%2C+Georgia%2C+USA&format=jsonv2&addressdetails=1&limit=1\n",
      "Status code 429 from https://nominatim.openstreetmap.org/search: ERROR - 429 Client Error: Too Many Requests for url: https://nominatim.openstreetmap.org/search?q=Coleman+County%2C+Texas%2C+USA&format=jsonv2&addressdetails=1&limit=1\n",
      "Status code 429 from https://nominatim.openstreetmap.org/search: ERROR - 429 Client Error: Too Many Requests for url: https://nominatim.openstreetmap.org/search?q=Marion+County%2C+Georgia%2C+USA&format=jsonv2&addressdetails=1&limit=1\n",
      "Status code 429 from https://nominatim.openstreetmap.org/search: ERROR - 429 Client Error: Too Many Requests for url: https://nominatim.openstreetmap.org/search?q=Meriwether+County%2C+Georgia%2C+USA&format=jsonv2&addressdetails=1&limit=1\n",
      "Status code 429 from https://nominatim.openstreetmap.org/search: ERROR - 429 Client Error: Too Many Requests for url: https://nominatim.openstreetmap.org/search?q=Collin+County%2C+Texas%2C+USA&format=jsonv2&addressdetails=1&limit=1\n",
      "Status code Unknown from https://nominatim.openstreetmap.org/search: ERROR - HTTPSConnectionPool(host='nominatim.openstreetmap.org', port=443): Max retries exceeded with url: /search?q=Henry+County%2C+Missouri%2C+USA&format=jsonv2&addressdetails=1&limit=1 (Caused by ConnectTimeoutError(<urllib3.connection.VerifiedHTTPSConnection object at 0x7f70847a6b38>, 'Connection to nominatim.openstreetmap.org timed out. (connect timeout=5.0)'))\n",
      "Status code 429 from https://nominatim.openstreetmap.org/search: ERROR - 429 Client Error: Too Many Requests for url: https://nominatim.openstreetmap.org/search?q=Collingsworth+County%2C+Texas%2C+USA&format=jsonv2&addressdetails=1&limit=1\n",
      "Status code 429 from https://nominatim.openstreetmap.org/search: ERROR - 429 Client Error: Too Many Requests for url: https://nominatim.openstreetmap.org/search?q=Hickory+County%2C+Missouri%2C+USA&format=jsonv2&addressdetails=1&limit=1\n",
      "Status code 429 from https://nominatim.openstreetmap.org/search: ERROR - 429 Client Error: Too Many Requests for url: https://nominatim.openstreetmap.org/search?q=Colorado+County%2C+Texas%2C+USA&format=jsonv2&addressdetails=1&limit=1\n",
      "Status code 429 from https://nominatim.openstreetmap.org/search: ERROR - 429 Client Error: Too Many Requests for url: https://nominatim.openstreetmap.org/search?q=Comal+County%2C+Texas%2C+USA&format=jsonv2&addressdetails=1&limit=1\n",
      "Status code 429 from https://nominatim.openstreetmap.org/search: ERROR - 429 Client Error: Too Many Requests for url: https://nominatim.openstreetmap.org/search?q=Holt+County%2C+Missouri%2C+USA&format=jsonv2&addressdetails=1&limit=1\n",
      "Status code Unknown from https://nominatim.openstreetmap.org/search: ERROR - HTTPSConnectionPool(host='nominatim.openstreetmap.org', port=443): Max retries exceeded with url: /search?q=Dunn+County%2C+North+Dakota%2C+USA&format=jsonv2&addressdetails=1&limit=1 (Caused by ConnectTimeoutError(<urllib3.connection.VerifiedHTTPSConnection object at 0x7f7084967358>, 'Connection to nominatim.openstreetmap.org timed out. (connect timeout=5.0)'))\n",
      "Status code 429 from https://nominatim.openstreetmap.org/search: ERROR - 429 Client Error: Too Many Requests for url: https://nominatim.openstreetmap.org/search?q=Comanche+County%2C+Texas%2C+USA&format=jsonv2&addressdetails=1&limit=1\n",
      "Status code 429 from https://nominatim.openstreetmap.org/search: ERROR - 429 Client Error: Too Many Requests for url: https://nominatim.openstreetmap.org/search?q=Concho+County%2C+Texas%2C+USA&format=jsonv2&addressdetails=1&limit=1\n",
      "Status code 429 from https://nominatim.openstreetmap.org/search: ERROR - 429 Client Error: Too Many Requests for url: https://nominatim.openstreetmap.org/search?q=Cooke+County%2C+Texas%2C+USA&format=jsonv2&addressdetails=1&limit=1\n",
      "Status code 429 from https://nominatim.openstreetmap.org/search: ERROR - 429 Client Error: Too Many Requests for url: https://nominatim.openstreetmap.org/search?q=Coryell+County%2C+Texas%2C+USA&format=jsonv2&addressdetails=1&limit=1\n",
      "Status code 429 from https://nominatim.openstreetmap.org/search: ERROR - 429 Client Error: Too Many Requests for url: https://nominatim.openstreetmap.org/search?q=Cottle+County%2C+Texas%2C+USA&format=jsonv2&addressdetails=1&limit=1\n",
      "Status code 429 from https://nominatim.openstreetmap.org/search: ERROR - 429 Client Error: Too Many Requests for url: https://nominatim.openstreetmap.org/search?q=Howard+County%2C+Missouri%2C+USA&format=jsonv2&addressdetails=1&limit=1\n",
      "Status code 429 from https://nominatim.openstreetmap.org/search: ERROR - 429 Client Error: Too Many Requests for url: https://nominatim.openstreetmap.org/search?q=Crane+County%2C+Texas%2C+USA&format=jsonv2&addressdetails=1&limit=1\n",
      "Status code 429 from https://nominatim.openstreetmap.org/search: ERROR - 429 Client Error: Too Many Requests for url: https://nominatim.openstreetmap.org/search?q=Howell+County%2C+Missouri%2C+USA&format=jsonv2&addressdetails=1&limit=1\n",
      "Status code 429 from https://nominatim.openstreetmap.org/search: ERROR - 429 Client Error: Too Many Requests for url: https://nominatim.openstreetmap.org/search?q=Iron+County%2C+Missouri%2C+USA&format=jsonv2&addressdetails=1&limit=1\n",
      "Status code 429 from https://nominatim.openstreetmap.org/search: ERROR - 429 Client Error: Too Many Requests for url: https://nominatim.openstreetmap.org/search?q=Crockett+County%2C+Texas%2C+USA&format=jsonv2&addressdetails=1&limit=1\n",
      "Status code 429 from https://nominatim.openstreetmap.org/search: ERROR - 429 Client Error: Too Many Requests for url: https://nominatim.openstreetmap.org/search?q=Jackson+County%2C+Missouri%2C+USA&format=jsonv2&addressdetails=1&limit=1\n",
      "Status code 429 from https://nominatim.openstreetmap.org/search: ERROR - 429 Client Error: Too Many Requests for url: https://nominatim.openstreetmap.org/search?q=Jasper+County%2C+Missouri%2C+USA&format=jsonv2&addressdetails=1&limit=1\n",
      "Status code Unknown from https://nominatim.openstreetmap.org/search: ERROR - HTTPSConnectionPool(host='nominatim.openstreetmap.org', port=443): Max retries exceeded with url: /search?q=Miller+County%2C+Georgia%2C+USA&format=jsonv2&addressdetails=1&limit=1 (Caused by ConnectTimeoutError(<urllib3.connection.VerifiedHTTPSConnection object at 0x7f70890b7a90>, 'Connection to nominatim.openstreetmap.org timed out. (connect timeout=5.0)'))\n",
      "Status code 429 from https://nominatim.openstreetmap.org/search: ERROR - 429 Client Error: Too Many Requests for url: https://nominatim.openstreetmap.org/search?q=Crosby+County%2C+Texas%2C+USA&format=jsonv2&addressdetails=1&limit=1\n",
      "Status code 429 from https://nominatim.openstreetmap.org/search: ERROR - 429 Client Error: Too Many Requests for url: https://nominatim.openstreetmap.org/search?q=Mitchell+County%2C+Georgia%2C+USA&format=jsonv2&addressdetails=1&limit=1\n",
      "Status code 429 from https://nominatim.openstreetmap.org/search: ERROR - 429 Client Error: Too Many Requests for url: https://nominatim.openstreetmap.org/search?q=Culberson+County%2C+Texas%2C+USA&format=jsonv2&addressdetails=1&limit=1\n",
      "Status code 429 from https://nominatim.openstreetmap.org/search: ERROR - 429 Client Error: Too Many Requests for url: https://nominatim.openstreetmap.org/search?q=Monroe+County%2C+Georgia%2C+USA&format=jsonv2&addressdetails=1&limit=1\n",
      "Status code 429 from https://nominatim.openstreetmap.org/search: ERROR - 429 Client Error: Too Many Requests for url: https://nominatim.openstreetmap.org/search?q=Montgomery+County%2C+Georgia%2C+USA&format=jsonv2&addressdetails=1&limit=1\n"
     ]
    },
    {
     "name": "stderr",
     "output_type": "stream",
     "text": [
      "Status code 429 from https://nominatim.openstreetmap.org/search: ERROR - 429 Client Error: Too Many Requests for url: https://nominatim.openstreetmap.org/search?q=Dallam+County%2C+Texas%2C+USA&format=jsonv2&addressdetails=1&limit=1\n",
      "Status code 429 from https://nominatim.openstreetmap.org/search: ERROR - 429 Client Error: Too Many Requests for url: https://nominatim.openstreetmap.org/search?q=Morgan+County%2C+Georgia%2C+USA&format=jsonv2&addressdetails=1&limit=1\n",
      "Status code Unknown from https://nominatim.openstreetmap.org/search: ERROR - HTTPSConnectionPool(host='nominatim.openstreetmap.org', port=443): Max retries exceeded with url: /search?q=Eddy+County%2C+North+Dakota%2C+USA&format=jsonv2&addressdetails=1&limit=1 (Caused by ConnectTimeoutError(<urllib3.connection.VerifiedHTTPSConnection object at 0x7f70847a7860>, 'Connection to nominatim.openstreetmap.org timed out. (connect timeout=5.0)'))\n",
      "Status code 429 from https://nominatim.openstreetmap.org/search: ERROR - 429 Client Error: Too Many Requests for url: https://nominatim.openstreetmap.org/search?q=Murray+County%2C+Georgia%2C+USA&format=jsonv2&addressdetails=1&limit=1\n",
      "Status code 429 from https://nominatim.openstreetmap.org/search: ERROR - 429 Client Error: Too Many Requests for url: https://nominatim.openstreetmap.org/search?q=Emmons+County%2C+North+Dakota%2C+USA&format=jsonv2&addressdetails=1&limit=1\n",
      "Status code 429 from https://nominatim.openstreetmap.org/search: ERROR - 429 Client Error: Too Many Requests for url: https://nominatim.openstreetmap.org/search?q=Foster+County%2C+North+Dakota%2C+USA&format=jsonv2&addressdetails=1&limit=1\n",
      "Status code 429 from https://nominatim.openstreetmap.org/search: ERROR - 429 Client Error: Too Many Requests for url: https://nominatim.openstreetmap.org/search?q=Muscogee+County%2C+Georgia%2C+USA&format=jsonv2&addressdetails=1&limit=1\n",
      "Status code 429 from https://nominatim.openstreetmap.org/search: ERROR - 429 Client Error: Too Many Requests for url: https://nominatim.openstreetmap.org/search?q=Newton+County%2C+Georgia%2C+USA&format=jsonv2&addressdetails=1&limit=1\n",
      "Status code 429 from https://nominatim.openstreetmap.org/search: ERROR - 429 Client Error: Too Many Requests for url: https://nominatim.openstreetmap.org/search?q=Oconee+County%2C+Georgia%2C+USA&format=jsonv2&addressdetails=1&limit=1\n",
      "Status code 429 from https://nominatim.openstreetmap.org/search: ERROR - 429 Client Error: Too Many Requests for url: https://nominatim.openstreetmap.org/search?q=Golden+Valley+County%2C+North+Dakota%2C+USA&format=jsonv2&addressdetails=1&limit=1\n",
      "Status code 429 from https://nominatim.openstreetmap.org/search: ERROR - 429 Client Error: Too Many Requests for url: https://nominatim.openstreetmap.org/search?q=Oglethorpe+County%2C+Georgia%2C+USA&format=jsonv2&addressdetails=1&limit=1\n",
      "Status code 429 from https://nominatim.openstreetmap.org/search: ERROR - 429 Client Error: Too Many Requests for url: https://nominatim.openstreetmap.org/search?q=Grand+Forks+County%2C+North+Dakota%2C+USA&format=jsonv2&addressdetails=1&limit=1\n",
      "Status code 429 from https://nominatim.openstreetmap.org/search: ERROR - 429 Client Error: Too Many Requests for url: https://nominatim.openstreetmap.org/search?q=Grant+County%2C+North+Dakota%2C+USA&format=jsonv2&addressdetails=1&limit=1\n",
      "Status code Unknown from https://nominatim.openstreetmap.org/search: ERROR - HTTPSConnectionPool(host='nominatim.openstreetmap.org', port=443): Max retries exceeded with url: /search?q=Jefferson+County%2C+Missouri%2C+USA&format=jsonv2&addressdetails=1&limit=1 (Caused by ConnectTimeoutError(<urllib3.connection.VerifiedHTTPSConnection object at 0x7f70890b7a90>, 'Connection to nominatim.openstreetmap.org timed out. (connect timeout=5.0)'))\n",
      "Status code 429 from https://nominatim.openstreetmap.org/search: ERROR - 429 Client Error: Too Many Requests for url: https://nominatim.openstreetmap.org/search?q=Paulding+County%2C+Georgia%2C+USA&format=jsonv2&addressdetails=1&limit=1\n",
      "Status code 429 from https://nominatim.openstreetmap.org/search: ERROR - 429 Client Error: Too Many Requests for url: https://nominatim.openstreetmap.org/search?q=Peach+County%2C+Georgia%2C+USA&format=jsonv2&addressdetails=1&limit=1\n",
      "Status code 429 from https://nominatim.openstreetmap.org/search: ERROR - 429 Client Error: Too Many Requests for url: https://nominatim.openstreetmap.org/search?q=Griggs+County%2C+North+Dakota%2C+USA&format=jsonv2&addressdetails=1&limit=1\n",
      "Status code 429 from https://nominatim.openstreetmap.org/search: ERROR - 429 Client Error: Too Many Requests for url: https://nominatim.openstreetmap.org/search?q=Pickens+County%2C+Georgia%2C+USA&format=jsonv2&addressdetails=1&limit=1\n",
      "Status code 429 from https://nominatim.openstreetmap.org/search: ERROR - 429 Client Error: Too Many Requests for url: https://nominatim.openstreetmap.org/search?q=Hettinger+County%2C+North+Dakota%2C+USA&format=jsonv2&addressdetails=1&limit=1\n",
      "Status code 429 from https://nominatim.openstreetmap.org/search: ERROR - 429 Client Error: Too Many Requests for url: https://nominatim.openstreetmap.org/search?q=Kidder+County%2C+North+Dakota%2C+USA&format=jsonv2&addressdetails=1&limit=1\n",
      "Status code Unknown from https://nominatim.openstreetmap.org/search: ERROR - HTTPSConnectionPool(host='nominatim.openstreetmap.org', port=443): Max retries exceeded with url: /search?q=Dallas+County%2C+Texas%2C+USA&format=jsonv2&addressdetails=1&limit=1 (Caused by ConnectTimeoutError(<urllib3.connection.VerifiedHTTPSConnection object at 0x7f70849e8c18>, 'Connection to nominatim.openstreetmap.org timed out. (connect timeout=5.0)'))\n",
      "Status code 429 from https://nominatim.openstreetmap.org/search: ERROR - 429 Client Error: Too Many Requests for url: https://nominatim.openstreetmap.org/search?q=Pierce+County%2C+Georgia%2C+USA&format=jsonv2&addressdetails=1&limit=1\n",
      "Status code 429 from https://nominatim.openstreetmap.org/search: ERROR - 429 Client Error: Too Many Requests for url: https://nominatim.openstreetmap.org/search?q=Dawson+County%2C+Texas%2C+USA&format=jsonv2&addressdetails=1&limit=1\n",
      "Status code 429 from https://nominatim.openstreetmap.org/search: ERROR - 429 Client Error: Too Many Requests for url: https://nominatim.openstreetmap.org/search?q=Deaf+Smith+County%2C+Texas%2C+USA&format=jsonv2&addressdetails=1&limit=1\n"
     ]
    },
    {
     "name": "stdout",
     "output_type": "stream",
     "text": [
      "33.081484 -84.3969481\n"
     ]
    },
    {
     "name": "stderr",
     "output_type": "stream",
     "text": [
      "Status code 429 from https://nominatim.openstreetmap.org/search: ERROR - 429 Client Error: Too Many Requests for url: https://nominatim.openstreetmap.org/search?q=Polk+County%2C+Georgia%2C+USA&format=jsonv2&addressdetails=1&limit=1\n",
      "Status code 429 from https://nominatim.openstreetmap.org/search: ERROR - 429 Client Error: Too Many Requests for url: https://nominatim.openstreetmap.org/search?q=Delta+County%2C+Texas%2C+USA&format=jsonv2&addressdetails=1&limit=1\n",
      "Status code 429 from https://nominatim.openstreetmap.org/search: ERROR - 429 Client Error: Too Many Requests for url: https://nominatim.openstreetmap.org/search?q=Pulaski+County%2C+Georgia%2C+USA&format=jsonv2&addressdetails=1&limit=1\n",
      "Status code 429 from https://nominatim.openstreetmap.org/search: ERROR - 429 Client Error: Too Many Requests for url: https://nominatim.openstreetmap.org/search?q=Denton+County%2C+Texas%2C+USA&format=jsonv2&addressdetails=1&limit=1\n",
      "Status code 429 from https://nominatim.openstreetmap.org/search: ERROR - 429 Client Error: Too Many Requests for url: https://nominatim.openstreetmap.org/search?q=DeWitt+County%2C+Texas%2C+USA&format=jsonv2&addressdetails=1&limit=1\n",
      "Status code 429 from https://nominatim.openstreetmap.org/search: ERROR - 429 Client Error: Too Many Requests for url: https://nominatim.openstreetmap.org/search?q=Putnam+County%2C+Georgia%2C+USA&format=jsonv2&addressdetails=1&limit=1\n",
      "Status code 429 from https://nominatim.openstreetmap.org/search: ERROR - 429 Client Error: Too Many Requests for url: https://nominatim.openstreetmap.org/search?q=Quitman+County%2C+Georgia%2C+USA&format=jsonv2&addressdetails=1&limit=1\n",
      "Status code 429 from https://nominatim.openstreetmap.org/search: ERROR - 429 Client Error: Too Many Requests for url: https://nominatim.openstreetmap.org/search?q=Rabun+County%2C+Georgia%2C+USA&format=jsonv2&addressdetails=1&limit=1\n",
      "Status code Unknown from https://nominatim.openstreetmap.org/search: ERROR - HTTPSConnectionPool(host='nominatim.openstreetmap.org', port=443): Max retries exceeded with url: /search?q=Johnson+County%2C+Missouri%2C+USA&format=jsonv2&addressdetails=1&limit=1 (Caused by ConnectTimeoutError(<urllib3.connection.VerifiedHTTPSConnection object at 0x7f708486e550>, 'Connection to nominatim.openstreetmap.org timed out. (connect timeout=5.0)'))\n",
      "Status code 429 from https://nominatim.openstreetmap.org/search: ERROR - 429 Client Error: Too Many Requests for url: https://nominatim.openstreetmap.org/search?q=Randolph+County%2C+Georgia%2C+USA&format=jsonv2&addressdetails=1&limit=1\n",
      "Status code 429 from https://nominatim.openstreetmap.org/search: ERROR - 429 Client Error: Too Many Requests for url: https://nominatim.openstreetmap.org/search?q=Knox+County%2C+Missouri%2C+USA&format=jsonv2&addressdetails=1&limit=1\n",
      "Status code 429 from https://nominatim.openstreetmap.org/search: ERROR - 429 Client Error: Too Many Requests for url: https://nominatim.openstreetmap.org/search?q=Laclede+County%2C+Missouri%2C+USA&format=jsonv2&addressdetails=1&limit=1\n",
      "Status code 429 from https://nominatim.openstreetmap.org/search: ERROR - 429 Client Error: Too Many Requests for url: https://nominatim.openstreetmap.org/search?q=Richmond+County%2C+Georgia%2C+USA&format=jsonv2&addressdetails=1&limit=1\n",
      "Status code 429 from https://nominatim.openstreetmap.org/search: ERROR - 429 Client Error: Too Many Requests for url: https://nominatim.openstreetmap.org/search?q=Rockdale+County%2C+Georgia%2C+USA&format=jsonv2&addressdetails=1&limit=1\n",
      "Status code Unknown from https://nominatim.openstreetmap.org/search: ERROR - HTTPSConnectionPool(host='nominatim.openstreetmap.org', port=443): Max retries exceeded with url: /search?q=LaMoure+County%2C+North+Dakota%2C+USA&format=jsonv2&addressdetails=1&limit=1 (Caused by ConnectTimeoutError(<urllib3.connection.VerifiedHTTPSConnection object at 0x7f70849e8828>, 'Connection to nominatim.openstreetmap.org timed out. (connect timeout=5.0)'))\n",
      "Status code 429 from https://nominatim.openstreetmap.org/search: ERROR - 429 Client Error: Too Many Requests for url: https://nominatim.openstreetmap.org/search?q=Lafayette+County%2C+Missouri%2C+USA&format=jsonv2&addressdetails=1&limit=1\n",
      "Status code 429 from https://nominatim.openstreetmap.org/search: ERROR - 429 Client Error: Too Many Requests for url: https://nominatim.openstreetmap.org/search?q=Schley+County%2C+Georgia%2C+USA&format=jsonv2&addressdetails=1&limit=1\n",
      "Status code 429 from https://nominatim.openstreetmap.org/search: ERROR - 429 Client Error: Too Many Requests for url: https://nominatim.openstreetmap.org/search?q=Logan+County%2C+North+Dakota%2C+USA&format=jsonv2&addressdetails=1&limit=1\n",
      "Status code 429 from https://nominatim.openstreetmap.org/search: ERROR - 429 Client Error: Too Many Requests for url: https://nominatim.openstreetmap.org/search?q=McHenry+County%2C+North+Dakota%2C+USA&format=jsonv2&addressdetails=1&limit=1\n",
      "Status code 429 from https://nominatim.openstreetmap.org/search: ERROR - 429 Client Error: Too Many Requests for url: https://nominatim.openstreetmap.org/search?q=Lawrence+County%2C+Missouri%2C+USA&format=jsonv2&addressdetails=1&limit=1\n",
      "Status code 429 from https://nominatim.openstreetmap.org/search: ERROR - 429 Client Error: Too Many Requests for url: https://nominatim.openstreetmap.org/search?q=Lewis+County%2C+Missouri%2C+USA&format=jsonv2&addressdetails=1&limit=1\n",
      "Status code 429 from https://nominatim.openstreetmap.org/search: ERROR - 429 Client Error: Too Many Requests for url: https://nominatim.openstreetmap.org/search?q=McIntosh+County%2C+North+Dakota%2C+USA&format=jsonv2&addressdetails=1&limit=1\n",
      "Status code 429 from https://nominatim.openstreetmap.org/search: ERROR - 429 Client Error: Too Many Requests for url: https://nominatim.openstreetmap.org/search?q=McKenzie+County%2C+North+Dakota%2C+USA&format=jsonv2&addressdetails=1&limit=1\n",
      "Status code 429 from https://nominatim.openstreetmap.org/search: ERROR - 429 Client Error: Too Many Requests for url: https://nominatim.openstreetmap.org/search?q=Screven+County%2C+Georgia%2C+USA&format=jsonv2&addressdetails=1&limit=1\n",
      "Status code 429 from https://nominatim.openstreetmap.org/search: ERROR - 429 Client Error: Too Many Requests for url: https://nominatim.openstreetmap.org/search?q=McLean+County%2C+North+Dakota%2C+USA&format=jsonv2&addressdetails=1&limit=1\n",
      "Status code Unknown from https://nominatim.openstreetmap.org/search: ERROR - HTTPSConnectionPool(host='nominatim.openstreetmap.org', port=443): Max retries exceeded with url: /search?q=Dickens+County%2C+Texas%2C+USA&format=jsonv2&addressdetails=1&limit=1 (Caused by ConnectTimeoutError(<urllib3.connection.VerifiedHTTPSConnection object at 0x7f70849e8ef0>, 'Connection to nominatim.openstreetmap.org timed out. (connect timeout=5.0)'))\n",
      "Status code 429 from https://nominatim.openstreetmap.org/search: ERROR - 429 Client Error: Too Many Requests for url: https://nominatim.openstreetmap.org/search?q=Mercer+County%2C+North+Dakota%2C+USA&format=jsonv2&addressdetails=1&limit=1\n",
      "Status code 429 from https://nominatim.openstreetmap.org/search: ERROR - 429 Client Error: Too Many Requests for url: https://nominatim.openstreetmap.org/search?q=Dimmit+County%2C+Texas%2C+USA&format=jsonv2&addressdetails=1&limit=1\n",
      "Status code 429 from https://nominatim.openstreetmap.org/search: ERROR - 429 Client Error: Too Many Requests for url: https://nominatim.openstreetmap.org/search?q=Morton+County%2C+North+Dakota%2C+USA&format=jsonv2&addressdetails=1&limit=1\n",
      "Status code 429 from https://nominatim.openstreetmap.org/search: ERROR - 429 Client Error: Too Many Requests for url: https://nominatim.openstreetmap.org/search?q=Mountrail+County%2C+North+Dakota%2C+USA&format=jsonv2&addressdetails=1&limit=1\n",
      "Status code 429 from https://nominatim.openstreetmap.org/search: ERROR - 429 Client Error: Too Many Requests for url: https://nominatim.openstreetmap.org/search?q=Donley+County%2C+Texas%2C+USA&format=jsonv2&addressdetails=1&limit=1\n",
      "Status code 429 from https://nominatim.openstreetmap.org/search: ERROR - 429 Client Error: Too Many Requests for url: https://nominatim.openstreetmap.org/search?q=Duval+County%2C+Texas%2C+USA&format=jsonv2&addressdetails=1&limit=1\n",
      "Status code 429 from https://nominatim.openstreetmap.org/search: ERROR - 429 Client Error: Too Many Requests for url: https://nominatim.openstreetmap.org/search?q=Nelson+County%2C+North+Dakota%2C+USA&format=jsonv2&addressdetails=1&limit=1\n"
     ]
    },
    {
     "name": "stderr",
     "output_type": "stream",
     "text": [
      "Status code 429 from https://nominatim.openstreetmap.org/search: ERROR - 429 Client Error: Too Many Requests for url: https://nominatim.openstreetmap.org/search?q=Eastland+County%2C+Texas%2C+USA&format=jsonv2&addressdetails=1&limit=1\n",
      "Status code 429 from https://nominatim.openstreetmap.org/search: ERROR - 429 Client Error: Too Many Requests for url: https://nominatim.openstreetmap.org/search?q=Oliver+County%2C+North+Dakota%2C+USA&format=jsonv2&addressdetails=1&limit=1\n",
      "Status code 429 from https://nominatim.openstreetmap.org/search: ERROR - 429 Client Error: Too Many Requests for url: https://nominatim.openstreetmap.org/search?q=Pembina+County%2C+North+Dakota%2C+USA&format=jsonv2&addressdetails=1&limit=1\n",
      "Status code 429 from https://nominatim.openstreetmap.org/search: ERROR - 429 Client Error: Too Many Requests for url: https://nominatim.openstreetmap.org/search?q=Ector+County%2C+Texas%2C+USA&format=jsonv2&addressdetails=1&limit=1\n",
      "Status code 429 from https://nominatim.openstreetmap.org/search: ERROR - 429 Client Error: Too Many Requests for url: https://nominatim.openstreetmap.org/search?q=Pierce+County%2C+North+Dakota%2C+USA&format=jsonv2&addressdetails=1&limit=1\n",
      "Status code 429 from https://nominatim.openstreetmap.org/search: ERROR - 429 Client Error: Too Many Requests for url: https://nominatim.openstreetmap.org/search?q=Ramsey+County%2C+North+Dakota%2C+USA&format=jsonv2&addressdetails=1&limit=1\n",
      "Status code 429 from https://nominatim.openstreetmap.org/search: ERROR - 429 Client Error: Too Many Requests for url: https://nominatim.openstreetmap.org/search?q=Ransom+County%2C+North+Dakota%2C+USA&format=jsonv2&addressdetails=1&limit=1\n",
      "Status code 429 from https://nominatim.openstreetmap.org/search: ERROR - 429 Client Error: Too Many Requests for url: https://nominatim.openstreetmap.org/search?q=Renville+County%2C+North+Dakota%2C+USA&format=jsonv2&addressdetails=1&limit=1\n",
      "Status code Unknown from https://nominatim.openstreetmap.org/search: ERROR - HTTPSConnectionPool(host='nominatim.openstreetmap.org', port=443): Max retries exceeded with url: /search?q=Lincoln+County%2C+Missouri%2C+USA&format=jsonv2&addressdetails=1&limit=1 (Caused by ConnectTimeoutError(<urllib3.connection.VerifiedHTTPSConnection object at 0x7f708486e4e0>, 'Connection to nominatim.openstreetmap.org timed out. (connect timeout=5.0)'))\n",
      "Status code 429 from https://nominatim.openstreetmap.org/search: ERROR - 429 Client Error: Too Many Requests for url: https://nominatim.openstreetmap.org/search?q=Richland+County%2C+North+Dakota%2C+USA&format=jsonv2&addressdetails=1&limit=1\n",
      "Status code 429 from https://nominatim.openstreetmap.org/search: ERROR - 429 Client Error: Too Many Requests for url: https://nominatim.openstreetmap.org/search?q=Linn+County%2C+Missouri%2C+USA&format=jsonv2&addressdetails=1&limit=1\n",
      "Status code 429 from https://nominatim.openstreetmap.org/search: ERROR - 429 Client Error: Too Many Requests for url: https://nominatim.openstreetmap.org/search?q=Edwards+County%2C+Texas%2C+USA&format=jsonv2&addressdetails=1&limit=1\n",
      "Status code 429 from https://nominatim.openstreetmap.org/search: ERROR - 429 Client Error: Too Many Requests for url: https://nominatim.openstreetmap.org/search?q=Rolette+County%2C+North+Dakota%2C+USA&format=jsonv2&addressdetails=1&limit=1\n",
      "Status code Unknown from https://nominatim.openstreetmap.org/search: ERROR - HTTPSConnectionPool(host='nominatim.openstreetmap.org', port=443): Max retries exceeded with url: /search?q=Seminole+County%2C+Georgia%2C+USA&format=jsonv2&addressdetails=1&limit=1 (Caused by ConnectTimeoutError(<urllib3.connection.VerifiedHTTPSConnection object at 0x7f70847b6470>, 'Connection to nominatim.openstreetmap.org timed out. (connect timeout=5.0)'))\n",
      "Status code 429 from https://nominatim.openstreetmap.org/search: ERROR - 429 Client Error: Too Many Requests for url: https://nominatim.openstreetmap.org/search?q=Ellis+County%2C+Texas%2C+USA&format=jsonv2&addressdetails=1&limit=1\n",
      "Status code 429 from https://nominatim.openstreetmap.org/search: ERROR - 429 Client Error: Too Many Requests for url: https://nominatim.openstreetmap.org/search?q=Spalding+County%2C+Georgia%2C+USA&format=jsonv2&addressdetails=1&limit=1\n",
      "Status code 429 from https://nominatim.openstreetmap.org/search: ERROR - 429 Client Error: Too Many Requests for url: https://nominatim.openstreetmap.org/search?q=Sargent+County%2C+North+Dakota%2C+USA&format=jsonv2&addressdetails=1&limit=1\n",
      "Status code 429 from https://nominatim.openstreetmap.org/search: ERROR - 429 Client Error: Too Many Requests for url: https://nominatim.openstreetmap.org/search?q=El+Paso+County%2C+Texas%2C+USA&format=jsonv2&addressdetails=1&limit=1\n",
      "Status code 429 from https://nominatim.openstreetmap.org/search: ERROR - 429 Client Error: Too Many Requests for url: https://nominatim.openstreetmap.org/search?q=Stephens+County%2C+Georgia%2C+USA&format=jsonv2&addressdetails=1&limit=1\n",
      "Status code 429 from https://nominatim.openstreetmap.org/search: ERROR - 429 Client Error: Too Many Requests for url: https://nominatim.openstreetmap.org/search?q=Erath+County%2C+Texas%2C+USA&format=jsonv2&addressdetails=1&limit=1\n",
      "Status code 429 from https://nominatim.openstreetmap.org/search: ERROR - 429 Client Error: Too Many Requests for url: https://nominatim.openstreetmap.org/search?q=Falls+County%2C+Texas%2C+USA&format=jsonv2&addressdetails=1&limit=1\n",
      "Status code 429 from https://nominatim.openstreetmap.org/search: ERROR - 429 Client Error: Too Many Requests for url: https://nominatim.openstreetmap.org/search?q=Fannin+County%2C+Texas%2C+USA&format=jsonv2&addressdetails=1&limit=1\n",
      "Status code 429 from https://nominatim.openstreetmap.org/search: ERROR - 429 Client Error: Too Many Requests for url: https://nominatim.openstreetmap.org/search?q=Fayette+County%2C+Texas%2C+USA&format=jsonv2&addressdetails=1&limit=1\n",
      "Status code 429 from https://nominatim.openstreetmap.org/search: ERROR - 429 Client Error: Too Many Requests for url: https://nominatim.openstreetmap.org/search?q=Sheridan+County%2C+North+Dakota%2C+USA&format=jsonv2&addressdetails=1&limit=1\n",
      "Status code 429 from https://nominatim.openstreetmap.org/search: ERROR - 429 Client Error: Too Many Requests for url: https://nominatim.openstreetmap.org/search?q=Fisher+County%2C+Texas%2C+USA&format=jsonv2&addressdetails=1&limit=1\n",
      "Status code 429 from https://nominatim.openstreetmap.org/search: ERROR - 429 Client Error: Too Many Requests for url: https://nominatim.openstreetmap.org/search?q=Sioux+County%2C+North+Dakota%2C+USA&format=jsonv2&addressdetails=1&limit=1\n",
      "Status code 429 from https://nominatim.openstreetmap.org/search: ERROR - 429 Client Error: Too Many Requests for url: https://nominatim.openstreetmap.org/search?q=Floyd+County%2C+Texas%2C+USA&format=jsonv2&addressdetails=1&limit=1\n",
      "Status code 429 from https://nominatim.openstreetmap.org/search: ERROR - 429 Client Error: Too Many Requests for url: https://nominatim.openstreetmap.org/search?q=Slope+County%2C+North+Dakota%2C+USA&format=jsonv2&addressdetails=1&limit=1\n",
      "Status code 429 from https://nominatim.openstreetmap.org/search: ERROR - 429 Client Error: Too Many Requests for url: https://nominatim.openstreetmap.org/search?q=Foard+County%2C+Texas%2C+USA&format=jsonv2&addressdetails=1&limit=1\n",
      "Status code 429 from https://nominatim.openstreetmap.org/search: ERROR - 429 Client Error: Too Many Requests for url: https://nominatim.openstreetmap.org/search?q=Fort+Bend+County%2C+Texas%2C+USA&format=jsonv2&addressdetails=1&limit=1\n",
      "Status code 429 from https://nominatim.openstreetmap.org/search: ERROR - 429 Client Error: Too Many Requests for url: https://nominatim.openstreetmap.org/search?q=Stark+County%2C+North+Dakota%2C+USA&format=jsonv2&addressdetails=1&limit=1\n",
      "Status code Unknown from https://nominatim.openstreetmap.org/search: ERROR - HTTPSConnectionPool(host='nominatim.openstreetmap.org', port=443): Max retries exceeded with url: /search?q=Livingston+County%2C+Missouri%2C+USA&format=jsonv2&addressdetails=1&limit=1 (Caused by ConnectTimeoutError(<urllib3.connection.VerifiedHTTPSConnection object at 0x7f70849e8b38>, 'Connection to nominatim.openstreetmap.org timed out. (connect timeout=5.0)'))\n",
      "Status code 429 from https://nominatim.openstreetmap.org/search: ERROR - 429 Client Error: Too Many Requests for url: https://nominatim.openstreetmap.org/search?q=Franklin+County%2C+Texas%2C+USA&format=jsonv2&addressdetails=1&limit=1\n"
     ]
    },
    {
     "name": "stderr",
     "output_type": "stream",
     "text": [
      "Status code 429 from https://nominatim.openstreetmap.org/search: ERROR - 429 Client Error: Too Many Requests for url: https://nominatim.openstreetmap.org/search?q=Steele+County%2C+North+Dakota%2C+USA&format=jsonv2&addressdetails=1&limit=1\n",
      "Status code 429 from https://nominatim.openstreetmap.org/search: ERROR - 429 Client Error: Too Many Requests for url: https://nominatim.openstreetmap.org/search?q=Stutsman+County%2C+North+Dakota%2C+USA&format=jsonv2&addressdetails=1&limit=1\n",
      "Status code 429 from https://nominatim.openstreetmap.org/search: ERROR - 429 Client Error: Too Many Requests for url: https://nominatim.openstreetmap.org/search?q=McDonald+County%2C+Missouri%2C+USA&format=jsonv2&addressdetails=1&limit=1\n",
      "Status code 429 from https://nominatim.openstreetmap.org/search: ERROR - 429 Client Error: Too Many Requests for url: https://nominatim.openstreetmap.org/search?q=Macon+County%2C+Missouri%2C+USA&format=jsonv2&addressdetails=1&limit=1\n",
      "Status code 429 from https://nominatim.openstreetmap.org/search: ERROR - 429 Client Error: Too Many Requests for url: https://nominatim.openstreetmap.org/search?q=Towner+County%2C+North+Dakota%2C+USA&format=jsonv2&addressdetails=1&limit=1\n",
      "Status code 429 from https://nominatim.openstreetmap.org/search: ERROR - 429 Client Error: Too Many Requests for url: https://nominatim.openstreetmap.org/search?q=Madison+County%2C+Missouri%2C+USA&format=jsonv2&addressdetails=1&limit=1\n",
      "Status code Unknown from https://nominatim.openstreetmap.org/search: ERROR - HTTPSConnectionPool(host='nominatim.openstreetmap.org', port=443): Max retries exceeded with url: /search?q=Stewart+County%2C+Georgia%2C+USA&format=jsonv2&addressdetails=1&limit=1 (Caused by ConnectTimeoutError(<urllib3.connection.VerifiedHTTPSConnection object at 0x7f7085267358>, 'Connection to nominatim.openstreetmap.org timed out. (connect timeout=5.0)'))\n",
      "Status code 429 from https://nominatim.openstreetmap.org/search: ERROR - 429 Client Error: Too Many Requests for url: https://nominatim.openstreetmap.org/search?q=Traill+County%2C+North+Dakota%2C+USA&format=jsonv2&addressdetails=1&limit=1\n",
      "Status code 429 from https://nominatim.openstreetmap.org/search: ERROR - 429 Client Error: Too Many Requests for url: https://nominatim.openstreetmap.org/search?q=Walsh+County%2C+North+Dakota%2C+USA&format=jsonv2&addressdetails=1&limit=1\n",
      "Status code 429 from https://nominatim.openstreetmap.org/search: ERROR - 429 Client Error: Too Many Requests for url: https://nominatim.openstreetmap.org/search?q=Maries+County%2C+Missouri%2C+USA&format=jsonv2&addressdetails=1&limit=1\n",
      "Status code 429 from https://nominatim.openstreetmap.org/search: ERROR - 429 Client Error: Too Many Requests for url: https://nominatim.openstreetmap.org/search?q=Ward+County%2C+North+Dakota%2C+USA&format=jsonv2&addressdetails=1&limit=1\n",
      "Status code 429 from https://nominatim.openstreetmap.org/search: ERROR - 429 Client Error: Too Many Requests for url: https://nominatim.openstreetmap.org/search?q=Wells+County%2C+North+Dakota%2C+USA&format=jsonv2&addressdetails=1&limit=1\n",
      "Status code 429 from https://nominatim.openstreetmap.org/search: ERROR - 429 Client Error: Too Many Requests for url: https://nominatim.openstreetmap.org/search?q=Williams+County%2C+North+Dakota%2C+USA&format=jsonv2&addressdetails=1&limit=1\n",
      "Status code 429 from https://nominatim.openstreetmap.org/search: ERROR - 429 Client Error: Too Many Requests for url: https://nominatim.openstreetmap.org/search?q=Sumter+County%2C+Georgia%2C+USA&format=jsonv2&addressdetails=1&limit=1\n",
      "Status code 429 from https://nominatim.openstreetmap.org/search: ERROR - 429 Client Error: Too Many Requests for url: https://nominatim.openstreetmap.org/search?q=Adams+County%2C+Ohio%2C+USA&format=jsonv2&addressdetails=1&limit=1\n",
      "Status code 429 from https://nominatim.openstreetmap.org/search: ERROR - 429 Client Error: Too Many Requests for url: https://nominatim.openstreetmap.org/search?q=Talbot+County%2C+Georgia%2C+USA&format=jsonv2&addressdetails=1&limit=1\n",
      "Status code 429 from https://nominatim.openstreetmap.org/search: ERROR - 429 Client Error: Too Many Requests for url: https://nominatim.openstreetmap.org/search?q=Taliaferro+County%2C+Georgia%2C+USA&format=jsonv2&addressdetails=1&limit=1\n",
      "Status code 429 from https://nominatim.openstreetmap.org/search: ERROR - 429 Client Error: Too Many Requests for url: https://nominatim.openstreetmap.org/search?q=Allen+County%2C+Ohio%2C+USA&format=jsonv2&addressdetails=1&limit=1\n",
      "Status code 429 from https://nominatim.openstreetmap.org/search: ERROR - 429 Client Error: Too Many Requests for url: https://nominatim.openstreetmap.org/search?q=Tattnall+County%2C+Georgia%2C+USA&format=jsonv2&addressdetails=1&limit=1\n",
      "Status code 429 from https://nominatim.openstreetmap.org/search: ERROR - 429 Client Error: Too Many Requests for url: https://nominatim.openstreetmap.org/search?q=Taylor+County%2C+Georgia%2C+USA&format=jsonv2&addressdetails=1&limit=1\n",
      "Status code Unknown from https://nominatim.openstreetmap.org/search: ERROR - HTTPSConnectionPool(host='nominatim.openstreetmap.org', port=443): Max retries exceeded with url: /search?q=Freestone+County%2C+Texas%2C+USA&format=jsonv2&addressdetails=1&limit=1 (Caused by ConnectTimeoutError(<urllib3.connection.VerifiedHTTPSConnection object at 0x7f70847aa828>, 'Connection to nominatim.openstreetmap.org timed out. (connect timeout=5.0)'))\n",
      "Status code 429 from https://nominatim.openstreetmap.org/search: ERROR - 429 Client Error: Too Many Requests for url: https://nominatim.openstreetmap.org/search?q=Telfair+County%2C+Georgia%2C+USA&format=jsonv2&addressdetails=1&limit=1\n",
      "Status code 429 from https://nominatim.openstreetmap.org/search: ERROR - 429 Client Error: Too Many Requests for url: https://nominatim.openstreetmap.org/search?q=Frio+County%2C+Texas%2C+USA&format=jsonv2&addressdetails=1&limit=1\n",
      "Status code 429 from https://nominatim.openstreetmap.org/search: ERROR - 429 Client Error: Too Many Requests for url: https://nominatim.openstreetmap.org/search?q=Terrell+County%2C+Georgia%2C+USA&format=jsonv2&addressdetails=1&limit=1\n",
      "Status code 429 from https://nominatim.openstreetmap.org/search: ERROR - 429 Client Error: Too Many Requests for url: https://nominatim.openstreetmap.org/search?q=Gaines+County%2C+Texas%2C+USA&format=jsonv2&addressdetails=1&limit=1\n",
      "Status code 429 from https://nominatim.openstreetmap.org/search: ERROR - 429 Client Error: Too Many Requests for url: https://nominatim.openstreetmap.org/search?q=Galveston+County%2C+Texas%2C+USA&format=jsonv2&addressdetails=1&limit=1\n",
      "Status code 429 from https://nominatim.openstreetmap.org/search: ERROR - 429 Client Error: Too Many Requests for url: https://nominatim.openstreetmap.org/search?q=Thomas+County%2C+Georgia%2C+USA&format=jsonv2&addressdetails=1&limit=1\n",
      "Status code 429 from https://nominatim.openstreetmap.org/search: ERROR - 429 Client Error: Too Many Requests for url: https://nominatim.openstreetmap.org/search?q=Tift+County%2C+Georgia%2C+USA&format=jsonv2&addressdetails=1&limit=1\n",
      "Status code 429 from https://nominatim.openstreetmap.org/search: ERROR - 429 Client Error: Too Many Requests for url: https://nominatim.openstreetmap.org/search?q=Garza+County%2C+Texas%2C+USA&format=jsonv2&addressdetails=1&limit=1\n",
      "Status code 429 from https://nominatim.openstreetmap.org/search: ERROR - 429 Client Error: Too Many Requests for url: https://nominatim.openstreetmap.org/search?q=Toombs+County%2C+Georgia%2C+USA&format=jsonv2&addressdetails=1&limit=1\n",
      "Status code 429 from https://nominatim.openstreetmap.org/search: ERROR - 429 Client Error: Too Many Requests for url: https://nominatim.openstreetmap.org/search?q=Gillespie+County%2C+Texas%2C+USA&format=jsonv2&addressdetails=1&limit=1\n",
      "Status code Unknown from https://nominatim.openstreetmap.org/search: ERROR - HTTPSConnectionPool(host='nominatim.openstreetmap.org', port=443): Max retries exceeded with url: /search?q=Marion+County%2C+Missouri%2C+USA&format=jsonv2&addressdetails=1&limit=1 (Caused by ConnectTimeoutError(<urllib3.connection.VerifiedHTTPSConnection object at 0x7f70847a6be0>, 'Connection to nominatim.openstreetmap.org timed out. (connect timeout=5.0)'))\n",
      "Status code 429 from https://nominatim.openstreetmap.org/search: ERROR - 429 Client Error: Too Many Requests for url: https://nominatim.openstreetmap.org/search?q=Glasscock+County%2C+Texas%2C+USA&format=jsonv2&addressdetails=1&limit=1\n"
     ]
    },
    {
     "name": "stderr",
     "output_type": "stream",
     "text": [
      "Status code 429 from https://nominatim.openstreetmap.org/search: ERROR - 429 Client Error: Too Many Requests for url: https://nominatim.openstreetmap.org/search?q=Mercer+County%2C+Missouri%2C+USA&format=jsonv2&addressdetails=1&limit=1\n",
      "Status code 429 from https://nominatim.openstreetmap.org/search: ERROR - 429 Client Error: Too Many Requests for url: https://nominatim.openstreetmap.org/search?q=Miller+County%2C+Missouri%2C+USA&format=jsonv2&addressdetails=1&limit=1\n",
      "Status code 429 from https://nominatim.openstreetmap.org/search: ERROR - 429 Client Error: Too Many Requests for url: https://nominatim.openstreetmap.org/search?q=Mississippi+County%2C+Missouri%2C+USA&format=jsonv2&addressdetails=1&limit=1\n",
      "Status code 429 from https://nominatim.openstreetmap.org/search: ERROR - 429 Client Error: Too Many Requests for url: https://nominatim.openstreetmap.org/search?q=Moniteau+County%2C+Missouri%2C+USA&format=jsonv2&addressdetails=1&limit=1\n",
      "Status code 429 from https://nominatim.openstreetmap.org/search: ERROR - 429 Client Error: Too Many Requests for url: https://nominatim.openstreetmap.org/search?q=Monroe+County%2C+Missouri%2C+USA&format=jsonv2&addressdetails=1&limit=1\n",
      "Status code Unknown from https://nominatim.openstreetmap.org/search: ERROR - HTTPSConnectionPool(host='nominatim.openstreetmap.org', port=443): Max retries exceeded with url: /search?q=Ashland+County%2C+Ohio%2C+USA&format=jsonv2&addressdetails=1&limit=1 (Caused by ConnectTimeoutError(<urllib3.connection.VerifiedHTTPSConnection object at 0x7f70847b7780>, 'Connection to nominatim.openstreetmap.org timed out. (connect timeout=5.0)'))\n",
      "Status code 429 from https://nominatim.openstreetmap.org/search: ERROR - 429 Client Error: Too Many Requests for url: https://nominatim.openstreetmap.org/search?q=Goliad+County%2C+Texas%2C+USA&format=jsonv2&addressdetails=1&limit=1\n",
      "Status code 429 from https://nominatim.openstreetmap.org/search: ERROR - 429 Client Error: Too Many Requests for url: https://nominatim.openstreetmap.org/search?q=Montgomery+County%2C+Missouri%2C+USA&format=jsonv2&addressdetails=1&limit=1\n",
      "Status code 429 from https://nominatim.openstreetmap.org/search: ERROR - 429 Client Error: Too Many Requests for url: https://nominatim.openstreetmap.org/search?q=Ashtabula+County%2C+Ohio%2C+USA&format=jsonv2&addressdetails=1&limit=1\n",
      "Status code 429 from https://nominatim.openstreetmap.org/search: ERROR - 429 Client Error: Too Many Requests for url: https://nominatim.openstreetmap.org/search?q=Gonzales+County%2C+Texas%2C+USA&format=jsonv2&addressdetails=1&limit=1\n",
      "Status code 429 from https://nominatim.openstreetmap.org/search: ERROR - 429 Client Error: Too Many Requests for url: https://nominatim.openstreetmap.org/search?q=Athens+County%2C+Ohio%2C+USA&format=jsonv2&addressdetails=1&limit=1\n",
      "Status code 429 from https://nominatim.openstreetmap.org/search: ERROR - 429 Client Error: Too Many Requests for url: https://nominatim.openstreetmap.org/search?q=Morgan+County%2C+Missouri%2C+USA&format=jsonv2&addressdetails=1&limit=1\n",
      "Status code 429 from https://nominatim.openstreetmap.org/search: ERROR - 429 Client Error: Too Many Requests for url: https://nominatim.openstreetmap.org/search?q=Gray+County%2C+Texas%2C+USA&format=jsonv2&addressdetails=1&limit=1\n",
      "Status code 429 from https://nominatim.openstreetmap.org/search: ERROR - 429 Client Error: Too Many Requests for url: https://nominatim.openstreetmap.org/search?q=Auglaize+County%2C+Ohio%2C+USA&format=jsonv2&addressdetails=1&limit=1\n",
      "Status code 429 from https://nominatim.openstreetmap.org/search: ERROR - 429 Client Error: Too Many Requests for url: https://nominatim.openstreetmap.org/search?q=New+Madrid+County%2C+Missouri%2C+USA&format=jsonv2&addressdetails=1&limit=1\n",
      "Status code 429 from https://nominatim.openstreetmap.org/search: ERROR - 429 Client Error: Too Many Requests for url: https://nominatim.openstreetmap.org/search?q=Belmont+County%2C+Ohio%2C+USA&format=jsonv2&addressdetails=1&limit=1\n",
      "Status code 429 from https://nominatim.openstreetmap.org/search: ERROR - 429 Client Error: Too Many Requests for url: https://nominatim.openstreetmap.org/search?q=Newton+County%2C+Missouri%2C+USA&format=jsonv2&addressdetails=1&limit=1\n",
      "Status code 429 from https://nominatim.openstreetmap.org/search: ERROR - 429 Client Error: Too Many Requests for url: https://nominatim.openstreetmap.org/search?q=Nodaway+County%2C+Missouri%2C+USA&format=jsonv2&addressdetails=1&limit=1\n",
      "Status code 429 from https://nominatim.openstreetmap.org/search: ERROR - 429 Client Error: Too Many Requests for url: https://nominatim.openstreetmap.org/search?q=Brown+County%2C+Ohio%2C+USA&format=jsonv2&addressdetails=1&limit=1\n",
      "Status code 429 from https://nominatim.openstreetmap.org/search: ERROR - 429 Client Error: Too Many Requests for url: https://nominatim.openstreetmap.org/search?q=Butler+County%2C+Ohio%2C+USA&format=jsonv2&addressdetails=1&limit=1\n",
      "Status code 429 from https://nominatim.openstreetmap.org/search: ERROR - 429 Client Error: Too Many Requests for url: https://nominatim.openstreetmap.org/search?q=Oregon+County%2C+Missouri%2C+USA&format=jsonv2&addressdetails=1&limit=1\n",
      "Status code 429 from https://nominatim.openstreetmap.org/search: ERROR - 429 Client Error: Too Many Requests for url: https://nominatim.openstreetmap.org/search?q=Carroll+County%2C+Ohio%2C+USA&format=jsonv2&addressdetails=1&limit=1\n",
      "Status code 429 from https://nominatim.openstreetmap.org/search: ERROR - 429 Client Error: Too Many Requests for url: https://nominatim.openstreetmap.org/search?q=Osage+County%2C+Missouri%2C+USA&format=jsonv2&addressdetails=1&limit=1\n",
      "Status code 429 from https://nominatim.openstreetmap.org/search: ERROR - 429 Client Error: Too Many Requests for url: https://nominatim.openstreetmap.org/search?q=Ozark+County%2C+Missouri%2C+USA&format=jsonv2&addressdetails=1&limit=1\n",
      "Status code 429 from https://nominatim.openstreetmap.org/search: ERROR - 429 Client Error: Too Many Requests for url: https://nominatim.openstreetmap.org/search?q=Champaign+County%2C+Ohio%2C+USA&format=jsonv2&addressdetails=1&limit=1\n",
      "Status code 429 from https://nominatim.openstreetmap.org/search: ERROR - 429 Client Error: Too Many Requests for url: https://nominatim.openstreetmap.org/search?q=Clark+County%2C+Ohio%2C+USA&format=jsonv2&addressdetails=1&limit=1\n",
      "Status code 429 from https://nominatim.openstreetmap.org/search: ERROR - 429 Client Error: Too Many Requests for url: https://nominatim.openstreetmap.org/search?q=Pemiscot+County%2C+Missouri%2C+USA&format=jsonv2&addressdetails=1&limit=1\n",
      "Status code 429 from https://nominatim.openstreetmap.org/search: ERROR - 429 Client Error: Too Many Requests for url: https://nominatim.openstreetmap.org/search?q=Clermont+County%2C+Ohio%2C+USA&format=jsonv2&addressdetails=1&limit=1\n",
      "Status code 429 from https://nominatim.openstreetmap.org/search: ERROR - 429 Client Error: Too Many Requests for url: https://nominatim.openstreetmap.org/search?q=Perry+County%2C+Missouri%2C+USA&format=jsonv2&addressdetails=1&limit=1\n",
      "Status code 429 from https://nominatim.openstreetmap.org/search: ERROR - 429 Client Error: Too Many Requests for url: https://nominatim.openstreetmap.org/search?q=Pettis+County%2C+Missouri%2C+USA&format=jsonv2&addressdetails=1&limit=1\n",
      "Status code 429 from https://nominatim.openstreetmap.org/search: ERROR - 429 Client Error: Too Many Requests for url: https://nominatim.openstreetmap.org/search?q=Clinton+County%2C+Ohio%2C+USA&format=jsonv2&addressdetails=1&limit=1\n",
      "Status code 429 from https://nominatim.openstreetmap.org/search: ERROR - 429 Client Error: Too Many Requests for url: https://nominatim.openstreetmap.org/search?q=Phelps+County%2C+Missouri%2C+USA&format=jsonv2&addressdetails=1&limit=1\n",
      "Status code 429 from https://nominatim.openstreetmap.org/search: ERROR - 429 Client Error: Too Many Requests for url: https://nominatim.openstreetmap.org/search?q=Columbiana+County%2C+Ohio%2C+USA&format=jsonv2&addressdetails=1&limit=1\n",
      "Status code Unknown from https://nominatim.openstreetmap.org/search: ERROR - HTTPSConnectionPool(host='nominatim.openstreetmap.org', port=443): Max retries exceeded with url: /search?q=Grayson+County%2C+Texas%2C+USA&format=jsonv2&addressdetails=1&limit=1 (Caused by ConnectTimeoutError(<urllib3.connection.VerifiedHTTPSConnection object at 0x7f70849679b0>, 'Connection to nominatim.openstreetmap.org timed out. (connect timeout=5.0)'))\n"
     ]
    },
    {
     "name": "stderr",
     "output_type": "stream",
     "text": [
      "Status code 429 from https://nominatim.openstreetmap.org/search: ERROR - 429 Client Error: Too Many Requests for url: https://nominatim.openstreetmap.org/search?q=Coshocton+County%2C+Ohio%2C+USA&format=jsonv2&addressdetails=1&limit=1\n",
      "Status code 429 from https://nominatim.openstreetmap.org/search: ERROR - 429 Client Error: Too Many Requests for url: https://nominatim.openstreetmap.org/search?q=Gregg+County%2C+Texas%2C+USA&format=jsonv2&addressdetails=1&limit=1\n",
      "Status code 429 from https://nominatim.openstreetmap.org/search: ERROR - 429 Client Error: Too Many Requests for url: https://nominatim.openstreetmap.org/search?q=Crawford+County%2C+Ohio%2C+USA&format=jsonv2&addressdetails=1&limit=1\n",
      "Status code 429 from https://nominatim.openstreetmap.org/search: ERROR - 429 Client Error: Too Many Requests for url: https://nominatim.openstreetmap.org/search?q=Cuyahoga+County%2C+Ohio%2C+USA&format=jsonv2&addressdetails=1&limit=1\n",
      "Status code 429 from https://nominatim.openstreetmap.org/search: ERROR - 429 Client Error: Too Many Requests for url: https://nominatim.openstreetmap.org/search?q=Grimes+County%2C+Texas%2C+USA&format=jsonv2&addressdetails=1&limit=1\n",
      "Status code 429 from https://nominatim.openstreetmap.org/search: ERROR - 429 Client Error: Too Many Requests for url: https://nominatim.openstreetmap.org/search?q=Pike+County%2C+Missouri%2C+USA&format=jsonv2&addressdetails=1&limit=1\n",
      "Status code 429 from https://nominatim.openstreetmap.org/search: ERROR - 429 Client Error: Too Many Requests for url: https://nominatim.openstreetmap.org/search?q=Darke+County%2C+Ohio%2C+USA&format=jsonv2&addressdetails=1&limit=1\n",
      "Status code 429 from https://nominatim.openstreetmap.org/search: ERROR - 429 Client Error: Too Many Requests for url: https://nominatim.openstreetmap.org/search?q=Guadalupe+County%2C+Texas%2C+USA&format=jsonv2&addressdetails=1&limit=1\n",
      "Status code 429 from https://nominatim.openstreetmap.org/search: ERROR - 429 Client Error: Too Many Requests for url: https://nominatim.openstreetmap.org/search?q=Defiance+County%2C+Ohio%2C+USA&format=jsonv2&addressdetails=1&limit=1\n",
      "Status code 429 from https://nominatim.openstreetmap.org/search: ERROR - 429 Client Error: Too Many Requests for url: https://nominatim.openstreetmap.org/search?q=Hale+County%2C+Texas%2C+USA&format=jsonv2&addressdetails=1&limit=1\n",
      "Status code 429 from https://nominatim.openstreetmap.org/search: ERROR - 429 Client Error: Too Many Requests for url: https://nominatim.openstreetmap.org/search?q=Hall+County%2C+Texas%2C+USA&format=jsonv2&addressdetails=1&limit=1\n",
      "Status code 429 from https://nominatim.openstreetmap.org/search: ERROR - 429 Client Error: Too Many Requests for url: https://nominatim.openstreetmap.org/search?q=Delaware+County%2C+Ohio%2C+USA&format=jsonv2&addressdetails=1&limit=1\n",
      "Status code 429 from https://nominatim.openstreetmap.org/search: ERROR - 429 Client Error: Too Many Requests for url: https://nominatim.openstreetmap.org/search?q=Erie+County%2C+Ohio%2C+USA&format=jsonv2&addressdetails=1&limit=1\n",
      "Status code 429 from https://nominatim.openstreetmap.org/search: ERROR - 429 Client Error: Too Many Requests for url: https://nominatim.openstreetmap.org/search?q=Fairfield+County%2C+Ohio%2C+USA&format=jsonv2&addressdetails=1&limit=1\n",
      "Status code 429 from https://nominatim.openstreetmap.org/search: ERROR - 429 Client Error: Too Many Requests for url: https://nominatim.openstreetmap.org/search?q=Fayette+County%2C+Ohio%2C+USA&format=jsonv2&addressdetails=1&limit=1\n",
      "Status code 429 from https://nominatim.openstreetmap.org/search: ERROR - 429 Client Error: Too Many Requests for url: https://nominatim.openstreetmap.org/search?q=Franklin+County%2C+Ohio%2C+USA&format=jsonv2&addressdetails=1&limit=1\n",
      "Status code 429 from https://nominatim.openstreetmap.org/search: ERROR - 429 Client Error: Too Many Requests for url: https://nominatim.openstreetmap.org/search?q=Fulton+County%2C+Ohio%2C+USA&format=jsonv2&addressdetails=1&limit=1\n",
      "Status code 429 from https://nominatim.openstreetmap.org/search: ERROR - 429 Client Error: Too Many Requests for url: https://nominatim.openstreetmap.org/search?q=Gallia+County%2C+Ohio%2C+USA&format=jsonv2&addressdetails=1&limit=1\n",
      "Status code 429 from https://nominatim.openstreetmap.org/search: ERROR - 429 Client Error: Too Many Requests for url: https://nominatim.openstreetmap.org/search?q=Geauga+County%2C+Ohio%2C+USA&format=jsonv2&addressdetails=1&limit=1\n",
      "Status code 429 from https://nominatim.openstreetmap.org/search: ERROR - 429 Client Error: Too Many Requests for url: https://nominatim.openstreetmap.org/search?q=Greene+County%2C+Ohio%2C+USA&format=jsonv2&addressdetails=1&limit=1\n",
      "Status code 429 from https://nominatim.openstreetmap.org/search: ERROR - 429 Client Error: Too Many Requests for url: https://nominatim.openstreetmap.org/search?q=Guernsey+County%2C+Ohio%2C+USA&format=jsonv2&addressdetails=1&limit=1\n",
      "Status code 429 from https://nominatim.openstreetmap.org/search: ERROR - 429 Client Error: Too Many Requests for url: https://nominatim.openstreetmap.org/search?q=Hamilton+County%2C+Ohio%2C+USA&format=jsonv2&addressdetails=1&limit=1\n",
      "Status code Unknown from https://nominatim.openstreetmap.org/search: ERROR - HTTPSConnectionPool(host='nominatim.openstreetmap.org', port=443): Max retries exceeded with url: /search?q=Platte+County%2C+Missouri%2C+USA&format=jsonv2&addressdetails=1&limit=1 (Caused by ConnectTimeoutError(<urllib3.connection.VerifiedHTTPSConnection object at 0x7f70847a6518>, 'Connection to nominatim.openstreetmap.org timed out. (connect timeout=5.0)'))\n",
      "Status code 429 from https://nominatim.openstreetmap.org/search: ERROR - 429 Client Error: Too Many Requests for url: https://nominatim.openstreetmap.org/search?q=Hancock+County%2C+Ohio%2C+USA&format=jsonv2&addressdetails=1&limit=1\n",
      "Status code 429 from https://nominatim.openstreetmap.org/search: ERROR - 429 Client Error: Too Many Requests for url: https://nominatim.openstreetmap.org/search?q=Polk+County%2C+Missouri%2C+USA&format=jsonv2&addressdetails=1&limit=1\n",
      "Status code 429 from https://nominatim.openstreetmap.org/search: ERROR - 429 Client Error: Too Many Requests for url: https://nominatim.openstreetmap.org/search?q=Hardin+County%2C+Ohio%2C+USA&format=jsonv2&addressdetails=1&limit=1\n",
      "Status code 429 from https://nominatim.openstreetmap.org/search: ERROR - 429 Client Error: Too Many Requests for url: https://nominatim.openstreetmap.org/search?q=Pulaski+County%2C+Missouri%2C+USA&format=jsonv2&addressdetails=1&limit=1\n",
      "Status code 429 from https://nominatim.openstreetmap.org/search: ERROR - 429 Client Error: Too Many Requests for url: https://nominatim.openstreetmap.org/search?q=Harrison+County%2C+Ohio%2C+USA&format=jsonv2&addressdetails=1&limit=1\n",
      "Status code 429 from https://nominatim.openstreetmap.org/search: ERROR - 429 Client Error: Too Many Requests for url: https://nominatim.openstreetmap.org/search?q=Putnam+County%2C+Missouri%2C+USA&format=jsonv2&addressdetails=1&limit=1\n",
      "Status code 429 from https://nominatim.openstreetmap.org/search: ERROR - 429 Client Error: Too Many Requests for url: https://nominatim.openstreetmap.org/search?q=Henry+County%2C+Ohio%2C+USA&format=jsonv2&addressdetails=1&limit=1\n",
      "Status code 429 from https://nominatim.openstreetmap.org/search: ERROR - 429 Client Error: Too Many Requests for url: https://nominatim.openstreetmap.org/search?q=Ralls+County%2C+Missouri%2C+USA&format=jsonv2&addressdetails=1&limit=1\n",
      "Status code 429 from https://nominatim.openstreetmap.org/search: ERROR - 429 Client Error: Too Many Requests for url: https://nominatim.openstreetmap.org/search?q=Highland+County%2C+Ohio%2C+USA&format=jsonv2&addressdetails=1&limit=1\n",
      "Status code 429 from https://nominatim.openstreetmap.org/search: ERROR - 429 Client Error: Too Many Requests for url: https://nominatim.openstreetmap.org/search?q=Randolph+County%2C+Missouri%2C+USA&format=jsonv2&addressdetails=1&limit=1\n",
      "Status code 429 from https://nominatim.openstreetmap.org/search: ERROR - 429 Client Error: Too Many Requests for url: https://nominatim.openstreetmap.org/search?q=Hocking+County%2C+Ohio%2C+USA&format=jsonv2&addressdetails=1&limit=1\n",
      "Status code 429 from https://nominatim.openstreetmap.org/search: ERROR - 429 Client Error: Too Many Requests for url: https://nominatim.openstreetmap.org/search?q=Holmes+County%2C+Ohio%2C+USA&format=jsonv2&addressdetails=1&limit=1\n"
     ]
    },
    {
     "name": "stderr",
     "output_type": "stream",
     "text": [
      "Status code 429 from https://nominatim.openstreetmap.org/search: ERROR - 429 Client Error: Too Many Requests for url: https://nominatim.openstreetmap.org/search?q=Ray+County%2C+Missouri%2C+USA&format=jsonv2&addressdetails=1&limit=1\n",
      "Status code 429 from https://nominatim.openstreetmap.org/search: ERROR - 429 Client Error: Too Many Requests for url: https://nominatim.openstreetmap.org/search?q=Huron+County%2C+Ohio%2C+USA&format=jsonv2&addressdetails=1&limit=1\n",
      "Status code 429 from https://nominatim.openstreetmap.org/search: ERROR - 429 Client Error: Too Many Requests for url: https://nominatim.openstreetmap.org/search?q=Reynolds+County%2C+Missouri%2C+USA&format=jsonv2&addressdetails=1&limit=1\n",
      "Status code 429 from https://nominatim.openstreetmap.org/search: ERROR - 429 Client Error: Too Many Requests for url: https://nominatim.openstreetmap.org/search?q=Jackson+County%2C+Ohio%2C+USA&format=jsonv2&addressdetails=1&limit=1\n",
      "Status code 429 from https://nominatim.openstreetmap.org/search: ERROR - 429 Client Error: Too Many Requests for url: https://nominatim.openstreetmap.org/search?q=Jefferson+County%2C+Ohio%2C+USA&format=jsonv2&addressdetails=1&limit=1\n",
      "Status code 429 from https://nominatim.openstreetmap.org/search: ERROR - 429 Client Error: Too Many Requests for url: https://nominatim.openstreetmap.org/search?q=Knox+County%2C+Ohio%2C+USA&format=jsonv2&addressdetails=1&limit=1\n",
      "Status code 429 from https://nominatim.openstreetmap.org/search: ERROR - 429 Client Error: Too Many Requests for url: https://nominatim.openstreetmap.org/search?q=Lake+County%2C+Ohio%2C+USA&format=jsonv2&addressdetails=1&limit=1\n",
      "Status code 429 from https://nominatim.openstreetmap.org/search: ERROR - 429 Client Error: Too Many Requests for url: https://nominatim.openstreetmap.org/search?q=Lawrence+County%2C+Ohio%2C+USA&format=jsonv2&addressdetails=1&limit=1\n",
      "Status code 429 from https://nominatim.openstreetmap.org/search: ERROR - 429 Client Error: Too Many Requests for url: https://nominatim.openstreetmap.org/search?q=Licking+County%2C+Ohio%2C+USA&format=jsonv2&addressdetails=1&limit=1\n",
      "Status code 429 from https://nominatim.openstreetmap.org/search: ERROR - 429 Client Error: Too Many Requests for url: https://nominatim.openstreetmap.org/search?q=Logan+County%2C+Ohio%2C+USA&format=jsonv2&addressdetails=1&limit=1\n",
      "Status code 429 from https://nominatim.openstreetmap.org/search: ERROR - 429 Client Error: Too Many Requests for url: https://nominatim.openstreetmap.org/search?q=Lorain+County%2C+Ohio%2C+USA&format=jsonv2&addressdetails=1&limit=1\n",
      "Status code 429 from https://nominatim.openstreetmap.org/search: ERROR - 429 Client Error: Too Many Requests for url: https://nominatim.openstreetmap.org/search?q=Lucas+County%2C+Ohio%2C+USA&format=jsonv2&addressdetails=1&limit=1\n",
      "Status code 429 from https://nominatim.openstreetmap.org/search: ERROR - 429 Client Error: Too Many Requests for url: https://nominatim.openstreetmap.org/search?q=Madison+County%2C+Ohio%2C+USA&format=jsonv2&addressdetails=1&limit=1\n",
      "Status code 429 from https://nominatim.openstreetmap.org/search: ERROR - 429 Client Error: Too Many Requests for url: https://nominatim.openstreetmap.org/search?q=Mahoning+County%2C+Ohio%2C+USA&format=jsonv2&addressdetails=1&limit=1\n",
      "Status code 429 from https://nominatim.openstreetmap.org/search: ERROR - 429 Client Error: Too Many Requests for url: https://nominatim.openstreetmap.org/search?q=Marion+County%2C+Ohio%2C+USA&format=jsonv2&addressdetails=1&limit=1\n",
      "Status code 429 from https://nominatim.openstreetmap.org/search: ERROR - 429 Client Error: Too Many Requests for url: https://nominatim.openstreetmap.org/search?q=Medina+County%2C+Ohio%2C+USA&format=jsonv2&addressdetails=1&limit=1\n",
      "Status code 429 from https://nominatim.openstreetmap.org/search: ERROR - 429 Client Error: Too Many Requests for url: https://nominatim.openstreetmap.org/search?q=Meigs+County%2C+Ohio%2C+USA&format=jsonv2&addressdetails=1&limit=1\n"
     ]
    }
   ],
   "source": [
    "df_counties_populations = pd.read_csv(data_dir+'co-est2019-alldata.csv',encoding=\"ISO-8859-1\")[['STATE','COUNTY','STNAME','CTYNAME','POPESTIMATE2019']]\n",
    "df_counties_populations = df_counties_populations[(df_counties_populations['COUNTY']!=0) & (df_counties_populations['STNAME'] != df_counties_populations['CTYNAME'])]\n",
    "df_counties_populations['geocode'] = df_counties_populations['CTYNAME'] + ', ' +df_counties_populations['STNAME'] + ', USA'\n",
    "df_counties_populations[['latitude','longitude']] = df_counties_populations['geocode'].parallel_apply(geocode)\n",
    "# res = ddata.map_partitions(geocode).compute(get=get)\n",
    "# df_counties_popluations = df_counties_populations['geocode'].apply(geocode)"
   ]
  },
  {
   "cell_type": "code",
   "execution_count": 28,
   "metadata": {},
   "outputs": [
    {
     "data": {
      "text/html": [
       "<div>\n",
       "<style scoped>\n",
       "    .dataframe tbody tr th:only-of-type {\n",
       "        vertical-align: middle;\n",
       "    }\n",
       "\n",
       "    .dataframe tbody tr th {\n",
       "        vertical-align: top;\n",
       "    }\n",
       "\n",
       "    .dataframe thead th {\n",
       "        text-align: right;\n",
       "    }\n",
       "</style>\n",
       "<table border=\"1\" class=\"dataframe\">\n",
       "  <thead>\n",
       "    <tr style=\"text-align: right;\">\n",
       "      <th></th>\n",
       "      <th>STATE</th>\n",
       "      <th>COUNTY</th>\n",
       "      <th>STNAME</th>\n",
       "      <th>CTYNAME</th>\n",
       "      <th>POPESTIMATE2019</th>\n",
       "      <th>geocode</th>\n",
       "    </tr>\n",
       "  </thead>\n",
       "  <tbody>\n",
       "    <tr>\n",
       "      <th>1</th>\n",
       "      <td>1</td>\n",
       "      <td>1</td>\n",
       "      <td>Alabama</td>\n",
       "      <td>Autauga County</td>\n",
       "      <td>55869</td>\n",
       "      <td>Autauga County, Alabama, USA</td>\n",
       "    </tr>\n",
       "    <tr>\n",
       "      <th>2</th>\n",
       "      <td>1</td>\n",
       "      <td>3</td>\n",
       "      <td>Alabama</td>\n",
       "      <td>Baldwin County</td>\n",
       "      <td>223234</td>\n",
       "      <td>Baldwin County, Alabama, USA</td>\n",
       "    </tr>\n",
       "    <tr>\n",
       "      <th>3</th>\n",
       "      <td>1</td>\n",
       "      <td>5</td>\n",
       "      <td>Alabama</td>\n",
       "      <td>Barbour County</td>\n",
       "      <td>24686</td>\n",
       "      <td>Barbour County, Alabama, USA</td>\n",
       "    </tr>\n",
       "    <tr>\n",
       "      <th>4</th>\n",
       "      <td>1</td>\n",
       "      <td>7</td>\n",
       "      <td>Alabama</td>\n",
       "      <td>Bibb County</td>\n",
       "      <td>22394</td>\n",
       "      <td>Bibb County, Alabama, USA</td>\n",
       "    </tr>\n",
       "    <tr>\n",
       "      <th>5</th>\n",
       "      <td>1</td>\n",
       "      <td>9</td>\n",
       "      <td>Alabama</td>\n",
       "      <td>Blount County</td>\n",
       "      <td>57826</td>\n",
       "      <td>Blount County, Alabama, USA</td>\n",
       "    </tr>\n",
       "  </tbody>\n",
       "</table>\n",
       "</div>"
      ],
      "text/plain": [
       "   STATE  COUNTY   STNAME         CTYNAME  POPESTIMATE2019  \\\n",
       "1      1       1  Alabama  Autauga County            55869   \n",
       "2      1       3  Alabama  Baldwin County           223234   \n",
       "3      1       5  Alabama  Barbour County            24686   \n",
       "4      1       7  Alabama     Bibb County            22394   \n",
       "5      1       9  Alabama   Blount County            57826   \n",
       "\n",
       "                        geocode  \n",
       "1  Autauga County, Alabama, USA  \n",
       "2  Baldwin County, Alabama, USA  \n",
       "3  Barbour County, Alabama, USA  \n",
       "4     Bibb County, Alabama, USA  \n",
       "5   Blount County, Alabama, USA  "
      ]
     },
     "execution_count": 28,
     "metadata": {},
     "output_type": "execute_result"
    }
   ],
   "source": [
    "df_counties_populations.head()"
   ]
  }
 ],
 "metadata": {
  "kernelspec": {
   "display_name": "Python 3",
   "language": "python",
   "name": "python3"
  },
  "language_info": {
   "codemirror_mode": {
    "name": "ipython",
    "version": 3
   },
   "file_extension": ".py",
   "mimetype": "text/x-python",
   "name": "python",
   "nbconvert_exporter": "python",
   "pygments_lexer": "ipython3",
   "version": "3.7.3"
  }
 },
 "nbformat": 4,
 "nbformat_minor": 2
}
